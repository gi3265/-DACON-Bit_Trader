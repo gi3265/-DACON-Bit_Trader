{
  "nbformat": 4,
  "nbformat_minor": 0,
  "metadata": {
    "colab": {
      "name": "[Dacon]Bit_Trader_LSTM.ipynb",
      "provenance": [],
      "mount_file_id": "1EY41gQ32ER-SyZ_J_rIHYs06Mb58EzdW",
      "authorship_tag": "ABX9TyMa6waN77db2wdmGeYMsHHm",
      "include_colab_link": true
    },
    "kernelspec": {
      "name": "python3",
      "display_name": "Python 3"
    },
    "language_info": {
      "name": "python"
    },
    "accelerator": "GPU"
  },
  "cells": [
    {
      "cell_type": "markdown",
      "metadata": {
        "id": "view-in-github",
        "colab_type": "text"
      },
      "source": [
        "<a href=\"https://colab.research.google.com/github/gi3265/-DACON-Bit_Trader/blob/main/%5BDacon%5DBit_Trader_LSTM.ipynb\" target=\"_parent\"><img src=\"https://colab.research.google.com/assets/colab-badge.svg\" alt=\"Open In Colab\"/></a>"
      ]
    },
    {
      "cell_type": "markdown",
      "metadata": {
        "id": "swedish-characterization"
      },
      "source": [
        "# 1. Library Import"
      ]
    },
    {
      "cell_type": "code",
      "metadata": {
        "colab": {
          "base_uri": "https://localhost:8080/"
        },
        "id": "hBGfT53vZDlK",
        "outputId": "ed44b711-e056-49c4-be5a-9acf2a72670b"
      },
      "source": [
        "from google.colab import drive\n",
        "drive.mount('/content/drive')"
      ],
      "execution_count": null,
      "outputs": [
        {
          "output_type": "stream",
          "text": [
            "Drive already mounted at /content/drive; to attempt to forcibly remount, call drive.mount(\"/content/drive\", force_remount=True).\n"
          ],
          "name": "stdout"
        }
      ]
    },
    {
      "cell_type": "code",
      "metadata": {
        "id": "republican-principle"
      },
      "source": [
        "import tensorflow as tf\n",
        "physical_devices = tf.config.list_physical_devices('GPU') \n",
        "tf.config.experimental.set_memory_growth(physical_devices[0], True)\n",
        "from tensorflow.keras.models import Sequential\n",
        "from tensorflow.keras.layers import Dense, LSTM, Reshape, Flatten\n",
        "import numpy as np\n",
        "import pandas as pd\n",
        "# import os.path\n",
        "import matplotlib.pyplot as plt\n",
        "from tqdm import tqdm\n",
        "import warnings\n",
        "warnings.filterwarnings(\"ignore\")"
      ],
      "execution_count": null,
      "outputs": []
    },
    {
      "cell_type": "markdown",
      "metadata": {
        "id": "iraqi-musical"
      },
      "source": [
        "# 2. 데이터 가공"
      ]
    },
    {
      "cell_type": "markdown",
      "metadata": {
        "id": "preliminary-monitoring"
      },
      "source": [
        "## 2.1 read_csv"
      ]
    },
    {
      "cell_type": "code",
      "metadata": {
        "id": "medieval-retention"
      },
      "source": [
        "data_path = '/content/drive/MyDrive/Dacon_Data/[DACON]BIt_Trader/data'\n",
        "train_x_df = pd.read_csv(data_path  + \"/train_x_df.csv\")\n",
        "train_y_df = pd.read_csv(data_path  + \"/train_y_df.csv\")\n",
        "test_x_df = pd.read_csv(data_path  + \"/test_x_df.csv\")"
      ],
      "execution_count": null,
      "outputs": []
    },
    {
      "cell_type": "markdown",
      "metadata": {
        "id": "billion-regular"
      },
      "source": [
        "## 2.2 numpy array로 변환"
      ]
    },
    {
      "cell_type": "code",
      "metadata": {
        "id": "christian-mason"
      },
      "source": [
        "def df2d_to_array3d(df_2d):\n",
        "    # 입력 받은 2차원 데이터 프레임을 3차원 numpy array로 변경하는 함수\n",
        "    feature_size = df_2d.iloc[:,2:].shape[1]\n",
        "    time_size = len(df_2d.time.value_counts())\n",
        "    sample_size = len(df_2d.sample_id.value_counts())\n",
        "    array_3d = df_2d.iloc[:,2:].values.reshape([sample_size, time_size, feature_size])\n",
        "    return array_3d"
      ],
      "execution_count": null,
      "outputs": []
    },
    {
      "cell_type": "code",
      "metadata": {
        "id": "palestinian-french"
      },
      "source": [
        "train_x_array = df2d_to_array3d(train_x_df)   #(7362, 1380, 10)\n",
        "train_y_array = df2d_to_array3d(train_y_df)   #(7362, 120, 10)\n",
        "test_x_array = df2d_to_array3d(test_x_df)     #(529, 1380, 10)"
      ],
      "execution_count": null,
      "outputs": []
    },
    {
      "cell_type": "markdown",
      "metadata": {
        "id": "meaning-richmond"
      },
      "source": [
        "# 3. 모델 훈련하기"
      ]
    },
    {
      "cell_type": "markdown",
      "metadata": {
        "id": "extended-escape"
      },
      "source": [
        "## 3.1 훈련 층 쌓기(모델 구성)"
      ]
    },
    {
      "cell_type": "code",
      "metadata": {
        "id": "iKBzbC3Eu4N6"
      },
      "source": [
        "model = Sequential()\n",
        "model.add(LSTM(64, input_shape = [1380, 1]))\n",
        "model.add(Dense(240, activation = 'relu'))\n",
        "model.add(Dense(120, activation = 'relu'))\n",
        "model.add(Dense(120, activation = 'relu'))\n",
        "model.add(Reshape([120,1]))"
      ],
      "execution_count": null,
      "outputs": []
    },
    {
      "cell_type": "code",
      "metadata": {
        "id": "minus-occasions"
      },
      "source": [
        "# model=Sequential([\n",
        "# LSTM(units = 32, input_shape=[1380, 1]),   #activation = 'relu'넣으니 학습 제대로 안 됐음.\n",
        "# Dense(120 * 1),\n",
        "# Reshape([120, 1])\n",
        "# ])"
      ],
      "execution_count": null,
      "outputs": []
    },
    {
      "cell_type": "code",
      "metadata": {
        "id": "innocent-figure"
      },
      "source": [
        "model.compile(optimizer = 'adam', loss = 'mse', metrics = ['mse'])\n",
        "from keras.callbacks import EarlyStopping\n",
        "early_stopping = EarlyStopping(patience = 5)\n",
        "\n",
        "\n"
      ],
      "execution_count": null,
      "outputs": []
    },
    {
      "cell_type": "code",
      "metadata": {
        "id": "freelance-texture",
        "colab": {
          "base_uri": "https://localhost:8080/"
        },
        "outputId": "93aba5d9-8897-4c6e-e0f8-1e291a52385f"
      },
      "source": [
        "model.summary()"
      ],
      "execution_count": null,
      "outputs": [
        {
          "output_type": "stream",
          "text": [
            "Model: \"sequential\"\n",
            "_________________________________________________________________\n",
            "Layer (type)                 Output Shape              Param #   \n",
            "=================================================================\n",
            "lstm (LSTM)                  (None, 64)                16896     \n",
            "_________________________________________________________________\n",
            "dense (Dense)                (None, 240)               15600     \n",
            "_________________________________________________________________\n",
            "dense_1 (Dense)              (None, 120)               28920     \n",
            "_________________________________________________________________\n",
            "dense_2 (Dense)              (None, 120)               14520     \n",
            "_________________________________________________________________\n",
            "reshape (Reshape)            (None, 120, 1)            0         \n",
            "=================================================================\n",
            "Total params: 75,936\n",
            "Trainable params: 75,936\n",
            "Non-trainable params: 0\n",
            "_________________________________________________________________\n"
          ],
          "name": "stdout"
        }
      ]
    },
    {
      "cell_type": "markdown",
      "metadata": {
        "id": "interested-pickup"
      },
      "source": [
        "## 3.2 validation set 훈련(sample_id: 0~529)"
      ]
    },
    {
      "cell_type": "markdown",
      "metadata": {
        "id": "finished-yesterday"
      },
      "source": [
        "### 3.2.1 validation 데이터 생성하기"
      ]
    },
    {
      "cell_type": "code",
      "metadata": {
        "id": "legendary-england"
      },
      "source": [
        "# train 데이터 상단의 300개 샘플로 validation set를 구성하여 학습 및 추론\n",
        "valid_x_df = train_x_df[train_x_df.sample_id < 529]\n",
        "valid_y_df = train_y_df[train_y_df.sample_id < 529]\n",
        "\n",
        "valid_x_array = df2d_to_array3d(valid_x_df)\n",
        "valid_y_array = df2d_to_array3d(valid_y_df)\n",
        "valid_pred_array = np.zeros([len(valid_x_array), 120, 1])"
      ],
      "execution_count": null,
      "outputs": []
    },
    {
      "cell_type": "markdown",
      "metadata": {
        "id": "strategic-declaration"
      },
      "source": [
        "### 3.2.2 학습 및 test_x 예측하고 해당 내용 test_pred_array에 기록"
      ]
    },
    {
      "cell_type": "code",
      "metadata": {
        "scrolled": true,
        "tags": [],
        "id": "grave-lighter",
        "colab": {
          "base_uri": "https://localhost:8080/"
        },
        "outputId": "ef761d4c-b8d2-4e38-9a7e-3bbf8ac876cb"
      },
      "source": [
        "test_pred_array = np.zeros([529, 120, 1])\n",
        "\n",
        "for idx in tqdm(range(valid_x_array.shape[0])):\n",
        "    #학습\n",
        "    x_series = np.reshape(valid_x_array[idx,:,1], (1, 1380,1))\n",
        "    y_series = np.reshape(valid_y_array[idx,:,1], (1, 120, 1))\n",
        "    test_x_series = np.reshape(test_x_array[idx,:,1], (1, 1380,1)) #각 open 값의 3차원형\n",
        "\n",
        "    preds = model.predict(test_x_series)\n",
        "    test_pred_array[idx,:] = preds\n",
        "\n",
        "    model.fit(x_series, y_series, epochs = 10, batch_size = 32)\n",
        "\n",
        "    #여기서 predict를 바로 해야 함\n",
        "    preds = model.predict(test_x_series)\n",
        "    test_pred_array[idx,:] = preds"
      ],
      "execution_count": null,
      "outputs": [
        {
          "output_type": "stream",
          "text": [
            "\r  0%|          | 0/529 [00:00<?, ?it/s]"
          ],
          "name": "stderr"
        },
        {
          "output_type": "stream",
          "text": [
            "Epoch 1/10\n",
            "1/1 [==============================] - 1s 1s/step - loss: 0.9482 - mse: 0.9482\n",
            "Epoch 2/10\n",
            "1/1 [==============================] - 0s 59ms/step - loss: 0.9243 - mse: 0.9243\n",
            "Epoch 3/10\n",
            "1/1 [==============================] - 0s 60ms/step - loss: 0.8965 - mse: 0.8965\n",
            "Epoch 4/10\n",
            "1/1 [==============================] - 0s 60ms/step - loss: 0.8632 - mse: 0.8632\n",
            "Epoch 5/10\n",
            "1/1 [==============================] - 0s 61ms/step - loss: 0.8233 - mse: 0.8233\n",
            "Epoch 6/10\n",
            "1/1 [==============================] - 0s 60ms/step - loss: 0.7748 - mse: 0.7748\n",
            "Epoch 7/10\n",
            "1/1 [==============================] - 0s 62ms/step - loss: 0.7161 - mse: 0.7161\n",
            "Epoch 8/10\n",
            "1/1 [==============================] - 0s 57ms/step - loss: 0.6489 - mse: 0.6489\n",
            "Epoch 9/10\n",
            "1/1 [==============================] - 0s 59ms/step - loss: 0.5790 - mse: 0.5790\n",
            "Epoch 10/10\n",
            "1/1 [==============================] - 0s 63ms/step - loss: 0.5231 - mse: 0.5231\n"
          ],
          "name": "stdout"
        },
        {
          "output_type": "stream",
          "text": [
            "\r  0%|          | 1/529 [00:33<4:55:02, 33.53s/it]"
          ],
          "name": "stderr"
        },
        {
          "output_type": "stream",
          "text": [
            "Epoch 1/10\n",
            "1/1 [==============================] - 0s 61ms/step - loss: 0.5153 - mse: 0.5153\n",
            "Epoch 2/10\n",
            "1/1 [==============================] - 0s 56ms/step - loss: 0.5341 - mse: 0.5341\n",
            "Epoch 3/10\n",
            "1/1 [==============================] - 0s 56ms/step - loss: 0.5357 - mse: 0.5357\n",
            "Epoch 4/10\n",
            "1/1 [==============================] - 0s 57ms/step - loss: 0.5102 - mse: 0.5102\n",
            "Epoch 5/10\n",
            "1/1 [==============================] - 0s 62ms/step - loss: 0.4733 - mse: 0.4733\n",
            "Epoch 6/10\n",
            "1/1 [==============================] - 0s 60ms/step - loss: 0.4405 - mse: 0.4405\n",
            "Epoch 7/10\n",
            "1/1 [==============================] - 0s 57ms/step - loss: 0.4183 - mse: 0.4183\n",
            "Epoch 8/10\n",
            "1/1 [==============================] - 0s 76ms/step - loss: 0.4072 - mse: 0.4072\n",
            "Epoch 9/10\n",
            "1/1 [==============================] - 0s 58ms/step - loss: 0.4023 - mse: 0.4023\n",
            "Epoch 10/10\n",
            "1/1 [==============================] - 0s 60ms/step - loss: 0.3984 - mse: 0.3984\n"
          ],
          "name": "stdout"
        },
        {
          "output_type": "stream",
          "text": [
            "\r  0%|          | 2/529 [00:34<3:28:18, 23.72s/it]"
          ],
          "name": "stderr"
        },
        {
          "output_type": "stream",
          "text": [
            "Epoch 1/10\n",
            "1/1 [==============================] - 0s 58ms/step - loss: 0.3889 - mse: 0.3889\n",
            "Epoch 2/10\n",
            "1/1 [==============================] - 0s 55ms/step - loss: 0.3817 - mse: 0.3817\n",
            "Epoch 3/10\n",
            "1/1 [==============================] - 0s 58ms/step - loss: 0.3731 - mse: 0.3731\n",
            "Epoch 4/10\n",
            "1/1 [==============================] - 0s 57ms/step - loss: 0.3631 - mse: 0.3631\n",
            "Epoch 5/10\n",
            "1/1 [==============================] - 0s 56ms/step - loss: 0.3547 - mse: 0.3547\n",
            "Epoch 6/10\n",
            "1/1 [==============================] - 0s 56ms/step - loss: 0.3491 - mse: 0.3491\n",
            "Epoch 7/10\n",
            "1/1 [==============================] - 0s 56ms/step - loss: 0.3462 - mse: 0.3462\n",
            "Epoch 8/10\n",
            "1/1 [==============================] - 0s 57ms/step - loss: 0.3442 - mse: 0.3442\n",
            "Epoch 9/10\n",
            "1/1 [==============================] - 0s 57ms/step - loss: 0.3416 - mse: 0.3416\n",
            "Epoch 10/10\n",
            "1/1 [==============================] - 0s 62ms/step - loss: 0.3374 - mse: 0.3374\n"
          ],
          "name": "stdout"
        },
        {
          "output_type": "stream",
          "text": [
            "\r  1%|          | 3/529 [00:35<2:27:40, 16.84s/it]"
          ],
          "name": "stderr"
        },
        {
          "output_type": "stream",
          "text": [
            "Epoch 1/10\n",
            "1/1 [==============================] - 0s 59ms/step - loss: 0.3312 - mse: 0.3312\n",
            "Epoch 2/10\n",
            "1/1 [==============================] - 0s 57ms/step - loss: 0.3262 - mse: 0.3262\n",
            "Epoch 3/10\n",
            "1/1 [==============================] - 0s 54ms/step - loss: 0.3225 - mse: 0.3225\n",
            "Epoch 4/10\n",
            "1/1 [==============================] - 0s 55ms/step - loss: 0.3202 - mse: 0.3202\n",
            "Epoch 5/10\n",
            "1/1 [==============================] - 0s 59ms/step - loss: 0.3192 - mse: 0.3192\n",
            "Epoch 6/10\n",
            "1/1 [==============================] - 0s 57ms/step - loss: 0.3186 - mse: 0.3186\n",
            "Epoch 7/10\n",
            "1/1 [==============================] - 0s 55ms/step - loss: 0.3179 - mse: 0.3179\n",
            "Epoch 8/10\n",
            "1/1 [==============================] - 0s 60ms/step - loss: 0.3170 - mse: 0.3170\n",
            "Epoch 9/10\n",
            "1/1 [==============================] - 0s 59ms/step - loss: 0.3157 - mse: 0.3157\n",
            "Epoch 10/10\n",
            "1/1 [==============================] - 0s 53ms/step - loss: 0.3144 - mse: 0.3144\n"
          ],
          "name": "stdout"
        },
        {
          "output_type": "stream",
          "text": [
            "\r  1%|          | 4/529 [00:35<1:45:15, 12.03s/it]"
          ],
          "name": "stderr"
        },
        {
          "output_type": "stream",
          "text": [
            "Epoch 1/10\n",
            "1/1 [==============================] - 0s 55ms/step - loss: 0.3134 - mse: 0.3134\n",
            "Epoch 2/10\n",
            "1/1 [==============================] - 0s 52ms/step - loss: 0.3130 - mse: 0.3130\n",
            "Epoch 3/10\n",
            "1/1 [==============================] - 0s 52ms/step - loss: 0.3129 - mse: 0.3129\n",
            "Epoch 4/10\n",
            "1/1 [==============================] - 0s 60ms/step - loss: 0.3129 - mse: 0.3129\n",
            "Epoch 5/10\n",
            "1/1 [==============================] - 0s 53ms/step - loss: 0.3128 - mse: 0.3128\n",
            "Epoch 6/10\n",
            "1/1 [==============================] - 0s 54ms/step - loss: 0.3124 - mse: 0.3124\n",
            "Epoch 7/10\n",
            "1/1 [==============================] - 0s 53ms/step - loss: 0.3118 - mse: 0.3118\n",
            "Epoch 8/10\n",
            "1/1 [==============================] - 0s 55ms/step - loss: 0.3113 - mse: 0.3113\n",
            "Epoch 9/10\n",
            "1/1 [==============================] - 0s 54ms/step - loss: 0.3110 - mse: 0.3110\n",
            "Epoch 10/10\n",
            "1/1 [==============================] - 0s 56ms/step - loss: 0.3109 - mse: 0.3109\n"
          ],
          "name": "stdout"
        },
        {
          "output_type": "stream",
          "text": [
            "\r  1%|          | 5/529 [00:36<1:15:33,  8.65s/it]"
          ],
          "name": "stderr"
        },
        {
          "output_type": "stream",
          "text": [
            "Epoch 1/10\n",
            "1/1 [==============================] - 0s 55ms/step - loss: 0.3266 - mse: 0.3266\n",
            "Epoch 2/10\n",
            "1/1 [==============================] - 0s 51ms/step - loss: 0.3266 - mse: 0.3266\n",
            "Epoch 3/10\n",
            "1/1 [==============================] - 0s 56ms/step - loss: 0.3262 - mse: 0.3262\n",
            "Epoch 4/10\n",
            "1/1 [==============================] - 0s 53ms/step - loss: 0.3256 - mse: 0.3256\n",
            "Epoch 5/10\n",
            "1/1 [==============================] - 0s 53ms/step - loss: 0.3251 - mse: 0.3251\n",
            "Epoch 6/10\n",
            "1/1 [==============================] - 0s 54ms/step - loss: 0.3249 - mse: 0.3249\n",
            "Epoch 7/10\n",
            "1/1 [==============================] - 0s 54ms/step - loss: 0.3250 - mse: 0.3250\n",
            "Epoch 8/10\n",
            "1/1 [==============================] - 0s 58ms/step - loss: 0.3252 - mse: 0.3252\n",
            "Epoch 9/10\n",
            "1/1 [==============================] - 0s 56ms/step - loss: 0.3251 - mse: 0.3251\n",
            "Epoch 10/10\n",
            "1/1 [==============================] - 0s 56ms/step - loss: 0.3249 - mse: 0.3249\n"
          ],
          "name": "stdout"
        },
        {
          "output_type": "stream",
          "text": [
            "\r  1%|          | 6/529 [00:37<54:48,  6.29s/it]  "
          ],
          "name": "stderr"
        },
        {
          "output_type": "stream",
          "text": [
            "Epoch 1/10\n",
            "1/1 [==============================] - 0s 58ms/step - loss: 0.3117 - mse: 0.3117\n",
            "Epoch 2/10\n",
            "1/1 [==============================] - 0s 55ms/step - loss: 0.3110 - mse: 0.3110\n",
            "Epoch 3/10\n",
            "1/1 [==============================] - 0s 54ms/step - loss: 0.3105 - mse: 0.3105\n",
            "Epoch 4/10\n",
            "1/1 [==============================] - 0s 58ms/step - loss: 0.3105 - mse: 0.3105\n",
            "Epoch 5/10\n",
            "1/1 [==============================] - 0s 58ms/step - loss: 0.3107 - mse: 0.3107\n",
            "Epoch 6/10\n",
            "1/1 [==============================] - 0s 56ms/step - loss: 0.3110 - mse: 0.3110\n",
            "Epoch 7/10\n",
            "1/1 [==============================] - 0s 56ms/step - loss: 0.3110 - mse: 0.3110\n",
            "Epoch 8/10\n",
            "1/1 [==============================] - 0s 57ms/step - loss: 0.3108 - mse: 0.3108\n",
            "Epoch 9/10\n",
            "1/1 [==============================] - 0s 60ms/step - loss: 0.3105 - mse: 0.3105\n",
            "Epoch 10/10\n",
            "1/1 [==============================] - 0s 58ms/step - loss: 0.3102 - mse: 0.3102\n"
          ],
          "name": "stdout"
        },
        {
          "output_type": "stream",
          "text": [
            "\r  1%|▏         | 7/529 [00:38<40:21,  4.64s/it]"
          ],
          "name": "stderr"
        },
        {
          "output_type": "stream",
          "text": [
            "Epoch 1/10\n",
            "1/1 [==============================] - 0s 58ms/step - loss: 0.3099 - mse: 0.3099\n",
            "Epoch 2/10\n",
            "1/1 [==============================] - 0s 54ms/step - loss: 0.3100 - mse: 0.3100\n",
            "Epoch 3/10\n",
            "1/1 [==============================] - 0s 55ms/step - loss: 0.3101 - mse: 0.3101\n",
            "Epoch 4/10\n",
            "1/1 [==============================] - 0s 55ms/step - loss: 0.3101 - mse: 0.3101\n",
            "Epoch 5/10\n",
            "1/1 [==============================] - 0s 56ms/step - loss: 0.3100 - mse: 0.3100\n",
            "Epoch 6/10\n",
            "1/1 [==============================] - 0s 57ms/step - loss: 0.3099 - mse: 0.3099\n",
            "Epoch 7/10\n",
            "1/1 [==============================] - 0s 58ms/step - loss: 0.3097 - mse: 0.3097\n",
            "Epoch 8/10\n",
            "1/1 [==============================] - 0s 56ms/step - loss: 0.3097 - mse: 0.3097\n",
            "Epoch 9/10\n",
            "1/1 [==============================] - 0s 57ms/step - loss: 0.3098 - mse: 0.3098\n",
            "Epoch 10/10\n",
            "1/1 [==============================] - 0s 56ms/step - loss: 0.3098 - mse: 0.3098\n"
          ],
          "name": "stdout"
        },
        {
          "output_type": "stream",
          "text": [
            "\r  2%|▏         | 8/529 [00:39<30:13,  3.48s/it]"
          ],
          "name": "stderr"
        },
        {
          "output_type": "stream",
          "text": [
            "Epoch 1/10\n",
            "1/1 [==============================] - 0s 56ms/step - loss: 0.3067 - mse: 0.3067\n",
            "Epoch 2/10\n",
            "1/1 [==============================] - 0s 53ms/step - loss: 0.3066 - mse: 0.3066\n",
            "Epoch 3/10\n",
            "1/1 [==============================] - 0s 56ms/step - loss: 0.3066 - mse: 0.3066\n",
            "Epoch 4/10\n",
            "1/1 [==============================] - 0s 57ms/step - loss: 0.3066 - mse: 0.3066\n",
            "Epoch 5/10\n",
            "1/1 [==============================] - 0s 56ms/step - loss: 0.3066 - mse: 0.3066\n",
            "Epoch 6/10\n",
            "1/1 [==============================] - 0s 55ms/step - loss: 0.3066 - mse: 0.3066\n",
            "Epoch 7/10\n",
            "1/1 [==============================] - 0s 59ms/step - loss: 0.3066 - mse: 0.3066\n",
            "Epoch 8/10\n",
            "1/1 [==============================] - 0s 59ms/step - loss: 0.3066 - mse: 0.3066\n",
            "Epoch 9/10\n",
            "1/1 [==============================] - 0s 55ms/step - loss: 0.3066 - mse: 0.3066\n",
            "Epoch 10/10\n",
            "1/1 [==============================] - 0s 55ms/step - loss: 0.3065 - mse: 0.3065\n"
          ],
          "name": "stdout"
        },
        {
          "output_type": "stream",
          "text": [
            "\r  2%|▏         | 9/529 [00:39<23:11,  2.68s/it]"
          ],
          "name": "stderr"
        },
        {
          "output_type": "stream",
          "text": [
            "Epoch 1/10\n",
            "1/1 [==============================] - 0s 57ms/step - loss: 0.3099 - mse: 0.3099\n",
            "Epoch 2/10\n",
            "1/1 [==============================] - 0s 54ms/step - loss: 0.3099 - mse: 0.3099\n",
            "Epoch 3/10\n",
            "1/1 [==============================] - 0s 55ms/step - loss: 0.3099 - mse: 0.3099\n",
            "Epoch 4/10\n",
            "1/1 [==============================] - 0s 57ms/step - loss: 0.3099 - mse: 0.3099\n",
            "Epoch 5/10\n",
            "1/1 [==============================] - 0s 55ms/step - loss: 0.3098 - mse: 0.3098\n",
            "Epoch 6/10\n",
            "1/1 [==============================] - 0s 62ms/step - loss: 0.3098 - mse: 0.3098\n",
            "Epoch 7/10\n",
            "1/1 [==============================] - 0s 55ms/step - loss: 0.3098 - mse: 0.3098\n",
            "Epoch 8/10\n",
            "1/1 [==============================] - 0s 53ms/step - loss: 0.3098 - mse: 0.3098\n",
            "Epoch 9/10\n",
            "1/1 [==============================] - 0s 54ms/step - loss: 0.3098 - mse: 0.3098\n",
            "Epoch 10/10\n",
            "1/1 [==============================] - 0s 55ms/step - loss: 0.3098 - mse: 0.3098\n"
          ],
          "name": "stdout"
        },
        {
          "output_type": "stream",
          "text": [
            "\r  2%|▏         | 10/529 [00:40<18:14,  2.11s/it]"
          ],
          "name": "stderr"
        },
        {
          "output_type": "stream",
          "text": [
            "Epoch 1/10\n",
            "1/1 [==============================] - 0s 59ms/step - loss: 0.3036 - mse: 0.3036\n",
            "Epoch 2/10\n",
            "1/1 [==============================] - 0s 54ms/step - loss: 0.3035 - mse: 0.3035\n",
            "Epoch 3/10\n",
            "1/1 [==============================] - 0s 55ms/step - loss: 0.3035 - mse: 0.3035\n",
            "Epoch 4/10\n",
            "1/1 [==============================] - 0s 58ms/step - loss: 0.3035 - mse: 0.3035\n",
            "Epoch 5/10\n",
            "1/1 [==============================] - 0s 56ms/step - loss: 0.3035 - mse: 0.3035\n",
            "Epoch 6/10\n",
            "1/1 [==============================] - 0s 56ms/step - loss: 0.3035 - mse: 0.3035\n",
            "Epoch 7/10\n",
            "1/1 [==============================] - 0s 54ms/step - loss: 0.3035 - mse: 0.3035\n",
            "Epoch 8/10\n",
            "1/1 [==============================] - 0s 56ms/step - loss: 0.3034 - mse: 0.3034\n",
            "Epoch 9/10\n",
            "1/1 [==============================] - 0s 55ms/step - loss: 0.3034 - mse: 0.3034\n",
            "Epoch 10/10\n",
            "1/1 [==============================] - 0s 56ms/step - loss: 0.3033 - mse: 0.3033\n"
          ],
          "name": "stdout"
        },
        {
          "output_type": "stream",
          "text": [
            "\r  2%|▏         | 11/529 [00:41<14:48,  1.71s/it]"
          ],
          "name": "stderr"
        },
        {
          "output_type": "stream",
          "text": [
            "Epoch 1/10\n",
            "1/1 [==============================] - 0s 56ms/step - loss: 0.3079 - mse: 0.3079\n",
            "Epoch 2/10\n",
            "1/1 [==============================] - 0s 55ms/step - loss: 0.3079 - mse: 0.3079\n",
            "Epoch 3/10\n",
            "1/1 [==============================] - 0s 56ms/step - loss: 0.3079 - mse: 0.3079\n",
            "Epoch 4/10\n",
            "1/1 [==============================] - 0s 56ms/step - loss: 0.3079 - mse: 0.3079\n",
            "Epoch 5/10\n",
            "1/1 [==============================] - 0s 55ms/step - loss: 0.3079 - mse: 0.3079\n",
            "Epoch 6/10\n",
            "1/1 [==============================] - 0s 57ms/step - loss: 0.3079 - mse: 0.3079\n",
            "Epoch 7/10\n",
            "1/1 [==============================] - 0s 61ms/step - loss: 0.3079 - mse: 0.3079\n",
            "Epoch 8/10\n",
            "1/1 [==============================] - 0s 57ms/step - loss: 0.3079 - mse: 0.3079\n",
            "Epoch 9/10\n",
            "1/1 [==============================] - 0s 57ms/step - loss: 0.3079 - mse: 0.3079\n",
            "Epoch 10/10\n",
            "1/1 [==============================] - 0s 56ms/step - loss: 0.3079 - mse: 0.3079\n"
          ],
          "name": "stdout"
        },
        {
          "output_type": "stream",
          "text": [
            "\r  2%|▏         | 12/529 [00:42<12:23,  1.44s/it]"
          ],
          "name": "stderr"
        },
        {
          "output_type": "stream",
          "text": [
            "Epoch 1/10\n",
            "1/1 [==============================] - 0s 56ms/step - loss: 0.3121 - mse: 0.3121\n",
            "Epoch 2/10\n",
            "1/1 [==============================] - 0s 54ms/step - loss: 0.3120 - mse: 0.3120\n",
            "Epoch 3/10\n",
            "1/1 [==============================] - 0s 58ms/step - loss: 0.3120 - mse: 0.3120\n",
            "Epoch 4/10\n",
            "1/1 [==============================] - 0s 55ms/step - loss: 0.3119 - mse: 0.3119\n",
            "Epoch 5/10\n",
            "1/1 [==============================] - 0s 56ms/step - loss: 0.3119 - mse: 0.3119\n",
            "Epoch 6/10\n",
            "1/1 [==============================] - 0s 57ms/step - loss: 0.3120 - mse: 0.3120\n",
            "Epoch 7/10\n",
            "1/1 [==============================] - 0s 54ms/step - loss: 0.3120 - mse: 0.3120\n",
            "Epoch 8/10\n",
            "1/1 [==============================] - 0s 57ms/step - loss: 0.3120 - mse: 0.3120\n",
            "Epoch 9/10\n",
            "1/1 [==============================] - 0s 54ms/step - loss: 0.3119 - mse: 0.3119\n",
            "Epoch 10/10\n",
            "1/1 [==============================] - 0s 58ms/step - loss: 0.3119 - mse: 0.3119\n"
          ],
          "name": "stdout"
        },
        {
          "output_type": "stream",
          "text": [
            "\r  2%|▏         | 13/529 [00:43<10:41,  1.24s/it]"
          ],
          "name": "stderr"
        },
        {
          "output_type": "stream",
          "text": [
            "Epoch 1/10\n",
            "1/1 [==============================] - 0s 58ms/step - loss: 0.3047 - mse: 0.3047\n",
            "Epoch 2/10\n",
            "1/1 [==============================] - 0s 53ms/step - loss: 0.3046 - mse: 0.3046\n",
            "Epoch 3/10\n",
            "1/1 [==============================] - 0s 53ms/step - loss: 0.3046 - mse: 0.3046\n",
            "Epoch 4/10\n",
            "1/1 [==============================] - 0s 58ms/step - loss: 0.3046 - mse: 0.3046\n",
            "Epoch 5/10\n",
            "1/1 [==============================] - 0s 56ms/step - loss: 0.3046 - mse: 0.3046\n",
            "Epoch 6/10\n",
            "1/1 [==============================] - 0s 56ms/step - loss: 0.3046 - mse: 0.3046\n",
            "Epoch 7/10\n",
            "1/1 [==============================] - 0s 54ms/step - loss: 0.3046 - mse: 0.3046\n",
            "Epoch 8/10\n",
            "1/1 [==============================] - 0s 55ms/step - loss: 0.3046 - mse: 0.3046\n",
            "Epoch 9/10\n",
            "1/1 [==============================] - 0s 58ms/step - loss: 0.3046 - mse: 0.3046\n",
            "Epoch 10/10\n",
            "1/1 [==============================] - 0s 54ms/step - loss: 0.3046 - mse: 0.3046\n"
          ],
          "name": "stdout"
        },
        {
          "output_type": "stream",
          "text": [
            "\r  3%|▎         | 14/529 [00:43<09:28,  1.10s/it]"
          ],
          "name": "stderr"
        },
        {
          "output_type": "stream",
          "text": [
            "Epoch 1/10\n",
            "1/1 [==============================] - 0s 55ms/step - loss: 0.3052 - mse: 0.3052\n",
            "Epoch 2/10\n",
            "1/1 [==============================] - 0s 52ms/step - loss: 0.3052 - mse: 0.3052\n",
            "Epoch 3/10\n",
            "1/1 [==============================] - 0s 51ms/step - loss: 0.3051 - mse: 0.3051\n",
            "Epoch 4/10\n",
            "1/1 [==============================] - 0s 60ms/step - loss: 0.3051 - mse: 0.3051\n",
            "Epoch 5/10\n",
            "1/1 [==============================] - 0s 54ms/step - loss: 0.3051 - mse: 0.3051\n",
            "Epoch 6/10\n",
            "1/1 [==============================] - 0s 55ms/step - loss: 0.3051 - mse: 0.3051\n",
            "Epoch 7/10\n",
            "1/1 [==============================] - 0s 55ms/step - loss: 0.3051 - mse: 0.3051\n",
            "Epoch 8/10\n",
            "1/1 [==============================] - 0s 59ms/step - loss: 0.3051 - mse: 0.3051\n",
            "Epoch 9/10\n",
            "1/1 [==============================] - 0s 58ms/step - loss: 0.3051 - mse: 0.3051\n",
            "Epoch 10/10\n",
            "1/1 [==============================] - 0s 56ms/step - loss: 0.3051 - mse: 0.3051\n"
          ],
          "name": "stdout"
        },
        {
          "output_type": "stream",
          "text": [
            "\r  3%|▎         | 15/529 [00:44<08:38,  1.01s/it]"
          ],
          "name": "stderr"
        },
        {
          "output_type": "stream",
          "text": [
            "Epoch 1/10\n",
            "1/1 [==============================] - 0s 55ms/step - loss: 0.2902 - mse: 0.2902\n",
            "Epoch 2/10\n",
            "1/1 [==============================] - 0s 56ms/step - loss: 0.2899 - mse: 0.2899\n",
            "Epoch 3/10\n",
            "1/1 [==============================] - 0s 52ms/step - loss: 0.2896 - mse: 0.2896\n",
            "Epoch 4/10\n",
            "1/1 [==============================] - 0s 53ms/step - loss: 0.2895 - mse: 0.2895\n",
            "Epoch 5/10\n",
            "1/1 [==============================] - 0s 54ms/step - loss: 0.2895 - mse: 0.2895\n",
            "Epoch 6/10\n",
            "1/1 [==============================] - 0s 53ms/step - loss: 0.2896 - mse: 0.2896\n",
            "Epoch 7/10\n",
            "1/1 [==============================] - 0s 58ms/step - loss: 0.2896 - mse: 0.2896\n",
            "Epoch 8/10\n",
            "1/1 [==============================] - 0s 56ms/step - loss: 0.2894 - mse: 0.2894\n",
            "Epoch 9/10\n",
            "1/1 [==============================] - 0s 54ms/step - loss: 0.2893 - mse: 0.2893\n",
            "Epoch 10/10\n",
            "1/1 [==============================] - 0s 53ms/step - loss: 0.2893 - mse: 0.2893\n"
          ],
          "name": "stdout"
        },
        {
          "output_type": "stream",
          "text": [
            "\r  3%|▎         | 16/529 [00:45<08:00,  1.07it/s]"
          ],
          "name": "stderr"
        },
        {
          "output_type": "stream",
          "text": [
            "Epoch 1/10\n",
            "1/1 [==============================] - 0s 56ms/step - loss: 0.3086 - mse: 0.3086\n",
            "Epoch 2/10\n",
            "1/1 [==============================] - 0s 52ms/step - loss: 0.3084 - mse: 0.3084\n",
            "Epoch 3/10\n",
            "1/1 [==============================] - 0s 53ms/step - loss: 0.3084 - mse: 0.3084\n",
            "Epoch 4/10\n",
            "1/1 [==============================] - 0s 59ms/step - loss: 0.3085 - mse: 0.3085\n",
            "Epoch 5/10\n",
            "1/1 [==============================] - 0s 60ms/step - loss: 0.3085 - mse: 0.3085\n",
            "Epoch 6/10\n",
            "1/1 [==============================] - 0s 58ms/step - loss: 0.3084 - mse: 0.3084\n",
            "Epoch 7/10\n",
            "1/1 [==============================] - 0s 55ms/step - loss: 0.3083 - mse: 0.3083\n",
            "Epoch 8/10\n",
            "1/1 [==============================] - 0s 56ms/step - loss: 0.3082 - mse: 0.3082\n",
            "Epoch 9/10\n",
            "1/1 [==============================] - 0s 56ms/step - loss: 0.3082 - mse: 0.3082\n",
            "Epoch 10/10\n",
            "1/1 [==============================] - 0s 54ms/step - loss: 0.3083 - mse: 0.3083\n"
          ],
          "name": "stdout"
        },
        {
          "output_type": "stream",
          "text": [
            "\r  3%|▎         | 17/529 [00:46<07:37,  1.12it/s]"
          ],
          "name": "stderr"
        },
        {
          "output_type": "stream",
          "text": [
            "Epoch 1/10\n",
            "1/1 [==============================] - 0s 57ms/step - loss: 0.3070 - mse: 0.3070\n",
            "Epoch 2/10\n",
            "1/1 [==============================] - 0s 56ms/step - loss: 0.3070 - mse: 0.3070\n",
            "Epoch 3/10\n",
            "1/1 [==============================] - 0s 57ms/step - loss: 0.3069 - mse: 0.3069\n",
            "Epoch 4/10\n",
            "1/1 [==============================] - 0s 58ms/step - loss: 0.3068 - mse: 0.3068\n",
            "Epoch 5/10\n",
            "1/1 [==============================] - 0s 55ms/step - loss: 0.3068 - mse: 0.3068\n",
            "Epoch 6/10\n",
            "1/1 [==============================] - 0s 56ms/step - loss: 0.3069 - mse: 0.3069\n",
            "Epoch 7/10\n",
            "1/1 [==============================] - 0s 58ms/step - loss: 0.3069 - mse: 0.3069\n",
            "Epoch 8/10\n",
            "1/1 [==============================] - 0s 58ms/step - loss: 0.3069 - mse: 0.3069\n",
            "Epoch 9/10\n",
            "1/1 [==============================] - 0s 58ms/step - loss: 0.3068 - mse: 0.3068\n",
            "Epoch 10/10\n",
            "1/1 [==============================] - 0s 56ms/step - loss: 0.3068 - mse: 0.3068\n"
          ],
          "name": "stdout"
        },
        {
          "output_type": "stream",
          "text": [
            "\r  3%|▎         | 18/529 [00:46<07:22,  1.15it/s]"
          ],
          "name": "stderr"
        },
        {
          "output_type": "stream",
          "text": [
            "Epoch 1/10\n",
            "1/1 [==============================] - 0s 55ms/step - loss: 0.3117 - mse: 0.3117\n",
            "Epoch 2/10\n",
            "1/1 [==============================] - 0s 56ms/step - loss: 0.3117 - mse: 0.3117\n",
            "Epoch 3/10\n",
            "1/1 [==============================] - 0s 53ms/step - loss: 0.3116 - mse: 0.3116\n",
            "Epoch 4/10\n",
            "1/1 [==============================] - 0s 55ms/step - loss: 0.3115 - mse: 0.3115\n",
            "Epoch 5/10\n",
            "1/1 [==============================] - 0s 63ms/step - loss: 0.3115 - mse: 0.3115\n",
            "Epoch 6/10\n",
            "1/1 [==============================] - 0s 60ms/step - loss: 0.3116 - mse: 0.3116\n",
            "Epoch 7/10\n",
            "1/1 [==============================] - 0s 56ms/step - loss: 0.3116 - mse: 0.3116\n",
            "Epoch 8/10\n",
            "1/1 [==============================] - 0s 55ms/step - loss: 0.3116 - mse: 0.3116\n",
            "Epoch 9/10\n",
            "1/1 [==============================] - 0s 54ms/step - loss: 0.3115 - mse: 0.3115\n",
            "Epoch 10/10\n",
            "1/1 [==============================] - 0s 56ms/step - loss: 0.3115 - mse: 0.3115\n"
          ],
          "name": "stdout"
        },
        {
          "output_type": "stream",
          "text": [
            "\r  4%|▎         | 19/529 [00:47<07:09,  1.19it/s]"
          ],
          "name": "stderr"
        },
        {
          "output_type": "stream",
          "text": [
            "Epoch 1/10\n",
            "1/1 [==============================] - 0s 58ms/step - loss: 0.3061 - mse: 0.3061\n",
            "Epoch 2/10\n",
            "1/1 [==============================] - 0s 53ms/step - loss: 0.3061 - mse: 0.3061\n",
            "Epoch 3/10\n",
            "1/1 [==============================] - 0s 54ms/step - loss: 0.3061 - mse: 0.3061\n",
            "Epoch 4/10\n",
            "1/1 [==============================] - 0s 57ms/step - loss: 0.3061 - mse: 0.3061\n",
            "Epoch 5/10\n",
            "1/1 [==============================] - 0s 58ms/step - loss: 0.3061 - mse: 0.3061\n",
            "Epoch 6/10\n",
            "1/1 [==============================] - 0s 57ms/step - loss: 0.3061 - mse: 0.3061\n",
            "Epoch 7/10\n",
            "1/1 [==============================] - 0s 56ms/step - loss: 0.3061 - mse: 0.3061\n",
            "Epoch 8/10\n",
            "1/1 [==============================] - 0s 58ms/step - loss: 0.3061 - mse: 0.3061\n",
            "Epoch 9/10\n",
            "1/1 [==============================] - 0s 58ms/step - loss: 0.3061 - mse: 0.3061\n",
            "Epoch 10/10\n",
            "1/1 [==============================] - 0s 61ms/step - loss: 0.3061 - mse: 0.3061\n"
          ],
          "name": "stdout"
        },
        {
          "output_type": "stream",
          "text": [
            "\r  4%|▍         | 20/529 [00:48<07:02,  1.20it/s]"
          ],
          "name": "stderr"
        },
        {
          "output_type": "stream",
          "text": [
            "Epoch 1/10\n",
            "1/1 [==============================] - 0s 57ms/step - loss: 0.3082 - mse: 0.3082\n",
            "Epoch 2/10\n",
            "1/1 [==============================] - 0s 55ms/step - loss: 0.3082 - mse: 0.3082\n",
            "Epoch 3/10\n",
            "1/1 [==============================] - 0s 55ms/step - loss: 0.3082 - mse: 0.3082\n",
            "Epoch 4/10\n",
            "1/1 [==============================] - 0s 61ms/step - loss: 0.3082 - mse: 0.3082\n",
            "Epoch 5/10\n",
            "1/1 [==============================] - 0s 57ms/step - loss: 0.3082 - mse: 0.3082\n",
            "Epoch 6/10\n",
            "1/1 [==============================] - 0s 61ms/step - loss: 0.3082 - mse: 0.3082\n",
            "Epoch 7/10\n",
            "1/1 [==============================] - 0s 58ms/step - loss: 0.3082 - mse: 0.3082\n",
            "Epoch 8/10\n",
            "1/1 [==============================] - 0s 57ms/step - loss: 0.3082 - mse: 0.3082\n",
            "Epoch 9/10\n",
            "1/1 [==============================] - 0s 60ms/step - loss: 0.3082 - mse: 0.3082\n",
            "Epoch 10/10\n",
            "1/1 [==============================] - 0s 56ms/step - loss: 0.3082 - mse: 0.3082\n"
          ],
          "name": "stdout"
        },
        {
          "output_type": "stream",
          "text": [
            "\r  4%|▍         | 21/529 [00:49<06:59,  1.21it/s]"
          ],
          "name": "stderr"
        },
        {
          "output_type": "stream",
          "text": [
            "Epoch 1/10\n",
            "1/1 [==============================] - 0s 61ms/step - loss: 0.3055 - mse: 0.3055\n",
            "Epoch 2/10\n",
            "1/1 [==============================] - 0s 56ms/step - loss: 0.3055 - mse: 0.3055\n",
            "Epoch 3/10\n",
            "1/1 [==============================] - 0s 59ms/step - loss: 0.3055 - mse: 0.3055\n",
            "Epoch 4/10\n",
            "1/1 [==============================] - 0s 56ms/step - loss: 0.3055 - mse: 0.3055\n",
            "Epoch 5/10\n",
            "1/1 [==============================] - 0s 58ms/step - loss: 0.3055 - mse: 0.3055\n",
            "Epoch 6/10\n",
            "1/1 [==============================] - 0s 57ms/step - loss: 0.3055 - mse: 0.3055\n",
            "Epoch 7/10\n",
            "1/1 [==============================] - 0s 61ms/step - loss: 0.3055 - mse: 0.3055\n",
            "Epoch 8/10\n",
            "1/1 [==============================] - 0s 66ms/step - loss: 0.3054 - mse: 0.3054\n",
            "Epoch 9/10\n",
            "1/1 [==============================] - 0s 63ms/step - loss: 0.3054 - mse: 0.3054\n",
            "Epoch 10/10\n",
            "1/1 [==============================] - 0s 55ms/step - loss: 0.3054 - mse: 0.3054\n"
          ],
          "name": "stdout"
        },
        {
          "output_type": "stream",
          "text": [
            "\r  4%|▍         | 22/529 [00:50<06:57,  1.22it/s]"
          ],
          "name": "stderr"
        },
        {
          "output_type": "stream",
          "text": [
            "Epoch 1/10\n",
            "1/1 [==============================] - 0s 58ms/step - loss: 0.3084 - mse: 0.3084\n",
            "Epoch 2/10\n",
            "1/1 [==============================] - 0s 55ms/step - loss: 0.3084 - mse: 0.3084\n",
            "Epoch 3/10\n",
            "1/1 [==============================] - 0s 58ms/step - loss: 0.3084 - mse: 0.3084\n",
            "Epoch 4/10\n",
            "1/1 [==============================] - 0s 57ms/step - loss: 0.3084 - mse: 0.3084\n",
            "Epoch 5/10\n",
            "1/1 [==============================] - 0s 59ms/step - loss: 0.3084 - mse: 0.3084\n",
            "Epoch 6/10\n",
            "1/1 [==============================] - 0s 61ms/step - loss: 0.3084 - mse: 0.3084\n",
            "Epoch 7/10\n",
            "1/1 [==============================] - 0s 61ms/step - loss: 0.3084 - mse: 0.3084\n",
            "Epoch 8/10\n",
            "1/1 [==============================] - 0s 61ms/step - loss: 0.3084 - mse: 0.3084\n",
            "Epoch 9/10\n",
            "1/1 [==============================] - 0s 60ms/step - loss: 0.3084 - mse: 0.3084\n",
            "Epoch 10/10\n",
            "1/1 [==============================] - 0s 60ms/step - loss: 0.3084 - mse: 0.3084\n"
          ],
          "name": "stdout"
        },
        {
          "output_type": "stream",
          "text": [
            "\r  4%|▍         | 23/529 [00:51<06:57,  1.21it/s]"
          ],
          "name": "stderr"
        },
        {
          "output_type": "stream",
          "text": [
            "Epoch 1/10\n",
            "1/1 [==============================] - 0s 58ms/step - loss: 0.3181 - mse: 0.3181\n",
            "Epoch 2/10\n",
            "1/1 [==============================] - 0s 55ms/step - loss: 0.3180 - mse: 0.3180\n",
            "Epoch 3/10\n",
            "1/1 [==============================] - 0s 53ms/step - loss: 0.3179 - mse: 0.3179\n",
            "Epoch 4/10\n",
            "1/1 [==============================] - 0s 58ms/step - loss: 0.3179 - mse: 0.3179\n",
            "Epoch 5/10\n",
            "1/1 [==============================] - 0s 60ms/step - loss: 0.3180 - mse: 0.3180\n",
            "Epoch 6/10\n",
            "1/1 [==============================] - 0s 62ms/step - loss: 0.3180 - mse: 0.3180\n",
            "Epoch 7/10\n",
            "1/1 [==============================] - 0s 58ms/step - loss: 0.3179 - mse: 0.3179\n",
            "Epoch 8/10\n",
            "1/1 [==============================] - 0s 58ms/step - loss: 0.3179 - mse: 0.3179\n",
            "Epoch 9/10\n",
            "1/1 [==============================] - 0s 59ms/step - loss: 0.3179 - mse: 0.3179\n",
            "Epoch 10/10\n",
            "1/1 [==============================] - 0s 56ms/step - loss: 0.3179 - mse: 0.3179\n"
          ],
          "name": "stdout"
        },
        {
          "output_type": "stream",
          "text": [
            "\r  5%|▍         | 24/529 [00:51<06:53,  1.22it/s]"
          ],
          "name": "stderr"
        },
        {
          "output_type": "stream",
          "text": [
            "Epoch 1/10\n",
            "1/1 [==============================] - 0s 58ms/step - loss: 0.3096 - mse: 0.3096\n",
            "Epoch 2/10\n",
            "1/1 [==============================] - 0s 55ms/step - loss: 0.3096 - mse: 0.3096\n",
            "Epoch 3/10\n",
            "1/1 [==============================] - 0s 55ms/step - loss: 0.3096 - mse: 0.3096\n",
            "Epoch 4/10\n",
            "1/1 [==============================] - 0s 58ms/step - loss: 0.3096 - mse: 0.3096\n",
            "Epoch 5/10\n",
            "1/1 [==============================] - 0s 59ms/step - loss: 0.3096 - mse: 0.3096\n",
            "Epoch 6/10\n",
            "1/1 [==============================] - 0s 60ms/step - loss: 0.3096 - mse: 0.3096\n",
            "Epoch 7/10\n",
            "1/1 [==============================] - 0s 57ms/step - loss: 0.3096 - mse: 0.3096\n",
            "Epoch 8/10\n",
            "1/1 [==============================] - 0s 58ms/step - loss: 0.3096 - mse: 0.3096\n",
            "Epoch 9/10\n",
            "1/1 [==============================] - 0s 58ms/step - loss: 0.3096 - mse: 0.3096\n",
            "Epoch 10/10\n",
            "1/1 [==============================] - 0s 59ms/step - loss: 0.3096 - mse: 0.3096\n"
          ],
          "name": "stdout"
        },
        {
          "output_type": "stream",
          "text": [
            "\r  5%|▍         | 25/529 [00:52<06:49,  1.23it/s]"
          ],
          "name": "stderr"
        },
        {
          "output_type": "stream",
          "text": [
            "Epoch 1/10\n",
            "1/1 [==============================] - 0s 59ms/step - loss: 0.3105 - mse: 0.3105\n",
            "Epoch 2/10\n",
            "1/1 [==============================] - 0s 56ms/step - loss: 0.3105 - mse: 0.3105\n",
            "Epoch 3/10\n",
            "1/1 [==============================] - 0s 56ms/step - loss: 0.3105 - mse: 0.3105\n",
            "Epoch 4/10\n",
            "1/1 [==============================] - 0s 59ms/step - loss: 0.3105 - mse: 0.3105\n",
            "Epoch 5/10\n",
            "1/1 [==============================] - 0s 55ms/step - loss: 0.3104 - mse: 0.3104\n",
            "Epoch 6/10\n",
            "1/1 [==============================] - 0s 56ms/step - loss: 0.3104 - mse: 0.3104\n",
            "Epoch 7/10\n",
            "1/1 [==============================] - 0s 55ms/step - loss: 0.3104 - mse: 0.3104\n",
            "Epoch 8/10\n",
            "1/1 [==============================] - 0s 55ms/step - loss: 0.3104 - mse: 0.3104\n",
            "Epoch 9/10\n",
            "1/1 [==============================] - 0s 56ms/step - loss: 0.3104 - mse: 0.3104\n",
            "Epoch 10/10\n",
            "1/1 [==============================] - 0s 61ms/step - loss: 0.3104 - mse: 0.3104\n"
          ],
          "name": "stdout"
        },
        {
          "output_type": "stream",
          "text": [
            "\r  5%|▍         | 26/529 [00:53<06:49,  1.23it/s]"
          ],
          "name": "stderr"
        },
        {
          "output_type": "stream",
          "text": [
            "Epoch 1/10\n",
            "1/1 [==============================] - 0s 56ms/step - loss: 0.3042 - mse: 0.3042\n",
            "Epoch 2/10\n",
            "1/1 [==============================] - 0s 56ms/step - loss: 0.3041 - mse: 0.3041\n",
            "Epoch 3/10\n",
            "1/1 [==============================] - 0s 56ms/step - loss: 0.3041 - mse: 0.3041\n",
            "Epoch 4/10\n",
            "1/1 [==============================] - 0s 55ms/step - loss: 0.3041 - mse: 0.3041\n",
            "Epoch 5/10\n",
            "1/1 [==============================] - 0s 57ms/step - loss: 0.3041 - mse: 0.3041\n",
            "Epoch 6/10\n",
            "1/1 [==============================] - 0s 61ms/step - loss: 0.3041 - mse: 0.3041\n",
            "Epoch 7/10\n",
            "1/1 [==============================] - 0s 60ms/step - loss: 0.3041 - mse: 0.3041\n",
            "Epoch 8/10\n",
            "1/1 [==============================] - 0s 56ms/step - loss: 0.3041 - mse: 0.3041\n",
            "Epoch 9/10\n",
            "1/1 [==============================] - 0s 56ms/step - loss: 0.3041 - mse: 0.3041\n",
            "Epoch 10/10\n",
            "1/1 [==============================] - 0s 57ms/step - loss: 0.3041 - mse: 0.3041\n"
          ],
          "name": "stdout"
        },
        {
          "output_type": "stream",
          "text": [
            "\r  5%|▌         | 27/529 [00:54<06:44,  1.24it/s]"
          ],
          "name": "stderr"
        },
        {
          "output_type": "stream",
          "text": [
            "Epoch 1/10\n",
            "1/1 [==============================] - 0s 59ms/step - loss: 0.3182 - mse: 0.3182\n",
            "Epoch 2/10\n",
            "1/1 [==============================] - 0s 54ms/step - loss: 0.3181 - mse: 0.3181\n",
            "Epoch 3/10\n",
            "1/1 [==============================] - 0s 57ms/step - loss: 0.3180 - mse: 0.3180\n",
            "Epoch 4/10\n",
            "1/1 [==============================] - 0s 58ms/step - loss: 0.3180 - mse: 0.3180\n",
            "Epoch 5/10\n",
            "1/1 [==============================] - 0s 59ms/step - loss: 0.3181 - mse: 0.3181\n",
            "Epoch 6/10\n",
            "1/1 [==============================] - 0s 58ms/step - loss: 0.3181 - mse: 0.3181\n",
            "Epoch 7/10\n",
            "1/1 [==============================] - 0s 59ms/step - loss: 0.3180 - mse: 0.3180\n",
            "Epoch 8/10\n",
            "1/1 [==============================] - 0s 57ms/step - loss: 0.3180 - mse: 0.3180\n",
            "Epoch 9/10\n",
            "1/1 [==============================] - 0s 55ms/step - loss: 0.3180 - mse: 0.3180\n",
            "Epoch 10/10\n",
            "1/1 [==============================] - 0s 57ms/step - loss: 0.3180 - mse: 0.3180\n"
          ],
          "name": "stdout"
        },
        {
          "output_type": "stream",
          "text": [
            "\r  5%|▌         | 28/529 [00:55<06:43,  1.24it/s]"
          ],
          "name": "stderr"
        },
        {
          "output_type": "stream",
          "text": [
            "Epoch 1/10\n",
            "1/1 [==============================] - 0s 56ms/step - loss: 0.3080 - mse: 0.3080\n",
            "Epoch 2/10\n",
            "1/1 [==============================] - 0s 52ms/step - loss: 0.3079 - mse: 0.3079\n",
            "Epoch 3/10\n",
            "1/1 [==============================] - 0s 55ms/step - loss: 0.3079 - mse: 0.3079\n",
            "Epoch 4/10\n",
            "1/1 [==============================] - 0s 56ms/step - loss: 0.3079 - mse: 0.3079\n",
            "Epoch 5/10\n",
            "1/1 [==============================] - 0s 57ms/step - loss: 0.3079 - mse: 0.3079\n",
            "Epoch 6/10\n",
            "1/1 [==============================] - 0s 64ms/step - loss: 0.3079 - mse: 0.3079\n",
            "Epoch 7/10\n",
            "1/1 [==============================] - 0s 55ms/step - loss: 0.3079 - mse: 0.3079\n",
            "Epoch 8/10\n",
            "1/1 [==============================] - 0s 56ms/step - loss: 0.3078 - mse: 0.3078\n",
            "Epoch 9/10\n",
            "1/1 [==============================] - 0s 56ms/step - loss: 0.3078 - mse: 0.3078\n",
            "Epoch 10/10\n",
            "1/1 [==============================] - 0s 61ms/step - loss: 0.3078 - mse: 0.3078\n"
          ],
          "name": "stdout"
        },
        {
          "output_type": "stream",
          "text": [
            "\r  5%|▌         | 29/529 [00:55<06:42,  1.24it/s]"
          ],
          "name": "stderr"
        },
        {
          "output_type": "stream",
          "text": [
            "Epoch 1/10\n",
            "1/1 [==============================] - 0s 60ms/step - loss: 0.3117 - mse: 0.3117\n",
            "Epoch 2/10\n",
            "1/1 [==============================] - 0s 55ms/step - loss: 0.3117 - mse: 0.3117\n",
            "Epoch 3/10\n",
            "1/1 [==============================] - 0s 55ms/step - loss: 0.3117 - mse: 0.3117\n",
            "Epoch 4/10\n",
            "1/1 [==============================] - 0s 57ms/step - loss: 0.3117 - mse: 0.3117\n",
            "Epoch 5/10\n",
            "1/1 [==============================] - 0s 62ms/step - loss: 0.3117 - mse: 0.3117\n",
            "Epoch 6/10\n",
            "1/1 [==============================] - 0s 57ms/step - loss: 0.3117 - mse: 0.3117\n",
            "Epoch 7/10\n",
            "1/1 [==============================] - 0s 56ms/step - loss: 0.3117 - mse: 0.3117\n",
            "Epoch 8/10\n",
            "1/1 [==============================] - 0s 57ms/step - loss: 0.3117 - mse: 0.3117\n",
            "Epoch 9/10\n",
            "1/1 [==============================] - 0s 56ms/step - loss: 0.3117 - mse: 0.3117\n",
            "Epoch 10/10\n",
            "1/1 [==============================] - 0s 63ms/step - loss: 0.3117 - mse: 0.3117\n"
          ],
          "name": "stdout"
        },
        {
          "output_type": "stream",
          "text": [
            "\r  6%|▌         | 30/529 [00:56<06:41,  1.24it/s]"
          ],
          "name": "stderr"
        },
        {
          "output_type": "stream",
          "text": [
            "Epoch 1/10\n",
            "1/1 [==============================] - 0s 54ms/step - loss: 0.3075 - mse: 0.3075\n",
            "Epoch 2/10\n",
            "1/1 [==============================] - 0s 53ms/step - loss: 0.3075 - mse: 0.3075\n",
            "Epoch 3/10\n",
            "1/1 [==============================] - 0s 54ms/step - loss: 0.3075 - mse: 0.3075\n",
            "Epoch 4/10\n",
            "1/1 [==============================] - 0s 55ms/step - loss: 0.3075 - mse: 0.3075\n",
            "Epoch 5/10\n",
            "1/1 [==============================] - 0s 54ms/step - loss: 0.3075 - mse: 0.3075\n",
            "Epoch 6/10\n",
            "1/1 [==============================] - 0s 54ms/step - loss: 0.3075 - mse: 0.3075\n",
            "Epoch 7/10\n",
            "1/1 [==============================] - 0s 56ms/step - loss: 0.3075 - mse: 0.3075\n",
            "Epoch 8/10\n",
            "1/1 [==============================] - 0s 57ms/step - loss: 0.3075 - mse: 0.3075\n",
            "Epoch 9/10\n",
            "1/1 [==============================] - 0s 54ms/step - loss: 0.3075 - mse: 0.3075\n",
            "Epoch 10/10\n",
            "1/1 [==============================] - 0s 59ms/step - loss: 0.3075 - mse: 0.3075\n"
          ],
          "name": "stdout"
        },
        {
          "output_type": "stream",
          "text": [
            "\r  6%|▌         | 31/529 [00:57<06:37,  1.25it/s]"
          ],
          "name": "stderr"
        },
        {
          "output_type": "stream",
          "text": [
            "Epoch 1/10\n",
            "1/1 [==============================] - 0s 60ms/step - loss: 0.3074 - mse: 0.3074\n",
            "Epoch 2/10\n",
            "1/1 [==============================] - 0s 52ms/step - loss: 0.3074 - mse: 0.3074\n",
            "Epoch 3/10\n",
            "1/1 [==============================] - 0s 52ms/step - loss: 0.3074 - mse: 0.3074\n",
            "Epoch 4/10\n",
            "1/1 [==============================] - 0s 53ms/step - loss: 0.3074 - mse: 0.3074\n",
            "Epoch 5/10\n",
            "1/1 [==============================] - 0s 57ms/step - loss: 0.3074 - mse: 0.3074\n",
            "Epoch 6/10\n",
            "1/1 [==============================] - 0s 57ms/step - loss: 0.3074 - mse: 0.3074\n",
            "Epoch 7/10\n",
            "1/1 [==============================] - 0s 55ms/step - loss: 0.3074 - mse: 0.3074\n",
            "Epoch 8/10\n",
            "1/1 [==============================] - 0s 54ms/step - loss: 0.3074 - mse: 0.3074\n",
            "Epoch 9/10\n",
            "1/1 [==============================] - 0s 55ms/step - loss: 0.3074 - mse: 0.3074\n",
            "Epoch 10/10\n",
            "1/1 [==============================] - 0s 55ms/step - loss: 0.3074 - mse: 0.3074\n"
          ],
          "name": "stdout"
        },
        {
          "output_type": "stream",
          "text": [
            "\r  6%|▌         | 32/529 [00:58<06:34,  1.26it/s]"
          ],
          "name": "stderr"
        },
        {
          "output_type": "stream",
          "text": [
            "Epoch 1/10\n",
            "1/1 [==============================] - 0s 57ms/step - loss: 0.3108 - mse: 0.3108\n",
            "Epoch 2/10\n",
            "1/1 [==============================] - 0s 52ms/step - loss: 0.3108 - mse: 0.3108\n",
            "Epoch 3/10\n",
            "1/1 [==============================] - 0s 51ms/step - loss: 0.3108 - mse: 0.3108\n",
            "Epoch 4/10\n",
            "1/1 [==============================] - 0s 56ms/step - loss: 0.3108 - mse: 0.3108\n",
            "Epoch 5/10\n",
            "1/1 [==============================] - 0s 59ms/step - loss: 0.3108 - mse: 0.3108\n",
            "Epoch 6/10\n",
            "1/1 [==============================] - 0s 55ms/step - loss: 0.3108 - mse: 0.3108\n",
            "Epoch 7/10\n",
            "1/1 [==============================] - 0s 53ms/step - loss: 0.3108 - mse: 0.3108\n",
            "Epoch 8/10\n",
            "1/1 [==============================] - 0s 54ms/step - loss: 0.3108 - mse: 0.3108\n",
            "Epoch 9/10\n",
            "1/1 [==============================] - 0s 57ms/step - loss: 0.3108 - mse: 0.3108\n",
            "Epoch 10/10\n",
            "1/1 [==============================] - 0s 53ms/step - loss: 0.3108 - mse: 0.3108\n"
          ],
          "name": "stdout"
        },
        {
          "output_type": "stream",
          "text": [
            "\r  6%|▌         | 33/529 [00:58<06:31,  1.27it/s]"
          ],
          "name": "stderr"
        },
        {
          "output_type": "stream",
          "text": [
            "Epoch 1/10\n",
            "1/1 [==============================] - 0s 57ms/step - loss: 0.3051 - mse: 0.3051\n",
            "Epoch 2/10\n",
            "1/1 [==============================] - 0s 53ms/step - loss: 0.3051 - mse: 0.3051\n",
            "Epoch 3/10\n",
            "1/1 [==============================] - 0s 53ms/step - loss: 0.3051 - mse: 0.3051\n",
            "Epoch 4/10\n",
            "1/1 [==============================] - 0s 58ms/step - loss: 0.3051 - mse: 0.3051\n",
            "Epoch 5/10\n",
            "1/1 [==============================] - 0s 56ms/step - loss: 0.3051 - mse: 0.3051\n",
            "Epoch 6/10\n",
            "1/1 [==============================] - 0s 57ms/step - loss: 0.3051 - mse: 0.3051\n",
            "Epoch 7/10\n",
            "1/1 [==============================] - 0s 58ms/step - loss: 0.3051 - mse: 0.3051\n",
            "Epoch 8/10\n",
            "1/1 [==============================] - 0s 60ms/step - loss: 0.3051 - mse: 0.3051\n",
            "Epoch 9/10\n",
            "1/1 [==============================] - 0s 55ms/step - loss: 0.3051 - mse: 0.3051\n",
            "Epoch 10/10\n",
            "1/1 [==============================] - 0s 55ms/step - loss: 0.3051 - mse: 0.3051\n"
          ],
          "name": "stdout"
        },
        {
          "output_type": "stream",
          "text": [
            "\r  6%|▋         | 34/529 [00:59<06:30,  1.27it/s]"
          ],
          "name": "stderr"
        },
        {
          "output_type": "stream",
          "text": [
            "Epoch 1/10\n",
            "1/1 [==============================] - 0s 59ms/step - loss: 0.3085 - mse: 0.3085\n",
            "Epoch 2/10\n",
            "1/1 [==============================] - 0s 55ms/step - loss: 0.3085 - mse: 0.3085\n",
            "Epoch 3/10\n",
            "1/1 [==============================] - 0s 57ms/step - loss: 0.3085 - mse: 0.3085\n",
            "Epoch 4/10\n",
            "1/1 [==============================] - 0s 56ms/step - loss: 0.3085 - mse: 0.3085\n",
            "Epoch 5/10\n",
            "1/1 [==============================] - 0s 60ms/step - loss: 0.3085 - mse: 0.3085\n",
            "Epoch 6/10\n",
            "1/1 [==============================] - 0s 57ms/step - loss: 0.3085 - mse: 0.3085\n",
            "Epoch 7/10\n",
            "1/1 [==============================] - 0s 57ms/step - loss: 0.3085 - mse: 0.3085\n",
            "Epoch 8/10\n",
            "1/1 [==============================] - 0s 55ms/step - loss: 0.3085 - mse: 0.3085\n",
            "Epoch 9/10\n",
            "1/1 [==============================] - 0s 58ms/step - loss: 0.3085 - mse: 0.3085\n",
            "Epoch 10/10\n",
            "1/1 [==============================] - 0s 57ms/step - loss: 0.3085 - mse: 0.3085\n"
          ],
          "name": "stdout"
        },
        {
          "output_type": "stream",
          "text": [
            "\r  7%|▋         | 35/529 [01:00<06:32,  1.26it/s]"
          ],
          "name": "stderr"
        },
        {
          "output_type": "stream",
          "text": [
            "Epoch 1/10\n",
            "1/1 [==============================] - 0s 56ms/step - loss: 0.3148 - mse: 0.3148\n",
            "Epoch 2/10\n",
            "1/1 [==============================] - 0s 53ms/step - loss: 0.3147 - mse: 0.3147\n",
            "Epoch 3/10\n",
            "1/1 [==============================] - 0s 53ms/step - loss: 0.3147 - mse: 0.3147\n",
            "Epoch 4/10\n",
            "1/1 [==============================] - 0s 58ms/step - loss: 0.3147 - mse: 0.3147\n",
            "Epoch 5/10\n",
            "1/1 [==============================] - 0s 55ms/step - loss: 0.3147 - mse: 0.3147\n",
            "Epoch 6/10\n",
            "1/1 [==============================] - 0s 53ms/step - loss: 0.3147 - mse: 0.3147\n",
            "Epoch 7/10\n",
            "1/1 [==============================] - 0s 59ms/step - loss: 0.3147 - mse: 0.3147\n",
            "Epoch 8/10\n",
            "1/1 [==============================] - 0s 56ms/step - loss: 0.3147 - mse: 0.3147\n",
            "Epoch 9/10\n",
            "1/1 [==============================] - 0s 61ms/step - loss: 0.3147 - mse: 0.3147\n",
            "Epoch 10/10\n",
            "1/1 [==============================] - 0s 57ms/step - loss: 0.3147 - mse: 0.3147\n"
          ],
          "name": "stdout"
        },
        {
          "output_type": "stream",
          "text": [
            "\r  7%|▋         | 36/529 [01:01<06:32,  1.26it/s]"
          ],
          "name": "stderr"
        },
        {
          "output_type": "stream",
          "text": [
            "Epoch 1/10\n",
            "1/1 [==============================] - 0s 55ms/step - loss: 0.3072 - mse: 0.3072\n",
            "Epoch 2/10\n",
            "1/1 [==============================] - 0s 58ms/step - loss: 0.3072 - mse: 0.3072\n",
            "Epoch 3/10\n",
            "1/1 [==============================] - 0s 55ms/step - loss: 0.3072 - mse: 0.3072\n",
            "Epoch 4/10\n",
            "1/1 [==============================] - 0s 55ms/step - loss: 0.3072 - mse: 0.3072\n",
            "Epoch 5/10\n",
            "1/1 [==============================] - 0s 57ms/step - loss: 0.3072 - mse: 0.3072\n",
            "Epoch 6/10\n",
            "1/1 [==============================] - 0s 57ms/step - loss: 0.3072 - mse: 0.3072\n",
            "Epoch 7/10\n",
            "1/1 [==============================] - 0s 55ms/step - loss: 0.3072 - mse: 0.3072\n",
            "Epoch 8/10\n",
            "1/1 [==============================] - 0s 59ms/step - loss: 0.3071 - mse: 0.3071\n",
            "Epoch 9/10\n",
            "1/1 [==============================] - 0s 58ms/step - loss: 0.3072 - mse: 0.3072\n",
            "Epoch 10/10\n",
            "1/1 [==============================] - 0s 57ms/step - loss: 0.3072 - mse: 0.3072\n"
          ],
          "name": "stdout"
        },
        {
          "output_type": "stream",
          "text": [
            "\r  7%|▋         | 37/529 [01:02<06:30,  1.26it/s]"
          ],
          "name": "stderr"
        },
        {
          "output_type": "stream",
          "text": [
            "Epoch 1/10\n",
            "1/1 [==============================] - 0s 57ms/step - loss: 0.3195 - mse: 0.3195\n",
            "Epoch 2/10\n",
            "1/1 [==============================] - 0s 56ms/step - loss: 0.3194 - mse: 0.3194\n",
            "Epoch 3/10\n",
            "1/1 [==============================] - 0s 52ms/step - loss: 0.3193 - mse: 0.3193\n",
            "Epoch 4/10\n",
            "1/1 [==============================] - 0s 56ms/step - loss: 0.3193 - mse: 0.3193\n",
            "Epoch 5/10\n",
            "1/1 [==============================] - 0s 56ms/step - loss: 0.3193 - mse: 0.3193\n",
            "Epoch 6/10\n",
            "1/1 [==============================] - 0s 60ms/step - loss: 0.3193 - mse: 0.3193\n",
            "Epoch 7/10\n",
            "1/1 [==============================] - 0s 54ms/step - loss: 0.3192 - mse: 0.3192\n",
            "Epoch 8/10\n",
            "1/1 [==============================] - 0s 57ms/step - loss: 0.3192 - mse: 0.3192\n",
            "Epoch 9/10\n",
            "1/1 [==============================] - 0s 60ms/step - loss: 0.3193 - mse: 0.3193\n",
            "Epoch 10/10\n",
            "1/1 [==============================] - 0s 63ms/step - loss: 0.3192 - mse: 0.3192\n"
          ],
          "name": "stdout"
        },
        {
          "output_type": "stream",
          "text": [
            "\r  7%|▋         | 38/529 [01:02<06:34,  1.24it/s]"
          ],
          "name": "stderr"
        },
        {
          "output_type": "stream",
          "text": [
            "Epoch 1/10\n",
            "1/1 [==============================] - 0s 58ms/step - loss: 0.3086 - mse: 0.3086\n",
            "Epoch 2/10\n",
            "1/1 [==============================] - 0s 56ms/step - loss: 0.3086 - mse: 0.3086\n",
            "Epoch 3/10\n",
            "1/1 [==============================] - 0s 58ms/step - loss: 0.3085 - mse: 0.3085\n",
            "Epoch 4/10\n",
            "1/1 [==============================] - 0s 56ms/step - loss: 0.3085 - mse: 0.3085\n",
            "Epoch 5/10\n",
            "1/1 [==============================] - 0s 56ms/step - loss: 0.3085 - mse: 0.3085\n",
            "Epoch 6/10\n",
            "1/1 [==============================] - 0s 60ms/step - loss: 0.3085 - mse: 0.3085\n",
            "Epoch 7/10\n",
            "1/1 [==============================] - 0s 59ms/step - loss: 0.3084 - mse: 0.3084\n",
            "Epoch 8/10\n",
            "1/1 [==============================] - 0s 62ms/step - loss: 0.3084 - mse: 0.3084\n",
            "Epoch 9/10\n",
            "1/1 [==============================] - 0s 59ms/step - loss: 0.3084 - mse: 0.3084\n",
            "Epoch 10/10\n",
            "1/1 [==============================] - 0s 61ms/step - loss: 0.3084 - mse: 0.3084\n"
          ],
          "name": "stdout"
        },
        {
          "output_type": "stream",
          "text": [
            "\r  7%|▋         | 39/529 [01:03<06:35,  1.24it/s]"
          ],
          "name": "stderr"
        },
        {
          "output_type": "stream",
          "text": [
            "Epoch 1/10\n",
            "1/1 [==============================] - 0s 58ms/step - loss: 0.3080 - mse: 0.3080\n",
            "Epoch 2/10\n",
            "1/1 [==============================] - 0s 54ms/step - loss: 0.3080 - mse: 0.3080\n",
            "Epoch 3/10\n",
            "1/1 [==============================] - 0s 58ms/step - loss: 0.3080 - mse: 0.3080\n",
            "Epoch 4/10\n",
            "1/1 [==============================] - 0s 61ms/step - loss: 0.3080 - mse: 0.3080\n",
            "Epoch 5/10\n",
            "1/1 [==============================] - 0s 60ms/step - loss: 0.3080 - mse: 0.3080\n",
            "Epoch 6/10\n",
            "1/1 [==============================] - 0s 59ms/step - loss: 0.3080 - mse: 0.3080\n",
            "Epoch 7/10\n",
            "1/1 [==============================] - 0s 58ms/step - loss: 0.3080 - mse: 0.3080\n",
            "Epoch 8/10\n",
            "1/1 [==============================] - 0s 59ms/step - loss: 0.3080 - mse: 0.3080\n",
            "Epoch 9/10\n",
            "1/1 [==============================] - 0s 57ms/step - loss: 0.3080 - mse: 0.3080\n",
            "Epoch 10/10\n",
            "1/1 [==============================] - 0s 57ms/step - loss: 0.3080 - mse: 0.3080\n"
          ],
          "name": "stdout"
        },
        {
          "output_type": "stream",
          "text": [
            "\r  8%|▊         | 40/529 [01:04<06:37,  1.23it/s]"
          ],
          "name": "stderr"
        },
        {
          "output_type": "stream",
          "text": [
            "Epoch 1/10\n",
            "1/1 [==============================] - 0s 56ms/step - loss: 0.3116 - mse: 0.3116\n",
            "Epoch 2/10\n",
            "1/1 [==============================] - 0s 57ms/step - loss: 0.3116 - mse: 0.3116\n",
            "Epoch 3/10\n",
            "1/1 [==============================] - 0s 53ms/step - loss: 0.3116 - mse: 0.3116\n",
            "Epoch 4/10\n",
            "1/1 [==============================] - 0s 56ms/step - loss: 0.3115 - mse: 0.3115\n",
            "Epoch 5/10\n",
            "1/1 [==============================] - 0s 55ms/step - loss: 0.3115 - mse: 0.3115\n",
            "Epoch 6/10\n",
            "1/1 [==============================] - 0s 60ms/step - loss: 0.3115 - mse: 0.3115\n",
            "Epoch 7/10\n",
            "1/1 [==============================] - 0s 58ms/step - loss: 0.3115 - mse: 0.3115\n",
            "Epoch 8/10\n",
            "1/1 [==============================] - 0s 62ms/step - loss: 0.3115 - mse: 0.3115\n",
            "Epoch 9/10\n",
            "1/1 [==============================] - 0s 59ms/step - loss: 0.3115 - mse: 0.3115\n",
            "Epoch 10/10\n",
            "1/1 [==============================] - 0s 55ms/step - loss: 0.3115 - mse: 0.3115\n"
          ],
          "name": "stdout"
        },
        {
          "output_type": "stream",
          "text": [
            "\r  8%|▊         | 41/529 [01:05<06:36,  1.23it/s]"
          ],
          "name": "stderr"
        },
        {
          "output_type": "stream",
          "text": [
            "Epoch 1/10\n",
            "1/1 [==============================] - 0s 58ms/step - loss: 0.3090 - mse: 0.3090\n",
            "Epoch 2/10\n",
            "1/1 [==============================] - 0s 64ms/step - loss: 0.3090 - mse: 0.3090\n",
            "Epoch 3/10\n",
            "1/1 [==============================] - 0s 59ms/step - loss: 0.3089 - mse: 0.3089\n",
            "Epoch 4/10\n",
            "1/1 [==============================] - 0s 63ms/step - loss: 0.3089 - mse: 0.3089\n",
            "Epoch 5/10\n",
            "1/1 [==============================] - 0s 57ms/step - loss: 0.3089 - mse: 0.3089\n",
            "Epoch 6/10\n",
            "1/1 [==============================] - 0s 60ms/step - loss: 0.3089 - mse: 0.3089\n",
            "Epoch 7/10\n",
            "1/1 [==============================] - 0s 59ms/step - loss: 0.3089 - mse: 0.3089\n",
            "Epoch 8/10\n",
            "1/1 [==============================] - 0s 59ms/step - loss: 0.3089 - mse: 0.3089\n",
            "Epoch 9/10\n",
            "1/1 [==============================] - 0s 62ms/step - loss: 0.3089 - mse: 0.3089\n",
            "Epoch 10/10\n",
            "1/1 [==============================] - 0s 59ms/step - loss: 0.3089 - mse: 0.3089\n"
          ],
          "name": "stdout"
        },
        {
          "output_type": "stream",
          "text": [
            "\r  8%|▊         | 42/529 [01:06<06:38,  1.22it/s]"
          ],
          "name": "stderr"
        },
        {
          "output_type": "stream",
          "text": [
            "Epoch 1/10\n",
            "1/1 [==============================] - 0s 62ms/step - loss: 0.3105 - mse: 0.3105\n",
            "Epoch 2/10\n",
            "1/1 [==============================] - 0s 57ms/step - loss: 0.3105 - mse: 0.3105\n",
            "Epoch 3/10\n",
            "1/1 [==============================] - 0s 55ms/step - loss: 0.3105 - mse: 0.3105\n",
            "Epoch 4/10\n",
            "1/1 [==============================] - 0s 58ms/step - loss: 0.3105 - mse: 0.3105\n",
            "Epoch 5/10\n",
            "1/1 [==============================] - 0s 64ms/step - loss: 0.3105 - mse: 0.3105\n",
            "Epoch 6/10\n",
            "1/1 [==============================] - 0s 59ms/step - loss: 0.3105 - mse: 0.3105\n",
            "Epoch 7/10\n",
            "1/1 [==============================] - 0s 59ms/step - loss: 0.3105 - mse: 0.3105\n",
            "Epoch 8/10\n",
            "1/1 [==============================] - 0s 58ms/step - loss: 0.3105 - mse: 0.3105\n",
            "Epoch 9/10\n",
            "1/1 [==============================] - 0s 58ms/step - loss: 0.3105 - mse: 0.3105\n",
            "Epoch 10/10\n",
            "1/1 [==============================] - 0s 58ms/step - loss: 0.3105 - mse: 0.3105\n"
          ],
          "name": "stdout"
        },
        {
          "output_type": "stream",
          "text": [
            "\r  8%|▊         | 43/529 [01:07<06:37,  1.22it/s]"
          ],
          "name": "stderr"
        },
        {
          "output_type": "stream",
          "text": [
            "Epoch 1/10\n",
            "1/1 [==============================] - 0s 58ms/step - loss: 0.3088 - mse: 0.3088\n",
            "Epoch 2/10\n",
            "1/1 [==============================] - 0s 57ms/step - loss: 0.3088 - mse: 0.3088\n",
            "Epoch 3/10\n",
            "1/1 [==============================] - 0s 58ms/step - loss: 0.3088 - mse: 0.3088\n",
            "Epoch 4/10\n",
            "1/1 [==============================] - 0s 61ms/step - loss: 0.3088 - mse: 0.3088\n",
            "Epoch 5/10\n",
            "1/1 [==============================] - 0s 55ms/step - loss: 0.3088 - mse: 0.3088\n",
            "Epoch 6/10\n",
            "1/1 [==============================] - 0s 56ms/step - loss: 0.3088 - mse: 0.3088\n",
            "Epoch 7/10\n",
            "1/1 [==============================] - 0s 56ms/step - loss: 0.3088 - mse: 0.3088\n",
            "Epoch 8/10\n",
            "1/1 [==============================] - 0s 65ms/step - loss: 0.3088 - mse: 0.3088\n",
            "Epoch 9/10\n",
            "1/1 [==============================] - 0s 59ms/step - loss: 0.3088 - mse: 0.3088\n",
            "Epoch 10/10\n",
            "1/1 [==============================] - 0s 58ms/step - loss: 0.3088 - mse: 0.3088\n"
          ],
          "name": "stdout"
        },
        {
          "output_type": "stream",
          "text": [
            "\r  8%|▊         | 44/529 [01:07<06:36,  1.22it/s]"
          ],
          "name": "stderr"
        },
        {
          "output_type": "stream",
          "text": [
            "Epoch 1/10\n",
            "1/1 [==============================] - 0s 59ms/step - loss: 0.3087 - mse: 0.3087\n",
            "Epoch 2/10\n",
            "1/1 [==============================] - 0s 55ms/step - loss: 0.3087 - mse: 0.3087\n",
            "Epoch 3/10\n",
            "1/1 [==============================] - 0s 52ms/step - loss: 0.3087 - mse: 0.3087\n",
            "Epoch 4/10\n",
            "1/1 [==============================] - 0s 56ms/step - loss: 0.3087 - mse: 0.3087\n",
            "Epoch 5/10\n",
            "1/1 [==============================] - 0s 58ms/step - loss: 0.3087 - mse: 0.3087\n",
            "Epoch 6/10\n",
            "1/1 [==============================] - 0s 59ms/step - loss: 0.3087 - mse: 0.3087\n",
            "Epoch 7/10\n",
            "1/1 [==============================] - 0s 57ms/step - loss: 0.3087 - mse: 0.3087\n",
            "Epoch 8/10\n",
            "1/1 [==============================] - 0s 56ms/step - loss: 0.3087 - mse: 0.3087\n",
            "Epoch 9/10\n",
            "1/1 [==============================] - 0s 59ms/step - loss: 0.3087 - mse: 0.3087\n",
            "Epoch 10/10\n",
            "1/1 [==============================] - 0s 57ms/step - loss: 0.3087 - mse: 0.3087\n"
          ],
          "name": "stdout"
        },
        {
          "output_type": "stream",
          "text": [
            "\r  9%|▊         | 45/529 [01:08<06:35,  1.22it/s]"
          ],
          "name": "stderr"
        },
        {
          "output_type": "stream",
          "text": [
            "Epoch 1/10\n",
            "1/1 [==============================] - 0s 60ms/step - loss: 0.2929 - mse: 0.2929\n",
            "Epoch 2/10\n",
            "1/1 [==============================] - 0s 56ms/step - loss: 0.2925 - mse: 0.2925\n",
            "Epoch 3/10\n",
            "1/1 [==============================] - 0s 61ms/step - loss: 0.2923 - mse: 0.2923\n",
            "Epoch 4/10\n",
            "1/1 [==============================] - 0s 59ms/step - loss: 0.2924 - mse: 0.2924\n",
            "Epoch 5/10\n",
            "1/1 [==============================] - 0s 61ms/step - loss: 0.2925 - mse: 0.2925\n",
            "Epoch 6/10\n",
            "1/1 [==============================] - 0s 60ms/step - loss: 0.2923 - mse: 0.2923\n",
            "Epoch 7/10\n",
            "1/1 [==============================] - 0s 60ms/step - loss: 0.2922 - mse: 0.2922\n",
            "Epoch 8/10\n",
            "1/1 [==============================] - 0s 61ms/step - loss: 0.2923 - mse: 0.2923\n",
            "Epoch 9/10\n",
            "1/1 [==============================] - 0s 59ms/step - loss: 0.2924 - mse: 0.2924\n",
            "Epoch 10/10\n",
            "1/1 [==============================] - 0s 57ms/step - loss: 0.2923 - mse: 0.2923\n"
          ],
          "name": "stdout"
        },
        {
          "output_type": "stream",
          "text": [
            "\r  9%|▊         | 46/529 [01:09<06:36,  1.22it/s]"
          ],
          "name": "stderr"
        },
        {
          "output_type": "stream",
          "text": [
            "Epoch 1/10\n",
            "1/1 [==============================] - 0s 64ms/step - loss: 0.3115 - mse: 0.3115\n",
            "Epoch 2/10\n",
            "1/1 [==============================] - 0s 57ms/step - loss: 0.3113 - mse: 0.3113\n",
            "Epoch 3/10\n",
            "1/1 [==============================] - 0s 56ms/step - loss: 0.3110 - mse: 0.3110\n",
            "Epoch 4/10\n",
            "1/1 [==============================] - 0s 56ms/step - loss: 0.3109 - mse: 0.3109\n",
            "Epoch 5/10\n",
            "1/1 [==============================] - 0s 63ms/step - loss: 0.3110 - mse: 0.3110\n",
            "Epoch 6/10\n",
            "1/1 [==============================] - 0s 60ms/step - loss: 0.3110 - mse: 0.3110\n",
            "Epoch 7/10\n",
            "1/1 [==============================] - 0s 61ms/step - loss: 0.3108 - mse: 0.3108\n",
            "Epoch 8/10\n",
            "1/1 [==============================] - 0s 61ms/step - loss: 0.3107 - mse: 0.3107\n",
            "Epoch 9/10\n",
            "1/1 [==============================] - 0s 66ms/step - loss: 0.3108 - mse: 0.3108\n",
            "Epoch 10/10\n",
            "1/1 [==============================] - 0s 56ms/step - loss: 0.3108 - mse: 0.3108\n"
          ],
          "name": "stdout"
        },
        {
          "output_type": "stream",
          "text": [
            "\r  9%|▉         | 47/529 [01:10<06:37,  1.21it/s]"
          ],
          "name": "stderr"
        },
        {
          "output_type": "stream",
          "text": [
            "Epoch 1/10\n",
            "1/1 [==============================] - 0s 59ms/step - loss: 0.3107 - mse: 0.3107\n",
            "Epoch 2/10\n",
            "1/1 [==============================] - 0s 58ms/step - loss: 0.3106 - mse: 0.3106\n",
            "Epoch 3/10\n",
            "1/1 [==============================] - 0s 56ms/step - loss: 0.3107 - mse: 0.3107\n",
            "Epoch 4/10\n",
            "1/1 [==============================] - 0s 62ms/step - loss: 0.3107 - mse: 0.3107\n",
            "Epoch 5/10\n",
            "1/1 [==============================] - 0s 60ms/step - loss: 0.3106 - mse: 0.3106\n",
            "Epoch 6/10\n",
            "1/1 [==============================] - 0s 62ms/step - loss: 0.3106 - mse: 0.3106\n",
            "Epoch 7/10\n",
            "1/1 [==============================] - 0s 60ms/step - loss: 0.3106 - mse: 0.3106\n",
            "Epoch 8/10\n",
            "1/1 [==============================] - 0s 59ms/step - loss: 0.3106 - mse: 0.3106\n",
            "Epoch 9/10\n",
            "1/1 [==============================] - 0s 56ms/step - loss: 0.3106 - mse: 0.3106\n",
            "Epoch 10/10\n",
            "1/1 [==============================] - 0s 55ms/step - loss: 0.3106 - mse: 0.3106\n"
          ],
          "name": "stdout"
        },
        {
          "output_type": "stream",
          "text": [
            "\r  9%|▉         | 48/529 [01:11<06:38,  1.21it/s]"
          ],
          "name": "stderr"
        },
        {
          "output_type": "stream",
          "text": [
            "Epoch 1/10\n",
            "1/1 [==============================] - 0s 58ms/step - loss: 0.3075 - mse: 0.3075\n",
            "Epoch 2/10\n",
            "1/1 [==============================] - 0s 56ms/step - loss: 0.3075 - mse: 0.3075\n",
            "Epoch 3/10\n",
            "1/1 [==============================] - 0s 59ms/step - loss: 0.3075 - mse: 0.3075\n",
            "Epoch 4/10\n",
            "1/1 [==============================] - 0s 63ms/step - loss: 0.3074 - mse: 0.3074\n",
            "Epoch 5/10\n",
            "1/1 [==============================] - 0s 69ms/step - loss: 0.3075 - mse: 0.3075\n",
            "Epoch 6/10\n",
            "1/1 [==============================] - 0s 60ms/step - loss: 0.3075 - mse: 0.3075\n",
            "Epoch 7/10\n",
            "1/1 [==============================] - 0s 57ms/step - loss: 0.3075 - mse: 0.3075\n",
            "Epoch 8/10\n",
            "1/1 [==============================] - 0s 60ms/step - loss: 0.3074 - mse: 0.3074\n",
            "Epoch 9/10\n",
            "1/1 [==============================] - 0s 64ms/step - loss: 0.3074 - mse: 0.3074\n",
            "Epoch 10/10\n",
            "1/1 [==============================] - 0s 58ms/step - loss: 0.3075 - mse: 0.3075\n"
          ],
          "name": "stdout"
        },
        {
          "output_type": "stream",
          "text": [
            "\r  9%|▉         | 49/529 [01:12<06:56,  1.15it/s]"
          ],
          "name": "stderr"
        },
        {
          "output_type": "stream",
          "text": [
            "Epoch 1/10\n",
            "1/1 [==============================] - 0s 57ms/step - loss: 0.3085 - mse: 0.3085\n",
            "Epoch 2/10\n",
            "1/1 [==============================] - 0s 57ms/step - loss: 0.3084 - mse: 0.3084\n",
            "Epoch 3/10\n",
            "1/1 [==============================] - 0s 57ms/step - loss: 0.3084 - mse: 0.3084\n",
            "Epoch 4/10\n",
            "1/1 [==============================] - 0s 63ms/step - loss: 0.3085 - mse: 0.3085\n",
            "Epoch 5/10\n",
            "1/1 [==============================] - 0s 61ms/step - loss: 0.3084 - mse: 0.3084\n",
            "Epoch 6/10\n",
            "1/1 [==============================] - 0s 57ms/step - loss: 0.3084 - mse: 0.3084\n",
            "Epoch 7/10\n",
            "1/1 [==============================] - 0s 63ms/step - loss: 0.3084 - mse: 0.3084\n",
            "Epoch 8/10\n",
            "1/1 [==============================] - 0s 62ms/step - loss: 0.3084 - mse: 0.3084\n",
            "Epoch 9/10\n",
            "1/1 [==============================] - 0s 59ms/step - loss: 0.3084 - mse: 0.3084\n",
            "Epoch 10/10\n",
            "1/1 [==============================] - 0s 57ms/step - loss: 0.3084 - mse: 0.3084\n"
          ],
          "name": "stdout"
        },
        {
          "output_type": "stream",
          "text": [
            "\r  9%|▉         | 50/529 [01:13<06:49,  1.17it/s]"
          ],
          "name": "stderr"
        },
        {
          "output_type": "stream",
          "text": [
            "Epoch 1/10\n",
            "1/1 [==============================] - 0s 60ms/step - loss: 0.3025 - mse: 0.3025\n",
            "Epoch 2/10\n",
            "1/1 [==============================] - 0s 55ms/step - loss: 0.3024 - mse: 0.3024\n",
            "Epoch 3/10\n",
            "1/1 [==============================] - 0s 58ms/step - loss: 0.3024 - mse: 0.3024\n",
            "Epoch 4/10\n",
            "1/1 [==============================] - 0s 58ms/step - loss: 0.3024 - mse: 0.3024\n",
            "Epoch 5/10\n",
            "1/1 [==============================] - 0s 63ms/step - loss: 0.3024 - mse: 0.3024\n",
            "Epoch 6/10\n",
            "1/1 [==============================] - 0s 62ms/step - loss: 0.3023 - mse: 0.3023\n",
            "Epoch 7/10\n",
            "1/1 [==============================] - 0s 60ms/step - loss: 0.3023 - mse: 0.3023\n",
            "Epoch 8/10\n",
            "1/1 [==============================] - 0s 61ms/step - loss: 0.3023 - mse: 0.3023\n",
            "Epoch 9/10\n",
            "1/1 [==============================] - 0s 62ms/step - loss: 0.3024 - mse: 0.3024\n",
            "Epoch 10/10\n",
            "1/1 [==============================] - 0s 66ms/step - loss: 0.3023 - mse: 0.3023\n"
          ],
          "name": "stdout"
        },
        {
          "output_type": "stream",
          "text": [
            "\r 10%|▉         | 51/529 [01:13<06:46,  1.18it/s]"
          ],
          "name": "stderr"
        },
        {
          "output_type": "stream",
          "text": [
            "Epoch 1/10\n",
            "1/1 [==============================] - 0s 59ms/step - loss: 0.3083 - mse: 0.3083\n",
            "Epoch 2/10\n",
            "1/1 [==============================] - 0s 54ms/step - loss: 0.3082 - mse: 0.3082\n",
            "Epoch 3/10\n",
            "1/1 [==============================] - 0s 56ms/step - loss: 0.3081 - mse: 0.3081\n",
            "Epoch 4/10\n",
            "1/1 [==============================] - 0s 63ms/step - loss: 0.3081 - mse: 0.3081\n",
            "Epoch 5/10\n",
            "1/1 [==============================] - 0s 58ms/step - loss: 0.3081 - mse: 0.3081\n",
            "Epoch 6/10\n",
            "1/1 [==============================] - 0s 59ms/step - loss: 0.3081 - mse: 0.3081\n",
            "Epoch 7/10\n",
            "1/1 [==============================] - 0s 61ms/step - loss: 0.3081 - mse: 0.3081\n",
            "Epoch 8/10\n",
            "1/1 [==============================] - 0s 62ms/step - loss: 0.3080 - mse: 0.3080\n",
            "Epoch 9/10\n",
            "1/1 [==============================] - 0s 57ms/step - loss: 0.3081 - mse: 0.3081\n",
            "Epoch 10/10\n",
            "1/1 [==============================] - 0s 62ms/step - loss: 0.3081 - mse: 0.3081\n"
          ],
          "name": "stdout"
        },
        {
          "output_type": "stream",
          "text": [
            "\r 10%|▉         | 52/529 [01:14<06:45,  1.18it/s]"
          ],
          "name": "stderr"
        },
        {
          "output_type": "stream",
          "text": [
            "Epoch 1/10\n",
            "1/1 [==============================] - 0s 60ms/step - loss: 0.3067 - mse: 0.3067\n",
            "Epoch 2/10\n",
            "1/1 [==============================] - 0s 57ms/step - loss: 0.3067 - mse: 0.3067\n",
            "Epoch 3/10\n",
            "1/1 [==============================] - 0s 57ms/step - loss: 0.3067 - mse: 0.3067\n",
            "Epoch 4/10\n",
            "1/1 [==============================] - 0s 58ms/step - loss: 0.3067 - mse: 0.3067\n",
            "Epoch 5/10\n",
            "1/1 [==============================] - 0s 59ms/step - loss: 0.3067 - mse: 0.3067\n",
            "Epoch 6/10\n",
            "1/1 [==============================] - 0s 60ms/step - loss: 0.3067 - mse: 0.3067\n",
            "Epoch 7/10\n",
            "1/1 [==============================] - 0s 54ms/step - loss: 0.3067 - mse: 0.3067\n",
            "Epoch 8/10\n",
            "1/1 [==============================] - 0s 58ms/step - loss: 0.3067 - mse: 0.3067\n",
            "Epoch 9/10\n",
            "1/1 [==============================] - 0s 61ms/step - loss: 0.3067 - mse: 0.3067\n",
            "Epoch 10/10\n",
            "1/1 [==============================] - 0s 57ms/step - loss: 0.3067 - mse: 0.3067\n"
          ],
          "name": "stdout"
        },
        {
          "output_type": "stream",
          "text": [
            "\r 10%|█         | 53/529 [01:15<06:40,  1.19it/s]"
          ],
          "name": "stderr"
        },
        {
          "output_type": "stream",
          "text": [
            "Epoch 1/10\n",
            "1/1 [==============================] - 0s 58ms/step - loss: 0.3045 - mse: 0.3045\n",
            "Epoch 2/10\n",
            "1/1 [==============================] - 0s 55ms/step - loss: 0.3045 - mse: 0.3045\n",
            "Epoch 3/10\n",
            "1/1 [==============================] - 0s 56ms/step - loss: 0.3045 - mse: 0.3045\n",
            "Epoch 4/10\n",
            "1/1 [==============================] - 0s 58ms/step - loss: 0.3044 - mse: 0.3044\n",
            "Epoch 5/10\n",
            "1/1 [==============================] - 0s 64ms/step - loss: 0.3044 - mse: 0.3044\n",
            "Epoch 6/10\n",
            "1/1 [==============================] - 0s 59ms/step - loss: 0.3044 - mse: 0.3044\n",
            "Epoch 7/10\n",
            "1/1 [==============================] - 0s 59ms/step - loss: 0.3044 - mse: 0.3044\n",
            "Epoch 8/10\n",
            "1/1 [==============================] - 0s 62ms/step - loss: 0.3044 - mse: 0.3044\n",
            "Epoch 9/10\n",
            "1/1 [==============================] - 0s 58ms/step - loss: 0.3044 - mse: 0.3044\n",
            "Epoch 10/10\n",
            "1/1 [==============================] - 0s 55ms/step - loss: 0.3044 - mse: 0.3044\n"
          ],
          "name": "stdout"
        },
        {
          "output_type": "stream",
          "text": [
            "\r 10%|█         | 54/529 [01:16<06:39,  1.19it/s]"
          ],
          "name": "stderr"
        },
        {
          "output_type": "stream",
          "text": [
            "Epoch 1/10\n",
            "1/1 [==============================] - 0s 58ms/step - loss: 0.3137 - mse: 0.3137\n",
            "Epoch 2/10\n",
            "1/1 [==============================] - 0s 54ms/step - loss: 0.3136 - mse: 0.3136\n",
            "Epoch 3/10\n",
            "1/1 [==============================] - 0s 61ms/step - loss: 0.3136 - mse: 0.3136\n",
            "Epoch 4/10\n",
            "1/1 [==============================] - 0s 58ms/step - loss: 0.3136 - mse: 0.3136\n",
            "Epoch 5/10\n",
            "1/1 [==============================] - 0s 70ms/step - loss: 0.3136 - mse: 0.3136\n",
            "Epoch 6/10\n",
            "1/1 [==============================] - 0s 58ms/step - loss: 0.3135 - mse: 0.3135\n",
            "Epoch 7/10\n",
            "1/1 [==============================] - 0s 59ms/step - loss: 0.3135 - mse: 0.3135\n",
            "Epoch 8/10\n",
            "1/1 [==============================] - 0s 58ms/step - loss: 0.3135 - mse: 0.3135\n",
            "Epoch 9/10\n",
            "1/1 [==============================] - 0s 60ms/step - loss: 0.3136 - mse: 0.3136\n",
            "Epoch 10/10\n",
            "1/1 [==============================] - 0s 62ms/step - loss: 0.3135 - mse: 0.3135\n"
          ],
          "name": "stdout"
        },
        {
          "output_type": "stream",
          "text": [
            "\r 10%|█         | 55/529 [01:17<06:38,  1.19it/s]"
          ],
          "name": "stderr"
        },
        {
          "output_type": "stream",
          "text": [
            "Epoch 1/10\n",
            "1/1 [==============================] - 0s 64ms/step - loss: 0.3056 - mse: 0.3056\n",
            "Epoch 2/10\n",
            "1/1 [==============================] - 0s 57ms/step - loss: 0.3055 - mse: 0.3055\n",
            "Epoch 3/10\n",
            "1/1 [==============================] - 0s 56ms/step - loss: 0.3054 - mse: 0.3054\n",
            "Epoch 4/10\n",
            "1/1 [==============================] - 0s 59ms/step - loss: 0.3054 - mse: 0.3054\n",
            "Epoch 5/10\n",
            "1/1 [==============================] - 0s 62ms/step - loss: 0.3055 - mse: 0.3055\n",
            "Epoch 6/10\n",
            "1/1 [==============================] - 0s 60ms/step - loss: 0.3054 - mse: 0.3054\n",
            "Epoch 7/10\n",
            "1/1 [==============================] - 0s 58ms/step - loss: 0.3054 - mse: 0.3054\n",
            "Epoch 8/10\n",
            "1/1 [==============================] - 0s 61ms/step - loss: 0.3054 - mse: 0.3054\n",
            "Epoch 9/10\n",
            "1/1 [==============================] - 0s 58ms/step - loss: 0.3054 - mse: 0.3054\n",
            "Epoch 10/10\n",
            "1/1 [==============================] - 0s 60ms/step - loss: 0.3054 - mse: 0.3054\n"
          ],
          "name": "stdout"
        },
        {
          "output_type": "stream",
          "text": [
            "\r 11%|█         | 56/529 [01:18<06:37,  1.19it/s]"
          ],
          "name": "stderr"
        },
        {
          "output_type": "stream",
          "text": [
            "Epoch 1/10\n",
            "1/1 [==============================] - 0s 59ms/step - loss: 0.3073 - mse: 0.3073\n",
            "Epoch 2/10\n",
            "1/1 [==============================] - 0s 60ms/step - loss: 0.3073 - mse: 0.3073\n",
            "Epoch 3/10\n",
            "1/1 [==============================] - 0s 58ms/step - loss: 0.3073 - mse: 0.3073\n",
            "Epoch 4/10\n",
            "1/1 [==============================] - 0s 57ms/step - loss: 0.3073 - mse: 0.3073\n",
            "Epoch 5/10\n",
            "1/1 [==============================] - 0s 59ms/step - loss: 0.3073 - mse: 0.3073\n",
            "Epoch 6/10\n",
            "1/1 [==============================] - 0s 61ms/step - loss: 0.3073 - mse: 0.3073\n",
            "Epoch 7/10\n",
            "1/1 [==============================] - 0s 58ms/step - loss: 0.3073 - mse: 0.3073\n",
            "Epoch 8/10\n",
            "1/1 [==============================] - 0s 61ms/step - loss: 0.3073 - mse: 0.3073\n",
            "Epoch 9/10\n",
            "1/1 [==============================] - 0s 55ms/step - loss: 0.3073 - mse: 0.3073\n",
            "Epoch 10/10\n",
            "1/1 [==============================] - 0s 59ms/step - loss: 0.3073 - mse: 0.3073\n"
          ],
          "name": "stdout"
        },
        {
          "output_type": "stream",
          "text": [
            "\r 11%|█         | 57/529 [01:18<06:34,  1.20it/s]"
          ],
          "name": "stderr"
        },
        {
          "output_type": "stream",
          "text": [
            "Epoch 1/10\n",
            "1/1 [==============================] - 0s 60ms/step - loss: 0.3036 - mse: 0.3036\n",
            "Epoch 2/10\n",
            "1/1 [==============================] - 0s 55ms/step - loss: 0.3036 - mse: 0.3036\n",
            "Epoch 3/10\n",
            "1/1 [==============================] - 0s 57ms/step - loss: 0.3036 - mse: 0.3036\n",
            "Epoch 4/10\n",
            "1/1 [==============================] - 0s 63ms/step - loss: 0.3035 - mse: 0.3035\n",
            "Epoch 5/10\n",
            "1/1 [==============================] - 0s 58ms/step - loss: 0.3035 - mse: 0.3035\n",
            "Epoch 6/10\n",
            "1/1 [==============================] - 0s 62ms/step - loss: 0.3035 - mse: 0.3035\n",
            "Epoch 7/10\n",
            "1/1 [==============================] - 0s 57ms/step - loss: 0.3035 - mse: 0.3035\n",
            "Epoch 8/10\n",
            "1/1 [==============================] - 0s 57ms/step - loss: 0.3035 - mse: 0.3035\n",
            "Epoch 9/10\n",
            "1/1 [==============================] - 0s 58ms/step - loss: 0.3035 - mse: 0.3035\n",
            "Epoch 10/10\n",
            "1/1 [==============================] - 0s 58ms/step - loss: 0.3035 - mse: 0.3035\n"
          ],
          "name": "stdout"
        },
        {
          "output_type": "stream",
          "text": [
            "\r 11%|█         | 58/529 [01:19<06:32,  1.20it/s]"
          ],
          "name": "stderr"
        },
        {
          "output_type": "stream",
          "text": [
            "Epoch 1/10\n",
            "1/1 [==============================] - 0s 60ms/step - loss: 0.3059 - mse: 0.3059\n",
            "Epoch 2/10\n",
            "1/1 [==============================] - 0s 56ms/step - loss: 0.3059 - mse: 0.3059\n",
            "Epoch 3/10\n",
            "1/1 [==============================] - 0s 57ms/step - loss: 0.3059 - mse: 0.3059\n",
            "Epoch 4/10\n",
            "1/1 [==============================] - 0s 56ms/step - loss: 0.3059 - mse: 0.3059\n",
            "Epoch 5/10\n",
            "1/1 [==============================] - 0s 61ms/step - loss: 0.3059 - mse: 0.3059\n",
            "Epoch 6/10\n",
            "1/1 [==============================] - 0s 60ms/step - loss: 0.3059 - mse: 0.3059\n",
            "Epoch 7/10\n",
            "1/1 [==============================] - 0s 56ms/step - loss: 0.3059 - mse: 0.3059\n",
            "Epoch 8/10\n",
            "1/1 [==============================] - 0s 60ms/step - loss: 0.3059 - mse: 0.3059\n",
            "Epoch 9/10\n",
            "1/1 [==============================] - 0s 58ms/step - loss: 0.3059 - mse: 0.3059\n",
            "Epoch 10/10\n",
            "1/1 [==============================] - 0s 57ms/step - loss: 0.3059 - mse: 0.3059\n"
          ],
          "name": "stdout"
        },
        {
          "output_type": "stream",
          "text": [
            "\r 11%|█         | 59/529 [01:20<06:29,  1.21it/s]"
          ],
          "name": "stderr"
        },
        {
          "output_type": "stream",
          "text": [
            "Epoch 1/10\n",
            "1/1 [==============================] - 0s 59ms/step - loss: 0.3078 - mse: 0.3078\n",
            "Epoch 2/10\n",
            "1/1 [==============================] - 0s 57ms/step - loss: 0.3078 - mse: 0.3078\n",
            "Epoch 3/10\n",
            "1/1 [==============================] - 0s 60ms/step - loss: 0.3078 - mse: 0.3078\n",
            "Epoch 4/10\n",
            "1/1 [==============================] - 0s 63ms/step - loss: 0.3078 - mse: 0.3078\n",
            "Epoch 5/10\n",
            "1/1 [==============================] - 0s 58ms/step - loss: 0.3078 - mse: 0.3078\n",
            "Epoch 6/10\n",
            "1/1 [==============================] - 0s 55ms/step - loss: 0.3078 - mse: 0.3078\n",
            "Epoch 7/10\n",
            "1/1 [==============================] - 0s 59ms/step - loss: 0.3078 - mse: 0.3078\n",
            "Epoch 8/10\n",
            "1/1 [==============================] - 0s 61ms/step - loss: 0.3078 - mse: 0.3078\n",
            "Epoch 9/10\n",
            "1/1 [==============================] - 0s 59ms/step - loss: 0.3078 - mse: 0.3078\n",
            "Epoch 10/10\n",
            "1/1 [==============================] - 0s 55ms/step - loss: 0.3078 - mse: 0.3078\n"
          ],
          "name": "stdout"
        },
        {
          "output_type": "stream",
          "text": [
            "\r 11%|█▏        | 60/529 [01:21<06:29,  1.20it/s]"
          ],
          "name": "stderr"
        },
        {
          "output_type": "stream",
          "text": [
            "Epoch 1/10\n",
            "1/1 [==============================] - 0s 60ms/step - loss: 0.3101 - mse: 0.3101\n",
            "Epoch 2/10\n",
            "1/1 [==============================] - 0s 57ms/step - loss: 0.3101 - mse: 0.3101\n",
            "Epoch 3/10\n",
            "1/1 [==============================] - 0s 64ms/step - loss: 0.3101 - mse: 0.3101\n",
            "Epoch 4/10\n",
            "1/1 [==============================] - 0s 63ms/step - loss: 0.3100 - mse: 0.3100\n",
            "Epoch 5/10\n",
            "1/1 [==============================] - 0s 63ms/step - loss: 0.3100 - mse: 0.3100\n",
            "Epoch 6/10\n",
            "1/1 [==============================] - 0s 60ms/step - loss: 0.3100 - mse: 0.3100\n",
            "Epoch 7/10\n",
            "1/1 [==============================] - 0s 72ms/step - loss: 0.3100 - mse: 0.3100\n",
            "Epoch 8/10\n",
            "1/1 [==============================] - 0s 61ms/step - loss: 0.3100 - mse: 0.3100\n",
            "Epoch 9/10\n",
            "1/1 [==============================] - 0s 56ms/step - loss: 0.3100 - mse: 0.3100\n",
            "Epoch 10/10\n",
            "1/1 [==============================] - 0s 56ms/step - loss: 0.3100 - mse: 0.3100\n"
          ],
          "name": "stdout"
        },
        {
          "output_type": "stream",
          "text": [
            "\r 12%|█▏        | 61/529 [01:22<06:29,  1.20it/s]"
          ],
          "name": "stderr"
        },
        {
          "output_type": "stream",
          "text": [
            "Epoch 1/10\n",
            "1/1 [==============================] - 0s 58ms/step - loss: 0.3113 - mse: 0.3113\n",
            "Epoch 2/10\n",
            "1/1 [==============================] - 0s 59ms/step - loss: 0.3113 - mse: 0.3113\n",
            "Epoch 3/10\n",
            "1/1 [==============================] - 0s 55ms/step - loss: 0.3113 - mse: 0.3113\n",
            "Epoch 4/10\n",
            "1/1 [==============================] - 0s 58ms/step - loss: 0.3113 - mse: 0.3113\n",
            "Epoch 5/10\n",
            "1/1 [==============================] - 0s 60ms/step - loss: 0.3113 - mse: 0.3113\n",
            "Epoch 6/10\n",
            "1/1 [==============================] - 0s 59ms/step - loss: 0.3113 - mse: 0.3113\n",
            "Epoch 7/10\n",
            "1/1 [==============================] - 0s 61ms/step - loss: 0.3113 - mse: 0.3113\n",
            "Epoch 8/10\n",
            "1/1 [==============================] - 0s 63ms/step - loss: 0.3113 - mse: 0.3113\n",
            "Epoch 9/10\n",
            "1/1 [==============================] - 0s 63ms/step - loss: 0.3113 - mse: 0.3113\n",
            "Epoch 10/10\n",
            "1/1 [==============================] - 0s 65ms/step - loss: 0.3113 - mse: 0.3113\n"
          ],
          "name": "stdout"
        },
        {
          "output_type": "stream",
          "text": [
            "\r 12%|█▏        | 62/529 [01:23<06:27,  1.20it/s]"
          ],
          "name": "stderr"
        },
        {
          "output_type": "stream",
          "text": [
            "Epoch 1/10\n",
            "1/1 [==============================] - 0s 57ms/step - loss: 0.3082 - mse: 0.3082\n",
            "Epoch 2/10\n",
            "1/1 [==============================] - 0s 55ms/step - loss: 0.3082 - mse: 0.3082\n",
            "Epoch 3/10\n",
            "1/1 [==============================] - 0s 60ms/step - loss: 0.3082 - mse: 0.3082\n",
            "Epoch 4/10\n",
            "1/1 [==============================] - 0s 57ms/step - loss: 0.3082 - mse: 0.3082\n",
            "Epoch 5/10\n",
            "1/1 [==============================] - 0s 61ms/step - loss: 0.3082 - mse: 0.3082\n",
            "Epoch 6/10\n",
            "1/1 [==============================] - 0s 59ms/step - loss: 0.3082 - mse: 0.3082\n",
            "Epoch 7/10\n",
            "1/1 [==============================] - 0s 59ms/step - loss: 0.3082 - mse: 0.3082\n",
            "Epoch 8/10\n",
            "1/1 [==============================] - 0s 57ms/step - loss: 0.3082 - mse: 0.3082\n",
            "Epoch 9/10\n",
            "1/1 [==============================] - 0s 58ms/step - loss: 0.3082 - mse: 0.3082\n",
            "Epoch 10/10\n",
            "1/1 [==============================] - 0s 62ms/step - loss: 0.3082 - mse: 0.3082\n"
          ],
          "name": "stdout"
        },
        {
          "output_type": "stream",
          "text": [
            "\r 12%|█▏        | 63/529 [01:23<06:27,  1.20it/s]"
          ],
          "name": "stderr"
        },
        {
          "output_type": "stream",
          "text": [
            "Epoch 1/10\n",
            "1/1 [==============================] - 0s 60ms/step - loss: 0.3037 - mse: 0.3037\n",
            "Epoch 2/10\n",
            "1/1 [==============================] - 0s 55ms/step - loss: 0.3037 - mse: 0.3037\n",
            "Epoch 3/10\n",
            "1/1 [==============================] - 0s 54ms/step - loss: 0.3037 - mse: 0.3037\n",
            "Epoch 4/10\n",
            "1/1 [==============================] - 0s 60ms/step - loss: 0.3037 - mse: 0.3037\n",
            "Epoch 5/10\n",
            "1/1 [==============================] - 0s 57ms/step - loss: 0.3037 - mse: 0.3037\n",
            "Epoch 6/10\n",
            "1/1 [==============================] - 0s 60ms/step - loss: 0.3037 - mse: 0.3037\n",
            "Epoch 7/10\n",
            "1/1 [==============================] - 0s 58ms/step - loss: 0.3037 - mse: 0.3037\n",
            "Epoch 8/10\n",
            "1/1 [==============================] - 0s 58ms/step - loss: 0.3037 - mse: 0.3037\n",
            "Epoch 9/10\n",
            "1/1 [==============================] - 0s 57ms/step - loss: 0.3037 - mse: 0.3037\n",
            "Epoch 10/10\n",
            "1/1 [==============================] - 0s 60ms/step - loss: 0.3037 - mse: 0.3037\n"
          ],
          "name": "stdout"
        },
        {
          "output_type": "stream",
          "text": [
            "\r 12%|█▏        | 64/529 [01:24<06:26,  1.20it/s]"
          ],
          "name": "stderr"
        },
        {
          "output_type": "stream",
          "text": [
            "Epoch 1/10\n",
            "1/1 [==============================] - 0s 57ms/step - loss: 0.3077 - mse: 0.3077\n",
            "Epoch 2/10\n",
            "1/1 [==============================] - 0s 62ms/step - loss: 0.3077 - mse: 0.3077\n",
            "Epoch 3/10\n",
            "1/1 [==============================] - 0s 55ms/step - loss: 0.3076 - mse: 0.3076\n",
            "Epoch 4/10\n",
            "1/1 [==============================] - 0s 59ms/step - loss: 0.3077 - mse: 0.3077\n",
            "Epoch 5/10\n",
            "1/1 [==============================] - 0s 58ms/step - loss: 0.3077 - mse: 0.3077\n",
            "Epoch 6/10\n",
            "1/1 [==============================] - 0s 58ms/step - loss: 0.3076 - mse: 0.3076\n",
            "Epoch 7/10\n",
            "1/1 [==============================] - 0s 58ms/step - loss: 0.3076 - mse: 0.3076\n",
            "Epoch 8/10\n",
            "1/1 [==============================] - 0s 56ms/step - loss: 0.3076 - mse: 0.3076\n",
            "Epoch 9/10\n",
            "1/1 [==============================] - 0s 63ms/step - loss: 0.3076 - mse: 0.3076\n",
            "Epoch 10/10\n",
            "1/1 [==============================] - 0s 61ms/step - loss: 0.3076 - mse: 0.3076\n"
          ],
          "name": "stdout"
        },
        {
          "output_type": "stream",
          "text": [
            "\r 12%|█▏        | 65/529 [01:25<06:25,  1.20it/s]"
          ],
          "name": "stderr"
        },
        {
          "output_type": "stream",
          "text": [
            "Epoch 1/10\n",
            "1/1 [==============================] - 0s 57ms/step - loss: 0.3094 - mse: 0.3094\n",
            "Epoch 2/10\n",
            "1/1 [==============================] - 0s 54ms/step - loss: 0.3094 - mse: 0.3094\n",
            "Epoch 3/10\n",
            "1/1 [==============================] - 0s 57ms/step - loss: 0.3094 - mse: 0.3094\n",
            "Epoch 4/10\n",
            "1/1 [==============================] - 0s 57ms/step - loss: 0.3094 - mse: 0.3094\n",
            "Epoch 5/10\n",
            "1/1 [==============================] - 0s 61ms/step - loss: 0.3094 - mse: 0.3094\n",
            "Epoch 6/10\n",
            "1/1 [==============================] - 0s 58ms/step - loss: 0.3094 - mse: 0.3094\n",
            "Epoch 7/10\n",
            "1/1 [==============================] - 0s 65ms/step - loss: 0.3094 - mse: 0.3094\n",
            "Epoch 8/10\n",
            "1/1 [==============================] - 0s 56ms/step - loss: 0.3094 - mse: 0.3094\n",
            "Epoch 9/10\n",
            "1/1 [==============================] - 0s 58ms/step - loss: 0.3094 - mse: 0.3094\n",
            "Epoch 10/10\n",
            "1/1 [==============================] - 0s 57ms/step - loss: 0.3094 - mse: 0.3094\n"
          ],
          "name": "stdout"
        },
        {
          "output_type": "stream",
          "text": [
            "\r 12%|█▏        | 66/529 [01:26<06:25,  1.20it/s]"
          ],
          "name": "stderr"
        },
        {
          "output_type": "stream",
          "text": [
            "Epoch 1/10\n",
            "1/1 [==============================] - 0s 57ms/step - loss: 0.3146 - mse: 0.3146\n",
            "Epoch 2/10\n",
            "1/1 [==============================] - 0s 60ms/step - loss: 0.3146 - mse: 0.3146\n",
            "Epoch 3/10\n",
            "1/1 [==============================] - 0s 55ms/step - loss: 0.3145 - mse: 0.3145\n",
            "Epoch 4/10\n",
            "1/1 [==============================] - 0s 56ms/step - loss: 0.3145 - mse: 0.3145\n",
            "Epoch 5/10\n",
            "1/1 [==============================] - 0s 58ms/step - loss: 0.3145 - mse: 0.3145\n",
            "Epoch 6/10\n",
            "1/1 [==============================] - 0s 57ms/step - loss: 0.3145 - mse: 0.3145\n",
            "Epoch 7/10\n",
            "1/1 [==============================] - 0s 61ms/step - loss: 0.3145 - mse: 0.3145\n",
            "Epoch 8/10\n",
            "1/1 [==============================] - 0s 64ms/step - loss: 0.3145 - mse: 0.3145\n",
            "Epoch 9/10\n",
            "1/1 [==============================] - 0s 61ms/step - loss: 0.3145 - mse: 0.3145\n",
            "Epoch 10/10\n",
            "1/1 [==============================] - 0s 54ms/step - loss: 0.3145 - mse: 0.3145\n"
          ],
          "name": "stdout"
        },
        {
          "output_type": "stream",
          "text": [
            "\r 13%|█▎        | 67/529 [01:27<06:21,  1.21it/s]"
          ],
          "name": "stderr"
        },
        {
          "output_type": "stream",
          "text": [
            "Epoch 1/10\n",
            "1/1 [==============================] - 0s 57ms/step - loss: 0.3069 - mse: 0.3069\n",
            "Epoch 2/10\n",
            "1/1 [==============================] - 0s 55ms/step - loss: 0.3068 - mse: 0.3068\n",
            "Epoch 3/10\n",
            "1/1 [==============================] - 0s 54ms/step - loss: 0.3068 - mse: 0.3068\n",
            "Epoch 4/10\n",
            "1/1 [==============================] - 0s 56ms/step - loss: 0.3068 - mse: 0.3068\n",
            "Epoch 5/10\n",
            "1/1 [==============================] - 0s 59ms/step - loss: 0.3068 - mse: 0.3068\n",
            "Epoch 6/10\n",
            "1/1 [==============================] - 0s 62ms/step - loss: 0.3068 - mse: 0.3068\n",
            "Epoch 7/10\n",
            "1/1 [==============================] - 0s 59ms/step - loss: 0.3068 - mse: 0.3068\n",
            "Epoch 8/10\n",
            "1/1 [==============================] - 0s 55ms/step - loss: 0.3068 - mse: 0.3068\n",
            "Epoch 9/10\n",
            "1/1 [==============================] - 0s 58ms/step - loss: 0.3068 - mse: 0.3068\n",
            "Epoch 10/10\n",
            "1/1 [==============================] - 0s 61ms/step - loss: 0.3068 - mse: 0.3068\n"
          ],
          "name": "stdout"
        },
        {
          "output_type": "stream",
          "text": [
            "\r 13%|█▎        | 68/529 [01:27<06:21,  1.21it/s]"
          ],
          "name": "stderr"
        },
        {
          "output_type": "stream",
          "text": [
            "Epoch 1/10\n",
            "1/1 [==============================] - 0s 58ms/step - loss: 0.3104 - mse: 0.3104\n",
            "Epoch 2/10\n",
            "1/1 [==============================] - 0s 57ms/step - loss: 0.3104 - mse: 0.3104\n",
            "Epoch 3/10\n",
            "1/1 [==============================] - 0s 56ms/step - loss: 0.3103 - mse: 0.3103\n",
            "Epoch 4/10\n",
            "1/1 [==============================] - 0s 61ms/step - loss: 0.3103 - mse: 0.3103\n",
            "Epoch 5/10\n",
            "1/1 [==============================] - 0s 59ms/step - loss: 0.3103 - mse: 0.3103\n",
            "Epoch 6/10\n",
            "1/1 [==============================] - 0s 58ms/step - loss: 0.3103 - mse: 0.3103\n",
            "Epoch 7/10\n",
            "1/1 [==============================] - 0s 59ms/step - loss: 0.3103 - mse: 0.3103\n",
            "Epoch 8/10\n",
            "1/1 [==============================] - 0s 58ms/step - loss: 0.3103 - mse: 0.3103\n",
            "Epoch 9/10\n",
            "1/1 [==============================] - 0s 56ms/step - loss: 0.3103 - mse: 0.3103\n",
            "Epoch 10/10\n",
            "1/1 [==============================] - 0s 58ms/step - loss: 0.3103 - mse: 0.3103\n"
          ],
          "name": "stdout"
        },
        {
          "output_type": "stream",
          "text": [
            "\r 13%|█▎        | 69/529 [01:28<06:21,  1.21it/s]"
          ],
          "name": "stderr"
        },
        {
          "output_type": "stream",
          "text": [
            "Epoch 1/10\n",
            "1/1 [==============================] - 0s 65ms/step - loss: 0.3066 - mse: 0.3066\n",
            "Epoch 2/10\n",
            "1/1 [==============================] - 0s 63ms/step - loss: 0.3066 - mse: 0.3066\n",
            "Epoch 3/10\n",
            "1/1 [==============================] - 0s 58ms/step - loss: 0.3066 - mse: 0.3066\n",
            "Epoch 4/10\n",
            "1/1 [==============================] - 0s 54ms/step - loss: 0.3066 - mse: 0.3066\n",
            "Epoch 5/10\n",
            "1/1 [==============================] - 0s 64ms/step - loss: 0.3066 - mse: 0.3066\n",
            "Epoch 6/10\n",
            "1/1 [==============================] - 0s 62ms/step - loss: 0.3066 - mse: 0.3066\n",
            "Epoch 7/10\n",
            "1/1 [==============================] - 0s 60ms/step - loss: 0.3066 - mse: 0.3066\n",
            "Epoch 8/10\n",
            "1/1 [==============================] - 0s 55ms/step - loss: 0.3066 - mse: 0.3066\n",
            "Epoch 9/10\n",
            "1/1 [==============================] - 0s 55ms/step - loss: 0.3066 - mse: 0.3066\n",
            "Epoch 10/10\n",
            "1/1 [==============================] - 0s 60ms/step - loss: 0.3066 - mse: 0.3066\n"
          ],
          "name": "stdout"
        },
        {
          "output_type": "stream",
          "text": [
            "\r 13%|█▎        | 70/529 [01:29<06:21,  1.20it/s]"
          ],
          "name": "stderr"
        },
        {
          "output_type": "stream",
          "text": [
            "Epoch 1/10\n",
            "1/1 [==============================] - 0s 58ms/step - loss: 0.3078 - mse: 0.3078\n",
            "Epoch 2/10\n",
            "1/1 [==============================] - 0s 60ms/step - loss: 0.3078 - mse: 0.3078\n",
            "Epoch 3/10\n",
            "1/1 [==============================] - 0s 61ms/step - loss: 0.3078 - mse: 0.3078\n",
            "Epoch 4/10\n",
            "1/1 [==============================] - 0s 63ms/step - loss: 0.3078 - mse: 0.3078\n",
            "Epoch 5/10\n",
            "1/1 [==============================] - 0s 58ms/step - loss: 0.3078 - mse: 0.3078\n",
            "Epoch 6/10\n",
            "1/1 [==============================] - 0s 53ms/step - loss: 0.3078 - mse: 0.3078\n",
            "Epoch 7/10\n",
            "1/1 [==============================] - 0s 54ms/step - loss: 0.3078 - mse: 0.3078\n",
            "Epoch 8/10\n",
            "1/1 [==============================] - 0s 58ms/step - loss: 0.3078 - mse: 0.3078\n",
            "Epoch 9/10\n",
            "1/1 [==============================] - 0s 60ms/step - loss: 0.3078 - mse: 0.3078\n",
            "Epoch 10/10\n",
            "1/1 [==============================] - 0s 59ms/step - loss: 0.3078 - mse: 0.3078\n"
          ],
          "name": "stdout"
        },
        {
          "output_type": "stream",
          "text": [
            "\r 13%|█▎        | 71/529 [01:30<06:18,  1.21it/s]"
          ],
          "name": "stderr"
        },
        {
          "output_type": "stream",
          "text": [
            "Epoch 1/10\n",
            "1/1 [==============================] - 0s 59ms/step - loss: 0.3089 - mse: 0.3089\n",
            "Epoch 2/10\n",
            "1/1 [==============================] - 0s 55ms/step - loss: 0.3089 - mse: 0.3089\n",
            "Epoch 3/10\n",
            "1/1 [==============================] - 0s 54ms/step - loss: 0.3089 - mse: 0.3089\n",
            "Epoch 4/10\n",
            "1/1 [==============================] - 0s 58ms/step - loss: 0.3089 - mse: 0.3089\n",
            "Epoch 5/10\n",
            "1/1 [==============================] - 0s 61ms/step - loss: 0.3089 - mse: 0.3089\n",
            "Epoch 6/10\n",
            "1/1 [==============================] - 0s 57ms/step - loss: 0.3089 - mse: 0.3089\n",
            "Epoch 7/10\n",
            "1/1 [==============================] - 0s 62ms/step - loss: 0.3089 - mse: 0.3089\n",
            "Epoch 8/10\n",
            "1/1 [==============================] - 0s 61ms/step - loss: 0.3089 - mse: 0.3089\n",
            "Epoch 9/10\n",
            "1/1 [==============================] - 0s 57ms/step - loss: 0.3089 - mse: 0.3089\n",
            "Epoch 10/10\n",
            "1/1 [==============================] - 0s 60ms/step - loss: 0.3089 - mse: 0.3089\n"
          ],
          "name": "stdout"
        },
        {
          "output_type": "stream",
          "text": [
            "\r 14%|█▎        | 72/529 [01:31<06:17,  1.21it/s]"
          ],
          "name": "stderr"
        },
        {
          "output_type": "stream",
          "text": [
            "Epoch 1/10\n",
            "1/1 [==============================] - 0s 57ms/step - loss: 0.3035 - mse: 0.3035\n",
            "Epoch 2/10\n",
            "1/1 [==============================] - 0s 53ms/step - loss: 0.3035 - mse: 0.3035\n",
            "Epoch 3/10\n",
            "1/1 [==============================] - 0s 56ms/step - loss: 0.3035 - mse: 0.3035\n",
            "Epoch 4/10\n",
            "1/1 [==============================] - 0s 56ms/step - loss: 0.3035 - mse: 0.3035\n",
            "Epoch 5/10\n",
            "1/1 [==============================] - 0s 58ms/step - loss: 0.3035 - mse: 0.3035\n",
            "Epoch 6/10\n",
            "1/1 [==============================] - 0s 59ms/step - loss: 0.3035 - mse: 0.3035\n",
            "Epoch 7/10\n",
            "1/1 [==============================] - 0s 56ms/step - loss: 0.3035 - mse: 0.3035\n",
            "Epoch 8/10\n",
            "1/1 [==============================] - 0s 56ms/step - loss: 0.3035 - mse: 0.3035\n",
            "Epoch 9/10\n",
            "1/1 [==============================] - 0s 58ms/step - loss: 0.3035 - mse: 0.3035\n",
            "Epoch 10/10\n",
            "1/1 [==============================] - 0s 60ms/step - loss: 0.3035 - mse: 0.3035\n"
          ],
          "name": "stdout"
        },
        {
          "output_type": "stream",
          "text": [
            "\r 14%|█▍        | 73/529 [01:32<06:16,  1.21it/s]"
          ],
          "name": "stderr"
        },
        {
          "output_type": "stream",
          "text": [
            "Epoch 1/10\n",
            "1/1 [==============================] - 0s 57ms/step - loss: 0.3032 - mse: 0.3032\n",
            "Epoch 2/10\n",
            "1/1 [==============================] - 0s 62ms/step - loss: 0.3032 - mse: 0.3032\n",
            "Epoch 3/10\n",
            "1/1 [==============================] - 0s 56ms/step - loss: 0.3031 - mse: 0.3031\n",
            "Epoch 4/10\n",
            "1/1 [==============================] - 0s 61ms/step - loss: 0.3031 - mse: 0.3031\n",
            "Epoch 5/10\n",
            "1/1 [==============================] - 0s 56ms/step - loss: 0.3031 - mse: 0.3031\n",
            "Epoch 6/10\n",
            "1/1 [==============================] - 0s 58ms/step - loss: 0.3031 - mse: 0.3031\n",
            "Epoch 7/10\n",
            "1/1 [==============================] - 0s 59ms/step - loss: 0.3031 - mse: 0.3031\n",
            "Epoch 8/10\n",
            "1/1 [==============================] - 0s 61ms/step - loss: 0.3031 - mse: 0.3031\n",
            "Epoch 9/10\n",
            "1/1 [==============================] - 0s 57ms/step - loss: 0.3031 - mse: 0.3031\n",
            "Epoch 10/10\n",
            "1/1 [==============================] - 0s 58ms/step - loss: 0.3031 - mse: 0.3031\n"
          ],
          "name": "stdout"
        },
        {
          "output_type": "stream",
          "text": [
            "\r 14%|█▍        | 74/529 [01:32<06:16,  1.21it/s]"
          ],
          "name": "stderr"
        },
        {
          "output_type": "stream",
          "text": [
            "Epoch 1/10\n",
            "1/1 [==============================] - 0s 60ms/step - loss: 0.3068 - mse: 0.3068\n",
            "Epoch 2/10\n",
            "1/1 [==============================] - 0s 54ms/step - loss: 0.3068 - mse: 0.3068\n",
            "Epoch 3/10\n",
            "1/1 [==============================] - 0s 58ms/step - loss: 0.3068 - mse: 0.3068\n",
            "Epoch 4/10\n",
            "1/1 [==============================] - 0s 60ms/step - loss: 0.3068 - mse: 0.3068\n",
            "Epoch 5/10\n",
            "1/1 [==============================] - 0s 57ms/step - loss: 0.3068 - mse: 0.3068\n",
            "Epoch 6/10\n",
            "1/1 [==============================] - 0s 65ms/step - loss: 0.3068 - mse: 0.3068\n",
            "Epoch 7/10\n",
            "1/1 [==============================] - 0s 58ms/step - loss: 0.3068 - mse: 0.3068\n",
            "Epoch 8/10\n",
            "1/1 [==============================] - 0s 57ms/step - loss: 0.3068 - mse: 0.3068\n",
            "Epoch 9/10\n",
            "1/1 [==============================] - 0s 58ms/step - loss: 0.3068 - mse: 0.3068\n",
            "Epoch 10/10\n",
            "1/1 [==============================] - 0s 64ms/step - loss: 0.3068 - mse: 0.3068\n"
          ],
          "name": "stdout"
        },
        {
          "output_type": "stream",
          "text": [
            "\r 14%|█▍        | 75/529 [01:33<06:17,  1.20it/s]"
          ],
          "name": "stderr"
        },
        {
          "output_type": "stream",
          "text": [
            "Epoch 1/10\n",
            "1/1 [==============================] - 0s 64ms/step - loss: 0.3064 - mse: 0.3064\n",
            "Epoch 2/10\n",
            "1/1 [==============================] - 0s 62ms/step - loss: 0.3064 - mse: 0.3064\n",
            "Epoch 3/10\n",
            "1/1 [==============================] - 0s 56ms/step - loss: 0.3064 - mse: 0.3064\n",
            "Epoch 4/10\n",
            "1/1 [==============================] - 0s 55ms/step - loss: 0.3064 - mse: 0.3064\n",
            "Epoch 5/10\n",
            "1/1 [==============================] - 0s 65ms/step - loss: 0.3064 - mse: 0.3064\n",
            "Epoch 6/10\n",
            "1/1 [==============================] - 0s 67ms/step - loss: 0.3064 - mse: 0.3064\n",
            "Epoch 7/10\n",
            "1/1 [==============================] - 0s 54ms/step - loss: 0.3064 - mse: 0.3064\n",
            "Epoch 8/10\n",
            "1/1 [==============================] - 0s 57ms/step - loss: 0.3064 - mse: 0.3064\n",
            "Epoch 9/10\n",
            "1/1 [==============================] - 0s 60ms/step - loss: 0.3064 - mse: 0.3064\n",
            "Epoch 10/10\n",
            "1/1 [==============================] - 0s 60ms/step - loss: 0.3064 - mse: 0.3064\n"
          ],
          "name": "stdout"
        },
        {
          "output_type": "stream",
          "text": [
            "\r 14%|█▍        | 76/529 [01:34<06:22,  1.19it/s]"
          ],
          "name": "stderr"
        },
        {
          "output_type": "stream",
          "text": [
            "Epoch 1/10\n",
            "1/1 [==============================] - 0s 59ms/step - loss: 0.3123 - mse: 0.3123\n",
            "Epoch 2/10\n",
            "1/1 [==============================] - 0s 62ms/step - loss: 0.3122 - mse: 0.3122\n",
            "Epoch 3/10\n",
            "1/1 [==============================] - 0s 60ms/step - loss: 0.3122 - mse: 0.3122\n",
            "Epoch 4/10\n",
            "1/1 [==============================] - 0s 65ms/step - loss: 0.3122 - mse: 0.3122\n",
            "Epoch 5/10\n",
            "1/1 [==============================] - 0s 57ms/step - loss: 0.3122 - mse: 0.3122\n",
            "Epoch 6/10\n",
            "1/1 [==============================] - 0s 59ms/step - loss: 0.3122 - mse: 0.3122\n",
            "Epoch 7/10\n",
            "1/1 [==============================] - 0s 63ms/step - loss: 0.3122 - mse: 0.3122\n",
            "Epoch 8/10\n",
            "1/1 [==============================] - 0s 60ms/step - loss: 0.3122 - mse: 0.3122\n",
            "Epoch 9/10\n",
            "1/1 [==============================] - 0s 61ms/step - loss: 0.3122 - mse: 0.3122\n",
            "Epoch 10/10\n",
            "1/1 [==============================] - 0s 57ms/step - loss: 0.3122 - mse: 0.3122\n"
          ],
          "name": "stdout"
        },
        {
          "output_type": "stream",
          "text": [
            "\r 15%|█▍        | 77/529 [01:35<06:20,  1.19it/s]"
          ],
          "name": "stderr"
        },
        {
          "output_type": "stream",
          "text": [
            "Epoch 1/10\n",
            "1/1 [==============================] - 0s 63ms/step - loss: 0.3093 - mse: 0.3093\n",
            "Epoch 2/10\n",
            "1/1 [==============================] - 0s 57ms/step - loss: 0.3093 - mse: 0.3093\n",
            "Epoch 3/10\n",
            "1/1 [==============================] - 0s 62ms/step - loss: 0.3092 - mse: 0.3092\n",
            "Epoch 4/10\n",
            "1/1 [==============================] - 0s 58ms/step - loss: 0.3093 - mse: 0.3093\n",
            "Epoch 5/10\n",
            "1/1 [==============================] - 0s 58ms/step - loss: 0.3093 - mse: 0.3093\n",
            "Epoch 6/10\n",
            "1/1 [==============================] - 0s 62ms/step - loss: 0.3092 - mse: 0.3092\n",
            "Epoch 7/10\n",
            "1/1 [==============================] - 0s 61ms/step - loss: 0.3092 - mse: 0.3092\n",
            "Epoch 8/10\n",
            "1/1 [==============================] - 0s 59ms/step - loss: 0.3093 - mse: 0.3093\n",
            "Epoch 9/10\n",
            "1/1 [==============================] - 0s 58ms/step - loss: 0.3093 - mse: 0.3093\n",
            "Epoch 10/10\n",
            "1/1 [==============================] - 0s 58ms/step - loss: 0.3092 - mse: 0.3092\n"
          ],
          "name": "stdout"
        },
        {
          "output_type": "stream",
          "text": [
            "\r 15%|█▍        | 78/529 [01:36<06:19,  1.19it/s]"
          ],
          "name": "stderr"
        },
        {
          "output_type": "stream",
          "text": [
            "Epoch 1/10\n",
            "1/1 [==============================] - 0s 59ms/step - loss: 0.3040 - mse: 0.3040\n",
            "Epoch 2/10\n",
            "1/1 [==============================] - 0s 57ms/step - loss: 0.3040 - mse: 0.3040\n",
            "Epoch 3/10\n",
            "1/1 [==============================] - 0s 55ms/step - loss: 0.3040 - mse: 0.3040\n",
            "Epoch 4/10\n",
            "1/1 [==============================] - 0s 60ms/step - loss: 0.3040 - mse: 0.3040\n",
            "Epoch 5/10\n",
            "1/1 [==============================] - 0s 57ms/step - loss: 0.3040 - mse: 0.3040\n",
            "Epoch 6/10\n",
            "1/1 [==============================] - 0s 56ms/step - loss: 0.3040 - mse: 0.3040\n",
            "Epoch 7/10\n",
            "1/1 [==============================] - 0s 62ms/step - loss: 0.3040 - mse: 0.3040\n",
            "Epoch 8/10\n",
            "1/1 [==============================] - 0s 62ms/step - loss: 0.3040 - mse: 0.3040\n",
            "Epoch 9/10\n",
            "1/1 [==============================] - 0s 59ms/step - loss: 0.3040 - mse: 0.3040\n",
            "Epoch 10/10\n",
            "1/1 [==============================] - 0s 55ms/step - loss: 0.3040 - mse: 0.3040\n"
          ],
          "name": "stdout"
        },
        {
          "output_type": "stream",
          "text": [
            "\r 15%|█▍        | 79/529 [01:37<06:17,  1.19it/s]"
          ],
          "name": "stderr"
        },
        {
          "output_type": "stream",
          "text": [
            "Epoch 1/10\n",
            "1/1 [==============================] - 0s 58ms/step - loss: 0.3127 - mse: 0.3127\n",
            "Epoch 2/10\n",
            "1/1 [==============================] - 0s 58ms/step - loss: 0.3125 - mse: 0.3125\n",
            "Epoch 3/10\n",
            "1/1 [==============================] - 0s 54ms/step - loss: 0.3125 - mse: 0.3125\n",
            "Epoch 4/10\n",
            "1/1 [==============================] - 0s 62ms/step - loss: 0.3126 - mse: 0.3126\n",
            "Epoch 5/10\n",
            "1/1 [==============================] - 0s 60ms/step - loss: 0.3125 - mse: 0.3125\n",
            "Epoch 6/10\n",
            "1/1 [==============================] - 0s 58ms/step - loss: 0.3124 - mse: 0.3124\n",
            "Epoch 7/10\n",
            "1/1 [==============================] - 0s 58ms/step - loss: 0.3125 - mse: 0.3125\n",
            "Epoch 8/10\n",
            "1/1 [==============================] - 0s 66ms/step - loss: 0.3125 - mse: 0.3125\n",
            "Epoch 9/10\n",
            "1/1 [==============================] - 0s 65ms/step - loss: 0.3124 - mse: 0.3124\n",
            "Epoch 10/10\n",
            "1/1 [==============================] - 0s 62ms/step - loss: 0.3124 - mse: 0.3124\n"
          ],
          "name": "stdout"
        },
        {
          "output_type": "stream",
          "text": [
            "\r 15%|█▌        | 80/529 [01:38<06:17,  1.19it/s]"
          ],
          "name": "stderr"
        },
        {
          "output_type": "stream",
          "text": [
            "Epoch 1/10\n",
            "1/1 [==============================] - 0s 57ms/step - loss: 0.3069 - mse: 0.3069\n",
            "Epoch 2/10\n",
            "1/1 [==============================] - 0s 58ms/step - loss: 0.3067 - mse: 0.3067\n",
            "Epoch 3/10\n",
            "1/1 [==============================] - 0s 60ms/step - loss: 0.3066 - mse: 0.3066\n",
            "Epoch 4/10\n",
            "1/1 [==============================] - 0s 59ms/step - loss: 0.3067 - mse: 0.3067\n",
            "Epoch 5/10\n",
            "1/1 [==============================] - 0s 60ms/step - loss: 0.3067 - mse: 0.3067\n",
            "Epoch 6/10\n",
            "1/1 [==============================] - 0s 58ms/step - loss: 0.3066 - mse: 0.3066\n",
            "Epoch 7/10\n",
            "1/1 [==============================] - 0s 59ms/step - loss: 0.3066 - mse: 0.3066\n",
            "Epoch 8/10\n",
            "1/1 [==============================] - 0s 53ms/step - loss: 0.3067 - mse: 0.3067\n",
            "Epoch 9/10\n",
            "1/1 [==============================] - 0s 58ms/step - loss: 0.3066 - mse: 0.3066\n",
            "Epoch 10/10\n",
            "1/1 [==============================] - 0s 58ms/step - loss: 0.3066 - mse: 0.3066\n"
          ],
          "name": "stdout"
        },
        {
          "output_type": "stream",
          "text": [
            "\r 15%|█▌        | 81/529 [01:38<06:13,  1.20it/s]"
          ],
          "name": "stderr"
        },
        {
          "output_type": "stream",
          "text": [
            "Epoch 1/10\n",
            "1/1 [==============================] - 0s 62ms/step - loss: 0.3080 - mse: 0.3080\n",
            "Epoch 2/10\n",
            "1/1 [==============================] - 0s 64ms/step - loss: 0.3079 - mse: 0.3079\n",
            "Epoch 3/10\n",
            "1/1 [==============================] - 0s 56ms/step - loss: 0.3079 - mse: 0.3079\n",
            "Epoch 4/10\n",
            "1/1 [==============================] - 0s 61ms/step - loss: 0.3079 - mse: 0.3079\n",
            "Epoch 5/10\n",
            "1/1 [==============================] - 0s 62ms/step - loss: 0.3079 - mse: 0.3079\n",
            "Epoch 6/10\n",
            "1/1 [==============================] - 0s 63ms/step - loss: 0.3079 - mse: 0.3079\n",
            "Epoch 7/10\n",
            "1/1 [==============================] - 0s 58ms/step - loss: 0.3079 - mse: 0.3079\n",
            "Epoch 8/10\n",
            "1/1 [==============================] - 0s 59ms/step - loss: 0.3079 - mse: 0.3079\n",
            "Epoch 9/10\n",
            "1/1 [==============================] - 0s 59ms/step - loss: 0.3079 - mse: 0.3079\n",
            "Epoch 10/10\n",
            "1/1 [==============================] - 0s 61ms/step - loss: 0.3079 - mse: 0.3079\n"
          ],
          "name": "stdout"
        },
        {
          "output_type": "stream",
          "text": [
            "\r 16%|█▌        | 82/529 [01:39<06:14,  1.19it/s]"
          ],
          "name": "stderr"
        },
        {
          "output_type": "stream",
          "text": [
            "Epoch 1/10\n",
            "1/1 [==============================] - 0s 59ms/step - loss: 0.3092 - mse: 0.3092\n",
            "Epoch 2/10\n",
            "1/1 [==============================] - 0s 60ms/step - loss: 0.3092 - mse: 0.3092\n",
            "Epoch 3/10\n",
            "1/1 [==============================] - 0s 59ms/step - loss: 0.3092 - mse: 0.3092\n",
            "Epoch 4/10\n",
            "1/1 [==============================] - 0s 62ms/step - loss: 0.3092 - mse: 0.3092\n",
            "Epoch 5/10\n",
            "1/1 [==============================] - 0s 63ms/step - loss: 0.3092 - mse: 0.3092\n",
            "Epoch 6/10\n",
            "1/1 [==============================] - 0s 56ms/step - loss: 0.3092 - mse: 0.3092\n",
            "Epoch 7/10\n",
            "1/1 [==============================] - 0s 63ms/step - loss: 0.3092 - mse: 0.3092\n",
            "Epoch 8/10\n",
            "1/1 [==============================] - 0s 63ms/step - loss: 0.3092 - mse: 0.3092\n",
            "Epoch 9/10\n",
            "1/1 [==============================] - 0s 64ms/step - loss: 0.3092 - mse: 0.3092\n",
            "Epoch 10/10\n",
            "1/1 [==============================] - 0s 56ms/step - loss: 0.3092 - mse: 0.3092\n"
          ],
          "name": "stdout"
        },
        {
          "output_type": "stream",
          "text": [
            "\r 16%|█▌        | 83/529 [01:40<06:14,  1.19it/s]"
          ],
          "name": "stderr"
        },
        {
          "output_type": "stream",
          "text": [
            "Epoch 1/10\n",
            "1/1 [==============================] - 0s 58ms/step - loss: 0.3085 - mse: 0.3085\n",
            "Epoch 2/10\n",
            "1/1 [==============================] - 0s 55ms/step - loss: 0.3085 - mse: 0.3085\n",
            "Epoch 3/10\n",
            "1/1 [==============================] - 0s 56ms/step - loss: 0.3085 - mse: 0.3085\n",
            "Epoch 4/10\n",
            "1/1 [==============================] - 0s 62ms/step - loss: 0.3085 - mse: 0.3085\n",
            "Epoch 5/10\n",
            "1/1 [==============================] - 0s 59ms/step - loss: 0.3085 - mse: 0.3085\n",
            "Epoch 6/10\n",
            "1/1 [==============================] - 0s 58ms/step - loss: 0.3085 - mse: 0.3085\n",
            "Epoch 7/10\n",
            "1/1 [==============================] - 0s 70ms/step - loss: 0.3085 - mse: 0.3085\n",
            "Epoch 8/10\n",
            "1/1 [==============================] - 0s 72ms/step - loss: 0.3085 - mse: 0.3085\n",
            "Epoch 9/10\n",
            "1/1 [==============================] - 0s 57ms/step - loss: 0.3085 - mse: 0.3085\n",
            "Epoch 10/10\n",
            "1/1 [==============================] - 0s 66ms/step - loss: 0.3085 - mse: 0.3085\n"
          ],
          "name": "stdout"
        },
        {
          "output_type": "stream",
          "text": [
            "\r 16%|█▌        | 84/529 [01:41<06:14,  1.19it/s]"
          ],
          "name": "stderr"
        },
        {
          "output_type": "stream",
          "text": [
            "Epoch 1/10\n",
            "1/1 [==============================] - 0s 61ms/step - loss: 0.3093 - mse: 0.3093\n",
            "Epoch 2/10\n",
            "1/1 [==============================] - 0s 56ms/step - loss: 0.3093 - mse: 0.3093\n",
            "Epoch 3/10\n",
            "1/1 [==============================] - 0s 60ms/step - loss: 0.3093 - mse: 0.3093\n",
            "Epoch 4/10\n",
            "1/1 [==============================] - 0s 59ms/step - loss: 0.3093 - mse: 0.3093\n",
            "Epoch 5/10\n",
            "1/1 [==============================] - 0s 59ms/step - loss: 0.3092 - mse: 0.3092\n",
            "Epoch 6/10\n",
            "1/1 [==============================] - 0s 56ms/step - loss: 0.3092 - mse: 0.3092\n",
            "Epoch 7/10\n",
            "1/1 [==============================] - 0s 60ms/step - loss: 0.3093 - mse: 0.3093\n",
            "Epoch 8/10\n",
            "1/1 [==============================] - 0s 62ms/step - loss: 0.3093 - mse: 0.3093\n",
            "Epoch 9/10\n",
            "1/1 [==============================] - 0s 56ms/step - loss: 0.3092 - mse: 0.3092\n",
            "Epoch 10/10\n",
            "1/1 [==============================] - 0s 63ms/step - loss: 0.3093 - mse: 0.3093\n"
          ],
          "name": "stdout"
        },
        {
          "output_type": "stream",
          "text": [
            "\r 16%|█▌        | 85/529 [01:42<06:13,  1.19it/s]"
          ],
          "name": "stderr"
        },
        {
          "output_type": "stream",
          "text": [
            "Epoch 1/10\n",
            "1/1 [==============================] - 0s 59ms/step - loss: 0.3058 - mse: 0.3058\n",
            "Epoch 2/10\n",
            "1/1 [==============================] - 0s 73ms/step - loss: 0.3057 - mse: 0.3057\n",
            "Epoch 3/10\n",
            "1/1 [==============================] - 0s 64ms/step - loss: 0.3057 - mse: 0.3057\n",
            "Epoch 4/10\n",
            "1/1 [==============================] - 0s 59ms/step - loss: 0.3058 - mse: 0.3058\n",
            "Epoch 5/10\n",
            "1/1 [==============================] - 0s 63ms/step - loss: 0.3057 - mse: 0.3057\n",
            "Epoch 6/10\n",
            "1/1 [==============================] - 0s 54ms/step - loss: 0.3057 - mse: 0.3057\n",
            "Epoch 7/10\n",
            "1/1 [==============================] - 0s 60ms/step - loss: 0.3057 - mse: 0.3057\n",
            "Epoch 8/10\n",
            "1/1 [==============================] - 0s 59ms/step - loss: 0.3057 - mse: 0.3057\n",
            "Epoch 9/10\n",
            "1/1 [==============================] - 0s 60ms/step - loss: 0.3057 - mse: 0.3057\n",
            "Epoch 10/10\n",
            "1/1 [==============================] - 0s 61ms/step - loss: 0.3057 - mse: 0.3057\n"
          ],
          "name": "stdout"
        },
        {
          "output_type": "stream",
          "text": [
            "\r 16%|█▋        | 86/529 [01:43<06:15,  1.18it/s]"
          ],
          "name": "stderr"
        },
        {
          "output_type": "stream",
          "text": [
            "Epoch 1/10\n",
            "1/1 [==============================] - 0s 59ms/step - loss: 0.3096 - mse: 0.3096\n",
            "Epoch 2/10\n",
            "1/1 [==============================] - 0s 59ms/step - loss: 0.3096 - mse: 0.3096\n",
            "Epoch 3/10\n",
            "1/1 [==============================] - 0s 56ms/step - loss: 0.3095 - mse: 0.3095\n",
            "Epoch 4/10\n",
            "1/1 [==============================] - 0s 57ms/step - loss: 0.3096 - mse: 0.3096\n",
            "Epoch 5/10\n",
            "1/1 [==============================] - 0s 62ms/step - loss: 0.3096 - mse: 0.3096\n",
            "Epoch 6/10\n",
            "1/1 [==============================] - 0s 62ms/step - loss: 0.3095 - mse: 0.3095\n",
            "Epoch 7/10\n",
            "1/1 [==============================] - 0s 54ms/step - loss: 0.3096 - mse: 0.3096\n",
            "Epoch 8/10\n",
            "1/1 [==============================] - 0s 58ms/step - loss: 0.3096 - mse: 0.3096\n",
            "Epoch 9/10\n",
            "1/1 [==============================] - 0s 58ms/step - loss: 0.3095 - mse: 0.3095\n",
            "Epoch 10/10\n",
            "1/1 [==============================] - 0s 60ms/step - loss: 0.3095 - mse: 0.3095\n"
          ],
          "name": "stdout"
        },
        {
          "output_type": "stream",
          "text": [
            "\r 16%|█▋        | 87/529 [01:43<06:12,  1.19it/s]"
          ],
          "name": "stderr"
        },
        {
          "output_type": "stream",
          "text": [
            "Epoch 1/10\n",
            "1/1 [==============================] - 0s 58ms/step - loss: 0.3090 - mse: 0.3090\n",
            "Epoch 2/10\n",
            "1/1 [==============================] - 0s 65ms/step - loss: 0.3090 - mse: 0.3090\n",
            "Epoch 3/10\n",
            "1/1 [==============================] - 0s 55ms/step - loss: 0.3090 - mse: 0.3090\n",
            "Epoch 4/10\n",
            "1/1 [==============================] - 0s 60ms/step - loss: 0.3090 - mse: 0.3090\n",
            "Epoch 5/10\n",
            "1/1 [==============================] - 0s 55ms/step - loss: 0.3090 - mse: 0.3090\n",
            "Epoch 6/10\n",
            "1/1 [==============================] - 0s 58ms/step - loss: 0.3090 - mse: 0.3090\n",
            "Epoch 7/10\n",
            "1/1 [==============================] - 0s 58ms/step - loss: 0.3090 - mse: 0.3090\n",
            "Epoch 8/10\n",
            "1/1 [==============================] - 0s 61ms/step - loss: 0.3090 - mse: 0.3090\n",
            "Epoch 9/10\n",
            "1/1 [==============================] - 0s 54ms/step - loss: 0.3090 - mse: 0.3090\n",
            "Epoch 10/10\n",
            "1/1 [==============================] - 0s 64ms/step - loss: 0.3090 - mse: 0.3090\n"
          ],
          "name": "stdout"
        },
        {
          "output_type": "stream",
          "text": [
            "\r 17%|█▋        | 88/529 [01:44<06:10,  1.19it/s]"
          ],
          "name": "stderr"
        },
        {
          "output_type": "stream",
          "text": [
            "Epoch 1/10\n",
            "1/1 [==============================] - 0s 59ms/step - loss: 0.3134 - mse: 0.3134\n",
            "Epoch 2/10\n",
            "1/1 [==============================] - 0s 65ms/step - loss: 0.3133 - mse: 0.3133\n",
            "Epoch 3/10\n",
            "1/1 [==============================] - 0s 57ms/step - loss: 0.3133 - mse: 0.3133\n",
            "Epoch 4/10\n",
            "1/1 [==============================] - 0s 60ms/step - loss: 0.3134 - mse: 0.3134\n",
            "Epoch 5/10\n",
            "1/1 [==============================] - 0s 58ms/step - loss: 0.3133 - mse: 0.3133\n",
            "Epoch 6/10\n",
            "1/1 [==============================] - 0s 67ms/step - loss: 0.3133 - mse: 0.3133\n",
            "Epoch 7/10\n",
            "1/1 [==============================] - 0s 57ms/step - loss: 0.3133 - mse: 0.3133\n",
            "Epoch 8/10\n",
            "1/1 [==============================] - 0s 57ms/step - loss: 0.3133 - mse: 0.3133\n",
            "Epoch 9/10\n",
            "1/1 [==============================] - 0s 59ms/step - loss: 0.3133 - mse: 0.3133\n",
            "Epoch 10/10\n",
            "1/1 [==============================] - 0s 57ms/step - loss: 0.3133 - mse: 0.3133\n"
          ],
          "name": "stdout"
        },
        {
          "output_type": "stream",
          "text": [
            "\r 17%|█▋        | 89/529 [01:45<06:08,  1.19it/s]"
          ],
          "name": "stderr"
        },
        {
          "output_type": "stream",
          "text": [
            "Epoch 1/10\n",
            "1/1 [==============================] - 0s 58ms/step - loss: 0.3097 - mse: 0.3097\n",
            "Epoch 2/10\n",
            "1/1 [==============================] - 0s 57ms/step - loss: 0.3096 - mse: 0.3096\n",
            "Epoch 3/10\n",
            "1/1 [==============================] - 0s 59ms/step - loss: 0.3095 - mse: 0.3095\n",
            "Epoch 4/10\n",
            "1/1 [==============================] - 0s 58ms/step - loss: 0.3096 - mse: 0.3096\n",
            "Epoch 5/10\n",
            "1/1 [==============================] - 0s 62ms/step - loss: 0.3096 - mse: 0.3096\n",
            "Epoch 6/10\n",
            "1/1 [==============================] - 0s 61ms/step - loss: 0.3095 - mse: 0.3095\n",
            "Epoch 7/10\n",
            "1/1 [==============================] - 0s 63ms/step - loss: 0.3096 - mse: 0.3096\n",
            "Epoch 8/10\n",
            "1/1 [==============================] - 0s 58ms/step - loss: 0.3096 - mse: 0.3096\n",
            "Epoch 9/10\n",
            "1/1 [==============================] - 0s 64ms/step - loss: 0.3095 - mse: 0.3095\n",
            "Epoch 10/10\n",
            "1/1 [==============================] - 0s 64ms/step - loss: 0.3095 - mse: 0.3095\n"
          ],
          "name": "stdout"
        },
        {
          "output_type": "stream",
          "text": [
            "\r 17%|█▋        | 90/529 [01:46<06:09,  1.19it/s]"
          ],
          "name": "stderr"
        },
        {
          "output_type": "stream",
          "text": [
            "Epoch 1/10\n",
            "1/1 [==============================] - 0s 62ms/step - loss: 0.3112 - mse: 0.3112\n",
            "Epoch 2/10\n",
            "1/1 [==============================] - 0s 60ms/step - loss: 0.3111 - mse: 0.3111\n",
            "Epoch 3/10\n",
            "1/1 [==============================] - 0s 58ms/step - loss: 0.3110 - mse: 0.3110\n",
            "Epoch 4/10\n",
            "1/1 [==============================] - 0s 62ms/step - loss: 0.3110 - mse: 0.3110\n",
            "Epoch 5/10\n",
            "1/1 [==============================] - 0s 66ms/step - loss: 0.3110 - mse: 0.3110\n",
            "Epoch 6/10\n",
            "1/1 [==============================] - 0s 63ms/step - loss: 0.3110 - mse: 0.3110\n",
            "Epoch 7/10\n",
            "1/1 [==============================] - 0s 62ms/step - loss: 0.3110 - mse: 0.3110\n",
            "Epoch 8/10\n",
            "1/1 [==============================] - 0s 59ms/step - loss: 0.3110 - mse: 0.3110\n",
            "Epoch 9/10\n",
            "1/1 [==============================] - 0s 59ms/step - loss: 0.3110 - mse: 0.3110\n",
            "Epoch 10/10\n",
            "1/1 [==============================] - 0s 60ms/step - loss: 0.3110 - mse: 0.3110\n"
          ],
          "name": "stdout"
        },
        {
          "output_type": "stream",
          "text": [
            "\r 17%|█▋        | 91/529 [01:47<06:08,  1.19it/s]"
          ],
          "name": "stderr"
        },
        {
          "output_type": "stream",
          "text": [
            "Epoch 1/10\n",
            "1/1 [==============================] - 0s 59ms/step - loss: 0.3087 - mse: 0.3087\n",
            "Epoch 2/10\n",
            "1/1 [==============================] - 0s 59ms/step - loss: 0.3086 - mse: 0.3086\n",
            "Epoch 3/10\n",
            "1/1 [==============================] - 0s 58ms/step - loss: 0.3085 - mse: 0.3085\n",
            "Epoch 4/10\n",
            "1/1 [==============================] - 0s 62ms/step - loss: 0.3085 - mse: 0.3085\n",
            "Epoch 5/10\n",
            "1/1 [==============================] - 0s 63ms/step - loss: 0.3084 - mse: 0.3084\n",
            "Epoch 6/10\n",
            "1/1 [==============================] - 0s 55ms/step - loss: 0.3084 - mse: 0.3084\n",
            "Epoch 7/10\n",
            "1/1 [==============================] - 0s 59ms/step - loss: 0.3085 - mse: 0.3085\n",
            "Epoch 8/10\n",
            "1/1 [==============================] - 0s 59ms/step - loss: 0.3085 - mse: 0.3085\n",
            "Epoch 9/10\n",
            "1/1 [==============================] - 0s 62ms/step - loss: 0.3085 - mse: 0.3085\n",
            "Epoch 10/10\n",
            "1/1 [==============================] - 0s 59ms/step - loss: 0.3085 - mse: 0.3085\n"
          ],
          "name": "stdout"
        },
        {
          "output_type": "stream",
          "text": [
            "\r 17%|█▋        | 92/529 [01:48<06:08,  1.19it/s]"
          ],
          "name": "stderr"
        },
        {
          "output_type": "stream",
          "text": [
            "Epoch 1/10\n",
            "1/1 [==============================] - 0s 58ms/step - loss: 0.3103 - mse: 0.3103\n",
            "Epoch 2/10\n",
            "1/1 [==============================] - 0s 61ms/step - loss: 0.3102 - mse: 0.3102\n",
            "Epoch 3/10\n",
            "1/1 [==============================] - 0s 59ms/step - loss: 0.3102 - mse: 0.3102\n",
            "Epoch 4/10\n",
            "1/1 [==============================] - 0s 59ms/step - loss: 0.3102 - mse: 0.3102\n",
            "Epoch 5/10\n",
            "1/1 [==============================] - 0s 62ms/step - loss: 0.3102 - mse: 0.3102\n",
            "Epoch 6/10\n",
            "1/1 [==============================] - 0s 61ms/step - loss: 0.3102 - mse: 0.3102\n",
            "Epoch 7/10\n",
            "1/1 [==============================] - 0s 63ms/step - loss: 0.3102 - mse: 0.3102\n",
            "Epoch 8/10\n",
            "1/1 [==============================] - 0s 62ms/step - loss: 0.3102 - mse: 0.3102\n",
            "Epoch 9/10\n",
            "1/1 [==============================] - 0s 62ms/step - loss: 0.3102 - mse: 0.3102\n",
            "Epoch 10/10\n",
            "1/1 [==============================] - 0s 59ms/step - loss: 0.3102 - mse: 0.3102\n"
          ],
          "name": "stdout"
        },
        {
          "output_type": "stream",
          "text": [
            "\r 18%|█▊        | 93/529 [01:48<06:08,  1.18it/s]"
          ],
          "name": "stderr"
        },
        {
          "output_type": "stream",
          "text": [
            "Epoch 1/10\n",
            "1/1 [==============================] - 0s 61ms/step - loss: 0.3064 - mse: 0.3064\n",
            "Epoch 2/10\n",
            "1/1 [==============================] - 0s 63ms/step - loss: 0.3063 - mse: 0.3063\n",
            "Epoch 3/10\n",
            "1/1 [==============================] - 0s 59ms/step - loss: 0.3063 - mse: 0.3063\n",
            "Epoch 4/10\n",
            "1/1 [==============================] - 0s 60ms/step - loss: 0.3064 - mse: 0.3064\n",
            "Epoch 5/10\n",
            "1/1 [==============================] - 0s 58ms/step - loss: 0.3063 - mse: 0.3063\n",
            "Epoch 6/10\n",
            "1/1 [==============================] - 0s 61ms/step - loss: 0.3063 - mse: 0.3063\n",
            "Epoch 7/10\n",
            "1/1 [==============================] - 0s 57ms/step - loss: 0.3063 - mse: 0.3063\n",
            "Epoch 8/10\n",
            "1/1 [==============================] - 0s 61ms/step - loss: 0.3063 - mse: 0.3063\n",
            "Epoch 9/10\n",
            "1/1 [==============================] - 0s 57ms/step - loss: 0.3063 - mse: 0.3063\n",
            "Epoch 10/10\n",
            "1/1 [==============================] - 0s 60ms/step - loss: 0.3063 - mse: 0.3063\n"
          ],
          "name": "stdout"
        },
        {
          "output_type": "stream",
          "text": [
            "\r 18%|█▊        | 94/529 [01:49<06:06,  1.19it/s]"
          ],
          "name": "stderr"
        },
        {
          "output_type": "stream",
          "text": [
            "Epoch 1/10\n",
            "1/1 [==============================] - 0s 58ms/step - loss: 0.3087 - mse: 0.3087\n",
            "Epoch 2/10\n",
            "1/1 [==============================] - 0s 56ms/step - loss: 0.3086 - mse: 0.3086\n",
            "Epoch 3/10\n",
            "1/1 [==============================] - 0s 58ms/step - loss: 0.3086 - mse: 0.3086\n",
            "Epoch 4/10\n",
            "1/1 [==============================] - 0s 57ms/step - loss: 0.3086 - mse: 0.3086\n",
            "Epoch 5/10\n",
            "1/1 [==============================] - 0s 69ms/step - loss: 0.3086 - mse: 0.3086\n",
            "Epoch 6/10\n",
            "1/1 [==============================] - 0s 61ms/step - loss: 0.3086 - mse: 0.3086\n",
            "Epoch 7/10\n",
            "1/1 [==============================] - 0s 66ms/step - loss: 0.3086 - mse: 0.3086\n",
            "Epoch 8/10\n",
            "1/1 [==============================] - 0s 62ms/step - loss: 0.3086 - mse: 0.3086\n",
            "Epoch 9/10\n",
            "1/1 [==============================] - 0s 64ms/step - loss: 0.3086 - mse: 0.3086\n",
            "Epoch 10/10\n",
            "1/1 [==============================] - 0s 59ms/step - loss: 0.3086 - mse: 0.3086\n"
          ],
          "name": "stdout"
        },
        {
          "output_type": "stream",
          "text": [
            "\r 18%|█▊        | 95/529 [01:50<06:08,  1.18it/s]"
          ],
          "name": "stderr"
        },
        {
          "output_type": "stream",
          "text": [
            "Epoch 1/10\n",
            "1/1 [==============================] - 0s 61ms/step - loss: 0.3080 - mse: 0.3080\n",
            "Epoch 2/10\n",
            "1/1 [==============================] - 0s 64ms/step - loss: 0.3080 - mse: 0.3080\n",
            "Epoch 3/10\n",
            "1/1 [==============================] - 0s 57ms/step - loss: 0.3080 - mse: 0.3080\n",
            "Epoch 4/10\n",
            "1/1 [==============================] - 0s 57ms/step - loss: 0.3080 - mse: 0.3080\n",
            "Epoch 5/10\n",
            "1/1 [==============================] - 0s 61ms/step - loss: 0.3080 - mse: 0.3080\n",
            "Epoch 6/10\n",
            "1/1 [==============================] - 0s 58ms/step - loss: 0.3080 - mse: 0.3080\n",
            "Epoch 7/10\n",
            "1/1 [==============================] - 0s 62ms/step - loss: 0.3080 - mse: 0.3080\n",
            "Epoch 8/10\n",
            "1/1 [==============================] - 0s 55ms/step - loss: 0.3080 - mse: 0.3080\n",
            "Epoch 9/10\n",
            "1/1 [==============================] - 0s 59ms/step - loss: 0.3080 - mse: 0.3080\n",
            "Epoch 10/10\n",
            "1/1 [==============================] - 0s 71ms/step - loss: 0.3080 - mse: 0.3080\n"
          ],
          "name": "stdout"
        },
        {
          "output_type": "stream",
          "text": [
            "\r 18%|█▊        | 96/529 [01:51<06:07,  1.18it/s]"
          ],
          "name": "stderr"
        },
        {
          "output_type": "stream",
          "text": [
            "Epoch 1/10\n",
            "1/1 [==============================] - 0s 60ms/step - loss: 0.3043 - mse: 0.3043\n",
            "Epoch 2/10\n",
            "1/1 [==============================] - 0s 60ms/step - loss: 0.3042 - mse: 0.3042\n",
            "Epoch 3/10\n",
            "1/1 [==============================] - 0s 61ms/step - loss: 0.3042 - mse: 0.3042\n",
            "Epoch 4/10\n",
            "1/1 [==============================] - 0s 57ms/step - loss: 0.3042 - mse: 0.3042\n",
            "Epoch 5/10\n",
            "1/1 [==============================] - 0s 57ms/step - loss: 0.3042 - mse: 0.3042\n",
            "Epoch 6/10\n",
            "1/1 [==============================] - 0s 65ms/step - loss: 0.3042 - mse: 0.3042\n",
            "Epoch 7/10\n",
            "1/1 [==============================] - 0s 66ms/step - loss: 0.3042 - mse: 0.3042\n",
            "Epoch 8/10\n",
            "1/1 [==============================] - 0s 58ms/step - loss: 0.3042 - mse: 0.3042\n",
            "Epoch 9/10\n",
            "1/1 [==============================] - 0s 55ms/step - loss: 0.3042 - mse: 0.3042\n",
            "Epoch 10/10\n",
            "1/1 [==============================] - 0s 66ms/step - loss: 0.3042 - mse: 0.3042\n"
          ],
          "name": "stdout"
        },
        {
          "output_type": "stream",
          "text": [
            "\r 18%|█▊        | 97/529 [01:52<06:05,  1.18it/s]"
          ],
          "name": "stderr"
        },
        {
          "output_type": "stream",
          "text": [
            "Epoch 1/10\n",
            "1/1 [==============================] - 0s 59ms/step - loss: 0.3079 - mse: 0.3079\n",
            "Epoch 2/10\n",
            "1/1 [==============================] - 0s 59ms/step - loss: 0.3078 - mse: 0.3078\n",
            "Epoch 3/10\n",
            "1/1 [==============================] - 0s 64ms/step - loss: 0.3078 - mse: 0.3078\n",
            "Epoch 4/10\n",
            "1/1 [==============================] - 0s 64ms/step - loss: 0.3079 - mse: 0.3079\n",
            "Epoch 5/10\n",
            "1/1 [==============================] - 0s 64ms/step - loss: 0.3078 - mse: 0.3078\n",
            "Epoch 6/10\n",
            "1/1 [==============================] - 0s 56ms/step - loss: 0.3078 - mse: 0.3078\n",
            "Epoch 7/10\n",
            "1/1 [==============================] - 0s 56ms/step - loss: 0.3078 - mse: 0.3078\n",
            "Epoch 8/10\n",
            "1/1 [==============================] - 0s 60ms/step - loss: 0.3078 - mse: 0.3078\n",
            "Epoch 9/10\n",
            "1/1 [==============================] - 0s 67ms/step - loss: 0.3078 - mse: 0.3078\n",
            "Epoch 10/10\n",
            "1/1 [==============================] - 0s 61ms/step - loss: 0.3078 - mse: 0.3078\n"
          ],
          "name": "stdout"
        },
        {
          "output_type": "stream",
          "text": [
            "\r 19%|█▊        | 98/529 [01:53<06:04,  1.18it/s]"
          ],
          "name": "stderr"
        },
        {
          "output_type": "stream",
          "text": [
            "Epoch 1/10\n",
            "1/1 [==============================] - 0s 59ms/step - loss: 0.3090 - mse: 0.3090\n",
            "Epoch 2/10\n",
            "1/1 [==============================] - 0s 55ms/step - loss: 0.3089 - mse: 0.3089\n",
            "Epoch 3/10\n",
            "1/1 [==============================] - 0s 59ms/step - loss: 0.3090 - mse: 0.3090\n",
            "Epoch 4/10\n",
            "1/1 [==============================] - 0s 61ms/step - loss: 0.3090 - mse: 0.3090\n",
            "Epoch 5/10\n",
            "1/1 [==============================] - 0s 59ms/step - loss: 0.3089 - mse: 0.3089\n",
            "Epoch 6/10\n",
            "1/1 [==============================] - 0s 57ms/step - loss: 0.3089 - mse: 0.3089\n",
            "Epoch 7/10\n",
            "1/1 [==============================] - 0s 56ms/step - loss: 0.3090 - mse: 0.3090\n",
            "Epoch 8/10\n",
            "1/1 [==============================] - 0s 58ms/step - loss: 0.3089 - mse: 0.3089\n",
            "Epoch 9/10\n",
            "1/1 [==============================] - 0s 58ms/step - loss: 0.3089 - mse: 0.3089\n",
            "Epoch 10/10\n",
            "1/1 [==============================] - 0s 62ms/step - loss: 0.3089 - mse: 0.3089\n"
          ],
          "name": "stdout"
        },
        {
          "output_type": "stream",
          "text": [
            "\r 19%|█▊        | 99/529 [01:54<06:03,  1.18it/s]"
          ],
          "name": "stderr"
        },
        {
          "output_type": "stream",
          "text": [
            "Epoch 1/10\n",
            "1/1 [==============================] - 0s 60ms/step - loss: 0.3071 - mse: 0.3071\n",
            "Epoch 2/10\n",
            "1/1 [==============================] - 0s 71ms/step - loss: 0.3071 - mse: 0.3071\n",
            "Epoch 3/10\n",
            "1/1 [==============================] - 0s 55ms/step - loss: 0.3071 - mse: 0.3071\n",
            "Epoch 4/10\n",
            "1/1 [==============================] - 0s 58ms/step - loss: 0.3071 - mse: 0.3071\n",
            "Epoch 5/10\n",
            "1/1 [==============================] - 0s 61ms/step - loss: 0.3071 - mse: 0.3071\n",
            "Epoch 6/10\n",
            "1/1 [==============================] - 0s 57ms/step - loss: 0.3071 - mse: 0.3071\n",
            "Epoch 7/10\n",
            "1/1 [==============================] - 0s 57ms/step - loss: 0.3071 - mse: 0.3071\n",
            "Epoch 8/10\n",
            "1/1 [==============================] - 0s 56ms/step - loss: 0.3071 - mse: 0.3071\n",
            "Epoch 9/10\n",
            "1/1 [==============================] - 0s 60ms/step - loss: 0.3071 - mse: 0.3071\n",
            "Epoch 10/10\n",
            "1/1 [==============================] - 0s 65ms/step - loss: 0.3071 - mse: 0.3071\n"
          ],
          "name": "stdout"
        },
        {
          "output_type": "stream",
          "text": [
            "\r 19%|█▉        | 100/529 [01:54<06:03,  1.18it/s]"
          ],
          "name": "stderr"
        },
        {
          "output_type": "stream",
          "text": [
            "Epoch 1/10\n",
            "1/1 [==============================] - 0s 60ms/step - loss: 0.3079 - mse: 0.3079\n",
            "Epoch 2/10\n",
            "1/1 [==============================] - 0s 58ms/step - loss: 0.3079 - mse: 0.3079\n",
            "Epoch 3/10\n",
            "1/1 [==============================] - 0s 64ms/step - loss: 0.3078 - mse: 0.3078\n",
            "Epoch 4/10\n",
            "1/1 [==============================] - 0s 57ms/step - loss: 0.3078 - mse: 0.3078\n",
            "Epoch 5/10\n",
            "1/1 [==============================] - 0s 58ms/step - loss: 0.3078 - mse: 0.3078\n",
            "Epoch 6/10\n",
            "1/1 [==============================] - 0s 63ms/step - loss: 0.3078 - mse: 0.3078\n",
            "Epoch 7/10\n",
            "1/1 [==============================] - 0s 57ms/step - loss: 0.3078 - mse: 0.3078\n",
            "Epoch 8/10\n",
            "1/1 [==============================] - 0s 56ms/step - loss: 0.3078 - mse: 0.3078\n",
            "Epoch 9/10\n",
            "1/1 [==============================] - 0s 63ms/step - loss: 0.3078 - mse: 0.3078\n",
            "Epoch 10/10\n",
            "1/1 [==============================] - 0s 58ms/step - loss: 0.3078 - mse: 0.3078\n"
          ],
          "name": "stdout"
        },
        {
          "output_type": "stream",
          "text": [
            "\r 19%|█▉        | 101/529 [01:55<06:01,  1.18it/s]"
          ],
          "name": "stderr"
        },
        {
          "output_type": "stream",
          "text": [
            "Epoch 1/10\n",
            "1/1 [==============================] - 0s 58ms/step - loss: 0.3066 - mse: 0.3066\n",
            "Epoch 2/10\n",
            "1/1 [==============================] - 0s 58ms/step - loss: 0.3066 - mse: 0.3066\n",
            "Epoch 3/10\n",
            "1/1 [==============================] - 0s 56ms/step - loss: 0.3065 - mse: 0.3065\n",
            "Epoch 4/10\n",
            "1/1 [==============================] - 0s 61ms/step - loss: 0.3065 - mse: 0.3065\n",
            "Epoch 5/10\n",
            "1/1 [==============================] - 0s 58ms/step - loss: 0.3065 - mse: 0.3065\n",
            "Epoch 6/10\n",
            "1/1 [==============================] - 0s 58ms/step - loss: 0.3065 - mse: 0.3065\n",
            "Epoch 7/10\n",
            "1/1 [==============================] - 0s 67ms/step - loss: 0.3065 - mse: 0.3065\n",
            "Epoch 8/10\n",
            "1/1 [==============================] - 0s 63ms/step - loss: 0.3065 - mse: 0.3065\n",
            "Epoch 9/10\n",
            "1/1 [==============================] - 0s 59ms/step - loss: 0.3065 - mse: 0.3065\n",
            "Epoch 10/10\n",
            "1/1 [==============================] - 0s 58ms/step - loss: 0.3065 - mse: 0.3065\n"
          ],
          "name": "stdout"
        },
        {
          "output_type": "stream",
          "text": [
            "\r 19%|█▉        | 102/529 [01:56<05:59,  1.19it/s]"
          ],
          "name": "stderr"
        },
        {
          "output_type": "stream",
          "text": [
            "Epoch 1/10\n",
            "1/1 [==============================] - 0s 59ms/step - loss: 0.2922 - mse: 0.2922\n",
            "Epoch 2/10\n",
            "1/1 [==============================] - 0s 56ms/step - loss: 0.2919 - mse: 0.2919\n",
            "Epoch 3/10\n",
            "1/1 [==============================] - 0s 55ms/step - loss: 0.2920 - mse: 0.2920\n",
            "Epoch 4/10\n",
            "1/1 [==============================] - 0s 58ms/step - loss: 0.2920 - mse: 0.2920\n",
            "Epoch 5/10\n",
            "1/1 [==============================] - 0s 59ms/step - loss: 0.2918 - mse: 0.2918\n",
            "Epoch 6/10\n",
            "1/1 [==============================] - 0s 58ms/step - loss: 0.2918 - mse: 0.2918\n",
            "Epoch 7/10\n",
            "1/1 [==============================] - 0s 57ms/step - loss: 0.2920 - mse: 0.2920\n",
            "Epoch 8/10\n",
            "1/1 [==============================] - 0s 62ms/step - loss: 0.2919 - mse: 0.2919\n",
            "Epoch 9/10\n",
            "1/1 [==============================] - 0s 56ms/step - loss: 0.2918 - mse: 0.2918\n",
            "Epoch 10/10\n",
            "1/1 [==============================] - 0s 66ms/step - loss: 0.2919 - mse: 0.2919\n"
          ],
          "name": "stdout"
        },
        {
          "output_type": "stream",
          "text": [
            "\r 19%|█▉        | 103/529 [01:57<05:58,  1.19it/s]"
          ],
          "name": "stderr"
        },
        {
          "output_type": "stream",
          "text": [
            "Epoch 1/10\n",
            "1/1 [==============================] - 0s 59ms/step - loss: 0.3100 - mse: 0.3100\n",
            "Epoch 2/10\n",
            "1/1 [==============================] - 0s 58ms/step - loss: 0.3090 - mse: 0.3090\n",
            "Epoch 3/10\n",
            "1/1 [==============================] - 0s 60ms/step - loss: 0.3093 - mse: 0.3093\n",
            "Epoch 4/10\n",
            "1/1 [==============================] - 0s 61ms/step - loss: 0.3097 - mse: 0.3097\n",
            "Epoch 5/10\n",
            "1/1 [==============================] - 0s 55ms/step - loss: 0.3090 - mse: 0.3090\n",
            "Epoch 6/10\n",
            "1/1 [==============================] - 0s 62ms/step - loss: 0.3090 - mse: 0.3090\n",
            "Epoch 7/10\n",
            "1/1 [==============================] - 0s 62ms/step - loss: 0.3095 - mse: 0.3095\n",
            "Epoch 8/10\n",
            "1/1 [==============================] - 0s 59ms/step - loss: 0.3091 - mse: 0.3091\n",
            "Epoch 9/10\n",
            "1/1 [==============================] - 0s 62ms/step - loss: 0.3089 - mse: 0.3089\n",
            "Epoch 10/10\n",
            "1/1 [==============================] - 0s 59ms/step - loss: 0.3093 - mse: 0.3093\n"
          ],
          "name": "stdout"
        },
        {
          "output_type": "stream",
          "text": [
            "\r 20%|█▉        | 104/529 [01:58<05:58,  1.19it/s]"
          ],
          "name": "stderr"
        },
        {
          "output_type": "stream",
          "text": [
            "Epoch 1/10\n",
            "1/1 [==============================] - 0s 61ms/step - loss: 0.2990 - mse: 0.2990\n",
            "Epoch 2/10\n",
            "1/1 [==============================] - 0s 62ms/step - loss: 0.2980 - mse: 0.2980\n",
            "Epoch 3/10\n",
            "1/1 [==============================] - 0s 56ms/step - loss: 0.2986 - mse: 0.2986\n",
            "Epoch 4/10\n",
            "1/1 [==============================] - 0s 65ms/step - loss: 0.2989 - mse: 0.2989\n",
            "Epoch 5/10\n",
            "1/1 [==============================] - 0s 63ms/step - loss: 0.2981 - mse: 0.2981\n",
            "Epoch 6/10\n",
            "1/1 [==============================] - 0s 66ms/step - loss: 0.2981 - mse: 0.2981\n",
            "Epoch 7/10\n",
            "1/1 [==============================] - 0s 62ms/step - loss: 0.2986 - mse: 0.2986\n",
            "Epoch 8/10\n",
            "1/1 [==============================] - 0s 58ms/step - loss: 0.2983 - mse: 0.2983\n",
            "Epoch 9/10\n",
            "1/1 [==============================] - 0s 55ms/step - loss: 0.2980 - mse: 0.2980\n",
            "Epoch 10/10\n",
            "1/1 [==============================] - 0s 60ms/step - loss: 0.2984 - mse: 0.2984\n"
          ],
          "name": "stdout"
        },
        {
          "output_type": "stream",
          "text": [
            "\r 20%|█▉        | 105/529 [01:59<05:57,  1.19it/s]"
          ],
          "name": "stderr"
        },
        {
          "output_type": "stream",
          "text": [
            "Epoch 1/10\n",
            "1/1 [==============================] - 0s 62ms/step - loss: 0.3077 - mse: 0.3077\n",
            "Epoch 2/10\n",
            "1/1 [==============================] - 0s 66ms/step - loss: 0.3068 - mse: 0.3068\n",
            "Epoch 3/10\n",
            "1/1 [==============================] - 0s 56ms/step - loss: 0.3072 - mse: 0.3072\n",
            "Epoch 4/10\n",
            "1/1 [==============================] - 0s 55ms/step - loss: 0.3076 - mse: 0.3076\n",
            "Epoch 5/10\n",
            "1/1 [==============================] - 0s 55ms/step - loss: 0.3069 - mse: 0.3069\n",
            "Epoch 6/10\n",
            "1/1 [==============================] - 0s 57ms/step - loss: 0.3069 - mse: 0.3069\n",
            "Epoch 7/10\n",
            "1/1 [==============================] - 0s 57ms/step - loss: 0.3073 - mse: 0.3073\n",
            "Epoch 8/10\n",
            "1/1 [==============================] - 0s 63ms/step - loss: 0.3070 - mse: 0.3070\n",
            "Epoch 9/10\n",
            "1/1 [==============================] - 0s 60ms/step - loss: 0.3068 - mse: 0.3068\n",
            "Epoch 10/10\n",
            "1/1 [==============================] - 0s 56ms/step - loss: 0.3071 - mse: 0.3071\n"
          ],
          "name": "stdout"
        },
        {
          "output_type": "stream",
          "text": [
            "\r 20%|██        | 106/529 [01:59<05:56,  1.19it/s]"
          ],
          "name": "stderr"
        },
        {
          "output_type": "stream",
          "text": [
            "Epoch 1/10\n",
            "1/1 [==============================] - 0s 59ms/step - loss: 0.3146 - mse: 0.3146\n",
            "Epoch 2/10\n",
            "1/1 [==============================] - 0s 59ms/step - loss: 0.3145 - mse: 0.3145\n",
            "Epoch 3/10\n",
            "1/1 [==============================] - 0s 57ms/step - loss: 0.3145 - mse: 0.3145\n",
            "Epoch 4/10\n",
            "1/1 [==============================] - 0s 65ms/step - loss: 0.3146 - mse: 0.3146\n",
            "Epoch 5/10\n",
            "1/1 [==============================] - 0s 69ms/step - loss: 0.3145 - mse: 0.3145\n",
            "Epoch 6/10\n",
            "1/1 [==============================] - 0s 55ms/step - loss: 0.3145 - mse: 0.3145\n",
            "Epoch 7/10\n",
            "1/1 [==============================] - 0s 63ms/step - loss: 0.3145 - mse: 0.3145\n",
            "Epoch 8/10\n",
            "1/1 [==============================] - 0s 65ms/step - loss: 0.3145 - mse: 0.3145\n",
            "Epoch 9/10\n",
            "1/1 [==============================] - 0s 63ms/step - loss: 0.3145 - mse: 0.3145\n",
            "Epoch 10/10\n",
            "1/1 [==============================] - 0s 68ms/step - loss: 0.3145 - mse: 0.3145\n"
          ],
          "name": "stdout"
        },
        {
          "output_type": "stream",
          "text": [
            "\r 20%|██        | 107/529 [02:00<05:56,  1.18it/s]"
          ],
          "name": "stderr"
        },
        {
          "output_type": "stream",
          "text": [
            "Epoch 1/10\n",
            "1/1 [==============================] - 0s 64ms/step - loss: 0.3070 - mse: 0.3070\n",
            "Epoch 2/10\n",
            "1/1 [==============================] - 0s 56ms/step - loss: 0.3070 - mse: 0.3070\n",
            "Epoch 3/10\n",
            "1/1 [==============================] - 0s 62ms/step - loss: 0.3069 - mse: 0.3069\n",
            "Epoch 4/10\n",
            "1/1 [==============================] - 0s 63ms/step - loss: 0.3069 - mse: 0.3069\n",
            "Epoch 5/10\n",
            "1/1 [==============================] - 0s 68ms/step - loss: 0.3069 - mse: 0.3069\n",
            "Epoch 6/10\n",
            "1/1 [==============================] - 0s 58ms/step - loss: 0.3069 - mse: 0.3069\n",
            "Epoch 7/10\n",
            "1/1 [==============================] - 0s 65ms/step - loss: 0.3069 - mse: 0.3069\n",
            "Epoch 8/10\n",
            "1/1 [==============================] - 0s 66ms/step - loss: 0.3069 - mse: 0.3069\n",
            "Epoch 9/10\n",
            "1/1 [==============================] - 0s 60ms/step - loss: 0.3069 - mse: 0.3069\n",
            "Epoch 10/10\n",
            "1/1 [==============================] - 0s 62ms/step - loss: 0.3069 - mse: 0.3069\n"
          ],
          "name": "stdout"
        },
        {
          "output_type": "stream",
          "text": [
            "\r 20%|██        | 108/529 [02:01<05:58,  1.17it/s]"
          ],
          "name": "stderr"
        },
        {
          "output_type": "stream",
          "text": [
            "Epoch 1/10\n",
            "1/1 [==============================] - 0s 61ms/step - loss: 0.3056 - mse: 0.3056\n",
            "Epoch 2/10\n",
            "1/1 [==============================] - 0s 57ms/step - loss: 0.3056 - mse: 0.3056\n",
            "Epoch 3/10\n",
            "1/1 [==============================] - 0s 63ms/step - loss: 0.3056 - mse: 0.3056\n",
            "Epoch 4/10\n",
            "1/1 [==============================] - 0s 65ms/step - loss: 0.3056 - mse: 0.3056\n",
            "Epoch 5/10\n",
            "1/1 [==============================] - 0s 62ms/step - loss: 0.3056 - mse: 0.3056\n",
            "Epoch 6/10\n",
            "1/1 [==============================] - 0s 58ms/step - loss: 0.3056 - mse: 0.3056\n",
            "Epoch 7/10\n",
            "1/1 [==============================] - 0s 66ms/step - loss: 0.3056 - mse: 0.3056\n",
            "Epoch 8/10\n",
            "1/1 [==============================] - 0s 60ms/step - loss: 0.3056 - mse: 0.3056\n",
            "Epoch 9/10\n",
            "1/1 [==============================] - 0s 62ms/step - loss: 0.3056 - mse: 0.3056\n",
            "Epoch 10/10\n",
            "1/1 [==============================] - 0s 59ms/step - loss: 0.3056 - mse: 0.3056\n"
          ],
          "name": "stdout"
        },
        {
          "output_type": "stream",
          "text": [
            "\r 21%|██        | 109/529 [02:02<06:00,  1.16it/s]"
          ],
          "name": "stderr"
        },
        {
          "output_type": "stream",
          "text": [
            "Epoch 1/10\n",
            "1/1 [==============================] - 0s 67ms/step - loss: 0.3106 - mse: 0.3106\n",
            "Epoch 2/10\n",
            "1/1 [==============================] - 0s 63ms/step - loss: 0.3106 - mse: 0.3106\n",
            "Epoch 3/10\n",
            "1/1 [==============================] - 0s 60ms/step - loss: 0.3106 - mse: 0.3106\n",
            "Epoch 4/10\n",
            "1/1 [==============================] - 0s 62ms/step - loss: 0.3106 - mse: 0.3106\n",
            "Epoch 5/10\n",
            "1/1 [==============================] - 0s 63ms/step - loss: 0.3106 - mse: 0.3106\n",
            "Epoch 6/10\n",
            "1/1 [==============================] - 0s 62ms/step - loss: 0.3106 - mse: 0.3106\n",
            "Epoch 7/10\n",
            "1/1 [==============================] - 0s 56ms/step - loss: 0.3106 - mse: 0.3106\n",
            "Epoch 8/10\n",
            "1/1 [==============================] - 0s 62ms/step - loss: 0.3106 - mse: 0.3106\n",
            "Epoch 9/10\n",
            "1/1 [==============================] - 0s 61ms/step - loss: 0.3106 - mse: 0.3106\n",
            "Epoch 10/10\n",
            "1/1 [==============================] - 0s 59ms/step - loss: 0.3106 - mse: 0.3106\n"
          ],
          "name": "stdout"
        },
        {
          "output_type": "stream",
          "text": [
            "\r 21%|██        | 110/529 [02:03<06:03,  1.15it/s]"
          ],
          "name": "stderr"
        },
        {
          "output_type": "stream",
          "text": [
            "Epoch 1/10\n",
            "1/1 [==============================] - 0s 63ms/step - loss: 0.3093 - mse: 0.3093\n",
            "Epoch 2/10\n",
            "1/1 [==============================] - 0s 59ms/step - loss: 0.3092 - mse: 0.3092\n",
            "Epoch 3/10\n",
            "1/1 [==============================] - 0s 57ms/step - loss: 0.3093 - mse: 0.3093\n",
            "Epoch 4/10\n",
            "1/1 [==============================] - 0s 64ms/step - loss: 0.3093 - mse: 0.3093\n",
            "Epoch 5/10\n",
            "1/1 [==============================] - 0s 66ms/step - loss: 0.3092 - mse: 0.3092\n",
            "Epoch 6/10\n",
            "1/1 [==============================] - 0s 65ms/step - loss: 0.3092 - mse: 0.3092\n",
            "Epoch 7/10\n",
            "1/1 [==============================] - 0s 59ms/step - loss: 0.3093 - mse: 0.3093\n",
            "Epoch 8/10\n",
            "1/1 [==============================] - 0s 58ms/step - loss: 0.3092 - mse: 0.3092\n",
            "Epoch 9/10\n",
            "1/1 [==============================] - 0s 65ms/step - loss: 0.3092 - mse: 0.3092\n",
            "Epoch 10/10\n",
            "1/1 [==============================] - 0s 61ms/step - loss: 0.3092 - mse: 0.3092\n"
          ],
          "name": "stdout"
        },
        {
          "output_type": "stream",
          "text": [
            "\r 21%|██        | 111/529 [02:04<06:01,  1.16it/s]"
          ],
          "name": "stderr"
        },
        {
          "output_type": "stream",
          "text": [
            "Epoch 1/10\n",
            "1/1 [==============================] - 0s 66ms/step - loss: 0.3091 - mse: 0.3091\n",
            "Epoch 2/10\n",
            "1/1 [==============================] - 0s 58ms/step - loss: 0.3091 - mse: 0.3091\n",
            "Epoch 3/10\n",
            "1/1 [==============================] - 0s 56ms/step - loss: 0.3091 - mse: 0.3091\n",
            "Epoch 4/10\n",
            "1/1 [==============================] - 0s 63ms/step - loss: 0.3091 - mse: 0.3091\n",
            "Epoch 5/10\n",
            "1/1 [==============================] - 0s 62ms/step - loss: 0.3091 - mse: 0.3091\n",
            "Epoch 6/10\n",
            "1/1 [==============================] - 0s 59ms/step - loss: 0.3091 - mse: 0.3091\n",
            "Epoch 7/10\n",
            "1/1 [==============================] - 0s 62ms/step - loss: 0.3091 - mse: 0.3091\n",
            "Epoch 8/10\n",
            "1/1 [==============================] - 0s 60ms/step - loss: 0.3091 - mse: 0.3091\n",
            "Epoch 9/10\n",
            "1/1 [==============================] - 0s 60ms/step - loss: 0.3091 - mse: 0.3091\n",
            "Epoch 10/10\n",
            "1/1 [==============================] - 0s 58ms/step - loss: 0.3091 - mse: 0.3091\n"
          ],
          "name": "stdout"
        },
        {
          "output_type": "stream",
          "text": [
            "\r 21%|██        | 112/529 [02:05<06:02,  1.15it/s]"
          ],
          "name": "stderr"
        },
        {
          "output_type": "stream",
          "text": [
            "Epoch 1/10\n",
            "1/1 [==============================] - 0s 60ms/step - loss: 0.3084 - mse: 0.3084\n",
            "Epoch 2/10\n",
            "1/1 [==============================] - 0s 63ms/step - loss: 0.3084 - mse: 0.3084\n",
            "Epoch 3/10\n",
            "1/1 [==============================] - 0s 58ms/step - loss: 0.3084 - mse: 0.3084\n",
            "Epoch 4/10\n",
            "1/1 [==============================] - 0s 57ms/step - loss: 0.3084 - mse: 0.3084\n",
            "Epoch 5/10\n",
            "1/1 [==============================] - 0s 64ms/step - loss: 0.3083 - mse: 0.3083\n",
            "Epoch 6/10\n",
            "1/1 [==============================] - 0s 68ms/step - loss: 0.3084 - mse: 0.3084\n",
            "Epoch 7/10\n",
            "1/1 [==============================] - 0s 64ms/step - loss: 0.3084 - mse: 0.3084\n",
            "Epoch 8/10\n",
            "1/1 [==============================] - 0s 64ms/step - loss: 0.3084 - mse: 0.3084\n",
            "Epoch 9/10\n",
            "1/1 [==============================] - 0s 61ms/step - loss: 0.3084 - mse: 0.3084\n",
            "Epoch 10/10\n",
            "1/1 [==============================] - 0s 61ms/step - loss: 0.3084 - mse: 0.3084\n"
          ],
          "name": "stdout"
        },
        {
          "output_type": "stream",
          "text": [
            "\r 21%|██▏       | 113/529 [02:06<06:00,  1.15it/s]"
          ],
          "name": "stderr"
        },
        {
          "output_type": "stream",
          "text": [
            "Epoch 1/10\n",
            "1/1 [==============================] - 0s 61ms/step - loss: 0.3092 - mse: 0.3092\n",
            "Epoch 2/10\n",
            "1/1 [==============================] - 0s 61ms/step - loss: 0.3092 - mse: 0.3092\n",
            "Epoch 3/10\n",
            "1/1 [==============================] - 0s 57ms/step - loss: 0.3092 - mse: 0.3092\n",
            "Epoch 4/10\n",
            "1/1 [==============================] - 0s 64ms/step - loss: 0.3091 - mse: 0.3091\n",
            "Epoch 5/10\n",
            "1/1 [==============================] - 0s 66ms/step - loss: 0.3091 - mse: 0.3091\n",
            "Epoch 6/10\n",
            "1/1 [==============================] - 0s 60ms/step - loss: 0.3091 - mse: 0.3091\n",
            "Epoch 7/10\n",
            "1/1 [==============================] - 0s 58ms/step - loss: 0.3091 - mse: 0.3091\n",
            "Epoch 8/10\n",
            "1/1 [==============================] - 0s 64ms/step - loss: 0.3091 - mse: 0.3091\n",
            "Epoch 9/10\n",
            "1/1 [==============================] - 0s 62ms/step - loss: 0.3091 - mse: 0.3091\n",
            "Epoch 10/10\n",
            "1/1 [==============================] - 0s 61ms/step - loss: 0.3091 - mse: 0.3091\n"
          ],
          "name": "stdout"
        },
        {
          "output_type": "stream",
          "text": [
            "\r 22%|██▏       | 114/529 [02:06<05:59,  1.15it/s]"
          ],
          "name": "stderr"
        },
        {
          "output_type": "stream",
          "text": [
            "Epoch 1/10\n",
            "1/1 [==============================] - 0s 62ms/step - loss: 0.3066 - mse: 0.3066\n",
            "Epoch 2/10\n",
            "1/1 [==============================] - 0s 62ms/step - loss: 0.3066 - mse: 0.3066\n",
            "Epoch 3/10\n",
            "1/1 [==============================] - 0s 60ms/step - loss: 0.3066 - mse: 0.3066\n",
            "Epoch 4/10\n",
            "1/1 [==============================] - 0s 59ms/step - loss: 0.3066 - mse: 0.3066\n",
            "Epoch 5/10\n",
            "1/1 [==============================] - 0s 64ms/step - loss: 0.3066 - mse: 0.3066\n",
            "Epoch 6/10\n",
            "1/1 [==============================] - 0s 69ms/step - loss: 0.3066 - mse: 0.3066\n",
            "Epoch 7/10\n",
            "1/1 [==============================] - 0s 57ms/step - loss: 0.3066 - mse: 0.3066\n",
            "Epoch 8/10\n",
            "1/1 [==============================] - 0s 63ms/step - loss: 0.3066 - mse: 0.3066\n",
            "Epoch 9/10\n",
            "1/1 [==============================] - 0s 59ms/step - loss: 0.3065 - mse: 0.3065\n",
            "Epoch 10/10\n",
            "1/1 [==============================] - 0s 63ms/step - loss: 0.3066 - mse: 0.3066\n"
          ],
          "name": "stdout"
        },
        {
          "output_type": "stream",
          "text": [
            "\r 22%|██▏       | 115/529 [02:07<06:00,  1.15it/s]"
          ],
          "name": "stderr"
        },
        {
          "output_type": "stream",
          "text": [
            "Epoch 1/10\n",
            "1/1 [==============================] - 0s 63ms/step - loss: 0.3057 - mse: 0.3057\n",
            "Epoch 2/10\n",
            "1/1 [==============================] - 0s 58ms/step - loss: 0.3056 - mse: 0.3056\n",
            "Epoch 3/10\n",
            "1/1 [==============================] - 0s 58ms/step - loss: 0.3057 - mse: 0.3057\n",
            "Epoch 4/10\n",
            "1/1 [==============================] - 0s 57ms/step - loss: 0.3056 - mse: 0.3056\n",
            "Epoch 5/10\n",
            "1/1 [==============================] - 0s 62ms/step - loss: 0.3056 - mse: 0.3056\n",
            "Epoch 6/10\n",
            "1/1 [==============================] - 0s 61ms/step - loss: 0.3056 - mse: 0.3056\n",
            "Epoch 7/10\n",
            "1/1 [==============================] - 0s 63ms/step - loss: 0.3056 - mse: 0.3056\n",
            "Epoch 8/10\n",
            "1/1 [==============================] - 0s 61ms/step - loss: 0.3056 - mse: 0.3056\n",
            "Epoch 9/10\n",
            "1/1 [==============================] - 0s 64ms/step - loss: 0.3056 - mse: 0.3056\n",
            "Epoch 10/10\n",
            "1/1 [==============================] - 0s 64ms/step - loss: 0.3056 - mse: 0.3056\n"
          ],
          "name": "stdout"
        },
        {
          "output_type": "stream",
          "text": [
            "\r 22%|██▏       | 116/529 [02:08<06:01,  1.14it/s]"
          ],
          "name": "stderr"
        },
        {
          "output_type": "stream",
          "text": [
            "Epoch 1/10\n",
            "1/1 [==============================] - 0s 63ms/step - loss: 0.3096 - mse: 0.3096\n",
            "Epoch 2/10\n",
            "1/1 [==============================] - 0s 56ms/step - loss: 0.3096 - mse: 0.3096\n",
            "Epoch 3/10\n",
            "1/1 [==============================] - 0s 62ms/step - loss: 0.3096 - mse: 0.3096\n",
            "Epoch 4/10\n",
            "1/1 [==============================] - 0s 60ms/step - loss: 0.3096 - mse: 0.3096\n",
            "Epoch 5/10\n",
            "1/1 [==============================] - 0s 58ms/step - loss: 0.3096 - mse: 0.3096\n",
            "Epoch 6/10\n",
            "1/1 [==============================] - 0s 58ms/step - loss: 0.3095 - mse: 0.3095\n",
            "Epoch 7/10\n",
            "1/1 [==============================] - 0s 60ms/step - loss: 0.3096 - mse: 0.3096\n",
            "Epoch 8/10\n",
            "1/1 [==============================] - 0s 65ms/step - loss: 0.3096 - mse: 0.3096\n",
            "Epoch 9/10\n",
            "1/1 [==============================] - 0s 57ms/step - loss: 0.3095 - mse: 0.3095\n",
            "Epoch 10/10\n",
            "1/1 [==============================] - 0s 59ms/step - loss: 0.3096 - mse: 0.3096\n"
          ],
          "name": "stdout"
        },
        {
          "output_type": "stream",
          "text": [
            "\r 22%|██▏       | 117/529 [02:09<05:59,  1.15it/s]"
          ],
          "name": "stderr"
        },
        {
          "output_type": "stream",
          "text": [
            "Epoch 1/10\n",
            "1/1 [==============================] - 0s 61ms/step - loss: 0.3072 - mse: 0.3072\n",
            "Epoch 2/10\n",
            "1/1 [==============================] - 0s 61ms/step - loss: 0.3071 - mse: 0.3071\n",
            "Epoch 3/10\n",
            "1/1 [==============================] - 0s 60ms/step - loss: 0.3072 - mse: 0.3072\n",
            "Epoch 4/10\n",
            "1/1 [==============================] - 0s 58ms/step - loss: 0.3072 - mse: 0.3072\n",
            "Epoch 5/10\n",
            "1/1 [==============================] - 0s 62ms/step - loss: 0.3071 - mse: 0.3071\n",
            "Epoch 6/10\n",
            "1/1 [==============================] - 0s 58ms/step - loss: 0.3071 - mse: 0.3071\n",
            "Epoch 7/10\n",
            "1/1 [==============================] - 0s 61ms/step - loss: 0.3072 - mse: 0.3072\n",
            "Epoch 8/10\n",
            "1/1 [==============================] - 0s 69ms/step - loss: 0.3071 - mse: 0.3071\n",
            "Epoch 9/10\n",
            "1/1 [==============================] - 0s 63ms/step - loss: 0.3071 - mse: 0.3071\n",
            "Epoch 10/10\n",
            "1/1 [==============================] - 0s 59ms/step - loss: 0.3071 - mse: 0.3071\n"
          ],
          "name": "stdout"
        },
        {
          "output_type": "stream",
          "text": [
            "\r 22%|██▏       | 118/529 [02:10<05:58,  1.15it/s]"
          ],
          "name": "stderr"
        },
        {
          "output_type": "stream",
          "text": [
            "Epoch 1/10\n",
            "1/1 [==============================] - 0s 61ms/step - loss: 0.3300 - mse: 0.3300\n",
            "Epoch 2/10\n",
            "1/1 [==============================] - 0s 60ms/step - loss: 0.3291 - mse: 0.3291\n",
            "Epoch 3/10\n",
            "1/1 [==============================] - 0s 64ms/step - loss: 0.3296 - mse: 0.3296\n",
            "Epoch 4/10\n",
            "1/1 [==============================] - 0s 59ms/step - loss: 0.3297 - mse: 0.3297\n",
            "Epoch 5/10\n",
            "1/1 [==============================] - 0s 59ms/step - loss: 0.3290 - mse: 0.3290\n",
            "Epoch 6/10\n",
            "1/1 [==============================] - 0s 63ms/step - loss: 0.3294 - mse: 0.3294\n",
            "Epoch 7/10\n",
            "1/1 [==============================] - 0s 62ms/step - loss: 0.3296 - mse: 0.3296\n",
            "Epoch 8/10\n",
            "1/1 [==============================] - 0s 59ms/step - loss: 0.3291 - mse: 0.3291\n",
            "Epoch 9/10\n",
            "1/1 [==============================] - 0s 63ms/step - loss: 0.3292 - mse: 0.3292\n",
            "Epoch 10/10\n",
            "1/1 [==============================] - 0s 62ms/step - loss: 0.3294 - mse: 0.3294\n"
          ],
          "name": "stdout"
        },
        {
          "output_type": "stream",
          "text": [
            "\r 22%|██▏       | 119/529 [02:11<05:57,  1.15it/s]"
          ],
          "name": "stderr"
        },
        {
          "output_type": "stream",
          "text": [
            "Epoch 1/10\n",
            "1/1 [==============================] - 0s 64ms/step - loss: 0.3127 - mse: 0.3127\n",
            "Epoch 2/10\n",
            "1/1 [==============================] - 0s 64ms/step - loss: 0.3117 - mse: 0.3117\n",
            "Epoch 3/10\n",
            "1/1 [==============================] - 0s 58ms/step - loss: 0.3128 - mse: 0.3128\n",
            "Epoch 4/10\n",
            "1/1 [==============================] - 0s 63ms/step - loss: 0.3126 - mse: 0.3126\n",
            "Epoch 5/10\n",
            "1/1 [==============================] - 0s 59ms/step - loss: 0.3115 - mse: 0.3115\n",
            "Epoch 6/10\n",
            "1/1 [==============================] - 0s 62ms/step - loss: 0.3121 - mse: 0.3121\n",
            "Epoch 7/10\n",
            "1/1 [==============================] - 0s 60ms/step - loss: 0.3124 - mse: 0.3124\n",
            "Epoch 8/10\n",
            "1/1 [==============================] - 0s 62ms/step - loss: 0.3116 - mse: 0.3116\n",
            "Epoch 9/10\n",
            "1/1 [==============================] - 0s 66ms/step - loss: 0.3118 - mse: 0.3118\n",
            "Epoch 10/10\n",
            "1/1 [==============================] - 0s 58ms/step - loss: 0.3122 - mse: 0.3122\n"
          ],
          "name": "stdout"
        },
        {
          "output_type": "stream",
          "text": [
            "\r 23%|██▎       | 120/529 [02:12<05:56,  1.15it/s]"
          ],
          "name": "stderr"
        },
        {
          "output_type": "stream",
          "text": [
            "Epoch 1/10\n",
            "1/1 [==============================] - 0s 62ms/step - loss: 0.3025 - mse: 0.3025\n",
            "Epoch 2/10\n",
            "1/1 [==============================] - 0s 60ms/step - loss: 0.3026 - mse: 0.3026\n",
            "Epoch 3/10\n",
            "1/1 [==============================] - 0s 57ms/step - loss: 0.3027 - mse: 0.3027\n",
            "Epoch 4/10\n",
            "1/1 [==============================] - 0s 61ms/step - loss: 0.3025 - mse: 0.3025\n",
            "Epoch 5/10\n",
            "1/1 [==============================] - 0s 60ms/step - loss: 0.3025 - mse: 0.3025\n",
            "Epoch 6/10\n",
            "1/1 [==============================] - 0s 57ms/step - loss: 0.3026 - mse: 0.3026\n",
            "Epoch 7/10\n",
            "1/1 [==============================] - 0s 61ms/step - loss: 0.3025 - mse: 0.3025\n",
            "Epoch 8/10\n",
            "1/1 [==============================] - 0s 55ms/step - loss: 0.3024 - mse: 0.3024\n",
            "Epoch 9/10\n",
            "1/1 [==============================] - 0s 63ms/step - loss: 0.3025 - mse: 0.3025\n",
            "Epoch 10/10\n",
            "1/1 [==============================] - 0s 60ms/step - loss: 0.3025 - mse: 0.3025\n"
          ],
          "name": "stdout"
        },
        {
          "output_type": "stream",
          "text": [
            "\r 23%|██▎       | 121/529 [02:12<05:55,  1.15it/s]"
          ],
          "name": "stderr"
        },
        {
          "output_type": "stream",
          "text": [
            "Epoch 1/10\n",
            "1/1 [==============================] - 0s 60ms/step - loss: 0.3098 - mse: 0.3098\n",
            "Epoch 2/10\n",
            "1/1 [==============================] - 0s 66ms/step - loss: 0.3098 - mse: 0.3098\n",
            "Epoch 3/10\n",
            "1/1 [==============================] - 0s 60ms/step - loss: 0.3097 - mse: 0.3097\n",
            "Epoch 4/10\n",
            "1/1 [==============================] - 0s 62ms/step - loss: 0.3098 - mse: 0.3098\n",
            "Epoch 5/10\n",
            "1/1 [==============================] - 0s 58ms/step - loss: 0.3098 - mse: 0.3098\n",
            "Epoch 6/10\n",
            "1/1 [==============================] - 0s 62ms/step - loss: 0.3097 - mse: 0.3097\n",
            "Epoch 7/10\n",
            "1/1 [==============================] - 0s 59ms/step - loss: 0.3097 - mse: 0.3097\n",
            "Epoch 8/10\n",
            "1/1 [==============================] - 0s 68ms/step - loss: 0.3098 - mse: 0.3098\n",
            "Epoch 9/10\n",
            "1/1 [==============================] - 0s 58ms/step - loss: 0.3097 - mse: 0.3097\n",
            "Epoch 10/10\n",
            "1/1 [==============================] - 0s 66ms/step - loss: 0.3097 - mse: 0.3097\n"
          ],
          "name": "stdout"
        },
        {
          "output_type": "stream",
          "text": [
            "\r 23%|██▎       | 122/529 [02:13<05:53,  1.15it/s]"
          ],
          "name": "stderr"
        },
        {
          "output_type": "stream",
          "text": [
            "Epoch 1/10\n",
            "1/1 [==============================] - 0s 64ms/step - loss: 0.3048 - mse: 0.3048\n",
            "Epoch 2/10\n",
            "1/1 [==============================] - 0s 58ms/step - loss: 0.3046 - mse: 0.3046\n",
            "Epoch 3/10\n",
            "1/1 [==============================] - 0s 61ms/step - loss: 0.3046 - mse: 0.3046\n",
            "Epoch 4/10\n",
            "1/1 [==============================] - 0s 58ms/step - loss: 0.3046 - mse: 0.3046\n",
            "Epoch 5/10\n",
            "1/1 [==============================] - 0s 62ms/step - loss: 0.3046 - mse: 0.3046\n",
            "Epoch 6/10\n",
            "1/1 [==============================] - 0s 61ms/step - loss: 0.3045 - mse: 0.3045\n",
            "Epoch 7/10\n",
            "1/1 [==============================] - 0s 58ms/step - loss: 0.3046 - mse: 0.3046\n",
            "Epoch 8/10\n",
            "1/1 [==============================] - 0s 56ms/step - loss: 0.3046 - mse: 0.3046\n",
            "Epoch 9/10\n",
            "1/1 [==============================] - 0s 57ms/step - loss: 0.3045 - mse: 0.3045\n",
            "Epoch 10/10\n",
            "1/1 [==============================] - 0s 65ms/step - loss: 0.3046 - mse: 0.3046\n"
          ],
          "name": "stdout"
        },
        {
          "output_type": "stream",
          "text": [
            "\r 23%|██▎       | 123/529 [02:14<05:50,  1.16it/s]"
          ],
          "name": "stderr"
        },
        {
          "output_type": "stream",
          "text": [
            "Epoch 1/10\n",
            "1/1 [==============================] - 0s 59ms/step - loss: 0.3066 - mse: 0.3066\n",
            "Epoch 2/10\n",
            "1/1 [==============================] - 0s 57ms/step - loss: 0.3065 - mse: 0.3065\n",
            "Epoch 3/10\n",
            "1/1 [==============================] - 0s 58ms/step - loss: 0.3065 - mse: 0.3065\n",
            "Epoch 4/10\n",
            "1/1 [==============================] - 0s 61ms/step - loss: 0.3066 - mse: 0.3066\n",
            "Epoch 5/10\n",
            "1/1 [==============================] - 0s 60ms/step - loss: 0.3065 - mse: 0.3065\n",
            "Epoch 6/10\n",
            "1/1 [==============================] - 0s 59ms/step - loss: 0.3065 - mse: 0.3065\n",
            "Epoch 7/10\n",
            "1/1 [==============================] - 0s 57ms/step - loss: 0.3065 - mse: 0.3065\n",
            "Epoch 8/10\n",
            "1/1 [==============================] - 0s 61ms/step - loss: 0.3065 - mse: 0.3065\n",
            "Epoch 9/10\n",
            "1/1 [==============================] - 0s 62ms/step - loss: 0.3065 - mse: 0.3065\n",
            "Epoch 10/10\n",
            "1/1 [==============================] - 0s 63ms/step - loss: 0.3065 - mse: 0.3065\n"
          ],
          "name": "stdout"
        },
        {
          "output_type": "stream",
          "text": [
            "\r 23%|██▎       | 124/529 [02:15<05:48,  1.16it/s]"
          ],
          "name": "stderr"
        },
        {
          "output_type": "stream",
          "text": [
            "Epoch 1/10\n",
            "1/1 [==============================] - 0s 60ms/step - loss: 0.3108 - mse: 0.3108\n",
            "Epoch 2/10\n",
            "1/1 [==============================] - 0s 57ms/step - loss: 0.3108 - mse: 0.3108\n",
            "Epoch 3/10\n",
            "1/1 [==============================] - 0s 57ms/step - loss: 0.3108 - mse: 0.3108\n",
            "Epoch 4/10\n",
            "1/1 [==============================] - 0s 55ms/step - loss: 0.3108 - mse: 0.3108\n",
            "Epoch 5/10\n",
            "1/1 [==============================] - 0s 60ms/step - loss: 0.3108 - mse: 0.3108\n",
            "Epoch 6/10\n",
            "1/1 [==============================] - 0s 62ms/step - loss: 0.3108 - mse: 0.3108\n",
            "Epoch 7/10\n",
            "1/1 [==============================] - 0s 65ms/step - loss: 0.3108 - mse: 0.3108\n",
            "Epoch 8/10\n",
            "1/1 [==============================] - 0s 62ms/step - loss: 0.3108 - mse: 0.3108\n",
            "Epoch 9/10\n",
            "1/1 [==============================] - 0s 61ms/step - loss: 0.3108 - mse: 0.3108\n",
            "Epoch 10/10\n",
            "1/1 [==============================] - 0s 62ms/step - loss: 0.3108 - mse: 0.3108\n"
          ],
          "name": "stdout"
        },
        {
          "output_type": "stream",
          "text": [
            "\r 24%|██▎       | 125/529 [02:16<05:46,  1.17it/s]"
          ],
          "name": "stderr"
        },
        {
          "output_type": "stream",
          "text": [
            "Epoch 1/10\n",
            "1/1 [==============================] - 0s 67ms/step - loss: 0.3121 - mse: 0.3121\n",
            "Epoch 2/10\n",
            "1/1 [==============================] - 0s 62ms/step - loss: 0.3120 - mse: 0.3120\n",
            "Epoch 3/10\n",
            "1/1 [==============================] - 0s 63ms/step - loss: 0.3120 - mse: 0.3120\n",
            "Epoch 4/10\n",
            "1/1 [==============================] - 0s 58ms/step - loss: 0.3120 - mse: 0.3120\n",
            "Epoch 5/10\n",
            "1/1 [==============================] - 0s 61ms/step - loss: 0.3120 - mse: 0.3120\n",
            "Epoch 6/10\n",
            "1/1 [==============================] - 0s 59ms/step - loss: 0.3120 - mse: 0.3120\n",
            "Epoch 7/10\n",
            "1/1 [==============================] - 0s 55ms/step - loss: 0.3120 - mse: 0.3120\n",
            "Epoch 8/10\n",
            "1/1 [==============================] - 0s 62ms/step - loss: 0.3120 - mse: 0.3120\n",
            "Epoch 9/10\n",
            "1/1 [==============================] - 0s 63ms/step - loss: 0.3120 - mse: 0.3120\n",
            "Epoch 10/10\n",
            "1/1 [==============================] - 0s 57ms/step - loss: 0.3120 - mse: 0.3120\n"
          ],
          "name": "stdout"
        },
        {
          "output_type": "stream",
          "text": [
            "\r 24%|██▍       | 126/529 [02:17<05:44,  1.17it/s]"
          ],
          "name": "stderr"
        },
        {
          "output_type": "stream",
          "text": [
            "Epoch 1/10\n",
            "1/1 [==============================] - 0s 60ms/step - loss: 0.3052 - mse: 0.3052\n",
            "Epoch 2/10\n",
            "1/1 [==============================] - 0s 60ms/step - loss: 0.3051 - mse: 0.3051\n",
            "Epoch 3/10\n",
            "1/1 [==============================] - 0s 65ms/step - loss: 0.3051 - mse: 0.3051\n",
            "Epoch 4/10\n",
            "1/1 [==============================] - 0s 56ms/step - loss: 0.3051 - mse: 0.3051\n",
            "Epoch 5/10\n",
            "1/1 [==============================] - 0s 62ms/step - loss: 0.3051 - mse: 0.3051\n",
            "Epoch 6/10\n",
            "1/1 [==============================] - 0s 57ms/step - loss: 0.3051 - mse: 0.3051\n",
            "Epoch 7/10\n",
            "1/1 [==============================] - 0s 64ms/step - loss: 0.3051 - mse: 0.3051\n",
            "Epoch 8/10\n",
            "1/1 [==============================] - 0s 58ms/step - loss: 0.3051 - mse: 0.3051\n",
            "Epoch 9/10\n",
            "1/1 [==============================] - 0s 59ms/step - loss: 0.3051 - mse: 0.3051\n",
            "Epoch 10/10\n",
            "1/1 [==============================] - 0s 57ms/step - loss: 0.3051 - mse: 0.3051\n"
          ],
          "name": "stdout"
        },
        {
          "output_type": "stream",
          "text": [
            "\r 24%|██▍       | 127/529 [02:18<05:43,  1.17it/s]"
          ],
          "name": "stderr"
        },
        {
          "output_type": "stream",
          "text": [
            "Epoch 1/10\n",
            "1/1 [==============================] - 0s 60ms/step - loss: 0.3101 - mse: 0.3101\n",
            "Epoch 2/10\n",
            "1/1 [==============================] - 0s 58ms/step - loss: 0.3100 - mse: 0.3100\n",
            "Epoch 3/10\n",
            "1/1 [==============================] - 0s 57ms/step - loss: 0.3100 - mse: 0.3100\n",
            "Epoch 4/10\n",
            "1/1 [==============================] - 0s 62ms/step - loss: 0.3100 - mse: 0.3100\n",
            "Epoch 5/10\n",
            "1/1 [==============================] - 0s 62ms/step - loss: 0.3099 - mse: 0.3099\n",
            "Epoch 6/10\n",
            "1/1 [==============================] - 0s 62ms/step - loss: 0.3100 - mse: 0.3100\n",
            "Epoch 7/10\n",
            "1/1 [==============================] - 0s 63ms/step - loss: 0.3100 - mse: 0.3100\n",
            "Epoch 8/10\n",
            "1/1 [==============================] - 0s 62ms/step - loss: 0.3099 - mse: 0.3099\n",
            "Epoch 9/10\n",
            "1/1 [==============================] - 0s 60ms/step - loss: 0.3099 - mse: 0.3099\n",
            "Epoch 10/10\n",
            "1/1 [==============================] - 0s 70ms/step - loss: 0.3100 - mse: 0.3100\n"
          ],
          "name": "stdout"
        },
        {
          "output_type": "stream",
          "text": [
            "\r 24%|██▍       | 128/529 [02:18<05:43,  1.17it/s]"
          ],
          "name": "stderr"
        },
        {
          "output_type": "stream",
          "text": [
            "Epoch 1/10\n",
            "1/1 [==============================] - 0s 59ms/step - loss: 0.3091 - mse: 0.3091\n",
            "Epoch 2/10\n",
            "1/1 [==============================] - 0s 56ms/step - loss: 0.3091 - mse: 0.3091\n",
            "Epoch 3/10\n",
            "1/1 [==============================] - 0s 59ms/step - loss: 0.3091 - mse: 0.3091\n",
            "Epoch 4/10\n",
            "1/1 [==============================] - 0s 59ms/step - loss: 0.3091 - mse: 0.3091\n",
            "Epoch 5/10\n",
            "1/1 [==============================] - 0s 61ms/step - loss: 0.3091 - mse: 0.3091\n",
            "Epoch 6/10\n",
            "1/1 [==============================] - 0s 63ms/step - loss: 0.3091 - mse: 0.3091\n",
            "Epoch 7/10\n",
            "1/1 [==============================] - 0s 65ms/step - loss: 0.3091 - mse: 0.3091\n",
            "Epoch 8/10\n",
            "1/1 [==============================] - 0s 56ms/step - loss: 0.3091 - mse: 0.3091\n",
            "Epoch 9/10\n",
            "1/1 [==============================] - 0s 58ms/step - loss: 0.3091 - mse: 0.3091\n",
            "Epoch 10/10\n",
            "1/1 [==============================] - 0s 59ms/step - loss: 0.3091 - mse: 0.3091\n"
          ],
          "name": "stdout"
        },
        {
          "output_type": "stream",
          "text": [
            "\r 24%|██▍       | 129/529 [02:19<05:42,  1.17it/s]"
          ],
          "name": "stderr"
        },
        {
          "output_type": "stream",
          "text": [
            "Epoch 1/10\n",
            "1/1 [==============================] - 0s 59ms/step - loss: 0.3064 - mse: 0.3064\n",
            "Epoch 2/10\n",
            "1/1 [==============================] - 0s 66ms/step - loss: 0.3064 - mse: 0.3064\n",
            "Epoch 3/10\n",
            "1/1 [==============================] - 0s 57ms/step - loss: 0.3064 - mse: 0.3064\n",
            "Epoch 4/10\n",
            "1/1 [==============================] - 0s 60ms/step - loss: 0.3064 - mse: 0.3064\n",
            "Epoch 5/10\n",
            "1/1 [==============================] - 0s 63ms/step - loss: 0.3064 - mse: 0.3064\n",
            "Epoch 6/10\n",
            "1/1 [==============================] - 0s 60ms/step - loss: 0.3064 - mse: 0.3064\n",
            "Epoch 7/10\n",
            "1/1 [==============================] - 0s 63ms/step - loss: 0.3064 - mse: 0.3064\n",
            "Epoch 8/10\n",
            "1/1 [==============================] - 0s 55ms/step - loss: 0.3064 - mse: 0.3064\n",
            "Epoch 9/10\n",
            "1/1 [==============================] - 0s 61ms/step - loss: 0.3064 - mse: 0.3064\n",
            "Epoch 10/10\n",
            "1/1 [==============================] - 0s 62ms/step - loss: 0.3064 - mse: 0.3064\n"
          ],
          "name": "stdout"
        },
        {
          "output_type": "stream",
          "text": [
            "\r 25%|██▍       | 130/529 [02:20<05:40,  1.17it/s]"
          ],
          "name": "stderr"
        },
        {
          "output_type": "stream",
          "text": [
            "Epoch 1/10\n",
            "1/1 [==============================] - 0s 62ms/step - loss: 0.3048 - mse: 0.3048\n",
            "Epoch 2/10\n",
            "1/1 [==============================] - 0s 56ms/step - loss: 0.3048 - mse: 0.3048\n",
            "Epoch 3/10\n",
            "1/1 [==============================] - 0s 60ms/step - loss: 0.3048 - mse: 0.3048\n",
            "Epoch 4/10\n",
            "1/1 [==============================] - 0s 57ms/step - loss: 0.3048 - mse: 0.3048\n",
            "Epoch 5/10\n",
            "1/1 [==============================] - 0s 68ms/step - loss: 0.3048 - mse: 0.3048\n",
            "Epoch 6/10\n",
            "1/1 [==============================] - 0s 57ms/step - loss: 0.3048 - mse: 0.3048\n",
            "Epoch 7/10\n",
            "1/1 [==============================] - 0s 65ms/step - loss: 0.3048 - mse: 0.3048\n",
            "Epoch 8/10\n",
            "1/1 [==============================] - 0s 61ms/step - loss: 0.3048 - mse: 0.3048\n",
            "Epoch 9/10\n",
            "1/1 [==============================] - 0s 61ms/step - loss: 0.3048 - mse: 0.3048\n",
            "Epoch 10/10\n",
            "1/1 [==============================] - 0s 59ms/step - loss: 0.3048 - mse: 0.3048\n"
          ],
          "name": "stdout"
        },
        {
          "output_type": "stream",
          "text": [
            "\r 25%|██▍       | 131/529 [02:21<05:39,  1.17it/s]"
          ],
          "name": "stderr"
        },
        {
          "output_type": "stream",
          "text": [
            "Epoch 1/10\n",
            "1/1 [==============================] - 0s 65ms/step - loss: 0.3092 - mse: 0.3092\n",
            "Epoch 2/10\n",
            "1/1 [==============================] - 0s 65ms/step - loss: 0.3091 - mse: 0.3091\n",
            "Epoch 3/10\n",
            "1/1 [==============================] - 0s 62ms/step - loss: 0.3091 - mse: 0.3091\n",
            "Epoch 4/10\n",
            "1/1 [==============================] - 0s 59ms/step - loss: 0.3091 - mse: 0.3091\n",
            "Epoch 5/10\n",
            "1/1 [==============================] - 0s 58ms/step - loss: 0.3091 - mse: 0.3091\n",
            "Epoch 6/10\n",
            "1/1 [==============================] - 0s 60ms/step - loss: 0.3091 - mse: 0.3091\n",
            "Epoch 7/10\n",
            "1/1 [==============================] - 0s 63ms/step - loss: 0.3091 - mse: 0.3091\n",
            "Epoch 8/10\n",
            "1/1 [==============================] - 0s 57ms/step - loss: 0.3091 - mse: 0.3091\n",
            "Epoch 9/10\n",
            "1/1 [==============================] - 0s 62ms/step - loss: 0.3091 - mse: 0.3091\n",
            "Epoch 10/10\n",
            "1/1 [==============================] - 0s 57ms/step - loss: 0.3091 - mse: 0.3091\n"
          ],
          "name": "stdout"
        },
        {
          "output_type": "stream",
          "text": [
            "\r 25%|██▍       | 132/529 [02:22<05:41,  1.16it/s]"
          ],
          "name": "stderr"
        },
        {
          "output_type": "stream",
          "text": [
            "Epoch 1/10\n",
            "1/1 [==============================] - 0s 62ms/step - loss: 0.3078 - mse: 0.3078\n",
            "Epoch 2/10\n",
            "1/1 [==============================] - 0s 57ms/step - loss: 0.3078 - mse: 0.3078\n",
            "Epoch 3/10\n",
            "1/1 [==============================] - 0s 69ms/step - loss: 0.3078 - mse: 0.3078\n",
            "Epoch 4/10\n",
            "1/1 [==============================] - 0s 58ms/step - loss: 0.3078 - mse: 0.3078\n",
            "Epoch 5/10\n",
            "1/1 [==============================] - 0s 64ms/step - loss: 0.3077 - mse: 0.3077\n",
            "Epoch 6/10\n",
            "1/1 [==============================] - 0s 60ms/step - loss: 0.3078 - mse: 0.3078\n",
            "Epoch 7/10\n",
            "1/1 [==============================] - 0s 59ms/step - loss: 0.3078 - mse: 0.3078\n",
            "Epoch 8/10\n",
            "1/1 [==============================] - 0s 57ms/step - loss: 0.3077 - mse: 0.3077\n",
            "Epoch 9/10\n",
            "1/1 [==============================] - 0s 66ms/step - loss: 0.3078 - mse: 0.3078\n",
            "Epoch 10/10\n",
            "1/1 [==============================] - 0s 70ms/step - loss: 0.3078 - mse: 0.3078\n"
          ],
          "name": "stdout"
        },
        {
          "output_type": "stream",
          "text": [
            "\r 25%|██▌       | 133/529 [02:23<05:41,  1.16it/s]"
          ],
          "name": "stderr"
        },
        {
          "output_type": "stream",
          "text": [
            "Epoch 1/10\n",
            "1/1 [==============================] - 0s 63ms/step - loss: 0.3060 - mse: 0.3060\n",
            "Epoch 2/10\n",
            "1/1 [==============================] - 0s 57ms/step - loss: 0.3060 - mse: 0.3060\n",
            "Epoch 3/10\n",
            "1/1 [==============================] - 0s 64ms/step - loss: 0.3060 - mse: 0.3060\n",
            "Epoch 4/10\n",
            "1/1 [==============================] - 0s 69ms/step - loss: 0.3060 - mse: 0.3060\n",
            "Epoch 5/10\n",
            "1/1 [==============================] - 0s 60ms/step - loss: 0.3060 - mse: 0.3060\n",
            "Epoch 6/10\n",
            "1/1 [==============================] - 0s 66ms/step - loss: 0.3060 - mse: 0.3060\n",
            "Epoch 7/10\n",
            "1/1 [==============================] - 0s 56ms/step - loss: 0.3060 - mse: 0.3060\n",
            "Epoch 8/10\n",
            "1/1 [==============================] - 0s 63ms/step - loss: 0.3060 - mse: 0.3060\n",
            "Epoch 9/10\n",
            "1/1 [==============================] - 0s 57ms/step - loss: 0.3060 - mse: 0.3060\n",
            "Epoch 10/10\n",
            "1/1 [==============================] - 0s 61ms/step - loss: 0.3060 - mse: 0.3060\n"
          ],
          "name": "stdout"
        },
        {
          "output_type": "stream",
          "text": [
            "\r 25%|██▌       | 134/529 [02:24<05:40,  1.16it/s]"
          ],
          "name": "stderr"
        },
        {
          "output_type": "stream",
          "text": [
            "Epoch 1/10\n",
            "1/1 [==============================] - 0s 58ms/step - loss: 0.3139 - mse: 0.3139\n",
            "Epoch 2/10\n",
            "1/1 [==============================] - 0s 59ms/step - loss: 0.3137 - mse: 0.3137\n",
            "Epoch 3/10\n",
            "1/1 [==============================] - 0s 56ms/step - loss: 0.3138 - mse: 0.3138\n",
            "Epoch 4/10\n",
            "1/1 [==============================] - 0s 60ms/step - loss: 0.3138 - mse: 0.3138\n",
            "Epoch 5/10\n",
            "1/1 [==============================] - 0s 61ms/step - loss: 0.3137 - mse: 0.3137\n",
            "Epoch 6/10\n",
            "1/1 [==============================] - 0s 62ms/step - loss: 0.3137 - mse: 0.3137\n",
            "Epoch 7/10\n",
            "1/1 [==============================] - 0s 57ms/step - loss: 0.3138 - mse: 0.3138\n",
            "Epoch 8/10\n",
            "1/1 [==============================] - 0s 63ms/step - loss: 0.3137 - mse: 0.3137\n",
            "Epoch 9/10\n",
            "1/1 [==============================] - 0s 57ms/step - loss: 0.3137 - mse: 0.3137\n",
            "Epoch 10/10\n",
            "1/1 [==============================] - 0s 64ms/step - loss: 0.3138 - mse: 0.3138\n"
          ],
          "name": "stdout"
        },
        {
          "output_type": "stream",
          "text": [
            "\r 26%|██▌       | 135/529 [02:24<05:38,  1.17it/s]"
          ],
          "name": "stderr"
        },
        {
          "output_type": "stream",
          "text": [
            "Epoch 1/10\n",
            "1/1 [==============================] - 0s 60ms/step - loss: 0.3098 - mse: 0.3098\n",
            "Epoch 2/10\n",
            "1/1 [==============================] - 0s 60ms/step - loss: 0.3097 - mse: 0.3097\n",
            "Epoch 3/10\n",
            "1/1 [==============================] - 0s 63ms/step - loss: 0.3098 - mse: 0.3098\n",
            "Epoch 4/10\n",
            "1/1 [==============================] - 0s 61ms/step - loss: 0.3098 - mse: 0.3098\n",
            "Epoch 5/10\n",
            "1/1 [==============================] - 0s 55ms/step - loss: 0.3097 - mse: 0.3097\n",
            "Epoch 6/10\n",
            "1/1 [==============================] - 0s 57ms/step - loss: 0.3098 - mse: 0.3098\n",
            "Epoch 7/10\n",
            "1/1 [==============================] - 0s 55ms/step - loss: 0.3098 - mse: 0.3098\n",
            "Epoch 8/10\n",
            "1/1 [==============================] - 0s 56ms/step - loss: 0.3097 - mse: 0.3097\n",
            "Epoch 9/10\n",
            "1/1 [==============================] - 0s 69ms/step - loss: 0.3098 - mse: 0.3098\n",
            "Epoch 10/10\n",
            "1/1 [==============================] - 0s 58ms/step - loss: 0.3098 - mse: 0.3098\n"
          ],
          "name": "stdout"
        },
        {
          "output_type": "stream",
          "text": [
            "\r 26%|██▌       | 136/529 [02:25<05:35,  1.17it/s]"
          ],
          "name": "stderr"
        },
        {
          "output_type": "stream",
          "text": [
            "Epoch 1/10\n",
            "1/1 [==============================] - 0s 59ms/step - loss: 0.3075 - mse: 0.3075\n",
            "Epoch 2/10\n",
            "1/1 [==============================] - 0s 60ms/step - loss: 0.3075 - mse: 0.3075\n",
            "Epoch 3/10\n",
            "1/1 [==============================] - 0s 56ms/step - loss: 0.3075 - mse: 0.3075\n",
            "Epoch 4/10\n",
            "1/1 [==============================] - 0s 61ms/step - loss: 0.3075 - mse: 0.3075\n",
            "Epoch 5/10\n",
            "1/1 [==============================] - 0s 59ms/step - loss: 0.3075 - mse: 0.3075\n",
            "Epoch 6/10\n",
            "1/1 [==============================] - 0s 59ms/step - loss: 0.3075 - mse: 0.3075\n",
            "Epoch 7/10\n",
            "1/1 [==============================] - 0s 58ms/step - loss: 0.3075 - mse: 0.3075\n",
            "Epoch 8/10\n",
            "1/1 [==============================] - 0s 56ms/step - loss: 0.3075 - mse: 0.3075\n",
            "Epoch 9/10\n",
            "1/1 [==============================] - 0s 62ms/step - loss: 0.3075 - mse: 0.3075\n",
            "Epoch 10/10\n",
            "1/1 [==============================] - 0s 60ms/step - loss: 0.3075 - mse: 0.3075\n"
          ],
          "name": "stdout"
        },
        {
          "output_type": "stream",
          "text": [
            "\r 26%|██▌       | 137/529 [02:26<05:35,  1.17it/s]"
          ],
          "name": "stderr"
        },
        {
          "output_type": "stream",
          "text": [
            "Epoch 1/10\n",
            "1/1 [==============================] - 0s 65ms/step - loss: 0.3102 - mse: 0.3102\n",
            "Epoch 2/10\n",
            "1/1 [==============================] - 0s 58ms/step - loss: 0.3102 - mse: 0.3102\n",
            "Epoch 3/10\n",
            "1/1 [==============================] - 0s 61ms/step - loss: 0.3102 - mse: 0.3102\n",
            "Epoch 4/10\n",
            "1/1 [==============================] - 0s 60ms/step - loss: 0.3102 - mse: 0.3102\n",
            "Epoch 5/10\n",
            "1/1 [==============================] - 0s 58ms/step - loss: 0.3102 - mse: 0.3102\n",
            "Epoch 6/10\n",
            "1/1 [==============================] - 0s 59ms/step - loss: 0.3102 - mse: 0.3102\n",
            "Epoch 7/10\n",
            "1/1 [==============================] - 0s 64ms/step - loss: 0.3102 - mse: 0.3102\n",
            "Epoch 8/10\n",
            "1/1 [==============================] - 0s 61ms/step - loss: 0.3102 - mse: 0.3102\n",
            "Epoch 9/10\n",
            "1/1 [==============================] - 0s 62ms/step - loss: 0.3102 - mse: 0.3102\n",
            "Epoch 10/10\n",
            "1/1 [==============================] - 0s 59ms/step - loss: 0.3102 - mse: 0.3102\n"
          ],
          "name": "stdout"
        },
        {
          "output_type": "stream",
          "text": [
            "\r 26%|██▌       | 138/529 [02:27<05:35,  1.17it/s]"
          ],
          "name": "stderr"
        },
        {
          "output_type": "stream",
          "text": [
            "Epoch 1/10\n",
            "1/1 [==============================] - 0s 63ms/step - loss: 0.3093 - mse: 0.3093\n",
            "Epoch 2/10\n",
            "1/1 [==============================] - 0s 60ms/step - loss: 0.3093 - mse: 0.3093\n",
            "Epoch 3/10\n",
            "1/1 [==============================] - 0s 58ms/step - loss: 0.3093 - mse: 0.3093\n",
            "Epoch 4/10\n",
            "1/1 [==============================] - 0s 61ms/step - loss: 0.3093 - mse: 0.3093\n",
            "Epoch 5/10\n",
            "1/1 [==============================] - 0s 69ms/step - loss: 0.3093 - mse: 0.3093\n",
            "Epoch 6/10\n",
            "1/1 [==============================] - 0s 63ms/step - loss: 0.3093 - mse: 0.3093\n",
            "Epoch 7/10\n",
            "1/1 [==============================] - 0s 64ms/step - loss: 0.3093 - mse: 0.3093\n",
            "Epoch 8/10\n",
            "1/1 [==============================] - 0s 67ms/step - loss: 0.3093 - mse: 0.3093\n",
            "Epoch 9/10\n",
            "1/1 [==============================] - 0s 63ms/step - loss: 0.3093 - mse: 0.3093\n",
            "Epoch 10/10\n",
            "1/1 [==============================] - 0s 66ms/step - loss: 0.3093 - mse: 0.3093\n"
          ],
          "name": "stdout"
        },
        {
          "output_type": "stream",
          "text": [
            "\r 26%|██▋       | 139/529 [02:28<05:34,  1.17it/s]"
          ],
          "name": "stderr"
        },
        {
          "output_type": "stream",
          "text": [
            "Epoch 1/10\n",
            "1/1 [==============================] - 0s 60ms/step - loss: 0.3046 - mse: 0.3046\n",
            "Epoch 2/10\n",
            "1/1 [==============================] - 0s 60ms/step - loss: 0.3046 - mse: 0.3046\n",
            "Epoch 3/10\n",
            "1/1 [==============================] - 0s 68ms/step - loss: 0.3045 - mse: 0.3045\n",
            "Epoch 4/10\n",
            "1/1 [==============================] - 0s 61ms/step - loss: 0.3045 - mse: 0.3045\n",
            "Epoch 5/10\n",
            "1/1 [==============================] - 0s 64ms/step - loss: 0.3045 - mse: 0.3045\n",
            "Epoch 6/10\n",
            "1/1 [==============================] - 0s 61ms/step - loss: 0.3045 - mse: 0.3045\n",
            "Epoch 7/10\n",
            "1/1 [==============================] - 0s 61ms/step - loss: 0.3045 - mse: 0.3045\n",
            "Epoch 8/10\n",
            "1/1 [==============================] - 0s 69ms/step - loss: 0.3045 - mse: 0.3045\n",
            "Epoch 9/10\n",
            "1/1 [==============================] - 0s 55ms/step - loss: 0.3045 - mse: 0.3045\n",
            "Epoch 10/10\n",
            "1/1 [==============================] - 0s 68ms/step - loss: 0.3045 - mse: 0.3045\n"
          ],
          "name": "stdout"
        },
        {
          "output_type": "stream",
          "text": [
            "\r 26%|██▋       | 140/529 [02:29<05:33,  1.17it/s]"
          ],
          "name": "stderr"
        },
        {
          "output_type": "stream",
          "text": [
            "Epoch 1/10\n",
            "1/1 [==============================] - 0s 63ms/step - loss: 0.3110 - mse: 0.3110\n",
            "Epoch 2/10\n",
            "1/1 [==============================] - 0s 61ms/step - loss: 0.3109 - mse: 0.3109\n",
            "Epoch 3/10\n",
            "1/1 [==============================] - 0s 65ms/step - loss: 0.3109 - mse: 0.3109\n",
            "Epoch 4/10\n",
            "1/1 [==============================] - 0s 63ms/step - loss: 0.3109 - mse: 0.3109\n",
            "Epoch 5/10\n",
            "1/1 [==============================] - 0s 68ms/step - loss: 0.3108 - mse: 0.3108\n",
            "Epoch 6/10\n",
            "1/1 [==============================] - 0s 58ms/step - loss: 0.3108 - mse: 0.3108\n",
            "Epoch 7/10\n",
            "1/1 [==============================] - 0s 67ms/step - loss: 0.3109 - mse: 0.3109\n",
            "Epoch 8/10\n",
            "1/1 [==============================] - 0s 61ms/step - loss: 0.3108 - mse: 0.3108\n",
            "Epoch 9/10\n",
            "1/1 [==============================] - 0s 61ms/step - loss: 0.3108 - mse: 0.3108\n",
            "Epoch 10/10\n",
            "1/1 [==============================] - 0s 66ms/step - loss: 0.3109 - mse: 0.3109\n"
          ],
          "name": "stdout"
        },
        {
          "output_type": "stream",
          "text": [
            "\r 27%|██▋       | 141/529 [02:30<05:34,  1.16it/s]"
          ],
          "name": "stderr"
        },
        {
          "output_type": "stream",
          "text": [
            "Epoch 1/10\n",
            "1/1 [==============================] - 0s 66ms/step - loss: 0.3085 - mse: 0.3085\n",
            "Epoch 2/10\n",
            "1/1 [==============================] - 0s 61ms/step - loss: 0.3083 - mse: 0.3083\n",
            "Epoch 3/10\n",
            "1/1 [==============================] - 0s 60ms/step - loss: 0.3084 - mse: 0.3084\n",
            "Epoch 4/10\n",
            "1/1 [==============================] - 0s 60ms/step - loss: 0.3083 - mse: 0.3083\n",
            "Epoch 5/10\n",
            "1/1 [==============================] - 0s 63ms/step - loss: 0.3082 - mse: 0.3082\n",
            "Epoch 6/10\n",
            "1/1 [==============================] - 0s 64ms/step - loss: 0.3083 - mse: 0.3083\n",
            "Epoch 7/10\n",
            "1/1 [==============================] - 0s 71ms/step - loss: 0.3083 - mse: 0.3083\n",
            "Epoch 8/10\n",
            "1/1 [==============================] - 0s 63ms/step - loss: 0.3083 - mse: 0.3083\n",
            "Epoch 9/10\n",
            "1/1 [==============================] - 0s 56ms/step - loss: 0.3083 - mse: 0.3083\n",
            "Epoch 10/10\n",
            "1/1 [==============================] - 0s 63ms/step - loss: 0.3083 - mse: 0.3083\n"
          ],
          "name": "stdout"
        },
        {
          "output_type": "stream",
          "text": [
            "\r 27%|██▋       | 142/529 [02:31<05:36,  1.15it/s]"
          ],
          "name": "stderr"
        },
        {
          "output_type": "stream",
          "text": [
            "Epoch 1/10\n",
            "1/1 [==============================] - 0s 67ms/step - loss: 0.3115 - mse: 0.3115\n",
            "Epoch 2/10\n",
            "1/1 [==============================] - 0s 61ms/step - loss: 0.3115 - mse: 0.3115\n",
            "Epoch 3/10\n",
            "1/1 [==============================] - 0s 60ms/step - loss: 0.3114 - mse: 0.3114\n",
            "Epoch 4/10\n",
            "1/1 [==============================] - 0s 59ms/step - loss: 0.3114 - mse: 0.3114\n",
            "Epoch 5/10\n",
            "1/1 [==============================] - 0s 66ms/step - loss: 0.3114 - mse: 0.3114\n",
            "Epoch 6/10\n",
            "1/1 [==============================] - 0s 58ms/step - loss: 0.3114 - mse: 0.3114\n",
            "Epoch 7/10\n",
            "1/1 [==============================] - 0s 58ms/step - loss: 0.3114 - mse: 0.3114\n",
            "Epoch 8/10\n",
            "1/1 [==============================] - 0s 74ms/step - loss: 0.3114 - mse: 0.3114\n",
            "Epoch 9/10\n",
            "1/1 [==============================] - 0s 57ms/step - loss: 0.3114 - mse: 0.3114\n",
            "Epoch 10/10\n",
            "1/1 [==============================] - 0s 66ms/step - loss: 0.3114 - mse: 0.3114\n"
          ],
          "name": "stdout"
        },
        {
          "output_type": "stream",
          "text": [
            "\r 27%|██▋       | 143/529 [02:31<05:39,  1.14it/s]"
          ],
          "name": "stderr"
        },
        {
          "output_type": "stream",
          "text": [
            "Epoch 1/10\n",
            "1/1 [==============================] - 0s 65ms/step - loss: 0.3192 - mse: 0.3192\n",
            "Epoch 2/10\n",
            "1/1 [==============================] - 0s 63ms/step - loss: 0.3191 - mse: 0.3191\n",
            "Epoch 3/10\n",
            "1/1 [==============================] - 0s 59ms/step - loss: 0.3191 - mse: 0.3191\n",
            "Epoch 4/10\n",
            "1/1 [==============================] - 0s 64ms/step - loss: 0.3192 - mse: 0.3192\n",
            "Epoch 5/10\n",
            "1/1 [==============================] - 0s 67ms/step - loss: 0.3191 - mse: 0.3191\n",
            "Epoch 6/10\n",
            "1/1 [==============================] - 0s 67ms/step - loss: 0.3191 - mse: 0.3191\n",
            "Epoch 7/10\n",
            "1/1 [==============================] - 0s 61ms/step - loss: 0.3191 - mse: 0.3191\n",
            "Epoch 8/10\n",
            "1/1 [==============================] - 0s 61ms/step - loss: 0.3190 - mse: 0.3190\n",
            "Epoch 9/10\n",
            "1/1 [==============================] - 0s 61ms/step - loss: 0.3190 - mse: 0.3190\n",
            "Epoch 10/10\n",
            "1/1 [==============================] - 0s 62ms/step - loss: 0.3191 - mse: 0.3191\n"
          ],
          "name": "stdout"
        },
        {
          "output_type": "stream",
          "text": [
            "\r 27%|██▋       | 144/529 [02:32<05:40,  1.13it/s]"
          ],
          "name": "stderr"
        },
        {
          "output_type": "stream",
          "text": [
            "Epoch 1/10\n",
            "1/1 [==============================] - 0s 61ms/step - loss: 0.3092 - mse: 0.3092\n",
            "Epoch 2/10\n",
            "1/1 [==============================] - 0s 64ms/step - loss: 0.3087 - mse: 0.3087\n",
            "Epoch 3/10\n",
            "1/1 [==============================] - 0s 63ms/step - loss: 0.3090 - mse: 0.3090\n",
            "Epoch 4/10\n",
            "1/1 [==============================] - 0s 62ms/step - loss: 0.3088 - mse: 0.3088\n",
            "Epoch 5/10\n",
            "1/1 [==============================] - 0s 65ms/step - loss: 0.3085 - mse: 0.3085\n",
            "Epoch 6/10\n",
            "1/1 [==============================] - 0s 62ms/step - loss: 0.3088 - mse: 0.3088\n",
            "Epoch 7/10\n",
            "1/1 [==============================] - 0s 64ms/step - loss: 0.3088 - mse: 0.3088\n",
            "Epoch 8/10\n",
            "1/1 [==============================] - 0s 65ms/step - loss: 0.3086 - mse: 0.3086\n",
            "Epoch 9/10\n",
            "1/1 [==============================] - 0s 66ms/step - loss: 0.3088 - mse: 0.3088\n",
            "Epoch 10/10\n",
            "1/1 [==============================] - 0s 61ms/step - loss: 0.3088 - mse: 0.3088\n"
          ],
          "name": "stdout"
        },
        {
          "output_type": "stream",
          "text": [
            "\r 27%|██▋       | 145/529 [02:33<05:37,  1.14it/s]"
          ],
          "name": "stderr"
        },
        {
          "output_type": "stream",
          "text": [
            "Epoch 1/10\n",
            "1/1 [==============================] - 0s 71ms/step - loss: 0.3156 - mse: 0.3156\n",
            "Epoch 2/10\n",
            "1/1 [==============================] - 0s 65ms/step - loss: 0.3154 - mse: 0.3154\n",
            "Epoch 3/10\n",
            "1/1 [==============================] - 0s 61ms/step - loss: 0.3156 - mse: 0.3156\n",
            "Epoch 4/10\n",
            "1/1 [==============================] - 0s 58ms/step - loss: 0.3152 - mse: 0.3152\n",
            "Epoch 5/10\n",
            "1/1 [==============================] - 0s 62ms/step - loss: 0.3152 - mse: 0.3152\n",
            "Epoch 6/10\n",
            "1/1 [==============================] - 0s 66ms/step - loss: 0.3155 - mse: 0.3155\n",
            "Epoch 7/10\n",
            "1/1 [==============================] - 0s 63ms/step - loss: 0.3153 - mse: 0.3153\n",
            "Epoch 8/10\n",
            "1/1 [==============================] - 0s 67ms/step - loss: 0.3152 - mse: 0.3152\n",
            "Epoch 9/10\n",
            "1/1 [==============================] - 0s 60ms/step - loss: 0.3154 - mse: 0.3154\n",
            "Epoch 10/10\n",
            "1/1 [==============================] - 0s 64ms/step - loss: 0.3152 - mse: 0.3152\n"
          ],
          "name": "stdout"
        },
        {
          "output_type": "stream",
          "text": [
            "\r 28%|██▊       | 146/529 [02:34<05:40,  1.12it/s]"
          ],
          "name": "stderr"
        },
        {
          "output_type": "stream",
          "text": [
            "Epoch 1/10\n",
            "1/1 [==============================] - 0s 71ms/step - loss: 0.3180 - mse: 0.3180\n",
            "Epoch 2/10\n",
            "1/1 [==============================] - 0s 59ms/step - loss: 0.3181 - mse: 0.3181\n",
            "Epoch 3/10\n",
            "1/1 [==============================] - 0s 62ms/step - loss: 0.3180 - mse: 0.3180\n",
            "Epoch 4/10\n",
            "1/1 [==============================] - 0s 56ms/step - loss: 0.3180 - mse: 0.3180\n",
            "Epoch 5/10\n",
            "1/1 [==============================] - 0s 61ms/step - loss: 0.3181 - mse: 0.3181\n",
            "Epoch 6/10\n",
            "1/1 [==============================] - 0s 66ms/step - loss: 0.3180 - mse: 0.3180\n",
            "Epoch 7/10\n",
            "1/1 [==============================] - 0s 62ms/step - loss: 0.3180 - mse: 0.3180\n",
            "Epoch 8/10\n",
            "1/1 [==============================] - 0s 60ms/step - loss: 0.3180 - mse: 0.3180\n",
            "Epoch 9/10\n",
            "1/1 [==============================] - 0s 71ms/step - loss: 0.3179 - mse: 0.3179\n",
            "Epoch 10/10\n",
            "1/1 [==============================] - 0s 68ms/step - loss: 0.3179 - mse: 0.3179\n"
          ],
          "name": "stdout"
        },
        {
          "output_type": "stream",
          "text": [
            "\r 28%|██▊       | 147/529 [02:35<05:42,  1.12it/s]"
          ],
          "name": "stderr"
        },
        {
          "output_type": "stream",
          "text": [
            "Epoch 1/10\n",
            "1/1 [==============================] - 0s 64ms/step - loss: 0.3060 - mse: 0.3060\n",
            "Epoch 2/10\n",
            "1/1 [==============================] - 0s 58ms/step - loss: 0.3054 - mse: 0.3054\n",
            "Epoch 3/10\n",
            "1/1 [==============================] - 0s 66ms/step - loss: 0.3056 - mse: 0.3056\n",
            "Epoch 4/10\n",
            "1/1 [==============================] - 0s 60ms/step - loss: 0.3058 - mse: 0.3058\n",
            "Epoch 5/10\n",
            "1/1 [==============================] - 0s 60ms/step - loss: 0.3054 - mse: 0.3054\n",
            "Epoch 6/10\n",
            "1/1 [==============================] - 0s 60ms/step - loss: 0.3055 - mse: 0.3055\n",
            "Epoch 7/10\n",
            "1/1 [==============================] - 0s 64ms/step - loss: 0.3057 - mse: 0.3057\n",
            "Epoch 8/10\n",
            "1/1 [==============================] - 0s 63ms/step - loss: 0.3054 - mse: 0.3054\n",
            "Epoch 9/10\n",
            "1/1 [==============================] - 0s 61ms/step - loss: 0.3054 - mse: 0.3054\n",
            "Epoch 10/10\n",
            "1/1 [==============================] - 0s 73ms/step - loss: 0.3056 - mse: 0.3056\n"
          ],
          "name": "stdout"
        },
        {
          "output_type": "stream",
          "text": [
            "\r 28%|██▊       | 148/529 [02:36<05:39,  1.12it/s]"
          ],
          "name": "stderr"
        },
        {
          "output_type": "stream",
          "text": [
            "Epoch 1/10\n",
            "1/1 [==============================] - 0s 69ms/step - loss: 0.3150 - mse: 0.3150\n",
            "Epoch 2/10\n",
            "1/1 [==============================] - 0s 74ms/step - loss: 0.3146 - mse: 0.3146\n",
            "Epoch 3/10\n",
            "1/1 [==============================] - 0s 58ms/step - loss: 0.3151 - mse: 0.3151\n",
            "Epoch 4/10\n",
            "1/1 [==============================] - 0s 68ms/step - loss: 0.3148 - mse: 0.3148\n",
            "Epoch 5/10\n",
            "1/1 [==============================] - 0s 60ms/step - loss: 0.3145 - mse: 0.3145\n",
            "Epoch 6/10\n",
            "1/1 [==============================] - 0s 61ms/step - loss: 0.3149 - mse: 0.3149\n",
            "Epoch 7/10\n",
            "1/1 [==============================] - 0s 61ms/step - loss: 0.3148 - mse: 0.3148\n",
            "Epoch 8/10\n",
            "1/1 [==============================] - 0s 67ms/step - loss: 0.3145 - mse: 0.3145\n",
            "Epoch 9/10\n",
            "1/1 [==============================] - 0s 59ms/step - loss: 0.3148 - mse: 0.3148\n",
            "Epoch 10/10\n",
            "1/1 [==============================] - 0s 65ms/step - loss: 0.3147 - mse: 0.3147\n"
          ],
          "name": "stdout"
        },
        {
          "output_type": "stream",
          "text": [
            "\r 28%|██▊       | 149/529 [02:37<05:39,  1.12it/s]"
          ],
          "name": "stderr"
        },
        {
          "output_type": "stream",
          "text": [
            "Epoch 1/10\n",
            "1/1 [==============================] - 0s 66ms/step - loss: 0.3075 - mse: 0.3075\n",
            "Epoch 2/10\n",
            "1/1 [==============================] - 0s 58ms/step - loss: 0.3075 - mse: 0.3075\n",
            "Epoch 3/10\n",
            "1/1 [==============================] - 0s 61ms/step - loss: 0.3078 - mse: 0.3078\n",
            "Epoch 4/10\n",
            "1/1 [==============================] - 0s 68ms/step - loss: 0.3074 - mse: 0.3074\n",
            "Epoch 5/10\n",
            "1/1 [==============================] - 0s 67ms/step - loss: 0.3074 - mse: 0.3074\n",
            "Epoch 6/10\n",
            "1/1 [==============================] - 0s 80ms/step - loss: 0.3077 - mse: 0.3077\n",
            "Epoch 7/10\n",
            "1/1 [==============================] - 0s 61ms/step - loss: 0.3074 - mse: 0.3074\n",
            "Epoch 8/10\n",
            "1/1 [==============================] - 0s 63ms/step - loss: 0.3074 - mse: 0.3074\n",
            "Epoch 9/10\n",
            "1/1 [==============================] - 0s 58ms/step - loss: 0.3076 - mse: 0.3076\n",
            "Epoch 10/10\n",
            "1/1 [==============================] - 0s 58ms/step - loss: 0.3074 - mse: 0.3074\n"
          ],
          "name": "stdout"
        },
        {
          "output_type": "stream",
          "text": [
            "\r 28%|██▊       | 150/529 [02:38<05:41,  1.11it/s]"
          ],
          "name": "stderr"
        },
        {
          "output_type": "stream",
          "text": [
            "Epoch 1/10\n",
            "1/1 [==============================] - 0s 66ms/step - loss: 0.3128 - mse: 0.3128\n",
            "Epoch 2/10\n",
            "1/1 [==============================] - 0s 58ms/step - loss: 0.3129 - mse: 0.3129\n",
            "Epoch 3/10\n",
            "1/1 [==============================] - 0s 55ms/step - loss: 0.3130 - mse: 0.3130\n",
            "Epoch 4/10\n",
            "1/1 [==============================] - 0s 59ms/step - loss: 0.3127 - mse: 0.3127\n",
            "Epoch 5/10\n",
            "1/1 [==============================] - 0s 62ms/step - loss: 0.3128 - mse: 0.3128\n",
            "Epoch 6/10\n",
            "1/1 [==============================] - 0s 69ms/step - loss: 0.3129 - mse: 0.3129\n",
            "Epoch 7/10\n",
            "1/1 [==============================] - 0s 64ms/step - loss: 0.3128 - mse: 0.3128\n",
            "Epoch 8/10\n",
            "1/1 [==============================] - 0s 65ms/step - loss: 0.3128 - mse: 0.3128\n",
            "Epoch 9/10\n",
            "1/1 [==============================] - 0s 62ms/step - loss: 0.3129 - mse: 0.3129\n",
            "Epoch 10/10\n",
            "1/1 [==============================] - 0s 63ms/step - loss: 0.3127 - mse: 0.3127\n"
          ],
          "name": "stdout"
        },
        {
          "output_type": "stream",
          "text": [
            "\r 29%|██▊       | 151/529 [02:39<05:38,  1.12it/s]"
          ],
          "name": "stderr"
        },
        {
          "output_type": "stream",
          "text": [
            "Epoch 1/10\n",
            "1/1 [==============================] - 0s 64ms/step - loss: 0.3003 - mse: 0.3003\n",
            "Epoch 2/10\n",
            "1/1 [==============================] - 0s 61ms/step - loss: 0.3003 - mse: 0.3003\n",
            "Epoch 3/10\n",
            "1/1 [==============================] - 0s 66ms/step - loss: 0.3004 - mse: 0.3004\n",
            "Epoch 4/10\n",
            "1/1 [==============================] - 0s 59ms/step - loss: 0.3002 - mse: 0.3002\n",
            "Epoch 5/10\n",
            "1/1 [==============================] - 0s 65ms/step - loss: 0.3002 - mse: 0.3002\n",
            "Epoch 6/10\n",
            "1/1 [==============================] - 0s 66ms/step - loss: 0.3003 - mse: 0.3003\n",
            "Epoch 7/10\n",
            "1/1 [==============================] - 0s 58ms/step - loss: 0.3002 - mse: 0.3002\n",
            "Epoch 8/10\n",
            "1/1 [==============================] - 0s 62ms/step - loss: 0.3002 - mse: 0.3002\n",
            "Epoch 9/10\n",
            "1/1 [==============================] - 0s 60ms/step - loss: 0.3003 - mse: 0.3003\n",
            "Epoch 10/10\n",
            "1/1 [==============================] - 0s 64ms/step - loss: 0.3002 - mse: 0.3002\n"
          ],
          "name": "stdout"
        },
        {
          "output_type": "stream",
          "text": [
            "\r 29%|██▊       | 152/529 [02:39<05:36,  1.12it/s]"
          ],
          "name": "stderr"
        },
        {
          "output_type": "stream",
          "text": [
            "Epoch 1/10\n",
            "1/1 [==============================] - 0s 65ms/step - loss: 0.3079 - mse: 0.3079\n",
            "Epoch 2/10\n",
            "1/1 [==============================] - 0s 59ms/step - loss: 0.3078 - mse: 0.3078\n",
            "Epoch 3/10\n",
            "1/1 [==============================] - 0s 59ms/step - loss: 0.3080 - mse: 0.3080\n",
            "Epoch 4/10\n",
            "1/1 [==============================] - 0s 63ms/step - loss: 0.3078 - mse: 0.3078\n",
            "Epoch 5/10\n",
            "1/1 [==============================] - 0s 61ms/step - loss: 0.3077 - mse: 0.3077\n",
            "Epoch 6/10\n",
            "1/1 [==============================] - 0s 66ms/step - loss: 0.3079 - mse: 0.3079\n",
            "Epoch 7/10\n",
            "1/1 [==============================] - 0s 60ms/step - loss: 0.3078 - mse: 0.3078\n",
            "Epoch 8/10\n",
            "1/1 [==============================] - 0s 60ms/step - loss: 0.3077 - mse: 0.3077\n",
            "Epoch 9/10\n",
            "1/1 [==============================] - 0s 61ms/step - loss: 0.3079 - mse: 0.3079\n",
            "Epoch 10/10\n",
            "1/1 [==============================] - 0s 76ms/step - loss: 0.3078 - mse: 0.3078\n"
          ],
          "name": "stdout"
        },
        {
          "output_type": "stream",
          "text": [
            "\r 29%|██▉       | 153/529 [02:40<05:35,  1.12it/s]"
          ],
          "name": "stderr"
        },
        {
          "output_type": "stream",
          "text": [
            "Epoch 1/10\n",
            "1/1 [==============================] - 0s 63ms/step - loss: 0.3202 - mse: 0.3202\n",
            "Epoch 2/10\n",
            "1/1 [==============================] - 0s 61ms/step - loss: 0.3200 - mse: 0.3200\n",
            "Epoch 3/10\n",
            "1/1 [==============================] - 0s 59ms/step - loss: 0.3199 - mse: 0.3199\n",
            "Epoch 4/10\n",
            "1/1 [==============================] - 0s 64ms/step - loss: 0.3201 - mse: 0.3201\n",
            "Epoch 5/10\n",
            "1/1 [==============================] - 0s 64ms/step - loss: 0.3199 - mse: 0.3199\n",
            "Epoch 6/10\n",
            "1/1 [==============================] - 0s 59ms/step - loss: 0.3199 - mse: 0.3199\n",
            "Epoch 7/10\n",
            "1/1 [==============================] - 0s 63ms/step - loss: 0.3200 - mse: 0.3200\n",
            "Epoch 8/10\n",
            "1/1 [==============================] - 0s 59ms/step - loss: 0.3199 - mse: 0.3199\n",
            "Epoch 9/10\n",
            "1/1 [==============================] - 0s 59ms/step - loss: 0.3199 - mse: 0.3199\n",
            "Epoch 10/10\n",
            "1/1 [==============================] - 0s 66ms/step - loss: 0.3200 - mse: 0.3200\n"
          ],
          "name": "stdout"
        },
        {
          "output_type": "stream",
          "text": [
            "\r 29%|██▉       | 154/529 [02:41<05:33,  1.12it/s]"
          ],
          "name": "stderr"
        },
        {
          "output_type": "stream",
          "text": [
            "Epoch 1/10\n",
            "1/1 [==============================] - 0s 65ms/step - loss: 0.3183 - mse: 0.3183\n",
            "Epoch 2/10\n",
            "1/1 [==============================] - 0s 66ms/step - loss: 0.3181 - mse: 0.3181\n",
            "Epoch 3/10\n",
            "1/1 [==============================] - 0s 63ms/step - loss: 0.3183 - mse: 0.3183\n",
            "Epoch 4/10\n",
            "1/1 [==============================] - 0s 58ms/step - loss: 0.3182 - mse: 0.3182\n",
            "Epoch 5/10\n",
            "1/1 [==============================] - 0s 68ms/step - loss: 0.3181 - mse: 0.3181\n",
            "Epoch 6/10\n",
            "1/1 [==============================] - 0s 56ms/step - loss: 0.3182 - mse: 0.3182\n",
            "Epoch 7/10\n",
            "1/1 [==============================] - 0s 62ms/step - loss: 0.3182 - mse: 0.3182\n",
            "Epoch 8/10\n",
            "1/1 [==============================] - 0s 66ms/step - loss: 0.3181 - mse: 0.3181\n",
            "Epoch 9/10\n",
            "1/1 [==============================] - 0s 64ms/step - loss: 0.3182 - mse: 0.3182\n",
            "Epoch 10/10\n",
            "1/1 [==============================] - 0s 65ms/step - loss: 0.3182 - mse: 0.3182\n"
          ],
          "name": "stdout"
        },
        {
          "output_type": "stream",
          "text": [
            "\r 29%|██▉       | 155/529 [02:42<05:34,  1.12it/s]"
          ],
          "name": "stderr"
        },
        {
          "output_type": "stream",
          "text": [
            "Epoch 1/10\n",
            "1/1 [==============================] - 0s 62ms/step - loss: 0.3132 - mse: 0.3132\n",
            "Epoch 2/10\n",
            "1/1 [==============================] - 0s 66ms/step - loss: 0.3133 - mse: 0.3133\n",
            "Epoch 3/10\n",
            "1/1 [==============================] - 0s 59ms/step - loss: 0.3132 - mse: 0.3132\n",
            "Epoch 4/10\n",
            "1/1 [==============================] - 0s 58ms/step - loss: 0.3132 - mse: 0.3132\n",
            "Epoch 5/10\n",
            "1/1 [==============================] - 0s 70ms/step - loss: 0.3132 - mse: 0.3132\n",
            "Epoch 6/10\n",
            "1/1 [==============================] - 0s 64ms/step - loss: 0.3132 - mse: 0.3132\n",
            "Epoch 7/10\n",
            "1/1 [==============================] - 0s 65ms/step - loss: 0.3132 - mse: 0.3132\n",
            "Epoch 8/10\n",
            "1/1 [==============================] - 0s 67ms/step - loss: 0.3132 - mse: 0.3132\n",
            "Epoch 9/10\n",
            "1/1 [==============================] - 0s 66ms/step - loss: 0.3132 - mse: 0.3132\n",
            "Epoch 10/10\n",
            "1/1 [==============================] - 0s 65ms/step - loss: 0.3132 - mse: 0.3132\n"
          ],
          "name": "stdout"
        },
        {
          "output_type": "stream",
          "text": [
            "\r 29%|██▉       | 156/529 [02:43<05:34,  1.12it/s]"
          ],
          "name": "stderr"
        },
        {
          "output_type": "stream",
          "text": [
            "Epoch 1/10\n",
            "1/1 [==============================] - 0s 61ms/step - loss: 0.3072 - mse: 0.3072\n",
            "Epoch 2/10\n",
            "1/1 [==============================] - 0s 67ms/step - loss: 0.3072 - mse: 0.3072\n",
            "Epoch 3/10\n",
            "1/1 [==============================] - 0s 65ms/step - loss: 0.3072 - mse: 0.3072\n",
            "Epoch 4/10\n",
            "1/1 [==============================] - 0s 61ms/step - loss: 0.3072 - mse: 0.3072\n",
            "Epoch 5/10\n",
            "1/1 [==============================] - 0s 62ms/step - loss: 0.3072 - mse: 0.3072\n",
            "Epoch 6/10\n",
            "1/1 [==============================] - 0s 57ms/step - loss: 0.3072 - mse: 0.3072\n",
            "Epoch 7/10\n",
            "1/1 [==============================] - 0s 74ms/step - loss: 0.3072 - mse: 0.3072\n",
            "Epoch 8/10\n",
            "1/1 [==============================] - 0s 63ms/step - loss: 0.3072 - mse: 0.3072\n",
            "Epoch 9/10\n",
            "1/1 [==============================] - 0s 63ms/step - loss: 0.3072 - mse: 0.3072\n",
            "Epoch 10/10\n",
            "1/1 [==============================] - 0s 62ms/step - loss: 0.3072 - mse: 0.3072\n"
          ],
          "name": "stdout"
        },
        {
          "output_type": "stream",
          "text": [
            "\r 30%|██▉       | 157/529 [02:44<05:32,  1.12it/s]"
          ],
          "name": "stderr"
        },
        {
          "output_type": "stream",
          "text": [
            "Epoch 1/10\n",
            "1/1 [==============================] - 0s 62ms/step - loss: 0.3069 - mse: 0.3069\n",
            "Epoch 2/10\n",
            "1/1 [==============================] - 0s 65ms/step - loss: 0.3069 - mse: 0.3069\n",
            "Epoch 3/10\n",
            "1/1 [==============================] - 0s 62ms/step - loss: 0.3069 - mse: 0.3069\n",
            "Epoch 4/10\n",
            "1/1 [==============================] - 0s 65ms/step - loss: 0.3069 - mse: 0.3069\n",
            "Epoch 5/10\n",
            "1/1 [==============================] - 0s 61ms/step - loss: 0.3069 - mse: 0.3069\n",
            "Epoch 6/10\n",
            "1/1 [==============================] - 0s 68ms/step - loss: 0.3069 - mse: 0.3069\n",
            "Epoch 7/10\n",
            "1/1 [==============================] - 0s 64ms/step - loss: 0.3069 - mse: 0.3069\n",
            "Epoch 8/10\n",
            "1/1 [==============================] - 0s 65ms/step - loss: 0.3069 - mse: 0.3069\n",
            "Epoch 9/10\n",
            "1/1 [==============================] - 0s 70ms/step - loss: 0.3069 - mse: 0.3069\n",
            "Epoch 10/10\n",
            "1/1 [==============================] - 0s 69ms/step - loss: 0.3069 - mse: 0.3069\n"
          ],
          "name": "stdout"
        },
        {
          "output_type": "stream",
          "text": [
            "\r 30%|██▉       | 158/529 [02:45<05:31,  1.12it/s]"
          ],
          "name": "stderr"
        },
        {
          "output_type": "stream",
          "text": [
            "Epoch 1/10\n",
            "1/1 [==============================] - 0s 61ms/step - loss: 0.3095 - mse: 0.3095\n",
            "Epoch 2/10\n",
            "1/1 [==============================] - 0s 59ms/step - loss: 0.3095 - mse: 0.3095\n",
            "Epoch 3/10\n",
            "1/1 [==============================] - 0s 64ms/step - loss: 0.3094 - mse: 0.3094\n",
            "Epoch 4/10\n",
            "1/1 [==============================] - 0s 58ms/step - loss: 0.3095 - mse: 0.3095\n",
            "Epoch 5/10\n",
            "1/1 [==============================] - 0s 67ms/step - loss: 0.3094 - mse: 0.3094\n",
            "Epoch 6/10\n",
            "1/1 [==============================] - 0s 62ms/step - loss: 0.3094 - mse: 0.3094\n",
            "Epoch 7/10\n",
            "1/1 [==============================] - 0s 62ms/step - loss: 0.3095 - mse: 0.3095\n",
            "Epoch 8/10\n",
            "1/1 [==============================] - 0s 65ms/step - loss: 0.3094 - mse: 0.3094\n",
            "Epoch 9/10\n",
            "1/1 [==============================] - 0s 56ms/step - loss: 0.3094 - mse: 0.3094\n",
            "Epoch 10/10\n",
            "1/1 [==============================] - 0s 68ms/step - loss: 0.3094 - mse: 0.3094\n"
          ],
          "name": "stdout"
        },
        {
          "output_type": "stream",
          "text": [
            "\r 30%|███       | 159/529 [02:46<05:29,  1.12it/s]"
          ],
          "name": "stderr"
        },
        {
          "output_type": "stream",
          "text": [
            "Epoch 1/10\n",
            "1/1 [==============================] - 0s 65ms/step - loss: 0.3086 - mse: 0.3086\n",
            "Epoch 2/10\n",
            "1/1 [==============================] - 0s 67ms/step - loss: 0.3085 - mse: 0.3085\n",
            "Epoch 3/10\n",
            "1/1 [==============================] - 0s 63ms/step - loss: 0.3085 - mse: 0.3085\n",
            "Epoch 4/10\n",
            "1/1 [==============================] - 0s 62ms/step - loss: 0.3085 - mse: 0.3085\n",
            "Epoch 5/10\n",
            "1/1 [==============================] - 0s 62ms/step - loss: 0.3085 - mse: 0.3085\n",
            "Epoch 6/10\n",
            "1/1 [==============================] - 0s 62ms/step - loss: 0.3085 - mse: 0.3085\n",
            "Epoch 7/10\n",
            "1/1 [==============================] - 0s 63ms/step - loss: 0.3085 - mse: 0.3085\n",
            "Epoch 8/10\n",
            "1/1 [==============================] - 0s 58ms/step - loss: 0.3085 - mse: 0.3085\n",
            "Epoch 9/10\n",
            "1/1 [==============================] - 0s 62ms/step - loss: 0.3085 - mse: 0.3085\n",
            "Epoch 10/10\n",
            "1/1 [==============================] - 0s 62ms/step - loss: 0.3085 - mse: 0.3085\n"
          ],
          "name": "stdout"
        },
        {
          "output_type": "stream",
          "text": [
            "\r 30%|███       | 160/529 [02:47<05:27,  1.13it/s]"
          ],
          "name": "stderr"
        },
        {
          "output_type": "stream",
          "text": [
            "Epoch 1/10\n",
            "1/1 [==============================] - 0s 62ms/step - loss: 0.3058 - mse: 0.3058\n",
            "Epoch 2/10\n",
            "1/1 [==============================] - 0s 62ms/step - loss: 0.3058 - mse: 0.3058\n",
            "Epoch 3/10\n",
            "1/1 [==============================] - 0s 56ms/step - loss: 0.3058 - mse: 0.3058\n",
            "Epoch 4/10\n",
            "1/1 [==============================] - 0s 58ms/step - loss: 0.3058 - mse: 0.3058\n",
            "Epoch 5/10\n",
            "1/1 [==============================] - 0s 58ms/step - loss: 0.3058 - mse: 0.3058\n",
            "Epoch 6/10\n",
            "1/1 [==============================] - 0s 65ms/step - loss: 0.3058 - mse: 0.3058\n",
            "Epoch 7/10\n",
            "1/1 [==============================] - 0s 63ms/step - loss: 0.3058 - mse: 0.3058\n",
            "Epoch 8/10\n",
            "1/1 [==============================] - 0s 61ms/step - loss: 0.3058 - mse: 0.3058\n",
            "Epoch 9/10\n",
            "1/1 [==============================] - 0s 58ms/step - loss: 0.3058 - mse: 0.3058\n",
            "Epoch 10/10\n",
            "1/1 [==============================] - 0s 62ms/step - loss: 0.3058 - mse: 0.3058\n"
          ],
          "name": "stdout"
        },
        {
          "output_type": "stream",
          "text": [
            "\r 30%|███       | 161/529 [02:47<05:25,  1.13it/s]"
          ],
          "name": "stderr"
        },
        {
          "output_type": "stream",
          "text": [
            "Epoch 1/10\n",
            "1/1 [==============================] - 0s 63ms/step - loss: 0.3040 - mse: 0.3040\n",
            "Epoch 2/10\n",
            "1/1 [==============================] - 0s 61ms/step - loss: 0.3039 - mse: 0.3039\n",
            "Epoch 3/10\n",
            "1/1 [==============================] - 0s 57ms/step - loss: 0.3037 - mse: 0.3037\n",
            "Epoch 4/10\n",
            "1/1 [==============================] - 0s 62ms/step - loss: 0.3035 - mse: 0.3035\n",
            "Epoch 5/10\n",
            "1/1 [==============================] - 0s 61ms/step - loss: 0.3035 - mse: 0.3035\n",
            "Epoch 6/10\n",
            "1/1 [==============================] - 0s 62ms/step - loss: 0.3036 - mse: 0.3036\n",
            "Epoch 7/10\n",
            "1/1 [==============================] - 0s 61ms/step - loss: 0.3036 - mse: 0.3036\n",
            "Epoch 8/10\n",
            "1/1 [==============================] - 0s 66ms/step - loss: 0.3036 - mse: 0.3036\n",
            "Epoch 9/10\n",
            "1/1 [==============================] - 0s 59ms/step - loss: 0.3036 - mse: 0.3036\n",
            "Epoch 10/10\n",
            "1/1 [==============================] - 0s 63ms/step - loss: 0.3036 - mse: 0.3036\n"
          ],
          "name": "stdout"
        },
        {
          "output_type": "stream",
          "text": [
            "\r 31%|███       | 162/529 [02:48<05:23,  1.14it/s]"
          ],
          "name": "stderr"
        },
        {
          "output_type": "stream",
          "text": [
            "Epoch 1/10\n",
            "1/1 [==============================] - 0s 62ms/step - loss: 0.2993 - mse: 0.2993\n",
            "Epoch 2/10\n",
            "1/1 [==============================] - 0s 63ms/step - loss: 0.2988 - mse: 0.2988\n",
            "Epoch 3/10\n",
            "1/1 [==============================] - 0s 59ms/step - loss: 0.2985 - mse: 0.2985\n",
            "Epoch 4/10\n",
            "1/1 [==============================] - 0s 59ms/step - loss: 0.2983 - mse: 0.2983\n",
            "Epoch 5/10\n",
            "1/1 [==============================] - 0s 66ms/step - loss: 0.2983 - mse: 0.2983\n",
            "Epoch 6/10\n",
            "1/1 [==============================] - 0s 67ms/step - loss: 0.2984 - mse: 0.2984\n",
            "Epoch 7/10\n",
            "1/1 [==============================] - 0s 62ms/step - loss: 0.2985 - mse: 0.2985\n",
            "Epoch 8/10\n",
            "1/1 [==============================] - 0s 57ms/step - loss: 0.2985 - mse: 0.2985\n",
            "Epoch 9/10\n",
            "1/1 [==============================] - 0s 62ms/step - loss: 0.2985 - mse: 0.2985\n",
            "Epoch 10/10\n",
            "1/1 [==============================] - 0s 60ms/step - loss: 0.2984 - mse: 0.2984\n"
          ],
          "name": "stdout"
        },
        {
          "output_type": "stream",
          "text": [
            "\r 31%|███       | 163/529 [02:49<05:23,  1.13it/s]"
          ],
          "name": "stderr"
        },
        {
          "output_type": "stream",
          "text": [
            "Epoch 1/10\n",
            "1/1 [==============================] - 0s 62ms/step - loss: 0.3084 - mse: 0.3084\n",
            "Epoch 2/10\n",
            "1/1 [==============================] - 0s 69ms/step - loss: 0.3082 - mse: 0.3082\n",
            "Epoch 3/10\n",
            "1/1 [==============================] - 0s 66ms/step - loss: 0.3083 - mse: 0.3083\n",
            "Epoch 4/10\n",
            "1/1 [==============================] - 0s 61ms/step - loss: 0.3082 - mse: 0.3082\n",
            "Epoch 5/10\n",
            "1/1 [==============================] - 0s 60ms/step - loss: 0.3081 - mse: 0.3081\n",
            "Epoch 6/10\n",
            "1/1 [==============================] - 0s 67ms/step - loss: 0.3082 - mse: 0.3082\n",
            "Epoch 7/10\n",
            "1/1 [==============================] - 0s 58ms/step - loss: 0.3082 - mse: 0.3082\n",
            "Epoch 8/10\n",
            "1/1 [==============================] - 0s 65ms/step - loss: 0.3081 - mse: 0.3081\n",
            "Epoch 9/10\n",
            "1/1 [==============================] - 0s 67ms/step - loss: 0.3082 - mse: 0.3082\n",
            "Epoch 10/10\n",
            "1/1 [==============================] - 0s 69ms/step - loss: 0.3081 - mse: 0.3081\n"
          ],
          "name": "stdout"
        },
        {
          "output_type": "stream",
          "text": [
            "\r 31%|███       | 164/529 [02:50<05:24,  1.12it/s]"
          ],
          "name": "stderr"
        },
        {
          "output_type": "stream",
          "text": [
            "Epoch 1/10\n",
            "1/1 [==============================] - 0s 64ms/step - loss: 0.3110 - mse: 0.3110\n",
            "Epoch 2/10\n",
            "1/1 [==============================] - 0s 66ms/step - loss: 0.3111 - mse: 0.3111\n",
            "Epoch 3/10\n",
            "1/1 [==============================] - 0s 67ms/step - loss: 0.3110 - mse: 0.3110\n",
            "Epoch 4/10\n",
            "1/1 [==============================] - 0s 64ms/step - loss: 0.3110 - mse: 0.3110\n",
            "Epoch 5/10\n",
            "1/1 [==============================] - 0s 60ms/step - loss: 0.3111 - mse: 0.3111\n",
            "Epoch 6/10\n",
            "1/1 [==============================] - 0s 64ms/step - loss: 0.3110 - mse: 0.3110\n",
            "Epoch 7/10\n",
            "1/1 [==============================] - 0s 65ms/step - loss: 0.3110 - mse: 0.3110\n",
            "Epoch 8/10\n",
            "1/1 [==============================] - 0s 65ms/step - loss: 0.3110 - mse: 0.3110\n",
            "Epoch 9/10\n",
            "1/1 [==============================] - 0s 61ms/step - loss: 0.3110 - mse: 0.3110\n",
            "Epoch 10/10\n",
            "1/1 [==============================] - 0s 64ms/step - loss: 0.3110 - mse: 0.3110\n"
          ],
          "name": "stdout"
        },
        {
          "output_type": "stream",
          "text": [
            "\r 31%|███       | 165/529 [02:51<05:22,  1.13it/s]"
          ],
          "name": "stderr"
        },
        {
          "output_type": "stream",
          "text": [
            "Epoch 1/10\n",
            "1/1 [==============================] - 0s 61ms/step - loss: 0.3087 - mse: 0.3087\n",
            "Epoch 2/10\n",
            "1/1 [==============================] - 0s 60ms/step - loss: 0.3086 - mse: 0.3086\n",
            "Epoch 3/10\n",
            "1/1 [==============================] - 0s 61ms/step - loss: 0.3086 - mse: 0.3086\n",
            "Epoch 4/10\n",
            "1/1 [==============================] - 0s 62ms/step - loss: 0.3087 - mse: 0.3087\n",
            "Epoch 5/10\n",
            "1/1 [==============================] - 0s 63ms/step - loss: 0.3086 - mse: 0.3086\n",
            "Epoch 6/10\n",
            "1/1 [==============================] - 0s 62ms/step - loss: 0.3086 - mse: 0.3086\n",
            "Epoch 7/10\n",
            "1/1 [==============================] - 0s 64ms/step - loss: 0.3086 - mse: 0.3086\n",
            "Epoch 8/10\n",
            "1/1 [==============================] - 0s 64ms/step - loss: 0.3086 - mse: 0.3086\n",
            "Epoch 9/10\n",
            "1/1 [==============================] - 0s 67ms/step - loss: 0.3086 - mse: 0.3086\n",
            "Epoch 10/10\n",
            "1/1 [==============================] - 0s 60ms/step - loss: 0.3086 - mse: 0.3086\n"
          ],
          "name": "stdout"
        },
        {
          "output_type": "stream",
          "text": [
            "\r 31%|███▏      | 166/529 [02:52<05:20,  1.13it/s]"
          ],
          "name": "stderr"
        },
        {
          "output_type": "stream",
          "text": [
            "Epoch 1/10\n",
            "1/1 [==============================] - 0s 60ms/step - loss: 0.3108 - mse: 0.3108\n",
            "Epoch 2/10\n",
            "1/1 [==============================] - 0s 59ms/step - loss: 0.3108 - mse: 0.3108\n",
            "Epoch 3/10\n",
            "1/1 [==============================] - 0s 61ms/step - loss: 0.3108 - mse: 0.3108\n",
            "Epoch 4/10\n",
            "1/1 [==============================] - 0s 63ms/step - loss: 0.3108 - mse: 0.3108\n",
            "Epoch 5/10\n",
            "1/1 [==============================] - 0s 68ms/step - loss: 0.3107 - mse: 0.3107\n",
            "Epoch 6/10\n",
            "1/1 [==============================] - 0s 63ms/step - loss: 0.3108 - mse: 0.3108\n",
            "Epoch 7/10\n",
            "1/1 [==============================] - 0s 62ms/step - loss: 0.3108 - mse: 0.3108\n",
            "Epoch 8/10\n",
            "1/1 [==============================] - 0s 59ms/step - loss: 0.3107 - mse: 0.3107\n",
            "Epoch 9/10\n",
            "1/1 [==============================] - 0s 63ms/step - loss: 0.3108 - mse: 0.3108\n",
            "Epoch 10/10\n",
            "1/1 [==============================] - 0s 60ms/step - loss: 0.3107 - mse: 0.3107\n"
          ],
          "name": "stdout"
        },
        {
          "output_type": "stream",
          "text": [
            "\r 32%|███▏      | 167/529 [02:53<05:18,  1.14it/s]"
          ],
          "name": "stderr"
        },
        {
          "output_type": "stream",
          "text": [
            "Epoch 1/10\n",
            "1/1 [==============================] - 0s 63ms/step - loss: 0.3117 - mse: 0.3117\n",
            "Epoch 2/10\n",
            "1/1 [==============================] - 0s 61ms/step - loss: 0.3117 - mse: 0.3117\n",
            "Epoch 3/10\n",
            "1/1 [==============================] - 0s 66ms/step - loss: 0.3117 - mse: 0.3117\n",
            "Epoch 4/10\n",
            "1/1 [==============================] - 0s 63ms/step - loss: 0.3117 - mse: 0.3117\n",
            "Epoch 5/10\n",
            "1/1 [==============================] - 0s 64ms/step - loss: 0.3117 - mse: 0.3117\n",
            "Epoch 6/10\n",
            "1/1 [==============================] - 0s 61ms/step - loss: 0.3117 - mse: 0.3117\n",
            "Epoch 7/10\n",
            "1/1 [==============================] - 0s 63ms/step - loss: 0.3117 - mse: 0.3117\n",
            "Epoch 8/10\n",
            "1/1 [==============================] - 0s 63ms/step - loss: 0.3117 - mse: 0.3117\n",
            "Epoch 9/10\n",
            "1/1 [==============================] - 0s 69ms/step - loss: 0.3117 - mse: 0.3117\n",
            "Epoch 10/10\n",
            "1/1 [==============================] - 0s 65ms/step - loss: 0.3117 - mse: 0.3117\n"
          ],
          "name": "stdout"
        },
        {
          "output_type": "stream",
          "text": [
            "\r 32%|███▏      | 168/529 [02:54<05:16,  1.14it/s]"
          ],
          "name": "stderr"
        },
        {
          "output_type": "stream",
          "text": [
            "Epoch 1/10\n",
            "1/1 [==============================] - 0s 63ms/step - loss: 0.3114 - mse: 0.3114\n",
            "Epoch 2/10\n",
            "1/1 [==============================] - 0s 55ms/step - loss: 0.3114 - mse: 0.3114\n",
            "Epoch 3/10\n",
            "1/1 [==============================] - 0s 67ms/step - loss: 0.3114 - mse: 0.3114\n",
            "Epoch 4/10\n",
            "1/1 [==============================] - 0s 64ms/step - loss: 0.3114 - mse: 0.3114\n",
            "Epoch 5/10\n",
            "1/1 [==============================] - 0s 66ms/step - loss: 0.3114 - mse: 0.3114\n",
            "Epoch 6/10\n",
            "1/1 [==============================] - 0s 62ms/step - loss: 0.3114 - mse: 0.3114\n",
            "Epoch 7/10\n",
            "1/1 [==============================] - 0s 76ms/step - loss: 0.3114 - mse: 0.3114\n",
            "Epoch 8/10\n",
            "1/1 [==============================] - 0s 67ms/step - loss: 0.3114 - mse: 0.3114\n",
            "Epoch 9/10\n",
            "1/1 [==============================] - 0s 63ms/step - loss: 0.3114 - mse: 0.3114\n",
            "Epoch 10/10\n",
            "1/1 [==============================] - 0s 58ms/step - loss: 0.3114 - mse: 0.3114\n"
          ],
          "name": "stdout"
        },
        {
          "output_type": "stream",
          "text": [
            "\r 32%|███▏      | 169/529 [02:55<05:17,  1.13it/s]"
          ],
          "name": "stderr"
        },
        {
          "output_type": "stream",
          "text": [
            "Epoch 1/10\n",
            "1/1 [==============================] - 0s 61ms/step - loss: 0.3118 - mse: 0.3118\n",
            "Epoch 2/10\n",
            "1/1 [==============================] - 0s 63ms/step - loss: 0.3118 - mse: 0.3118\n",
            "Epoch 3/10\n",
            "1/1 [==============================] - 0s 62ms/step - loss: 0.3118 - mse: 0.3118\n",
            "Epoch 4/10\n",
            "1/1 [==============================] - 0s 63ms/step - loss: 0.3118 - mse: 0.3118\n",
            "Epoch 5/10\n",
            "1/1 [==============================] - 0s 65ms/step - loss: 0.3118 - mse: 0.3118\n",
            "Epoch 6/10\n",
            "1/1 [==============================] - 0s 65ms/step - loss: 0.3118 - mse: 0.3118\n",
            "Epoch 7/10\n",
            "1/1 [==============================] - 0s 68ms/step - loss: 0.3118 - mse: 0.3118\n",
            "Epoch 8/10\n",
            "1/1 [==============================] - 0s 71ms/step - loss: 0.3118 - mse: 0.3118\n",
            "Epoch 9/10\n",
            "1/1 [==============================] - 0s 61ms/step - loss: 0.3118 - mse: 0.3118\n",
            "Epoch 10/10\n",
            "1/1 [==============================] - 0s 57ms/step - loss: 0.3118 - mse: 0.3118\n"
          ],
          "name": "stdout"
        },
        {
          "output_type": "stream",
          "text": [
            "\r 32%|███▏      | 170/529 [02:55<05:19,  1.12it/s]"
          ],
          "name": "stderr"
        },
        {
          "output_type": "stream",
          "text": [
            "Epoch 1/10\n",
            "1/1 [==============================] - 0s 63ms/step - loss: 0.3099 - mse: 0.3099\n",
            "Epoch 2/10\n",
            "1/1 [==============================] - 0s 62ms/step - loss: 0.3099 - mse: 0.3099\n",
            "Epoch 3/10\n",
            "1/1 [==============================] - 0s 61ms/step - loss: 0.3099 - mse: 0.3099\n",
            "Epoch 4/10\n",
            "1/1 [==============================] - 0s 64ms/step - loss: 0.3099 - mse: 0.3099\n",
            "Epoch 5/10\n",
            "1/1 [==============================] - 0s 59ms/step - loss: 0.3099 - mse: 0.3099\n",
            "Epoch 6/10\n",
            "1/1 [==============================] - 0s 65ms/step - loss: 0.3099 - mse: 0.3099\n",
            "Epoch 7/10\n",
            "1/1 [==============================] - 0s 59ms/step - loss: 0.3099 - mse: 0.3099\n",
            "Epoch 8/10\n",
            "1/1 [==============================] - 0s 64ms/step - loss: 0.3099 - mse: 0.3099\n",
            "Epoch 9/10\n",
            "1/1 [==============================] - 0s 64ms/step - loss: 0.3099 - mse: 0.3099\n",
            "Epoch 10/10\n",
            "1/1 [==============================] - 0s 62ms/step - loss: 0.3099 - mse: 0.3099\n"
          ],
          "name": "stdout"
        },
        {
          "output_type": "stream",
          "text": [
            "\r 32%|███▏      | 171/529 [02:56<05:16,  1.13it/s]"
          ],
          "name": "stderr"
        },
        {
          "output_type": "stream",
          "text": [
            "Epoch 1/10\n",
            "1/1 [==============================] - 0s 63ms/step - loss: 0.3019 - mse: 0.3019\n",
            "Epoch 2/10\n",
            "1/1 [==============================] - 0s 59ms/step - loss: 0.3017 - mse: 0.3017\n",
            "Epoch 3/10\n",
            "1/1 [==============================] - 0s 65ms/step - loss: 0.3018 - mse: 0.3018\n",
            "Epoch 4/10\n",
            "1/1 [==============================] - 0s 60ms/step - loss: 0.3018 - mse: 0.3018\n",
            "Epoch 5/10\n",
            "1/1 [==============================] - 0s 62ms/step - loss: 0.3017 - mse: 0.3017\n",
            "Epoch 6/10\n",
            "1/1 [==============================] - 0s 64ms/step - loss: 0.3017 - mse: 0.3017\n",
            "Epoch 7/10\n",
            "1/1 [==============================] - 0s 67ms/step - loss: 0.3018 - mse: 0.3018\n",
            "Epoch 8/10\n",
            "1/1 [==============================] - 0s 66ms/step - loss: 0.3017 - mse: 0.3017\n",
            "Epoch 9/10\n",
            "1/1 [==============================] - 0s 61ms/step - loss: 0.3017 - mse: 0.3017\n",
            "Epoch 10/10\n",
            "1/1 [==============================] - 0s 63ms/step - loss: 0.3018 - mse: 0.3018\n"
          ],
          "name": "stdout"
        },
        {
          "output_type": "stream",
          "text": [
            "\r 33%|███▎      | 172/529 [02:57<05:14,  1.14it/s]"
          ],
          "name": "stderr"
        },
        {
          "output_type": "stream",
          "text": [
            "Epoch 1/10\n",
            "1/1 [==============================] - 0s 64ms/step - loss: 0.3077 - mse: 0.3077\n",
            "Epoch 2/10\n",
            "1/1 [==============================] - 0s 59ms/step - loss: 0.3076 - mse: 0.3076\n",
            "Epoch 3/10\n",
            "1/1 [==============================] - 0s 60ms/step - loss: 0.3078 - mse: 0.3078\n",
            "Epoch 4/10\n",
            "1/1 [==============================] - 0s 66ms/step - loss: 0.3077 - mse: 0.3077\n",
            "Epoch 5/10\n",
            "1/1 [==============================] - 0s 60ms/step - loss: 0.3076 - mse: 0.3076\n",
            "Epoch 6/10\n",
            "1/1 [==============================] - 0s 64ms/step - loss: 0.3077 - mse: 0.3077\n",
            "Epoch 7/10\n",
            "1/1 [==============================] - 0s 64ms/step - loss: 0.3076 - mse: 0.3076\n",
            "Epoch 8/10\n",
            "1/1 [==============================] - 0s 63ms/step - loss: 0.3076 - mse: 0.3076\n",
            "Epoch 9/10\n",
            "1/1 [==============================] - 0s 59ms/step - loss: 0.3077 - mse: 0.3077\n",
            "Epoch 10/10\n",
            "1/1 [==============================] - 0s 65ms/step - loss: 0.3076 - mse: 0.3076\n"
          ],
          "name": "stdout"
        },
        {
          "output_type": "stream",
          "text": [
            "\r 33%|███▎      | 173/529 [02:58<05:13,  1.14it/s]"
          ],
          "name": "stderr"
        },
        {
          "output_type": "stream",
          "text": [
            "Epoch 1/10\n",
            "1/1 [==============================] - 0s 62ms/step - loss: 0.2974 - mse: 0.2974\n",
            "Epoch 2/10\n",
            "1/1 [==============================] - 0s 60ms/step - loss: 0.2972 - mse: 0.2972\n",
            "Epoch 3/10\n",
            "1/1 [==============================] - 0s 58ms/step - loss: 0.2973 - mse: 0.2973\n",
            "Epoch 4/10\n",
            "1/1 [==============================] - 0s 59ms/step - loss: 0.2971 - mse: 0.2971\n",
            "Epoch 5/10\n",
            "1/1 [==============================] - 0s 67ms/step - loss: 0.2970 - mse: 0.2970\n",
            "Epoch 6/10\n",
            "1/1 [==============================] - 0s 70ms/step - loss: 0.2972 - mse: 0.2972\n",
            "Epoch 7/10\n",
            "1/1 [==============================] - 0s 61ms/step - loss: 0.2971 - mse: 0.2971\n",
            "Epoch 8/10\n",
            "1/1 [==============================] - 0s 62ms/step - loss: 0.2971 - mse: 0.2971\n",
            "Epoch 9/10\n",
            "1/1 [==============================] - 0s 68ms/step - loss: 0.2972 - mse: 0.2972\n",
            "Epoch 10/10\n",
            "1/1 [==============================] - 0s 57ms/step - loss: 0.2971 - mse: 0.2971\n"
          ],
          "name": "stdout"
        },
        {
          "output_type": "stream",
          "text": [
            "\r 33%|███▎      | 174/529 [02:59<05:11,  1.14it/s]"
          ],
          "name": "stderr"
        },
        {
          "output_type": "stream",
          "text": [
            "Epoch 1/10\n",
            "1/1 [==============================] - 0s 65ms/step - loss: 0.3038 - mse: 0.3038\n",
            "Epoch 2/10\n",
            "1/1 [==============================] - 0s 60ms/step - loss: 0.3036 - mse: 0.3036\n",
            "Epoch 3/10\n",
            "1/1 [==============================] - 0s 58ms/step - loss: 0.3036 - mse: 0.3036\n",
            "Epoch 4/10\n",
            "1/1 [==============================] - 0s 61ms/step - loss: 0.3033 - mse: 0.3033\n",
            "Epoch 5/10\n",
            "1/1 [==============================] - 0s 65ms/step - loss: 0.3034 - mse: 0.3034\n",
            "Epoch 6/10\n",
            "1/1 [==============================] - 0s 61ms/step - loss: 0.3035 - mse: 0.3035\n",
            "Epoch 7/10\n",
            "1/1 [==============================] - 0s 61ms/step - loss: 0.3034 - mse: 0.3034\n",
            "Epoch 8/10\n",
            "1/1 [==============================] - 0s 64ms/step - loss: 0.3035 - mse: 0.3035\n",
            "Epoch 9/10\n",
            "1/1 [==============================] - 0s 60ms/step - loss: 0.3035 - mse: 0.3035\n",
            "Epoch 10/10\n",
            "1/1 [==============================] - 0s 58ms/step - loss: 0.3034 - mse: 0.3034\n"
          ],
          "name": "stdout"
        },
        {
          "output_type": "stream",
          "text": [
            "\r 33%|███▎      | 175/529 [03:00<05:09,  1.14it/s]"
          ],
          "name": "stderr"
        },
        {
          "output_type": "stream",
          "text": [
            "Epoch 1/10\n",
            "1/1 [==============================] - 0s 60ms/step - loss: 0.3105 - mse: 0.3105\n",
            "Epoch 2/10\n",
            "1/1 [==============================] - 0s 61ms/step - loss: 0.3104 - mse: 0.3104\n",
            "Epoch 3/10\n",
            "1/1 [==============================] - 0s 65ms/step - loss: 0.3103 - mse: 0.3103\n",
            "Epoch 4/10\n",
            "1/1 [==============================] - 0s 57ms/step - loss: 0.3104 - mse: 0.3104\n",
            "Epoch 5/10\n",
            "1/1 [==============================] - 0s 63ms/step - loss: 0.3103 - mse: 0.3103\n",
            "Epoch 6/10\n",
            "1/1 [==============================] - 0s 61ms/step - loss: 0.3103 - mse: 0.3103\n",
            "Epoch 7/10\n",
            "1/1 [==============================] - 0s 57ms/step - loss: 0.3104 - mse: 0.3104\n",
            "Epoch 8/10\n",
            "1/1 [==============================] - 0s 66ms/step - loss: 0.3103 - mse: 0.3103\n",
            "Epoch 9/10\n",
            "1/1 [==============================] - 0s 60ms/step - loss: 0.3103 - mse: 0.3103\n",
            "Epoch 10/10\n",
            "1/1 [==============================] - 0s 75ms/step - loss: 0.3103 - mse: 0.3103\n"
          ],
          "name": "stdout"
        },
        {
          "output_type": "stream",
          "text": [
            "\r 33%|███▎      | 176/529 [03:01<05:11,  1.13it/s]"
          ],
          "name": "stderr"
        },
        {
          "output_type": "stream",
          "text": [
            "Epoch 1/10\n",
            "1/1 [==============================] - 0s 66ms/step - loss: 0.3086 - mse: 0.3086\n",
            "Epoch 2/10\n",
            "1/1 [==============================] - 0s 62ms/step - loss: 0.3085 - mse: 0.3085\n",
            "Epoch 3/10\n",
            "1/1 [==============================] - 0s 55ms/step - loss: 0.3086 - mse: 0.3086\n",
            "Epoch 4/10\n",
            "1/1 [==============================] - 0s 60ms/step - loss: 0.3086 - mse: 0.3086\n",
            "Epoch 5/10\n",
            "1/1 [==============================] - 0s 64ms/step - loss: 0.3085 - mse: 0.3085\n",
            "Epoch 6/10\n",
            "1/1 [==============================] - 0s 59ms/step - loss: 0.3086 - mse: 0.3086\n",
            "Epoch 7/10\n",
            "1/1 [==============================] - 0s 67ms/step - loss: 0.3085 - mse: 0.3085\n",
            "Epoch 8/10\n",
            "1/1 [==============================] - 0s 58ms/step - loss: 0.3085 - mse: 0.3085\n",
            "Epoch 9/10\n",
            "1/1 [==============================] - 0s 63ms/step - loss: 0.3086 - mse: 0.3086\n",
            "Epoch 10/10\n",
            "1/1 [==============================] - 0s 65ms/step - loss: 0.3085 - mse: 0.3085\n"
          ],
          "name": "stdout"
        },
        {
          "output_type": "stream",
          "text": [
            "\r 33%|███▎      | 177/529 [03:02<05:09,  1.14it/s]"
          ],
          "name": "stderr"
        },
        {
          "output_type": "stream",
          "text": [
            "Epoch 1/10\n",
            "1/1 [==============================] - 0s 65ms/step - loss: 0.3101 - mse: 0.3101\n",
            "Epoch 2/10\n",
            "1/1 [==============================] - 0s 60ms/step - loss: 0.3101 - mse: 0.3101\n",
            "Epoch 3/10\n",
            "1/1 [==============================] - 0s 57ms/step - loss: 0.3101 - mse: 0.3101\n",
            "Epoch 4/10\n",
            "1/1 [==============================] - 0s 67ms/step - loss: 0.3101 - mse: 0.3101\n",
            "Epoch 5/10\n",
            "1/1 [==============================] - 0s 59ms/step - loss: 0.3101 - mse: 0.3101\n",
            "Epoch 6/10\n",
            "1/1 [==============================] - 0s 67ms/step - loss: 0.3101 - mse: 0.3101\n",
            "Epoch 7/10\n",
            "1/1 [==============================] - 0s 59ms/step - loss: 0.3101 - mse: 0.3101\n",
            "Epoch 8/10\n",
            "1/1 [==============================] - 0s 68ms/step - loss: 0.3101 - mse: 0.3101\n",
            "Epoch 9/10\n",
            "1/1 [==============================] - 0s 62ms/step - loss: 0.3101 - mse: 0.3101\n",
            "Epoch 10/10\n",
            "1/1 [==============================] - 0s 59ms/step - loss: 0.3101 - mse: 0.3101\n"
          ],
          "name": "stdout"
        },
        {
          "output_type": "stream",
          "text": [
            "\r 34%|███▎      | 178/529 [03:02<05:07,  1.14it/s]"
          ],
          "name": "stderr"
        },
        {
          "output_type": "stream",
          "text": [
            "Epoch 1/10\n",
            "1/1 [==============================] - 0s 66ms/step - loss: 0.3099 - mse: 0.3099\n",
            "Epoch 2/10\n",
            "1/1 [==============================] - 0s 74ms/step - loss: 0.3099 - mse: 0.3099\n",
            "Epoch 3/10\n",
            "1/1 [==============================] - 0s 59ms/step - loss: 0.3099 - mse: 0.3099\n",
            "Epoch 4/10\n",
            "1/1 [==============================] - 0s 68ms/step - loss: 0.3099 - mse: 0.3099\n",
            "Epoch 5/10\n",
            "1/1 [==============================] - 0s 64ms/step - loss: 0.3099 - mse: 0.3099\n",
            "Epoch 6/10\n",
            "1/1 [==============================] - 0s 70ms/step - loss: 0.3099 - mse: 0.3099\n",
            "Epoch 7/10\n",
            "1/1 [==============================] - 0s 67ms/step - loss: 0.3099 - mse: 0.3099\n",
            "Epoch 8/10\n",
            "1/1 [==============================] - 0s 57ms/step - loss: 0.3099 - mse: 0.3099\n",
            "Epoch 9/10\n",
            "1/1 [==============================] - 0s 59ms/step - loss: 0.3099 - mse: 0.3099\n",
            "Epoch 10/10\n",
            "1/1 [==============================] - 0s 59ms/step - loss: 0.3099 - mse: 0.3099\n"
          ],
          "name": "stdout"
        },
        {
          "output_type": "stream",
          "text": [
            "\r 34%|███▍      | 179/529 [03:03<05:07,  1.14it/s]"
          ],
          "name": "stderr"
        },
        {
          "output_type": "stream",
          "text": [
            "Epoch 1/10\n",
            "1/1 [==============================] - 0s 59ms/step - loss: 0.3076 - mse: 0.3076\n",
            "Epoch 2/10\n",
            "1/1 [==============================] - 0s 69ms/step - loss: 0.3076 - mse: 0.3076\n",
            "Epoch 3/10\n",
            "1/1 [==============================] - 0s 61ms/step - loss: 0.3076 - mse: 0.3076\n",
            "Epoch 4/10\n",
            "1/1 [==============================] - 0s 71ms/step - loss: 0.3076 - mse: 0.3076\n",
            "Epoch 5/10\n",
            "1/1 [==============================] - 0s 62ms/step - loss: 0.3076 - mse: 0.3076\n",
            "Epoch 6/10\n",
            "1/1 [==============================] - 0s 60ms/step - loss: 0.3076 - mse: 0.3076\n",
            "Epoch 7/10\n",
            "1/1 [==============================] - 0s 68ms/step - loss: 0.3076 - mse: 0.3076\n",
            "Epoch 8/10\n",
            "1/1 [==============================] - 0s 61ms/step - loss: 0.3076 - mse: 0.3076\n",
            "Epoch 9/10\n",
            "1/1 [==============================] - 0s 66ms/step - loss: 0.3076 - mse: 0.3076\n",
            "Epoch 10/10\n",
            "1/1 [==============================] - 0s 62ms/step - loss: 0.3076 - mse: 0.3076\n"
          ],
          "name": "stdout"
        },
        {
          "output_type": "stream",
          "text": [
            "\r 34%|███▍      | 180/529 [03:04<05:07,  1.14it/s]"
          ],
          "name": "stderr"
        },
        {
          "output_type": "stream",
          "text": [
            "Epoch 1/10\n",
            "1/1 [==============================] - 0s 62ms/step - loss: 0.3073 - mse: 0.3073\n",
            "Epoch 2/10\n",
            "1/1 [==============================] - 0s 63ms/step - loss: 0.3073 - mse: 0.3073\n",
            "Epoch 3/10\n",
            "1/1 [==============================] - 0s 59ms/step - loss: 0.3073 - mse: 0.3073\n",
            "Epoch 4/10\n",
            "1/1 [==============================] - 0s 68ms/step - loss: 0.3073 - mse: 0.3073\n",
            "Epoch 5/10\n",
            "1/1 [==============================] - 0s 63ms/step - loss: 0.3073 - mse: 0.3073\n",
            "Epoch 6/10\n",
            "1/1 [==============================] - 0s 64ms/step - loss: 0.3073 - mse: 0.3073\n",
            "Epoch 7/10\n",
            "1/1 [==============================] - 0s 61ms/step - loss: 0.3073 - mse: 0.3073\n",
            "Epoch 8/10\n",
            "1/1 [==============================] - 0s 60ms/step - loss: 0.3073 - mse: 0.3073\n",
            "Epoch 9/10\n",
            "1/1 [==============================] - 0s 65ms/step - loss: 0.3073 - mse: 0.3073\n",
            "Epoch 10/10\n",
            "1/1 [==============================] - 0s 63ms/step - loss: 0.3073 - mse: 0.3073\n"
          ],
          "name": "stdout"
        },
        {
          "output_type": "stream",
          "text": [
            "\r 34%|███▍      | 181/529 [03:05<05:08,  1.13it/s]"
          ],
          "name": "stderr"
        },
        {
          "output_type": "stream",
          "text": [
            "Epoch 1/10\n",
            "1/1 [==============================] - 0s 62ms/step - loss: 0.2953 - mse: 0.2953\n",
            "Epoch 2/10\n",
            "1/1 [==============================] - 0s 60ms/step - loss: 0.2950 - mse: 0.2950\n",
            "Epoch 3/10\n",
            "1/1 [==============================] - 0s 65ms/step - loss: 0.2952 - mse: 0.2952\n",
            "Epoch 4/10\n",
            "1/1 [==============================] - 0s 63ms/step - loss: 0.2951 - mse: 0.2951\n",
            "Epoch 5/10\n",
            "1/1 [==============================] - 0s 57ms/step - loss: 0.2949 - mse: 0.2949\n",
            "Epoch 6/10\n",
            "1/1 [==============================] - 0s 67ms/step - loss: 0.2951 - mse: 0.2951\n",
            "Epoch 7/10\n",
            "1/1 [==============================] - 0s 74ms/step - loss: 0.2951 - mse: 0.2951\n",
            "Epoch 8/10\n",
            "1/1 [==============================] - 0s 64ms/step - loss: 0.2950 - mse: 0.2950\n",
            "Epoch 9/10\n",
            "1/1 [==============================] - 0s 72ms/step - loss: 0.2951 - mse: 0.2951\n",
            "Epoch 10/10\n",
            "1/1 [==============================] - 0s 60ms/step - loss: 0.2951 - mse: 0.2951\n"
          ],
          "name": "stdout"
        },
        {
          "output_type": "stream",
          "text": [
            "\r 34%|███▍      | 182/529 [03:06<05:09,  1.12it/s]"
          ],
          "name": "stderr"
        },
        {
          "output_type": "stream",
          "text": [
            "Epoch 1/10\n",
            "1/1 [==============================] - 0s 63ms/step - loss: 0.2969 - mse: 0.2969\n",
            "Epoch 2/10\n",
            "1/1 [==============================] - 0s 58ms/step - loss: 0.2968 - mse: 0.2968\n",
            "Epoch 3/10\n",
            "1/1 [==============================] - 0s 64ms/step - loss: 0.2967 - mse: 0.2967\n",
            "Epoch 4/10\n",
            "1/1 [==============================] - 0s 60ms/step - loss: 0.2966 - mse: 0.2966\n",
            "Epoch 5/10\n",
            "1/1 [==============================] - 0s 67ms/step - loss: 0.2967 - mse: 0.2967\n",
            "Epoch 6/10\n",
            "1/1 [==============================] - 0s 64ms/step - loss: 0.2967 - mse: 0.2967\n",
            "Epoch 7/10\n",
            "1/1 [==============================] - 0s 72ms/step - loss: 0.2967 - mse: 0.2967\n",
            "Epoch 8/10\n",
            "1/1 [==============================] - 0s 60ms/step - loss: 0.2967 - mse: 0.2967\n",
            "Epoch 9/10\n",
            "1/1 [==============================] - 0s 75ms/step - loss: 0.2967 - mse: 0.2967\n",
            "Epoch 10/10\n",
            "1/1 [==============================] - 0s 58ms/step - loss: 0.2967 - mse: 0.2967\n"
          ],
          "name": "stdout"
        },
        {
          "output_type": "stream",
          "text": [
            "\r 35%|███▍      | 183/529 [03:07<05:08,  1.12it/s]"
          ],
          "name": "stderr"
        },
        {
          "output_type": "stream",
          "text": [
            "Epoch 1/10\n",
            "1/1 [==============================] - 0s 64ms/step - loss: 0.3095 - mse: 0.3095\n",
            "Epoch 2/10\n",
            "1/1 [==============================] - 0s 65ms/step - loss: 0.3089 - mse: 0.3089\n",
            "Epoch 3/10\n",
            "1/1 [==============================] - 0s 62ms/step - loss: 0.3091 - mse: 0.3091\n",
            "Epoch 4/10\n",
            "1/1 [==============================] - 0s 60ms/step - loss: 0.3092 - mse: 0.3092\n",
            "Epoch 5/10\n",
            "1/1 [==============================] - 0s 61ms/step - loss: 0.3089 - mse: 0.3089\n",
            "Epoch 6/10\n",
            "1/1 [==============================] - 0s 63ms/step - loss: 0.3091 - mse: 0.3091\n",
            "Epoch 7/10\n",
            "1/1 [==============================] - 0s 62ms/step - loss: 0.3091 - mse: 0.3091\n",
            "Epoch 8/10\n",
            "1/1 [==============================] - 0s 64ms/step - loss: 0.3089 - mse: 0.3089\n",
            "Epoch 9/10\n",
            "1/1 [==============================] - 0s 65ms/step - loss: 0.3090 - mse: 0.3090\n",
            "Epoch 10/10\n",
            "1/1 [==============================] - 0s 66ms/step - loss: 0.3090 - mse: 0.3090\n"
          ],
          "name": "stdout"
        },
        {
          "output_type": "stream",
          "text": [
            "\r 35%|███▍      | 184/529 [03:08<05:08,  1.12it/s]"
          ],
          "name": "stderr"
        },
        {
          "output_type": "stream",
          "text": [
            "Epoch 1/10\n",
            "1/1 [==============================] - 0s 70ms/step - loss: 0.3079 - mse: 0.3079\n",
            "Epoch 2/10\n",
            "1/1 [==============================] - 0s 59ms/step - loss: 0.3081 - mse: 0.3081\n",
            "Epoch 3/10\n",
            "1/1 [==============================] - 0s 63ms/step - loss: 0.3081 - mse: 0.3081\n",
            "Epoch 4/10\n",
            "1/1 [==============================] - 0s 64ms/step - loss: 0.3079 - mse: 0.3079\n",
            "Epoch 5/10\n",
            "1/1 [==============================] - 0s 58ms/step - loss: 0.3080 - mse: 0.3080\n",
            "Epoch 6/10\n",
            "1/1 [==============================] - 0s 63ms/step - loss: 0.3080 - mse: 0.3080\n",
            "Epoch 7/10\n",
            "1/1 [==============================] - 0s 66ms/step - loss: 0.3079 - mse: 0.3079\n",
            "Epoch 8/10\n",
            "1/1 [==============================] - 0s 59ms/step - loss: 0.3080 - mse: 0.3080\n",
            "Epoch 9/10\n",
            "1/1 [==============================] - 0s 61ms/step - loss: 0.3080 - mse: 0.3080\n",
            "Epoch 10/10\n",
            "1/1 [==============================] - 0s 67ms/step - loss: 0.3079 - mse: 0.3079\n"
          ],
          "name": "stdout"
        },
        {
          "output_type": "stream",
          "text": [
            "\r 35%|███▍      | 185/529 [03:09<05:07,  1.12it/s]"
          ],
          "name": "stderr"
        },
        {
          "output_type": "stream",
          "text": [
            "Epoch 1/10\n",
            "1/1 [==============================] - 0s 70ms/step - loss: 0.2987 - mse: 0.2987\n",
            "Epoch 2/10\n",
            "1/1 [==============================] - 0s 63ms/step - loss: 0.2983 - mse: 0.2983\n",
            "Epoch 3/10\n",
            "1/1 [==============================] - 0s 61ms/step - loss: 0.2984 - mse: 0.2984\n",
            "Epoch 4/10\n",
            "1/1 [==============================] - 0s 65ms/step - loss: 0.2986 - mse: 0.2986\n",
            "Epoch 5/10\n",
            "1/1 [==============================] - 0s 61ms/step - loss: 0.2983 - mse: 0.2983\n",
            "Epoch 6/10\n",
            "1/1 [==============================] - 0s 61ms/step - loss: 0.2984 - mse: 0.2984\n",
            "Epoch 7/10\n",
            "1/1 [==============================] - 0s 66ms/step - loss: 0.2985 - mse: 0.2985\n",
            "Epoch 8/10\n",
            "1/1 [==============================] - 0s 68ms/step - loss: 0.2983 - mse: 0.2983\n",
            "Epoch 9/10\n",
            "1/1 [==============================] - 0s 63ms/step - loss: 0.2984 - mse: 0.2984\n",
            "Epoch 10/10\n",
            "1/1 [==============================] - 0s 75ms/step - loss: 0.2984 - mse: 0.2984\n"
          ],
          "name": "stdout"
        },
        {
          "output_type": "stream",
          "text": [
            "\r 35%|███▌      | 186/529 [03:10<05:07,  1.12it/s]"
          ],
          "name": "stderr"
        },
        {
          "output_type": "stream",
          "text": [
            "Epoch 1/10\n",
            "1/1 [==============================] - 0s 68ms/step - loss: 0.3138 - mse: 0.3138\n",
            "Epoch 2/10\n",
            "1/1 [==============================] - 0s 64ms/step - loss: 0.3132 - mse: 0.3132\n",
            "Epoch 3/10\n",
            "1/1 [==============================] - 0s 59ms/step - loss: 0.3139 - mse: 0.3139\n",
            "Epoch 4/10\n",
            "1/1 [==============================] - 0s 60ms/step - loss: 0.3134 - mse: 0.3134\n",
            "Epoch 5/10\n",
            "1/1 [==============================] - 0s 67ms/step - loss: 0.3132 - mse: 0.3132\n",
            "Epoch 6/10\n",
            "1/1 [==============================] - 0s 56ms/step - loss: 0.3137 - mse: 0.3137\n",
            "Epoch 7/10\n",
            "1/1 [==============================] - 0s 59ms/step - loss: 0.3133 - mse: 0.3133\n",
            "Epoch 8/10\n",
            "1/1 [==============================] - 0s 61ms/step - loss: 0.3132 - mse: 0.3132\n",
            "Epoch 9/10\n",
            "1/1 [==============================] - 0s 66ms/step - loss: 0.3135 - mse: 0.3135\n",
            "Epoch 10/10\n",
            "1/1 [==============================] - 0s 57ms/step - loss: 0.3132 - mse: 0.3132\n"
          ],
          "name": "stdout"
        },
        {
          "output_type": "stream",
          "text": [
            "\r 35%|███▌      | 187/529 [03:11<05:06,  1.11it/s]"
          ],
          "name": "stderr"
        },
        {
          "output_type": "stream",
          "text": [
            "Epoch 1/10\n",
            "1/1 [==============================] - 0s 62ms/step - loss: 0.3176 - mse: 0.3176\n",
            "Epoch 2/10\n",
            "1/1 [==============================] - 0s 62ms/step - loss: 0.3176 - mse: 0.3176\n",
            "Epoch 3/10\n",
            "1/1 [==============================] - 0s 71ms/step - loss: 0.3173 - mse: 0.3173\n",
            "Epoch 4/10\n",
            "1/1 [==============================] - 0s 66ms/step - loss: 0.3174 - mse: 0.3174\n",
            "Epoch 5/10\n",
            "1/1 [==============================] - 0s 73ms/step - loss: 0.3174 - mse: 0.3174\n",
            "Epoch 6/10\n",
            "1/1 [==============================] - 0s 63ms/step - loss: 0.3172 - mse: 0.3172\n",
            "Epoch 7/10\n",
            "1/1 [==============================] - 0s 56ms/step - loss: 0.3174 - mse: 0.3174\n",
            "Epoch 8/10\n",
            "1/1 [==============================] - 0s 62ms/step - loss: 0.3174 - mse: 0.3174\n",
            "Epoch 9/10\n",
            "1/1 [==============================] - 0s 64ms/step - loss: 0.3172 - mse: 0.3172\n",
            "Epoch 10/10\n",
            "1/1 [==============================] - 0s 67ms/step - loss: 0.3174 - mse: 0.3174\n"
          ],
          "name": "stdout"
        },
        {
          "output_type": "stream",
          "text": [
            "\r 36%|███▌      | 188/529 [03:11<05:04,  1.12it/s]"
          ],
          "name": "stderr"
        },
        {
          "output_type": "stream",
          "text": [
            "Epoch 1/10\n",
            "1/1 [==============================] - 0s 63ms/step - loss: 0.3136 - mse: 0.3136\n",
            "Epoch 2/10\n",
            "1/1 [==============================] - 0s 58ms/step - loss: 0.3133 - mse: 0.3133\n",
            "Epoch 3/10\n",
            "1/1 [==============================] - 0s 63ms/step - loss: 0.3134 - mse: 0.3134\n",
            "Epoch 4/10\n",
            "1/1 [==============================] - 0s 68ms/step - loss: 0.3133 - mse: 0.3133\n",
            "Epoch 5/10\n",
            "1/1 [==============================] - 0s 64ms/step - loss: 0.3132 - mse: 0.3132\n",
            "Epoch 6/10\n",
            "1/1 [==============================] - 0s 64ms/step - loss: 0.3133 - mse: 0.3133\n",
            "Epoch 7/10\n",
            "1/1 [==============================] - 0s 65ms/step - loss: 0.3133 - mse: 0.3133\n",
            "Epoch 8/10\n",
            "1/1 [==============================] - 0s 64ms/step - loss: 0.3132 - mse: 0.3132\n",
            "Epoch 9/10\n",
            "1/1 [==============================] - 0s 66ms/step - loss: 0.3133 - mse: 0.3133\n",
            "Epoch 10/10\n",
            "1/1 [==============================] - 0s 60ms/step - loss: 0.3132 - mse: 0.3132\n"
          ],
          "name": "stdout"
        },
        {
          "output_type": "stream",
          "text": [
            "\r 36%|███▌      | 189/529 [03:12<05:02,  1.13it/s]"
          ],
          "name": "stderr"
        },
        {
          "output_type": "stream",
          "text": [
            "Epoch 1/10\n",
            "1/1 [==============================] - 0s 62ms/step - loss: 0.3090 - mse: 0.3090\n",
            "Epoch 2/10\n",
            "1/1 [==============================] - 0s 61ms/step - loss: 0.3089 - mse: 0.3089\n",
            "Epoch 3/10\n",
            "1/1 [==============================] - 0s 67ms/step - loss: 0.3088 - mse: 0.3088\n",
            "Epoch 4/10\n",
            "1/1 [==============================] - 0s 65ms/step - loss: 0.3088 - mse: 0.3088\n",
            "Epoch 5/10\n",
            "1/1 [==============================] - 0s 65ms/step - loss: 0.3088 - mse: 0.3088\n",
            "Epoch 6/10\n",
            "1/1 [==============================] - 0s 63ms/step - loss: 0.3088 - mse: 0.3088\n",
            "Epoch 7/10\n",
            "1/1 [==============================] - 0s 58ms/step - loss: 0.3088 - mse: 0.3088\n",
            "Epoch 8/10\n",
            "1/1 [==============================] - 0s 55ms/step - loss: 0.3088 - mse: 0.3088\n",
            "Epoch 9/10\n",
            "1/1 [==============================] - 0s 66ms/step - loss: 0.3088 - mse: 0.3088\n",
            "Epoch 10/10\n",
            "1/1 [==============================] - 0s 67ms/step - loss: 0.3088 - mse: 0.3088\n"
          ],
          "name": "stdout"
        },
        {
          "output_type": "stream",
          "text": [
            "\r 36%|███▌      | 190/529 [03:13<05:02,  1.12it/s]"
          ],
          "name": "stderr"
        },
        {
          "output_type": "stream",
          "text": [
            "Epoch 1/10\n",
            "1/1 [==============================] - 0s 67ms/step - loss: 0.3119 - mse: 0.3119\n",
            "Epoch 2/10\n",
            "1/1 [==============================] - 0s 63ms/step - loss: 0.3118 - mse: 0.3118\n",
            "Epoch 3/10\n",
            "1/1 [==============================] - 0s 68ms/step - loss: 0.3118 - mse: 0.3118\n",
            "Epoch 4/10\n",
            "1/1 [==============================] - 0s 59ms/step - loss: 0.3118 - mse: 0.3118\n",
            "Epoch 5/10\n",
            "1/1 [==============================] - 0s 64ms/step - loss: 0.3117 - mse: 0.3117\n",
            "Epoch 6/10\n",
            "1/1 [==============================] - 0s 70ms/step - loss: 0.3118 - mse: 0.3118\n",
            "Epoch 7/10\n",
            "1/1 [==============================] - 0s 60ms/step - loss: 0.3118 - mse: 0.3118\n",
            "Epoch 8/10\n",
            "1/1 [==============================] - 0s 69ms/step - loss: 0.3117 - mse: 0.3117\n",
            "Epoch 9/10\n",
            "1/1 [==============================] - 0s 65ms/step - loss: 0.3118 - mse: 0.3118\n",
            "Epoch 10/10\n",
            "1/1 [==============================] - 0s 63ms/step - loss: 0.3118 - mse: 0.3118\n"
          ],
          "name": "stdout"
        },
        {
          "output_type": "stream",
          "text": [
            "\r 36%|███▌      | 191/529 [03:14<05:02,  1.12it/s]"
          ],
          "name": "stderr"
        },
        {
          "output_type": "stream",
          "text": [
            "Epoch 1/10\n",
            "1/1 [==============================] - 0s 65ms/step - loss: 0.3281 - mse: 0.3281\n",
            "Epoch 2/10\n",
            "1/1 [==============================] - 0s 61ms/step - loss: 0.3276 - mse: 0.3276\n",
            "Epoch 3/10\n",
            "1/1 [==============================] - 0s 66ms/step - loss: 0.3277 - mse: 0.3277\n",
            "Epoch 4/10\n",
            "1/1 [==============================] - 0s 66ms/step - loss: 0.3278 - mse: 0.3278\n",
            "Epoch 5/10\n",
            "1/1 [==============================] - 0s 63ms/step - loss: 0.3275 - mse: 0.3275\n",
            "Epoch 6/10\n",
            "1/1 [==============================] - 0s 83ms/step - loss: 0.3277 - mse: 0.3277\n",
            "Epoch 7/10\n",
            "1/1 [==============================] - 0s 68ms/step - loss: 0.3277 - mse: 0.3277\n",
            "Epoch 8/10\n",
            "1/1 [==============================] - 0s 63ms/step - loss: 0.3275 - mse: 0.3275\n",
            "Epoch 9/10\n",
            "1/1 [==============================] - 0s 71ms/step - loss: 0.3276 - mse: 0.3276\n",
            "Epoch 10/10\n",
            "1/1 [==============================] - 0s 64ms/step - loss: 0.3276 - mse: 0.3276\n"
          ],
          "name": "stdout"
        },
        {
          "output_type": "stream",
          "text": [
            "\r 36%|███▋      | 192/529 [03:15<05:04,  1.11it/s]"
          ],
          "name": "stderr"
        },
        {
          "output_type": "stream",
          "text": [
            "Epoch 1/10\n",
            "1/1 [==============================] - 0s 62ms/step - loss: 0.3115 - mse: 0.3115\n",
            "Epoch 2/10\n",
            "1/1 [==============================] - 0s 61ms/step - loss: 0.3111 - mse: 0.3111\n",
            "Epoch 3/10\n",
            "1/1 [==============================] - 0s 61ms/step - loss: 0.3117 - mse: 0.3117\n",
            "Epoch 4/10\n",
            "1/1 [==============================] - 0s 63ms/step - loss: 0.3112 - mse: 0.3112\n",
            "Epoch 5/10\n",
            "1/1 [==============================] - 0s 61ms/step - loss: 0.3110 - mse: 0.3110\n",
            "Epoch 6/10\n",
            "1/1 [==============================] - 0s 59ms/step - loss: 0.3115 - mse: 0.3115\n",
            "Epoch 7/10\n",
            "1/1 [==============================] - 0s 64ms/step - loss: 0.3111 - mse: 0.3111\n",
            "Epoch 8/10\n",
            "1/1 [==============================] - 0s 72ms/step - loss: 0.3110 - mse: 0.3110\n",
            "Epoch 9/10\n",
            "1/1 [==============================] - 0s 66ms/step - loss: 0.3114 - mse: 0.3114\n",
            "Epoch 10/10\n",
            "1/1 [==============================] - 0s 60ms/step - loss: 0.3110 - mse: 0.3110\n"
          ],
          "name": "stdout"
        },
        {
          "output_type": "stream",
          "text": [
            "\r 36%|███▋      | 193/529 [03:16<05:02,  1.11it/s]"
          ],
          "name": "stderr"
        },
        {
          "output_type": "stream",
          "text": [
            "Epoch 1/10\n",
            "1/1 [==============================] - 0s 58ms/step - loss: 0.3090 - mse: 0.3090\n",
            "Epoch 2/10\n",
            "1/1 [==============================] - 0s 62ms/step - loss: 0.3092 - mse: 0.3092\n",
            "Epoch 3/10\n",
            "1/1 [==============================] - 0s 64ms/step - loss: 0.3090 - mse: 0.3090\n",
            "Epoch 4/10\n",
            "1/1 [==============================] - 0s 61ms/step - loss: 0.3090 - mse: 0.3090\n",
            "Epoch 5/10\n",
            "1/1 [==============================] - 0s 63ms/step - loss: 0.3091 - mse: 0.3091\n",
            "Epoch 6/10\n",
            "1/1 [==============================] - 0s 65ms/step - loss: 0.3089 - mse: 0.3089\n",
            "Epoch 7/10\n",
            "1/1 [==============================] - 0s 64ms/step - loss: 0.3090 - mse: 0.3090\n",
            "Epoch 8/10\n",
            "1/1 [==============================] - 0s 69ms/step - loss: 0.3091 - mse: 0.3091\n",
            "Epoch 9/10\n",
            "1/1 [==============================] - 0s 61ms/step - loss: 0.3089 - mse: 0.3089\n",
            "Epoch 10/10\n",
            "1/1 [==============================] - 0s 67ms/step - loss: 0.3089 - mse: 0.3089\n"
          ],
          "name": "stdout"
        },
        {
          "output_type": "stream",
          "text": [
            "\r 37%|███▋      | 194/529 [03:17<05:01,  1.11it/s]"
          ],
          "name": "stderr"
        },
        {
          "output_type": "stream",
          "text": [
            "Epoch 1/10\n",
            "1/1 [==============================] - 0s 59ms/step - loss: 0.3083 - mse: 0.3083\n",
            "Epoch 2/10\n",
            "1/1 [==============================] - 0s 60ms/step - loss: 0.3082 - mse: 0.3082\n",
            "Epoch 3/10\n",
            "1/1 [==============================] - 0s 62ms/step - loss: 0.3082 - mse: 0.3082\n",
            "Epoch 4/10\n",
            "1/1 [==============================] - 0s 65ms/step - loss: 0.3082 - mse: 0.3082\n",
            "Epoch 5/10\n",
            "1/1 [==============================] - 0s 66ms/step - loss: 0.3081 - mse: 0.3081\n",
            "Epoch 6/10\n",
            "1/1 [==============================] - 0s 67ms/step - loss: 0.3082 - mse: 0.3082\n",
            "Epoch 7/10\n",
            "1/1 [==============================] - 0s 66ms/step - loss: 0.3082 - mse: 0.3082\n",
            "Epoch 8/10\n",
            "1/1 [==============================] - 0s 61ms/step - loss: 0.3081 - mse: 0.3081\n",
            "Epoch 9/10\n",
            "1/1 [==============================] - 0s 62ms/step - loss: 0.3082 - mse: 0.3082\n",
            "Epoch 10/10\n",
            "1/1 [==============================] - 0s 68ms/step - loss: 0.3082 - mse: 0.3082\n"
          ],
          "name": "stdout"
        },
        {
          "output_type": "stream",
          "text": [
            "\r 37%|███▋      | 195/529 [03:18<04:59,  1.11it/s]"
          ],
          "name": "stderr"
        },
        {
          "output_type": "stream",
          "text": [
            "Epoch 1/10\n",
            "1/1 [==============================] - 0s 60ms/step - loss: 0.3109 - mse: 0.3109\n",
            "Epoch 2/10\n",
            "1/1 [==============================] - 0s 62ms/step - loss: 0.3109 - mse: 0.3109\n",
            "Epoch 3/10\n",
            "1/1 [==============================] - 0s 58ms/step - loss: 0.3109 - mse: 0.3109\n",
            "Epoch 4/10\n",
            "1/1 [==============================] - 0s 61ms/step - loss: 0.3109 - mse: 0.3109\n",
            "Epoch 5/10\n",
            "1/1 [==============================] - 0s 63ms/step - loss: 0.3109 - mse: 0.3109\n",
            "Epoch 6/10\n",
            "1/1 [==============================] - 0s 62ms/step - loss: 0.3109 - mse: 0.3109\n",
            "Epoch 7/10\n",
            "1/1 [==============================] - 0s 68ms/step - loss: 0.3109 - mse: 0.3109\n",
            "Epoch 8/10\n",
            "1/1 [==============================] - 0s 59ms/step - loss: 0.3109 - mse: 0.3109\n",
            "Epoch 9/10\n",
            "1/1 [==============================] - 0s 67ms/step - loss: 0.3109 - mse: 0.3109\n",
            "Epoch 10/10\n",
            "1/1 [==============================] - 0s 68ms/step - loss: 0.3109 - mse: 0.3109\n"
          ],
          "name": "stdout"
        },
        {
          "output_type": "stream",
          "text": [
            "\r 37%|███▋      | 196/529 [03:19<04:59,  1.11it/s]"
          ],
          "name": "stderr"
        },
        {
          "output_type": "stream",
          "text": [
            "Epoch 1/10\n",
            "1/1 [==============================] - 0s 63ms/step - loss: 0.3035 - mse: 0.3035\n",
            "Epoch 2/10\n",
            "1/1 [==============================] - 0s 59ms/step - loss: 0.3033 - mse: 0.3033\n",
            "Epoch 3/10\n",
            "1/1 [==============================] - 0s 65ms/step - loss: 0.3034 - mse: 0.3034\n",
            "Epoch 4/10\n",
            "1/1 [==============================] - 0s 61ms/step - loss: 0.3034 - mse: 0.3034\n",
            "Epoch 5/10\n",
            "1/1 [==============================] - 0s 62ms/step - loss: 0.3033 - mse: 0.3033\n",
            "Epoch 6/10\n",
            "1/1 [==============================] - 0s 66ms/step - loss: 0.3034 - mse: 0.3034\n",
            "Epoch 7/10\n",
            "1/1 [==============================] - 0s 71ms/step - loss: 0.3034 - mse: 0.3034\n",
            "Epoch 8/10\n",
            "1/1 [==============================] - 0s 63ms/step - loss: 0.3033 - mse: 0.3033\n",
            "Epoch 9/10\n",
            "1/1 [==============================] - 0s 67ms/step - loss: 0.3033 - mse: 0.3033\n",
            "Epoch 10/10\n",
            "1/1 [==============================] - 0s 65ms/step - loss: 0.3034 - mse: 0.3034\n"
          ],
          "name": "stdout"
        },
        {
          "output_type": "stream",
          "text": [
            "\r 37%|███▋      | 197/529 [03:19<04:58,  1.11it/s]"
          ],
          "name": "stderr"
        },
        {
          "output_type": "stream",
          "text": [
            "Epoch 1/10\n",
            "1/1 [==============================] - 0s 64ms/step - loss: 0.3082 - mse: 0.3082\n",
            "Epoch 2/10\n",
            "1/1 [==============================] - 0s 63ms/step - loss: 0.3081 - mse: 0.3081\n",
            "Epoch 3/10\n",
            "1/1 [==============================] - 0s 61ms/step - loss: 0.3082 - mse: 0.3082\n",
            "Epoch 4/10\n",
            "1/1 [==============================] - 0s 62ms/step - loss: 0.3081 - mse: 0.3081\n",
            "Epoch 5/10\n",
            "1/1 [==============================] - 0s 65ms/step - loss: 0.3081 - mse: 0.3081\n",
            "Epoch 6/10\n",
            "1/1 [==============================] - 0s 62ms/step - loss: 0.3082 - mse: 0.3082\n",
            "Epoch 7/10\n",
            "1/1 [==============================] - 0s 66ms/step - loss: 0.3081 - mse: 0.3081\n",
            "Epoch 8/10\n",
            "1/1 [==============================] - 0s 62ms/step - loss: 0.3081 - mse: 0.3081\n",
            "Epoch 9/10\n",
            "1/1 [==============================] - 0s 64ms/step - loss: 0.3082 - mse: 0.3082\n",
            "Epoch 10/10\n",
            "1/1 [==============================] - 0s 64ms/step - loss: 0.3081 - mse: 0.3081\n"
          ],
          "name": "stdout"
        },
        {
          "output_type": "stream",
          "text": [
            "\r 37%|███▋      | 198/529 [03:20<04:55,  1.12it/s]"
          ],
          "name": "stderr"
        },
        {
          "output_type": "stream",
          "text": [
            "Epoch 1/10\n",
            "1/1 [==============================] - 0s 61ms/step - loss: 0.3034 - mse: 0.3034\n",
            "Epoch 2/10\n",
            "1/1 [==============================] - 0s 63ms/step - loss: 0.3034 - mse: 0.3034\n",
            "Epoch 3/10\n",
            "1/1 [==============================] - 0s 61ms/step - loss: 0.3034 - mse: 0.3034\n",
            "Epoch 4/10\n",
            "1/1 [==============================] - 0s 65ms/step - loss: 0.3034 - mse: 0.3034\n",
            "Epoch 5/10\n",
            "1/1 [==============================] - 0s 68ms/step - loss: 0.3034 - mse: 0.3034\n",
            "Epoch 6/10\n",
            "1/1 [==============================] - 0s 62ms/step - loss: 0.3034 - mse: 0.3034\n",
            "Epoch 7/10\n",
            "1/1 [==============================] - 0s 67ms/step - loss: 0.3034 - mse: 0.3034\n",
            "Epoch 8/10\n",
            "1/1 [==============================] - 0s 63ms/step - loss: 0.3034 - mse: 0.3034\n",
            "Epoch 9/10\n",
            "1/1 [==============================] - 0s 63ms/step - loss: 0.3034 - mse: 0.3034\n",
            "Epoch 10/10\n",
            "1/1 [==============================] - 0s 63ms/step - loss: 0.3034 - mse: 0.3034\n"
          ],
          "name": "stdout"
        },
        {
          "output_type": "stream",
          "text": [
            "\r 38%|███▊      | 199/529 [03:21<04:54,  1.12it/s]"
          ],
          "name": "stderr"
        },
        {
          "output_type": "stream",
          "text": [
            "Epoch 1/10\n",
            "1/1 [==============================] - 0s 68ms/step - loss: 0.3067 - mse: 0.3067\n",
            "Epoch 2/10\n",
            "1/1 [==============================] - 0s 58ms/step - loss: 0.3067 - mse: 0.3067\n",
            "Epoch 3/10\n",
            "1/1 [==============================] - 0s 62ms/step - loss: 0.3066 - mse: 0.3066\n",
            "Epoch 4/10\n",
            "1/1 [==============================] - 0s 68ms/step - loss: 0.3066 - mse: 0.3066\n",
            "Epoch 5/10\n",
            "1/1 [==============================] - 0s 57ms/step - loss: 0.3066 - mse: 0.3066\n",
            "Epoch 6/10\n",
            "1/1 [==============================] - 0s 66ms/step - loss: 0.3066 - mse: 0.3066\n",
            "Epoch 7/10\n",
            "1/1 [==============================] - 0s 68ms/step - loss: 0.3066 - mse: 0.3066\n",
            "Epoch 8/10\n",
            "1/1 [==============================] - 0s 66ms/step - loss: 0.3066 - mse: 0.3066\n",
            "Epoch 9/10\n",
            "1/1 [==============================] - 0s 64ms/step - loss: 0.3066 - mse: 0.3066\n",
            "Epoch 10/10\n",
            "1/1 [==============================] - 0s 59ms/step - loss: 0.3066 - mse: 0.3066\n"
          ],
          "name": "stdout"
        },
        {
          "output_type": "stream",
          "text": [
            "\r 38%|███▊      | 200/529 [03:22<04:54,  1.12it/s]"
          ],
          "name": "stderr"
        },
        {
          "output_type": "stream",
          "text": [
            "Epoch 1/10\n",
            "1/1 [==============================] - 0s 63ms/step - loss: 0.3083 - mse: 0.3083\n",
            "Epoch 2/10\n",
            "1/1 [==============================] - 0s 66ms/step - loss: 0.3083 - mse: 0.3083\n",
            "Epoch 3/10\n",
            "1/1 [==============================] - 0s 61ms/step - loss: 0.3083 - mse: 0.3083\n",
            "Epoch 4/10\n",
            "1/1 [==============================] - 0s 60ms/step - loss: 0.3083 - mse: 0.3083\n",
            "Epoch 5/10\n",
            "1/1 [==============================] - 0s 63ms/step - loss: 0.3083 - mse: 0.3083\n",
            "Epoch 6/10\n",
            "1/1 [==============================] - 0s 60ms/step - loss: 0.3083 - mse: 0.3083\n",
            "Epoch 7/10\n",
            "1/1 [==============================] - 0s 61ms/step - loss: 0.3083 - mse: 0.3083\n",
            "Epoch 8/10\n",
            "1/1 [==============================] - 0s 67ms/step - loss: 0.3083 - mse: 0.3083\n",
            "Epoch 9/10\n",
            "1/1 [==============================] - 0s 67ms/step - loss: 0.3083 - mse: 0.3083\n",
            "Epoch 10/10\n",
            "1/1 [==============================] - 0s 65ms/step - loss: 0.3083 - mse: 0.3083\n"
          ],
          "name": "stdout"
        },
        {
          "output_type": "stream",
          "text": [
            "\r 38%|███▊      | 201/529 [03:23<04:52,  1.12it/s]"
          ],
          "name": "stderr"
        },
        {
          "output_type": "stream",
          "text": [
            "Epoch 1/10\n",
            "1/1 [==============================] - 0s 66ms/step - loss: 0.3107 - mse: 0.3107\n",
            "Epoch 2/10\n",
            "1/1 [==============================] - 0s 62ms/step - loss: 0.3107 - mse: 0.3107\n",
            "Epoch 3/10\n",
            "1/1 [==============================] - 0s 61ms/step - loss: 0.3107 - mse: 0.3107\n",
            "Epoch 4/10\n",
            "1/1 [==============================] - 0s 62ms/step - loss: 0.3107 - mse: 0.3107\n",
            "Epoch 5/10\n",
            "1/1 [==============================] - 0s 66ms/step - loss: 0.3107 - mse: 0.3107\n",
            "Epoch 6/10\n",
            "1/1 [==============================] - 0s 68ms/step - loss: 0.3107 - mse: 0.3107\n",
            "Epoch 7/10\n",
            "1/1 [==============================] - 0s 60ms/step - loss: 0.3107 - mse: 0.3107\n",
            "Epoch 8/10\n",
            "1/1 [==============================] - 0s 62ms/step - loss: 0.3107 - mse: 0.3107\n",
            "Epoch 9/10\n",
            "1/1 [==============================] - 0s 65ms/step - loss: 0.3107 - mse: 0.3107\n",
            "Epoch 10/10\n",
            "1/1 [==============================] - 0s 67ms/step - loss: 0.3107 - mse: 0.3107\n"
          ],
          "name": "stdout"
        },
        {
          "output_type": "stream",
          "text": [
            "\r 38%|███▊      | 202/529 [03:24<04:50,  1.12it/s]"
          ],
          "name": "stderr"
        },
        {
          "output_type": "stream",
          "text": [
            "Epoch 1/10\n",
            "1/1 [==============================] - 0s 61ms/step - loss: 0.3069 - mse: 0.3069\n",
            "Epoch 2/10\n",
            "1/1 [==============================] - 0s 68ms/step - loss: 0.3069 - mse: 0.3069\n",
            "Epoch 3/10\n",
            "1/1 [==============================] - 0s 60ms/step - loss: 0.3069 - mse: 0.3069\n",
            "Epoch 4/10\n",
            "1/1 [==============================] - 0s 71ms/step - loss: 0.3069 - mse: 0.3069\n",
            "Epoch 5/10\n",
            "1/1 [==============================] - 0s 63ms/step - loss: 0.3069 - mse: 0.3069\n",
            "Epoch 6/10\n",
            "1/1 [==============================] - 0s 66ms/step - loss: 0.3069 - mse: 0.3069\n",
            "Epoch 7/10\n",
            "1/1 [==============================] - 0s 62ms/step - loss: 0.3069 - mse: 0.3069\n",
            "Epoch 8/10\n",
            "1/1 [==============================] - 0s 65ms/step - loss: 0.3069 - mse: 0.3069\n",
            "Epoch 9/10\n",
            "1/1 [==============================] - 0s 63ms/step - loss: 0.3069 - mse: 0.3069\n",
            "Epoch 10/10\n",
            "1/1 [==============================] - 0s 65ms/step - loss: 0.3069 - mse: 0.3069\n"
          ],
          "name": "stdout"
        },
        {
          "output_type": "stream",
          "text": [
            "\r 38%|███▊      | 203/529 [03:25<04:51,  1.12it/s]"
          ],
          "name": "stderr"
        },
        {
          "output_type": "stream",
          "text": [
            "Epoch 1/10\n",
            "1/1 [==============================] - 0s 78ms/step - loss: 0.3054 - mse: 0.3054\n",
            "Epoch 2/10\n",
            "1/1 [==============================] - 0s 61ms/step - loss: 0.3053 - mse: 0.3053\n",
            "Epoch 3/10\n",
            "1/1 [==============================] - 0s 61ms/step - loss: 0.3053 - mse: 0.3053\n",
            "Epoch 4/10\n",
            "1/1 [==============================] - 0s 64ms/step - loss: 0.3053 - mse: 0.3053\n",
            "Epoch 5/10\n",
            "1/1 [==============================] - 0s 63ms/step - loss: 0.3053 - mse: 0.3053\n",
            "Epoch 6/10\n",
            "1/1 [==============================] - 0s 64ms/step - loss: 0.3053 - mse: 0.3053\n",
            "Epoch 7/10\n",
            "1/1 [==============================] - 0s 64ms/step - loss: 0.3053 - mse: 0.3053\n",
            "Epoch 8/10\n",
            "1/1 [==============================] - 0s 57ms/step - loss: 0.3053 - mse: 0.3053\n",
            "Epoch 9/10\n",
            "1/1 [==============================] - 0s 61ms/step - loss: 0.3053 - mse: 0.3053\n",
            "Epoch 10/10\n",
            "1/1 [==============================] - 0s 65ms/step - loss: 0.3053 - mse: 0.3053\n"
          ],
          "name": "stdout"
        },
        {
          "output_type": "stream",
          "text": [
            "\r 39%|███▊      | 204/529 [03:26<04:51,  1.11it/s]"
          ],
          "name": "stderr"
        },
        {
          "output_type": "stream",
          "text": [
            "Epoch 1/10\n",
            "1/1 [==============================] - 0s 63ms/step - loss: 0.3087 - mse: 0.3087\n",
            "Epoch 2/10\n",
            "1/1 [==============================] - 0s 65ms/step - loss: 0.3086 - mse: 0.3086\n",
            "Epoch 3/10\n",
            "1/1 [==============================] - 0s 61ms/step - loss: 0.3087 - mse: 0.3087\n",
            "Epoch 4/10\n",
            "1/1 [==============================] - 0s 68ms/step - loss: 0.3087 - mse: 0.3087\n",
            "Epoch 5/10\n",
            "1/1 [==============================] - 0s 67ms/step - loss: 0.3086 - mse: 0.3086\n",
            "Epoch 6/10\n",
            "1/1 [==============================] - 0s 65ms/step - loss: 0.3087 - mse: 0.3087\n",
            "Epoch 7/10\n",
            "1/1 [==============================] - 0s 65ms/step - loss: 0.3087 - mse: 0.3087\n",
            "Epoch 8/10\n",
            "1/1 [==============================] - 0s 60ms/step - loss: 0.3086 - mse: 0.3086\n",
            "Epoch 9/10\n",
            "1/1 [==============================] - 0s 63ms/step - loss: 0.3087 - mse: 0.3087\n",
            "Epoch 10/10\n",
            "1/1 [==============================] - 0s 61ms/step - loss: 0.3087 - mse: 0.3087\n"
          ],
          "name": "stdout"
        },
        {
          "output_type": "stream",
          "text": [
            "\r 39%|███▉      | 205/529 [03:27<04:49,  1.12it/s]"
          ],
          "name": "stderr"
        },
        {
          "output_type": "stream",
          "text": [
            "Epoch 1/10\n",
            "1/1 [==============================] - 0s 62ms/step - loss: 0.3067 - mse: 0.3067\n",
            "Epoch 2/10\n",
            "1/1 [==============================] - 0s 65ms/step - loss: 0.3067 - mse: 0.3067\n",
            "Epoch 3/10\n",
            "1/1 [==============================] - 0s 60ms/step - loss: 0.3067 - mse: 0.3067\n",
            "Epoch 4/10\n",
            "1/1 [==============================] - 0s 66ms/step - loss: 0.3067 - mse: 0.3067\n",
            "Epoch 5/10\n",
            "1/1 [==============================] - 0s 63ms/step - loss: 0.3067 - mse: 0.3067\n",
            "Epoch 6/10\n",
            "1/1 [==============================] - 0s 77ms/step - loss: 0.3067 - mse: 0.3067\n",
            "Epoch 7/10\n",
            "1/1 [==============================] - 0s 60ms/step - loss: 0.3067 - mse: 0.3067\n",
            "Epoch 8/10\n",
            "1/1 [==============================] - 0s 69ms/step - loss: 0.3067 - mse: 0.3067\n",
            "Epoch 9/10\n",
            "1/1 [==============================] - 0s 68ms/step - loss: 0.3067 - mse: 0.3067\n",
            "Epoch 10/10\n",
            "1/1 [==============================] - 0s 66ms/step - loss: 0.3067 - mse: 0.3067\n"
          ],
          "name": "stdout"
        },
        {
          "output_type": "stream",
          "text": [
            "\r 39%|███▉      | 206/529 [03:28<04:52,  1.11it/s]"
          ],
          "name": "stderr"
        },
        {
          "output_type": "stream",
          "text": [
            "Epoch 1/10\n",
            "1/1 [==============================] - 0s 63ms/step - loss: 0.3130 - mse: 0.3130\n",
            "Epoch 2/10\n",
            "1/1 [==============================] - 0s 62ms/step - loss: 0.3130 - mse: 0.3130\n",
            "Epoch 3/10\n",
            "1/1 [==============================] - 0s 63ms/step - loss: 0.3130 - mse: 0.3130\n",
            "Epoch 4/10\n",
            "1/1 [==============================] - 0s 65ms/step - loss: 0.3129 - mse: 0.3129\n",
            "Epoch 5/10\n",
            "1/1 [==============================] - 0s 63ms/step - loss: 0.3130 - mse: 0.3130\n",
            "Epoch 6/10\n",
            "1/1 [==============================] - 0s 74ms/step - loss: 0.3130 - mse: 0.3130\n",
            "Epoch 7/10\n",
            "1/1 [==============================] - 0s 65ms/step - loss: 0.3130 - mse: 0.3130\n",
            "Epoch 8/10\n",
            "1/1 [==============================] - 0s 62ms/step - loss: 0.3130 - mse: 0.3130\n",
            "Epoch 9/10\n",
            "1/1 [==============================] - 0s 66ms/step - loss: 0.3130 - mse: 0.3130\n",
            "Epoch 10/10\n",
            "1/1 [==============================] - 0s 63ms/step - loss: 0.3130 - mse: 0.3130\n"
          ],
          "name": "stdout"
        },
        {
          "output_type": "stream",
          "text": [
            "\r 39%|███▉      | 207/529 [03:28<04:52,  1.10it/s]"
          ],
          "name": "stderr"
        },
        {
          "output_type": "stream",
          "text": [
            "Epoch 1/10\n",
            "1/1 [==============================] - 0s 60ms/step - loss: 0.3070 - mse: 0.3070\n",
            "Epoch 2/10\n",
            "1/1 [==============================] - 0s 62ms/step - loss: 0.3069 - mse: 0.3069\n",
            "Epoch 3/10\n",
            "1/1 [==============================] - 0s 67ms/step - loss: 0.3069 - mse: 0.3069\n",
            "Epoch 4/10\n",
            "1/1 [==============================] - 0s 70ms/step - loss: 0.3069 - mse: 0.3069\n",
            "Epoch 5/10\n",
            "1/1 [==============================] - 0s 63ms/step - loss: 0.3069 - mse: 0.3069\n",
            "Epoch 6/10\n",
            "1/1 [==============================] - 0s 62ms/step - loss: 0.3069 - mse: 0.3069\n",
            "Epoch 7/10\n",
            "1/1 [==============================] - 0s 60ms/step - loss: 0.3069 - mse: 0.3069\n",
            "Epoch 8/10\n",
            "1/1 [==============================] - 0s 66ms/step - loss: 0.3069 - mse: 0.3069\n",
            "Epoch 9/10\n",
            "1/1 [==============================] - 0s 63ms/step - loss: 0.3069 - mse: 0.3069\n",
            "Epoch 10/10\n",
            "1/1 [==============================] - 0s 61ms/step - loss: 0.3069 - mse: 0.3069\n"
          ],
          "name": "stdout"
        },
        {
          "output_type": "stream",
          "text": [
            "\r 39%|███▉      | 208/529 [03:29<04:49,  1.11it/s]"
          ],
          "name": "stderr"
        },
        {
          "output_type": "stream",
          "text": [
            "Epoch 1/10\n",
            "1/1 [==============================] - 0s 63ms/step - loss: 0.3052 - mse: 0.3052\n",
            "Epoch 2/10\n",
            "1/1 [==============================] - 0s 62ms/step - loss: 0.3052 - mse: 0.3052\n",
            "Epoch 3/10\n",
            "1/1 [==============================] - 0s 59ms/step - loss: 0.3052 - mse: 0.3052\n",
            "Epoch 4/10\n",
            "1/1 [==============================] - 0s 62ms/step - loss: 0.3052 - mse: 0.3052\n",
            "Epoch 5/10\n",
            "1/1 [==============================] - 0s 65ms/step - loss: 0.3052 - mse: 0.3052\n",
            "Epoch 6/10\n",
            "1/1 [==============================] - 0s 75ms/step - loss: 0.3052 - mse: 0.3052\n",
            "Epoch 7/10\n",
            "1/1 [==============================] - 0s 64ms/step - loss: 0.3052 - mse: 0.3052\n",
            "Epoch 8/10\n",
            "1/1 [==============================] - 0s 71ms/step - loss: 0.3052 - mse: 0.3052\n",
            "Epoch 9/10\n",
            "1/1 [==============================] - 0s 64ms/step - loss: 0.3052 - mse: 0.3052\n",
            "Epoch 10/10\n",
            "1/1 [==============================] - 0s 67ms/step - loss: 0.3052 - mse: 0.3052\n"
          ],
          "name": "stdout"
        },
        {
          "output_type": "stream",
          "text": [
            "\r 40%|███▉      | 209/529 [03:30<04:50,  1.10it/s]"
          ],
          "name": "stderr"
        },
        {
          "output_type": "stream",
          "text": [
            "Epoch 1/10\n",
            "1/1 [==============================] - 0s 66ms/step - loss: 0.3115 - mse: 0.3115\n",
            "Epoch 2/10\n",
            "1/1 [==============================] - 0s 58ms/step - loss: 0.3114 - mse: 0.3114\n",
            "Epoch 3/10\n",
            "1/1 [==============================] - 0s 64ms/step - loss: 0.3115 - mse: 0.3115\n",
            "Epoch 4/10\n",
            "1/1 [==============================] - 0s 62ms/step - loss: 0.3114 - mse: 0.3114\n",
            "Epoch 5/10\n",
            "1/1 [==============================] - 0s 64ms/step - loss: 0.3114 - mse: 0.3114\n",
            "Epoch 6/10\n",
            "1/1 [==============================] - 0s 63ms/step - loss: 0.3115 - mse: 0.3115\n",
            "Epoch 7/10\n",
            "1/1 [==============================] - 0s 62ms/step - loss: 0.3114 - mse: 0.3114\n",
            "Epoch 8/10\n",
            "1/1 [==============================] - 0s 67ms/step - loss: 0.3114 - mse: 0.3114\n",
            "Epoch 9/10\n",
            "1/1 [==============================] - 0s 60ms/step - loss: 0.3114 - mse: 0.3114\n",
            "Epoch 10/10\n",
            "1/1 [==============================] - 0s 70ms/step - loss: 0.3114 - mse: 0.3114\n"
          ],
          "name": "stdout"
        },
        {
          "output_type": "stream",
          "text": [
            "\r 40%|███▉      | 210/529 [03:31<04:48,  1.11it/s]"
          ],
          "name": "stderr"
        },
        {
          "output_type": "stream",
          "text": [
            "Epoch 1/10\n",
            "1/1 [==============================] - 0s 58ms/step - loss: 0.3111 - mse: 0.3111\n",
            "Epoch 2/10\n",
            "1/1 [==============================] - 0s 63ms/step - loss: 0.3111 - mse: 0.3111\n",
            "Epoch 3/10\n",
            "1/1 [==============================] - 0s 60ms/step - loss: 0.3111 - mse: 0.3111\n",
            "Epoch 4/10\n",
            "1/1 [==============================] - 0s 61ms/step - loss: 0.3111 - mse: 0.3111\n",
            "Epoch 5/10\n",
            "1/1 [==============================] - 0s 66ms/step - loss: 0.3111 - mse: 0.3111\n",
            "Epoch 6/10\n",
            "1/1 [==============================] - 0s 63ms/step - loss: 0.3111 - mse: 0.3111\n",
            "Epoch 7/10\n",
            "1/1 [==============================] - 0s 62ms/step - loss: 0.3111 - mse: 0.3111\n",
            "Epoch 8/10\n",
            "1/1 [==============================] - 0s 69ms/step - loss: 0.3111 - mse: 0.3111\n",
            "Epoch 9/10\n",
            "1/1 [==============================] - 0s 66ms/step - loss: 0.3111 - mse: 0.3111\n",
            "Epoch 10/10\n",
            "1/1 [==============================] - 0s 61ms/step - loss: 0.3111 - mse: 0.3111\n"
          ],
          "name": "stdout"
        },
        {
          "output_type": "stream",
          "text": [
            "\r 40%|███▉      | 211/529 [03:32<04:46,  1.11it/s]"
          ],
          "name": "stderr"
        },
        {
          "output_type": "stream",
          "text": [
            "Epoch 1/10\n",
            "1/1 [==============================] - 0s 71ms/step - loss: 0.3077 - mse: 0.3077\n",
            "Epoch 2/10\n",
            "1/1 [==============================] - 0s 60ms/step - loss: 0.3077 - mse: 0.3077\n",
            "Epoch 3/10\n",
            "1/1 [==============================] - 0s 60ms/step - loss: 0.3077 - mse: 0.3077\n",
            "Epoch 4/10\n",
            "1/1 [==============================] - 0s 65ms/step - loss: 0.3077 - mse: 0.3077\n",
            "Epoch 5/10\n",
            "1/1 [==============================] - 0s 62ms/step - loss: 0.3077 - mse: 0.3077\n",
            "Epoch 6/10\n",
            "1/1 [==============================] - 0s 68ms/step - loss: 0.3077 - mse: 0.3077\n",
            "Epoch 7/10\n",
            "1/1 [==============================] - 0s 66ms/step - loss: 0.3077 - mse: 0.3077\n",
            "Epoch 8/10\n",
            "1/1 [==============================] - 0s 67ms/step - loss: 0.3077 - mse: 0.3077\n",
            "Epoch 9/10\n",
            "1/1 [==============================] - 0s 64ms/step - loss: 0.3077 - mse: 0.3077\n",
            "Epoch 10/10\n",
            "1/1 [==============================] - 0s 63ms/step - loss: 0.3077 - mse: 0.3077\n"
          ],
          "name": "stdout"
        },
        {
          "output_type": "stream",
          "text": [
            "\r 40%|████      | 212/529 [03:33<04:45,  1.11it/s]"
          ],
          "name": "stderr"
        },
        {
          "output_type": "stream",
          "text": [
            "Epoch 1/10\n",
            "1/1 [==============================] - 0s 65ms/step - loss: 0.3088 - mse: 0.3088\n",
            "Epoch 2/10\n",
            "1/1 [==============================] - 0s 60ms/step - loss: 0.3088 - mse: 0.3088\n",
            "Epoch 3/10\n",
            "1/1 [==============================] - 0s 62ms/step - loss: 0.3088 - mse: 0.3088\n",
            "Epoch 4/10\n",
            "1/1 [==============================] - 0s 63ms/step - loss: 0.3088 - mse: 0.3088\n",
            "Epoch 5/10\n",
            "1/1 [==============================] - 0s 63ms/step - loss: 0.3088 - mse: 0.3088\n",
            "Epoch 6/10\n",
            "1/1 [==============================] - 0s 69ms/step - loss: 0.3088 - mse: 0.3088\n",
            "Epoch 7/10\n",
            "1/1 [==============================] - 0s 71ms/step - loss: 0.3088 - mse: 0.3088\n",
            "Epoch 8/10\n",
            "1/1 [==============================] - 0s 72ms/step - loss: 0.3088 - mse: 0.3088\n",
            "Epoch 9/10\n",
            "1/1 [==============================] - 0s 71ms/step - loss: 0.3088 - mse: 0.3088\n",
            "Epoch 10/10\n",
            "1/1 [==============================] - 0s 67ms/step - loss: 0.3088 - mse: 0.3088\n"
          ],
          "name": "stdout"
        },
        {
          "output_type": "stream",
          "text": [
            "\r 40%|████      | 213/529 [03:34<04:46,  1.10it/s]"
          ],
          "name": "stderr"
        },
        {
          "output_type": "stream",
          "text": [
            "Epoch 1/10\n",
            "1/1 [==============================] - 0s 71ms/step - loss: 0.3159 - mse: 0.3159\n",
            "Epoch 2/10\n",
            "1/1 [==============================] - 0s 60ms/step - loss: 0.3158 - mse: 0.3158\n",
            "Epoch 3/10\n",
            "1/1 [==============================] - 0s 68ms/step - loss: 0.3158 - mse: 0.3158\n",
            "Epoch 4/10\n",
            "1/1 [==============================] - 0s 61ms/step - loss: 0.3158 - mse: 0.3158\n",
            "Epoch 5/10\n",
            "1/1 [==============================] - 0s 68ms/step - loss: 0.3157 - mse: 0.3157\n",
            "Epoch 6/10\n",
            "1/1 [==============================] - 0s 68ms/step - loss: 0.3158 - mse: 0.3158\n",
            "Epoch 7/10\n",
            "1/1 [==============================] - 0s 63ms/step - loss: 0.3158 - mse: 0.3158\n",
            "Epoch 8/10\n",
            "1/1 [==============================] - 0s 63ms/step - loss: 0.3158 - mse: 0.3158\n",
            "Epoch 9/10\n",
            "1/1 [==============================] - 0s 68ms/step - loss: 0.3158 - mse: 0.3158\n",
            "Epoch 10/10\n",
            "1/1 [==============================] - 0s 63ms/step - loss: 0.3158 - mse: 0.3158\n"
          ],
          "name": "stdout"
        },
        {
          "output_type": "stream",
          "text": [
            "\r 40%|████      | 214/529 [03:35<04:46,  1.10it/s]"
          ],
          "name": "stderr"
        },
        {
          "output_type": "stream",
          "text": [
            "Epoch 1/10\n",
            "1/1 [==============================] - 0s 64ms/step - loss: 0.3143 - mse: 0.3143\n",
            "Epoch 2/10\n",
            "1/1 [==============================] - 0s 68ms/step - loss: 0.3143 - mse: 0.3143\n",
            "Epoch 3/10\n",
            "1/1 [==============================] - 0s 75ms/step - loss: 0.3143 - mse: 0.3143\n",
            "Epoch 4/10\n",
            "1/1 [==============================] - 0s 74ms/step - loss: 0.3142 - mse: 0.3142\n",
            "Epoch 5/10\n",
            "1/1 [==============================] - 0s 70ms/step - loss: 0.3143 - mse: 0.3143\n",
            "Epoch 6/10\n",
            "1/1 [==============================] - 0s 72ms/step - loss: 0.3142 - mse: 0.3142\n",
            "Epoch 7/10\n",
            "1/1 [==============================] - 0s 78ms/step - loss: 0.3143 - mse: 0.3143\n",
            "Epoch 8/10\n",
            "1/1 [==============================] - 0s 65ms/step - loss: 0.3143 - mse: 0.3143\n",
            "Epoch 9/10\n",
            "1/1 [==============================] - 0s 67ms/step - loss: 0.3142 - mse: 0.3142\n",
            "Epoch 10/10\n",
            "1/1 [==============================] - 0s 69ms/step - loss: 0.3143 - mse: 0.3143\n"
          ],
          "name": "stdout"
        },
        {
          "output_type": "stream",
          "text": [
            "\r 41%|████      | 215/529 [03:36<04:49,  1.09it/s]"
          ],
          "name": "stderr"
        },
        {
          "output_type": "stream",
          "text": [
            "Epoch 1/10\n",
            "1/1 [==============================] - 0s 64ms/step - loss: 0.3032 - mse: 0.3032\n",
            "Epoch 2/10\n",
            "1/1 [==============================] - 0s 59ms/step - loss: 0.3027 - mse: 0.3027\n",
            "Epoch 3/10\n",
            "1/1 [==============================] - 0s 62ms/step - loss: 0.3031 - mse: 0.3031\n",
            "Epoch 4/10\n",
            "1/1 [==============================] - 0s 75ms/step - loss: 0.3030 - mse: 0.3030\n",
            "Epoch 5/10\n",
            "1/1 [==============================] - 0s 59ms/step - loss: 0.3027 - mse: 0.3027\n",
            "Epoch 6/10\n",
            "1/1 [==============================] - 0s 60ms/step - loss: 0.3030 - mse: 0.3030\n",
            "Epoch 7/10\n",
            "1/1 [==============================] - 0s 68ms/step - loss: 0.3029 - mse: 0.3029\n",
            "Epoch 8/10\n",
            "1/1 [==============================] - 0s 63ms/step - loss: 0.3028 - mse: 0.3028\n",
            "Epoch 9/10\n",
            "1/1 [==============================] - 0s 65ms/step - loss: 0.3029 - mse: 0.3029\n",
            "Epoch 10/10\n",
            "1/1 [==============================] - 0s 70ms/step - loss: 0.3028 - mse: 0.3028\n"
          ],
          "name": "stdout"
        },
        {
          "output_type": "stream",
          "text": [
            "\r 41%|████      | 216/529 [03:37<04:49,  1.08it/s]"
          ],
          "name": "stderr"
        },
        {
          "output_type": "stream",
          "text": [
            "Epoch 1/10\n",
            "1/1 [==============================] - 0s 70ms/step - loss: 0.3082 - mse: 0.3082\n",
            "Epoch 2/10\n",
            "1/1 [==============================] - 0s 65ms/step - loss: 0.3083 - mse: 0.3083\n",
            "Epoch 3/10\n",
            "1/1 [==============================] - 0s 63ms/step - loss: 0.3083 - mse: 0.3083\n",
            "Epoch 4/10\n",
            "1/1 [==============================] - 0s 67ms/step - loss: 0.3081 - mse: 0.3081\n",
            "Epoch 5/10\n",
            "1/1 [==============================] - 0s 65ms/step - loss: 0.3083 - mse: 0.3083\n",
            "Epoch 6/10\n",
            "1/1 [==============================] - 0s 64ms/step - loss: 0.3082 - mse: 0.3082\n",
            "Epoch 7/10\n",
            "1/1 [==============================] - 0s 69ms/step - loss: 0.3081 - mse: 0.3081\n",
            "Epoch 8/10\n",
            "1/1 [==============================] - 0s 63ms/step - loss: 0.3083 - mse: 0.3083\n",
            "Epoch 9/10\n",
            "1/1 [==============================] - 0s 65ms/step - loss: 0.3082 - mse: 0.3082\n",
            "Epoch 10/10\n",
            "1/1 [==============================] - 0s 64ms/step - loss: 0.3081 - mse: 0.3081\n"
          ],
          "name": "stdout"
        },
        {
          "output_type": "stream",
          "text": [
            "\r 41%|████      | 217/529 [03:38<04:47,  1.08it/s]"
          ],
          "name": "stderr"
        },
        {
          "output_type": "stream",
          "text": [
            "Epoch 1/10\n",
            "1/1 [==============================] - 0s 70ms/step - loss: 0.3075 - mse: 0.3075\n",
            "Epoch 2/10\n",
            "1/1 [==============================] - 0s 60ms/step - loss: 0.3074 - mse: 0.3074\n",
            "Epoch 3/10\n",
            "1/1 [==============================] - 0s 57ms/step - loss: 0.3074 - mse: 0.3074\n",
            "Epoch 4/10\n",
            "1/1 [==============================] - 0s 59ms/step - loss: 0.3074 - mse: 0.3074\n",
            "Epoch 5/10\n",
            "1/1 [==============================] - 0s 64ms/step - loss: 0.3074 - mse: 0.3074\n",
            "Epoch 6/10\n",
            "1/1 [==============================] - 0s 68ms/step - loss: 0.3074 - mse: 0.3074\n",
            "Epoch 7/10\n",
            "1/1 [==============================] - 0s 64ms/step - loss: 0.3074 - mse: 0.3074\n",
            "Epoch 8/10\n",
            "1/1 [==============================] - 0s 73ms/step - loss: 0.3074 - mse: 0.3074\n",
            "Epoch 9/10\n",
            "1/1 [==============================] - 0s 63ms/step - loss: 0.3074 - mse: 0.3074\n",
            "Epoch 10/10\n",
            "1/1 [==============================] - 0s 65ms/step - loss: 0.3074 - mse: 0.3074\n"
          ],
          "name": "stdout"
        },
        {
          "output_type": "stream",
          "text": [
            "\r 41%|████      | 218/529 [03:39<04:45,  1.09it/s]"
          ],
          "name": "stderr"
        },
        {
          "output_type": "stream",
          "text": [
            "Epoch 1/10\n",
            "1/1 [==============================] - 0s 69ms/step - loss: 0.3084 - mse: 0.3084\n",
            "Epoch 2/10\n",
            "1/1 [==============================] - 0s 58ms/step - loss: 0.3084 - mse: 0.3084\n",
            "Epoch 3/10\n",
            "1/1 [==============================] - 0s 57ms/step - loss: 0.3084 - mse: 0.3084\n",
            "Epoch 4/10\n",
            "1/1 [==============================] - 0s 67ms/step - loss: 0.3084 - mse: 0.3084\n",
            "Epoch 5/10\n",
            "1/1 [==============================] - 0s 68ms/step - loss: 0.3084 - mse: 0.3084\n",
            "Epoch 6/10\n",
            "1/1 [==============================] - 0s 66ms/step - loss: 0.3084 - mse: 0.3084\n",
            "Epoch 7/10\n",
            "1/1 [==============================] - 0s 63ms/step - loss: 0.3084 - mse: 0.3084\n",
            "Epoch 8/10\n",
            "1/1 [==============================] - 0s 69ms/step - loss: 0.3084 - mse: 0.3084\n",
            "Epoch 9/10\n",
            "1/1 [==============================] - 0s 58ms/step - loss: 0.3084 - mse: 0.3084\n",
            "Epoch 10/10\n",
            "1/1 [==============================] - 0s 62ms/step - loss: 0.3084 - mse: 0.3084\n"
          ],
          "name": "stdout"
        },
        {
          "output_type": "stream",
          "text": [
            "\r 41%|████▏     | 219/529 [03:39<04:43,  1.09it/s]"
          ],
          "name": "stderr"
        },
        {
          "output_type": "stream",
          "text": [
            "Epoch 1/10\n",
            "1/1 [==============================] - 0s 66ms/step - loss: 0.3078 - mse: 0.3078\n",
            "Epoch 2/10\n",
            "1/1 [==============================] - 0s 62ms/step - loss: 0.3078 - mse: 0.3078\n",
            "Epoch 3/10\n",
            "1/1 [==============================] - 0s 64ms/step - loss: 0.3078 - mse: 0.3078\n",
            "Epoch 4/10\n",
            "1/1 [==============================] - 0s 59ms/step - loss: 0.3078 - mse: 0.3078\n",
            "Epoch 5/10\n",
            "1/1 [==============================] - 0s 61ms/step - loss: 0.3078 - mse: 0.3078\n",
            "Epoch 6/10\n",
            "1/1 [==============================] - 0s 65ms/step - loss: 0.3078 - mse: 0.3078\n",
            "Epoch 7/10\n",
            "1/1 [==============================] - 0s 57ms/step - loss: 0.3078 - mse: 0.3078\n",
            "Epoch 8/10\n",
            "1/1 [==============================] - 0s 60ms/step - loss: 0.3078 - mse: 0.3078\n",
            "Epoch 9/10\n",
            "1/1 [==============================] - 0s 71ms/step - loss: 0.3078 - mse: 0.3078\n",
            "Epoch 10/10\n",
            "1/1 [==============================] - 0s 60ms/step - loss: 0.3078 - mse: 0.3078\n"
          ],
          "name": "stdout"
        },
        {
          "output_type": "stream",
          "text": [
            "\r 42%|████▏     | 220/529 [03:40<04:40,  1.10it/s]"
          ],
          "name": "stderr"
        },
        {
          "output_type": "stream",
          "text": [
            "Epoch 1/10\n",
            "1/1 [==============================] - 0s 63ms/step - loss: 0.3075 - mse: 0.3075\n",
            "Epoch 2/10\n",
            "1/1 [==============================] - 0s 62ms/step - loss: 0.3075 - mse: 0.3075\n",
            "Epoch 3/10\n",
            "1/1 [==============================] - 0s 63ms/step - loss: 0.3075 - mse: 0.3075\n",
            "Epoch 4/10\n",
            "1/1 [==============================] - 0s 63ms/step - loss: 0.3075 - mse: 0.3075\n",
            "Epoch 5/10\n",
            "1/1 [==============================] - 0s 64ms/step - loss: 0.3075 - mse: 0.3075\n",
            "Epoch 6/10\n",
            "1/1 [==============================] - 0s 65ms/step - loss: 0.3075 - mse: 0.3075\n",
            "Epoch 7/10\n",
            "1/1 [==============================] - 0s 66ms/step - loss: 0.3075 - mse: 0.3075\n",
            "Epoch 8/10\n",
            "1/1 [==============================] - 0s 71ms/step - loss: 0.3075 - mse: 0.3075\n",
            "Epoch 9/10\n",
            "1/1 [==============================] - 0s 69ms/step - loss: 0.3075 - mse: 0.3075\n",
            "Epoch 10/10\n",
            "1/1 [==============================] - 0s 64ms/step - loss: 0.3075 - mse: 0.3075\n"
          ],
          "name": "stdout"
        },
        {
          "output_type": "stream",
          "text": [
            "\r 42%|████▏     | 221/529 [03:41<04:37,  1.11it/s]"
          ],
          "name": "stderr"
        },
        {
          "output_type": "stream",
          "text": [
            "Epoch 1/10\n",
            "1/1 [==============================] - 0s 59ms/step - loss: 0.2998 - mse: 0.2998\n",
            "Epoch 2/10\n",
            "1/1 [==============================] - 0s 59ms/step - loss: 0.2997 - mse: 0.2997\n",
            "Epoch 3/10\n",
            "1/1 [==============================] - 0s 64ms/step - loss: 0.2997 - mse: 0.2997\n",
            "Epoch 4/10\n",
            "1/1 [==============================] - 0s 62ms/step - loss: 0.2997 - mse: 0.2997\n",
            "Epoch 5/10\n",
            "1/1 [==============================] - 0s 61ms/step - loss: 0.2996 - mse: 0.2996\n",
            "Epoch 6/10\n",
            "1/1 [==============================] - 0s 64ms/step - loss: 0.2997 - mse: 0.2997\n",
            "Epoch 7/10\n",
            "1/1 [==============================] - 0s 62ms/step - loss: 0.2997 - mse: 0.2997\n",
            "Epoch 8/10\n",
            "1/1 [==============================] - 0s 64ms/step - loss: 0.2997 - mse: 0.2997\n",
            "Epoch 9/10\n",
            "1/1 [==============================] - 0s 65ms/step - loss: 0.2997 - mse: 0.2997\n",
            "Epoch 10/10\n",
            "1/1 [==============================] - 0s 70ms/step - loss: 0.2997 - mse: 0.2997\n"
          ],
          "name": "stdout"
        },
        {
          "output_type": "stream",
          "text": [
            "\r 42%|████▏     | 222/529 [03:42<04:35,  1.11it/s]"
          ],
          "name": "stderr"
        },
        {
          "output_type": "stream",
          "text": [
            "Epoch 1/10\n",
            "1/1 [==============================] - 0s 62ms/step - loss: 0.3071 - mse: 0.3071\n",
            "Epoch 2/10\n",
            "1/1 [==============================] - 0s 60ms/step - loss: 0.3070 - mse: 0.3070\n",
            "Epoch 3/10\n",
            "1/1 [==============================] - 0s 65ms/step - loss: 0.3071 - mse: 0.3071\n",
            "Epoch 4/10\n",
            "1/1 [==============================] - 0s 67ms/step - loss: 0.3070 - mse: 0.3070\n",
            "Epoch 5/10\n",
            "1/1 [==============================] - 0s 62ms/step - loss: 0.3070 - mse: 0.3070\n",
            "Epoch 6/10\n",
            "1/1 [==============================] - 0s 60ms/step - loss: 0.3071 - mse: 0.3071\n",
            "Epoch 7/10\n",
            "1/1 [==============================] - 0s 73ms/step - loss: 0.3070 - mse: 0.3070\n",
            "Epoch 8/10\n",
            "1/1 [==============================] - 0s 63ms/step - loss: 0.3070 - mse: 0.3070\n",
            "Epoch 9/10\n",
            "1/1 [==============================] - 0s 62ms/step - loss: 0.3070 - mse: 0.3070\n",
            "Epoch 10/10\n",
            "1/1 [==============================] - 0s 65ms/step - loss: 0.3070 - mse: 0.3070\n"
          ],
          "name": "stdout"
        },
        {
          "output_type": "stream",
          "text": [
            "\r 42%|████▏     | 223/529 [03:43<04:35,  1.11it/s]"
          ],
          "name": "stderr"
        },
        {
          "output_type": "stream",
          "text": [
            "Epoch 1/10\n",
            "1/1 [==============================] - 0s 66ms/step - loss: 0.3111 - mse: 0.3111\n",
            "Epoch 2/10\n",
            "1/1 [==============================] - 0s 68ms/step - loss: 0.3109 - mse: 0.3109\n",
            "Epoch 3/10\n",
            "1/1 [==============================] - 0s 58ms/step - loss: 0.3109 - mse: 0.3109\n",
            "Epoch 4/10\n",
            "1/1 [==============================] - 0s 66ms/step - loss: 0.3110 - mse: 0.3110\n",
            "Epoch 5/10\n",
            "1/1 [==============================] - 0s 60ms/step - loss: 0.3109 - mse: 0.3109\n",
            "Epoch 6/10\n",
            "1/1 [==============================] - 0s 65ms/step - loss: 0.3109 - mse: 0.3109\n",
            "Epoch 7/10\n",
            "1/1 [==============================] - 0s 65ms/step - loss: 0.3109 - mse: 0.3109\n",
            "Epoch 8/10\n",
            "1/1 [==============================] - 0s 59ms/step - loss: 0.3109 - mse: 0.3109\n",
            "Epoch 9/10\n",
            "1/1 [==============================] - 0s 60ms/step - loss: 0.3109 - mse: 0.3109\n",
            "Epoch 10/10\n",
            "1/1 [==============================] - 0s 69ms/step - loss: 0.3109 - mse: 0.3109\n"
          ],
          "name": "stdout"
        },
        {
          "output_type": "stream",
          "text": [
            "\r 42%|████▏     | 224/529 [03:44<04:35,  1.11it/s]"
          ],
          "name": "stderr"
        },
        {
          "output_type": "stream",
          "text": [
            "Epoch 1/10\n",
            "1/1 [==============================] - 0s 66ms/step - loss: 0.3043 - mse: 0.3043\n",
            "Epoch 2/10\n",
            "1/1 [==============================] - 0s 63ms/step - loss: 0.3043 - mse: 0.3043\n",
            "Epoch 3/10\n",
            "1/1 [==============================] - 0s 60ms/step - loss: 0.3043 - mse: 0.3043\n",
            "Epoch 4/10\n",
            "1/1 [==============================] - 0s 65ms/step - loss: 0.3042 - mse: 0.3042\n",
            "Epoch 5/10\n",
            "1/1 [==============================] - 0s 57ms/step - loss: 0.3042 - mse: 0.3042\n",
            "Epoch 6/10\n",
            "1/1 [==============================] - 0s 59ms/step - loss: 0.3043 - mse: 0.3043\n",
            "Epoch 7/10\n",
            "1/1 [==============================] - 0s 63ms/step - loss: 0.3042 - mse: 0.3042\n",
            "Epoch 8/10\n",
            "1/1 [==============================] - 0s 70ms/step - loss: 0.3043 - mse: 0.3043\n",
            "Epoch 9/10\n",
            "1/1 [==============================] - 0s 62ms/step - loss: 0.3042 - mse: 0.3042\n",
            "Epoch 10/10\n",
            "1/1 [==============================] - 0s 65ms/step - loss: 0.3042 - mse: 0.3042\n"
          ],
          "name": "stdout"
        },
        {
          "output_type": "stream",
          "text": [
            "\r 43%|████▎     | 225/529 [03:45<04:32,  1.11it/s]"
          ],
          "name": "stderr"
        },
        {
          "output_type": "stream",
          "text": [
            "Epoch 1/10\n",
            "1/1 [==============================] - 0s 63ms/step - loss: 0.3054 - mse: 0.3054\n",
            "Epoch 2/10\n",
            "1/1 [==============================] - 0s 60ms/step - loss: 0.3054 - mse: 0.3054\n",
            "Epoch 3/10\n",
            "1/1 [==============================] - 0s 61ms/step - loss: 0.3054 - mse: 0.3054\n",
            "Epoch 4/10\n",
            "1/1 [==============================] - 0s 63ms/step - loss: 0.3054 - mse: 0.3054\n",
            "Epoch 5/10\n",
            "1/1 [==============================] - 0s 75ms/step - loss: 0.3054 - mse: 0.3054\n",
            "Epoch 6/10\n",
            "1/1 [==============================] - 0s 68ms/step - loss: 0.3054 - mse: 0.3054\n",
            "Epoch 7/10\n",
            "1/1 [==============================] - 0s 70ms/step - loss: 0.3054 - mse: 0.3054\n",
            "Epoch 8/10\n",
            "1/1 [==============================] - 0s 74ms/step - loss: 0.3054 - mse: 0.3054\n",
            "Epoch 9/10\n",
            "1/1 [==============================] - 0s 63ms/step - loss: 0.3054 - mse: 0.3054\n",
            "Epoch 10/10\n",
            "1/1 [==============================] - 0s 64ms/step - loss: 0.3054 - mse: 0.3054\n"
          ],
          "name": "stdout"
        },
        {
          "output_type": "stream",
          "text": [
            "\r 43%|████▎     | 226/529 [03:46<04:33,  1.11it/s]"
          ],
          "name": "stderr"
        },
        {
          "output_type": "stream",
          "text": [
            "Epoch 1/10\n",
            "1/1 [==============================] - 0s 63ms/step - loss: 0.3064 - mse: 0.3064\n",
            "Epoch 2/10\n",
            "1/1 [==============================] - 0s 64ms/step - loss: 0.3064 - mse: 0.3064\n",
            "Epoch 3/10\n",
            "1/1 [==============================] - 0s 68ms/step - loss: 0.3064 - mse: 0.3064\n",
            "Epoch 4/10\n",
            "1/1 [==============================] - 0s 65ms/step - loss: 0.3064 - mse: 0.3064\n",
            "Epoch 5/10\n",
            "1/1 [==============================] - 0s 70ms/step - loss: 0.3064 - mse: 0.3064\n",
            "Epoch 6/10\n",
            "1/1 [==============================] - 0s 65ms/step - loss: 0.3064 - mse: 0.3064\n",
            "Epoch 7/10\n",
            "1/1 [==============================] - 0s 61ms/step - loss: 0.3063 - mse: 0.3063\n",
            "Epoch 8/10\n",
            "1/1 [==============================] - 0s 68ms/step - loss: 0.3064 - mse: 0.3064\n",
            "Epoch 9/10\n",
            "1/1 [==============================] - 0s 66ms/step - loss: 0.3064 - mse: 0.3064\n",
            "Epoch 10/10\n",
            "1/1 [==============================] - 0s 65ms/step - loss: 0.3063 - mse: 0.3063\n"
          ],
          "name": "stdout"
        },
        {
          "output_type": "stream",
          "text": [
            "\r 43%|████▎     | 227/529 [03:47<04:32,  1.11it/s]"
          ],
          "name": "stderr"
        },
        {
          "output_type": "stream",
          "text": [
            "Epoch 1/10\n",
            "1/1 [==============================] - 0s 59ms/step - loss: 0.3128 - mse: 0.3128\n",
            "Epoch 2/10\n",
            "1/1 [==============================] - 0s 67ms/step - loss: 0.3127 - mse: 0.3127\n",
            "Epoch 3/10\n",
            "1/1 [==============================] - 0s 60ms/step - loss: 0.3127 - mse: 0.3127\n",
            "Epoch 4/10\n",
            "1/1 [==============================] - 0s 62ms/step - loss: 0.3127 - mse: 0.3127\n",
            "Epoch 5/10\n",
            "1/1 [==============================] - 0s 68ms/step - loss: 0.3127 - mse: 0.3127\n",
            "Epoch 6/10\n",
            "1/1 [==============================] - 0s 73ms/step - loss: 0.3127 - mse: 0.3127\n",
            "Epoch 7/10\n",
            "1/1 [==============================] - 0s 63ms/step - loss: 0.3127 - mse: 0.3127\n",
            "Epoch 8/10\n",
            "1/1 [==============================] - 0s 69ms/step - loss: 0.3127 - mse: 0.3127\n",
            "Epoch 9/10\n",
            "1/1 [==============================] - 0s 61ms/step - loss: 0.3127 - mse: 0.3127\n",
            "Epoch 10/10\n",
            "1/1 [==============================] - 0s 68ms/step - loss: 0.3127 - mse: 0.3127\n"
          ],
          "name": "stdout"
        },
        {
          "output_type": "stream",
          "text": [
            "\r 43%|████▎     | 228/529 [03:48<04:47,  1.05it/s]"
          ],
          "name": "stderr"
        },
        {
          "output_type": "stream",
          "text": [
            "Epoch 1/10\n",
            "1/1 [==============================] - 0s 67ms/step - loss: 0.3075 - mse: 0.3075\n",
            "Epoch 2/10\n",
            "1/1 [==============================] - 0s 61ms/step - loss: 0.3075 - mse: 0.3075\n",
            "Epoch 3/10\n",
            "1/1 [==============================] - 0s 61ms/step - loss: 0.3075 - mse: 0.3075\n",
            "Epoch 4/10\n",
            "1/1 [==============================] - 0s 67ms/step - loss: 0.3075 - mse: 0.3075\n",
            "Epoch 5/10\n",
            "1/1 [==============================] - 0s 68ms/step - loss: 0.3075 - mse: 0.3075\n",
            "Epoch 6/10\n",
            "1/1 [==============================] - 0s 60ms/step - loss: 0.3075 - mse: 0.3075\n",
            "Epoch 7/10\n",
            "1/1 [==============================] - 0s 65ms/step - loss: 0.3075 - mse: 0.3075\n",
            "Epoch 8/10\n",
            "1/1 [==============================] - 0s 70ms/step - loss: 0.3075 - mse: 0.3075\n",
            "Epoch 9/10\n",
            "1/1 [==============================] - 0s 60ms/step - loss: 0.3075 - mse: 0.3075\n",
            "Epoch 10/10\n",
            "1/1 [==============================] - 0s 63ms/step - loss: 0.3075 - mse: 0.3075\n"
          ],
          "name": "stdout"
        },
        {
          "output_type": "stream",
          "text": [
            "\r 43%|████▎     | 229/529 [03:49<04:40,  1.07it/s]"
          ],
          "name": "stderr"
        },
        {
          "output_type": "stream",
          "text": [
            "Epoch 1/10\n",
            "1/1 [==============================] - 0s 67ms/step - loss: 0.3062 - mse: 0.3062\n",
            "Epoch 2/10\n",
            "1/1 [==============================] - 0s 65ms/step - loss: 0.3061 - mse: 0.3061\n",
            "Epoch 3/10\n",
            "1/1 [==============================] - 0s 67ms/step - loss: 0.3061 - mse: 0.3061\n",
            "Epoch 4/10\n",
            "1/1 [==============================] - 0s 66ms/step - loss: 0.3061 - mse: 0.3061\n",
            "Epoch 5/10\n",
            "1/1 [==============================] - 0s 68ms/step - loss: 0.3061 - mse: 0.3061\n",
            "Epoch 6/10\n",
            "1/1 [==============================] - 0s 67ms/step - loss: 0.3061 - mse: 0.3061\n",
            "Epoch 7/10\n",
            "1/1 [==============================] - 0s 63ms/step - loss: 0.3061 - mse: 0.3061\n",
            "Epoch 8/10\n",
            "1/1 [==============================] - 0s 70ms/step - loss: 0.3061 - mse: 0.3061\n",
            "Epoch 9/10\n",
            "1/1 [==============================] - 0s 70ms/step - loss: 0.3061 - mse: 0.3061\n",
            "Epoch 10/10\n",
            "1/1 [==============================] - 0s 64ms/step - loss: 0.3061 - mse: 0.3061\n"
          ],
          "name": "stdout"
        },
        {
          "output_type": "stream",
          "text": [
            "\r 43%|████▎     | 230/529 [03:49<04:35,  1.09it/s]"
          ],
          "name": "stderr"
        },
        {
          "output_type": "stream",
          "text": [
            "Epoch 1/10\n",
            "1/1 [==============================] - 0s 61ms/step - loss: 0.3023 - mse: 0.3023\n",
            "Epoch 2/10\n",
            "1/1 [==============================] - 0s 64ms/step - loss: 0.3022 - mse: 0.3022\n",
            "Epoch 3/10\n",
            "1/1 [==============================] - 0s 63ms/step - loss: 0.3022 - mse: 0.3022\n",
            "Epoch 4/10\n",
            "1/1 [==============================] - 0s 61ms/step - loss: 0.3023 - mse: 0.3023\n",
            "Epoch 5/10\n",
            "1/1 [==============================] - 0s 64ms/step - loss: 0.3022 - mse: 0.3022\n",
            "Epoch 6/10\n",
            "1/1 [==============================] - 0s 64ms/step - loss: 0.3022 - mse: 0.3022\n",
            "Epoch 7/10\n",
            "1/1 [==============================] - 0s 66ms/step - loss: 0.3022 - mse: 0.3022\n",
            "Epoch 8/10\n",
            "1/1 [==============================] - 0s 61ms/step - loss: 0.3022 - mse: 0.3022\n",
            "Epoch 9/10\n",
            "1/1 [==============================] - 0s 71ms/step - loss: 0.3022 - mse: 0.3022\n",
            "Epoch 10/10\n",
            "1/1 [==============================] - 0s 68ms/step - loss: 0.3022 - mse: 0.3022\n"
          ],
          "name": "stdout"
        },
        {
          "output_type": "stream",
          "text": [
            "\r 44%|████▎     | 231/529 [03:50<04:34,  1.09it/s]"
          ],
          "name": "stderr"
        },
        {
          "output_type": "stream",
          "text": [
            "Epoch 1/10\n",
            "1/1 [==============================] - 0s 66ms/step - loss: 0.3179 - mse: 0.3179\n",
            "Epoch 2/10\n",
            "1/1 [==============================] - 0s 61ms/step - loss: 0.3175 - mse: 0.3175\n",
            "Epoch 3/10\n",
            "1/1 [==============================] - 0s 65ms/step - loss: 0.3179 - mse: 0.3179\n",
            "Epoch 4/10\n",
            "1/1 [==============================] - 0s 61ms/step - loss: 0.3176 - mse: 0.3176\n",
            "Epoch 5/10\n",
            "1/1 [==============================] - 0s 62ms/step - loss: 0.3175 - mse: 0.3175\n",
            "Epoch 6/10\n",
            "1/1 [==============================] - 0s 66ms/step - loss: 0.3178 - mse: 0.3178\n",
            "Epoch 7/10\n",
            "1/1 [==============================] - 0s 70ms/step - loss: 0.3175 - mse: 0.3175\n",
            "Epoch 8/10\n",
            "1/1 [==============================] - 0s 62ms/step - loss: 0.3176 - mse: 0.3176\n",
            "Epoch 9/10\n",
            "1/1 [==============================] - 0s 61ms/step - loss: 0.3177 - mse: 0.3177\n",
            "Epoch 10/10\n",
            "1/1 [==============================] - 0s 67ms/step - loss: 0.3174 - mse: 0.3174\n"
          ],
          "name": "stdout"
        },
        {
          "output_type": "stream",
          "text": [
            "\r 44%|████▍     | 232/529 [03:51<04:31,  1.10it/s]"
          ],
          "name": "stderr"
        },
        {
          "output_type": "stream",
          "text": [
            "Epoch 1/10\n",
            "1/1 [==============================] - 0s 64ms/step - loss: 0.3148 - mse: 0.3148\n",
            "Epoch 2/10\n",
            "1/1 [==============================] - 0s 62ms/step - loss: 0.3148 - mse: 0.3148\n",
            "Epoch 3/10\n",
            "1/1 [==============================] - 0s 66ms/step - loss: 0.3146 - mse: 0.3146\n",
            "Epoch 4/10\n",
            "1/1 [==============================] - 0s 62ms/step - loss: 0.3147 - mse: 0.3147\n",
            "Epoch 5/10\n",
            "1/1 [==============================] - 0s 74ms/step - loss: 0.3147 - mse: 0.3147\n",
            "Epoch 6/10\n",
            "1/1 [==============================] - 0s 60ms/step - loss: 0.3146 - mse: 0.3146\n",
            "Epoch 7/10\n",
            "1/1 [==============================] - 0s 60ms/step - loss: 0.3147 - mse: 0.3147\n",
            "Epoch 8/10\n",
            "1/1 [==============================] - 0s 64ms/step - loss: 0.3146 - mse: 0.3146\n",
            "Epoch 9/10\n",
            "1/1 [==============================] - 0s 66ms/step - loss: 0.3146 - mse: 0.3146\n",
            "Epoch 10/10\n",
            "1/1 [==============================] - 0s 70ms/step - loss: 0.3147 - mse: 0.3147\n"
          ],
          "name": "stdout"
        },
        {
          "output_type": "stream",
          "text": [
            "\r 44%|████▍     | 233/529 [03:52<04:28,  1.10it/s]"
          ],
          "name": "stderr"
        },
        {
          "output_type": "stream",
          "text": [
            "Epoch 1/10\n",
            "1/1 [==============================] - 0s 68ms/step - loss: 0.3066 - mse: 0.3066\n",
            "Epoch 2/10\n",
            "1/1 [==============================] - 0s 66ms/step - loss: 0.3065 - mse: 0.3065\n",
            "Epoch 3/10\n",
            "1/1 [==============================] - 0s 70ms/step - loss: 0.3067 - mse: 0.3067\n",
            "Epoch 4/10\n",
            "1/1 [==============================] - 0s 74ms/step - loss: 0.3064 - mse: 0.3064\n",
            "Epoch 5/10\n",
            "1/1 [==============================] - 0s 67ms/step - loss: 0.3064 - mse: 0.3064\n",
            "Epoch 6/10\n",
            "1/1 [==============================] - 0s 62ms/step - loss: 0.3066 - mse: 0.3066\n",
            "Epoch 7/10\n",
            "1/1 [==============================] - 0s 64ms/step - loss: 0.3064 - mse: 0.3064\n",
            "Epoch 8/10\n",
            "1/1 [==============================] - 0s 68ms/step - loss: 0.3065 - mse: 0.3065\n",
            "Epoch 9/10\n",
            "1/1 [==============================] - 0s 70ms/step - loss: 0.3065 - mse: 0.3065\n",
            "Epoch 10/10\n",
            "1/1 [==============================] - 0s 65ms/step - loss: 0.3064 - mse: 0.3064\n"
          ],
          "name": "stdout"
        },
        {
          "output_type": "stream",
          "text": [
            "\r 44%|████▍     | 234/529 [03:53<04:32,  1.08it/s]"
          ],
          "name": "stderr"
        },
        {
          "output_type": "stream",
          "text": [
            "Epoch 1/10\n",
            "1/1 [==============================] - 0s 62ms/step - loss: 0.3085 - mse: 0.3085\n",
            "Epoch 2/10\n",
            "1/1 [==============================] - 0s 66ms/step - loss: 0.3085 - mse: 0.3085\n",
            "Epoch 3/10\n",
            "1/1 [==============================] - 0s 59ms/step - loss: 0.3084 - mse: 0.3084\n",
            "Epoch 4/10\n",
            "1/1 [==============================] - 0s 61ms/step - loss: 0.3085 - mse: 0.3085\n",
            "Epoch 5/10\n",
            "1/1 [==============================] - 0s 68ms/step - loss: 0.3085 - mse: 0.3085\n",
            "Epoch 6/10\n",
            "1/1 [==============================] - 0s 68ms/step - loss: 0.3084 - mse: 0.3084\n",
            "Epoch 7/10\n",
            "1/1 [==============================] - 0s 66ms/step - loss: 0.3085 - mse: 0.3085\n",
            "Epoch 8/10\n",
            "1/1 [==============================] - 0s 64ms/step - loss: 0.3085 - mse: 0.3085\n",
            "Epoch 9/10\n",
            "1/1 [==============================] - 0s 67ms/step - loss: 0.3084 - mse: 0.3084\n",
            "Epoch 10/10\n",
            "1/1 [==============================] - 0s 64ms/step - loss: 0.3085 - mse: 0.3085\n"
          ],
          "name": "stdout"
        },
        {
          "output_type": "stream",
          "text": [
            "\r 44%|████▍     | 235/529 [03:54<04:28,  1.10it/s]"
          ],
          "name": "stderr"
        },
        {
          "output_type": "stream",
          "text": [
            "Epoch 1/10\n",
            "1/1 [==============================] - 0s 63ms/step - loss: 0.3065 - mse: 0.3065\n",
            "Epoch 2/10\n",
            "1/1 [==============================] - 0s 61ms/step - loss: 0.3065 - mse: 0.3065\n",
            "Epoch 3/10\n",
            "1/1 [==============================] - 0s 59ms/step - loss: 0.3065 - mse: 0.3065\n",
            "Epoch 4/10\n",
            "1/1 [==============================] - 0s 69ms/step - loss: 0.3064 - mse: 0.3064\n",
            "Epoch 5/10\n",
            "1/1 [==============================] - 0s 66ms/step - loss: 0.3065 - mse: 0.3065\n",
            "Epoch 6/10\n",
            "1/1 [==============================] - 0s 62ms/step - loss: 0.3065 - mse: 0.3065\n",
            "Epoch 7/10\n",
            "1/1 [==============================] - 0s 67ms/step - loss: 0.3064 - mse: 0.3064\n",
            "Epoch 8/10\n",
            "1/1 [==============================] - 0s 63ms/step - loss: 0.3065 - mse: 0.3065\n",
            "Epoch 9/10\n",
            "1/1 [==============================] - 0s 63ms/step - loss: 0.3064 - mse: 0.3064\n",
            "Epoch 10/10\n",
            "1/1 [==============================] - 0s 66ms/step - loss: 0.3064 - mse: 0.3064\n"
          ],
          "name": "stdout"
        },
        {
          "output_type": "stream",
          "text": [
            "\r 45%|████▍     | 236/529 [03:55<04:25,  1.10it/s]"
          ],
          "name": "stderr"
        },
        {
          "output_type": "stream",
          "text": [
            "Epoch 1/10\n",
            "1/1 [==============================] - 0s 67ms/step - loss: 0.3070 - mse: 0.3070\n",
            "Epoch 2/10\n",
            "1/1 [==============================] - 0s 66ms/step - loss: 0.3070 - mse: 0.3070\n",
            "Epoch 3/10\n",
            "1/1 [==============================] - 0s 62ms/step - loss: 0.3070 - mse: 0.3070\n",
            "Epoch 4/10\n",
            "1/1 [==============================] - 0s 61ms/step - loss: 0.3070 - mse: 0.3070\n",
            "Epoch 5/10\n",
            "1/1 [==============================] - 0s 69ms/step - loss: 0.3070 - mse: 0.3070\n",
            "Epoch 6/10\n",
            "1/1 [==============================] - 0s 67ms/step - loss: 0.3070 - mse: 0.3070\n",
            "Epoch 7/10\n",
            "1/1 [==============================] - 0s 65ms/step - loss: 0.3070 - mse: 0.3070\n",
            "Epoch 8/10\n",
            "1/1 [==============================] - 0s 67ms/step - loss: 0.3070 - mse: 0.3070\n",
            "Epoch 9/10\n",
            "1/1 [==============================] - 0s 66ms/step - loss: 0.3070 - mse: 0.3070\n",
            "Epoch 10/10\n",
            "1/1 [==============================] - 0s 73ms/step - loss: 0.3070 - mse: 0.3070\n"
          ],
          "name": "stdout"
        },
        {
          "output_type": "stream",
          "text": [
            "\r 45%|████▍     | 237/529 [03:56<04:25,  1.10it/s]"
          ],
          "name": "stderr"
        },
        {
          "output_type": "stream",
          "text": [
            "Epoch 1/10\n",
            "1/1 [==============================] - 0s 64ms/step - loss: 0.3095 - mse: 0.3095\n",
            "Epoch 2/10\n",
            "1/1 [==============================] - 0s 67ms/step - loss: 0.3094 - mse: 0.3094\n",
            "Epoch 3/10\n",
            "1/1 [==============================] - 0s 64ms/step - loss: 0.3094 - mse: 0.3094\n",
            "Epoch 4/10\n",
            "1/1 [==============================] - 0s 65ms/step - loss: 0.3094 - mse: 0.3094\n",
            "Epoch 5/10\n",
            "1/1 [==============================] - 0s 61ms/step - loss: 0.3094 - mse: 0.3094\n",
            "Epoch 6/10\n",
            "1/1 [==============================] - 0s 65ms/step - loss: 0.3094 - mse: 0.3094\n",
            "Epoch 7/10\n",
            "1/1 [==============================] - 0s 69ms/step - loss: 0.3094 - mse: 0.3094\n",
            "Epoch 8/10\n",
            "1/1 [==============================] - 0s 67ms/step - loss: 0.3094 - mse: 0.3094\n",
            "Epoch 9/10\n",
            "1/1 [==============================] - 0s 63ms/step - loss: 0.3094 - mse: 0.3094\n",
            "Epoch 10/10\n",
            "1/1 [==============================] - 0s 64ms/step - loss: 0.3094 - mse: 0.3094\n"
          ],
          "name": "stdout"
        },
        {
          "output_type": "stream",
          "text": [
            "\r 45%|████▍     | 238/529 [03:57<04:23,  1.11it/s]"
          ],
          "name": "stderr"
        },
        {
          "output_type": "stream",
          "text": [
            "Epoch 1/10\n",
            "1/1 [==============================] - 0s 64ms/step - loss: 0.3075 - mse: 0.3075\n",
            "Epoch 2/10\n",
            "1/1 [==============================] - 0s 59ms/step - loss: 0.3075 - mse: 0.3075\n",
            "Epoch 3/10\n",
            "1/1 [==============================] - 0s 66ms/step - loss: 0.3075 - mse: 0.3075\n",
            "Epoch 4/10\n",
            "1/1 [==============================] - 0s 62ms/step - loss: 0.3075 - mse: 0.3075\n",
            "Epoch 5/10\n",
            "1/1 [==============================] - 0s 60ms/step - loss: 0.3075 - mse: 0.3075\n",
            "Epoch 6/10\n",
            "1/1 [==============================] - 0s 67ms/step - loss: 0.3075 - mse: 0.3075\n",
            "Epoch 7/10\n",
            "1/1 [==============================] - 0s 62ms/step - loss: 0.3075 - mse: 0.3075\n",
            "Epoch 8/10\n",
            "1/1 [==============================] - 0s 63ms/step - loss: 0.3075 - mse: 0.3075\n",
            "Epoch 9/10\n",
            "1/1 [==============================] - 0s 74ms/step - loss: 0.3075 - mse: 0.3075\n",
            "Epoch 10/10\n",
            "1/1 [==============================] - 0s 66ms/step - loss: 0.3075 - mse: 0.3075\n"
          ],
          "name": "stdout"
        },
        {
          "output_type": "stream",
          "text": [
            "\r 45%|████▌     | 239/529 [03:58<04:21,  1.11it/s]"
          ],
          "name": "stderr"
        },
        {
          "output_type": "stream",
          "text": [
            "Epoch 1/10\n",
            "1/1 [==============================] - 0s 64ms/step - loss: 0.3068 - mse: 0.3068\n",
            "Epoch 2/10\n",
            "1/1 [==============================] - 0s 60ms/step - loss: 0.3068 - mse: 0.3068\n",
            "Epoch 3/10\n",
            "1/1 [==============================] - 0s 69ms/step - loss: 0.3068 - mse: 0.3068\n",
            "Epoch 4/10\n",
            "1/1 [==============================] - 0s 59ms/step - loss: 0.3068 - mse: 0.3068\n",
            "Epoch 5/10\n",
            "1/1 [==============================] - 0s 63ms/step - loss: 0.3068 - mse: 0.3068\n",
            "Epoch 6/10\n",
            "1/1 [==============================] - 0s 63ms/step - loss: 0.3068 - mse: 0.3068\n",
            "Epoch 7/10\n",
            "1/1 [==============================] - 0s 63ms/step - loss: 0.3068 - mse: 0.3068\n",
            "Epoch 8/10\n",
            "1/1 [==============================] - 0s 63ms/step - loss: 0.3068 - mse: 0.3068\n",
            "Epoch 9/10\n",
            "1/1 [==============================] - 0s 71ms/step - loss: 0.3068 - mse: 0.3068\n",
            "Epoch 10/10\n",
            "1/1 [==============================] - 0s 79ms/step - loss: 0.3068 - mse: 0.3068\n"
          ],
          "name": "stdout"
        },
        {
          "output_type": "stream",
          "text": [
            "\r 45%|████▌     | 240/529 [03:59<04:23,  1.10it/s]"
          ],
          "name": "stderr"
        },
        {
          "output_type": "stream",
          "text": [
            "Epoch 1/10\n",
            "1/1 [==============================] - 0s 63ms/step - loss: 0.3087 - mse: 0.3087\n",
            "Epoch 2/10\n",
            "1/1 [==============================] - 0s 58ms/step - loss: 0.3087 - mse: 0.3087\n",
            "Epoch 3/10\n",
            "1/1 [==============================] - 0s 62ms/step - loss: 0.3087 - mse: 0.3087\n",
            "Epoch 4/10\n",
            "1/1 [==============================] - 0s 58ms/step - loss: 0.3087 - mse: 0.3087\n",
            "Epoch 5/10\n",
            "1/1 [==============================] - 0s 64ms/step - loss: 0.3087 - mse: 0.3087\n",
            "Epoch 6/10\n",
            "1/1 [==============================] - 0s 65ms/step - loss: 0.3087 - mse: 0.3087\n",
            "Epoch 7/10\n",
            "1/1 [==============================] - 0s 71ms/step - loss: 0.3087 - mse: 0.3087\n",
            "Epoch 8/10\n",
            "1/1 [==============================] - 0s 63ms/step - loss: 0.3087 - mse: 0.3087\n",
            "Epoch 9/10\n",
            "1/1 [==============================] - 0s 66ms/step - loss: 0.3087 - mse: 0.3087\n",
            "Epoch 10/10\n",
            "1/1 [==============================] - 0s 63ms/step - loss: 0.3087 - mse: 0.3087\n"
          ],
          "name": "stdout"
        },
        {
          "output_type": "stream",
          "text": [
            "\r 46%|████▌     | 241/529 [03:59<04:21,  1.10it/s]"
          ],
          "name": "stderr"
        },
        {
          "output_type": "stream",
          "text": [
            "Epoch 1/10\n",
            "1/1 [==============================] - 0s 58ms/step - loss: 0.3070 - mse: 0.3070\n",
            "Epoch 2/10\n",
            "1/1 [==============================] - 0s 62ms/step - loss: 0.3069 - mse: 0.3069\n",
            "Epoch 3/10\n",
            "1/1 [==============================] - 0s 69ms/step - loss: 0.3069 - mse: 0.3069\n",
            "Epoch 4/10\n",
            "1/1 [==============================] - 0s 66ms/step - loss: 0.3069 - mse: 0.3069\n",
            "Epoch 5/10\n",
            "1/1 [==============================] - 0s 65ms/step - loss: 0.3069 - mse: 0.3069\n",
            "Epoch 6/10\n",
            "1/1 [==============================] - 0s 76ms/step - loss: 0.3069 - mse: 0.3069\n",
            "Epoch 7/10\n",
            "1/1 [==============================] - 0s 65ms/step - loss: 0.3069 - mse: 0.3069\n",
            "Epoch 8/10\n",
            "1/1 [==============================] - 0s 73ms/step - loss: 0.3069 - mse: 0.3069\n",
            "Epoch 9/10\n",
            "1/1 [==============================] - 0s 78ms/step - loss: 0.3069 - mse: 0.3069\n",
            "Epoch 10/10\n",
            "1/1 [==============================] - 0s 71ms/step - loss: 0.3069 - mse: 0.3069\n"
          ],
          "name": "stdout"
        },
        {
          "output_type": "stream",
          "text": [
            "\r 46%|████▌     | 242/529 [04:00<04:25,  1.08it/s]"
          ],
          "name": "stderr"
        },
        {
          "output_type": "stream",
          "text": [
            "Epoch 1/10\n",
            "1/1 [==============================] - 0s 66ms/step - loss: 0.3091 - mse: 0.3091\n",
            "Epoch 2/10\n",
            "1/1 [==============================] - 0s 64ms/step - loss: 0.3091 - mse: 0.3091\n",
            "Epoch 3/10\n",
            "1/1 [==============================] - 0s 63ms/step - loss: 0.3091 - mse: 0.3091\n",
            "Epoch 4/10\n",
            "1/1 [==============================] - 0s 66ms/step - loss: 0.3091 - mse: 0.3091\n",
            "Epoch 5/10\n",
            "1/1 [==============================] - 0s 64ms/step - loss: 0.3091 - mse: 0.3091\n",
            "Epoch 6/10\n",
            "1/1 [==============================] - 0s 63ms/step - loss: 0.3091 - mse: 0.3091\n",
            "Epoch 7/10\n",
            "1/1 [==============================] - 0s 67ms/step - loss: 0.3091 - mse: 0.3091\n",
            "Epoch 8/10\n",
            "1/1 [==============================] - 0s 63ms/step - loss: 0.3091 - mse: 0.3091\n",
            "Epoch 9/10\n",
            "1/1 [==============================] - 0s 66ms/step - loss: 0.3091 - mse: 0.3091\n",
            "Epoch 10/10\n",
            "1/1 [==============================] - 0s 64ms/step - loss: 0.3091 - mse: 0.3091\n"
          ],
          "name": "stdout"
        },
        {
          "output_type": "stream",
          "text": [
            "\r 46%|████▌     | 243/529 [04:01<04:23,  1.09it/s]"
          ],
          "name": "stderr"
        },
        {
          "output_type": "stream",
          "text": [
            "Epoch 1/10\n",
            "1/1 [==============================] - 0s 71ms/step - loss: 0.3070 - mse: 0.3070\n",
            "Epoch 2/10\n",
            "1/1 [==============================] - 0s 58ms/step - loss: 0.3070 - mse: 0.3070\n",
            "Epoch 3/10\n",
            "1/1 [==============================] - 0s 63ms/step - loss: 0.3070 - mse: 0.3070\n",
            "Epoch 4/10\n",
            "1/1 [==============================] - 0s 66ms/step - loss: 0.3070 - mse: 0.3070\n",
            "Epoch 5/10\n",
            "1/1 [==============================] - 0s 68ms/step - loss: 0.3070 - mse: 0.3070\n",
            "Epoch 6/10\n",
            "1/1 [==============================] - 0s 65ms/step - loss: 0.3070 - mse: 0.3070\n",
            "Epoch 7/10\n",
            "1/1 [==============================] - 0s 63ms/step - loss: 0.3070 - mse: 0.3070\n",
            "Epoch 8/10\n",
            "1/1 [==============================] - 0s 65ms/step - loss: 0.3070 - mse: 0.3070\n",
            "Epoch 9/10\n",
            "1/1 [==============================] - 0s 62ms/step - loss: 0.3070 - mse: 0.3070\n",
            "Epoch 10/10\n",
            "1/1 [==============================] - 0s 65ms/step - loss: 0.3070 - mse: 0.3070\n"
          ],
          "name": "stdout"
        },
        {
          "output_type": "stream",
          "text": [
            "\r 46%|████▌     | 244/529 [04:02<04:20,  1.09it/s]"
          ],
          "name": "stderr"
        },
        {
          "output_type": "stream",
          "text": [
            "Epoch 1/10\n",
            "1/1 [==============================] - 0s 58ms/step - loss: 0.3003 - mse: 0.3003\n",
            "Epoch 2/10\n",
            "1/1 [==============================] - 0s 64ms/step - loss: 0.3002 - mse: 0.3002\n",
            "Epoch 3/10\n",
            "1/1 [==============================] - 0s 70ms/step - loss: 0.3003 - mse: 0.3003\n",
            "Epoch 4/10\n",
            "1/1 [==============================] - 0s 66ms/step - loss: 0.3002 - mse: 0.3002\n",
            "Epoch 5/10\n",
            "1/1 [==============================] - 0s 64ms/step - loss: 0.3002 - mse: 0.3002\n",
            "Epoch 6/10\n",
            "1/1 [==============================] - 0s 63ms/step - loss: 0.3002 - mse: 0.3002\n",
            "Epoch 7/10\n",
            "1/1 [==============================] - 0s 64ms/step - loss: 0.3002 - mse: 0.3002\n",
            "Epoch 8/10\n",
            "1/1 [==============================] - 0s 63ms/step - loss: 0.3002 - mse: 0.3002\n",
            "Epoch 9/10\n",
            "1/1 [==============================] - 0s 67ms/step - loss: 0.3002 - mse: 0.3002\n",
            "Epoch 10/10\n",
            "1/1 [==============================] - 0s 65ms/step - loss: 0.3002 - mse: 0.3002\n"
          ],
          "name": "stdout"
        },
        {
          "output_type": "stream",
          "text": [
            "\r 46%|████▋     | 245/529 [04:03<04:19,  1.10it/s]"
          ],
          "name": "stderr"
        },
        {
          "output_type": "stream",
          "text": [
            "Epoch 1/10\n",
            "1/1 [==============================] - 0s 62ms/step - loss: 0.2905 - mse: 0.2905\n",
            "Epoch 2/10\n",
            "1/1 [==============================] - 0s 62ms/step - loss: 0.2901 - mse: 0.2901\n",
            "Epoch 3/10\n",
            "1/1 [==============================] - 0s 61ms/step - loss: 0.2902 - mse: 0.2902\n",
            "Epoch 4/10\n",
            "1/1 [==============================] - 0s 72ms/step - loss: 0.2903 - mse: 0.2903\n",
            "Epoch 5/10\n",
            "1/1 [==============================] - 0s 62ms/step - loss: 0.2901 - mse: 0.2901\n",
            "Epoch 6/10\n",
            "1/1 [==============================] - 0s 62ms/step - loss: 0.2903 - mse: 0.2903\n",
            "Epoch 7/10\n",
            "1/1 [==============================] - 0s 64ms/step - loss: 0.2902 - mse: 0.2902\n",
            "Epoch 8/10\n",
            "1/1 [==============================] - 0s 81ms/step - loss: 0.2901 - mse: 0.2901\n",
            "Epoch 9/10\n",
            "1/1 [==============================] - 0s 80ms/step - loss: 0.2902 - mse: 0.2902\n",
            "Epoch 10/10\n",
            "1/1 [==============================] - 0s 63ms/step - loss: 0.2902 - mse: 0.2902\n"
          ],
          "name": "stdout"
        },
        {
          "output_type": "stream",
          "text": [
            "\r 47%|████▋     | 246/529 [04:04<04:19,  1.09it/s]"
          ],
          "name": "stderr"
        },
        {
          "output_type": "stream",
          "text": [
            "Epoch 1/10\n",
            "1/1 [==============================] - 0s 64ms/step - loss: 0.3072 - mse: 0.3072\n",
            "Epoch 2/10\n",
            "1/1 [==============================] - 0s 67ms/step - loss: 0.3070 - mse: 0.3070\n",
            "Epoch 3/10\n",
            "1/1 [==============================] - 0s 67ms/step - loss: 0.3074 - mse: 0.3074\n",
            "Epoch 4/10\n",
            "1/1 [==============================] - 0s 67ms/step - loss: 0.3069 - mse: 0.3069\n",
            "Epoch 5/10\n",
            "1/1 [==============================] - 0s 75ms/step - loss: 0.3071 - mse: 0.3071\n",
            "Epoch 6/10\n",
            "1/1 [==============================] - 0s 72ms/step - loss: 0.3072 - mse: 0.3072\n",
            "Epoch 7/10\n",
            "1/1 [==============================] - 0s 67ms/step - loss: 0.3069 - mse: 0.3069\n",
            "Epoch 8/10\n",
            "1/1 [==============================] - 0s 64ms/step - loss: 0.3071 - mse: 0.3071\n",
            "Epoch 9/10\n",
            "1/1 [==============================] - 0s 71ms/step - loss: 0.3070 - mse: 0.3070\n",
            "Epoch 10/10\n",
            "1/1 [==============================] - 0s 65ms/step - loss: 0.3069 - mse: 0.3069\n"
          ],
          "name": "stdout"
        },
        {
          "output_type": "stream",
          "text": [
            "\r 47%|████▋     | 247/529 [04:05<04:20,  1.08it/s]"
          ],
          "name": "stderr"
        },
        {
          "output_type": "stream",
          "text": [
            "Epoch 1/10\n",
            "1/1 [==============================] - 0s 69ms/step - loss: 0.3081 - mse: 0.3081\n",
            "Epoch 2/10\n",
            "1/1 [==============================] - 0s 67ms/step - loss: 0.3078 - mse: 0.3078\n",
            "Epoch 3/10\n",
            "1/1 [==============================] - 0s 65ms/step - loss: 0.3079 - mse: 0.3079\n",
            "Epoch 4/10\n",
            "1/1 [==============================] - 0s 64ms/step - loss: 0.3080 - mse: 0.3080\n",
            "Epoch 5/10\n",
            "1/1 [==============================] - 0s 73ms/step - loss: 0.3078 - mse: 0.3078\n",
            "Epoch 6/10\n",
            "1/1 [==============================] - 0s 74ms/step - loss: 0.3079 - mse: 0.3079\n",
            "Epoch 7/10\n",
            "1/1 [==============================] - 0s 70ms/step - loss: 0.3079 - mse: 0.3079\n",
            "Epoch 8/10\n",
            "1/1 [==============================] - 0s 75ms/step - loss: 0.3078 - mse: 0.3078\n",
            "Epoch 9/10\n",
            "1/1 [==============================] - 0s 68ms/step - loss: 0.3079 - mse: 0.3079\n",
            "Epoch 10/10\n",
            "1/1 [==============================] - 0s 70ms/step - loss: 0.3078 - mse: 0.3078\n"
          ],
          "name": "stdout"
        },
        {
          "output_type": "stream",
          "text": [
            "\r 47%|████▋     | 248/529 [04:06<04:25,  1.06it/s]"
          ],
          "name": "stderr"
        },
        {
          "output_type": "stream",
          "text": [
            "Epoch 1/10\n",
            "1/1 [==============================] - 0s 66ms/step - loss: 0.3053 - mse: 0.3053\n",
            "Epoch 2/10\n",
            "1/1 [==============================] - 0s 67ms/step - loss: 0.3053 - mse: 0.3053\n",
            "Epoch 3/10\n",
            "1/1 [==============================] - 0s 78ms/step - loss: 0.3053 - mse: 0.3053\n",
            "Epoch 4/10\n",
            "1/1 [==============================] - 0s 71ms/step - loss: 0.3053 - mse: 0.3053\n",
            "Epoch 5/10\n",
            "1/1 [==============================] - 0s 68ms/step - loss: 0.3053 - mse: 0.3053\n",
            "Epoch 6/10\n",
            "1/1 [==============================] - 0s 77ms/step - loss: 0.3053 - mse: 0.3053\n",
            "Epoch 7/10\n",
            "1/1 [==============================] - 0s 76ms/step - loss: 0.3053 - mse: 0.3053\n",
            "Epoch 8/10\n",
            "1/1 [==============================] - 0s 66ms/step - loss: 0.3053 - mse: 0.3053\n",
            "Epoch 9/10\n",
            "1/1 [==============================] - 0s 65ms/step - loss: 0.3052 - mse: 0.3052\n",
            "Epoch 10/10\n",
            "1/1 [==============================] - 0s 66ms/step - loss: 0.3053 - mse: 0.3053\n"
          ],
          "name": "stdout"
        },
        {
          "output_type": "stream",
          "text": [
            "\r 47%|████▋     | 249/529 [04:07<04:28,  1.04it/s]"
          ],
          "name": "stderr"
        },
        {
          "output_type": "stream",
          "text": [
            "Epoch 1/10\n",
            "1/1 [==============================] - 0s 67ms/step - loss: 0.2989 - mse: 0.2989\n",
            "Epoch 2/10\n",
            "1/1 [==============================] - 0s 68ms/step - loss: 0.2987 - mse: 0.2987\n",
            "Epoch 3/10\n",
            "1/1 [==============================] - 0s 66ms/step - loss: 0.2988 - mse: 0.2988\n",
            "Epoch 4/10\n",
            "1/1 [==============================] - 0s 70ms/step - loss: 0.2987 - mse: 0.2987\n",
            "Epoch 5/10\n",
            "1/1 [==============================] - 0s 74ms/step - loss: 0.2986 - mse: 0.2986\n",
            "Epoch 6/10\n",
            "1/1 [==============================] - 0s 63ms/step - loss: 0.2988 - mse: 0.2988\n",
            "Epoch 7/10\n",
            "1/1 [==============================] - 0s 69ms/step - loss: 0.2987 - mse: 0.2987\n",
            "Epoch 8/10\n",
            "1/1 [==============================] - 0s 69ms/step - loss: 0.2987 - mse: 0.2987\n",
            "Epoch 9/10\n",
            "1/1 [==============================] - 0s 71ms/step - loss: 0.2987 - mse: 0.2987\n",
            "Epoch 10/10\n",
            "1/1 [==============================] - 0s 69ms/step - loss: 0.2986 - mse: 0.2986\n"
          ],
          "name": "stdout"
        },
        {
          "output_type": "stream",
          "text": [
            "\r 47%|████▋     | 250/529 [04:08<04:26,  1.05it/s]"
          ],
          "name": "stderr"
        },
        {
          "output_type": "stream",
          "text": [
            "Epoch 1/10\n",
            "1/1 [==============================] - 0s 65ms/step - loss: 0.3330 - mse: 0.3330\n",
            "Epoch 2/10\n",
            "1/1 [==============================] - 0s 62ms/step - loss: 0.3319 - mse: 0.3319\n",
            "Epoch 3/10\n",
            "1/1 [==============================] - 0s 57ms/step - loss: 0.3333 - mse: 0.3333\n",
            "Epoch 4/10\n",
            "1/1 [==============================] - 0s 62ms/step - loss: 0.3318 - mse: 0.3318\n",
            "Epoch 5/10\n",
            "1/1 [==============================] - 0s 66ms/step - loss: 0.3323 - mse: 0.3323\n",
            "Epoch 6/10\n",
            "1/1 [==============================] - 0s 63ms/step - loss: 0.3327 - mse: 0.3327\n",
            "Epoch 7/10\n",
            "1/1 [==============================] - 0s 62ms/step - loss: 0.3317 - mse: 0.3317\n",
            "Epoch 8/10\n",
            "1/1 [==============================] - 0s 74ms/step - loss: 0.3325 - mse: 0.3325\n",
            "Epoch 9/10\n",
            "1/1 [==============================] - 0s 65ms/step - loss: 0.3321 - mse: 0.3321\n",
            "Epoch 10/10\n",
            "1/1 [==============================] - 0s 64ms/step - loss: 0.3317 - mse: 0.3317\n"
          ],
          "name": "stdout"
        },
        {
          "output_type": "stream",
          "text": [
            "\r 47%|████▋     | 251/529 [04:09<04:23,  1.06it/s]"
          ],
          "name": "stderr"
        },
        {
          "output_type": "stream",
          "text": [
            "Epoch 1/10\n",
            "1/1 [==============================] - 0s 64ms/step - loss: 0.3076 - mse: 0.3076\n",
            "Epoch 2/10\n",
            "1/1 [==============================] - 0s 63ms/step - loss: 0.3077 - mse: 0.3077\n",
            "Epoch 3/10\n",
            "1/1 [==============================] - 0s 63ms/step - loss: 0.3076 - mse: 0.3076\n",
            "Epoch 4/10\n",
            "1/1 [==============================] - 0s 68ms/step - loss: 0.3074 - mse: 0.3074\n",
            "Epoch 5/10\n",
            "1/1 [==============================] - 0s 66ms/step - loss: 0.3076 - mse: 0.3076\n",
            "Epoch 6/10\n",
            "1/1 [==============================] - 0s 68ms/step - loss: 0.3076 - mse: 0.3076\n",
            "Epoch 7/10\n",
            "1/1 [==============================] - 0s 66ms/step - loss: 0.3075 - mse: 0.3075\n",
            "Epoch 8/10\n",
            "1/1 [==============================] - 0s 60ms/step - loss: 0.3076 - mse: 0.3076\n",
            "Epoch 9/10\n",
            "1/1 [==============================] - 0s 70ms/step - loss: 0.3075 - mse: 0.3075\n",
            "Epoch 10/10\n",
            "1/1 [==============================] - 0s 66ms/step - loss: 0.3074 - mse: 0.3074\n"
          ],
          "name": "stdout"
        },
        {
          "output_type": "stream",
          "text": [
            "\r 48%|████▊     | 252/529 [04:10<04:18,  1.07it/s]"
          ],
          "name": "stderr"
        },
        {
          "output_type": "stream",
          "text": [
            "Epoch 1/10\n",
            "1/1 [==============================] - 0s 65ms/step - loss: 0.3058 - mse: 0.3058\n",
            "Epoch 2/10\n",
            "1/1 [==============================] - 0s 62ms/step - loss: 0.3056 - mse: 0.3056\n",
            "Epoch 3/10\n",
            "1/1 [==============================] - 0s 65ms/step - loss: 0.3057 - mse: 0.3057\n",
            "Epoch 4/10\n",
            "1/1 [==============================] - 0s 59ms/step - loss: 0.3057 - mse: 0.3057\n",
            "Epoch 5/10\n",
            "1/1 [==============================] - 0s 64ms/step - loss: 0.3056 - mse: 0.3056\n",
            "Epoch 6/10\n",
            "1/1 [==============================] - 0s 70ms/step - loss: 0.3056 - mse: 0.3056\n",
            "Epoch 7/10\n",
            "1/1 [==============================] - 0s 60ms/step - loss: 0.3056 - mse: 0.3056\n",
            "Epoch 8/10\n",
            "1/1 [==============================] - 0s 62ms/step - loss: 0.3055 - mse: 0.3055\n",
            "Epoch 9/10\n",
            "1/1 [==============================] - 0s 68ms/step - loss: 0.3056 - mse: 0.3056\n",
            "Epoch 10/10\n",
            "1/1 [==============================] - 0s 64ms/step - loss: 0.3056 - mse: 0.3056\n"
          ],
          "name": "stdout"
        },
        {
          "output_type": "stream",
          "text": [
            "\r 48%|████▊     | 253/529 [04:11<04:14,  1.08it/s]"
          ],
          "name": "stderr"
        },
        {
          "output_type": "stream",
          "text": [
            "Epoch 1/10\n",
            "1/1 [==============================] - 0s 63ms/step - loss: 0.3057 - mse: 0.3057\n",
            "Epoch 2/10\n",
            "1/1 [==============================] - 0s 64ms/step - loss: 0.3058 - mse: 0.3058\n",
            "Epoch 3/10\n",
            "1/1 [==============================] - 0s 78ms/step - loss: 0.3057 - mse: 0.3057\n",
            "Epoch 4/10\n",
            "1/1 [==============================] - 0s 68ms/step - loss: 0.3057 - mse: 0.3057\n",
            "Epoch 5/10\n",
            "1/1 [==============================] - 0s 70ms/step - loss: 0.3057 - mse: 0.3057\n",
            "Epoch 6/10\n",
            "1/1 [==============================] - 0s 70ms/step - loss: 0.3057 - mse: 0.3057\n",
            "Epoch 7/10\n",
            "1/1 [==============================] - 0s 64ms/step - loss: 0.3057 - mse: 0.3057\n",
            "Epoch 8/10\n",
            "1/1 [==============================] - 0s 66ms/step - loss: 0.3057 - mse: 0.3057\n",
            "Epoch 9/10\n",
            "1/1 [==============================] - 0s 65ms/step - loss: 0.3057 - mse: 0.3057\n",
            "Epoch 10/10\n",
            "1/1 [==============================] - 0s 68ms/step - loss: 0.3057 - mse: 0.3057\n"
          ],
          "name": "stdout"
        },
        {
          "output_type": "stream",
          "text": [
            "\r 48%|████▊     | 254/529 [04:12<04:12,  1.09it/s]"
          ],
          "name": "stderr"
        },
        {
          "output_type": "stream",
          "text": [
            "Epoch 1/10\n",
            "1/1 [==============================] - 0s 65ms/step - loss: 0.3017 - mse: 0.3017\n",
            "Epoch 2/10\n",
            "1/1 [==============================] - 0s 63ms/step - loss: 0.3016 - mse: 0.3016\n",
            "Epoch 3/10\n",
            "1/1 [==============================] - 0s 64ms/step - loss: 0.3016 - mse: 0.3016\n",
            "Epoch 4/10\n",
            "1/1 [==============================] - 0s 69ms/step - loss: 0.3016 - mse: 0.3016\n",
            "Epoch 5/10\n",
            "1/1 [==============================] - 0s 66ms/step - loss: 0.3016 - mse: 0.3016\n",
            "Epoch 6/10\n",
            "1/1 [==============================] - 0s 67ms/step - loss: 0.3016 - mse: 0.3016\n",
            "Epoch 7/10\n",
            "1/1 [==============================] - 0s 66ms/step - loss: 0.3016 - mse: 0.3016\n",
            "Epoch 8/10\n",
            "1/1 [==============================] - 0s 61ms/step - loss: 0.3016 - mse: 0.3016\n",
            "Epoch 9/10\n",
            "1/1 [==============================] - 0s 64ms/step - loss: 0.3016 - mse: 0.3016\n",
            "Epoch 10/10\n",
            "1/1 [==============================] - 0s 65ms/step - loss: 0.3016 - mse: 0.3016\n"
          ],
          "name": "stdout"
        },
        {
          "output_type": "stream",
          "text": [
            "\r 48%|████▊     | 255/529 [04:12<04:09,  1.10it/s]"
          ],
          "name": "stderr"
        },
        {
          "output_type": "stream",
          "text": [
            "Epoch 1/10\n",
            "1/1 [==============================] - 0s 64ms/step - loss: 0.3071 - mse: 0.3071\n",
            "Epoch 2/10\n",
            "1/1 [==============================] - 0s 63ms/step - loss: 0.3070 - mse: 0.3070\n",
            "Epoch 3/10\n",
            "1/1 [==============================] - 0s 62ms/step - loss: 0.3071 - mse: 0.3071\n",
            "Epoch 4/10\n",
            "1/1 [==============================] - 0s 64ms/step - loss: 0.3071 - mse: 0.3071\n",
            "Epoch 5/10\n",
            "1/1 [==============================] - 0s 67ms/step - loss: 0.3070 - mse: 0.3070\n",
            "Epoch 6/10\n",
            "1/1 [==============================] - 0s 66ms/step - loss: 0.3071 - mse: 0.3071\n",
            "Epoch 7/10\n",
            "1/1 [==============================] - 0s 65ms/step - loss: 0.3071 - mse: 0.3071\n",
            "Epoch 8/10\n",
            "1/1 [==============================] - 0s 63ms/step - loss: 0.3070 - mse: 0.3070\n",
            "Epoch 9/10\n",
            "1/1 [==============================] - 0s 61ms/step - loss: 0.3071 - mse: 0.3071\n",
            "Epoch 10/10\n",
            "1/1 [==============================] - 0s 70ms/step - loss: 0.3070 - mse: 0.3070\n"
          ],
          "name": "stdout"
        },
        {
          "output_type": "stream",
          "text": [
            "\r 48%|████▊     | 256/529 [04:13<04:07,  1.10it/s]"
          ],
          "name": "stderr"
        },
        {
          "output_type": "stream",
          "text": [
            "Epoch 1/10\n",
            "1/1 [==============================] - 0s 64ms/step - loss: 0.3146 - mse: 0.3146\n",
            "Epoch 2/10\n",
            "1/1 [==============================] - 0s 65ms/step - loss: 0.3145 - mse: 0.3145\n",
            "Epoch 3/10\n",
            "1/1 [==============================] - 0s 72ms/step - loss: 0.3145 - mse: 0.3145\n",
            "Epoch 4/10\n",
            "1/1 [==============================] - 0s 72ms/step - loss: 0.3145 - mse: 0.3145\n",
            "Epoch 5/10\n",
            "1/1 [==============================] - 0s 66ms/step - loss: 0.3144 - mse: 0.3144\n",
            "Epoch 6/10\n",
            "1/1 [==============================] - 0s 69ms/step - loss: 0.3145 - mse: 0.3145\n",
            "Epoch 7/10\n",
            "1/1 [==============================] - 0s 73ms/step - loss: 0.3145 - mse: 0.3145\n",
            "Epoch 8/10\n",
            "1/1 [==============================] - 0s 66ms/step - loss: 0.3144 - mse: 0.3144\n",
            "Epoch 9/10\n",
            "1/1 [==============================] - 0s 71ms/step - loss: 0.3145 - mse: 0.3145\n",
            "Epoch 10/10\n",
            "1/1 [==============================] - 0s 74ms/step - loss: 0.3144 - mse: 0.3144\n"
          ],
          "name": "stdout"
        },
        {
          "output_type": "stream",
          "text": [
            "\r 49%|████▊     | 257/529 [04:14<04:10,  1.09it/s]"
          ],
          "name": "stderr"
        },
        {
          "output_type": "stream",
          "text": [
            "Epoch 1/10\n",
            "1/1 [==============================] - 0s 58ms/step - loss: 0.3077 - mse: 0.3077\n",
            "Epoch 2/10\n",
            "1/1 [==============================] - 0s 63ms/step - loss: 0.3077 - mse: 0.3077\n",
            "Epoch 3/10\n",
            "1/1 [==============================] - 0s 60ms/step - loss: 0.3078 - mse: 0.3078\n",
            "Epoch 4/10\n",
            "1/1 [==============================] - 0s 67ms/step - loss: 0.3076 - mse: 0.3076\n",
            "Epoch 5/10\n",
            "1/1 [==============================] - 0s 71ms/step - loss: 0.3077 - mse: 0.3077\n",
            "Epoch 6/10\n",
            "1/1 [==============================] - 0s 69ms/step - loss: 0.3077 - mse: 0.3077\n",
            "Epoch 7/10\n",
            "1/1 [==============================] - 0s 76ms/step - loss: 0.3076 - mse: 0.3076\n",
            "Epoch 8/10\n",
            "1/1 [==============================] - 0s 67ms/step - loss: 0.3077 - mse: 0.3077\n",
            "Epoch 9/10\n",
            "1/1 [==============================] - 0s 65ms/step - loss: 0.3077 - mse: 0.3077\n",
            "Epoch 10/10\n",
            "1/1 [==============================] - 0s 68ms/step - loss: 0.3076 - mse: 0.3076\n"
          ],
          "name": "stdout"
        },
        {
          "output_type": "stream",
          "text": [
            "\r 49%|████▉     | 258/529 [04:15<04:12,  1.07it/s]"
          ],
          "name": "stderr"
        },
        {
          "output_type": "stream",
          "text": [
            "Epoch 1/10\n",
            "1/1 [==============================] - 0s 68ms/step - loss: 0.3081 - mse: 0.3081\n",
            "Epoch 2/10\n",
            "1/1 [==============================] - 0s 67ms/step - loss: 0.3080 - mse: 0.3080\n",
            "Epoch 3/10\n",
            "1/1 [==============================] - 0s 61ms/step - loss: 0.3080 - mse: 0.3080\n",
            "Epoch 4/10\n",
            "1/1 [==============================] - 0s 68ms/step - loss: 0.3081 - mse: 0.3081\n",
            "Epoch 5/10\n",
            "1/1 [==============================] - 0s 69ms/step - loss: 0.3080 - mse: 0.3080\n",
            "Epoch 6/10\n",
            "1/1 [==============================] - 0s 66ms/step - loss: 0.3080 - mse: 0.3080\n",
            "Epoch 7/10\n",
            "1/1 [==============================] - 0s 67ms/step - loss: 0.3081 - mse: 0.3081\n",
            "Epoch 8/10\n",
            "1/1 [==============================] - 0s 62ms/step - loss: 0.3080 - mse: 0.3080\n",
            "Epoch 9/10\n",
            "1/1 [==============================] - 0s 65ms/step - loss: 0.3080 - mse: 0.3080\n",
            "Epoch 10/10\n",
            "1/1 [==============================] - 0s 77ms/step - loss: 0.3080 - mse: 0.3080\n"
          ],
          "name": "stdout"
        },
        {
          "output_type": "stream",
          "text": [
            "\r 49%|████▉     | 259/529 [04:16<04:11,  1.07it/s]"
          ],
          "name": "stderr"
        },
        {
          "output_type": "stream",
          "text": [
            "Epoch 1/10\n",
            "1/1 [==============================] - 0s 60ms/step - loss: 0.3074 - mse: 0.3074\n",
            "Epoch 2/10\n",
            "1/1 [==============================] - 0s 61ms/step - loss: 0.3074 - mse: 0.3074\n",
            "Epoch 3/10\n",
            "1/1 [==============================] - 0s 66ms/step - loss: 0.3073 - mse: 0.3073\n",
            "Epoch 4/10\n",
            "1/1 [==============================] - 0s 66ms/step - loss: 0.3073 - mse: 0.3073\n",
            "Epoch 5/10\n",
            "1/1 [==============================] - 0s 65ms/step - loss: 0.3073 - mse: 0.3073\n",
            "Epoch 6/10\n",
            "1/1 [==============================] - 0s 77ms/step - loss: 0.3073 - mse: 0.3073\n",
            "Epoch 7/10\n",
            "1/1 [==============================] - 0s 65ms/step - loss: 0.3073 - mse: 0.3073\n",
            "Epoch 8/10\n",
            "1/1 [==============================] - 0s 67ms/step - loss: 0.3073 - mse: 0.3073\n",
            "Epoch 9/10\n",
            "1/1 [==============================] - 0s 69ms/step - loss: 0.3073 - mse: 0.3073\n",
            "Epoch 10/10\n",
            "1/1 [==============================] - 0s 65ms/step - loss: 0.3073 - mse: 0.3073\n"
          ],
          "name": "stdout"
        },
        {
          "output_type": "stream",
          "text": [
            "\r 49%|████▉     | 260/529 [04:17<04:09,  1.08it/s]"
          ],
          "name": "stderr"
        },
        {
          "output_type": "stream",
          "text": [
            "Epoch 1/10\n",
            "1/1 [==============================] - 0s 60ms/step - loss: 0.3074 - mse: 0.3074\n",
            "Epoch 2/10\n",
            "1/1 [==============================] - 0s 65ms/step - loss: 0.3074 - mse: 0.3074\n",
            "Epoch 3/10\n",
            "1/1 [==============================] - 0s 67ms/step - loss: 0.3074 - mse: 0.3074\n",
            "Epoch 4/10\n",
            "1/1 [==============================] - 0s 71ms/step - loss: 0.3074 - mse: 0.3074\n",
            "Epoch 5/10\n",
            "1/1 [==============================] - 0s 64ms/step - loss: 0.3074 - mse: 0.3074\n",
            "Epoch 6/10\n",
            "1/1 [==============================] - 0s 63ms/step - loss: 0.3074 - mse: 0.3074\n",
            "Epoch 7/10\n",
            "1/1 [==============================] - 0s 76ms/step - loss: 0.3074 - mse: 0.3074\n",
            "Epoch 8/10\n",
            "1/1 [==============================] - 0s 68ms/step - loss: 0.3074 - mse: 0.3074\n",
            "Epoch 9/10\n",
            "1/1 [==============================] - 0s 68ms/step - loss: 0.3074 - mse: 0.3074\n",
            "Epoch 10/10\n",
            "1/1 [==============================] - 0s 65ms/step - loss: 0.3074 - mse: 0.3074\n"
          ],
          "name": "stdout"
        },
        {
          "output_type": "stream",
          "text": [
            "\r 49%|████▉     | 261/529 [04:18<04:09,  1.08it/s]"
          ],
          "name": "stderr"
        },
        {
          "output_type": "stream",
          "text": [
            "Epoch 1/10\n",
            "1/1 [==============================] - 0s 63ms/step - loss: 0.3074 - mse: 0.3074\n",
            "Epoch 2/10\n",
            "1/1 [==============================] - 0s 65ms/step - loss: 0.3074 - mse: 0.3074\n",
            "Epoch 3/10\n",
            "1/1 [==============================] - 0s 73ms/step - loss: 0.3074 - mse: 0.3074\n",
            "Epoch 4/10\n",
            "1/1 [==============================] - 0s 65ms/step - loss: 0.3074 - mse: 0.3074\n",
            "Epoch 5/10\n",
            "1/1 [==============================] - 0s 66ms/step - loss: 0.3074 - mse: 0.3074\n",
            "Epoch 6/10\n",
            "1/1 [==============================] - 0s 71ms/step - loss: 0.3074 - mse: 0.3074\n",
            "Epoch 7/10\n",
            "1/1 [==============================] - 0s 65ms/step - loss: 0.3074 - mse: 0.3074\n",
            "Epoch 8/10\n",
            "1/1 [==============================] - 0s 76ms/step - loss: 0.3074 - mse: 0.3074\n",
            "Epoch 9/10\n",
            "1/1 [==============================] - 0s 67ms/step - loss: 0.3074 - mse: 0.3074\n",
            "Epoch 10/10\n",
            "1/1 [==============================] - 0s 72ms/step - loss: 0.3074 - mse: 0.3074\n"
          ],
          "name": "stdout"
        },
        {
          "output_type": "stream",
          "text": [
            "\r 50%|████▉     | 262/529 [04:19<04:08,  1.07it/s]"
          ],
          "name": "stderr"
        },
        {
          "output_type": "stream",
          "text": [
            "Epoch 1/10\n",
            "1/1 [==============================] - 0s 67ms/step - loss: 0.3066 - mse: 0.3066\n",
            "Epoch 2/10\n",
            "1/1 [==============================] - 0s 61ms/step - loss: 0.3066 - mse: 0.3066\n",
            "Epoch 3/10\n",
            "1/1 [==============================] - 0s 62ms/step - loss: 0.3066 - mse: 0.3066\n",
            "Epoch 4/10\n",
            "1/1 [==============================] - 0s 62ms/step - loss: 0.3066 - mse: 0.3066\n",
            "Epoch 5/10\n",
            "1/1 [==============================] - 0s 62ms/step - loss: 0.3066 - mse: 0.3066\n",
            "Epoch 6/10\n",
            "1/1 [==============================] - 0s 66ms/step - loss: 0.3066 - mse: 0.3066\n",
            "Epoch 7/10\n",
            "1/1 [==============================] - 0s 65ms/step - loss: 0.3066 - mse: 0.3066\n",
            "Epoch 8/10\n",
            "1/1 [==============================] - 0s 67ms/step - loss: 0.3066 - mse: 0.3066\n",
            "Epoch 9/10\n",
            "1/1 [==============================] - 0s 71ms/step - loss: 0.3066 - mse: 0.3066\n",
            "Epoch 10/10\n",
            "1/1 [==============================] - 0s 71ms/step - loss: 0.3066 - mse: 0.3066\n"
          ],
          "name": "stdout"
        },
        {
          "output_type": "stream",
          "text": [
            "\r 50%|████▉     | 263/529 [04:20<04:06,  1.08it/s]"
          ],
          "name": "stderr"
        },
        {
          "output_type": "stream",
          "text": [
            "Epoch 1/10\n",
            "1/1 [==============================] - 0s 66ms/step - loss: 0.3095 - mse: 0.3095\n",
            "Epoch 2/10\n",
            "1/1 [==============================] - 0s 62ms/step - loss: 0.3095 - mse: 0.3095\n",
            "Epoch 3/10\n",
            "1/1 [==============================] - 0s 61ms/step - loss: 0.3095 - mse: 0.3095\n",
            "Epoch 4/10\n",
            "1/1 [==============================] - 0s 62ms/step - loss: 0.3095 - mse: 0.3095\n",
            "Epoch 5/10\n",
            "1/1 [==============================] - 0s 70ms/step - loss: 0.3095 - mse: 0.3095\n",
            "Epoch 6/10\n",
            "1/1 [==============================] - 0s 67ms/step - loss: 0.3095 - mse: 0.3095\n",
            "Epoch 7/10\n",
            "1/1 [==============================] - 0s 66ms/step - loss: 0.3095 - mse: 0.3095\n",
            "Epoch 8/10\n",
            "1/1 [==============================] - 0s 68ms/step - loss: 0.3095 - mse: 0.3095\n",
            "Epoch 9/10\n",
            "1/1 [==============================] - 0s 73ms/step - loss: 0.3095 - mse: 0.3095\n",
            "Epoch 10/10\n",
            "1/1 [==============================] - 0s 72ms/step - loss: 0.3095 - mse: 0.3095\n"
          ],
          "name": "stdout"
        },
        {
          "output_type": "stream",
          "text": [
            "\r 50%|████▉     | 264/529 [04:21<04:07,  1.07it/s]"
          ],
          "name": "stderr"
        },
        {
          "output_type": "stream",
          "text": [
            "Epoch 1/10\n",
            "1/1 [==============================] - 0s 62ms/step - loss: 0.3062 - mse: 0.3062\n",
            "Epoch 2/10\n",
            "1/1 [==============================] - 0s 67ms/step - loss: 0.3062 - mse: 0.3062\n",
            "Epoch 3/10\n",
            "1/1 [==============================] - 0s 64ms/step - loss: 0.3062 - mse: 0.3062\n",
            "Epoch 4/10\n",
            "1/1 [==============================] - 0s 68ms/step - loss: 0.3062 - mse: 0.3062\n",
            "Epoch 5/10\n",
            "1/1 [==============================] - 0s 63ms/step - loss: 0.3062 - mse: 0.3062\n",
            "Epoch 6/10\n",
            "1/1 [==============================] - 0s 62ms/step - loss: 0.3062 - mse: 0.3062\n",
            "Epoch 7/10\n",
            "1/1 [==============================] - 0s 63ms/step - loss: 0.3062 - mse: 0.3062\n",
            "Epoch 8/10\n",
            "1/1 [==============================] - 0s 62ms/step - loss: 0.3062 - mse: 0.3062\n",
            "Epoch 9/10\n",
            "1/1 [==============================] - 0s 62ms/step - loss: 0.3062 - mse: 0.3062\n",
            "Epoch 10/10\n",
            "1/1 [==============================] - 0s 67ms/step - loss: 0.3062 - mse: 0.3062\n"
          ],
          "name": "stdout"
        },
        {
          "output_type": "stream",
          "text": [
            "\r 50%|█████     | 265/529 [04:22<04:05,  1.08it/s]"
          ],
          "name": "stderr"
        },
        {
          "output_type": "stream",
          "text": [
            "Epoch 1/10\n",
            "1/1 [==============================] - 0s 66ms/step - loss: 0.3094 - mse: 0.3094\n",
            "Epoch 2/10\n",
            "1/1 [==============================] - 0s 66ms/step - loss: 0.3094 - mse: 0.3094\n",
            "Epoch 3/10\n",
            "1/1 [==============================] - 0s 71ms/step - loss: 0.3094 - mse: 0.3094\n",
            "Epoch 4/10\n",
            "1/1 [==============================] - 0s 65ms/step - loss: 0.3094 - mse: 0.3094\n",
            "Epoch 5/10\n",
            "1/1 [==============================] - 0s 64ms/step - loss: 0.3094 - mse: 0.3094\n",
            "Epoch 6/10\n",
            "1/1 [==============================] - 0s 67ms/step - loss: 0.3094 - mse: 0.3094\n",
            "Epoch 7/10\n",
            "1/1 [==============================] - 0s 69ms/step - loss: 0.3094 - mse: 0.3094\n",
            "Epoch 8/10\n",
            "1/1 [==============================] - 0s 82ms/step - loss: 0.3094 - mse: 0.3094\n",
            "Epoch 9/10\n",
            "1/1 [==============================] - 0s 65ms/step - loss: 0.3094 - mse: 0.3094\n",
            "Epoch 10/10\n",
            "1/1 [==============================] - 0s 65ms/step - loss: 0.3094 - mse: 0.3094\n"
          ],
          "name": "stdout"
        },
        {
          "output_type": "stream",
          "text": [
            "\r 50%|█████     | 266/529 [04:23<04:03,  1.08it/s]"
          ],
          "name": "stderr"
        },
        {
          "output_type": "stream",
          "text": [
            "Epoch 1/10\n",
            "1/1 [==============================] - 0s 66ms/step - loss: 0.3087 - mse: 0.3087\n",
            "Epoch 2/10\n",
            "1/1 [==============================] - 0s 62ms/step - loss: 0.3087 - mse: 0.3087\n",
            "Epoch 3/10\n",
            "1/1 [==============================] - 0s 59ms/step - loss: 0.3087 - mse: 0.3087\n",
            "Epoch 4/10\n",
            "1/1 [==============================] - 0s 67ms/step - loss: 0.3087 - mse: 0.3087\n",
            "Epoch 5/10\n",
            "1/1 [==============================] - 0s 65ms/step - loss: 0.3087 - mse: 0.3087\n",
            "Epoch 6/10\n",
            "1/1 [==============================] - 0s 66ms/step - loss: 0.3087 - mse: 0.3087\n",
            "Epoch 7/10\n",
            "1/1 [==============================] - 0s 67ms/step - loss: 0.3087 - mse: 0.3087\n",
            "Epoch 8/10\n",
            "1/1 [==============================] - 0s 65ms/step - loss: 0.3087 - mse: 0.3087\n",
            "Epoch 9/10\n",
            "1/1 [==============================] - 0s 65ms/step - loss: 0.3087 - mse: 0.3087\n",
            "Epoch 10/10\n",
            "1/1 [==============================] - 0s 64ms/step - loss: 0.3087 - mse: 0.3087\n"
          ],
          "name": "stdout"
        },
        {
          "output_type": "stream",
          "text": [
            "\r 50%|█████     | 267/529 [04:24<04:01,  1.09it/s]"
          ],
          "name": "stderr"
        },
        {
          "output_type": "stream",
          "text": [
            "Epoch 1/10\n",
            "1/1 [==============================] - 0s 67ms/step - loss: 0.3187 - mse: 0.3187\n",
            "Epoch 2/10\n",
            "1/1 [==============================] - 0s 63ms/step - loss: 0.3185 - mse: 0.3185\n",
            "Epoch 3/10\n",
            "1/1 [==============================] - 0s 63ms/step - loss: 0.3187 - mse: 0.3187\n",
            "Epoch 4/10\n",
            "1/1 [==============================] - 0s 69ms/step - loss: 0.3186 - mse: 0.3186\n",
            "Epoch 5/10\n",
            "1/1 [==============================] - 0s 62ms/step - loss: 0.3185 - mse: 0.3185\n",
            "Epoch 6/10\n",
            "1/1 [==============================] - 0s 62ms/step - loss: 0.3186 - mse: 0.3186\n",
            "Epoch 7/10\n",
            "1/1 [==============================] - 0s 67ms/step - loss: 0.3185 - mse: 0.3185\n",
            "Epoch 8/10\n",
            "1/1 [==============================] - 0s 64ms/step - loss: 0.3186 - mse: 0.3186\n",
            "Epoch 9/10\n",
            "1/1 [==============================] - 0s 66ms/step - loss: 0.3186 - mse: 0.3186\n",
            "Epoch 10/10\n",
            "1/1 [==============================] - 0s 67ms/step - loss: 0.3185 - mse: 0.3185\n"
          ],
          "name": "stdout"
        },
        {
          "output_type": "stream",
          "text": [
            "\r 51%|█████     | 268/529 [04:25<03:59,  1.09it/s]"
          ],
          "name": "stderr"
        },
        {
          "output_type": "stream",
          "text": [
            "Epoch 1/10\n",
            "1/1 [==============================] - 0s 64ms/step - loss: 0.3079 - mse: 0.3079\n",
            "Epoch 2/10\n",
            "1/1 [==============================] - 0s 77ms/step - loss: 0.3079 - mse: 0.3079\n",
            "Epoch 3/10\n",
            "1/1 [==============================] - 0s 65ms/step - loss: 0.3079 - mse: 0.3079\n",
            "Epoch 4/10\n",
            "1/1 [==============================] - 0s 65ms/step - loss: 0.3078 - mse: 0.3078\n",
            "Epoch 5/10\n",
            "1/1 [==============================] - 0s 66ms/step - loss: 0.3079 - mse: 0.3079\n",
            "Epoch 6/10\n",
            "1/1 [==============================] - 0s 65ms/step - loss: 0.3079 - mse: 0.3079\n",
            "Epoch 7/10\n",
            "1/1 [==============================] - 0s 67ms/step - loss: 0.3078 - mse: 0.3078\n",
            "Epoch 8/10\n",
            "1/1 [==============================] - 0s 65ms/step - loss: 0.3079 - mse: 0.3079\n",
            "Epoch 9/10\n",
            "1/1 [==============================] - 0s 64ms/step - loss: 0.3078 - mse: 0.3078\n",
            "Epoch 10/10\n",
            "1/1 [==============================] - 0s 67ms/step - loss: 0.3078 - mse: 0.3078\n"
          ],
          "name": "stdout"
        },
        {
          "output_type": "stream",
          "text": [
            "\r 51%|█████     | 269/529 [04:25<03:58,  1.09it/s]"
          ],
          "name": "stderr"
        },
        {
          "output_type": "stream",
          "text": [
            "Epoch 1/10\n",
            "1/1 [==============================] - 0s 62ms/step - loss: 0.3247 - mse: 0.3247\n",
            "Epoch 2/10\n",
            "1/1 [==============================] - 0s 60ms/step - loss: 0.3245 - mse: 0.3245\n",
            "Epoch 3/10\n",
            "1/1 [==============================] - 0s 65ms/step - loss: 0.3246 - mse: 0.3246\n",
            "Epoch 4/10\n",
            "1/1 [==============================] - 0s 70ms/step - loss: 0.3245 - mse: 0.3245\n",
            "Epoch 5/10\n",
            "1/1 [==============================] - 0s 67ms/step - loss: 0.3245 - mse: 0.3245\n",
            "Epoch 6/10\n",
            "1/1 [==============================] - 0s 63ms/step - loss: 0.3246 - mse: 0.3246\n",
            "Epoch 7/10\n",
            "1/1 [==============================] - 0s 63ms/step - loss: 0.3245 - mse: 0.3245\n",
            "Epoch 8/10\n",
            "1/1 [==============================] - 0s 69ms/step - loss: 0.3246 - mse: 0.3246\n",
            "Epoch 9/10\n",
            "1/1 [==============================] - 0s 62ms/step - loss: 0.3245 - mse: 0.3245\n",
            "Epoch 10/10\n",
            "1/1 [==============================] - 0s 65ms/step - loss: 0.3245 - mse: 0.3245\n"
          ],
          "name": "stdout"
        },
        {
          "output_type": "stream",
          "text": [
            "\r 51%|█████     | 270/529 [04:26<03:55,  1.10it/s]"
          ],
          "name": "stderr"
        },
        {
          "output_type": "stream",
          "text": [
            "Epoch 1/10\n",
            "1/1 [==============================] - 0s 70ms/step - loss: 0.3279 - mse: 0.3279\n",
            "Epoch 2/10\n",
            "1/1 [==============================] - 0s 70ms/step - loss: 0.3277 - mse: 0.3277\n",
            "Epoch 3/10\n",
            "1/1 [==============================] - 0s 59ms/step - loss: 0.3278 - mse: 0.3278\n",
            "Epoch 4/10\n",
            "1/1 [==============================] - 0s 63ms/step - loss: 0.3278 - mse: 0.3278\n",
            "Epoch 5/10\n",
            "1/1 [==============================] - 0s 66ms/step - loss: 0.3277 - mse: 0.3277\n",
            "Epoch 6/10\n",
            "1/1 [==============================] - 0s 69ms/step - loss: 0.3278 - mse: 0.3278\n",
            "Epoch 7/10\n",
            "1/1 [==============================] - 0s 66ms/step - loss: 0.3277 - mse: 0.3277\n",
            "Epoch 8/10\n",
            "1/1 [==============================] - 0s 66ms/step - loss: 0.3278 - mse: 0.3278\n",
            "Epoch 9/10\n",
            "1/1 [==============================] - 0s 68ms/step - loss: 0.3278 - mse: 0.3278\n",
            "Epoch 10/10\n",
            "1/1 [==============================] - 0s 66ms/step - loss: 0.3277 - mse: 0.3277\n"
          ],
          "name": "stdout"
        },
        {
          "output_type": "stream",
          "text": [
            "\r 51%|█████     | 271/529 [04:27<03:55,  1.09it/s]"
          ],
          "name": "stderr"
        },
        {
          "output_type": "stream",
          "text": [
            "Epoch 1/10\n",
            "1/1 [==============================] - 0s 65ms/step - loss: 0.3091 - mse: 0.3091\n",
            "Epoch 2/10\n",
            "1/1 [==============================] - 0s 63ms/step - loss: 0.3089 - mse: 0.3089\n",
            "Epoch 3/10\n",
            "1/1 [==============================] - 0s 66ms/step - loss: 0.3092 - mse: 0.3092\n",
            "Epoch 4/10\n",
            "1/1 [==============================] - 0s 61ms/step - loss: 0.3088 - mse: 0.3088\n",
            "Epoch 5/10\n",
            "1/1 [==============================] - 0s 69ms/step - loss: 0.3089 - mse: 0.3089\n",
            "Epoch 6/10\n",
            "1/1 [==============================] - 0s 62ms/step - loss: 0.3090 - mse: 0.3090\n",
            "Epoch 7/10\n",
            "1/1 [==============================] - 0s 77ms/step - loss: 0.3088 - mse: 0.3088\n",
            "Epoch 8/10\n",
            "1/1 [==============================] - 0s 68ms/step - loss: 0.3090 - mse: 0.3090\n",
            "Epoch 9/10\n",
            "1/1 [==============================] - 0s 72ms/step - loss: 0.3089 - mse: 0.3089\n",
            "Epoch 10/10\n",
            "1/1 [==============================] - 0s 67ms/step - loss: 0.3088 - mse: 0.3088\n"
          ],
          "name": "stdout"
        },
        {
          "output_type": "stream",
          "text": [
            "\r 51%|█████▏    | 272/529 [04:28<03:56,  1.09it/s]"
          ],
          "name": "stderr"
        },
        {
          "output_type": "stream",
          "text": [
            "Epoch 1/10\n",
            "1/1 [==============================] - 0s 68ms/step - loss: 0.3096 - mse: 0.3096\n",
            "Epoch 2/10\n",
            "1/1 [==============================] - 0s 64ms/step - loss: 0.3095 - mse: 0.3095\n",
            "Epoch 3/10\n",
            "1/1 [==============================] - 0s 63ms/step - loss: 0.3095 - mse: 0.3095\n",
            "Epoch 4/10\n",
            "1/1 [==============================] - 0s 66ms/step - loss: 0.3095 - mse: 0.3095\n",
            "Epoch 5/10\n",
            "1/1 [==============================] - 0s 64ms/step - loss: 0.3094 - mse: 0.3094\n",
            "Epoch 6/10\n",
            "1/1 [==============================] - 0s 64ms/step - loss: 0.3095 - mse: 0.3095\n",
            "Epoch 7/10\n",
            "1/1 [==============================] - 0s 67ms/step - loss: 0.3095 - mse: 0.3095\n",
            "Epoch 8/10\n",
            "1/1 [==============================] - 0s 67ms/step - loss: 0.3094 - mse: 0.3094\n",
            "Epoch 9/10\n",
            "1/1 [==============================] - 0s 64ms/step - loss: 0.3095 - mse: 0.3095\n",
            "Epoch 10/10\n",
            "1/1 [==============================] - 0s 63ms/step - loss: 0.3094 - mse: 0.3094\n"
          ],
          "name": "stdout"
        },
        {
          "output_type": "stream",
          "text": [
            "\r 52%|█████▏    | 273/529 [04:29<03:53,  1.10it/s]"
          ],
          "name": "stderr"
        },
        {
          "output_type": "stream",
          "text": [
            "Epoch 1/10\n",
            "1/1 [==============================] - 0s 68ms/step - loss: 0.3080 - mse: 0.3080\n",
            "Epoch 2/10\n",
            "1/1 [==============================] - 0s 64ms/step - loss: 0.3081 - mse: 0.3081\n",
            "Epoch 3/10\n",
            "1/1 [==============================] - 0s 70ms/step - loss: 0.3080 - mse: 0.3080\n",
            "Epoch 4/10\n",
            "1/1 [==============================] - 0s 63ms/step - loss: 0.3080 - mse: 0.3080\n",
            "Epoch 5/10\n",
            "1/1 [==============================] - 0s 65ms/step - loss: 0.3080 - mse: 0.3080\n",
            "Epoch 6/10\n",
            "1/1 [==============================] - 0s 68ms/step - loss: 0.3080 - mse: 0.3080\n",
            "Epoch 7/10\n",
            "1/1 [==============================] - 0s 64ms/step - loss: 0.3080 - mse: 0.3080\n",
            "Epoch 8/10\n",
            "1/1 [==============================] - 0s 64ms/step - loss: 0.3080 - mse: 0.3080\n",
            "Epoch 9/10\n",
            "1/1 [==============================] - 0s 63ms/step - loss: 0.3080 - mse: 0.3080\n",
            "Epoch 10/10\n",
            "1/1 [==============================] - 0s 67ms/step - loss: 0.3080 - mse: 0.3080\n"
          ],
          "name": "stdout"
        },
        {
          "output_type": "stream",
          "text": [
            "\r 52%|█████▏    | 274/529 [04:30<03:51,  1.10it/s]"
          ],
          "name": "stderr"
        },
        {
          "output_type": "stream",
          "text": [
            "Epoch 1/10\n",
            "1/1 [==============================] - 0s 63ms/step - loss: 0.3071 - mse: 0.3071\n",
            "Epoch 2/10\n",
            "1/1 [==============================] - 0s 64ms/step - loss: 0.3071 - mse: 0.3071\n",
            "Epoch 3/10\n",
            "1/1 [==============================] - 0s 65ms/step - loss: 0.3071 - mse: 0.3071\n",
            "Epoch 4/10\n",
            "1/1 [==============================] - 0s 65ms/step - loss: 0.3071 - mse: 0.3071\n",
            "Epoch 5/10\n",
            "1/1 [==============================] - 0s 67ms/step - loss: 0.3071 - mse: 0.3071\n",
            "Epoch 6/10\n",
            "1/1 [==============================] - 0s 69ms/step - loss: 0.3071 - mse: 0.3071\n",
            "Epoch 7/10\n",
            "1/1 [==============================] - 0s 63ms/step - loss: 0.3071 - mse: 0.3071\n",
            "Epoch 8/10\n",
            "1/1 [==============================] - 0s 66ms/step - loss: 0.3071 - mse: 0.3071\n",
            "Epoch 9/10\n",
            "1/1 [==============================] - 0s 67ms/step - loss: 0.3071 - mse: 0.3071\n",
            "Epoch 10/10\n",
            "1/1 [==============================] - 0s 68ms/step - loss: 0.3071 - mse: 0.3071\n"
          ],
          "name": "stdout"
        },
        {
          "output_type": "stream",
          "text": [
            "\r 52%|█████▏    | 275/529 [04:31<03:51,  1.09it/s]"
          ],
          "name": "stderr"
        },
        {
          "output_type": "stream",
          "text": [
            "Epoch 1/10\n",
            "1/1 [==============================] - 0s 63ms/step - loss: 0.3051 - mse: 0.3051\n",
            "Epoch 2/10\n",
            "1/1 [==============================] - 0s 69ms/step - loss: 0.3050 - mse: 0.3050\n",
            "Epoch 3/10\n",
            "1/1 [==============================] - 0s 73ms/step - loss: 0.3050 - mse: 0.3050\n",
            "Epoch 4/10\n",
            "1/1 [==============================] - 0s 74ms/step - loss: 0.3050 - mse: 0.3050\n",
            "Epoch 5/10\n",
            "1/1 [==============================] - 0s 71ms/step - loss: 0.3050 - mse: 0.3050\n",
            "Epoch 6/10\n",
            "1/1 [==============================] - 0s 82ms/step - loss: 0.3050 - mse: 0.3050\n",
            "Epoch 7/10\n",
            "1/1 [==============================] - 0s 67ms/step - loss: 0.3050 - mse: 0.3050\n",
            "Epoch 8/10\n",
            "1/1 [==============================] - 0s 69ms/step - loss: 0.3050 - mse: 0.3050\n",
            "Epoch 9/10\n",
            "1/1 [==============================] - 0s 70ms/step - loss: 0.3050 - mse: 0.3050\n",
            "Epoch 10/10\n",
            "1/1 [==============================] - 0s 67ms/step - loss: 0.3050 - mse: 0.3050\n"
          ],
          "name": "stdout"
        },
        {
          "output_type": "stream",
          "text": [
            "\r 52%|█████▏    | 276/529 [04:32<03:57,  1.07it/s]"
          ],
          "name": "stderr"
        },
        {
          "output_type": "stream",
          "text": [
            "Epoch 1/10\n",
            "1/1 [==============================] - 0s 59ms/step - loss: 0.3078 - mse: 0.3078\n",
            "Epoch 2/10\n",
            "1/1 [==============================] - 0s 62ms/step - loss: 0.3078 - mse: 0.3078\n",
            "Epoch 3/10\n",
            "1/1 [==============================] - 0s 64ms/step - loss: 0.3078 - mse: 0.3078\n",
            "Epoch 4/10\n",
            "1/1 [==============================] - 0s 67ms/step - loss: 0.3078 - mse: 0.3078\n",
            "Epoch 5/10\n",
            "1/1 [==============================] - 0s 69ms/step - loss: 0.3078 - mse: 0.3078\n",
            "Epoch 6/10\n",
            "1/1 [==============================] - 0s 66ms/step - loss: 0.3078 - mse: 0.3078\n",
            "Epoch 7/10\n",
            "1/1 [==============================] - 0s 70ms/step - loss: 0.3078 - mse: 0.3078\n",
            "Epoch 8/10\n",
            "1/1 [==============================] - 0s 72ms/step - loss: 0.3078 - mse: 0.3078\n",
            "Epoch 9/10\n",
            "1/1 [==============================] - 0s 73ms/step - loss: 0.3078 - mse: 0.3078\n",
            "Epoch 10/10\n",
            "1/1 [==============================] - 0s 65ms/step - loss: 0.3078 - mse: 0.3078\n"
          ],
          "name": "stdout"
        },
        {
          "output_type": "stream",
          "text": [
            "\r 52%|█████▏    | 277/529 [04:33<03:57,  1.06it/s]"
          ],
          "name": "stderr"
        },
        {
          "output_type": "stream",
          "text": [
            "Epoch 1/10\n",
            "1/1 [==============================] - 0s 66ms/step - loss: 0.3102 - mse: 0.3102\n",
            "Epoch 2/10\n",
            "1/1 [==============================] - 0s 69ms/step - loss: 0.3102 - mse: 0.3102\n",
            "Epoch 3/10\n",
            "1/1 [==============================] - 0s 60ms/step - loss: 0.3102 - mse: 0.3102\n",
            "Epoch 4/10\n",
            "1/1 [==============================] - 0s 70ms/step - loss: 0.3102 - mse: 0.3102\n",
            "Epoch 5/10\n",
            "1/1 [==============================] - 0s 69ms/step - loss: 0.3102 - mse: 0.3102\n",
            "Epoch 6/10\n",
            "1/1 [==============================] - 0s 71ms/step - loss: 0.3102 - mse: 0.3102\n",
            "Epoch 7/10\n",
            "1/1 [==============================] - 0s 75ms/step - loss: 0.3102 - mse: 0.3102\n",
            "Epoch 8/10\n",
            "1/1 [==============================] - 0s 78ms/step - loss: 0.3102 - mse: 0.3102\n",
            "Epoch 9/10\n",
            "1/1 [==============================] - 0s 72ms/step - loss: 0.3102 - mse: 0.3102\n",
            "Epoch 10/10\n",
            "1/1 [==============================] - 0s 70ms/step - loss: 0.3102 - mse: 0.3102\n"
          ],
          "name": "stdout"
        },
        {
          "output_type": "stream",
          "text": [
            "\r 53%|█████▎    | 278/529 [04:34<03:59,  1.05it/s]"
          ],
          "name": "stderr"
        },
        {
          "output_type": "stream",
          "text": [
            "Epoch 1/10\n",
            "1/1 [==============================] - 0s 67ms/step - loss: 0.3145 - mse: 0.3145\n",
            "Epoch 2/10\n",
            "1/1 [==============================] - 0s 70ms/step - loss: 0.3144 - mse: 0.3144\n",
            "Epoch 3/10\n",
            "1/1 [==============================] - 0s 74ms/step - loss: 0.3145 - mse: 0.3145\n",
            "Epoch 4/10\n",
            "1/1 [==============================] - 0s 71ms/step - loss: 0.3144 - mse: 0.3144\n",
            "Epoch 5/10\n",
            "1/1 [==============================] - 0s 70ms/step - loss: 0.3144 - mse: 0.3144\n",
            "Epoch 6/10\n",
            "1/1 [==============================] - 0s 69ms/step - loss: 0.3145 - mse: 0.3145\n",
            "Epoch 7/10\n",
            "1/1 [==============================] - 0s 69ms/step - loss: 0.3144 - mse: 0.3144\n",
            "Epoch 8/10\n",
            "1/1 [==============================] - 0s 69ms/step - loss: 0.3144 - mse: 0.3144\n",
            "Epoch 9/10\n",
            "1/1 [==============================] - 0s 66ms/step - loss: 0.3144 - mse: 0.3144\n",
            "Epoch 10/10\n",
            "1/1 [==============================] - 0s 72ms/step - loss: 0.3144 - mse: 0.3144\n"
          ],
          "name": "stdout"
        },
        {
          "output_type": "stream",
          "text": [
            "\r 53%|█████▎    | 279/529 [04:35<04:00,  1.04it/s]"
          ],
          "name": "stderr"
        },
        {
          "output_type": "stream",
          "text": [
            "Epoch 1/10\n",
            "1/1 [==============================] - 0s 60ms/step - loss: 0.3060 - mse: 0.3060\n",
            "Epoch 2/10\n",
            "1/1 [==============================] - 0s 70ms/step - loss: 0.3060 - mse: 0.3060\n",
            "Epoch 3/10\n",
            "1/1 [==============================] - 0s 73ms/step - loss: 0.3060 - mse: 0.3060\n",
            "Epoch 4/10\n",
            "1/1 [==============================] - 0s 67ms/step - loss: 0.3059 - mse: 0.3059\n",
            "Epoch 5/10\n",
            "1/1 [==============================] - 0s 66ms/step - loss: 0.3060 - mse: 0.3060\n",
            "Epoch 6/10\n",
            "1/1 [==============================] - 0s 69ms/step - loss: 0.3060 - mse: 0.3060\n",
            "Epoch 7/10\n",
            "1/1 [==============================] - 0s 62ms/step - loss: 0.3060 - mse: 0.3060\n",
            "Epoch 8/10\n",
            "1/1 [==============================] - 0s 63ms/step - loss: 0.3060 - mse: 0.3060\n",
            "Epoch 9/10\n",
            "1/1 [==============================] - 0s 69ms/step - loss: 0.3060 - mse: 0.3060\n",
            "Epoch 10/10\n",
            "1/1 [==============================] - 0s 66ms/step - loss: 0.3059 - mse: 0.3059\n"
          ],
          "name": "stdout"
        },
        {
          "output_type": "stream",
          "text": [
            "\r 53%|█████▎    | 280/529 [04:36<03:58,  1.04it/s]"
          ],
          "name": "stderr"
        },
        {
          "output_type": "stream",
          "text": [
            "Epoch 1/10\n",
            "1/1 [==============================] - 0s 69ms/step - loss: 0.3081 - mse: 0.3081\n",
            "Epoch 2/10\n",
            "1/1 [==============================] - 0s 62ms/step - loss: 0.3081 - mse: 0.3081\n",
            "Epoch 3/10\n",
            "1/1 [==============================] - 0s 66ms/step - loss: 0.3081 - mse: 0.3081\n",
            "Epoch 4/10\n",
            "1/1 [==============================] - 0s 67ms/step - loss: 0.3081 - mse: 0.3081\n",
            "Epoch 5/10\n",
            "1/1 [==============================] - 0s 65ms/step - loss: 0.3081 - mse: 0.3081\n",
            "Epoch 6/10\n",
            "1/1 [==============================] - 0s 67ms/step - loss: 0.3081 - mse: 0.3081\n",
            "Epoch 7/10\n",
            "1/1 [==============================] - 0s 70ms/step - loss: 0.3081 - mse: 0.3081\n",
            "Epoch 8/10\n",
            "1/1 [==============================] - 0s 69ms/step - loss: 0.3081 - mse: 0.3081\n",
            "Epoch 9/10\n",
            "1/1 [==============================] - 0s 70ms/step - loss: 0.3081 - mse: 0.3081\n",
            "Epoch 10/10\n",
            "1/1 [==============================] - 0s 64ms/step - loss: 0.3081 - mse: 0.3081\n"
          ],
          "name": "stdout"
        },
        {
          "output_type": "stream",
          "text": [
            "\r 53%|█████▎    | 281/529 [04:37<03:55,  1.05it/s]"
          ],
          "name": "stderr"
        },
        {
          "output_type": "stream",
          "text": [
            "Epoch 1/10\n",
            "1/1 [==============================] - 0s 64ms/step - loss: 0.3010 - mse: 0.3010\n",
            "Epoch 2/10\n",
            "1/1 [==============================] - 0s 69ms/step - loss: 0.3009 - mse: 0.3009\n",
            "Epoch 3/10\n",
            "1/1 [==============================] - 0s 61ms/step - loss: 0.3009 - mse: 0.3009\n",
            "Epoch 4/10\n",
            "1/1 [==============================] - 0s 71ms/step - loss: 0.3009 - mse: 0.3009\n",
            "Epoch 5/10\n",
            "1/1 [==============================] - 0s 71ms/step - loss: 0.3009 - mse: 0.3009\n",
            "Epoch 6/10\n",
            "1/1 [==============================] - 0s 70ms/step - loss: 0.3009 - mse: 0.3009\n",
            "Epoch 7/10\n",
            "1/1 [==============================] - 0s 83ms/step - loss: 0.3009 - mse: 0.3009\n",
            "Epoch 8/10\n",
            "1/1 [==============================] - 0s 66ms/step - loss: 0.3009 - mse: 0.3009\n",
            "Epoch 9/10\n",
            "1/1 [==============================] - 0s 66ms/step - loss: 0.3009 - mse: 0.3009\n",
            "Epoch 10/10\n",
            "1/1 [==============================] - 0s 63ms/step - loss: 0.3009 - mse: 0.3009\n"
          ],
          "name": "stdout"
        },
        {
          "output_type": "stream",
          "text": [
            "\r 53%|█████▎    | 282/529 [04:38<03:56,  1.04it/s]"
          ],
          "name": "stderr"
        },
        {
          "output_type": "stream",
          "text": [
            "Epoch 1/10\n",
            "1/1 [==============================] - 0s 62ms/step - loss: 0.3216 - mse: 0.3216\n",
            "Epoch 2/10\n",
            "1/1 [==============================] - 0s 63ms/step - loss: 0.3211 - mse: 0.3211\n",
            "Epoch 3/10\n",
            "1/1 [==============================] - 0s 72ms/step - loss: 0.3217 - mse: 0.3217\n",
            "Epoch 4/10\n",
            "1/1 [==============================] - 0s 61ms/step - loss: 0.3210 - mse: 0.3210\n",
            "Epoch 5/10\n",
            "1/1 [==============================] - 0s 64ms/step - loss: 0.3213 - mse: 0.3213\n",
            "Epoch 6/10\n",
            "1/1 [==============================] - 0s 65ms/step - loss: 0.3214 - mse: 0.3214\n",
            "Epoch 7/10\n",
            "1/1 [==============================] - 0s 71ms/step - loss: 0.3210 - mse: 0.3210\n",
            "Epoch 8/10\n",
            "1/1 [==============================] - 0s 67ms/step - loss: 0.3214 - mse: 0.3214\n",
            "Epoch 9/10\n",
            "1/1 [==============================] - 0s 60ms/step - loss: 0.3211 - mse: 0.3211\n",
            "Epoch 10/10\n",
            "1/1 [==============================] - 0s 69ms/step - loss: 0.3211 - mse: 0.3211\n"
          ],
          "name": "stdout"
        },
        {
          "output_type": "stream",
          "text": [
            "\r 53%|█████▎    | 283/529 [04:39<03:51,  1.06it/s]"
          ],
          "name": "stderr"
        },
        {
          "output_type": "stream",
          "text": [
            "Epoch 1/10\n",
            "1/1 [==============================] - 0s 71ms/step - loss: 0.3182 - mse: 0.3182\n",
            "Epoch 2/10\n",
            "1/1 [==============================] - 0s 70ms/step - loss: 0.3181 - mse: 0.3181\n",
            "Epoch 3/10\n",
            "1/1 [==============================] - 0s 65ms/step - loss: 0.3181 - mse: 0.3181\n",
            "Epoch 4/10\n",
            "1/1 [==============================] - 0s 74ms/step - loss: 0.3181 - mse: 0.3181\n",
            "Epoch 5/10\n",
            "1/1 [==============================] - 0s 66ms/step - loss: 0.3180 - mse: 0.3180\n",
            "Epoch 6/10\n",
            "1/1 [==============================] - 0s 69ms/step - loss: 0.3181 - mse: 0.3181\n",
            "Epoch 7/10\n",
            "1/1 [==============================] - 0s 63ms/step - loss: 0.3181 - mse: 0.3181\n",
            "Epoch 8/10\n",
            "1/1 [==============================] - 0s 68ms/step - loss: 0.3180 - mse: 0.3180\n",
            "Epoch 9/10\n",
            "1/1 [==============================] - 0s 66ms/step - loss: 0.3181 - mse: 0.3181\n",
            "Epoch 10/10\n",
            "1/1 [==============================] - 0s 69ms/step - loss: 0.3180 - mse: 0.3180\n"
          ],
          "name": "stdout"
        },
        {
          "output_type": "stream",
          "text": [
            "\r 54%|█████▎    | 284/529 [04:39<03:49,  1.07it/s]"
          ],
          "name": "stderr"
        },
        {
          "output_type": "stream",
          "text": [
            "Epoch 1/10\n",
            "1/1 [==============================] - 0s 63ms/step - loss: 0.3130 - mse: 0.3130\n",
            "Epoch 2/10\n",
            "1/1 [==============================] - 0s 62ms/step - loss: 0.3130 - mse: 0.3130\n",
            "Epoch 3/10\n",
            "1/1 [==============================] - 0s 67ms/step - loss: 0.3130 - mse: 0.3130\n",
            "Epoch 4/10\n",
            "1/1 [==============================] - 0s 72ms/step - loss: 0.3129 - mse: 0.3129\n",
            "Epoch 5/10\n",
            "1/1 [==============================] - 0s 74ms/step - loss: 0.3130 - mse: 0.3130\n",
            "Epoch 6/10\n",
            "1/1 [==============================] - 0s 69ms/step - loss: 0.3130 - mse: 0.3130\n",
            "Epoch 7/10\n",
            "1/1 [==============================] - 0s 68ms/step - loss: 0.3130 - mse: 0.3130\n",
            "Epoch 8/10\n",
            "1/1 [==============================] - 0s 70ms/step - loss: 0.3130 - mse: 0.3130\n",
            "Epoch 9/10\n",
            "1/1 [==============================] - 0s 69ms/step - loss: 0.3129 - mse: 0.3129\n",
            "Epoch 10/10\n",
            "1/1 [==============================] - 0s 69ms/step - loss: 0.3130 - mse: 0.3130\n"
          ],
          "name": "stdout"
        },
        {
          "output_type": "stream",
          "text": [
            "\r 54%|█████▍    | 285/529 [04:40<03:51,  1.06it/s]"
          ],
          "name": "stderr"
        },
        {
          "output_type": "stream",
          "text": [
            "Epoch 1/10\n",
            "1/1 [==============================] - 0s 64ms/step - loss: 0.3072 - mse: 0.3072\n",
            "Epoch 2/10\n",
            "1/1 [==============================] - 0s 62ms/step - loss: 0.3071 - mse: 0.3071\n",
            "Epoch 3/10\n",
            "1/1 [==============================] - 0s 63ms/step - loss: 0.3072 - mse: 0.3072\n",
            "Epoch 4/10\n",
            "1/1 [==============================] - 0s 66ms/step - loss: 0.3071 - mse: 0.3071\n",
            "Epoch 5/10\n",
            "1/1 [==============================] - 0s 66ms/step - loss: 0.3071 - mse: 0.3071\n",
            "Epoch 6/10\n",
            "1/1 [==============================] - 0s 70ms/step - loss: 0.3072 - mse: 0.3072\n",
            "Epoch 7/10\n",
            "1/1 [==============================] - 0s 67ms/step - loss: 0.3071 - mse: 0.3071\n",
            "Epoch 8/10\n",
            "1/1 [==============================] - 0s 69ms/step - loss: 0.3071 - mse: 0.3071\n",
            "Epoch 9/10\n",
            "1/1 [==============================] - 0s 61ms/step - loss: 0.3071 - mse: 0.3071\n",
            "Epoch 10/10\n",
            "1/1 [==============================] - 0s 67ms/step - loss: 0.3070 - mse: 0.3070\n"
          ],
          "name": "stdout"
        },
        {
          "output_type": "stream",
          "text": [
            "\r 54%|█████▍    | 286/529 [04:41<03:48,  1.06it/s]"
          ],
          "name": "stderr"
        },
        {
          "output_type": "stream",
          "text": [
            "Epoch 1/10\n",
            "1/1 [==============================] - 0s 59ms/step - loss: 0.3023 - mse: 0.3023\n",
            "Epoch 2/10\n",
            "1/1 [==============================] - 0s 64ms/step - loss: 0.3021 - mse: 0.3021\n",
            "Epoch 3/10\n",
            "1/1 [==============================] - 0s 62ms/step - loss: 0.3022 - mse: 0.3022\n",
            "Epoch 4/10\n",
            "1/1 [==============================] - 0s 68ms/step - loss: 0.3022 - mse: 0.3022\n",
            "Epoch 5/10\n",
            "1/1 [==============================] - 0s 64ms/step - loss: 0.3021 - mse: 0.3021\n",
            "Epoch 6/10\n",
            "1/1 [==============================] - 0s 62ms/step - loss: 0.3022 - mse: 0.3022\n",
            "Epoch 7/10\n",
            "1/1 [==============================] - 0s 70ms/step - loss: 0.3022 - mse: 0.3022\n",
            "Epoch 8/10\n",
            "1/1 [==============================] - 0s 71ms/step - loss: 0.3021 - mse: 0.3021\n",
            "Epoch 9/10\n",
            "1/1 [==============================] - 0s 68ms/step - loss: 0.3022 - mse: 0.3022\n",
            "Epoch 10/10\n",
            "1/1 [==============================] - 0s 65ms/step - loss: 0.3021 - mse: 0.3021\n"
          ],
          "name": "stdout"
        },
        {
          "output_type": "stream",
          "text": [
            "\r 54%|█████▍    | 287/529 [04:42<03:46,  1.07it/s]"
          ],
          "name": "stderr"
        },
        {
          "output_type": "stream",
          "text": [
            "Epoch 1/10\n",
            "1/1 [==============================] - 0s 63ms/step - loss: 0.3109 - mse: 0.3109\n",
            "Epoch 2/10\n",
            "1/1 [==============================] - 0s 69ms/step - loss: 0.3109 - mse: 0.3109\n",
            "Epoch 3/10\n",
            "1/1 [==============================] - 0s 66ms/step - loss: 0.3109 - mse: 0.3109\n",
            "Epoch 4/10\n",
            "1/1 [==============================] - 0s 64ms/step - loss: 0.3108 - mse: 0.3108\n",
            "Epoch 5/10\n",
            "1/1 [==============================] - 0s 65ms/step - loss: 0.3109 - mse: 0.3109\n",
            "Epoch 6/10\n",
            "1/1 [==============================] - 0s 72ms/step - loss: 0.3108 - mse: 0.3108\n",
            "Epoch 7/10\n",
            "1/1 [==============================] - 0s 79ms/step - loss: 0.3108 - mse: 0.3108\n",
            "Epoch 8/10\n",
            "1/1 [==============================] - 0s 73ms/step - loss: 0.3109 - mse: 0.3109\n",
            "Epoch 9/10\n",
            "1/1 [==============================] - 0s 69ms/step - loss: 0.3108 - mse: 0.3108\n",
            "Epoch 10/10\n",
            "1/1 [==============================] - 0s 69ms/step - loss: 0.3108 - mse: 0.3108\n"
          ],
          "name": "stdout"
        },
        {
          "output_type": "stream",
          "text": [
            "\r 54%|█████▍    | 288/529 [04:43<03:46,  1.06it/s]"
          ],
          "name": "stderr"
        },
        {
          "output_type": "stream",
          "text": [
            "Epoch 1/10\n",
            "1/1 [==============================] - 0s 69ms/step - loss: 0.3090 - mse: 0.3090\n",
            "Epoch 2/10\n",
            "1/1 [==============================] - 0s 64ms/step - loss: 0.3090 - mse: 0.3090\n",
            "Epoch 3/10\n",
            "1/1 [==============================] - 0s 67ms/step - loss: 0.3090 - mse: 0.3090\n",
            "Epoch 4/10\n",
            "1/1 [==============================] - 0s 67ms/step - loss: 0.3090 - mse: 0.3090\n",
            "Epoch 5/10\n",
            "1/1 [==============================] - 0s 67ms/step - loss: 0.3090 - mse: 0.3090\n",
            "Epoch 6/10\n",
            "1/1 [==============================] - 0s 67ms/step - loss: 0.3090 - mse: 0.3090\n",
            "Epoch 7/10\n",
            "1/1 [==============================] - 0s 63ms/step - loss: 0.3090 - mse: 0.3090\n",
            "Epoch 8/10\n",
            "1/1 [==============================] - 0s 70ms/step - loss: 0.3090 - mse: 0.3090\n",
            "Epoch 9/10\n",
            "1/1 [==============================] - 0s 60ms/step - loss: 0.3090 - mse: 0.3090\n",
            "Epoch 10/10\n",
            "1/1 [==============================] - 0s 61ms/step - loss: 0.3090 - mse: 0.3090\n"
          ],
          "name": "stdout"
        },
        {
          "output_type": "stream",
          "text": [
            "\r 55%|█████▍    | 289/529 [04:44<03:43,  1.07it/s]"
          ],
          "name": "stderr"
        },
        {
          "output_type": "stream",
          "text": [
            "Epoch 1/10\n",
            "1/1 [==============================] - 0s 65ms/step - loss: 0.3114 - mse: 0.3114\n",
            "Epoch 2/10\n",
            "1/1 [==============================] - 0s 71ms/step - loss: 0.3113 - mse: 0.3113\n",
            "Epoch 3/10\n",
            "1/1 [==============================] - 0s 69ms/step - loss: 0.3114 - mse: 0.3114\n",
            "Epoch 4/10\n",
            "1/1 [==============================] - 0s 62ms/step - loss: 0.3113 - mse: 0.3113\n",
            "Epoch 5/10\n",
            "1/1 [==============================] - 0s 68ms/step - loss: 0.3113 - mse: 0.3113\n",
            "Epoch 6/10\n",
            "1/1 [==============================] - 0s 65ms/step - loss: 0.3114 - mse: 0.3114\n",
            "Epoch 7/10\n",
            "1/1 [==============================] - 0s 65ms/step - loss: 0.3113 - mse: 0.3113\n",
            "Epoch 8/10\n",
            "1/1 [==============================] - 0s 64ms/step - loss: 0.3113 - mse: 0.3113\n",
            "Epoch 9/10\n",
            "1/1 [==============================] - 0s 65ms/step - loss: 0.3113 - mse: 0.3113\n",
            "Epoch 10/10\n",
            "1/1 [==============================] - 0s 70ms/step - loss: 0.3113 - mse: 0.3113\n"
          ],
          "name": "stdout"
        },
        {
          "output_type": "stream",
          "text": [
            "\r 55%|█████▍    | 290/529 [04:45<03:40,  1.08it/s]"
          ],
          "name": "stderr"
        },
        {
          "output_type": "stream",
          "text": [
            "Epoch 1/10\n",
            "1/1 [==============================] - 0s 64ms/step - loss: 0.3149 - mse: 0.3149\n",
            "Epoch 2/10\n",
            "1/1 [==============================] - 0s 64ms/step - loss: 0.3148 - mse: 0.3148\n",
            "Epoch 3/10\n",
            "1/1 [==============================] - 0s 69ms/step - loss: 0.3148 - mse: 0.3148\n",
            "Epoch 4/10\n",
            "1/1 [==============================] - 0s 62ms/step - loss: 0.3148 - mse: 0.3148\n",
            "Epoch 5/10\n",
            "1/1 [==============================] - 0s 62ms/step - loss: 0.3148 - mse: 0.3148\n",
            "Epoch 6/10\n",
            "1/1 [==============================] - 0s 61ms/step - loss: 0.3148 - mse: 0.3148\n",
            "Epoch 7/10\n",
            "1/1 [==============================] - 0s 69ms/step - loss: 0.3148 - mse: 0.3148\n",
            "Epoch 8/10\n",
            "1/1 [==============================] - 0s 62ms/step - loss: 0.3148 - mse: 0.3148\n",
            "Epoch 9/10\n",
            "1/1 [==============================] - 0s 62ms/step - loss: 0.3148 - mse: 0.3148\n",
            "Epoch 10/10\n",
            "1/1 [==============================] - 0s 69ms/step - loss: 0.3148 - mse: 0.3148\n"
          ],
          "name": "stdout"
        },
        {
          "output_type": "stream",
          "text": [
            "\r 55%|█████▌    | 291/529 [04:46<03:37,  1.09it/s]"
          ],
          "name": "stderr"
        },
        {
          "output_type": "stream",
          "text": [
            "Epoch 1/10\n",
            "1/1 [==============================] - 0s 65ms/step - loss: 0.2954 - mse: 0.2954\n",
            "Epoch 2/10\n",
            "1/1 [==============================] - 0s 62ms/step - loss: 0.2947 - mse: 0.2947\n",
            "Epoch 3/10\n",
            "1/1 [==============================] - 0s 65ms/step - loss: 0.2954 - mse: 0.2954\n",
            "Epoch 4/10\n",
            "1/1 [==============================] - 0s 66ms/step - loss: 0.2948 - mse: 0.2948\n",
            "Epoch 5/10\n",
            "1/1 [==============================] - 0s 66ms/step - loss: 0.2948 - mse: 0.2948\n",
            "Epoch 6/10\n",
            "1/1 [==============================] - 0s 61ms/step - loss: 0.2952 - mse: 0.2952\n",
            "Epoch 7/10\n",
            "1/1 [==============================] - 0s 69ms/step - loss: 0.2946 - mse: 0.2946\n",
            "Epoch 8/10\n",
            "1/1 [==============================] - 0s 63ms/step - loss: 0.2949 - mse: 0.2949\n",
            "Epoch 9/10\n",
            "1/1 [==============================] - 0s 61ms/step - loss: 0.2949 - mse: 0.2949\n",
            "Epoch 10/10\n",
            "1/1 [==============================] - 0s 69ms/step - loss: 0.2946 - mse: 0.2946\n"
          ],
          "name": "stdout"
        },
        {
          "output_type": "stream",
          "text": [
            "\r 55%|█████▌    | 292/529 [04:47<03:36,  1.09it/s]"
          ],
          "name": "stderr"
        },
        {
          "output_type": "stream",
          "text": [
            "Epoch 1/10\n",
            "1/1 [==============================] - 0s 60ms/step - loss: 0.3121 - mse: 0.3121\n",
            "Epoch 2/10\n",
            "1/1 [==============================] - 0s 64ms/step - loss: 0.3123 - mse: 0.3123\n",
            "Epoch 3/10\n",
            "1/1 [==============================] - 0s 61ms/step - loss: 0.3122 - mse: 0.3122\n",
            "Epoch 4/10\n",
            "1/1 [==============================] - 0s 70ms/step - loss: 0.3119 - mse: 0.3119\n",
            "Epoch 5/10\n",
            "1/1 [==============================] - 0s 70ms/step - loss: 0.3123 - mse: 0.3123\n",
            "Epoch 6/10\n",
            "1/1 [==============================] - 0s 67ms/step - loss: 0.3121 - mse: 0.3121\n",
            "Epoch 7/10\n",
            "1/1 [==============================] - 0s 66ms/step - loss: 0.3121 - mse: 0.3121\n",
            "Epoch 8/10\n",
            "1/1 [==============================] - 0s 74ms/step - loss: 0.3122 - mse: 0.3122\n",
            "Epoch 9/10\n",
            "1/1 [==============================] - 0s 64ms/step - loss: 0.3120 - mse: 0.3120\n",
            "Epoch 10/10\n",
            "1/1 [==============================] - 0s 62ms/step - loss: 0.3121 - mse: 0.3121\n"
          ],
          "name": "stdout"
        },
        {
          "output_type": "stream",
          "text": [
            "\r 55%|█████▌    | 293/529 [04:48<03:35,  1.10it/s]"
          ],
          "name": "stderr"
        },
        {
          "output_type": "stream",
          "text": [
            "Epoch 1/10\n",
            "1/1 [==============================] - 0s 63ms/step - loss: 0.3040 - mse: 0.3040\n",
            "Epoch 2/10\n",
            "1/1 [==============================] - 0s 64ms/step - loss: 0.3040 - mse: 0.3040\n",
            "Epoch 3/10\n",
            "1/1 [==============================] - 0s 70ms/step - loss: 0.3040 - mse: 0.3040\n",
            "Epoch 4/10\n",
            "1/1 [==============================] - 0s 62ms/step - loss: 0.3040 - mse: 0.3040\n",
            "Epoch 5/10\n",
            "1/1 [==============================] - 0s 65ms/step - loss: 0.3040 - mse: 0.3040\n",
            "Epoch 6/10\n",
            "1/1 [==============================] - 0s 67ms/step - loss: 0.3040 - mse: 0.3040\n",
            "Epoch 7/10\n",
            "1/1 [==============================] - 0s 66ms/step - loss: 0.3040 - mse: 0.3040\n",
            "Epoch 8/10\n",
            "1/1 [==============================] - 0s 66ms/step - loss: 0.3040 - mse: 0.3040\n",
            "Epoch 9/10\n",
            "1/1 [==============================] - 0s 68ms/step - loss: 0.3040 - mse: 0.3040\n",
            "Epoch 10/10\n",
            "1/1 [==============================] - 0s 65ms/step - loss: 0.3040 - mse: 0.3040\n"
          ],
          "name": "stdout"
        },
        {
          "output_type": "stream",
          "text": [
            "\r 56%|█████▌    | 294/529 [04:49<03:34,  1.10it/s]"
          ],
          "name": "stderr"
        },
        {
          "output_type": "stream",
          "text": [
            "Epoch 1/10\n",
            "1/1 [==============================] - 0s 65ms/step - loss: 0.3087 - mse: 0.3087\n",
            "Epoch 2/10\n",
            "1/1 [==============================] - 0s 63ms/step - loss: 0.3086 - mse: 0.3086\n",
            "Epoch 3/10\n",
            "1/1 [==============================] - 0s 61ms/step - loss: 0.3086 - mse: 0.3086\n",
            "Epoch 4/10\n",
            "1/1 [==============================] - 0s 72ms/step - loss: 0.3086 - mse: 0.3086\n",
            "Epoch 5/10\n",
            "1/1 [==============================] - 0s 71ms/step - loss: 0.3086 - mse: 0.3086\n",
            "Epoch 6/10\n",
            "1/1 [==============================] - 0s 72ms/step - loss: 0.3086 - mse: 0.3086\n",
            "Epoch 7/10\n",
            "1/1 [==============================] - 0s 65ms/step - loss: 0.3086 - mse: 0.3086\n",
            "Epoch 8/10\n",
            "1/1 [==============================] - 0s 60ms/step - loss: 0.3086 - mse: 0.3086\n",
            "Epoch 9/10\n",
            "1/1 [==============================] - 0s 66ms/step - loss: 0.3086 - mse: 0.3086\n",
            "Epoch 10/10\n",
            "1/1 [==============================] - 0s 65ms/step - loss: 0.3086 - mse: 0.3086\n"
          ],
          "name": "stdout"
        },
        {
          "output_type": "stream",
          "text": [
            "\r 56%|█████▌    | 295/529 [04:50<03:33,  1.10it/s]"
          ],
          "name": "stderr"
        },
        {
          "output_type": "stream",
          "text": [
            "Epoch 1/10\n",
            "1/1 [==============================] - 0s 66ms/step - loss: 0.3087 - mse: 0.3087\n",
            "Epoch 2/10\n",
            "1/1 [==============================] - 0s 67ms/step - loss: 0.3087 - mse: 0.3087\n",
            "Epoch 3/10\n",
            "1/1 [==============================] - 0s 68ms/step - loss: 0.3087 - mse: 0.3087\n",
            "Epoch 4/10\n",
            "1/1 [==============================] - 0s 62ms/step - loss: 0.3087 - mse: 0.3087\n",
            "Epoch 5/10\n",
            "1/1 [==============================] - 0s 73ms/step - loss: 0.3087 - mse: 0.3087\n",
            "Epoch 6/10\n",
            "1/1 [==============================] - 0s 78ms/step - loss: 0.3087 - mse: 0.3087\n",
            "Epoch 7/10\n",
            "1/1 [==============================] - 0s 73ms/step - loss: 0.3087 - mse: 0.3087\n",
            "Epoch 8/10\n",
            "1/1 [==============================] - 0s 67ms/step - loss: 0.3087 - mse: 0.3087\n",
            "Epoch 9/10\n",
            "1/1 [==============================] - 0s 63ms/step - loss: 0.3087 - mse: 0.3087\n",
            "Epoch 10/10\n",
            "1/1 [==============================] - 0s 80ms/step - loss: 0.3087 - mse: 0.3087\n"
          ],
          "name": "stdout"
        },
        {
          "output_type": "stream",
          "text": [
            "\r 56%|█████▌    | 296/529 [04:51<03:36,  1.08it/s]"
          ],
          "name": "stderr"
        },
        {
          "output_type": "stream",
          "text": [
            "Epoch 1/10\n",
            "1/1 [==============================] - 0s 59ms/step - loss: 0.3113 - mse: 0.3113\n",
            "Epoch 2/10\n",
            "1/1 [==============================] - 0s 62ms/step - loss: 0.3113 - mse: 0.3113\n",
            "Epoch 3/10\n",
            "1/1 [==============================] - 0s 64ms/step - loss: 0.3113 - mse: 0.3113\n",
            "Epoch 4/10\n",
            "1/1 [==============================] - 0s 65ms/step - loss: 0.3113 - mse: 0.3113\n",
            "Epoch 5/10\n",
            "1/1 [==============================] - 0s 64ms/step - loss: 0.3113 - mse: 0.3113\n",
            "Epoch 6/10\n",
            "1/1 [==============================] - 0s 68ms/step - loss: 0.3113 - mse: 0.3113\n",
            "Epoch 7/10\n",
            "1/1 [==============================] - 0s 71ms/step - loss: 0.3113 - mse: 0.3113\n",
            "Epoch 8/10\n",
            "1/1 [==============================] - 0s 66ms/step - loss: 0.3113 - mse: 0.3113\n",
            "Epoch 9/10\n",
            "1/1 [==============================] - 0s 61ms/step - loss: 0.3113 - mse: 0.3113\n",
            "Epoch 10/10\n",
            "1/1 [==============================] - 0s 68ms/step - loss: 0.3113 - mse: 0.3113\n"
          ],
          "name": "stdout"
        },
        {
          "output_type": "stream",
          "text": [
            "\r 56%|█████▌    | 297/529 [04:51<03:33,  1.09it/s]"
          ],
          "name": "stderr"
        },
        {
          "output_type": "stream",
          "text": [
            "Epoch 1/10\n",
            "1/1 [==============================] - 0s 66ms/step - loss: 0.3073 - mse: 0.3073\n",
            "Epoch 2/10\n",
            "1/1 [==============================] - 0s 63ms/step - loss: 0.3072 - mse: 0.3072\n",
            "Epoch 3/10\n",
            "1/1 [==============================] - 0s 65ms/step - loss: 0.3073 - mse: 0.3073\n",
            "Epoch 4/10\n",
            "1/1 [==============================] - 0s 60ms/step - loss: 0.3072 - mse: 0.3072\n",
            "Epoch 5/10\n",
            "1/1 [==============================] - 0s 70ms/step - loss: 0.3072 - mse: 0.3072\n",
            "Epoch 6/10\n",
            "1/1 [==============================] - 0s 71ms/step - loss: 0.3072 - mse: 0.3072\n",
            "Epoch 7/10\n",
            "1/1 [==============================] - 0s 68ms/step - loss: 0.3072 - mse: 0.3072\n",
            "Epoch 8/10\n",
            "1/1 [==============================] - 0s 73ms/step - loss: 0.3072 - mse: 0.3072\n",
            "Epoch 9/10\n",
            "1/1 [==============================] - 0s 74ms/step - loss: 0.3072 - mse: 0.3072\n",
            "Epoch 10/10\n",
            "1/1 [==============================] - 0s 64ms/step - loss: 0.3072 - mse: 0.3072\n"
          ],
          "name": "stdout"
        },
        {
          "output_type": "stream",
          "text": [
            "\r 56%|█████▋    | 298/529 [04:52<03:33,  1.08it/s]"
          ],
          "name": "stderr"
        },
        {
          "output_type": "stream",
          "text": [
            "Epoch 1/10\n",
            "1/1 [==============================] - 0s 65ms/step - loss: 0.3105 - mse: 0.3105\n",
            "Epoch 2/10\n",
            "1/1 [==============================] - 0s 61ms/step - loss: 0.3104 - mse: 0.3104\n",
            "Epoch 3/10\n",
            "1/1 [==============================] - 0s 69ms/step - loss: 0.3104 - mse: 0.3104\n",
            "Epoch 4/10\n",
            "1/1 [==============================] - 0s 62ms/step - loss: 0.3104 - mse: 0.3104\n",
            "Epoch 5/10\n",
            "1/1 [==============================] - 0s 69ms/step - loss: 0.3104 - mse: 0.3104\n",
            "Epoch 6/10\n",
            "1/1 [==============================] - 0s 69ms/step - loss: 0.3104 - mse: 0.3104\n",
            "Epoch 7/10\n",
            "1/1 [==============================] - 0s 66ms/step - loss: 0.3104 - mse: 0.3104\n",
            "Epoch 8/10\n",
            "1/1 [==============================] - 0s 61ms/step - loss: 0.3104 - mse: 0.3104\n",
            "Epoch 9/10\n",
            "1/1 [==============================] - 0s 76ms/step - loss: 0.3104 - mse: 0.3104\n",
            "Epoch 10/10\n",
            "1/1 [==============================] - 0s 67ms/step - loss: 0.3104 - mse: 0.3104\n"
          ],
          "name": "stdout"
        },
        {
          "output_type": "stream",
          "text": [
            "\r 57%|█████▋    | 299/529 [04:53<03:32,  1.08it/s]"
          ],
          "name": "stderr"
        },
        {
          "output_type": "stream",
          "text": [
            "Epoch 1/10\n",
            "1/1 [==============================] - 0s 60ms/step - loss: 0.3116 - mse: 0.3116\n",
            "Epoch 2/10\n",
            "1/1 [==============================] - 0s 64ms/step - loss: 0.3116 - mse: 0.3116\n",
            "Epoch 3/10\n",
            "1/1 [==============================] - 0s 61ms/step - loss: 0.3116 - mse: 0.3116\n",
            "Epoch 4/10\n",
            "1/1 [==============================] - 0s 63ms/step - loss: 0.3116 - mse: 0.3116\n",
            "Epoch 5/10\n",
            "1/1 [==============================] - 0s 66ms/step - loss: 0.3116 - mse: 0.3116\n",
            "Epoch 6/10\n",
            "1/1 [==============================] - 0s 66ms/step - loss: 0.3116 - mse: 0.3116\n",
            "Epoch 7/10\n",
            "1/1 [==============================] - 0s 64ms/step - loss: 0.3116 - mse: 0.3116\n",
            "Epoch 8/10\n",
            "1/1 [==============================] - 0s 64ms/step - loss: 0.3116 - mse: 0.3116\n",
            "Epoch 9/10\n",
            "1/1 [==============================] - 0s 67ms/step - loss: 0.3116 - mse: 0.3116\n",
            "Epoch 10/10\n",
            "1/1 [==============================] - 0s 76ms/step - loss: 0.3116 - mse: 0.3116\n"
          ],
          "name": "stdout"
        },
        {
          "output_type": "stream",
          "text": [
            "\r 57%|█████▋    | 300/529 [04:54<03:30,  1.09it/s]"
          ],
          "name": "stderr"
        },
        {
          "output_type": "stream",
          "text": [
            "Epoch 1/10\n",
            "1/1 [==============================] - 0s 65ms/step - loss: 0.3168 - mse: 0.3168\n",
            "Epoch 2/10\n",
            "1/1 [==============================] - 0s 61ms/step - loss: 0.3167 - mse: 0.3167\n",
            "Epoch 3/10\n",
            "1/1 [==============================] - 0s 63ms/step - loss: 0.3168 - mse: 0.3168\n",
            "Epoch 4/10\n",
            "1/1 [==============================] - 0s 70ms/step - loss: 0.3167 - mse: 0.3167\n",
            "Epoch 5/10\n",
            "1/1 [==============================] - 0s 63ms/step - loss: 0.3167 - mse: 0.3167\n",
            "Epoch 6/10\n",
            "1/1 [==============================] - 0s 66ms/step - loss: 0.3168 - mse: 0.3168\n",
            "Epoch 7/10\n",
            "1/1 [==============================] - 0s 66ms/step - loss: 0.3167 - mse: 0.3167\n",
            "Epoch 8/10\n",
            "1/1 [==============================] - 0s 70ms/step - loss: 0.3167 - mse: 0.3167\n",
            "Epoch 9/10\n",
            "1/1 [==============================] - 0s 62ms/step - loss: 0.3167 - mse: 0.3167\n",
            "Epoch 10/10\n",
            "1/1 [==============================] - 0s 65ms/step - loss: 0.3167 - mse: 0.3167\n"
          ],
          "name": "stdout"
        },
        {
          "output_type": "stream",
          "text": [
            "\r 57%|█████▋    | 301/529 [04:55<03:29,  1.09it/s]"
          ],
          "name": "stderr"
        },
        {
          "output_type": "stream",
          "text": [
            "Epoch 1/10\n",
            "1/1 [==============================] - 0s 65ms/step - loss: 0.3228 - mse: 0.3228\n",
            "Epoch 2/10\n",
            "1/1 [==============================] - 0s 59ms/step - loss: 0.3226 - mse: 0.3226\n",
            "Epoch 3/10\n",
            "1/1 [==============================] - 0s 63ms/step - loss: 0.3228 - mse: 0.3228\n",
            "Epoch 4/10\n",
            "1/1 [==============================] - 0s 66ms/step - loss: 0.3227 - mse: 0.3227\n",
            "Epoch 5/10\n",
            "1/1 [==============================] - 0s 63ms/step - loss: 0.3226 - mse: 0.3226\n",
            "Epoch 6/10\n",
            "1/1 [==============================] - 0s 68ms/step - loss: 0.3227 - mse: 0.3227\n",
            "Epoch 7/10\n",
            "1/1 [==============================] - 0s 65ms/step - loss: 0.3226 - mse: 0.3226\n",
            "Epoch 8/10\n",
            "1/1 [==============================] - 0s 66ms/step - loss: 0.3227 - mse: 0.3227\n",
            "Epoch 9/10\n",
            "1/1 [==============================] - 0s 67ms/step - loss: 0.3227 - mse: 0.3227\n",
            "Epoch 10/10\n",
            "1/1 [==============================] - 0s 67ms/step - loss: 0.3226 - mse: 0.3226\n"
          ],
          "name": "stdout"
        },
        {
          "output_type": "stream",
          "text": [
            "\r 57%|█████▋    | 302/529 [04:56<03:27,  1.09it/s]"
          ],
          "name": "stderr"
        },
        {
          "output_type": "stream",
          "text": [
            "Epoch 1/10\n",
            "1/1 [==============================] - 0s 78ms/step - loss: 0.3099 - mse: 0.3099\n",
            "Epoch 2/10\n",
            "1/1 [==============================] - 0s 62ms/step - loss: 0.3099 - mse: 0.3099\n",
            "Epoch 3/10\n",
            "1/1 [==============================] - 0s 65ms/step - loss: 0.3100 - mse: 0.3100\n",
            "Epoch 4/10\n",
            "1/1 [==============================] - 0s 72ms/step - loss: 0.3098 - mse: 0.3098\n",
            "Epoch 5/10\n",
            "1/1 [==============================] - 0s 73ms/step - loss: 0.3099 - mse: 0.3099\n",
            "Epoch 6/10\n",
            "1/1 [==============================] - 0s 68ms/step - loss: 0.3099 - mse: 0.3099\n",
            "Epoch 7/10\n",
            "1/1 [==============================] - 0s 63ms/step - loss: 0.3098 - mse: 0.3098\n",
            "Epoch 8/10\n",
            "1/1 [==============================] - 0s 68ms/step - loss: 0.3099 - mse: 0.3099\n",
            "Epoch 9/10\n",
            "1/1 [==============================] - 0s 67ms/step - loss: 0.3098 - mse: 0.3098\n",
            "Epoch 10/10\n",
            "1/1 [==============================] - 0s 62ms/step - loss: 0.3098 - mse: 0.3098\n"
          ],
          "name": "stdout"
        },
        {
          "output_type": "stream",
          "text": [
            "\r 57%|█████▋    | 303/529 [04:57<03:30,  1.07it/s]"
          ],
          "name": "stderr"
        },
        {
          "output_type": "stream",
          "text": [
            "Epoch 1/10\n",
            "1/1 [==============================] - 0s 64ms/step - loss: 0.3035 - mse: 0.3035\n",
            "Epoch 2/10\n",
            "1/1 [==============================] - 0s 76ms/step - loss: 0.3031 - mse: 0.3031\n",
            "Epoch 3/10\n",
            "1/1 [==============================] - 0s 67ms/step - loss: 0.3034 - mse: 0.3034\n",
            "Epoch 4/10\n",
            "1/1 [==============================] - 0s 72ms/step - loss: 0.3032 - mse: 0.3032\n",
            "Epoch 5/10\n",
            "1/1 [==============================] - 0s 71ms/step - loss: 0.3031 - mse: 0.3031\n",
            "Epoch 6/10\n",
            "1/1 [==============================] - 0s 69ms/step - loss: 0.3033 - mse: 0.3033\n",
            "Epoch 7/10\n",
            "1/1 [==============================] - 0s 67ms/step - loss: 0.3031 - mse: 0.3031\n",
            "Epoch 8/10\n",
            "1/1 [==============================] - 0s 64ms/step - loss: 0.3032 - mse: 0.3032\n",
            "Epoch 9/10\n",
            "1/1 [==============================] - 0s 63ms/step - loss: 0.3032 - mse: 0.3032\n",
            "Epoch 10/10\n",
            "1/1 [==============================] - 0s 65ms/step - loss: 0.3031 - mse: 0.3031\n"
          ],
          "name": "stdout"
        },
        {
          "output_type": "stream",
          "text": [
            "\r 57%|█████▋    | 304/529 [04:58<03:29,  1.07it/s]"
          ],
          "name": "stderr"
        },
        {
          "output_type": "stream",
          "text": [
            "Epoch 1/10\n",
            "1/1 [==============================] - 0s 66ms/step - loss: 0.3084 - mse: 0.3084\n",
            "Epoch 2/10\n",
            "1/1 [==============================] - 0s 61ms/step - loss: 0.3084 - mse: 0.3084\n",
            "Epoch 3/10\n",
            "1/1 [==============================] - 0s 70ms/step - loss: 0.3083 - mse: 0.3083\n",
            "Epoch 4/10\n",
            "1/1 [==============================] - 0s 68ms/step - loss: 0.3084 - mse: 0.3084\n",
            "Epoch 5/10\n",
            "1/1 [==============================] - 0s 64ms/step - loss: 0.3084 - mse: 0.3084\n",
            "Epoch 6/10\n",
            "1/1 [==============================] - 0s 65ms/step - loss: 0.3083 - mse: 0.3083\n",
            "Epoch 7/10\n",
            "1/1 [==============================] - 0s 69ms/step - loss: 0.3084 - mse: 0.3084\n",
            "Epoch 8/10\n",
            "1/1 [==============================] - 0s 67ms/step - loss: 0.3084 - mse: 0.3084\n",
            "Epoch 9/10\n",
            "1/1 [==============================] - 0s 68ms/step - loss: 0.3083 - mse: 0.3083\n",
            "Epoch 10/10\n",
            "1/1 [==============================] - 0s 75ms/step - loss: 0.3084 - mse: 0.3084\n"
          ],
          "name": "stdout"
        },
        {
          "output_type": "stream",
          "text": [
            "\r 58%|█████▊    | 305/529 [04:59<03:28,  1.07it/s]"
          ],
          "name": "stderr"
        },
        {
          "output_type": "stream",
          "text": [
            "Epoch 1/10\n",
            "1/1 [==============================] - 0s 66ms/step - loss: 0.3185 - mse: 0.3185\n",
            "Epoch 2/10\n",
            "1/1 [==============================] - 0s 67ms/step - loss: 0.3183 - mse: 0.3183\n",
            "Epoch 3/10\n",
            "1/1 [==============================] - 0s 63ms/step - loss: 0.3186 - mse: 0.3186\n",
            "Epoch 4/10\n",
            "1/1 [==============================] - 0s 76ms/step - loss: 0.3183 - mse: 0.3183\n",
            "Epoch 5/10\n",
            "1/1 [==============================] - 0s 61ms/step - loss: 0.3184 - mse: 0.3184\n",
            "Epoch 6/10\n",
            "1/1 [==============================] - 0s 63ms/step - loss: 0.3184 - mse: 0.3184\n",
            "Epoch 7/10\n",
            "1/1 [==============================] - 0s 67ms/step - loss: 0.3183 - mse: 0.3183\n",
            "Epoch 8/10\n",
            "1/1 [==============================] - 0s 69ms/step - loss: 0.3184 - mse: 0.3184\n",
            "Epoch 9/10\n",
            "1/1 [==============================] - 0s 65ms/step - loss: 0.3183 - mse: 0.3183\n",
            "Epoch 10/10\n",
            "1/1 [==============================] - 0s 66ms/step - loss: 0.3183 - mse: 0.3183\n"
          ],
          "name": "stdout"
        },
        {
          "output_type": "stream",
          "text": [
            "\r 58%|█████▊    | 306/529 [05:00<03:26,  1.08it/s]"
          ],
          "name": "stderr"
        },
        {
          "output_type": "stream",
          "text": [
            "Epoch 1/10\n",
            "1/1 [==============================] - 0s 66ms/step - loss: 0.3045 - mse: 0.3045\n",
            "Epoch 2/10\n",
            "1/1 [==============================] - 0s 63ms/step - loss: 0.3045 - mse: 0.3045\n",
            "Epoch 3/10\n",
            "1/1 [==============================] - 0s 66ms/step - loss: 0.3045 - mse: 0.3045\n",
            "Epoch 4/10\n",
            "1/1 [==============================] - 0s 68ms/step - loss: 0.3044 - mse: 0.3044\n",
            "Epoch 5/10\n",
            "1/1 [==============================] - 0s 69ms/step - loss: 0.3045 - mse: 0.3045\n",
            "Epoch 6/10\n",
            "1/1 [==============================] - 0s 66ms/step - loss: 0.3045 - mse: 0.3045\n",
            "Epoch 7/10\n",
            "1/1 [==============================] - 0s 70ms/step - loss: 0.3044 - mse: 0.3044\n",
            "Epoch 8/10\n",
            "1/1 [==============================] - 0s 64ms/step - loss: 0.3045 - mse: 0.3045\n",
            "Epoch 9/10\n",
            "1/1 [==============================] - 0s 67ms/step - loss: 0.3044 - mse: 0.3044\n",
            "Epoch 10/10\n",
            "1/1 [==============================] - 0s 67ms/step - loss: 0.3044 - mse: 0.3044\n"
          ],
          "name": "stdout"
        },
        {
          "output_type": "stream",
          "text": [
            "\r 58%|█████▊    | 307/529 [05:01<03:24,  1.08it/s]"
          ],
          "name": "stderr"
        },
        {
          "output_type": "stream",
          "text": [
            "Epoch 1/10\n",
            "1/1 [==============================] - 0s 66ms/step - loss: 0.3214 - mse: 0.3214\n",
            "Epoch 2/10\n",
            "1/1 [==============================] - 0s 61ms/step - loss: 0.3211 - mse: 0.3211\n",
            "Epoch 3/10\n",
            "1/1 [==============================] - 0s 60ms/step - loss: 0.3214 - mse: 0.3214\n",
            "Epoch 4/10\n",
            "1/1 [==============================] - 0s 68ms/step - loss: 0.3211 - mse: 0.3211\n",
            "Epoch 5/10\n",
            "1/1 [==============================] - 0s 66ms/step - loss: 0.3212 - mse: 0.3212\n",
            "Epoch 6/10\n",
            "1/1 [==============================] - 0s 67ms/step - loss: 0.3213 - mse: 0.3213\n",
            "Epoch 7/10\n",
            "1/1 [==============================] - 0s 72ms/step - loss: 0.3211 - mse: 0.3211\n",
            "Epoch 8/10\n",
            "1/1 [==============================] - 0s 65ms/step - loss: 0.3212 - mse: 0.3212\n",
            "Epoch 9/10\n",
            "1/1 [==============================] - 0s 66ms/step - loss: 0.3211 - mse: 0.3211\n",
            "Epoch 10/10\n",
            "1/1 [==============================] - 0s 67ms/step - loss: 0.3211 - mse: 0.3211\n"
          ],
          "name": "stdout"
        },
        {
          "output_type": "stream",
          "text": [
            "\r 58%|█████▊    | 308/529 [05:02<03:23,  1.09it/s]"
          ],
          "name": "stderr"
        },
        {
          "output_type": "stream",
          "text": [
            "Epoch 1/10\n",
            "1/1 [==============================] - 0s 66ms/step - loss: 0.3027 - mse: 0.3027\n",
            "Epoch 2/10\n",
            "1/1 [==============================] - 0s 57ms/step - loss: 0.3026 - mse: 0.3026\n",
            "Epoch 3/10\n",
            "1/1 [==============================] - 0s 68ms/step - loss: 0.3028 - mse: 0.3028\n",
            "Epoch 4/10\n",
            "1/1 [==============================] - 0s 70ms/step - loss: 0.3025 - mse: 0.3025\n",
            "Epoch 5/10\n",
            "1/1 [==============================] - 0s 66ms/step - loss: 0.3026 - mse: 0.3026\n",
            "Epoch 6/10\n",
            "1/1 [==============================] - 0s 72ms/step - loss: 0.3027 - mse: 0.3027\n",
            "Epoch 7/10\n",
            "1/1 [==============================] - 0s 70ms/step - loss: 0.3025 - mse: 0.3025\n",
            "Epoch 8/10\n",
            "1/1 [==============================] - 0s 75ms/step - loss: 0.3026 - mse: 0.3026\n",
            "Epoch 9/10\n",
            "1/1 [==============================] - 0s 69ms/step - loss: 0.3026 - mse: 0.3026\n",
            "Epoch 10/10\n",
            "1/1 [==============================] - 0s 68ms/step - loss: 0.3025 - mse: 0.3025\n"
          ],
          "name": "stdout"
        },
        {
          "output_type": "stream",
          "text": [
            "\r 58%|█████▊    | 309/529 [05:03<03:24,  1.07it/s]"
          ],
          "name": "stderr"
        },
        {
          "output_type": "stream",
          "text": [
            "Epoch 1/10\n",
            "1/1 [==============================] - 0s 67ms/step - loss: 0.3094 - mse: 0.3094\n",
            "Epoch 2/10\n",
            "1/1 [==============================] - 0s 68ms/step - loss: 0.3094 - mse: 0.3094\n",
            "Epoch 3/10\n",
            "1/1 [==============================] - 0s 64ms/step - loss: 0.3093 - mse: 0.3093\n",
            "Epoch 4/10\n",
            "1/1 [==============================] - 0s 67ms/step - loss: 0.3093 - mse: 0.3093\n",
            "Epoch 5/10\n",
            "1/1 [==============================] - 0s 66ms/step - loss: 0.3094 - mse: 0.3094\n",
            "Epoch 6/10\n",
            "1/1 [==============================] - 0s 65ms/step - loss: 0.3094 - mse: 0.3094\n",
            "Epoch 7/10\n",
            "1/1 [==============================] - 0s 70ms/step - loss: 0.3094 - mse: 0.3094\n",
            "Epoch 8/10\n",
            "1/1 [==============================] - 0s 65ms/step - loss: 0.3094 - mse: 0.3094\n",
            "Epoch 9/10\n",
            "1/1 [==============================] - 0s 75ms/step - loss: 0.3093 - mse: 0.3093\n",
            "Epoch 10/10\n",
            "1/1 [==============================] - 0s 69ms/step - loss: 0.3093 - mse: 0.3093\n"
          ],
          "name": "stdout"
        },
        {
          "output_type": "stream",
          "text": [
            "\r 59%|█████▊    | 310/529 [05:04<03:22,  1.08it/s]"
          ],
          "name": "stderr"
        },
        {
          "output_type": "stream",
          "text": [
            "Epoch 1/10\n",
            "1/1 [==============================] - 0s 67ms/step - loss: 0.3266 - mse: 0.3266\n",
            "Epoch 2/10\n",
            "1/1 [==============================] - 0s 60ms/step - loss: 0.3261 - mse: 0.3261\n",
            "Epoch 3/10\n",
            "1/1 [==============================] - 0s 64ms/step - loss: 0.3264 - mse: 0.3264\n",
            "Epoch 4/10\n",
            "1/1 [==============================] - 0s 69ms/step - loss: 0.3260 - mse: 0.3260\n",
            "Epoch 5/10\n",
            "1/1 [==============================] - 0s 63ms/step - loss: 0.3262 - mse: 0.3262\n",
            "Epoch 6/10\n",
            "1/1 [==============================] - 0s 83ms/step - loss: 0.3263 - mse: 0.3263\n",
            "Epoch 7/10\n",
            "1/1 [==============================] - 0s 69ms/step - loss: 0.3260 - mse: 0.3260\n",
            "Epoch 8/10\n",
            "1/1 [==============================] - 0s 69ms/step - loss: 0.3262 - mse: 0.3262\n",
            "Epoch 9/10\n",
            "1/1 [==============================] - 0s 65ms/step - loss: 0.3261 - mse: 0.3261\n",
            "Epoch 10/10\n",
            "1/1 [==============================] - 0s 71ms/step - loss: 0.3260 - mse: 0.3260\n"
          ],
          "name": "stdout"
        },
        {
          "output_type": "stream",
          "text": [
            "\r 59%|█████▉    | 311/529 [05:04<03:24,  1.07it/s]"
          ],
          "name": "stderr"
        },
        {
          "output_type": "stream",
          "text": [
            "Epoch 1/10\n",
            "1/1 [==============================] - 0s 65ms/step - loss: 0.3093 - mse: 0.3093\n",
            "Epoch 2/10\n",
            "1/1 [==============================] - 0s 61ms/step - loss: 0.3092 - mse: 0.3092\n",
            "Epoch 3/10\n",
            "1/1 [==============================] - 0s 64ms/step - loss: 0.3092 - mse: 0.3092\n",
            "Epoch 4/10\n",
            "1/1 [==============================] - 0s 67ms/step - loss: 0.3091 - mse: 0.3091\n",
            "Epoch 5/10\n",
            "1/1 [==============================] - 0s 63ms/step - loss: 0.3092 - mse: 0.3092\n",
            "Epoch 6/10\n",
            "1/1 [==============================] - 0s 65ms/step - loss: 0.3092 - mse: 0.3092\n",
            "Epoch 7/10\n",
            "1/1 [==============================] - 0s 67ms/step - loss: 0.3092 - mse: 0.3092\n",
            "Epoch 8/10\n",
            "1/1 [==============================] - 0s 67ms/step - loss: 0.3092 - mse: 0.3092\n",
            "Epoch 9/10\n",
            "1/1 [==============================] - 0s 63ms/step - loss: 0.3091 - mse: 0.3091\n",
            "Epoch 10/10\n",
            "1/1 [==============================] - 0s 66ms/step - loss: 0.3091 - mse: 0.3091\n"
          ],
          "name": "stdout"
        },
        {
          "output_type": "stream",
          "text": [
            "\r 59%|█████▉    | 312/529 [05:05<03:21,  1.08it/s]"
          ],
          "name": "stderr"
        },
        {
          "output_type": "stream",
          "text": [
            "Epoch 1/10\n",
            "1/1 [==============================] - 0s 61ms/step - loss: 0.3073 - mse: 0.3073\n",
            "Epoch 2/10\n",
            "1/1 [==============================] - 0s 61ms/step - loss: 0.3073 - mse: 0.3073\n",
            "Epoch 3/10\n",
            "1/1 [==============================] - 0s 58ms/step - loss: 0.3073 - mse: 0.3073\n",
            "Epoch 4/10\n",
            "1/1 [==============================] - 0s 69ms/step - loss: 0.3073 - mse: 0.3073\n",
            "Epoch 5/10\n",
            "1/1 [==============================] - 0s 61ms/step - loss: 0.3073 - mse: 0.3073\n",
            "Epoch 6/10\n",
            "1/1 [==============================] - 0s 63ms/step - loss: 0.3073 - mse: 0.3073\n",
            "Epoch 7/10\n",
            "1/1 [==============================] - 0s 67ms/step - loss: 0.3072 - mse: 0.3072\n",
            "Epoch 8/10\n",
            "1/1 [==============================] - 0s 71ms/step - loss: 0.3073 - mse: 0.3073\n",
            "Epoch 9/10\n",
            "1/1 [==============================] - 0s 64ms/step - loss: 0.3073 - mse: 0.3073\n",
            "Epoch 10/10\n",
            "1/1 [==============================] - 0s 66ms/step - loss: 0.3072 - mse: 0.3072\n"
          ],
          "name": "stdout"
        },
        {
          "output_type": "stream",
          "text": [
            "\r 59%|█████▉    | 313/529 [05:06<03:17,  1.09it/s]"
          ],
          "name": "stderr"
        },
        {
          "output_type": "stream",
          "text": [
            "Epoch 1/10\n",
            "1/1 [==============================] - 0s 68ms/step - loss: 0.2996 - mse: 0.2996\n",
            "Epoch 2/10\n",
            "1/1 [==============================] - 0s 65ms/step - loss: 0.2994 - mse: 0.2994\n",
            "Epoch 3/10\n",
            "1/1 [==============================] - 0s 64ms/step - loss: 0.2995 - mse: 0.2995\n",
            "Epoch 4/10\n",
            "1/1 [==============================] - 0s 63ms/step - loss: 0.2995 - mse: 0.2995\n",
            "Epoch 5/10\n",
            "1/1 [==============================] - 0s 67ms/step - loss: 0.2993 - mse: 0.2993\n",
            "Epoch 6/10\n",
            "1/1 [==============================] - 0s 69ms/step - loss: 0.2995 - mse: 0.2995\n",
            "Epoch 7/10\n",
            "1/1 [==============================] - 0s 64ms/step - loss: 0.2994 - mse: 0.2994\n",
            "Epoch 8/10\n",
            "1/1 [==============================] - 0s 63ms/step - loss: 0.2994 - mse: 0.2994\n",
            "Epoch 9/10\n",
            "1/1 [==============================] - 0s 67ms/step - loss: 0.2994 - mse: 0.2994\n",
            "Epoch 10/10\n",
            "1/1 [==============================] - 0s 61ms/step - loss: 0.2993 - mse: 0.2993\n"
          ],
          "name": "stdout"
        },
        {
          "output_type": "stream",
          "text": [
            "\r 59%|█████▉    | 314/529 [05:07<03:16,  1.09it/s]"
          ],
          "name": "stderr"
        },
        {
          "output_type": "stream",
          "text": [
            "Epoch 1/10\n",
            "1/1 [==============================] - 0s 61ms/step - loss: 0.3004 - mse: 0.3004\n",
            "Epoch 2/10\n",
            "1/1 [==============================] - 0s 64ms/step - loss: 0.3004 - mse: 0.3004\n",
            "Epoch 3/10\n",
            "1/1 [==============================] - 0s 68ms/step - loss: 0.3003 - mse: 0.3003\n",
            "Epoch 4/10\n",
            "1/1 [==============================] - 0s 73ms/step - loss: 0.3004 - mse: 0.3004\n",
            "Epoch 5/10\n",
            "1/1 [==============================] - 0s 74ms/step - loss: 0.3004 - mse: 0.3004\n",
            "Epoch 6/10\n",
            "1/1 [==============================] - 0s 75ms/step - loss: 0.3003 - mse: 0.3003\n",
            "Epoch 7/10\n",
            "1/1 [==============================] - 0s 69ms/step - loss: 0.3004 - mse: 0.3004\n",
            "Epoch 8/10\n",
            "1/1 [==============================] - 0s 69ms/step - loss: 0.3004 - mse: 0.3004\n",
            "Epoch 9/10\n",
            "1/1 [==============================] - 0s 73ms/step - loss: 0.3003 - mse: 0.3003\n",
            "Epoch 10/10\n",
            "1/1 [==============================] - 0s 69ms/step - loss: 0.3004 - mse: 0.3004\n"
          ],
          "name": "stdout"
        },
        {
          "output_type": "stream",
          "text": [
            "\r 60%|█████▉    | 315/529 [05:08<03:18,  1.08it/s]"
          ],
          "name": "stderr"
        },
        {
          "output_type": "stream",
          "text": [
            "Epoch 1/10\n",
            "1/1 [==============================] - 0s 66ms/step - loss: 0.3066 - mse: 0.3066\n",
            "Epoch 2/10\n",
            "1/1 [==============================] - 0s 63ms/step - loss: 0.3066 - mse: 0.3066\n",
            "Epoch 3/10\n",
            "1/1 [==============================] - 0s 67ms/step - loss: 0.3067 - mse: 0.3067\n",
            "Epoch 4/10\n",
            "1/1 [==============================] - 0s 69ms/step - loss: 0.3066 - mse: 0.3066\n",
            "Epoch 5/10\n",
            "1/1 [==============================] - 0s 66ms/step - loss: 0.3066 - mse: 0.3066\n",
            "Epoch 6/10\n",
            "1/1 [==============================] - 0s 69ms/step - loss: 0.3066 - mse: 0.3066\n",
            "Epoch 7/10\n",
            "1/1 [==============================] - 0s 73ms/step - loss: 0.3065 - mse: 0.3065\n",
            "Epoch 8/10\n",
            "1/1 [==============================] - 0s 66ms/step - loss: 0.3066 - mse: 0.3066\n",
            "Epoch 9/10\n",
            "1/1 [==============================] - 0s 66ms/step - loss: 0.3066 - mse: 0.3066\n",
            "Epoch 10/10\n",
            "1/1 [==============================] - 0s 72ms/step - loss: 0.3065 - mse: 0.3065\n"
          ],
          "name": "stdout"
        },
        {
          "output_type": "stream",
          "text": [
            "\r 60%|█████▉    | 316/529 [05:09<03:19,  1.07it/s]"
          ],
          "name": "stderr"
        },
        {
          "output_type": "stream",
          "text": [
            "Epoch 1/10\n",
            "1/1 [==============================] - 0s 72ms/step - loss: 0.3093 - mse: 0.3093\n",
            "Epoch 2/10\n",
            "1/1 [==============================] - 0s 62ms/step - loss: 0.3091 - mse: 0.3091\n",
            "Epoch 3/10\n",
            "1/1 [==============================] - 0s 64ms/step - loss: 0.3092 - mse: 0.3092\n",
            "Epoch 4/10\n",
            "1/1 [==============================] - 0s 71ms/step - loss: 0.3092 - mse: 0.3092\n",
            "Epoch 5/10\n",
            "1/1 [==============================] - 0s 76ms/step - loss: 0.3091 - mse: 0.3091\n",
            "Epoch 6/10\n",
            "1/1 [==============================] - 0s 65ms/step - loss: 0.3092 - mse: 0.3092\n",
            "Epoch 7/10\n",
            "1/1 [==============================] - 0s 71ms/step - loss: 0.3092 - mse: 0.3092\n",
            "Epoch 8/10\n",
            "1/1 [==============================] - 0s 67ms/step - loss: 0.3091 - mse: 0.3091\n",
            "Epoch 9/10\n",
            "1/1 [==============================] - 0s 65ms/step - loss: 0.3092 - mse: 0.3092\n",
            "Epoch 10/10\n",
            "1/1 [==============================] - 0s 70ms/step - loss: 0.3091 - mse: 0.3091\n"
          ],
          "name": "stdout"
        },
        {
          "output_type": "stream",
          "text": [
            "\r 60%|█████▉    | 317/529 [05:10<03:20,  1.06it/s]"
          ],
          "name": "stderr"
        },
        {
          "output_type": "stream",
          "text": [
            "Epoch 1/10\n",
            "1/1 [==============================] - 0s 63ms/step - loss: 0.3096 - mse: 0.3096\n",
            "Epoch 2/10\n",
            "1/1 [==============================] - 0s 63ms/step - loss: 0.3096 - mse: 0.3096\n",
            "Epoch 3/10\n",
            "1/1 [==============================] - 0s 70ms/step - loss: 0.3096 - mse: 0.3096\n",
            "Epoch 4/10\n",
            "1/1 [==============================] - 0s 78ms/step - loss: 0.3096 - mse: 0.3096\n",
            "Epoch 5/10\n",
            "1/1 [==============================] - 0s 70ms/step - loss: 0.3096 - mse: 0.3096\n",
            "Epoch 6/10\n",
            "1/1 [==============================] - 0s 69ms/step - loss: 0.3096 - mse: 0.3096\n",
            "Epoch 7/10\n",
            "1/1 [==============================] - 0s 67ms/step - loss: 0.3096 - mse: 0.3096\n",
            "Epoch 8/10\n",
            "1/1 [==============================] - 0s 71ms/step - loss: 0.3096 - mse: 0.3096\n",
            "Epoch 9/10\n",
            "1/1 [==============================] - 0s 67ms/step - loss: 0.3096 - mse: 0.3096\n",
            "Epoch 10/10\n",
            "1/1 [==============================] - 0s 73ms/step - loss: 0.3096 - mse: 0.3096\n"
          ],
          "name": "stdout"
        },
        {
          "output_type": "stream",
          "text": [
            "\r 60%|██████    | 318/529 [05:11<03:21,  1.05it/s]"
          ],
          "name": "stderr"
        },
        {
          "output_type": "stream",
          "text": [
            "Epoch 1/10\n",
            "1/1 [==============================] - 0s 70ms/step - loss: 0.3017 - mse: 0.3017\n",
            "Epoch 2/10\n",
            "1/1 [==============================] - 0s 63ms/step - loss: 0.3016 - mse: 0.3016\n",
            "Epoch 3/10\n",
            "1/1 [==============================] - 0s 68ms/step - loss: 0.3017 - mse: 0.3017\n",
            "Epoch 4/10\n",
            "1/1 [==============================] - 0s 68ms/step - loss: 0.3015 - mse: 0.3015\n",
            "Epoch 5/10\n",
            "1/1 [==============================] - 0s 74ms/step - loss: 0.3016 - mse: 0.3016\n",
            "Epoch 6/10\n",
            "1/1 [==============================] - 0s 69ms/step - loss: 0.3017 - mse: 0.3017\n",
            "Epoch 7/10\n",
            "1/1 [==============================] - 0s 74ms/step - loss: 0.3015 - mse: 0.3015\n",
            "Epoch 8/10\n",
            "1/1 [==============================] - 0s 75ms/step - loss: 0.3016 - mse: 0.3016\n",
            "Epoch 9/10\n",
            "1/1 [==============================] - 0s 77ms/step - loss: 0.3016 - mse: 0.3016\n",
            "Epoch 10/10\n",
            "1/1 [==============================] - 0s 69ms/step - loss: 0.3015 - mse: 0.3015\n"
          ],
          "name": "stdout"
        },
        {
          "output_type": "stream",
          "text": [
            "\r 60%|██████    | 319/529 [05:12<03:21,  1.04it/s]"
          ],
          "name": "stderr"
        },
        {
          "output_type": "stream",
          "text": [
            "Epoch 1/10\n",
            "1/1 [==============================] - 0s 63ms/step - loss: 0.3100 - mse: 0.3100\n",
            "Epoch 2/10\n",
            "1/1 [==============================] - 0s 64ms/step - loss: 0.3098 - mse: 0.3098\n",
            "Epoch 3/10\n",
            "1/1 [==============================] - 0s 65ms/step - loss: 0.3097 - mse: 0.3097\n",
            "Epoch 4/10\n",
            "1/1 [==============================] - 0s 68ms/step - loss: 0.3097 - mse: 0.3097\n",
            "Epoch 5/10\n",
            "1/1 [==============================] - 0s 68ms/step - loss: 0.3098 - mse: 0.3098\n",
            "Epoch 6/10\n",
            "1/1 [==============================] - 0s 70ms/step - loss: 0.3098 - mse: 0.3098\n",
            "Epoch 7/10\n",
            "1/1 [==============================] - 0s 72ms/step - loss: 0.3098 - mse: 0.3098\n",
            "Epoch 8/10\n",
            "1/1 [==============================] - 0s 71ms/step - loss: 0.3098 - mse: 0.3098\n",
            "Epoch 9/10\n",
            "1/1 [==============================] - 0s 70ms/step - loss: 0.3097 - mse: 0.3097\n",
            "Epoch 10/10\n",
            "1/1 [==============================] - 0s 68ms/step - loss: 0.3097 - mse: 0.3097\n"
          ],
          "name": "stdout"
        },
        {
          "output_type": "stream",
          "text": [
            "\r 60%|██████    | 320/529 [05:13<03:20,  1.04it/s]"
          ],
          "name": "stderr"
        },
        {
          "output_type": "stream",
          "text": [
            "Epoch 1/10\n",
            "1/1 [==============================] - 0s 67ms/step - loss: 0.3092 - mse: 0.3092\n",
            "Epoch 2/10\n",
            "1/1 [==============================] - 0s 66ms/step - loss: 0.3091 - mse: 0.3091\n",
            "Epoch 3/10\n",
            "1/1 [==============================] - 0s 68ms/step - loss: 0.3091 - mse: 0.3091\n",
            "Epoch 4/10\n",
            "1/1 [==============================] - 0s 69ms/step - loss: 0.3091 - mse: 0.3091\n",
            "Epoch 5/10\n",
            "1/1 [==============================] - 0s 66ms/step - loss: 0.3091 - mse: 0.3091\n",
            "Epoch 6/10\n",
            "1/1 [==============================] - 0s 70ms/step - loss: 0.3092 - mse: 0.3092\n",
            "Epoch 7/10\n",
            "1/1 [==============================] - 0s 65ms/step - loss: 0.3092 - mse: 0.3092\n",
            "Epoch 8/10\n",
            "1/1 [==============================] - 0s 70ms/step - loss: 0.3091 - mse: 0.3091\n",
            "Epoch 9/10\n",
            "1/1 [==============================] - 0s 64ms/step - loss: 0.3091 - mse: 0.3091\n",
            "Epoch 10/10\n",
            "1/1 [==============================] - 0s 75ms/step - loss: 0.3091 - mse: 0.3091\n"
          ],
          "name": "stdout"
        },
        {
          "output_type": "stream",
          "text": [
            "\r 61%|██████    | 321/529 [05:14<03:17,  1.05it/s]"
          ],
          "name": "stderr"
        },
        {
          "output_type": "stream",
          "text": [
            "Epoch 1/10\n",
            "1/1 [==============================] - 0s 67ms/step - loss: 0.3142 - mse: 0.3142\n",
            "Epoch 2/10\n",
            "1/1 [==============================] - 0s 62ms/step - loss: 0.3142 - mse: 0.3142\n",
            "Epoch 3/10\n",
            "1/1 [==============================] - 0s 65ms/step - loss: 0.3142 - mse: 0.3142\n",
            "Epoch 4/10\n",
            "1/1 [==============================] - 0s 68ms/step - loss: 0.3142 - mse: 0.3142\n",
            "Epoch 5/10\n",
            "1/1 [==============================] - 0s 68ms/step - loss: 0.3142 - mse: 0.3142\n",
            "Epoch 6/10\n",
            "1/1 [==============================] - 0s 70ms/step - loss: 0.3142 - mse: 0.3142\n",
            "Epoch 7/10\n",
            "1/1 [==============================] - 0s 76ms/step - loss: 0.3142 - mse: 0.3142\n",
            "Epoch 8/10\n",
            "1/1 [==============================] - 0s 67ms/step - loss: 0.3142 - mse: 0.3142\n",
            "Epoch 9/10\n",
            "1/1 [==============================] - 0s 66ms/step - loss: 0.3142 - mse: 0.3142\n",
            "Epoch 10/10\n",
            "1/1 [==============================] - 0s 75ms/step - loss: 0.3142 - mse: 0.3142\n"
          ],
          "name": "stdout"
        },
        {
          "output_type": "stream",
          "text": [
            "\r 61%|██████    | 322/529 [05:15<03:15,  1.06it/s]"
          ],
          "name": "stderr"
        },
        {
          "output_type": "stream",
          "text": [
            "Epoch 1/10\n",
            "1/1 [==============================] - 0s 66ms/step - loss: 0.3060 - mse: 0.3060\n",
            "Epoch 2/10\n",
            "1/1 [==============================] - 0s 63ms/step - loss: 0.3059 - mse: 0.3059\n",
            "Epoch 3/10\n",
            "1/1 [==============================] - 0s 63ms/step - loss: 0.3060 - mse: 0.3060\n",
            "Epoch 4/10\n",
            "1/1 [==============================] - 0s 66ms/step - loss: 0.3059 - mse: 0.3059\n",
            "Epoch 5/10\n",
            "1/1 [==============================] - 0s 64ms/step - loss: 0.3059 - mse: 0.3059\n",
            "Epoch 6/10\n",
            "1/1 [==============================] - 0s 62ms/step - loss: 0.3060 - mse: 0.3060\n",
            "Epoch 7/10\n",
            "1/1 [==============================] - 0s 69ms/step - loss: 0.3059 - mse: 0.3059\n",
            "Epoch 8/10\n",
            "1/1 [==============================] - 0s 75ms/step - loss: 0.3059 - mse: 0.3059\n",
            "Epoch 9/10\n",
            "1/1 [==============================] - 0s 63ms/step - loss: 0.3059 - mse: 0.3059\n",
            "Epoch 10/10\n",
            "1/1 [==============================] - 0s 65ms/step - loss: 0.3059 - mse: 0.3059\n"
          ],
          "name": "stdout"
        },
        {
          "output_type": "stream",
          "text": [
            "\r 61%|██████    | 323/529 [05:16<03:12,  1.07it/s]"
          ],
          "name": "stderr"
        },
        {
          "output_type": "stream",
          "text": [
            "Epoch 1/10\n",
            "1/1 [==============================] - 0s 63ms/step - loss: 0.3078 - mse: 0.3078\n",
            "Epoch 2/10\n",
            "1/1 [==============================] - 0s 59ms/step - loss: 0.3078 - mse: 0.3078\n",
            "Epoch 3/10\n",
            "1/1 [==============================] - 0s 58ms/step - loss: 0.3078 - mse: 0.3078\n",
            "Epoch 4/10\n",
            "1/1 [==============================] - 0s 69ms/step - loss: 0.3078 - mse: 0.3078\n",
            "Epoch 5/10\n",
            "1/1 [==============================] - 0s 66ms/step - loss: 0.3078 - mse: 0.3078\n",
            "Epoch 6/10\n",
            "1/1 [==============================] - 0s 64ms/step - loss: 0.3078 - mse: 0.3078\n",
            "Epoch 7/10\n",
            "1/1 [==============================] - 0s 67ms/step - loss: 0.3078 - mse: 0.3078\n",
            "Epoch 8/10\n",
            "1/1 [==============================] - 0s 73ms/step - loss: 0.3077 - mse: 0.3077\n",
            "Epoch 9/10\n",
            "1/1 [==============================] - 0s 74ms/step - loss: 0.3077 - mse: 0.3077\n",
            "Epoch 10/10\n",
            "1/1 [==============================] - 0s 70ms/step - loss: 0.3077 - mse: 0.3077\n"
          ],
          "name": "stdout"
        },
        {
          "output_type": "stream",
          "text": [
            "\r 61%|██████    | 324/529 [05:17<03:10,  1.08it/s]"
          ],
          "name": "stderr"
        },
        {
          "output_type": "stream",
          "text": [
            "Epoch 1/10\n",
            "1/1 [==============================] - 0s 65ms/step - loss: 0.3034 - mse: 0.3034\n",
            "Epoch 2/10\n",
            "1/1 [==============================] - 0s 64ms/step - loss: 0.3034 - mse: 0.3034\n",
            "Epoch 3/10\n",
            "1/1 [==============================] - 0s 63ms/step - loss: 0.3034 - mse: 0.3034\n",
            "Epoch 4/10\n",
            "1/1 [==============================] - 0s 70ms/step - loss: 0.3034 - mse: 0.3034\n",
            "Epoch 5/10\n",
            "1/1 [==============================] - 0s 65ms/step - loss: 0.3034 - mse: 0.3034\n",
            "Epoch 6/10\n",
            "1/1 [==============================] - 0s 67ms/step - loss: 0.3034 - mse: 0.3034\n",
            "Epoch 7/10\n",
            "1/1 [==============================] - 0s 66ms/step - loss: 0.3034 - mse: 0.3034\n",
            "Epoch 8/10\n",
            "1/1 [==============================] - 0s 64ms/step - loss: 0.3034 - mse: 0.3034\n",
            "Epoch 9/10\n",
            "1/1 [==============================] - 0s 65ms/step - loss: 0.3034 - mse: 0.3034\n",
            "Epoch 10/10\n",
            "1/1 [==============================] - 0s 62ms/step - loss: 0.3034 - mse: 0.3034\n"
          ],
          "name": "stdout"
        },
        {
          "output_type": "stream",
          "text": [
            "\r 61%|██████▏   | 325/529 [05:18<03:07,  1.09it/s]"
          ],
          "name": "stderr"
        },
        {
          "output_type": "stream",
          "text": [
            "Epoch 1/10\n",
            "1/1 [==============================] - 0s 66ms/step - loss: 0.3078 - mse: 0.3078\n",
            "Epoch 2/10\n",
            "1/1 [==============================] - 0s 73ms/step - loss: 0.3078 - mse: 0.3078\n",
            "Epoch 3/10\n",
            "1/1 [==============================] - 0s 67ms/step - loss: 0.3078 - mse: 0.3078\n",
            "Epoch 4/10\n",
            "1/1 [==============================] - 0s 67ms/step - loss: 0.3078 - mse: 0.3078\n",
            "Epoch 5/10\n",
            "1/1 [==============================] - 0s 61ms/step - loss: 0.3078 - mse: 0.3078\n",
            "Epoch 6/10\n",
            "1/1 [==============================] - 0s 65ms/step - loss: 0.3078 - mse: 0.3078\n",
            "Epoch 7/10\n",
            "1/1 [==============================] - 0s 67ms/step - loss: 0.3078 - mse: 0.3078\n",
            "Epoch 8/10\n",
            "1/1 [==============================] - 0s 66ms/step - loss: 0.3078 - mse: 0.3078\n",
            "Epoch 9/10\n",
            "1/1 [==============================] - 0s 65ms/step - loss: 0.3078 - mse: 0.3078\n",
            "Epoch 10/10\n",
            "1/1 [==============================] - 0s 70ms/step - loss: 0.3078 - mse: 0.3078\n"
          ],
          "name": "stdout"
        },
        {
          "output_type": "stream",
          "text": [
            "\r 62%|██████▏   | 326/529 [05:18<03:06,  1.09it/s]"
          ],
          "name": "stderr"
        },
        {
          "output_type": "stream",
          "text": [
            "Epoch 1/10\n",
            "1/1 [==============================] - 0s 63ms/step - loss: 0.3088 - mse: 0.3088\n",
            "Epoch 2/10\n",
            "1/1 [==============================] - 0s 58ms/step - loss: 0.3088 - mse: 0.3088\n",
            "Epoch 3/10\n",
            "1/1 [==============================] - 0s 66ms/step - loss: 0.3088 - mse: 0.3088\n",
            "Epoch 4/10\n",
            "1/1 [==============================] - 0s 63ms/step - loss: 0.3088 - mse: 0.3088\n",
            "Epoch 5/10\n",
            "1/1 [==============================] - 0s 64ms/step - loss: 0.3088 - mse: 0.3088\n",
            "Epoch 6/10\n",
            "1/1 [==============================] - 0s 68ms/step - loss: 0.3088 - mse: 0.3088\n",
            "Epoch 7/10\n",
            "1/1 [==============================] - 0s 73ms/step - loss: 0.3088 - mse: 0.3088\n",
            "Epoch 8/10\n",
            "1/1 [==============================] - 0s 68ms/step - loss: 0.3088 - mse: 0.3088\n",
            "Epoch 9/10\n",
            "1/1 [==============================] - 0s 63ms/step - loss: 0.3088 - mse: 0.3088\n",
            "Epoch 10/10\n",
            "1/1 [==============================] - 0s 68ms/step - loss: 0.3088 - mse: 0.3088\n"
          ],
          "name": "stdout"
        },
        {
          "output_type": "stream",
          "text": [
            "\r 62%|██████▏   | 327/529 [05:19<03:04,  1.09it/s]"
          ],
          "name": "stderr"
        },
        {
          "output_type": "stream",
          "text": [
            "Epoch 1/10\n",
            "1/1 [==============================] - 0s 69ms/step - loss: 0.3028 - mse: 0.3028\n",
            "Epoch 2/10\n",
            "1/1 [==============================] - 0s 64ms/step - loss: 0.3027 - mse: 0.3027\n",
            "Epoch 3/10\n",
            "1/1 [==============================] - 0s 68ms/step - loss: 0.3027 - mse: 0.3027\n",
            "Epoch 4/10\n",
            "1/1 [==============================] - 0s 76ms/step - loss: 0.3027 - mse: 0.3027\n",
            "Epoch 5/10\n",
            "1/1 [==============================] - 0s 67ms/step - loss: 0.3027 - mse: 0.3027\n",
            "Epoch 6/10\n",
            "1/1 [==============================] - 0s 72ms/step - loss: 0.3027 - mse: 0.3027\n",
            "Epoch 7/10\n",
            "1/1 [==============================] - 0s 62ms/step - loss: 0.3027 - mse: 0.3027\n",
            "Epoch 8/10\n",
            "1/1 [==============================] - 0s 67ms/step - loss: 0.3027 - mse: 0.3027\n",
            "Epoch 9/10\n",
            "1/1 [==============================] - 0s 73ms/step - loss: 0.3027 - mse: 0.3027\n",
            "Epoch 10/10\n",
            "1/1 [==============================] - 0s 68ms/step - loss: 0.3027 - mse: 0.3027\n"
          ],
          "name": "stdout"
        },
        {
          "output_type": "stream",
          "text": [
            "\r 62%|██████▏   | 328/529 [05:20<03:06,  1.08it/s]"
          ],
          "name": "stderr"
        },
        {
          "output_type": "stream",
          "text": [
            "Epoch 1/10\n",
            "1/1 [==============================] - 0s 65ms/step - loss: 0.3157 - mse: 0.3157\n",
            "Epoch 2/10\n",
            "1/1 [==============================] - 0s 68ms/step - loss: 0.3155 - mse: 0.3155\n",
            "Epoch 3/10\n",
            "1/1 [==============================] - 0s 65ms/step - loss: 0.3156 - mse: 0.3156\n",
            "Epoch 4/10\n",
            "1/1 [==============================] - 0s 68ms/step - loss: 0.3155 - mse: 0.3155\n",
            "Epoch 5/10\n",
            "1/1 [==============================] - 0s 66ms/step - loss: 0.3155 - mse: 0.3155\n",
            "Epoch 6/10\n",
            "1/1 [==============================] - 0s 67ms/step - loss: 0.3156 - mse: 0.3156\n",
            "Epoch 7/10\n",
            "1/1 [==============================] - 0s 64ms/step - loss: 0.3155 - mse: 0.3155\n",
            "Epoch 8/10\n",
            "1/1 [==============================] - 0s 63ms/step - loss: 0.3156 - mse: 0.3156\n",
            "Epoch 9/10\n",
            "1/1 [==============================] - 0s 66ms/step - loss: 0.3155 - mse: 0.3155\n",
            "Epoch 10/10\n",
            "1/1 [==============================] - 0s 71ms/step - loss: 0.3155 - mse: 0.3155\n"
          ],
          "name": "stdout"
        },
        {
          "output_type": "stream",
          "text": [
            "\r 62%|██████▏   | 329/529 [05:21<03:04,  1.09it/s]"
          ],
          "name": "stderr"
        },
        {
          "output_type": "stream",
          "text": [
            "Epoch 1/10\n",
            "1/1 [==============================] - 0s 76ms/step - loss: 0.3129 - mse: 0.3129\n",
            "Epoch 2/10\n",
            "1/1 [==============================] - 0s 64ms/step - loss: 0.3129 - mse: 0.3129\n",
            "Epoch 3/10\n",
            "1/1 [==============================] - 0s 69ms/step - loss: 0.3129 - mse: 0.3129\n",
            "Epoch 4/10\n",
            "1/1 [==============================] - 0s 71ms/step - loss: 0.3129 - mse: 0.3129\n",
            "Epoch 5/10\n",
            "1/1 [==============================] - 0s 64ms/step - loss: 0.3129 - mse: 0.3129\n",
            "Epoch 6/10\n",
            "1/1 [==============================] - 0s 66ms/step - loss: 0.3129 - mse: 0.3129\n",
            "Epoch 7/10\n",
            "1/1 [==============================] - 0s 71ms/step - loss: 0.3129 - mse: 0.3129\n",
            "Epoch 8/10\n",
            "1/1 [==============================] - 0s 66ms/step - loss: 0.3129 - mse: 0.3129\n",
            "Epoch 9/10\n",
            "1/1 [==============================] - 0s 72ms/step - loss: 0.3129 - mse: 0.3129\n",
            "Epoch 10/10\n",
            "1/1 [==============================] - 0s 69ms/step - loss: 0.3129 - mse: 0.3129\n"
          ],
          "name": "stdout"
        },
        {
          "output_type": "stream",
          "text": [
            "\r 62%|██████▏   | 330/529 [05:22<03:04,  1.08it/s]"
          ],
          "name": "stderr"
        },
        {
          "output_type": "stream",
          "text": [
            "Epoch 1/10\n",
            "1/1 [==============================] - 0s 69ms/step - loss: 0.3114 - mse: 0.3114\n",
            "Epoch 2/10\n",
            "1/1 [==============================] - 0s 63ms/step - loss: 0.3114 - mse: 0.3114\n",
            "Epoch 3/10\n",
            "1/1 [==============================] - 0s 68ms/step - loss: 0.3114 - mse: 0.3114\n",
            "Epoch 4/10\n",
            "1/1 [==============================] - 0s 76ms/step - loss: 0.3114 - mse: 0.3114\n",
            "Epoch 5/10\n",
            "1/1 [==============================] - 0s 68ms/step - loss: 0.3114 - mse: 0.3114\n",
            "Epoch 6/10\n",
            "1/1 [==============================] - 0s 65ms/step - loss: 0.3114 - mse: 0.3114\n",
            "Epoch 7/10\n",
            "1/1 [==============================] - 0s 66ms/step - loss: 0.3114 - mse: 0.3114\n",
            "Epoch 8/10\n",
            "1/1 [==============================] - 0s 66ms/step - loss: 0.3114 - mse: 0.3114\n",
            "Epoch 9/10\n",
            "1/1 [==============================] - 0s 65ms/step - loss: 0.3114 - mse: 0.3114\n",
            "Epoch 10/10\n",
            "1/1 [==============================] - 0s 65ms/step - loss: 0.3114 - mse: 0.3114\n"
          ],
          "name": "stdout"
        },
        {
          "output_type": "stream",
          "text": [
            "\r 63%|██████▎   | 331/529 [05:23<03:03,  1.08it/s]"
          ],
          "name": "stderr"
        },
        {
          "output_type": "stream",
          "text": [
            "Epoch 1/10\n",
            "1/1 [==============================] - 0s 68ms/step - loss: 0.3076 - mse: 0.3076\n",
            "Epoch 2/10\n",
            "1/1 [==============================] - 0s 62ms/step - loss: 0.3076 - mse: 0.3076\n",
            "Epoch 3/10\n",
            "1/1 [==============================] - 0s 65ms/step - loss: 0.3076 - mse: 0.3076\n",
            "Epoch 4/10\n",
            "1/1 [==============================] - 0s 65ms/step - loss: 0.3076 - mse: 0.3076\n",
            "Epoch 5/10\n",
            "1/1 [==============================] - 0s 71ms/step - loss: 0.3076 - mse: 0.3076\n",
            "Epoch 6/10\n",
            "1/1 [==============================] - 0s 65ms/step - loss: 0.3076 - mse: 0.3076\n",
            "Epoch 7/10\n",
            "1/1 [==============================] - 0s 71ms/step - loss: 0.3075 - mse: 0.3075\n",
            "Epoch 8/10\n",
            "1/1 [==============================] - 0s 72ms/step - loss: 0.3076 - mse: 0.3076\n",
            "Epoch 9/10\n",
            "1/1 [==============================] - 0s 74ms/step - loss: 0.3075 - mse: 0.3075\n",
            "Epoch 10/10\n",
            "1/1 [==============================] - 0s 73ms/step - loss: 0.3075 - mse: 0.3075\n"
          ],
          "name": "stdout"
        },
        {
          "output_type": "stream",
          "text": [
            "\r 63%|██████▎   | 332/529 [05:24<03:05,  1.06it/s]"
          ],
          "name": "stderr"
        },
        {
          "output_type": "stream",
          "text": [
            "Epoch 1/10\n",
            "1/1 [==============================] - 0s 65ms/step - loss: 0.3103 - mse: 0.3103\n",
            "Epoch 2/10\n",
            "1/1 [==============================] - 0s 69ms/step - loss: 0.3103 - mse: 0.3103\n",
            "Epoch 3/10\n",
            "1/1 [==============================] - 0s 68ms/step - loss: 0.3103 - mse: 0.3103\n",
            "Epoch 4/10\n",
            "1/1 [==============================] - 0s 68ms/step - loss: 0.3103 - mse: 0.3103\n",
            "Epoch 5/10\n",
            "1/1 [==============================] - 0s 67ms/step - loss: 0.3103 - mse: 0.3103\n",
            "Epoch 6/10\n",
            "1/1 [==============================] - 0s 72ms/step - loss: 0.3103 - mse: 0.3103\n",
            "Epoch 7/10\n",
            "1/1 [==============================] - 0s 70ms/step - loss: 0.3103 - mse: 0.3103\n",
            "Epoch 8/10\n",
            "1/1 [==============================] - 0s 70ms/step - loss: 0.3103 - mse: 0.3103\n",
            "Epoch 9/10\n",
            "1/1 [==============================] - 0s 67ms/step - loss: 0.3103 - mse: 0.3103\n",
            "Epoch 10/10\n",
            "1/1 [==============================] - 0s 65ms/step - loss: 0.3103 - mse: 0.3103\n"
          ],
          "name": "stdout"
        },
        {
          "output_type": "stream",
          "text": [
            "\r 63%|██████▎   | 333/529 [05:25<03:04,  1.06it/s]"
          ],
          "name": "stderr"
        },
        {
          "output_type": "stream",
          "text": [
            "Epoch 1/10\n",
            "1/1 [==============================] - 0s 66ms/step - loss: 0.3073 - mse: 0.3073\n",
            "Epoch 2/10\n",
            "1/1 [==============================] - 0s 64ms/step - loss: 0.3073 - mse: 0.3073\n",
            "Epoch 3/10\n",
            "1/1 [==============================] - 0s 62ms/step - loss: 0.3073 - mse: 0.3073\n",
            "Epoch 4/10\n",
            "1/1 [==============================] - 0s 71ms/step - loss: 0.3073 - mse: 0.3073\n",
            "Epoch 5/10\n",
            "1/1 [==============================] - 0s 75ms/step - loss: 0.3073 - mse: 0.3073\n",
            "Epoch 6/10\n",
            "1/1 [==============================] - 0s 66ms/step - loss: 0.3073 - mse: 0.3073\n",
            "Epoch 7/10\n",
            "1/1 [==============================] - 0s 74ms/step - loss: 0.3073 - mse: 0.3073\n",
            "Epoch 8/10\n",
            "1/1 [==============================] - 0s 71ms/step - loss: 0.3073 - mse: 0.3073\n",
            "Epoch 9/10\n",
            "1/1 [==============================] - 0s 68ms/step - loss: 0.3073 - mse: 0.3073\n",
            "Epoch 10/10\n",
            "1/1 [==============================] - 0s 69ms/step - loss: 0.3073 - mse: 0.3073\n"
          ],
          "name": "stdout"
        },
        {
          "output_type": "stream",
          "text": [
            "\r 63%|██████▎   | 334/529 [05:26<03:05,  1.05it/s]"
          ],
          "name": "stderr"
        },
        {
          "output_type": "stream",
          "text": [
            "Epoch 1/10\n",
            "1/1 [==============================] - 0s 67ms/step - loss: 0.3086 - mse: 0.3086\n",
            "Epoch 2/10\n",
            "1/1 [==============================] - 0s 62ms/step - loss: 0.3086 - mse: 0.3086\n",
            "Epoch 3/10\n",
            "1/1 [==============================] - 0s 62ms/step - loss: 0.3086 - mse: 0.3086\n",
            "Epoch 4/10\n",
            "1/1 [==============================] - 0s 65ms/step - loss: 0.3086 - mse: 0.3086\n",
            "Epoch 5/10\n",
            "1/1 [==============================] - 0s 74ms/step - loss: 0.3086 - mse: 0.3086\n",
            "Epoch 6/10\n",
            "1/1 [==============================] - 0s 67ms/step - loss: 0.3086 - mse: 0.3086\n",
            "Epoch 7/10\n",
            "1/1 [==============================] - 0s 69ms/step - loss: 0.3086 - mse: 0.3086\n",
            "Epoch 8/10\n",
            "1/1 [==============================] - 0s 66ms/step - loss: 0.3086 - mse: 0.3086\n",
            "Epoch 9/10\n",
            "1/1 [==============================] - 0s 68ms/step - loss: 0.3086 - mse: 0.3086\n",
            "Epoch 10/10\n",
            "1/1 [==============================] - 0s 71ms/step - loss: 0.3086 - mse: 0.3086\n"
          ],
          "name": "stdout"
        },
        {
          "output_type": "stream",
          "text": [
            "\r 63%|██████▎   | 335/529 [05:27<03:04,  1.05it/s]"
          ],
          "name": "stderr"
        },
        {
          "output_type": "stream",
          "text": [
            "Epoch 1/10\n",
            "1/1 [==============================] - 0s 66ms/step - loss: 0.3070 - mse: 0.3070\n",
            "Epoch 2/10\n",
            "1/1 [==============================] - 0s 69ms/step - loss: 0.3070 - mse: 0.3070\n",
            "Epoch 3/10\n",
            "1/1 [==============================] - 0s 69ms/step - loss: 0.3070 - mse: 0.3070\n",
            "Epoch 4/10\n",
            "1/1 [==============================] - 0s 69ms/step - loss: 0.3070 - mse: 0.3070\n",
            "Epoch 5/10\n",
            "1/1 [==============================] - 0s 65ms/step - loss: 0.3070 - mse: 0.3070\n",
            "Epoch 6/10\n",
            "1/1 [==============================] - 0s 70ms/step - loss: 0.3070 - mse: 0.3070\n",
            "Epoch 7/10\n",
            "1/1 [==============================] - 0s 66ms/step - loss: 0.3070 - mse: 0.3070\n",
            "Epoch 8/10\n",
            "1/1 [==============================] - 0s 63ms/step - loss: 0.3070 - mse: 0.3070\n",
            "Epoch 9/10\n",
            "1/1 [==============================] - 0s 73ms/step - loss: 0.3070 - mse: 0.3070\n",
            "Epoch 10/10\n",
            "1/1 [==============================] - 0s 70ms/step - loss: 0.3070 - mse: 0.3070\n"
          ],
          "name": "stdout"
        },
        {
          "output_type": "stream",
          "text": [
            "\r 64%|██████▎   | 336/529 [05:28<03:02,  1.06it/s]"
          ],
          "name": "stderr"
        },
        {
          "output_type": "stream",
          "text": [
            "Epoch 1/10\n",
            "1/1 [==============================] - 0s 67ms/step - loss: 0.3088 - mse: 0.3088\n",
            "Epoch 2/10\n",
            "1/1 [==============================] - 0s 66ms/step - loss: 0.3088 - mse: 0.3088\n",
            "Epoch 3/10\n",
            "1/1 [==============================] - 0s 64ms/step - loss: 0.3088 - mse: 0.3088\n",
            "Epoch 4/10\n",
            "1/1 [==============================] - 0s 64ms/step - loss: 0.3088 - mse: 0.3088\n",
            "Epoch 5/10\n",
            "1/1 [==============================] - 0s 63ms/step - loss: 0.3088 - mse: 0.3088\n",
            "Epoch 6/10\n",
            "1/1 [==============================] - 0s 67ms/step - loss: 0.3088 - mse: 0.3088\n",
            "Epoch 7/10\n",
            "1/1 [==============================] - 0s 72ms/step - loss: 0.3088 - mse: 0.3088\n",
            "Epoch 8/10\n",
            "1/1 [==============================] - 0s 67ms/step - loss: 0.3088 - mse: 0.3088\n",
            "Epoch 9/10\n",
            "1/1 [==============================] - 0s 63ms/step - loss: 0.3088 - mse: 0.3088\n",
            "Epoch 10/10\n",
            "1/1 [==============================] - 0s 78ms/step - loss: 0.3088 - mse: 0.3088\n"
          ],
          "name": "stdout"
        },
        {
          "output_type": "stream",
          "text": [
            "\r 64%|██████▎   | 337/529 [05:29<03:01,  1.06it/s]"
          ],
          "name": "stderr"
        },
        {
          "output_type": "stream",
          "text": [
            "Epoch 1/10\n",
            "1/1 [==============================] - 0s 68ms/step - loss: 0.3153 - mse: 0.3153\n",
            "Epoch 2/10\n",
            "1/1 [==============================] - 0s 66ms/step - loss: 0.3152 - mse: 0.3152\n",
            "Epoch 3/10\n",
            "1/1 [==============================] - 0s 70ms/step - loss: 0.3153 - mse: 0.3153\n",
            "Epoch 4/10\n",
            "1/1 [==============================] - 0s 64ms/step - loss: 0.3152 - mse: 0.3152\n",
            "Epoch 5/10\n",
            "1/1 [==============================] - 0s 76ms/step - loss: 0.3152 - mse: 0.3152\n",
            "Epoch 6/10\n",
            "1/1 [==============================] - 0s 71ms/step - loss: 0.3152 - mse: 0.3152\n",
            "Epoch 7/10\n",
            "1/1 [==============================] - 0s 70ms/step - loss: 0.3152 - mse: 0.3152\n",
            "Epoch 8/10\n",
            "1/1 [==============================] - 0s 73ms/step - loss: 0.3152 - mse: 0.3152\n",
            "Epoch 9/10\n",
            "1/1 [==============================] - 0s 67ms/step - loss: 0.3152 - mse: 0.3152\n",
            "Epoch 10/10\n",
            "1/1 [==============================] - 0s 69ms/step - loss: 0.3152 - mse: 0.3152\n"
          ],
          "name": "stdout"
        },
        {
          "output_type": "stream",
          "text": [
            "\r 64%|██████▍   | 338/529 [05:30<03:01,  1.05it/s]"
          ],
          "name": "stderr"
        },
        {
          "output_type": "stream",
          "text": [
            "Epoch 1/10\n",
            "1/1 [==============================] - 0s 67ms/step - loss: 0.3033 - mse: 0.3033\n",
            "Epoch 2/10\n",
            "1/1 [==============================] - 0s 69ms/step - loss: 0.3031 - mse: 0.3031\n",
            "Epoch 3/10\n",
            "1/1 [==============================] - 0s 64ms/step - loss: 0.3032 - mse: 0.3032\n",
            "Epoch 4/10\n",
            "1/1 [==============================] - 0s 73ms/step - loss: 0.3031 - mse: 0.3031\n",
            "Epoch 5/10\n",
            "1/1 [==============================] - 0s 72ms/step - loss: 0.3032 - mse: 0.3032\n",
            "Epoch 6/10\n",
            "1/1 [==============================] - 0s 76ms/step - loss: 0.3032 - mse: 0.3032\n",
            "Epoch 7/10\n",
            "1/1 [==============================] - 0s 69ms/step - loss: 0.3031 - mse: 0.3031\n",
            "Epoch 8/10\n",
            "1/1 [==============================] - 0s 70ms/step - loss: 0.3032 - mse: 0.3032\n",
            "Epoch 9/10\n",
            "1/1 [==============================] - 0s 69ms/step - loss: 0.3031 - mse: 0.3031\n",
            "Epoch 10/10\n",
            "1/1 [==============================] - 0s 72ms/step - loss: 0.3031 - mse: 0.3031\n"
          ],
          "name": "stdout"
        },
        {
          "output_type": "stream",
          "text": [
            "\r 64%|██████▍   | 339/529 [05:31<03:02,  1.04it/s]"
          ],
          "name": "stderr"
        },
        {
          "output_type": "stream",
          "text": [
            "Epoch 1/10\n",
            "1/1 [==============================] - 0s 61ms/step - loss: 0.3084 - mse: 0.3084\n",
            "Epoch 2/10\n",
            "1/1 [==============================] - 0s 73ms/step - loss: 0.3084 - mse: 0.3084\n",
            "Epoch 3/10\n",
            "1/1 [==============================] - 0s 64ms/step - loss: 0.3084 - mse: 0.3084\n",
            "Epoch 4/10\n",
            "1/1 [==============================] - 0s 74ms/step - loss: 0.3084 - mse: 0.3084\n",
            "Epoch 5/10\n",
            "1/1 [==============================] - 0s 68ms/step - loss: 0.3084 - mse: 0.3084\n",
            "Epoch 6/10\n",
            "1/1 [==============================] - 0s 68ms/step - loss: 0.3084 - mse: 0.3084\n",
            "Epoch 7/10\n",
            "1/1 [==============================] - 0s 82ms/step - loss: 0.3084 - mse: 0.3084\n",
            "Epoch 8/10\n",
            "1/1 [==============================] - 0s 67ms/step - loss: 0.3084 - mse: 0.3084\n",
            "Epoch 9/10\n",
            "1/1 [==============================] - 0s 71ms/step - loss: 0.3084 - mse: 0.3084\n",
            "Epoch 10/10\n",
            "1/1 [==============================] - 0s 70ms/step - loss: 0.3084 - mse: 0.3084\n"
          ],
          "name": "stdout"
        },
        {
          "output_type": "stream",
          "text": [
            "\r 64%|██████▍   | 340/529 [05:32<03:03,  1.03it/s]"
          ],
          "name": "stderr"
        },
        {
          "output_type": "stream",
          "text": [
            "Epoch 1/10\n",
            "1/1 [==============================] - 0s 60ms/step - loss: 0.3094 - mse: 0.3094\n",
            "Epoch 2/10\n",
            "1/1 [==============================] - 0s 65ms/step - loss: 0.3094 - mse: 0.3094\n",
            "Epoch 3/10\n",
            "1/1 [==============================] - 0s 73ms/step - loss: 0.3094 - mse: 0.3094\n",
            "Epoch 4/10\n",
            "1/1 [==============================] - 0s 77ms/step - loss: 0.3094 - mse: 0.3094\n",
            "Epoch 5/10\n",
            "1/1 [==============================] - 0s 70ms/step - loss: 0.3094 - mse: 0.3094\n",
            "Epoch 6/10\n",
            "1/1 [==============================] - 0s 72ms/step - loss: 0.3094 - mse: 0.3094\n",
            "Epoch 7/10\n",
            "1/1 [==============================] - 0s 73ms/step - loss: 0.3094 - mse: 0.3094\n",
            "Epoch 8/10\n",
            "1/1 [==============================] - 0s 78ms/step - loss: 0.3094 - mse: 0.3094\n",
            "Epoch 9/10\n",
            "1/1 [==============================] - 0s 77ms/step - loss: 0.3094 - mse: 0.3094\n",
            "Epoch 10/10\n",
            "1/1 [==============================] - 0s 71ms/step - loss: 0.3094 - mse: 0.3094\n"
          ],
          "name": "stdout"
        },
        {
          "output_type": "stream",
          "text": [
            "\r 64%|██████▍   | 341/529 [05:33<03:02,  1.03it/s]"
          ],
          "name": "stderr"
        },
        {
          "output_type": "stream",
          "text": [
            "Epoch 1/10\n",
            "1/1 [==============================] - 0s 61ms/step - loss: 0.3075 - mse: 0.3075\n",
            "Epoch 2/10\n",
            "1/1 [==============================] - 0s 64ms/step - loss: 0.3075 - mse: 0.3075\n",
            "Epoch 3/10\n",
            "1/1 [==============================] - 0s 74ms/step - loss: 0.3075 - mse: 0.3075\n",
            "Epoch 4/10\n",
            "1/1 [==============================] - 0s 69ms/step - loss: 0.3075 - mse: 0.3075\n",
            "Epoch 5/10\n",
            "1/1 [==============================] - 0s 70ms/step - loss: 0.3075 - mse: 0.3075\n",
            "Epoch 6/10\n",
            "1/1 [==============================] - 0s 72ms/step - loss: 0.3075 - mse: 0.3075\n",
            "Epoch 7/10\n",
            "1/1 [==============================] - 0s 68ms/step - loss: 0.3075 - mse: 0.3075\n",
            "Epoch 8/10\n",
            "1/1 [==============================] - 0s 71ms/step - loss: 0.3075 - mse: 0.3075\n",
            "Epoch 9/10\n",
            "1/1 [==============================] - 0s 71ms/step - loss: 0.3075 - mse: 0.3075\n",
            "Epoch 10/10\n",
            "1/1 [==============================] - 0s 67ms/step - loss: 0.3075 - mse: 0.3075\n"
          ],
          "name": "stdout"
        },
        {
          "output_type": "stream",
          "text": [
            "\r 65%|██████▍   | 342/529 [05:34<03:01,  1.03it/s]"
          ],
          "name": "stderr"
        },
        {
          "output_type": "stream",
          "text": [
            "Epoch 1/10\n",
            "1/1 [==============================] - 0s 59ms/step - loss: 0.3074 - mse: 0.3074\n",
            "Epoch 2/10\n",
            "1/1 [==============================] - 0s 66ms/step - loss: 0.3074 - mse: 0.3074\n",
            "Epoch 3/10\n",
            "1/1 [==============================] - 0s 65ms/step - loss: 0.3074 - mse: 0.3074\n",
            "Epoch 4/10\n",
            "1/1 [==============================] - 0s 80ms/step - loss: 0.3074 - mse: 0.3074\n",
            "Epoch 5/10\n",
            "1/1 [==============================] - 0s 69ms/step - loss: 0.3074 - mse: 0.3074\n",
            "Epoch 6/10\n",
            "1/1 [==============================] - 0s 76ms/step - loss: 0.3074 - mse: 0.3074\n",
            "Epoch 7/10\n",
            "1/1 [==============================] - 0s 66ms/step - loss: 0.3074 - mse: 0.3074\n",
            "Epoch 8/10\n",
            "1/1 [==============================] - 0s 69ms/step - loss: 0.3074 - mse: 0.3074\n",
            "Epoch 9/10\n",
            "1/1 [==============================] - 0s 70ms/step - loss: 0.3073 - mse: 0.3073\n",
            "Epoch 10/10\n",
            "1/1 [==============================] - 0s 72ms/step - loss: 0.3073 - mse: 0.3073\n"
          ],
          "name": "stdout"
        },
        {
          "output_type": "stream",
          "text": [
            "\r 65%|██████▍   | 343/529 [05:35<03:00,  1.03it/s]"
          ],
          "name": "stderr"
        },
        {
          "output_type": "stream",
          "text": [
            "Epoch 1/10\n",
            "1/1 [==============================] - 0s 66ms/step - loss: 0.3053 - mse: 0.3053\n",
            "Epoch 2/10\n",
            "1/1 [==============================] - 0s 70ms/step - loss: 0.3053 - mse: 0.3053\n",
            "Epoch 3/10\n",
            "1/1 [==============================] - 0s 79ms/step - loss: 0.3053 - mse: 0.3053\n",
            "Epoch 4/10\n",
            "1/1 [==============================] - 0s 74ms/step - loss: 0.3053 - mse: 0.3053\n",
            "Epoch 5/10\n",
            "1/1 [==============================] - 0s 72ms/step - loss: 0.3053 - mse: 0.3053\n",
            "Epoch 6/10\n",
            "1/1 [==============================] - 0s 75ms/step - loss: 0.3053 - mse: 0.3053\n",
            "Epoch 7/10\n",
            "1/1 [==============================] - 0s 74ms/step - loss: 0.3053 - mse: 0.3053\n",
            "Epoch 8/10\n",
            "1/1 [==============================] - 0s 69ms/step - loss: 0.3053 - mse: 0.3053\n",
            "Epoch 9/10\n",
            "1/1 [==============================] - 0s 71ms/step - loss: 0.3053 - mse: 0.3053\n",
            "Epoch 10/10\n",
            "1/1 [==============================] - 0s 69ms/step - loss: 0.3053 - mse: 0.3053\n"
          ],
          "name": "stdout"
        },
        {
          "output_type": "stream",
          "text": [
            "\r 65%|██████▌   | 344/529 [05:36<03:01,  1.02it/s]"
          ],
          "name": "stderr"
        },
        {
          "output_type": "stream",
          "text": [
            "Epoch 1/10\n",
            "1/1 [==============================] - 0s 71ms/step - loss: 0.3067 - mse: 0.3067\n",
            "Epoch 2/10\n",
            "1/1 [==============================] - 0s 64ms/step - loss: 0.3067 - mse: 0.3067\n",
            "Epoch 3/10\n",
            "1/1 [==============================] - 0s 74ms/step - loss: 0.3067 - mse: 0.3067\n",
            "Epoch 4/10\n",
            "1/1 [==============================] - 0s 66ms/step - loss: 0.3067 - mse: 0.3067\n",
            "Epoch 5/10\n",
            "1/1 [==============================] - 0s 69ms/step - loss: 0.3067 - mse: 0.3067\n",
            "Epoch 6/10\n",
            "1/1 [==============================] - 0s 70ms/step - loss: 0.3067 - mse: 0.3067\n",
            "Epoch 7/10\n",
            "1/1 [==============================] - 0s 75ms/step - loss: 0.3067 - mse: 0.3067\n",
            "Epoch 8/10\n",
            "1/1 [==============================] - 0s 74ms/step - loss: 0.3067 - mse: 0.3067\n",
            "Epoch 9/10\n",
            "1/1 [==============================] - 0s 72ms/step - loss: 0.3067 - mse: 0.3067\n",
            "Epoch 10/10\n",
            "1/1 [==============================] - 0s 76ms/step - loss: 0.3067 - mse: 0.3067\n"
          ],
          "name": "stdout"
        },
        {
          "output_type": "stream",
          "text": [
            "\r 65%|██████▌   | 345/529 [05:37<03:00,  1.02it/s]"
          ],
          "name": "stderr"
        },
        {
          "output_type": "stream",
          "text": [
            "Epoch 1/10\n",
            "1/1 [==============================] - 0s 65ms/step - loss: 0.3057 - mse: 0.3057\n",
            "Epoch 2/10\n",
            "1/1 [==============================] - 0s 68ms/step - loss: 0.3057 - mse: 0.3057\n",
            "Epoch 3/10\n",
            "1/1 [==============================] - 0s 67ms/step - loss: 0.3056 - mse: 0.3056\n",
            "Epoch 4/10\n",
            "1/1 [==============================] - 0s 69ms/step - loss: 0.3056 - mse: 0.3056\n",
            "Epoch 5/10\n",
            "1/1 [==============================] - 0s 70ms/step - loss: 0.3057 - mse: 0.3057\n",
            "Epoch 6/10\n",
            "1/1 [==============================] - 0s 71ms/step - loss: 0.3057 - mse: 0.3057\n",
            "Epoch 7/10\n",
            "1/1 [==============================] - 0s 74ms/step - loss: 0.3057 - mse: 0.3057\n",
            "Epoch 8/10\n",
            "1/1 [==============================] - 0s 74ms/step - loss: 0.3057 - mse: 0.3057\n",
            "Epoch 9/10\n",
            "1/1 [==============================] - 0s 70ms/step - loss: 0.3056 - mse: 0.3056\n",
            "Epoch 10/10\n",
            "1/1 [==============================] - 0s 69ms/step - loss: 0.3056 - mse: 0.3056\n"
          ],
          "name": "stdout"
        },
        {
          "output_type": "stream",
          "text": [
            "\r 65%|██████▌   | 346/529 [05:38<02:59,  1.02it/s]"
          ],
          "name": "stderr"
        },
        {
          "output_type": "stream",
          "text": [
            "Epoch 1/10\n",
            "1/1 [==============================] - 0s 70ms/step - loss: 0.3135 - mse: 0.3135\n",
            "Epoch 2/10\n",
            "1/1 [==============================] - 0s 70ms/step - loss: 0.3134 - mse: 0.3134\n",
            "Epoch 3/10\n",
            "1/1 [==============================] - 0s 71ms/step - loss: 0.3134 - mse: 0.3134\n",
            "Epoch 4/10\n",
            "1/1 [==============================] - 0s 76ms/step - loss: 0.3134 - mse: 0.3134\n",
            "Epoch 5/10\n",
            "1/1 [==============================] - 0s 69ms/step - loss: 0.3134 - mse: 0.3134\n",
            "Epoch 6/10\n",
            "1/1 [==============================] - 0s 71ms/step - loss: 0.3134 - mse: 0.3134\n",
            "Epoch 7/10\n",
            "1/1 [==============================] - 0s 81ms/step - loss: 0.3134 - mse: 0.3134\n",
            "Epoch 8/10\n",
            "1/1 [==============================] - 0s 73ms/step - loss: 0.3134 - mse: 0.3134\n",
            "Epoch 9/10\n",
            "1/1 [==============================] - 0s 72ms/step - loss: 0.3134 - mse: 0.3134\n",
            "Epoch 10/10\n",
            "1/1 [==============================] - 0s 68ms/step - loss: 0.3134 - mse: 0.3134\n"
          ],
          "name": "stdout"
        },
        {
          "output_type": "stream",
          "text": [
            "\r 66%|██████▌   | 347/529 [05:39<02:58,  1.02it/s]"
          ],
          "name": "stderr"
        },
        {
          "output_type": "stream",
          "text": [
            "Epoch 1/10\n",
            "1/1 [==============================] - 0s 61ms/step - loss: 0.3132 - mse: 0.3132\n",
            "Epoch 2/10\n",
            "1/1 [==============================] - 0s 67ms/step - loss: 0.3132 - mse: 0.3132\n",
            "Epoch 3/10\n",
            "1/1 [==============================] - 0s 66ms/step - loss: 0.3132 - mse: 0.3132\n",
            "Epoch 4/10\n",
            "1/1 [==============================] - 0s 68ms/step - loss: 0.3132 - mse: 0.3132\n",
            "Epoch 5/10\n",
            "1/1 [==============================] - 0s 72ms/step - loss: 0.3132 - mse: 0.3132\n",
            "Epoch 6/10\n",
            "1/1 [==============================] - 0s 75ms/step - loss: 0.3132 - mse: 0.3132\n",
            "Epoch 7/10\n",
            "1/1 [==============================] - 0s 78ms/step - loss: 0.3132 - mse: 0.3132\n",
            "Epoch 8/10\n",
            "1/1 [==============================] - 0s 78ms/step - loss: 0.3132 - mse: 0.3132\n",
            "Epoch 9/10\n",
            "1/1 [==============================] - 0s 69ms/step - loss: 0.3132 - mse: 0.3132\n",
            "Epoch 10/10\n",
            "1/1 [==============================] - 0s 77ms/step - loss: 0.3132 - mse: 0.3132\n"
          ],
          "name": "stdout"
        },
        {
          "output_type": "stream",
          "text": [
            "\r 66%|██████▌   | 348/529 [05:40<02:57,  1.02it/s]"
          ],
          "name": "stderr"
        },
        {
          "output_type": "stream",
          "text": [
            "Epoch 1/10\n",
            "1/1 [==============================] - 0s 63ms/step - loss: 0.3082 - mse: 0.3082\n",
            "Epoch 2/10\n",
            "1/1 [==============================] - 0s 72ms/step - loss: 0.3081 - mse: 0.3081\n",
            "Epoch 3/10\n",
            "1/1 [==============================] - 0s 65ms/step - loss: 0.3081 - mse: 0.3081\n",
            "Epoch 4/10\n",
            "1/1 [==============================] - 0s 73ms/step - loss: 0.3081 - mse: 0.3081\n",
            "Epoch 5/10\n",
            "1/1 [==============================] - 0s 67ms/step - loss: 0.3081 - mse: 0.3081\n",
            "Epoch 6/10\n",
            "1/1 [==============================] - 0s 64ms/step - loss: 0.3081 - mse: 0.3081\n",
            "Epoch 7/10\n",
            "1/1 [==============================] - 0s 68ms/step - loss: 0.3081 - mse: 0.3081\n",
            "Epoch 8/10\n",
            "1/1 [==============================] - 0s 71ms/step - loss: 0.3081 - mse: 0.3081\n",
            "Epoch 9/10\n",
            "1/1 [==============================] - 0s 64ms/step - loss: 0.3081 - mse: 0.3081\n",
            "Epoch 10/10\n",
            "1/1 [==============================] - 0s 73ms/step - loss: 0.3081 - mse: 0.3081\n"
          ],
          "name": "stdout"
        },
        {
          "output_type": "stream",
          "text": [
            "\r 66%|██████▌   | 349/529 [05:41<02:53,  1.04it/s]"
          ],
          "name": "stderr"
        },
        {
          "output_type": "stream",
          "text": [
            "Epoch 1/10\n",
            "1/1 [==============================] - 0s 67ms/step - loss: 0.3081 - mse: 0.3081\n",
            "Epoch 2/10\n",
            "1/1 [==============================] - 0s 65ms/step - loss: 0.3081 - mse: 0.3081\n",
            "Epoch 3/10\n",
            "1/1 [==============================] - 0s 80ms/step - loss: 0.3081 - mse: 0.3081\n",
            "Epoch 4/10\n",
            "1/1 [==============================] - 0s 83ms/step - loss: 0.3081 - mse: 0.3081\n",
            "Epoch 5/10\n",
            "1/1 [==============================] - 0s 82ms/step - loss: 0.3081 - mse: 0.3081\n",
            "Epoch 6/10\n",
            "1/1 [==============================] - 0s 70ms/step - loss: 0.3081 - mse: 0.3081\n",
            "Epoch 7/10\n",
            "1/1 [==============================] - 0s 75ms/step - loss: 0.3081 - mse: 0.3081\n",
            "Epoch 8/10\n",
            "1/1 [==============================] - 0s 67ms/step - loss: 0.3081 - mse: 0.3081\n",
            "Epoch 9/10\n",
            "1/1 [==============================] - 0s 65ms/step - loss: 0.3081 - mse: 0.3081\n",
            "Epoch 10/10\n",
            "1/1 [==============================] - 0s 67ms/step - loss: 0.3081 - mse: 0.3081\n"
          ],
          "name": "stdout"
        },
        {
          "output_type": "stream",
          "text": [
            "\r 66%|██████▌   | 350/529 [05:41<02:52,  1.04it/s]"
          ],
          "name": "stderr"
        },
        {
          "output_type": "stream",
          "text": [
            "Epoch 1/10\n",
            "1/1 [==============================] - 0s 68ms/step - loss: 0.3046 - mse: 0.3046\n",
            "Epoch 2/10\n",
            "1/1 [==============================] - 0s 62ms/step - loss: 0.3046 - mse: 0.3046\n",
            "Epoch 3/10\n",
            "1/1 [==============================] - 0s 64ms/step - loss: 0.3046 - mse: 0.3046\n",
            "Epoch 4/10\n",
            "1/1 [==============================] - 0s 83ms/step - loss: 0.3046 - mse: 0.3046\n",
            "Epoch 5/10\n",
            "1/1 [==============================] - 0s 69ms/step - loss: 0.3046 - mse: 0.3046\n",
            "Epoch 6/10\n",
            "1/1 [==============================] - 0s 67ms/step - loss: 0.3046 - mse: 0.3046\n",
            "Epoch 7/10\n",
            "1/1 [==============================] - 0s 71ms/step - loss: 0.3046 - mse: 0.3046\n",
            "Epoch 8/10\n",
            "1/1 [==============================] - 0s 65ms/step - loss: 0.3046 - mse: 0.3046\n",
            "Epoch 9/10\n",
            "1/1 [==============================] - 0s 68ms/step - loss: 0.3046 - mse: 0.3046\n",
            "Epoch 10/10\n",
            "1/1 [==============================] - 0s 76ms/step - loss: 0.3046 - mse: 0.3046\n"
          ],
          "name": "stdout"
        },
        {
          "output_type": "stream",
          "text": [
            "\r 66%|██████▋   | 351/529 [05:42<02:51,  1.04it/s]"
          ],
          "name": "stderr"
        },
        {
          "output_type": "stream",
          "text": [
            "Epoch 1/10\n",
            "1/1 [==============================] - 0s 60ms/step - loss: 0.3108 - mse: 0.3108\n",
            "Epoch 2/10\n",
            "1/1 [==============================] - 0s 62ms/step - loss: 0.3108 - mse: 0.3108\n",
            "Epoch 3/10\n",
            "1/1 [==============================] - 0s 71ms/step - loss: 0.3108 - mse: 0.3108\n",
            "Epoch 4/10\n",
            "1/1 [==============================] - 0s 70ms/step - loss: 0.3108 - mse: 0.3108\n",
            "Epoch 5/10\n",
            "1/1 [==============================] - 0s 72ms/step - loss: 0.3108 - mse: 0.3108\n",
            "Epoch 6/10\n",
            "1/1 [==============================] - 0s 73ms/step - loss: 0.3108 - mse: 0.3108\n",
            "Epoch 7/10\n",
            "1/1 [==============================] - 0s 68ms/step - loss: 0.3108 - mse: 0.3108\n",
            "Epoch 8/10\n",
            "1/1 [==============================] - 0s 68ms/step - loss: 0.3108 - mse: 0.3108\n",
            "Epoch 9/10\n",
            "1/1 [==============================] - 0s 74ms/step - loss: 0.3108 - mse: 0.3108\n",
            "Epoch 10/10\n",
            "1/1 [==============================] - 0s 71ms/step - loss: 0.3108 - mse: 0.3108\n"
          ],
          "name": "stdout"
        },
        {
          "output_type": "stream",
          "text": [
            "\r 67%|██████▋   | 352/529 [05:43<02:50,  1.04it/s]"
          ],
          "name": "stderr"
        },
        {
          "output_type": "stream",
          "text": [
            "Epoch 1/10\n",
            "1/1 [==============================] - 0s 66ms/step - loss: 0.3116 - mse: 0.3116\n",
            "Epoch 2/10\n",
            "1/1 [==============================] - 0s 61ms/step - loss: 0.3116 - mse: 0.3116\n",
            "Epoch 3/10\n",
            "1/1 [==============================] - 0s 66ms/step - loss: 0.3116 - mse: 0.3116\n",
            "Epoch 4/10\n",
            "1/1 [==============================] - 0s 69ms/step - loss: 0.3116 - mse: 0.3116\n",
            "Epoch 5/10\n",
            "1/1 [==============================] - 0s 79ms/step - loss: 0.3116 - mse: 0.3116\n",
            "Epoch 6/10\n",
            "1/1 [==============================] - 0s 72ms/step - loss: 0.3116 - mse: 0.3116\n",
            "Epoch 7/10\n",
            "1/1 [==============================] - 0s 74ms/step - loss: 0.3116 - mse: 0.3116\n",
            "Epoch 8/10\n",
            "1/1 [==============================] - 0s 75ms/step - loss: 0.3116 - mse: 0.3116\n",
            "Epoch 9/10\n",
            "1/1 [==============================] - 0s 78ms/step - loss: 0.3116 - mse: 0.3116\n",
            "Epoch 10/10\n",
            "1/1 [==============================] - 0s 75ms/step - loss: 0.3116 - mse: 0.3116\n"
          ],
          "name": "stdout"
        },
        {
          "output_type": "stream",
          "text": [
            "\r 67%|██████▋   | 353/529 [05:44<02:50,  1.03it/s]"
          ],
          "name": "stderr"
        },
        {
          "output_type": "stream",
          "text": [
            "Epoch 1/10\n",
            "1/1 [==============================] - 0s 65ms/step - loss: 0.3095 - mse: 0.3095\n",
            "Epoch 2/10\n",
            "1/1 [==============================] - 0s 60ms/step - loss: 0.3095 - mse: 0.3095\n",
            "Epoch 3/10\n",
            "1/1 [==============================] - 0s 65ms/step - loss: 0.3095 - mse: 0.3095\n",
            "Epoch 4/10\n",
            "1/1 [==============================] - 0s 69ms/step - loss: 0.3095 - mse: 0.3095\n",
            "Epoch 5/10\n",
            "1/1 [==============================] - 0s 70ms/step - loss: 0.3095 - mse: 0.3095\n",
            "Epoch 6/10\n",
            "1/1 [==============================] - 0s 69ms/step - loss: 0.3095 - mse: 0.3095\n",
            "Epoch 7/10\n",
            "1/1 [==============================] - 0s 69ms/step - loss: 0.3095 - mse: 0.3095\n",
            "Epoch 8/10\n",
            "1/1 [==============================] - 0s 71ms/step - loss: 0.3095 - mse: 0.3095\n",
            "Epoch 9/10\n",
            "1/1 [==============================] - 0s 71ms/step - loss: 0.3095 - mse: 0.3095\n",
            "Epoch 10/10\n",
            "1/1 [==============================] - 0s 68ms/step - loss: 0.3095 - mse: 0.3095\n"
          ],
          "name": "stdout"
        },
        {
          "output_type": "stream",
          "text": [
            "\r 67%|██████▋   | 354/529 [05:45<02:48,  1.04it/s]"
          ],
          "name": "stderr"
        },
        {
          "output_type": "stream",
          "text": [
            "Epoch 1/10\n",
            "1/1 [==============================] - 0s 72ms/step - loss: 0.3156 - mse: 0.3156\n",
            "Epoch 2/10\n",
            "1/1 [==============================] - 0s 68ms/step - loss: 0.3155 - mse: 0.3155\n",
            "Epoch 3/10\n",
            "1/1 [==============================] - 0s 66ms/step - loss: 0.3155 - mse: 0.3155\n",
            "Epoch 4/10\n",
            "1/1 [==============================] - 0s 64ms/step - loss: 0.3154 - mse: 0.3154\n",
            "Epoch 5/10\n",
            "1/1 [==============================] - 0s 63ms/step - loss: 0.3155 - mse: 0.3155\n",
            "Epoch 6/10\n",
            "1/1 [==============================] - 0s 68ms/step - loss: 0.3155 - mse: 0.3155\n",
            "Epoch 7/10\n",
            "1/1 [==============================] - 0s 72ms/step - loss: 0.3155 - mse: 0.3155\n",
            "Epoch 8/10\n",
            "1/1 [==============================] - 0s 67ms/step - loss: 0.3155 - mse: 0.3155\n",
            "Epoch 9/10\n",
            "1/1 [==============================] - 0s 72ms/step - loss: 0.3154 - mse: 0.3154\n",
            "Epoch 10/10\n",
            "1/1 [==============================] - 0s 77ms/step - loss: 0.3155 - mse: 0.3155\n"
          ],
          "name": "stdout"
        },
        {
          "output_type": "stream",
          "text": [
            "\r 67%|██████▋   | 355/529 [05:46<02:47,  1.04it/s]"
          ],
          "name": "stderr"
        },
        {
          "output_type": "stream",
          "text": [
            "Epoch 1/10\n",
            "1/1 [==============================] - 0s 65ms/step - loss: 0.3146 - mse: 0.3146\n",
            "Epoch 2/10\n",
            "1/1 [==============================] - 0s 64ms/step - loss: 0.3146 - mse: 0.3146\n",
            "Epoch 3/10\n",
            "1/1 [==============================] - 0s 68ms/step - loss: 0.3146 - mse: 0.3146\n",
            "Epoch 4/10\n",
            "1/1 [==============================] - 0s 71ms/step - loss: 0.3146 - mse: 0.3146\n",
            "Epoch 5/10\n",
            "1/1 [==============================] - 0s 80ms/step - loss: 0.3146 - mse: 0.3146\n",
            "Epoch 6/10\n",
            "1/1 [==============================] - 0s 72ms/step - loss: 0.3146 - mse: 0.3146\n",
            "Epoch 7/10\n",
            "1/1 [==============================] - 0s 80ms/step - loss: 0.3146 - mse: 0.3146\n",
            "Epoch 8/10\n",
            "1/1 [==============================] - 0s 71ms/step - loss: 0.3146 - mse: 0.3146\n",
            "Epoch 9/10\n",
            "1/1 [==============================] - 0s 76ms/step - loss: 0.3146 - mse: 0.3146\n",
            "Epoch 10/10\n",
            "1/1 [==============================] - 0s 75ms/step - loss: 0.3146 - mse: 0.3146\n"
          ],
          "name": "stdout"
        },
        {
          "output_type": "stream",
          "text": [
            "\r 67%|██████▋   | 356/529 [05:47<02:46,  1.04it/s]"
          ],
          "name": "stderr"
        },
        {
          "output_type": "stream",
          "text": [
            "Epoch 1/10\n",
            "1/1 [==============================] - 0s 65ms/step - loss: 0.3080 - mse: 0.3080\n",
            "Epoch 2/10\n",
            "1/1 [==============================] - 0s 76ms/step - loss: 0.3079 - mse: 0.3079\n",
            "Epoch 3/10\n",
            "1/1 [==============================] - 0s 71ms/step - loss: 0.3080 - mse: 0.3080\n",
            "Epoch 4/10\n",
            "1/1 [==============================] - 0s 75ms/step - loss: 0.3079 - mse: 0.3079\n",
            "Epoch 5/10\n",
            "1/1 [==============================] - 0s 76ms/step - loss: 0.3079 - mse: 0.3079\n",
            "Epoch 6/10\n",
            "1/1 [==============================] - 0s 67ms/step - loss: 0.3079 - mse: 0.3079\n",
            "Epoch 7/10\n",
            "1/1 [==============================] - 0s 83ms/step - loss: 0.3079 - mse: 0.3079\n",
            "Epoch 8/10\n",
            "1/1 [==============================] - 0s 71ms/step - loss: 0.3079 - mse: 0.3079\n",
            "Epoch 9/10\n",
            "1/1 [==============================] - 0s 72ms/step - loss: 0.3079 - mse: 0.3079\n",
            "Epoch 10/10\n",
            "1/1 [==============================] - 0s 72ms/step - loss: 0.3079 - mse: 0.3079\n"
          ],
          "name": "stdout"
        },
        {
          "output_type": "stream",
          "text": [
            "\r 67%|██████▋   | 357/529 [05:48<02:46,  1.03it/s]"
          ],
          "name": "stderr"
        },
        {
          "output_type": "stream",
          "text": [
            "Epoch 1/10\n",
            "1/1 [==============================] - 0s 73ms/step - loss: 0.3119 - mse: 0.3119\n",
            "Epoch 2/10\n",
            "1/1 [==============================] - 0s 63ms/step - loss: 0.3119 - mse: 0.3119\n",
            "Epoch 3/10\n",
            "1/1 [==============================] - 0s 64ms/step - loss: 0.3119 - mse: 0.3119\n",
            "Epoch 4/10\n",
            "1/1 [==============================] - 0s 71ms/step - loss: 0.3119 - mse: 0.3119\n",
            "Epoch 5/10\n",
            "1/1 [==============================] - 0s 65ms/step - loss: 0.3119 - mse: 0.3119\n",
            "Epoch 6/10\n",
            "1/1 [==============================] - 0s 71ms/step - loss: 0.3119 - mse: 0.3119\n",
            "Epoch 7/10\n",
            "1/1 [==============================] - 0s 66ms/step - loss: 0.3119 - mse: 0.3119\n",
            "Epoch 8/10\n",
            "1/1 [==============================] - 0s 84ms/step - loss: 0.3119 - mse: 0.3119\n",
            "Epoch 9/10\n",
            "1/1 [==============================] - 0s 70ms/step - loss: 0.3119 - mse: 0.3119\n",
            "Epoch 10/10\n",
            "1/1 [==============================] - 0s 76ms/step - loss: 0.3119 - mse: 0.3119\n"
          ],
          "name": "stdout"
        },
        {
          "output_type": "stream",
          "text": [
            "\r 68%|██████▊   | 358/529 [05:49<02:45,  1.03it/s]"
          ],
          "name": "stderr"
        },
        {
          "output_type": "stream",
          "text": [
            "Epoch 1/10\n",
            "1/1 [==============================] - 0s 71ms/step - loss: 0.3069 - mse: 0.3069\n",
            "Epoch 2/10\n",
            "1/1 [==============================] - 0s 65ms/step - loss: 0.3068 - mse: 0.3068\n",
            "Epoch 3/10\n",
            "1/1 [==============================] - 0s 66ms/step - loss: 0.3069 - mse: 0.3069\n",
            "Epoch 4/10\n",
            "1/1 [==============================] - 0s 67ms/step - loss: 0.3068 - mse: 0.3068\n",
            "Epoch 5/10\n",
            "1/1 [==============================] - 0s 69ms/step - loss: 0.3069 - mse: 0.3069\n",
            "Epoch 6/10\n",
            "1/1 [==============================] - 0s 66ms/step - loss: 0.3069 - mse: 0.3069\n",
            "Epoch 7/10\n",
            "1/1 [==============================] - 0s 77ms/step - loss: 0.3068 - mse: 0.3068\n",
            "Epoch 8/10\n",
            "1/1 [==============================] - 0s 73ms/step - loss: 0.3069 - mse: 0.3069\n",
            "Epoch 9/10\n",
            "1/1 [==============================] - 0s 77ms/step - loss: 0.3068 - mse: 0.3068\n",
            "Epoch 10/10\n",
            "1/1 [==============================] - 0s 74ms/step - loss: 0.3068 - mse: 0.3068\n"
          ],
          "name": "stdout"
        },
        {
          "output_type": "stream",
          "text": [
            "\r 68%|██████▊   | 359/529 [05:50<02:44,  1.04it/s]"
          ],
          "name": "stderr"
        },
        {
          "output_type": "stream",
          "text": [
            "Epoch 1/10\n",
            "1/1 [==============================] - 0s 66ms/step - loss: 0.3095 - mse: 0.3095\n",
            "Epoch 2/10\n",
            "1/1 [==============================] - 0s 65ms/step - loss: 0.3095 - mse: 0.3095\n",
            "Epoch 3/10\n",
            "1/1 [==============================] - 0s 61ms/step - loss: 0.3095 - mse: 0.3095\n",
            "Epoch 4/10\n",
            "1/1 [==============================] - 0s 71ms/step - loss: 0.3095 - mse: 0.3095\n",
            "Epoch 5/10\n",
            "1/1 [==============================] - 0s 70ms/step - loss: 0.3095 - mse: 0.3095\n",
            "Epoch 6/10\n",
            "1/1 [==============================] - 0s 69ms/step - loss: 0.3095 - mse: 0.3095\n",
            "Epoch 7/10\n",
            "1/1 [==============================] - 0s 68ms/step - loss: 0.3095 - mse: 0.3095\n",
            "Epoch 8/10\n",
            "1/1 [==============================] - 0s 75ms/step - loss: 0.3095 - mse: 0.3095\n",
            "Epoch 9/10\n",
            "1/1 [==============================] - 0s 71ms/step - loss: 0.3095 - mse: 0.3095\n",
            "Epoch 10/10\n",
            "1/1 [==============================] - 0s 68ms/step - loss: 0.3095 - mse: 0.3095\n"
          ],
          "name": "stdout"
        },
        {
          "output_type": "stream",
          "text": [
            "\r 68%|██████▊   | 360/529 [05:51<02:43,  1.03it/s]"
          ],
          "name": "stderr"
        },
        {
          "output_type": "stream",
          "text": [
            "Epoch 1/10\n",
            "1/1 [==============================] - 0s 59ms/step - loss: 0.3469 - mse: 0.3469\n",
            "Epoch 2/10\n",
            "1/1 [==============================] - 0s 61ms/step - loss: 0.3446 - mse: 0.3446\n",
            "Epoch 3/10\n",
            "1/1 [==============================] - 0s 67ms/step - loss: 0.3453 - mse: 0.3453\n",
            "Epoch 4/10\n",
            "1/1 [==============================] - 0s 72ms/step - loss: 0.3435 - mse: 0.3435\n",
            "Epoch 5/10\n",
            "1/1 [==============================] - 0s 75ms/step - loss: 0.3450 - mse: 0.3450\n",
            "Epoch 6/10\n",
            "1/1 [==============================] - 0s 75ms/step - loss: 0.3445 - mse: 0.3445\n",
            "Epoch 7/10\n",
            "1/1 [==============================] - 0s 77ms/step - loss: 0.3446 - mse: 0.3446\n",
            "Epoch 8/10\n",
            "1/1 [==============================] - 0s 71ms/step - loss: 0.3448 - mse: 0.3448\n",
            "Epoch 9/10\n",
            "1/1 [==============================] - 0s 77ms/step - loss: 0.3437 - mse: 0.3437\n",
            "Epoch 10/10\n",
            "1/1 [==============================] - 0s 69ms/step - loss: 0.3442 - mse: 0.3442\n"
          ],
          "name": "stdout"
        },
        {
          "output_type": "stream",
          "text": [
            "\r 68%|██████▊   | 361/529 [05:52<02:43,  1.03it/s]"
          ],
          "name": "stderr"
        },
        {
          "output_type": "stream",
          "text": [
            "Epoch 1/10\n",
            "1/1 [==============================] - 0s 65ms/step - loss: 0.3152 - mse: 0.3152\n",
            "Epoch 2/10\n",
            "1/1 [==============================] - 0s 65ms/step - loss: 0.3135 - mse: 0.3135\n",
            "Epoch 3/10\n",
            "1/1 [==============================] - 0s 68ms/step - loss: 0.3132 - mse: 0.3132\n",
            "Epoch 4/10\n",
            "1/1 [==============================] - 0s 69ms/step - loss: 0.3133 - mse: 0.3133\n",
            "Epoch 5/10\n",
            "1/1 [==============================] - 0s 70ms/step - loss: 0.3137 - mse: 0.3137\n",
            "Epoch 6/10\n",
            "1/1 [==============================] - 0s 65ms/step - loss: 0.3144 - mse: 0.3144\n",
            "Epoch 7/10\n",
            "1/1 [==============================] - 0s 68ms/step - loss: 0.3138 - mse: 0.3138\n",
            "Epoch 8/10\n",
            "1/1 [==============================] - 0s 71ms/step - loss: 0.3136 - mse: 0.3136\n",
            "Epoch 9/10\n",
            "1/1 [==============================] - 0s 65ms/step - loss: 0.3133 - mse: 0.3133\n",
            "Epoch 10/10\n",
            "1/1 [==============================] - 0s 66ms/step - loss: 0.3130 - mse: 0.3130\n"
          ],
          "name": "stdout"
        },
        {
          "output_type": "stream",
          "text": [
            "\r 68%|██████▊   | 362/529 [05:53<02:40,  1.04it/s]"
          ],
          "name": "stderr"
        },
        {
          "output_type": "stream",
          "text": [
            "Epoch 1/10\n",
            "1/1 [==============================] - 0s 61ms/step - loss: 0.3095 - mse: 0.3095\n",
            "Epoch 2/10\n",
            "1/1 [==============================] - 0s 68ms/step - loss: 0.3092 - mse: 0.3092\n",
            "Epoch 3/10\n",
            "1/1 [==============================] - 0s 67ms/step - loss: 0.3095 - mse: 0.3095\n",
            "Epoch 4/10\n",
            "1/1 [==============================] - 0s 68ms/step - loss: 0.3096 - mse: 0.3096\n",
            "Epoch 5/10\n",
            "1/1 [==============================] - 0s 69ms/step - loss: 0.3094 - mse: 0.3094\n",
            "Epoch 6/10\n",
            "1/1 [==============================] - 0s 68ms/step - loss: 0.3094 - mse: 0.3094\n",
            "Epoch 7/10\n",
            "1/1 [==============================] - 0s 63ms/step - loss: 0.3091 - mse: 0.3091\n",
            "Epoch 8/10\n",
            "1/1 [==============================] - 0s 73ms/step - loss: 0.3092 - mse: 0.3092\n",
            "Epoch 9/10\n",
            "1/1 [==============================] - 0s 71ms/step - loss: 0.3092 - mse: 0.3092\n",
            "Epoch 10/10\n",
            "1/1 [==============================] - 0s 75ms/step - loss: 0.3091 - mse: 0.3091\n"
          ],
          "name": "stdout"
        },
        {
          "output_type": "stream",
          "text": [
            "\r 69%|██████▊   | 363/529 [05:54<02:38,  1.05it/s]"
          ],
          "name": "stderr"
        },
        {
          "output_type": "stream",
          "text": [
            "Epoch 1/10\n",
            "1/1 [==============================] - 0s 59ms/step - loss: 0.3036 - mse: 0.3036\n",
            "Epoch 2/10\n",
            "1/1 [==============================] - 0s 69ms/step - loss: 0.3033 - mse: 0.3033\n",
            "Epoch 3/10\n",
            "1/1 [==============================] - 0s 68ms/step - loss: 0.3035 - mse: 0.3035\n",
            "Epoch 4/10\n",
            "1/1 [==============================] - 0s 68ms/step - loss: 0.3035 - mse: 0.3035\n",
            "Epoch 5/10\n",
            "1/1 [==============================] - 0s 66ms/step - loss: 0.3033 - mse: 0.3033\n",
            "Epoch 6/10\n",
            "1/1 [==============================] - 0s 77ms/step - loss: 0.3034 - mse: 0.3034\n",
            "Epoch 7/10\n",
            "1/1 [==============================] - 0s 82ms/step - loss: 0.3033 - mse: 0.3033\n",
            "Epoch 8/10\n",
            "1/1 [==============================] - 0s 67ms/step - loss: 0.3033 - mse: 0.3033\n",
            "Epoch 9/10\n",
            "1/1 [==============================] - 0s 69ms/step - loss: 0.3034 - mse: 0.3034\n",
            "Epoch 10/10\n",
            "1/1 [==============================] - 0s 72ms/step - loss: 0.3032 - mse: 0.3032\n"
          ],
          "name": "stdout"
        },
        {
          "output_type": "stream",
          "text": [
            "\r 69%|██████▉   | 364/529 [05:55<02:37,  1.05it/s]"
          ],
          "name": "stderr"
        },
        {
          "output_type": "stream",
          "text": [
            "Epoch 1/10\n",
            "1/1 [==============================] - 0s 67ms/step - loss: 0.3069 - mse: 0.3069\n",
            "Epoch 2/10\n",
            "1/1 [==============================] - 0s 65ms/step - loss: 0.3069 - mse: 0.3069\n",
            "Epoch 3/10\n",
            "1/1 [==============================] - 0s 70ms/step - loss: 0.3068 - mse: 0.3068\n",
            "Epoch 4/10\n",
            "1/1 [==============================] - 0s 82ms/step - loss: 0.3069 - mse: 0.3069\n",
            "Epoch 5/10\n",
            "1/1 [==============================] - 0s 70ms/step - loss: 0.3069 - mse: 0.3069\n",
            "Epoch 6/10\n",
            "1/1 [==============================] - 0s 73ms/step - loss: 0.3068 - mse: 0.3068\n",
            "Epoch 7/10\n",
            "1/1 [==============================] - 0s 73ms/step - loss: 0.3069 - mse: 0.3069\n",
            "Epoch 8/10\n",
            "1/1 [==============================] - 0s 70ms/step - loss: 0.3068 - mse: 0.3068\n",
            "Epoch 9/10\n",
            "1/1 [==============================] - 0s 74ms/step - loss: 0.3068 - mse: 0.3068\n",
            "Epoch 10/10\n",
            "1/1 [==============================] - 0s 77ms/step - loss: 0.3068 - mse: 0.3068\n"
          ],
          "name": "stdout"
        },
        {
          "output_type": "stream",
          "text": [
            "\r 69%|██████▉   | 365/529 [05:56<02:38,  1.04it/s]"
          ],
          "name": "stderr"
        },
        {
          "output_type": "stream",
          "text": [
            "Epoch 1/10\n",
            "1/1 [==============================] - 0s 61ms/step - loss: 0.3084 - mse: 0.3084\n",
            "Epoch 2/10\n",
            "1/1 [==============================] - 0s 65ms/step - loss: 0.3085 - mse: 0.3085\n",
            "Epoch 3/10\n",
            "1/1 [==============================] - 0s 68ms/step - loss: 0.3085 - mse: 0.3085\n",
            "Epoch 4/10\n",
            "1/1 [==============================] - 0s 69ms/step - loss: 0.3084 - mse: 0.3084\n",
            "Epoch 5/10\n",
            "1/1 [==============================] - 0s 65ms/step - loss: 0.3085 - mse: 0.3085\n",
            "Epoch 6/10\n",
            "1/1 [==============================] - 0s 74ms/step - loss: 0.3084 - mse: 0.3084\n",
            "Epoch 7/10\n",
            "1/1 [==============================] - 0s 72ms/step - loss: 0.3084 - mse: 0.3084\n",
            "Epoch 8/10\n",
            "1/1 [==============================] - 0s 69ms/step - loss: 0.3084 - mse: 0.3084\n",
            "Epoch 9/10\n",
            "1/1 [==============================] - 0s 75ms/step - loss: 0.3084 - mse: 0.3084\n",
            "Epoch 10/10\n",
            "1/1 [==============================] - 0s 76ms/step - loss: 0.3084 - mse: 0.3084\n"
          ],
          "name": "stdout"
        },
        {
          "output_type": "stream",
          "text": [
            "\r 69%|██████▉   | 366/529 [05:57<02:37,  1.04it/s]"
          ],
          "name": "stderr"
        },
        {
          "output_type": "stream",
          "text": [
            "Epoch 1/10\n",
            "1/1 [==============================] - 0s 66ms/step - loss: 0.2997 - mse: 0.2997\n",
            "Epoch 2/10\n",
            "1/1 [==============================] - 0s 64ms/step - loss: 0.2995 - mse: 0.2995\n",
            "Epoch 3/10\n",
            "1/1 [==============================] - 0s 74ms/step - loss: 0.2996 - mse: 0.2996\n",
            "Epoch 4/10\n",
            "1/1 [==============================] - 0s 73ms/step - loss: 0.2996 - mse: 0.2996\n",
            "Epoch 5/10\n",
            "1/1 [==============================] - 0s 73ms/step - loss: 0.2995 - mse: 0.2995\n",
            "Epoch 6/10\n",
            "1/1 [==============================] - 0s 74ms/step - loss: 0.2996 - mse: 0.2996\n",
            "Epoch 7/10\n",
            "1/1 [==============================] - 0s 75ms/step - loss: 0.2995 - mse: 0.2995\n",
            "Epoch 8/10\n",
            "1/1 [==============================] - 0s 71ms/step - loss: 0.2996 - mse: 0.2996\n",
            "Epoch 9/10\n",
            "1/1 [==============================] - 0s 77ms/step - loss: 0.2996 - mse: 0.2996\n",
            "Epoch 10/10\n",
            "1/1 [==============================] - 0s 79ms/step - loss: 0.2995 - mse: 0.2995\n"
          ],
          "name": "stdout"
        },
        {
          "output_type": "stream",
          "text": [
            "\r 69%|██████▉   | 367/529 [05:58<02:38,  1.02it/s]"
          ],
          "name": "stderr"
        },
        {
          "output_type": "stream",
          "text": [
            "Epoch 1/10\n",
            "1/1 [==============================] - 0s 67ms/step - loss: 0.3066 - mse: 0.3066\n",
            "Epoch 2/10\n",
            "1/1 [==============================] - 0s 65ms/step - loss: 0.3066 - mse: 0.3066\n",
            "Epoch 3/10\n",
            "1/1 [==============================] - 0s 72ms/step - loss: 0.3066 - mse: 0.3066\n",
            "Epoch 4/10\n",
            "1/1 [==============================] - 0s 74ms/step - loss: 0.3065 - mse: 0.3065\n",
            "Epoch 5/10\n",
            "1/1 [==============================] - 0s 74ms/step - loss: 0.3066 - mse: 0.3066\n",
            "Epoch 6/10\n",
            "1/1 [==============================] - 0s 71ms/step - loss: 0.3065 - mse: 0.3065\n",
            "Epoch 7/10\n",
            "1/1 [==============================] - 0s 71ms/step - loss: 0.3065 - mse: 0.3065\n",
            "Epoch 8/10\n",
            "1/1 [==============================] - 0s 74ms/step - loss: 0.3066 - mse: 0.3066\n",
            "Epoch 9/10\n",
            "1/1 [==============================] - 0s 73ms/step - loss: 0.3065 - mse: 0.3065\n",
            "Epoch 10/10\n",
            "1/1 [==============================] - 0s 80ms/step - loss: 0.3065 - mse: 0.3065\n"
          ],
          "name": "stdout"
        },
        {
          "output_type": "stream",
          "text": [
            "\r 70%|██████▉   | 368/529 [05:59<02:38,  1.02it/s]"
          ],
          "name": "stderr"
        },
        {
          "output_type": "stream",
          "text": [
            "Epoch 1/10\n",
            "1/1 [==============================] - 0s 64ms/step - loss: 0.3092 - mse: 0.3092\n",
            "Epoch 2/10\n",
            "1/1 [==============================] - 0s 70ms/step - loss: 0.3092 - mse: 0.3092\n",
            "Epoch 3/10\n",
            "1/1 [==============================] - 0s 67ms/step - loss: 0.3092 - mse: 0.3092\n",
            "Epoch 4/10\n",
            "1/1 [==============================] - 0s 71ms/step - loss: 0.3092 - mse: 0.3092\n",
            "Epoch 5/10\n",
            "1/1 [==============================] - 0s 78ms/step - loss: 0.3092 - mse: 0.3092\n",
            "Epoch 6/10\n",
            "1/1 [==============================] - 0s 70ms/step - loss: 0.3092 - mse: 0.3092\n",
            "Epoch 7/10\n",
            "1/1 [==============================] - 0s 71ms/step - loss: 0.3092 - mse: 0.3092\n",
            "Epoch 8/10\n",
            "1/1 [==============================] - 0s 73ms/step - loss: 0.3092 - mse: 0.3092\n",
            "Epoch 9/10\n",
            "1/1 [==============================] - 0s 73ms/step - loss: 0.3092 - mse: 0.3092\n",
            "Epoch 10/10\n",
            "1/1 [==============================] - 0s 80ms/step - loss: 0.3092 - mse: 0.3092\n"
          ],
          "name": "stdout"
        },
        {
          "output_type": "stream",
          "text": [
            "\r 70%|██████▉   | 369/529 [06:00<02:38,  1.01it/s]"
          ],
          "name": "stderr"
        },
        {
          "output_type": "stream",
          "text": [
            "Epoch 1/10\n",
            "1/1 [==============================] - 0s 71ms/step - loss: 0.3072 - mse: 0.3072\n",
            "Epoch 2/10\n",
            "1/1 [==============================] - 0s 65ms/step - loss: 0.3072 - mse: 0.3072\n",
            "Epoch 3/10\n",
            "1/1 [==============================] - 0s 65ms/step - loss: 0.3072 - mse: 0.3072\n",
            "Epoch 4/10\n",
            "1/1 [==============================] - 0s 67ms/step - loss: 0.3072 - mse: 0.3072\n",
            "Epoch 5/10\n",
            "1/1 [==============================] - 0s 68ms/step - loss: 0.3072 - mse: 0.3072\n",
            "Epoch 6/10\n",
            "1/1 [==============================] - 0s 69ms/step - loss: 0.3072 - mse: 0.3072\n",
            "Epoch 7/10\n",
            "1/1 [==============================] - 0s 77ms/step - loss: 0.3072 - mse: 0.3072\n",
            "Epoch 8/10\n",
            "1/1 [==============================] - 0s 72ms/step - loss: 0.3072 - mse: 0.3072\n",
            "Epoch 9/10\n",
            "1/1 [==============================] - 0s 73ms/step - loss: 0.3072 - mse: 0.3072\n",
            "Epoch 10/10\n",
            "1/1 [==============================] - 0s 66ms/step - loss: 0.3072 - mse: 0.3072\n"
          ],
          "name": "stdout"
        },
        {
          "output_type": "stream",
          "text": [
            "\r 70%|██████▉   | 370/529 [06:01<02:36,  1.01it/s]"
          ],
          "name": "stderr"
        },
        {
          "output_type": "stream",
          "text": [
            "Epoch 1/10\n",
            "1/1 [==============================] - 0s 68ms/step - loss: 0.3036 - mse: 0.3036\n",
            "Epoch 2/10\n",
            "1/1 [==============================] - 0s 79ms/step - loss: 0.3036 - mse: 0.3036\n",
            "Epoch 3/10\n",
            "1/1 [==============================] - 0s 67ms/step - loss: 0.3036 - mse: 0.3036\n",
            "Epoch 4/10\n",
            "1/1 [==============================] - 0s 74ms/step - loss: 0.3036 - mse: 0.3036\n",
            "Epoch 5/10\n",
            "1/1 [==============================] - 0s 73ms/step - loss: 0.3036 - mse: 0.3036\n",
            "Epoch 6/10\n",
            "1/1 [==============================] - 0s 74ms/step - loss: 0.3036 - mse: 0.3036\n",
            "Epoch 7/10\n",
            "1/1 [==============================] - 0s 73ms/step - loss: 0.3036 - mse: 0.3036\n",
            "Epoch 8/10\n",
            "1/1 [==============================] - 0s 79ms/step - loss: 0.3036 - mse: 0.3036\n",
            "Epoch 9/10\n",
            "1/1 [==============================] - 0s 71ms/step - loss: 0.3036 - mse: 0.3036\n",
            "Epoch 10/10\n",
            "1/1 [==============================] - 0s 72ms/step - loss: 0.3036 - mse: 0.3036\n"
          ],
          "name": "stdout"
        },
        {
          "output_type": "stream",
          "text": [
            "\r 70%|███████   | 371/529 [06:02<02:35,  1.01it/s]"
          ],
          "name": "stderr"
        },
        {
          "output_type": "stream",
          "text": [
            "Epoch 1/10\n",
            "1/1 [==============================] - 0s 60ms/step - loss: 0.3219 - mse: 0.3219\n",
            "Epoch 2/10\n",
            "1/1 [==============================] - 0s 72ms/step - loss: 0.3214 - mse: 0.3214\n",
            "Epoch 3/10\n",
            "1/1 [==============================] - 0s 70ms/step - loss: 0.3219 - mse: 0.3219\n",
            "Epoch 4/10\n",
            "1/1 [==============================] - 0s 78ms/step - loss: 0.3214 - mse: 0.3214\n",
            "Epoch 5/10\n",
            "1/1 [==============================] - 0s 76ms/step - loss: 0.3216 - mse: 0.3216\n",
            "Epoch 6/10\n",
            "1/1 [==============================] - 0s 71ms/step - loss: 0.3216 - mse: 0.3216\n",
            "Epoch 7/10\n",
            "1/1 [==============================] - 0s 75ms/step - loss: 0.3214 - mse: 0.3214\n",
            "Epoch 8/10\n",
            "1/1 [==============================] - 0s 71ms/step - loss: 0.3217 - mse: 0.3217\n",
            "Epoch 9/10\n",
            "1/1 [==============================] - 0s 71ms/step - loss: 0.3214 - mse: 0.3214\n",
            "Epoch 10/10\n",
            "1/1 [==============================] - 0s 70ms/step - loss: 0.3215 - mse: 0.3215\n"
          ],
          "name": "stdout"
        },
        {
          "output_type": "stream",
          "text": [
            "\r 70%|███████   | 372/529 [06:03<02:36,  1.00it/s]"
          ],
          "name": "stderr"
        },
        {
          "output_type": "stream",
          "text": [
            "Epoch 1/10\n",
            "1/1 [==============================] - 0s 62ms/step - loss: 0.3085 - mse: 0.3085\n",
            "Epoch 2/10\n",
            "1/1 [==============================] - 0s 71ms/step - loss: 0.3084 - mse: 0.3084\n",
            "Epoch 3/10\n",
            "1/1 [==============================] - 0s 65ms/step - loss: 0.3084 - mse: 0.3084\n",
            "Epoch 4/10\n",
            "1/1 [==============================] - 0s 79ms/step - loss: 0.3084 - mse: 0.3084\n",
            "Epoch 5/10\n",
            "1/1 [==============================] - 0s 74ms/step - loss: 0.3084 - mse: 0.3084\n",
            "Epoch 6/10\n",
            "1/1 [==============================] - 0s 75ms/step - loss: 0.3084 - mse: 0.3084\n",
            "Epoch 7/10\n",
            "1/1 [==============================] - 0s 72ms/step - loss: 0.3084 - mse: 0.3084\n",
            "Epoch 8/10\n",
            "1/1 [==============================] - 0s 71ms/step - loss: 0.3084 - mse: 0.3084\n",
            "Epoch 9/10\n",
            "1/1 [==============================] - 0s 69ms/step - loss: 0.3084 - mse: 0.3084\n",
            "Epoch 10/10\n",
            "1/1 [==============================] - 0s 68ms/step - loss: 0.3084 - mse: 0.3084\n"
          ],
          "name": "stdout"
        },
        {
          "output_type": "stream",
          "text": [
            "\r 71%|███████   | 373/529 [06:04<02:36,  1.00s/it]"
          ],
          "name": "stderr"
        },
        {
          "output_type": "stream",
          "text": [
            "Epoch 1/10\n",
            "1/1 [==============================] - 0s 70ms/step - loss: 0.3111 - mse: 0.3111\n",
            "Epoch 2/10\n",
            "1/1 [==============================] - 0s 68ms/step - loss: 0.3111 - mse: 0.3111\n",
            "Epoch 3/10\n",
            "1/1 [==============================] - 0s 71ms/step - loss: 0.3111 - mse: 0.3111\n",
            "Epoch 4/10\n",
            "1/1 [==============================] - 0s 76ms/step - loss: 0.3111 - mse: 0.3111\n",
            "Epoch 5/10\n",
            "1/1 [==============================] - 0s 72ms/step - loss: 0.3111 - mse: 0.3111\n",
            "Epoch 6/10\n",
            "1/1 [==============================] - 0s 77ms/step - loss: 0.3111 - mse: 0.3111\n",
            "Epoch 7/10\n",
            "1/1 [==============================] - 0s 75ms/step - loss: 0.3111 - mse: 0.3111\n",
            "Epoch 8/10\n",
            "1/1 [==============================] - 0s 72ms/step - loss: 0.3111 - mse: 0.3111\n",
            "Epoch 9/10\n",
            "1/1 [==============================] - 0s 73ms/step - loss: 0.3111 - mse: 0.3111\n",
            "Epoch 10/10\n",
            "1/1 [==============================] - 0s 82ms/step - loss: 0.3111 - mse: 0.3111\n"
          ],
          "name": "stdout"
        },
        {
          "output_type": "stream",
          "text": [
            "\r 71%|███████   | 374/529 [06:05<02:35,  1.00s/it]"
          ],
          "name": "stderr"
        },
        {
          "output_type": "stream",
          "text": [
            "Epoch 1/10\n",
            "1/1 [==============================] - 0s 64ms/step - loss: 0.2546 - mse: 0.2546\n",
            "Epoch 2/10\n",
            "1/1 [==============================] - 0s 72ms/step - loss: 0.2448 - mse: 0.2448\n",
            "Epoch 3/10\n",
            "1/1 [==============================] - 0s 78ms/step - loss: 0.2523 - mse: 0.2523\n",
            "Epoch 4/10\n",
            "1/1 [==============================] - 0s 78ms/step - loss: 0.2510 - mse: 0.2510\n",
            "Epoch 5/10\n",
            "1/1 [==============================] - 0s 77ms/step - loss: 0.2440 - mse: 0.2440\n",
            "Epoch 6/10\n",
            "1/1 [==============================] - 0s 75ms/step - loss: 0.2489 - mse: 0.2489\n",
            "Epoch 7/10\n",
            "1/1 [==============================] - 0s 72ms/step - loss: 0.2495 - mse: 0.2495\n",
            "Epoch 8/10\n",
            "1/1 [==============================] - 0s 72ms/step - loss: 0.2442 - mse: 0.2442\n",
            "Epoch 9/10\n",
            "1/1 [==============================] - 0s 71ms/step - loss: 0.2473 - mse: 0.2473\n",
            "Epoch 10/10\n",
            "1/1 [==============================] - 0s 76ms/step - loss: 0.2485 - mse: 0.2485\n"
          ],
          "name": "stdout"
        },
        {
          "output_type": "stream",
          "text": [
            "\r 71%|███████   | 375/529 [06:06<02:35,  1.01s/it]"
          ],
          "name": "stderr"
        },
        {
          "output_type": "stream",
          "text": [
            "Epoch 1/10\n",
            "1/1 [==============================] - 0s 65ms/step - loss: 0.3349 - mse: 0.3349\n",
            "Epoch 2/10\n",
            "1/1 [==============================] - 0s 73ms/step - loss: 0.3175 - mse: 0.3175\n",
            "Epoch 3/10\n",
            "1/1 [==============================] - 0s 73ms/step - loss: 0.3352 - mse: 0.3352\n",
            "Epoch 4/10\n",
            "1/1 [==============================] - 0s 84ms/step - loss: 0.3260 - mse: 0.3260\n",
            "Epoch 5/10\n",
            "1/1 [==============================] - 0s 73ms/step - loss: 0.3163 - mse: 0.3163\n",
            "Epoch 6/10\n",
            "1/1 [==============================] - 0s 83ms/step - loss: 0.3268 - mse: 0.3268\n",
            "Epoch 7/10\n",
            "1/1 [==============================] - 0s 70ms/step - loss: 0.3278 - mse: 0.3278\n",
            "Epoch 8/10\n",
            "1/1 [==============================] - 0s 75ms/step - loss: 0.3188 - mse: 0.3188\n",
            "Epoch 9/10\n",
            "1/1 [==============================] - 0s 72ms/step - loss: 0.3195 - mse: 0.3195\n",
            "Epoch 10/10\n",
            "1/1 [==============================] - 0s 74ms/step - loss: 0.3255 - mse: 0.3255\n"
          ],
          "name": "stdout"
        },
        {
          "output_type": "stream",
          "text": [
            "\r 71%|███████   | 376/529 [06:07<02:35,  1.02s/it]"
          ],
          "name": "stderr"
        },
        {
          "output_type": "stream",
          "text": [
            "Epoch 1/10\n",
            "1/1 [==============================] - 0s 62ms/step - loss: 0.3119 - mse: 0.3119\n",
            "Epoch 2/10\n",
            "1/1 [==============================] - 0s 77ms/step - loss: 0.3073 - mse: 0.3073\n",
            "Epoch 3/10\n",
            "1/1 [==============================] - 0s 84ms/step - loss: 0.3120 - mse: 0.3120\n",
            "Epoch 4/10\n",
            "1/1 [==============================] - 0s 72ms/step - loss: 0.3133 - mse: 0.3133\n",
            "Epoch 5/10\n",
            "1/1 [==============================] - 0s 73ms/step - loss: 0.3089 - mse: 0.3089\n",
            "Epoch 6/10\n",
            "1/1 [==============================] - 0s 77ms/step - loss: 0.3076 - mse: 0.3076\n",
            "Epoch 7/10\n",
            "1/1 [==============================] - 0s 71ms/step - loss: 0.3113 - mse: 0.3113\n",
            "Epoch 8/10\n",
            "1/1 [==============================] - 0s 71ms/step - loss: 0.3109 - mse: 0.3109\n",
            "Epoch 9/10\n",
            "1/1 [==============================] - 0s 70ms/step - loss: 0.3074 - mse: 0.3074\n",
            "Epoch 10/10\n",
            "1/1 [==============================] - 0s 72ms/step - loss: 0.3079 - mse: 0.3079\n"
          ],
          "name": "stdout"
        },
        {
          "output_type": "stream",
          "text": [
            "\r 71%|███████▏  | 377/529 [06:08<02:34,  1.01s/it]"
          ],
          "name": "stderr"
        },
        {
          "output_type": "stream",
          "text": [
            "Epoch 1/10\n",
            "1/1 [==============================] - 0s 71ms/step - loss: 0.3127 - mse: 0.3127\n",
            "Epoch 2/10\n",
            "1/1 [==============================] - 0s 62ms/step - loss: 0.3117 - mse: 0.3117\n",
            "Epoch 3/10\n",
            "1/1 [==============================] - 0s 70ms/step - loss: 0.3096 - mse: 0.3096\n",
            "Epoch 4/10\n",
            "1/1 [==============================] - 0s 77ms/step - loss: 0.3103 - mse: 0.3103\n",
            "Epoch 5/10\n",
            "1/1 [==============================] - 0s 73ms/step - loss: 0.3117 - mse: 0.3117\n",
            "Epoch 6/10\n",
            "1/1 [==============================] - 0s 71ms/step - loss: 0.3108 - mse: 0.3108\n",
            "Epoch 7/10\n",
            "1/1 [==============================] - 0s 75ms/step - loss: 0.3096 - mse: 0.3096\n",
            "Epoch 8/10\n",
            "1/1 [==============================] - 0s 71ms/step - loss: 0.3102 - mse: 0.3102\n",
            "Epoch 9/10\n",
            "1/1 [==============================] - 0s 74ms/step - loss: 0.3109 - mse: 0.3109\n",
            "Epoch 10/10\n",
            "1/1 [==============================] - 0s 75ms/step - loss: 0.3102 - mse: 0.3102\n"
          ],
          "name": "stdout"
        },
        {
          "output_type": "stream",
          "text": [
            "\r 71%|███████▏  | 378/529 [06:09<02:33,  1.02s/it]"
          ],
          "name": "stderr"
        },
        {
          "output_type": "stream",
          "text": [
            "Epoch 1/10\n",
            "1/1 [==============================] - 0s 65ms/step - loss: 0.3108 - mse: 0.3108\n",
            "Epoch 2/10\n",
            "1/1 [==============================] - 0s 72ms/step - loss: 0.3111 - mse: 0.3111\n",
            "Epoch 3/10\n",
            "1/1 [==============================] - 0s 73ms/step - loss: 0.3117 - mse: 0.3117\n",
            "Epoch 4/10\n",
            "1/1 [==============================] - 0s 79ms/step - loss: 0.3112 - mse: 0.3112\n",
            "Epoch 5/10\n",
            "1/1 [==============================] - 0s 72ms/step - loss: 0.3107 - mse: 0.3107\n",
            "Epoch 6/10\n",
            "1/1 [==============================] - 0s 72ms/step - loss: 0.3110 - mse: 0.3110\n",
            "Epoch 7/10\n",
            "1/1 [==============================] - 0s 76ms/step - loss: 0.3113 - mse: 0.3113\n",
            "Epoch 8/10\n",
            "1/1 [==============================] - 0s 71ms/step - loss: 0.3110 - mse: 0.3110\n",
            "Epoch 9/10\n",
            "1/1 [==============================] - 0s 67ms/step - loss: 0.3107 - mse: 0.3107\n",
            "Epoch 10/10\n",
            "1/1 [==============================] - 0s 75ms/step - loss: 0.3109 - mse: 0.3109\n"
          ],
          "name": "stdout"
        },
        {
          "output_type": "stream",
          "text": [
            "\r 72%|███████▏  | 379/529 [06:10<02:31,  1.01s/it]"
          ],
          "name": "stderr"
        },
        {
          "output_type": "stream",
          "text": [
            "Epoch 1/10\n",
            "1/1 [==============================] - 0s 77ms/step - loss: 0.3030 - mse: 0.3030\n",
            "Epoch 2/10\n",
            "1/1 [==============================] - 0s 74ms/step - loss: 0.3023 - mse: 0.3023\n",
            "Epoch 3/10\n",
            "1/1 [==============================] - 0s 73ms/step - loss: 0.3020 - mse: 0.3020\n",
            "Epoch 4/10\n",
            "1/1 [==============================] - 0s 71ms/step - loss: 0.3025 - mse: 0.3025\n",
            "Epoch 5/10\n",
            "1/1 [==============================] - 0s 76ms/step - loss: 0.3026 - mse: 0.3026\n",
            "Epoch 6/10\n",
            "1/1 [==============================] - 0s 75ms/step - loss: 0.3022 - mse: 0.3022\n",
            "Epoch 7/10\n",
            "1/1 [==============================] - 0s 74ms/step - loss: 0.3020 - mse: 0.3020\n",
            "Epoch 8/10\n",
            "1/1 [==============================] - 0s 78ms/step - loss: 0.3022 - mse: 0.3022\n",
            "Epoch 9/10\n",
            "1/1 [==============================] - 0s 74ms/step - loss: 0.3024 - mse: 0.3024\n",
            "Epoch 10/10\n",
            "1/1 [==============================] - 0s 74ms/step - loss: 0.3022 - mse: 0.3022\n"
          ],
          "name": "stdout"
        },
        {
          "output_type": "stream",
          "text": [
            "\r 72%|███████▏  | 380/529 [06:11<02:30,  1.01s/it]"
          ],
          "name": "stderr"
        },
        {
          "output_type": "stream",
          "text": [
            "Epoch 1/10\n",
            "1/1 [==============================] - 0s 63ms/step - loss: 0.3142 - mse: 0.3142\n",
            "Epoch 2/10\n",
            "1/1 [==============================] - 0s 73ms/step - loss: 0.3142 - mse: 0.3142\n",
            "Epoch 3/10\n",
            "1/1 [==============================] - 0s 68ms/step - loss: 0.3139 - mse: 0.3139\n",
            "Epoch 4/10\n",
            "1/1 [==============================] - 0s 78ms/step - loss: 0.3137 - mse: 0.3137\n",
            "Epoch 5/10\n",
            "1/1 [==============================] - 0s 68ms/step - loss: 0.3138 - mse: 0.3138\n",
            "Epoch 6/10\n",
            "1/1 [==============================] - 0s 76ms/step - loss: 0.3139 - mse: 0.3139\n",
            "Epoch 7/10\n",
            "1/1 [==============================] - 0s 74ms/step - loss: 0.3137 - mse: 0.3137\n",
            "Epoch 8/10\n",
            "1/1 [==============================] - 0s 73ms/step - loss: 0.3137 - mse: 0.3137\n",
            "Epoch 9/10\n",
            "1/1 [==============================] - 0s 72ms/step - loss: 0.3138 - mse: 0.3138\n",
            "Epoch 10/10\n",
            "1/1 [==============================] - 0s 71ms/step - loss: 0.3139 - mse: 0.3139\n"
          ],
          "name": "stdout"
        },
        {
          "output_type": "stream",
          "text": [
            "\r 72%|███████▏  | 381/529 [06:12<02:29,  1.01s/it]"
          ],
          "name": "stderr"
        },
        {
          "output_type": "stream",
          "text": [
            "Epoch 1/10\n",
            "1/1 [==============================] - 0s 63ms/step - loss: 0.3210 - mse: 0.3210\n",
            "Epoch 2/10\n",
            "1/1 [==============================] - 0s 75ms/step - loss: 0.3207 - mse: 0.3207\n",
            "Epoch 3/10\n",
            "1/1 [==============================] - 0s 67ms/step - loss: 0.3208 - mse: 0.3208\n",
            "Epoch 4/10\n",
            "1/1 [==============================] - 0s 70ms/step - loss: 0.3210 - mse: 0.3210\n",
            "Epoch 5/10\n",
            "1/1 [==============================] - 0s 82ms/step - loss: 0.3208 - mse: 0.3208\n",
            "Epoch 6/10\n",
            "1/1 [==============================] - 0s 71ms/step - loss: 0.3207 - mse: 0.3207\n",
            "Epoch 7/10\n",
            "1/1 [==============================] - 0s 68ms/step - loss: 0.3208 - mse: 0.3208\n",
            "Epoch 8/10\n",
            "1/1 [==============================] - 0s 74ms/step - loss: 0.3209 - mse: 0.3209\n",
            "Epoch 9/10\n",
            "1/1 [==============================] - 0s 76ms/step - loss: 0.3208 - mse: 0.3208\n",
            "Epoch 10/10\n",
            "1/1 [==============================] - 0s 69ms/step - loss: 0.3207 - mse: 0.3207\n"
          ],
          "name": "stdout"
        },
        {
          "output_type": "stream",
          "text": [
            "\r 72%|███████▏  | 382/529 [06:13<02:28,  1.01s/it]"
          ],
          "name": "stderr"
        },
        {
          "output_type": "stream",
          "text": [
            "Epoch 1/10\n",
            "1/1 [==============================] - 0s 63ms/step - loss: 0.3084 - mse: 0.3084\n",
            "Epoch 2/10\n",
            "1/1 [==============================] - 0s 71ms/step - loss: 0.3080 - mse: 0.3080\n",
            "Epoch 3/10\n",
            "1/1 [==============================] - 0s 69ms/step - loss: 0.3076 - mse: 0.3076\n",
            "Epoch 4/10\n",
            "1/1 [==============================] - 0s 78ms/step - loss: 0.3077 - mse: 0.3077\n",
            "Epoch 5/10\n",
            "1/1 [==============================] - 0s 77ms/step - loss: 0.3079 - mse: 0.3079\n",
            "Epoch 6/10\n",
            "1/1 [==============================] - 0s 74ms/step - loss: 0.3077 - mse: 0.3077\n",
            "Epoch 7/10\n",
            "1/1 [==============================] - 0s 74ms/step - loss: 0.3075 - mse: 0.3075\n",
            "Epoch 8/10\n",
            "1/1 [==============================] - 0s 73ms/step - loss: 0.3077 - mse: 0.3077\n",
            "Epoch 9/10\n",
            "1/1 [==============================] - 0s 76ms/step - loss: 0.3078 - mse: 0.3078\n",
            "Epoch 10/10\n",
            "1/1 [==============================] - 0s 73ms/step - loss: 0.3077 - mse: 0.3077\n"
          ],
          "name": "stdout"
        },
        {
          "output_type": "stream",
          "text": [
            "\r 72%|███████▏  | 383/529 [06:14<02:27,  1.01s/it]"
          ],
          "name": "stderr"
        },
        {
          "output_type": "stream",
          "text": [
            "Epoch 1/10\n",
            "1/1 [==============================] - 0s 73ms/step - loss: 0.3049 - mse: 0.3049\n",
            "Epoch 2/10\n",
            "1/1 [==============================] - 0s 71ms/step - loss: 0.3049 - mse: 0.3049\n",
            "Epoch 3/10\n",
            "1/1 [==============================] - 0s 75ms/step - loss: 0.3050 - mse: 0.3050\n",
            "Epoch 4/10\n",
            "1/1 [==============================] - 0s 74ms/step - loss: 0.3050 - mse: 0.3050\n",
            "Epoch 5/10\n",
            "1/1 [==============================] - 0s 72ms/step - loss: 0.3048 - mse: 0.3048\n",
            "Epoch 6/10\n",
            "1/1 [==============================] - 0s 72ms/step - loss: 0.3048 - mse: 0.3048\n",
            "Epoch 7/10\n",
            "1/1 [==============================] - 0s 71ms/step - loss: 0.3049 - mse: 0.3049\n",
            "Epoch 8/10\n",
            "1/1 [==============================] - 0s 71ms/step - loss: 0.3049 - mse: 0.3049\n",
            "Epoch 9/10\n",
            "1/1 [==============================] - 0s 76ms/step - loss: 0.3048 - mse: 0.3048\n",
            "Epoch 10/10\n",
            "1/1 [==============================] - 0s 78ms/step - loss: 0.3048 - mse: 0.3048\n"
          ],
          "name": "stdout"
        },
        {
          "output_type": "stream",
          "text": [
            "\r 73%|███████▎  | 384/529 [06:15<02:28,  1.02s/it]"
          ],
          "name": "stderr"
        },
        {
          "output_type": "stream",
          "text": [
            "Epoch 1/10\n",
            "1/1 [==============================] - 0s 64ms/step - loss: 0.3066 - mse: 0.3066\n",
            "Epoch 2/10\n",
            "1/1 [==============================] - 0s 67ms/step - loss: 0.3065 - mse: 0.3065\n",
            "Epoch 3/10\n",
            "1/1 [==============================] - 0s 70ms/step - loss: 0.3064 - mse: 0.3064\n",
            "Epoch 4/10\n",
            "1/1 [==============================] - 0s 78ms/step - loss: 0.3063 - mse: 0.3063\n",
            "Epoch 5/10\n",
            "1/1 [==============================] - 0s 68ms/step - loss: 0.3064 - mse: 0.3064\n",
            "Epoch 6/10\n",
            "1/1 [==============================] - 0s 77ms/step - loss: 0.3064 - mse: 0.3064\n",
            "Epoch 7/10\n",
            "1/1 [==============================] - 0s 72ms/step - loss: 0.3064 - mse: 0.3064\n",
            "Epoch 8/10\n",
            "1/1 [==============================] - 0s 77ms/step - loss: 0.3064 - mse: 0.3064\n",
            "Epoch 9/10\n",
            "1/1 [==============================] - 0s 78ms/step - loss: 0.3064 - mse: 0.3064\n",
            "Epoch 10/10\n",
            "1/1 [==============================] - 0s 72ms/step - loss: 0.3064 - mse: 0.3064\n"
          ],
          "name": "stdout"
        },
        {
          "output_type": "stream",
          "text": [
            "\r 73%|███████▎  | 385/529 [06:16<02:26,  1.02s/it]"
          ],
          "name": "stderr"
        },
        {
          "output_type": "stream",
          "text": [
            "Epoch 1/10\n",
            "1/1 [==============================] - 0s 60ms/step - loss: 0.3088 - mse: 0.3088\n",
            "Epoch 2/10\n",
            "1/1 [==============================] - 0s 72ms/step - loss: 0.3087 - mse: 0.3087\n",
            "Epoch 3/10\n",
            "1/1 [==============================] - 0s 68ms/step - loss: 0.3086 - mse: 0.3086\n",
            "Epoch 4/10\n",
            "1/1 [==============================] - 0s 72ms/step - loss: 0.3086 - mse: 0.3086\n",
            "Epoch 5/10\n",
            "1/1 [==============================] - 0s 74ms/step - loss: 0.3085 - mse: 0.3085\n",
            "Epoch 6/10\n",
            "1/1 [==============================] - 0s 72ms/step - loss: 0.3085 - mse: 0.3085\n",
            "Epoch 7/10\n",
            "1/1 [==============================] - 0s 73ms/step - loss: 0.3086 - mse: 0.3086\n",
            "Epoch 8/10\n",
            "1/1 [==============================] - 0s 76ms/step - loss: 0.3086 - mse: 0.3086\n",
            "Epoch 9/10\n",
            "1/1 [==============================] - 0s 74ms/step - loss: 0.3086 - mse: 0.3086\n",
            "Epoch 10/10\n",
            "1/1 [==============================] - 0s 73ms/step - loss: 0.3086 - mse: 0.3086\n"
          ],
          "name": "stdout"
        },
        {
          "output_type": "stream",
          "text": [
            "\r 73%|███████▎  | 386/529 [06:17<02:24,  1.01s/it]"
          ],
          "name": "stderr"
        },
        {
          "output_type": "stream",
          "text": [
            "Epoch 1/10\n",
            "1/1 [==============================] - 0s 60ms/step - loss: 0.3074 - mse: 0.3074\n",
            "Epoch 2/10\n",
            "1/1 [==============================] - 0s 68ms/step - loss: 0.3074 - mse: 0.3074\n",
            "Epoch 3/10\n",
            "1/1 [==============================] - 0s 66ms/step - loss: 0.3073 - mse: 0.3073\n",
            "Epoch 4/10\n",
            "1/1 [==============================] - 0s 70ms/step - loss: 0.3073 - mse: 0.3073\n",
            "Epoch 5/10\n",
            "1/1 [==============================] - 0s 75ms/step - loss: 0.3073 - mse: 0.3073\n",
            "Epoch 6/10\n",
            "1/1 [==============================] - 0s 69ms/step - loss: 0.3073 - mse: 0.3073\n",
            "Epoch 7/10\n",
            "1/1 [==============================] - 0s 73ms/step - loss: 0.3073 - mse: 0.3073\n",
            "Epoch 8/10\n",
            "1/1 [==============================] - 0s 69ms/step - loss: 0.3073 - mse: 0.3073\n",
            "Epoch 9/10\n",
            "1/1 [==============================] - 0s 68ms/step - loss: 0.3073 - mse: 0.3073\n",
            "Epoch 10/10\n",
            "1/1 [==============================] - 0s 72ms/step - loss: 0.3073 - mse: 0.3073\n"
          ],
          "name": "stdout"
        },
        {
          "output_type": "stream",
          "text": [
            "\r 73%|███████▎  | 387/529 [06:18<02:21,  1.00it/s]"
          ],
          "name": "stderr"
        },
        {
          "output_type": "stream",
          "text": [
            "Epoch 1/10\n",
            "1/1 [==============================] - 0s 62ms/step - loss: 0.3149 - mse: 0.3149\n",
            "Epoch 2/10\n",
            "1/1 [==============================] - 0s 69ms/step - loss: 0.3148 - mse: 0.3148\n",
            "Epoch 3/10\n",
            "1/1 [==============================] - 0s 71ms/step - loss: 0.3148 - mse: 0.3148\n",
            "Epoch 4/10\n",
            "1/1 [==============================] - 0s 73ms/step - loss: 0.3148 - mse: 0.3148\n",
            "Epoch 5/10\n",
            "1/1 [==============================] - 0s 72ms/step - loss: 0.3148 - mse: 0.3148\n",
            "Epoch 6/10\n",
            "1/1 [==============================] - 0s 71ms/step - loss: 0.3148 - mse: 0.3148\n",
            "Epoch 7/10\n",
            "1/1 [==============================] - 0s 70ms/step - loss: 0.3148 - mse: 0.3148\n",
            "Epoch 8/10\n",
            "1/1 [==============================] - 0s 76ms/step - loss: 0.3148 - mse: 0.3148\n",
            "Epoch 9/10\n",
            "1/1 [==============================] - 0s 71ms/step - loss: 0.3148 - mse: 0.3148\n",
            "Epoch 10/10\n",
            "1/1 [==============================] - 0s 70ms/step - loss: 0.3148 - mse: 0.3148\n"
          ],
          "name": "stdout"
        },
        {
          "output_type": "stream",
          "text": [
            "\r 73%|███████▎  | 388/529 [06:19<02:21,  1.00s/it]"
          ],
          "name": "stderr"
        },
        {
          "output_type": "stream",
          "text": [
            "Epoch 1/10\n",
            "1/1 [==============================] - 0s 70ms/step - loss: 0.3091 - mse: 0.3091\n",
            "Epoch 2/10\n",
            "1/1 [==============================] - 0s 67ms/step - loss: 0.3090 - mse: 0.3090\n",
            "Epoch 3/10\n",
            "1/1 [==============================] - 0s 80ms/step - loss: 0.3089 - mse: 0.3089\n",
            "Epoch 4/10\n",
            "1/1 [==============================] - 0s 79ms/step - loss: 0.3089 - mse: 0.3089\n",
            "Epoch 5/10\n",
            "1/1 [==============================] - 0s 84ms/step - loss: 0.3090 - mse: 0.3090\n",
            "Epoch 6/10\n",
            "1/1 [==============================] - 0s 71ms/step - loss: 0.3090 - mse: 0.3090\n",
            "Epoch 7/10\n",
            "1/1 [==============================] - 0s 77ms/step - loss: 0.3090 - mse: 0.3090\n",
            "Epoch 8/10\n",
            "1/1 [==============================] - 0s 72ms/step - loss: 0.3090 - mse: 0.3090\n",
            "Epoch 9/10\n",
            "1/1 [==============================] - 0s 70ms/step - loss: 0.3090 - mse: 0.3090\n",
            "Epoch 10/10\n",
            "1/1 [==============================] - 0s 74ms/step - loss: 0.3090 - mse: 0.3090\n"
          ],
          "name": "stdout"
        },
        {
          "output_type": "stream",
          "text": [
            "\r 74%|███████▎  | 389/529 [06:20<02:21,  1.01s/it]"
          ],
          "name": "stderr"
        },
        {
          "output_type": "stream",
          "text": [
            "Epoch 1/10\n",
            "1/1 [==============================] - 0s 63ms/step - loss: 0.3086 - mse: 0.3086\n",
            "Epoch 2/10\n",
            "1/1 [==============================] - 0s 66ms/step - loss: 0.3086 - mse: 0.3086\n",
            "Epoch 3/10\n",
            "1/1 [==============================] - 0s 72ms/step - loss: 0.3086 - mse: 0.3086\n",
            "Epoch 4/10\n",
            "1/1 [==============================] - 0s 70ms/step - loss: 0.3086 - mse: 0.3086\n",
            "Epoch 5/10\n",
            "1/1 [==============================] - 0s 75ms/step - loss: 0.3086 - mse: 0.3086\n",
            "Epoch 6/10\n",
            "1/1 [==============================] - 0s 78ms/step - loss: 0.3086 - mse: 0.3086\n",
            "Epoch 7/10\n",
            "1/1 [==============================] - 0s 71ms/step - loss: 0.3086 - mse: 0.3086\n",
            "Epoch 8/10\n",
            "1/1 [==============================] - 0s 71ms/step - loss: 0.3086 - mse: 0.3086\n",
            "Epoch 9/10\n",
            "1/1 [==============================] - 0s 76ms/step - loss: 0.3086 - mse: 0.3086\n",
            "Epoch 10/10\n",
            "1/1 [==============================] - 0s 70ms/step - loss: 0.3086 - mse: 0.3086\n"
          ],
          "name": "stdout"
        },
        {
          "output_type": "stream",
          "text": [
            "\r 74%|███████▎  | 390/529 [06:21<02:19,  1.00s/it]"
          ],
          "name": "stderr"
        },
        {
          "output_type": "stream",
          "text": [
            "Epoch 1/10\n",
            "1/1 [==============================] - 0s 68ms/step - loss: 0.3077 - mse: 0.3077\n",
            "Epoch 2/10\n",
            "1/1 [==============================] - 0s 68ms/step - loss: 0.3077 - mse: 0.3077\n",
            "Epoch 3/10\n",
            "1/1 [==============================] - 0s 69ms/step - loss: 0.3077 - mse: 0.3077\n",
            "Epoch 4/10\n",
            "1/1 [==============================] - 0s 76ms/step - loss: 0.3076 - mse: 0.3076\n",
            "Epoch 5/10\n",
            "1/1 [==============================] - 0s 71ms/step - loss: 0.3076 - mse: 0.3076\n",
            "Epoch 6/10\n",
            "1/1 [==============================] - 0s 73ms/step - loss: 0.3076 - mse: 0.3076\n",
            "Epoch 7/10\n",
            "1/1 [==============================] - 0s 81ms/step - loss: 0.3076 - mse: 0.3076\n",
            "Epoch 8/10\n",
            "1/1 [==============================] - 0s 71ms/step - loss: 0.3076 - mse: 0.3076\n",
            "Epoch 9/10\n",
            "1/1 [==============================] - 0s 73ms/step - loss: 0.3076 - mse: 0.3076\n",
            "Epoch 10/10\n",
            "1/1 [==============================] - 0s 77ms/step - loss: 0.3076 - mse: 0.3076\n"
          ],
          "name": "stdout"
        },
        {
          "output_type": "stream",
          "text": [
            "\r 74%|███████▍  | 391/529 [06:22<02:19,  1.01s/it]"
          ],
          "name": "stderr"
        },
        {
          "output_type": "stream",
          "text": [
            "Epoch 1/10\n",
            "1/1 [==============================] - 0s 62ms/step - loss: 0.3093 - mse: 0.3093\n",
            "Epoch 2/10\n",
            "1/1 [==============================] - 0s 66ms/step - loss: 0.3092 - mse: 0.3092\n",
            "Epoch 3/10\n",
            "1/1 [==============================] - 0s 72ms/step - loss: 0.3091 - mse: 0.3091\n",
            "Epoch 4/10\n",
            "1/1 [==============================] - 0s 79ms/step - loss: 0.3091 - mse: 0.3091\n",
            "Epoch 5/10\n",
            "1/1 [==============================] - 0s 72ms/step - loss: 0.3091 - mse: 0.3091\n",
            "Epoch 6/10\n",
            "1/1 [==============================] - 0s 73ms/step - loss: 0.3091 - mse: 0.3091\n",
            "Epoch 7/10\n",
            "1/1 [==============================] - 0s 72ms/step - loss: 0.3091 - mse: 0.3091\n",
            "Epoch 8/10\n",
            "1/1 [==============================] - 0s 69ms/step - loss: 0.3091 - mse: 0.3091\n",
            "Epoch 9/10\n",
            "1/1 [==============================] - 0s 69ms/step - loss: 0.3091 - mse: 0.3091\n",
            "Epoch 10/10\n",
            "1/1 [==============================] - 0s 78ms/step - loss: 0.3091 - mse: 0.3091\n"
          ],
          "name": "stdout"
        },
        {
          "output_type": "stream",
          "text": [
            "\r 74%|███████▍  | 392/529 [06:23<02:18,  1.01s/it]"
          ],
          "name": "stderr"
        },
        {
          "output_type": "stream",
          "text": [
            "Epoch 1/10\n",
            "1/1 [==============================] - 0s 60ms/step - loss: 0.3057 - mse: 0.3057\n",
            "Epoch 2/10\n",
            "1/1 [==============================] - 0s 65ms/step - loss: 0.3056 - mse: 0.3056\n",
            "Epoch 3/10\n",
            "1/1 [==============================] - 0s 79ms/step - loss: 0.3056 - mse: 0.3056\n",
            "Epoch 4/10\n",
            "1/1 [==============================] - 0s 76ms/step - loss: 0.3055 - mse: 0.3055\n",
            "Epoch 5/10\n",
            "1/1 [==============================] - 0s 69ms/step - loss: 0.3055 - mse: 0.3055\n",
            "Epoch 6/10\n",
            "1/1 [==============================] - 0s 83ms/step - loss: 0.3055 - mse: 0.3055\n",
            "Epoch 7/10\n",
            "1/1 [==============================] - 0s 71ms/step - loss: 0.3055 - mse: 0.3055\n",
            "Epoch 8/10\n",
            "1/1 [==============================] - 0s 72ms/step - loss: 0.3056 - mse: 0.3056\n",
            "Epoch 9/10\n",
            "1/1 [==============================] - 0s 71ms/step - loss: 0.3056 - mse: 0.3056\n",
            "Epoch 10/10\n",
            "1/1 [==============================] - 0s 72ms/step - loss: 0.3055 - mse: 0.3055\n"
          ],
          "name": "stdout"
        },
        {
          "output_type": "stream",
          "text": [
            "\r 74%|███████▍  | 393/529 [06:24<02:16,  1.01s/it]"
          ],
          "name": "stderr"
        },
        {
          "output_type": "stream",
          "text": [
            "Epoch 1/10\n",
            "1/1 [==============================] - 0s 63ms/step - loss: 0.3114 - mse: 0.3114\n",
            "Epoch 2/10\n",
            "1/1 [==============================] - 0s 76ms/step - loss: 0.3113 - mse: 0.3113\n",
            "Epoch 3/10\n",
            "1/1 [==============================] - 0s 71ms/step - loss: 0.3111 - mse: 0.3111\n",
            "Epoch 4/10\n",
            "1/1 [==============================] - 0s 76ms/step - loss: 0.3111 - mse: 0.3111\n",
            "Epoch 5/10\n",
            "1/1 [==============================] - 0s 72ms/step - loss: 0.3111 - mse: 0.3111\n",
            "Epoch 6/10\n",
            "1/1 [==============================] - 0s 68ms/step - loss: 0.3111 - mse: 0.3111\n",
            "Epoch 7/10\n",
            "1/1 [==============================] - 0s 76ms/step - loss: 0.3111 - mse: 0.3111\n",
            "Epoch 8/10\n",
            "1/1 [==============================] - 0s 74ms/step - loss: 0.3111 - mse: 0.3111\n",
            "Epoch 9/10\n",
            "1/1 [==============================] - 0s 69ms/step - loss: 0.3111 - mse: 0.3111\n",
            "Epoch 10/10\n",
            "1/1 [==============================] - 0s 71ms/step - loss: 0.3111 - mse: 0.3111\n"
          ],
          "name": "stdout"
        },
        {
          "output_type": "stream",
          "text": [
            "\r 74%|███████▍  | 394/529 [06:25<02:15,  1.00s/it]"
          ],
          "name": "stderr"
        },
        {
          "output_type": "stream",
          "text": [
            "Epoch 1/10\n",
            "1/1 [==============================] - 0s 62ms/step - loss: 0.3052 - mse: 0.3052\n",
            "Epoch 2/10\n",
            "1/1 [==============================] - 0s 61ms/step - loss: 0.3051 - mse: 0.3051\n",
            "Epoch 3/10\n",
            "1/1 [==============================] - 0s 68ms/step - loss: 0.3050 - mse: 0.3050\n",
            "Epoch 4/10\n",
            "1/1 [==============================] - 0s 77ms/step - loss: 0.3050 - mse: 0.3050\n",
            "Epoch 5/10\n",
            "1/1 [==============================] - 0s 75ms/step - loss: 0.3050 - mse: 0.3050\n",
            "Epoch 6/10\n",
            "1/1 [==============================] - 0s 72ms/step - loss: 0.3050 - mse: 0.3050\n",
            "Epoch 7/10\n",
            "1/1 [==============================] - 0s 81ms/step - loss: 0.3050 - mse: 0.3050\n",
            "Epoch 8/10\n",
            "1/1 [==============================] - 0s 72ms/step - loss: 0.3051 - mse: 0.3051\n",
            "Epoch 9/10\n",
            "1/1 [==============================] - 0s 74ms/step - loss: 0.3051 - mse: 0.3051\n",
            "Epoch 10/10\n",
            "1/1 [==============================] - 0s 73ms/step - loss: 0.3050 - mse: 0.3050\n"
          ],
          "name": "stdout"
        },
        {
          "output_type": "stream",
          "text": [
            "\r 75%|███████▍  | 395/529 [06:26<02:14,  1.00s/it]"
          ],
          "name": "stderr"
        },
        {
          "output_type": "stream",
          "text": [
            "Epoch 1/10\n",
            "1/1 [==============================] - 0s 62ms/step - loss: 0.3093 - mse: 0.3093\n",
            "Epoch 2/10\n",
            "1/1 [==============================] - 0s 68ms/step - loss: 0.3092 - mse: 0.3092\n",
            "Epoch 3/10\n",
            "1/1 [==============================] - 0s 79ms/step - loss: 0.3092 - mse: 0.3092\n",
            "Epoch 4/10\n",
            "1/1 [==============================] - 0s 74ms/step - loss: 0.3092 - mse: 0.3092\n",
            "Epoch 5/10\n",
            "1/1 [==============================] - 0s 72ms/step - loss: 0.3092 - mse: 0.3092\n",
            "Epoch 6/10\n",
            "1/1 [==============================] - 0s 72ms/step - loss: 0.3092 - mse: 0.3092\n",
            "Epoch 7/10\n",
            "1/1 [==============================] - 0s 69ms/step - loss: 0.3092 - mse: 0.3092\n",
            "Epoch 8/10\n",
            "1/1 [==============================] - 0s 72ms/step - loss: 0.3092 - mse: 0.3092\n",
            "Epoch 9/10\n",
            "1/1 [==============================] - 0s 71ms/step - loss: 0.3092 - mse: 0.3092\n",
            "Epoch 10/10\n",
            "1/1 [==============================] - 0s 76ms/step - loss: 0.3092 - mse: 0.3092\n"
          ],
          "name": "stdout"
        },
        {
          "output_type": "stream",
          "text": [
            "\r 75%|███████▍  | 396/529 [06:27<02:13,  1.01s/it]"
          ],
          "name": "stderr"
        },
        {
          "output_type": "stream",
          "text": [
            "Epoch 1/10\n",
            "1/1 [==============================] - 0s 64ms/step - loss: 0.3123 - mse: 0.3123\n",
            "Epoch 2/10\n",
            "1/1 [==============================] - 0s 64ms/step - loss: 0.3123 - mse: 0.3123\n",
            "Epoch 3/10\n",
            "1/1 [==============================] - 0s 63ms/step - loss: 0.3123 - mse: 0.3123\n",
            "Epoch 4/10\n",
            "1/1 [==============================] - 0s 81ms/step - loss: 0.3123 - mse: 0.3123\n",
            "Epoch 5/10\n",
            "1/1 [==============================] - 0s 79ms/step - loss: 0.3122 - mse: 0.3122\n",
            "Epoch 6/10\n",
            "1/1 [==============================] - 0s 72ms/step - loss: 0.3122 - mse: 0.3122\n",
            "Epoch 7/10\n",
            "1/1 [==============================] - 0s 72ms/step - loss: 0.3123 - mse: 0.3123\n",
            "Epoch 8/10\n",
            "1/1 [==============================] - 0s 74ms/step - loss: 0.3123 - mse: 0.3123\n",
            "Epoch 9/10\n",
            "1/1 [==============================] - 0s 73ms/step - loss: 0.3123 - mse: 0.3123\n",
            "Epoch 10/10\n",
            "1/1 [==============================] - 0s 73ms/step - loss: 0.3122 - mse: 0.3122\n"
          ],
          "name": "stdout"
        },
        {
          "output_type": "stream",
          "text": [
            "\r 75%|███████▌  | 397/529 [06:28<02:12,  1.00s/it]"
          ],
          "name": "stderr"
        },
        {
          "output_type": "stream",
          "text": [
            "Epoch 1/10\n",
            "1/1 [==============================] - 0s 61ms/step - loss: 0.3088 - mse: 0.3088\n",
            "Epoch 2/10\n",
            "1/1 [==============================] - 0s 67ms/step - loss: 0.3088 - mse: 0.3088\n",
            "Epoch 3/10\n",
            "1/1 [==============================] - 0s 68ms/step - loss: 0.3087 - mse: 0.3087\n",
            "Epoch 4/10\n",
            "1/1 [==============================] - 0s 80ms/step - loss: 0.3087 - mse: 0.3087\n",
            "Epoch 5/10\n",
            "1/1 [==============================] - 0s 74ms/step - loss: 0.3087 - mse: 0.3087\n",
            "Epoch 6/10\n",
            "1/1 [==============================] - 0s 78ms/step - loss: 0.3087 - mse: 0.3087\n",
            "Epoch 7/10\n",
            "1/1 [==============================] - 0s 68ms/step - loss: 0.3087 - mse: 0.3087\n",
            "Epoch 8/10\n",
            "1/1 [==============================] - 0s 75ms/step - loss: 0.3088 - mse: 0.3088\n",
            "Epoch 9/10\n",
            "1/1 [==============================] - 0s 68ms/step - loss: 0.3088 - mse: 0.3088\n",
            "Epoch 10/10\n",
            "1/1 [==============================] - 0s 75ms/step - loss: 0.3087 - mse: 0.3087\n"
          ],
          "name": "stdout"
        },
        {
          "output_type": "stream",
          "text": [
            "\r 75%|███████▌  | 398/529 [06:29<02:11,  1.00s/it]"
          ],
          "name": "stderr"
        },
        {
          "output_type": "stream",
          "text": [
            "Epoch 1/10\n",
            "1/1 [==============================] - 0s 59ms/step - loss: 0.3098 - mse: 0.3098\n",
            "Epoch 2/10\n",
            "1/1 [==============================] - 0s 69ms/step - loss: 0.3098 - mse: 0.3098\n",
            "Epoch 3/10\n",
            "1/1 [==============================] - 0s 71ms/step - loss: 0.3098 - mse: 0.3098\n",
            "Epoch 4/10\n",
            "1/1 [==============================] - 0s 79ms/step - loss: 0.3098 - mse: 0.3098\n",
            "Epoch 5/10\n",
            "1/1 [==============================] - 0s 68ms/step - loss: 0.3098 - mse: 0.3098\n",
            "Epoch 6/10\n",
            "1/1 [==============================] - 0s 72ms/step - loss: 0.3098 - mse: 0.3098\n",
            "Epoch 7/10\n",
            "1/1 [==============================] - 0s 81ms/step - loss: 0.3098 - mse: 0.3098\n",
            "Epoch 8/10\n",
            "1/1 [==============================] - 0s 80ms/step - loss: 0.3098 - mse: 0.3098\n",
            "Epoch 9/10\n",
            "1/1 [==============================] - 0s 73ms/step - loss: 0.3098 - mse: 0.3098\n",
            "Epoch 10/10\n",
            "1/1 [==============================] - 0s 74ms/step - loss: 0.3098 - mse: 0.3098\n"
          ],
          "name": "stdout"
        },
        {
          "output_type": "stream",
          "text": [
            "\r 75%|███████▌  | 399/529 [06:30<02:10,  1.01s/it]"
          ],
          "name": "stderr"
        },
        {
          "output_type": "stream",
          "text": [
            "Epoch 1/10\n",
            "1/1 [==============================] - 0s 61ms/step - loss: 0.3081 - mse: 0.3081\n",
            "Epoch 2/10\n",
            "1/1 [==============================] - 0s 66ms/step - loss: 0.3081 - mse: 0.3081\n",
            "Epoch 3/10\n",
            "1/1 [==============================] - 0s 69ms/step - loss: 0.3081 - mse: 0.3081\n",
            "Epoch 4/10\n",
            "1/1 [==============================] - 0s 85ms/step - loss: 0.3081 - mse: 0.3081\n",
            "Epoch 5/10\n",
            "1/1 [==============================] - 0s 72ms/step - loss: 0.3081 - mse: 0.3081\n",
            "Epoch 6/10\n",
            "1/1 [==============================] - 0s 80ms/step - loss: 0.3081 - mse: 0.3081\n",
            "Epoch 7/10\n",
            "1/1 [==============================] - 0s 75ms/step - loss: 0.3081 - mse: 0.3081\n",
            "Epoch 8/10\n",
            "1/1 [==============================] - 0s 77ms/step - loss: 0.3081 - mse: 0.3081\n",
            "Epoch 9/10\n",
            "1/1 [==============================] - 0s 76ms/step - loss: 0.3081 - mse: 0.3081\n",
            "Epoch 10/10\n",
            "1/1 [==============================] - 0s 73ms/step - loss: 0.3081 - mse: 0.3081\n"
          ],
          "name": "stdout"
        },
        {
          "output_type": "stream",
          "text": [
            "\r 76%|███████▌  | 400/529 [06:31<02:10,  1.01s/it]"
          ],
          "name": "stderr"
        },
        {
          "output_type": "stream",
          "text": [
            "Epoch 1/10\n",
            "1/1 [==============================] - 0s 61ms/step - loss: 0.3078 - mse: 0.3078\n",
            "Epoch 2/10\n",
            "1/1 [==============================] - 0s 63ms/step - loss: 0.3077 - mse: 0.3077\n",
            "Epoch 3/10\n",
            "1/1 [==============================] - 0s 65ms/step - loss: 0.3077 - mse: 0.3077\n",
            "Epoch 4/10\n",
            "1/1 [==============================] - 0s 79ms/step - loss: 0.3077 - mse: 0.3077\n",
            "Epoch 5/10\n",
            "1/1 [==============================] - 0s 75ms/step - loss: 0.3077 - mse: 0.3077\n",
            "Epoch 6/10\n",
            "1/1 [==============================] - 0s 79ms/step - loss: 0.3077 - mse: 0.3077\n",
            "Epoch 7/10\n",
            "1/1 [==============================] - 0s 81ms/step - loss: 0.3077 - mse: 0.3077\n",
            "Epoch 8/10\n",
            "1/1 [==============================] - 0s 85ms/step - loss: 0.3077 - mse: 0.3077\n",
            "Epoch 9/10\n",
            "1/1 [==============================] - 0s 82ms/step - loss: 0.3077 - mse: 0.3077\n",
            "Epoch 10/10\n",
            "1/1 [==============================] - 0s 70ms/step - loss: 0.3077 - mse: 0.3077\n"
          ],
          "name": "stdout"
        },
        {
          "output_type": "stream",
          "text": [
            "\r 76%|███████▌  | 401/529 [06:32<02:09,  1.02s/it]"
          ],
          "name": "stderr"
        },
        {
          "output_type": "stream",
          "text": [
            "Epoch 1/10\n",
            "1/1 [==============================] - 0s 63ms/step - loss: 0.3017 - mse: 0.3017\n",
            "Epoch 2/10\n",
            "1/1 [==============================] - 0s 68ms/step - loss: 0.3016 - mse: 0.3016\n",
            "Epoch 3/10\n",
            "1/1 [==============================] - 0s 70ms/step - loss: 0.3016 - mse: 0.3016\n",
            "Epoch 4/10\n",
            "1/1 [==============================] - 0s 73ms/step - loss: 0.3016 - mse: 0.3016\n",
            "Epoch 5/10\n",
            "1/1 [==============================] - 0s 75ms/step - loss: 0.3016 - mse: 0.3016\n",
            "Epoch 6/10\n",
            "1/1 [==============================] - 0s 72ms/step - loss: 0.3016 - mse: 0.3016\n",
            "Epoch 7/10\n",
            "1/1 [==============================] - 0s 71ms/step - loss: 0.3016 - mse: 0.3016\n",
            "Epoch 8/10\n",
            "1/1 [==============================] - 0s 69ms/step - loss: 0.3016 - mse: 0.3016\n",
            "Epoch 9/10\n",
            "1/1 [==============================] - 0s 80ms/step - loss: 0.3016 - mse: 0.3016\n",
            "Epoch 10/10\n",
            "1/1 [==============================] - 0s 70ms/step - loss: 0.3016 - mse: 0.3016\n"
          ],
          "name": "stdout"
        },
        {
          "output_type": "stream",
          "text": [
            "\r 76%|███████▌  | 402/529 [06:33<02:09,  1.02s/it]"
          ],
          "name": "stderr"
        },
        {
          "output_type": "stream",
          "text": [
            "Epoch 1/10\n",
            "1/1 [==============================] - 0s 72ms/step - loss: 0.3011 - mse: 0.3011\n",
            "Epoch 2/10\n",
            "1/1 [==============================] - 0s 71ms/step - loss: 0.3011 - mse: 0.3011\n",
            "Epoch 3/10\n",
            "1/1 [==============================] - 0s 76ms/step - loss: 0.3010 - mse: 0.3010\n",
            "Epoch 4/10\n",
            "1/1 [==============================] - 0s 74ms/step - loss: 0.3010 - mse: 0.3010\n",
            "Epoch 5/10\n",
            "1/1 [==============================] - 0s 73ms/step - loss: 0.3010 - mse: 0.3010\n",
            "Epoch 6/10\n",
            "1/1 [==============================] - 0s 76ms/step - loss: 0.3010 - mse: 0.3010\n",
            "Epoch 7/10\n",
            "1/1 [==============================] - 0s 88ms/step - loss: 0.3010 - mse: 0.3010\n",
            "Epoch 8/10\n",
            "1/1 [==============================] - 0s 75ms/step - loss: 0.3010 - mse: 0.3010\n",
            "Epoch 9/10\n",
            "1/1 [==============================] - 0s 73ms/step - loss: 0.3010 - mse: 0.3010\n",
            "Epoch 10/10\n",
            "1/1 [==============================] - 0s 72ms/step - loss: 0.3010 - mse: 0.3010\n"
          ],
          "name": "stdout"
        },
        {
          "output_type": "stream",
          "text": [
            "\r 76%|███████▌  | 403/529 [06:34<02:09,  1.03s/it]"
          ],
          "name": "stderr"
        },
        {
          "output_type": "stream",
          "text": [
            "Epoch 1/10\n",
            "1/1 [==============================] - 0s 60ms/step - loss: 0.3083 - mse: 0.3083\n",
            "Epoch 2/10\n",
            "1/1 [==============================] - 0s 70ms/step - loss: 0.3082 - mse: 0.3082\n",
            "Epoch 3/10\n",
            "1/1 [==============================] - 0s 67ms/step - loss: 0.3081 - mse: 0.3081\n",
            "Epoch 4/10\n",
            "1/1 [==============================] - 0s 70ms/step - loss: 0.3082 - mse: 0.3082\n",
            "Epoch 5/10\n",
            "1/1 [==============================] - 0s 81ms/step - loss: 0.3081 - mse: 0.3081\n",
            "Epoch 6/10\n",
            "1/1 [==============================] - 0s 71ms/step - loss: 0.3081 - mse: 0.3081\n",
            "Epoch 7/10\n",
            "1/1 [==============================] - 0s 82ms/step - loss: 0.3081 - mse: 0.3081\n",
            "Epoch 8/10\n",
            "1/1 [==============================] - 0s 69ms/step - loss: 0.3082 - mse: 0.3082\n",
            "Epoch 9/10\n",
            "1/1 [==============================] - 0s 70ms/step - loss: 0.3081 - mse: 0.3081\n",
            "Epoch 10/10\n",
            "1/1 [==============================] - 0s 78ms/step - loss: 0.3081 - mse: 0.3081\n"
          ],
          "name": "stdout"
        },
        {
          "output_type": "stream",
          "text": [
            "\r 76%|███████▋  | 404/529 [06:36<02:14,  1.08s/it]"
          ],
          "name": "stderr"
        },
        {
          "output_type": "stream",
          "text": [
            "Epoch 1/10\n",
            "1/1 [==============================] - 0s 66ms/step - loss: 0.3013 - mse: 0.3013\n",
            "Epoch 2/10\n",
            "1/1 [==============================] - 0s 70ms/step - loss: 0.3012 - mse: 0.3012\n",
            "Epoch 3/10\n",
            "1/1 [==============================] - 0s 70ms/step - loss: 0.3011 - mse: 0.3011\n",
            "Epoch 4/10\n",
            "1/1 [==============================] - 0s 74ms/step - loss: 0.3011 - mse: 0.3011\n",
            "Epoch 5/10\n",
            "1/1 [==============================] - 0s 77ms/step - loss: 0.3012 - mse: 0.3012\n",
            "Epoch 6/10\n",
            "1/1 [==============================] - 0s 71ms/step - loss: 0.3011 - mse: 0.3011\n",
            "Epoch 7/10\n",
            "1/1 [==============================] - 0s 79ms/step - loss: 0.3011 - mse: 0.3011\n",
            "Epoch 8/10\n",
            "1/1 [==============================] - 0s 69ms/step - loss: 0.3011 - mse: 0.3011\n",
            "Epoch 9/10\n",
            "1/1 [==============================] - 0s 75ms/step - loss: 0.3012 - mse: 0.3012\n",
            "Epoch 10/10\n",
            "1/1 [==============================] - 0s 72ms/step - loss: 0.3011 - mse: 0.3011\n"
          ],
          "name": "stdout"
        },
        {
          "output_type": "stream",
          "text": [
            "\r 77%|███████▋  | 405/529 [06:36<02:10,  1.05s/it]"
          ],
          "name": "stderr"
        },
        {
          "output_type": "stream",
          "text": [
            "Epoch 1/10\n",
            "1/1 [==============================] - 0s 65ms/step - loss: 0.3069 - mse: 0.3069\n",
            "Epoch 2/10\n",
            "1/1 [==============================] - 0s 69ms/step - loss: 0.3069 - mse: 0.3069\n",
            "Epoch 3/10\n",
            "1/1 [==============================] - 0s 70ms/step - loss: 0.3068 - mse: 0.3068\n",
            "Epoch 4/10\n",
            "1/1 [==============================] - 0s 73ms/step - loss: 0.3068 - mse: 0.3068\n",
            "Epoch 5/10\n",
            "1/1 [==============================] - 0s 78ms/step - loss: 0.3069 - mse: 0.3069\n",
            "Epoch 6/10\n",
            "1/1 [==============================] - 0s 76ms/step - loss: 0.3069 - mse: 0.3069\n",
            "Epoch 7/10\n",
            "1/1 [==============================] - 0s 70ms/step - loss: 0.3068 - mse: 0.3068\n",
            "Epoch 8/10\n",
            "1/1 [==============================] - 0s 72ms/step - loss: 0.3068 - mse: 0.3068\n",
            "Epoch 9/10\n",
            "1/1 [==============================] - 0s 77ms/step - loss: 0.3069 - mse: 0.3069\n",
            "Epoch 10/10\n",
            "1/1 [==============================] - 0s 69ms/step - loss: 0.3068 - mse: 0.3068\n"
          ],
          "name": "stdout"
        },
        {
          "output_type": "stream",
          "text": [
            "\r 77%|███████▋  | 406/529 [06:37<02:06,  1.03s/it]"
          ],
          "name": "stderr"
        },
        {
          "output_type": "stream",
          "text": [
            "Epoch 1/10\n",
            "1/1 [==============================] - 0s 58ms/step - loss: 0.3103 - mse: 0.3103\n",
            "Epoch 2/10\n",
            "1/1 [==============================] - 0s 74ms/step - loss: 0.3103 - mse: 0.3103\n",
            "Epoch 3/10\n",
            "1/1 [==============================] - 0s 68ms/step - loss: 0.3103 - mse: 0.3103\n",
            "Epoch 4/10\n",
            "1/1 [==============================] - 0s 71ms/step - loss: 0.3103 - mse: 0.3103\n",
            "Epoch 5/10\n",
            "1/1 [==============================] - 0s 71ms/step - loss: 0.3103 - mse: 0.3103\n",
            "Epoch 6/10\n",
            "1/1 [==============================] - 0s 70ms/step - loss: 0.3103 - mse: 0.3103\n",
            "Epoch 7/10\n",
            "1/1 [==============================] - 0s 105ms/step - loss: 0.3103 - mse: 0.3103\n",
            "Epoch 8/10\n",
            "1/1 [==============================] - 0s 69ms/step - loss: 0.3103 - mse: 0.3103\n",
            "Epoch 9/10\n",
            "1/1 [==============================] - 0s 67ms/step - loss: 0.3103 - mse: 0.3103\n",
            "Epoch 10/10\n",
            "1/1 [==============================] - 0s 75ms/step - loss: 0.3103 - mse: 0.3103\n"
          ],
          "name": "stdout"
        },
        {
          "output_type": "stream",
          "text": [
            "\r 77%|███████▋  | 407/529 [06:38<02:05,  1.03s/it]"
          ],
          "name": "stderr"
        },
        {
          "output_type": "stream",
          "text": [
            "Epoch 1/10\n",
            "1/1 [==============================] - 0s 65ms/step - loss: 0.3086 - mse: 0.3086\n",
            "Epoch 2/10\n",
            "1/1 [==============================] - 0s 64ms/step - loss: 0.3085 - mse: 0.3085\n",
            "Epoch 3/10\n",
            "1/1 [==============================] - 0s 64ms/step - loss: 0.3085 - mse: 0.3085\n",
            "Epoch 4/10\n",
            "1/1 [==============================] - 0s 70ms/step - loss: 0.3085 - mse: 0.3085\n",
            "Epoch 5/10\n",
            "1/1 [==============================] - 0s 72ms/step - loss: 0.3085 - mse: 0.3085\n",
            "Epoch 6/10\n",
            "1/1 [==============================] - 0s 74ms/step - loss: 0.3085 - mse: 0.3085\n",
            "Epoch 7/10\n",
            "1/1 [==============================] - 0s 82ms/step - loss: 0.3085 - mse: 0.3085\n",
            "Epoch 8/10\n",
            "1/1 [==============================] - 0s 68ms/step - loss: 0.3085 - mse: 0.3085\n",
            "Epoch 9/10\n",
            "1/1 [==============================] - 0s 72ms/step - loss: 0.3085 - mse: 0.3085\n",
            "Epoch 10/10\n",
            "1/1 [==============================] - 0s 72ms/step - loss: 0.3085 - mse: 0.3085\n"
          ],
          "name": "stdout"
        },
        {
          "output_type": "stream",
          "text": [
            "\r 77%|███████▋  | 408/529 [06:39<02:01,  1.00s/it]"
          ],
          "name": "stderr"
        },
        {
          "output_type": "stream",
          "text": [
            "Epoch 1/10\n",
            "1/1 [==============================] - 0s 64ms/step - loss: 0.2999 - mse: 0.2999\n",
            "Epoch 2/10\n",
            "1/1 [==============================] - 0s 69ms/step - loss: 0.2998 - mse: 0.2998\n",
            "Epoch 3/10\n",
            "1/1 [==============================] - 0s 72ms/step - loss: 0.2999 - mse: 0.2999\n",
            "Epoch 4/10\n",
            "1/1 [==============================] - 0s 71ms/step - loss: 0.2999 - mse: 0.2999\n",
            "Epoch 5/10\n",
            "1/1 [==============================] - 0s 70ms/step - loss: 0.2999 - mse: 0.2999\n",
            "Epoch 6/10\n",
            "1/1 [==============================] - 0s 74ms/step - loss: 0.2998 - mse: 0.2998\n",
            "Epoch 7/10\n",
            "1/1 [==============================] - 0s 67ms/step - loss: 0.2999 - mse: 0.2999\n",
            "Epoch 8/10\n",
            "1/1 [==============================] - 0s 74ms/step - loss: 0.2999 - mse: 0.2999\n",
            "Epoch 9/10\n",
            "1/1 [==============================] - 0s 75ms/step - loss: 0.2998 - mse: 0.2998\n",
            "Epoch 10/10\n",
            "1/1 [==============================] - 0s 71ms/step - loss: 0.2998 - mse: 0.2998\n"
          ],
          "name": "stdout"
        },
        {
          "output_type": "stream",
          "text": [
            "\r 77%|███████▋  | 409/529 [06:40<02:00,  1.00s/it]"
          ],
          "name": "stderr"
        },
        {
          "output_type": "stream",
          "text": [
            "Epoch 1/10\n",
            "1/1 [==============================] - 0s 60ms/step - loss: 0.3073 - mse: 0.3073\n",
            "Epoch 2/10\n",
            "1/1 [==============================] - 0s 64ms/step - loss: 0.3072 - mse: 0.3072\n",
            "Epoch 3/10\n",
            "1/1 [==============================] - 0s 69ms/step - loss: 0.3070 - mse: 0.3070\n",
            "Epoch 4/10\n",
            "1/1 [==============================] - 0s 69ms/step - loss: 0.3071 - mse: 0.3071\n",
            "Epoch 5/10\n",
            "1/1 [==============================] - 0s 79ms/step - loss: 0.3072 - mse: 0.3072\n",
            "Epoch 6/10\n",
            "1/1 [==============================] - 0s 75ms/step - loss: 0.3071 - mse: 0.3071\n",
            "Epoch 7/10\n",
            "1/1 [==============================] - 0s 74ms/step - loss: 0.3070 - mse: 0.3070\n",
            "Epoch 8/10\n",
            "1/1 [==============================] - 0s 69ms/step - loss: 0.3071 - mse: 0.3071\n",
            "Epoch 9/10\n",
            "1/1 [==============================] - 0s 69ms/step - loss: 0.3071 - mse: 0.3071\n",
            "Epoch 10/10\n",
            "1/1 [==============================] - 0s 69ms/step - loss: 0.3070 - mse: 0.3070\n"
          ],
          "name": "stdout"
        },
        {
          "output_type": "stream",
          "text": [
            "\r 78%|███████▊  | 410/529 [06:41<01:58,  1.01it/s]"
          ],
          "name": "stderr"
        },
        {
          "output_type": "stream",
          "text": [
            "Epoch 1/10\n",
            "1/1 [==============================] - 0s 65ms/step - loss: 0.3077 - mse: 0.3077\n",
            "Epoch 2/10\n",
            "1/1 [==============================] - 0s 70ms/step - loss: 0.3077 - mse: 0.3077\n",
            "Epoch 3/10\n",
            "1/1 [==============================] - 0s 76ms/step - loss: 0.3077 - mse: 0.3077\n",
            "Epoch 4/10\n",
            "1/1 [==============================] - 0s 74ms/step - loss: 0.3077 - mse: 0.3077\n",
            "Epoch 5/10\n",
            "1/1 [==============================] - 0s 74ms/step - loss: 0.3077 - mse: 0.3077\n",
            "Epoch 6/10\n",
            "1/1 [==============================] - 0s 75ms/step - loss: 0.3077 - mse: 0.3077\n",
            "Epoch 7/10\n",
            "1/1 [==============================] - 0s 75ms/step - loss: 0.3077 - mse: 0.3077\n",
            "Epoch 8/10\n",
            "1/1 [==============================] - 0s 73ms/step - loss: 0.3077 - mse: 0.3077\n",
            "Epoch 9/10\n",
            "1/1 [==============================] - 0s 68ms/step - loss: 0.3077 - mse: 0.3077\n",
            "Epoch 10/10\n",
            "1/1 [==============================] - 0s 74ms/step - loss: 0.3077 - mse: 0.3077\n"
          ],
          "name": "stdout"
        },
        {
          "output_type": "stream",
          "text": [
            "\r 78%|███████▊  | 411/529 [06:42<01:57,  1.01it/s]"
          ],
          "name": "stderr"
        },
        {
          "output_type": "stream",
          "text": [
            "Epoch 1/10\n",
            "1/1 [==============================] - 0s 68ms/step - loss: 0.3094 - mse: 0.3094\n",
            "Epoch 2/10\n",
            "1/1 [==============================] - 0s 67ms/step - loss: 0.3094 - mse: 0.3094\n",
            "Epoch 3/10\n",
            "1/1 [==============================] - 0s 71ms/step - loss: 0.3094 - mse: 0.3094\n",
            "Epoch 4/10\n",
            "1/1 [==============================] - 0s 75ms/step - loss: 0.3094 - mse: 0.3094\n",
            "Epoch 5/10\n",
            "1/1 [==============================] - 0s 73ms/step - loss: 0.3094 - mse: 0.3094\n",
            "Epoch 6/10\n",
            "1/1 [==============================] - 0s 73ms/step - loss: 0.3094 - mse: 0.3094\n",
            "Epoch 7/10\n",
            "1/1 [==============================] - 0s 69ms/step - loss: 0.3094 - mse: 0.3094\n",
            "Epoch 8/10\n",
            "1/1 [==============================] - 0s 70ms/step - loss: 0.3094 - mse: 0.3094\n",
            "Epoch 9/10\n",
            "1/1 [==============================] - 0s 73ms/step - loss: 0.3094 - mse: 0.3094\n",
            "Epoch 10/10\n",
            "1/1 [==============================] - 0s 80ms/step - loss: 0.3094 - mse: 0.3094\n"
          ],
          "name": "stdout"
        },
        {
          "output_type": "stream",
          "text": [
            "\r 78%|███████▊  | 412/529 [06:43<01:56,  1.00it/s]"
          ],
          "name": "stderr"
        },
        {
          "output_type": "stream",
          "text": [
            "Epoch 1/10\n",
            "1/1 [==============================] - 0s 67ms/step - loss: 0.3113 - mse: 0.3113\n",
            "Epoch 2/10\n",
            "1/1 [==============================] - 0s 65ms/step - loss: 0.3113 - mse: 0.3113\n",
            "Epoch 3/10\n",
            "1/1 [==============================] - 0s 78ms/step - loss: 0.3113 - mse: 0.3113\n",
            "Epoch 4/10\n",
            "1/1 [==============================] - 0s 75ms/step - loss: 0.3113 - mse: 0.3113\n",
            "Epoch 5/10\n",
            "1/1 [==============================] - 0s 68ms/step - loss: 0.3113 - mse: 0.3113\n",
            "Epoch 6/10\n",
            "1/1 [==============================] - 0s 80ms/step - loss: 0.3113 - mse: 0.3113\n",
            "Epoch 7/10\n",
            "1/1 [==============================] - 0s 71ms/step - loss: 0.3113 - mse: 0.3113\n",
            "Epoch 8/10\n",
            "1/1 [==============================] - 0s 70ms/step - loss: 0.3113 - mse: 0.3113\n",
            "Epoch 9/10\n",
            "1/1 [==============================] - 0s 73ms/step - loss: 0.3113 - mse: 0.3113\n",
            "Epoch 10/10\n",
            "1/1 [==============================] - 0s 72ms/step - loss: 0.3113 - mse: 0.3113\n"
          ],
          "name": "stdout"
        },
        {
          "output_type": "stream",
          "text": [
            "\r 78%|███████▊  | 413/529 [06:44<01:55,  1.00it/s]"
          ],
          "name": "stderr"
        },
        {
          "output_type": "stream",
          "text": [
            "Epoch 1/10\n",
            "1/1 [==============================] - 0s 65ms/step - loss: 0.3077 - mse: 0.3077\n",
            "Epoch 2/10\n",
            "1/1 [==============================] - 0s 68ms/step - loss: 0.3077 - mse: 0.3077\n",
            "Epoch 3/10\n",
            "1/1 [==============================] - 0s 75ms/step - loss: 0.3076 - mse: 0.3076\n",
            "Epoch 4/10\n",
            "1/1 [==============================] - 0s 69ms/step - loss: 0.3076 - mse: 0.3076\n",
            "Epoch 5/10\n",
            "1/1 [==============================] - 0s 75ms/step - loss: 0.3077 - mse: 0.3077\n",
            "Epoch 6/10\n",
            "1/1 [==============================] - 0s 69ms/step - loss: 0.3076 - mse: 0.3076\n",
            "Epoch 7/10\n",
            "1/1 [==============================] - 0s 71ms/step - loss: 0.3076 - mse: 0.3076\n",
            "Epoch 8/10\n",
            "1/1 [==============================] - 0s 78ms/step - loss: 0.3077 - mse: 0.3077\n",
            "Epoch 9/10\n",
            "1/1 [==============================] - 0s 84ms/step - loss: 0.3077 - mse: 0.3077\n",
            "Epoch 10/10\n",
            "1/1 [==============================] - 0s 77ms/step - loss: 0.3076 - mse: 0.3076\n"
          ],
          "name": "stdout"
        },
        {
          "output_type": "stream",
          "text": [
            "\r 78%|███████▊  | 414/529 [06:45<01:54,  1.00it/s]"
          ],
          "name": "stderr"
        },
        {
          "output_type": "stream",
          "text": [
            "Epoch 1/10\n",
            "1/1 [==============================] - 0s 64ms/step - loss: 0.3088 - mse: 0.3088\n",
            "Epoch 2/10\n",
            "1/1 [==============================] - 0s 76ms/step - loss: 0.3088 - mse: 0.3088\n",
            "Epoch 3/10\n",
            "1/1 [==============================] - 0s 64ms/step - loss: 0.3087 - mse: 0.3087\n",
            "Epoch 4/10\n",
            "1/1 [==============================] - 0s 83ms/step - loss: 0.3087 - mse: 0.3087\n",
            "Epoch 5/10\n",
            "1/1 [==============================] - 0s 74ms/step - loss: 0.3087 - mse: 0.3087\n",
            "Epoch 6/10\n",
            "1/1 [==============================] - 0s 73ms/step - loss: 0.3087 - mse: 0.3087\n",
            "Epoch 7/10\n",
            "1/1 [==============================] - 0s 71ms/step - loss: 0.3087 - mse: 0.3087\n",
            "Epoch 8/10\n",
            "1/1 [==============================] - 0s 71ms/step - loss: 0.3087 - mse: 0.3087\n",
            "Epoch 9/10\n",
            "1/1 [==============================] - 0s 70ms/step - loss: 0.3087 - mse: 0.3087\n",
            "Epoch 10/10\n",
            "1/1 [==============================] - 0s 80ms/step - loss: 0.3087 - mse: 0.3087\n"
          ],
          "name": "stdout"
        },
        {
          "output_type": "stream",
          "text": [
            "\r 78%|███████▊  | 415/529 [06:46<01:54,  1.00s/it]"
          ],
          "name": "stderr"
        },
        {
          "output_type": "stream",
          "text": [
            "Epoch 1/10\n",
            "1/1 [==============================] - 0s 62ms/step - loss: 0.3041 - mse: 0.3041\n",
            "Epoch 2/10\n",
            "1/1 [==============================] - 0s 67ms/step - loss: 0.3040 - mse: 0.3040\n",
            "Epoch 3/10\n",
            "1/1 [==============================] - 0s 66ms/step - loss: 0.3040 - mse: 0.3040\n",
            "Epoch 4/10\n",
            "1/1 [==============================] - 0s 75ms/step - loss: 0.3040 - mse: 0.3040\n",
            "Epoch 5/10\n",
            "1/1 [==============================] - 0s 74ms/step - loss: 0.3040 - mse: 0.3040\n",
            "Epoch 6/10\n",
            "1/1 [==============================] - 0s 72ms/step - loss: 0.3040 - mse: 0.3040\n",
            "Epoch 7/10\n",
            "1/1 [==============================] - 0s 74ms/step - loss: 0.3040 - mse: 0.3040\n",
            "Epoch 8/10\n",
            "1/1 [==============================] - 0s 71ms/step - loss: 0.3040 - mse: 0.3040\n",
            "Epoch 9/10\n",
            "1/1 [==============================] - 0s 67ms/step - loss: 0.3040 - mse: 0.3040\n",
            "Epoch 10/10\n",
            "1/1 [==============================] - 0s 70ms/step - loss: 0.3040 - mse: 0.3040\n"
          ],
          "name": "stdout"
        },
        {
          "output_type": "stream",
          "text": [
            "\r 79%|███████▊  | 416/529 [06:47<01:51,  1.01it/s]"
          ],
          "name": "stderr"
        },
        {
          "output_type": "stream",
          "text": [
            "Epoch 1/10\n",
            "1/1 [==============================] - 0s 67ms/step - loss: 0.3027 - mse: 0.3027\n",
            "Epoch 2/10\n",
            "1/1 [==============================] - 0s 79ms/step - loss: 0.3027 - mse: 0.3027\n",
            "Epoch 3/10\n",
            "1/1 [==============================] - 0s 69ms/step - loss: 0.3027 - mse: 0.3027\n",
            "Epoch 4/10\n",
            "1/1 [==============================] - 0s 78ms/step - loss: 0.3027 - mse: 0.3027\n",
            "Epoch 5/10\n",
            "1/1 [==============================] - 0s 73ms/step - loss: 0.3027 - mse: 0.3027\n",
            "Epoch 6/10\n",
            "1/1 [==============================] - 0s 70ms/step - loss: 0.3027 - mse: 0.3027\n",
            "Epoch 7/10\n",
            "1/1 [==============================] - 0s 65ms/step - loss: 0.3027 - mse: 0.3027\n",
            "Epoch 8/10\n",
            "1/1 [==============================] - 0s 64ms/step - loss: 0.3027 - mse: 0.3027\n",
            "Epoch 9/10\n",
            "1/1 [==============================] - 0s 71ms/step - loss: 0.3027 - mse: 0.3027\n",
            "Epoch 10/10\n",
            "1/1 [==============================] - 0s 72ms/step - loss: 0.3027 - mse: 0.3027\n"
          ],
          "name": "stdout"
        },
        {
          "output_type": "stream",
          "text": [
            "\r 79%|███████▉  | 417/529 [06:48<01:50,  1.02it/s]"
          ],
          "name": "stderr"
        },
        {
          "output_type": "stream",
          "text": [
            "Epoch 1/10\n",
            "1/1 [==============================] - 0s 66ms/step - loss: 0.3073 - mse: 0.3073\n",
            "Epoch 2/10\n",
            "1/1 [==============================] - 0s 71ms/step - loss: 0.3072 - mse: 0.3072\n",
            "Epoch 3/10\n",
            "1/1 [==============================] - 0s 62ms/step - loss: 0.3072 - mse: 0.3072\n",
            "Epoch 4/10\n",
            "1/1 [==============================] - 0s 74ms/step - loss: 0.3072 - mse: 0.3072\n",
            "Epoch 5/10\n",
            "1/1 [==============================] - 0s 76ms/step - loss: 0.3072 - mse: 0.3072\n",
            "Epoch 6/10\n",
            "1/1 [==============================] - 0s 72ms/step - loss: 0.3072 - mse: 0.3072\n",
            "Epoch 7/10\n",
            "1/1 [==============================] - 0s 81ms/step - loss: 0.3072 - mse: 0.3072\n",
            "Epoch 8/10\n",
            "1/1 [==============================] - 0s 74ms/step - loss: 0.3072 - mse: 0.3072\n",
            "Epoch 9/10\n",
            "1/1 [==============================] - 0s 70ms/step - loss: 0.3072 - mse: 0.3072\n",
            "Epoch 10/10\n",
            "1/1 [==============================] - 0s 76ms/step - loss: 0.3072 - mse: 0.3072\n"
          ],
          "name": "stdout"
        },
        {
          "output_type": "stream",
          "text": [
            "\r 79%|███████▉  | 418/529 [06:49<01:49,  1.02it/s]"
          ],
          "name": "stderr"
        },
        {
          "output_type": "stream",
          "text": [
            "Epoch 1/10\n",
            "1/1 [==============================] - 0s 77ms/step - loss: 0.3062 - mse: 0.3062\n",
            "Epoch 2/10\n",
            "1/1 [==============================] - 0s 76ms/step - loss: 0.3062 - mse: 0.3062\n",
            "Epoch 3/10\n",
            "1/1 [==============================] - 0s 72ms/step - loss: 0.3062 - mse: 0.3062\n",
            "Epoch 4/10\n",
            "1/1 [==============================] - 0s 74ms/step - loss: 0.3062 - mse: 0.3062\n",
            "Epoch 5/10\n",
            "1/1 [==============================] - 0s 81ms/step - loss: 0.3062 - mse: 0.3062\n",
            "Epoch 6/10\n",
            "1/1 [==============================] - 0s 75ms/step - loss: 0.3062 - mse: 0.3062\n",
            "Epoch 7/10\n",
            "1/1 [==============================] - 0s 72ms/step - loss: 0.3062 - mse: 0.3062\n",
            "Epoch 8/10\n",
            "1/1 [==============================] - 0s 74ms/step - loss: 0.3062 - mse: 0.3062\n",
            "Epoch 9/10\n",
            "1/1 [==============================] - 0s 76ms/step - loss: 0.3062 - mse: 0.3062\n",
            "Epoch 10/10\n",
            "1/1 [==============================] - 0s 70ms/step - loss: 0.3062 - mse: 0.3062\n"
          ],
          "name": "stdout"
        },
        {
          "output_type": "stream",
          "text": [
            "\r 79%|███████▉  | 419/529 [06:50<01:50,  1.00s/it]"
          ],
          "name": "stderr"
        },
        {
          "output_type": "stream",
          "text": [
            "Epoch 1/10\n",
            "1/1 [==============================] - 0s 60ms/step - loss: 0.3064 - mse: 0.3064\n",
            "Epoch 2/10\n",
            "1/1 [==============================] - 0s 66ms/step - loss: 0.3064 - mse: 0.3064\n",
            "Epoch 3/10\n",
            "1/1 [==============================] - 0s 71ms/step - loss: 0.3064 - mse: 0.3064\n",
            "Epoch 4/10\n",
            "1/1 [==============================] - 0s 72ms/step - loss: 0.3064 - mse: 0.3064\n",
            "Epoch 5/10\n",
            "1/1 [==============================] - 0s 85ms/step - loss: 0.3064 - mse: 0.3064\n",
            "Epoch 6/10\n",
            "1/1 [==============================] - 0s 73ms/step - loss: 0.3064 - mse: 0.3064\n",
            "Epoch 7/10\n",
            "1/1 [==============================] - 0s 71ms/step - loss: 0.3064 - mse: 0.3064\n",
            "Epoch 8/10\n",
            "1/1 [==============================] - 0s 63ms/step - loss: 0.3064 - mse: 0.3064\n",
            "Epoch 9/10\n",
            "1/1 [==============================] - 0s 67ms/step - loss: 0.3064 - mse: 0.3064\n",
            "Epoch 10/10\n",
            "1/1 [==============================] - 0s 76ms/step - loss: 0.3064 - mse: 0.3064\n"
          ],
          "name": "stdout"
        },
        {
          "output_type": "stream",
          "text": [
            "\r 79%|███████▉  | 420/529 [06:51<01:48,  1.00it/s]"
          ],
          "name": "stderr"
        },
        {
          "output_type": "stream",
          "text": [
            "Epoch 1/10\n",
            "1/1 [==============================] - 0s 64ms/step - loss: 0.3073 - mse: 0.3073\n",
            "Epoch 2/10\n",
            "1/1 [==============================] - 0s 69ms/step - loss: 0.3073 - mse: 0.3073\n",
            "Epoch 3/10\n",
            "1/1 [==============================] - 0s 65ms/step - loss: 0.3073 - mse: 0.3073\n",
            "Epoch 4/10\n",
            "1/1 [==============================] - 0s 73ms/step - loss: 0.3073 - mse: 0.3073\n",
            "Epoch 5/10\n",
            "1/1 [==============================] - 0s 86ms/step - loss: 0.3073 - mse: 0.3073\n",
            "Epoch 6/10\n",
            "1/1 [==============================] - 0s 85ms/step - loss: 0.3073 - mse: 0.3073\n",
            "Epoch 7/10\n",
            "1/1 [==============================] - 0s 80ms/step - loss: 0.3073 - mse: 0.3073\n",
            "Epoch 8/10\n",
            "1/1 [==============================] - 0s 80ms/step - loss: 0.3073 - mse: 0.3073\n",
            "Epoch 9/10\n",
            "1/1 [==============================] - 0s 77ms/step - loss: 0.3073 - mse: 0.3073\n",
            "Epoch 10/10\n",
            "1/1 [==============================] - 0s 75ms/step - loss: 0.3073 - mse: 0.3073\n"
          ],
          "name": "stdout"
        },
        {
          "output_type": "stream",
          "text": [
            "\r 80%|███████▉  | 421/529 [06:52<01:48,  1.00s/it]"
          ],
          "name": "stderr"
        },
        {
          "output_type": "stream",
          "text": [
            "Epoch 1/10\n",
            "1/1 [==============================] - 0s 69ms/step - loss: 0.3056 - mse: 0.3056\n",
            "Epoch 2/10\n",
            "1/1 [==============================] - 0s 65ms/step - loss: 0.3056 - mse: 0.3056\n",
            "Epoch 3/10\n",
            "1/1 [==============================] - 0s 75ms/step - loss: 0.3056 - mse: 0.3056\n",
            "Epoch 4/10\n",
            "1/1 [==============================] - 0s 75ms/step - loss: 0.3056 - mse: 0.3056\n",
            "Epoch 5/10\n",
            "1/1 [==============================] - 0s 82ms/step - loss: 0.3056 - mse: 0.3056\n",
            "Epoch 6/10\n",
            "1/1 [==============================] - 0s 77ms/step - loss: 0.3056 - mse: 0.3056\n",
            "Epoch 7/10\n",
            "1/1 [==============================] - 0s 78ms/step - loss: 0.3056 - mse: 0.3056\n",
            "Epoch 8/10\n",
            "1/1 [==============================] - 0s 76ms/step - loss: 0.3056 - mse: 0.3056\n",
            "Epoch 9/10\n",
            "1/1 [==============================] - 0s 81ms/step - loss: 0.3056 - mse: 0.3056\n",
            "Epoch 10/10\n",
            "1/1 [==============================] - 0s 74ms/step - loss: 0.3056 - mse: 0.3056\n"
          ],
          "name": "stdout"
        },
        {
          "output_type": "stream",
          "text": [
            "\r 80%|███████▉  | 422/529 [06:53<01:47,  1.01s/it]"
          ],
          "name": "stderr"
        },
        {
          "output_type": "stream",
          "text": [
            "Epoch 1/10\n",
            "1/1 [==============================] - 0s 67ms/step - loss: 0.2934 - mse: 0.2934\n",
            "Epoch 2/10\n",
            "1/1 [==============================] - 0s 66ms/step - loss: 0.2932 - mse: 0.2932\n",
            "Epoch 3/10\n",
            "1/1 [==============================] - 0s 69ms/step - loss: 0.2932 - mse: 0.2932\n",
            "Epoch 4/10\n",
            "1/1 [==============================] - 0s 72ms/step - loss: 0.2933 - mse: 0.2933\n",
            "Epoch 5/10\n",
            "1/1 [==============================] - 0s 79ms/step - loss: 0.2932 - mse: 0.2932\n",
            "Epoch 6/10\n",
            "1/1 [==============================] - 0s 78ms/step - loss: 0.2931 - mse: 0.2931\n",
            "Epoch 7/10\n",
            "1/1 [==============================] - 0s 73ms/step - loss: 0.2932 - mse: 0.2932\n",
            "Epoch 8/10\n",
            "1/1 [==============================] - 0s 74ms/step - loss: 0.2933 - mse: 0.2933\n",
            "Epoch 9/10\n",
            "1/1 [==============================] - 0s 71ms/step - loss: 0.2932 - mse: 0.2932\n",
            "Epoch 10/10\n",
            "1/1 [==============================] - 0s 72ms/step - loss: 0.2931 - mse: 0.2931\n"
          ],
          "name": "stdout"
        },
        {
          "output_type": "stream",
          "text": [
            "\r 80%|███████▉  | 423/529 [06:54<01:46,  1.00s/it]"
          ],
          "name": "stderr"
        },
        {
          "output_type": "stream",
          "text": [
            "Epoch 1/10\n",
            "1/1 [==============================] - 0s 63ms/step - loss: 0.3113 - mse: 0.3113\n",
            "Epoch 2/10\n",
            "1/1 [==============================] - 0s 77ms/step - loss: 0.3105 - mse: 0.3105\n",
            "Epoch 3/10\n",
            "1/1 [==============================] - 0s 65ms/step - loss: 0.3101 - mse: 0.3101\n",
            "Epoch 4/10\n",
            "1/1 [==============================] - 0s 80ms/step - loss: 0.3106 - mse: 0.3106\n",
            "Epoch 5/10\n",
            "1/1 [==============================] - 0s 74ms/step - loss: 0.3106 - mse: 0.3106\n",
            "Epoch 6/10\n",
            "1/1 [==============================] - 0s 70ms/step - loss: 0.3101 - mse: 0.3101\n",
            "Epoch 7/10\n",
            "1/1 [==============================] - 0s 72ms/step - loss: 0.3102 - mse: 0.3102\n",
            "Epoch 8/10\n",
            "1/1 [==============================] - 0s 69ms/step - loss: 0.3106 - mse: 0.3106\n",
            "Epoch 9/10\n",
            "1/1 [==============================] - 0s 82ms/step - loss: 0.3104 - mse: 0.3104\n",
            "Epoch 10/10\n",
            "1/1 [==============================] - 0s 82ms/step - loss: 0.3101 - mse: 0.3101\n"
          ],
          "name": "stdout"
        },
        {
          "output_type": "stream",
          "text": [
            "\r 80%|████████  | 424/529 [06:55<01:46,  1.01s/it]"
          ],
          "name": "stderr"
        },
        {
          "output_type": "stream",
          "text": [
            "Epoch 1/10\n",
            "1/1 [==============================] - 0s 63ms/step - loss: 0.3060 - mse: 0.3060\n",
            "Epoch 2/10\n",
            "1/1 [==============================] - 0s 67ms/step - loss: 0.3060 - mse: 0.3060\n",
            "Epoch 3/10\n",
            "1/1 [==============================] - 0s 66ms/step - loss: 0.3057 - mse: 0.3057\n",
            "Epoch 4/10\n",
            "1/1 [==============================] - 0s 78ms/step - loss: 0.3056 - mse: 0.3056\n",
            "Epoch 5/10\n",
            "1/1 [==============================] - 0s 79ms/step - loss: 0.3059 - mse: 0.3059\n",
            "Epoch 6/10\n",
            "1/1 [==============================] - 0s 72ms/step - loss: 0.3058 - mse: 0.3058\n",
            "Epoch 7/10\n",
            "1/1 [==============================] - 0s 77ms/step - loss: 0.3056 - mse: 0.3056\n",
            "Epoch 8/10\n",
            "1/1 [==============================] - 0s 73ms/step - loss: 0.3057 - mse: 0.3057\n",
            "Epoch 9/10\n",
            "1/1 [==============================] - 0s 69ms/step - loss: 0.3058 - mse: 0.3058\n",
            "Epoch 10/10\n",
            "1/1 [==============================] - 0s 75ms/step - loss: 0.3057 - mse: 0.3057\n"
          ],
          "name": "stdout"
        },
        {
          "output_type": "stream",
          "text": [
            "\r 80%|████████  | 425/529 [06:56<01:44,  1.00s/it]"
          ],
          "name": "stderr"
        },
        {
          "output_type": "stream",
          "text": [
            "Epoch 1/10\n",
            "1/1 [==============================] - 0s 70ms/step - loss: 0.3093 - mse: 0.3093\n",
            "Epoch 2/10\n",
            "1/1 [==============================] - 0s 67ms/step - loss: 0.3094 - mse: 0.3094\n",
            "Epoch 3/10\n",
            "1/1 [==============================] - 0s 83ms/step - loss: 0.3093 - mse: 0.3093\n",
            "Epoch 4/10\n",
            "1/1 [==============================] - 0s 67ms/step - loss: 0.3093 - mse: 0.3093\n",
            "Epoch 5/10\n",
            "1/1 [==============================] - 0s 78ms/step - loss: 0.3093 - mse: 0.3093\n",
            "Epoch 6/10\n",
            "1/1 [==============================] - 0s 76ms/step - loss: 0.3094 - mse: 0.3094\n",
            "Epoch 7/10\n",
            "1/1 [==============================] - 0s 69ms/step - loss: 0.3093 - mse: 0.3093\n",
            "Epoch 8/10\n",
            "1/1 [==============================] - 0s 72ms/step - loss: 0.3093 - mse: 0.3093\n",
            "Epoch 9/10\n",
            "1/1 [==============================] - 0s 76ms/step - loss: 0.3093 - mse: 0.3093\n",
            "Epoch 10/10\n",
            "1/1 [==============================] - 0s 75ms/step - loss: 0.3093 - mse: 0.3093\n"
          ],
          "name": "stdout"
        },
        {
          "output_type": "stream",
          "text": [
            "\r 81%|████████  | 426/529 [06:57<01:43,  1.01s/it]"
          ],
          "name": "stderr"
        },
        {
          "output_type": "stream",
          "text": [
            "Epoch 1/10\n",
            "1/1 [==============================] - 0s 59ms/step - loss: 0.3166 - mse: 0.3166\n",
            "Epoch 2/10\n",
            "1/1 [==============================] - 0s 67ms/step - loss: 0.3164 - mse: 0.3164\n",
            "Epoch 3/10\n",
            "1/1 [==============================] - 0s 68ms/step - loss: 0.3165 - mse: 0.3165\n",
            "Epoch 4/10\n",
            "1/1 [==============================] - 0s 71ms/step - loss: 0.3166 - mse: 0.3166\n",
            "Epoch 5/10\n",
            "1/1 [==============================] - 0s 67ms/step - loss: 0.3165 - mse: 0.3165\n",
            "Epoch 6/10\n",
            "1/1 [==============================] - 0s 78ms/step - loss: 0.3164 - mse: 0.3164\n",
            "Epoch 7/10\n",
            "1/1 [==============================] - 0s 74ms/step - loss: 0.3165 - mse: 0.3165\n",
            "Epoch 8/10\n",
            "1/1 [==============================] - 0s 74ms/step - loss: 0.3165 - mse: 0.3165\n",
            "Epoch 9/10\n",
            "1/1 [==============================] - 0s 75ms/step - loss: 0.3164 - mse: 0.3164\n",
            "Epoch 10/10\n",
            "1/1 [==============================] - 0s 73ms/step - loss: 0.3164 - mse: 0.3164\n"
          ],
          "name": "stdout"
        },
        {
          "output_type": "stream",
          "text": [
            "\r 81%|████████  | 427/529 [06:58<01:41,  1.00it/s]"
          ],
          "name": "stderr"
        },
        {
          "output_type": "stream",
          "text": [
            "Epoch 1/10\n",
            "1/1 [==============================] - 0s 70ms/step - loss: 0.3141 - mse: 0.3141\n",
            "Epoch 2/10\n",
            "1/1 [==============================] - 0s 65ms/step - loss: 0.3140 - mse: 0.3140\n",
            "Epoch 3/10\n",
            "1/1 [==============================] - 0s 71ms/step - loss: 0.3139 - mse: 0.3139\n",
            "Epoch 4/10\n",
            "1/1 [==============================] - 0s 69ms/step - loss: 0.3140 - mse: 0.3140\n",
            "Epoch 5/10\n",
            "1/1 [==============================] - 0s 71ms/step - loss: 0.3140 - mse: 0.3140\n",
            "Epoch 6/10\n",
            "1/1 [==============================] - 0s 75ms/step - loss: 0.3139 - mse: 0.3139\n",
            "Epoch 7/10\n",
            "1/1 [==============================] - 0s 76ms/step - loss: 0.3139 - mse: 0.3139\n",
            "Epoch 8/10\n",
            "1/1 [==============================] - 0s 72ms/step - loss: 0.3140 - mse: 0.3140\n",
            "Epoch 9/10\n",
            "1/1 [==============================] - 0s 70ms/step - loss: 0.3139 - mse: 0.3139\n",
            "Epoch 10/10\n",
            "1/1 [==============================] - 0s 75ms/step - loss: 0.3139 - mse: 0.3139\n"
          ],
          "name": "stdout"
        },
        {
          "output_type": "stream",
          "text": [
            "\r 81%|████████  | 428/529 [06:59<01:40,  1.01it/s]"
          ],
          "name": "stderr"
        },
        {
          "output_type": "stream",
          "text": [
            "Epoch 1/10\n",
            "1/1 [==============================] - 0s 63ms/step - loss: 0.3056 - mse: 0.3056\n",
            "Epoch 2/10\n",
            "1/1 [==============================] - 0s 68ms/step - loss: 0.3055 - mse: 0.3055\n",
            "Epoch 3/10\n",
            "1/1 [==============================] - 0s 68ms/step - loss: 0.3056 - mse: 0.3056\n",
            "Epoch 4/10\n",
            "1/1 [==============================] - 0s 72ms/step - loss: 0.3056 - mse: 0.3056\n",
            "Epoch 5/10\n",
            "1/1 [==============================] - 0s 75ms/step - loss: 0.3055 - mse: 0.3055\n",
            "Epoch 6/10\n",
            "1/1 [==============================] - 0s 86ms/step - loss: 0.3055 - mse: 0.3055\n",
            "Epoch 7/10\n",
            "1/1 [==============================] - 0s 75ms/step - loss: 0.3056 - mse: 0.3056\n",
            "Epoch 8/10\n",
            "1/1 [==============================] - 0s 72ms/step - loss: 0.3055 - mse: 0.3055\n",
            "Epoch 9/10\n",
            "1/1 [==============================] - 0s 78ms/step - loss: 0.3055 - mse: 0.3055\n",
            "Epoch 10/10\n",
            "1/1 [==============================] - 0s 71ms/step - loss: 0.3055 - mse: 0.3055\n"
          ],
          "name": "stdout"
        },
        {
          "output_type": "stream",
          "text": [
            "\r 81%|████████  | 429/529 [07:00<01:39,  1.00it/s]"
          ],
          "name": "stderr"
        },
        {
          "output_type": "stream",
          "text": [
            "Epoch 1/10\n",
            "1/1 [==============================] - 0s 60ms/step - loss: 0.3120 - mse: 0.3120\n",
            "Epoch 2/10\n",
            "1/1 [==============================] - 0s 69ms/step - loss: 0.3118 - mse: 0.3118\n",
            "Epoch 3/10\n",
            "1/1 [==============================] - 0s 77ms/step - loss: 0.3118 - mse: 0.3118\n",
            "Epoch 4/10\n",
            "1/1 [==============================] - 0s 77ms/step - loss: 0.3119 - mse: 0.3119\n",
            "Epoch 5/10\n",
            "1/1 [==============================] - 0s 77ms/step - loss: 0.3119 - mse: 0.3119\n",
            "Epoch 6/10\n",
            "1/1 [==============================] - 0s 91ms/step - loss: 0.3118 - mse: 0.3118\n",
            "Epoch 7/10\n",
            "1/1 [==============================] - 0s 75ms/step - loss: 0.3118 - mse: 0.3118\n",
            "Epoch 8/10\n",
            "1/1 [==============================] - 0s 79ms/step - loss: 0.3119 - mse: 0.3119\n",
            "Epoch 9/10\n",
            "1/1 [==============================] - 0s 77ms/step - loss: 0.3118 - mse: 0.3118\n",
            "Epoch 10/10\n",
            "1/1 [==============================] - 0s 76ms/step - loss: 0.3118 - mse: 0.3118\n"
          ],
          "name": "stdout"
        },
        {
          "output_type": "stream",
          "text": [
            "\r 81%|████████▏ | 430/529 [07:01<01:40,  1.02s/it]"
          ],
          "name": "stderr"
        },
        {
          "output_type": "stream",
          "text": [
            "Epoch 1/10\n",
            "1/1 [==============================] - 0s 61ms/step - loss: 0.3075 - mse: 0.3075\n",
            "Epoch 2/10\n",
            "1/1 [==============================] - 0s 76ms/step - loss: 0.3074 - mse: 0.3074\n",
            "Epoch 3/10\n",
            "1/1 [==============================] - 0s 78ms/step - loss: 0.3073 - mse: 0.3073\n",
            "Epoch 4/10\n",
            "1/1 [==============================] - 0s 77ms/step - loss: 0.3073 - mse: 0.3073\n",
            "Epoch 5/10\n",
            "1/1 [==============================] - 0s 71ms/step - loss: 0.3074 - mse: 0.3074\n",
            "Epoch 6/10\n",
            "1/1 [==============================] - 0s 80ms/step - loss: 0.3073 - mse: 0.3073\n",
            "Epoch 7/10\n",
            "1/1 [==============================] - 0s 83ms/step - loss: 0.3073 - mse: 0.3073\n",
            "Epoch 8/10\n",
            "1/1 [==============================] - 0s 79ms/step - loss: 0.3073 - mse: 0.3073\n",
            "Epoch 9/10\n",
            "1/1 [==============================] - 0s 77ms/step - loss: 0.3073 - mse: 0.3073\n",
            "Epoch 10/10\n",
            "1/1 [==============================] - 0s 78ms/step - loss: 0.3073 - mse: 0.3073\n"
          ],
          "name": "stdout"
        },
        {
          "output_type": "stream",
          "text": [
            "\r 81%|████████▏ | 431/529 [07:02<01:40,  1.02s/it]"
          ],
          "name": "stderr"
        },
        {
          "output_type": "stream",
          "text": [
            "Epoch 1/10\n",
            "1/1 [==============================] - 0s 61ms/step - loss: 0.3088 - mse: 0.3088\n",
            "Epoch 2/10\n",
            "1/1 [==============================] - 0s 71ms/step - loss: 0.3088 - mse: 0.3088\n",
            "Epoch 3/10\n",
            "1/1 [==============================] - 0s 68ms/step - loss: 0.3087 - mse: 0.3087\n",
            "Epoch 4/10\n",
            "1/1 [==============================] - 0s 69ms/step - loss: 0.3087 - mse: 0.3087\n",
            "Epoch 5/10\n",
            "1/1 [==============================] - 0s 67ms/step - loss: 0.3087 - mse: 0.3087\n",
            "Epoch 6/10\n",
            "1/1 [==============================] - 0s 81ms/step - loss: 0.3087 - mse: 0.3087\n",
            "Epoch 7/10\n",
            "1/1 [==============================] - 0s 72ms/step - loss: 0.3087 - mse: 0.3087\n",
            "Epoch 8/10\n",
            "1/1 [==============================] - 0s 74ms/step - loss: 0.3087 - mse: 0.3087\n",
            "Epoch 9/10\n",
            "1/1 [==============================] - 0s 71ms/step - loss: 0.3087 - mse: 0.3087\n",
            "Epoch 10/10\n",
            "1/1 [==============================] - 0s 72ms/step - loss: 0.3087 - mse: 0.3087\n"
          ],
          "name": "stdout"
        },
        {
          "output_type": "stream",
          "text": [
            "\r 82%|████████▏ | 432/529 [07:03<01:38,  1.01s/it]"
          ],
          "name": "stderr"
        },
        {
          "output_type": "stream",
          "text": [
            "Epoch 1/10\n",
            "1/1 [==============================] - 0s 61ms/step - loss: 0.3044 - mse: 0.3044\n",
            "Epoch 2/10\n",
            "1/1 [==============================] - 0s 69ms/step - loss: 0.3044 - mse: 0.3044\n",
            "Epoch 3/10\n",
            "1/1 [==============================] - 0s 70ms/step - loss: 0.3044 - mse: 0.3044\n",
            "Epoch 4/10\n",
            "1/1 [==============================] - 0s 78ms/step - loss: 0.3044 - mse: 0.3044\n",
            "Epoch 5/10\n",
            "1/1 [==============================] - 0s 73ms/step - loss: 0.3044 - mse: 0.3044\n",
            "Epoch 6/10\n",
            "1/1 [==============================] - 0s 82ms/step - loss: 0.3044 - mse: 0.3044\n",
            "Epoch 7/10\n",
            "1/1 [==============================] - 0s 78ms/step - loss: 0.3044 - mse: 0.3044\n",
            "Epoch 8/10\n",
            "1/1 [==============================] - 0s 79ms/step - loss: 0.3044 - mse: 0.3044\n",
            "Epoch 9/10\n",
            "1/1 [==============================] - 0s 76ms/step - loss: 0.3044 - mse: 0.3044\n",
            "Epoch 10/10\n",
            "1/1 [==============================] - 0s 77ms/step - loss: 0.3044 - mse: 0.3044\n"
          ],
          "name": "stdout"
        },
        {
          "output_type": "stream",
          "text": [
            "\r 82%|████████▏ | 433/529 [07:04<01:37,  1.01s/it]"
          ],
          "name": "stderr"
        },
        {
          "output_type": "stream",
          "text": [
            "Epoch 1/10\n",
            "1/1 [==============================] - 0s 69ms/step - loss: 0.3086 - mse: 0.3086\n",
            "Epoch 2/10\n",
            "1/1 [==============================] - 0s 71ms/step - loss: 0.3086 - mse: 0.3086\n",
            "Epoch 3/10\n",
            "1/1 [==============================] - 0s 78ms/step - loss: 0.3086 - mse: 0.3086\n",
            "Epoch 4/10\n",
            "1/1 [==============================] - 0s 82ms/step - loss: 0.3086 - mse: 0.3086\n",
            "Epoch 5/10\n",
            "1/1 [==============================] - 0s 73ms/step - loss: 0.3086 - mse: 0.3086\n",
            "Epoch 6/10\n",
            "1/1 [==============================] - 0s 83ms/step - loss: 0.3086 - mse: 0.3086\n",
            "Epoch 7/10\n",
            "1/1 [==============================] - 0s 78ms/step - loss: 0.3086 - mse: 0.3086\n",
            "Epoch 8/10\n",
            "1/1 [==============================] - 0s 90ms/step - loss: 0.3086 - mse: 0.3086\n",
            "Epoch 9/10\n",
            "1/1 [==============================] - 0s 83ms/step - loss: 0.3086 - mse: 0.3086\n",
            "Epoch 10/10\n",
            "1/1 [==============================] - 0s 70ms/step - loss: 0.3086 - mse: 0.3086\n"
          ],
          "name": "stdout"
        },
        {
          "output_type": "stream",
          "text": [
            "\r 82%|████████▏ | 434/529 [07:06<01:37,  1.02s/it]"
          ],
          "name": "stderr"
        },
        {
          "output_type": "stream",
          "text": [
            "Epoch 1/10\n",
            "1/1 [==============================] - 0s 63ms/step - loss: 0.3119 - mse: 0.3119\n",
            "Epoch 2/10\n",
            "1/1 [==============================] - 0s 73ms/step - loss: 0.3119 - mse: 0.3119\n",
            "Epoch 3/10\n",
            "1/1 [==============================] - 0s 72ms/step - loss: 0.3119 - mse: 0.3119\n",
            "Epoch 4/10\n",
            "1/1 [==============================] - 0s 74ms/step - loss: 0.3119 - mse: 0.3119\n",
            "Epoch 5/10\n",
            "1/1 [==============================] - 0s 89ms/step - loss: 0.3119 - mse: 0.3119\n",
            "Epoch 6/10\n",
            "1/1 [==============================] - 0s 72ms/step - loss: 0.3119 - mse: 0.3119\n",
            "Epoch 7/10\n",
            "1/1 [==============================] - 0s 79ms/step - loss: 0.3119 - mse: 0.3119\n",
            "Epoch 8/10\n",
            "1/1 [==============================] - 0s 80ms/step - loss: 0.3119 - mse: 0.3119\n",
            "Epoch 9/10\n",
            "1/1 [==============================] - 0s 73ms/step - loss: 0.3119 - mse: 0.3119\n",
            "Epoch 10/10\n",
            "1/1 [==============================] - 0s 77ms/step - loss: 0.3119 - mse: 0.3119\n"
          ],
          "name": "stdout"
        },
        {
          "output_type": "stream",
          "text": [
            "\r 82%|████████▏ | 435/529 [07:07<01:36,  1.03s/it]"
          ],
          "name": "stderr"
        },
        {
          "output_type": "stream",
          "text": [
            "Epoch 1/10\n",
            "1/1 [==============================] - 0s 68ms/step - loss: 0.3094 - mse: 0.3094\n",
            "Epoch 2/10\n",
            "1/1 [==============================] - 0s 72ms/step - loss: 0.3093 - mse: 0.3093\n",
            "Epoch 3/10\n",
            "1/1 [==============================] - 0s 76ms/step - loss: 0.3093 - mse: 0.3093\n",
            "Epoch 4/10\n",
            "1/1 [==============================] - 0s 80ms/step - loss: 0.3093 - mse: 0.3093\n",
            "Epoch 5/10\n",
            "1/1 [==============================] - 0s 87ms/step - loss: 0.3093 - mse: 0.3093\n",
            "Epoch 6/10\n",
            "1/1 [==============================] - 0s 79ms/step - loss: 0.3093 - mse: 0.3093\n",
            "Epoch 7/10\n",
            "1/1 [==============================] - 0s 80ms/step - loss: 0.3093 - mse: 0.3093\n",
            "Epoch 8/10\n",
            "1/1 [==============================] - 0s 76ms/step - loss: 0.3093 - mse: 0.3093\n",
            "Epoch 9/10\n",
            "1/1 [==============================] - 0s 81ms/step - loss: 0.3093 - mse: 0.3093\n",
            "Epoch 10/10\n",
            "1/1 [==============================] - 0s 78ms/step - loss: 0.3093 - mse: 0.3093\n"
          ],
          "name": "stdout"
        },
        {
          "output_type": "stream",
          "text": [
            "\r 82%|████████▏ | 436/529 [07:08<01:37,  1.05s/it]"
          ],
          "name": "stderr"
        },
        {
          "output_type": "stream",
          "text": [
            "Epoch 1/10\n",
            "1/1 [==============================] - 0s 61ms/step - loss: 0.3083 - mse: 0.3083\n",
            "Epoch 2/10\n",
            "1/1 [==============================] - 0s 69ms/step - loss: 0.3083 - mse: 0.3083\n",
            "Epoch 3/10\n",
            "1/1 [==============================] - 0s 80ms/step - loss: 0.3083 - mse: 0.3083\n",
            "Epoch 4/10\n",
            "1/1 [==============================] - 0s 80ms/step - loss: 0.3083 - mse: 0.3083\n",
            "Epoch 5/10\n",
            "1/1 [==============================] - 0s 83ms/step - loss: 0.3083 - mse: 0.3083\n",
            "Epoch 6/10\n",
            "1/1 [==============================] - 0s 75ms/step - loss: 0.3083 - mse: 0.3083\n",
            "Epoch 7/10\n",
            "1/1 [==============================] - 0s 75ms/step - loss: 0.3083 - mse: 0.3083\n",
            "Epoch 8/10\n",
            "1/1 [==============================] - 0s 80ms/step - loss: 0.3083 - mse: 0.3083\n",
            "Epoch 9/10\n",
            "1/1 [==============================] - 0s 79ms/step - loss: 0.3083 - mse: 0.3083\n",
            "Epoch 10/10\n",
            "1/1 [==============================] - 0s 72ms/step - loss: 0.3083 - mse: 0.3083\n"
          ],
          "name": "stdout"
        },
        {
          "output_type": "stream",
          "text": [
            "\r 83%|████████▎ | 437/529 [07:09<01:36,  1.05s/it]"
          ],
          "name": "stderr"
        },
        {
          "output_type": "stream",
          "text": [
            "Epoch 1/10\n",
            "1/1 [==============================] - 0s 64ms/step - loss: 0.3088 - mse: 0.3088\n",
            "Epoch 2/10\n",
            "1/1 [==============================] - 0s 68ms/step - loss: 0.3088 - mse: 0.3088\n",
            "Epoch 3/10\n",
            "1/1 [==============================] - 0s 69ms/step - loss: 0.3088 - mse: 0.3088\n",
            "Epoch 4/10\n",
            "1/1 [==============================] - 0s 79ms/step - loss: 0.3088 - mse: 0.3088\n",
            "Epoch 5/10\n",
            "1/1 [==============================] - 0s 72ms/step - loss: 0.3088 - mse: 0.3088\n",
            "Epoch 6/10\n",
            "1/1 [==============================] - 0s 76ms/step - loss: 0.3088 - mse: 0.3088\n",
            "Epoch 7/10\n",
            "1/1 [==============================] - 0s 72ms/step - loss: 0.3088 - mse: 0.3088\n",
            "Epoch 8/10\n",
            "1/1 [==============================] - 0s 76ms/step - loss: 0.3088 - mse: 0.3088\n",
            "Epoch 9/10\n",
            "1/1 [==============================] - 0s 72ms/step - loss: 0.3088 - mse: 0.3088\n",
            "Epoch 10/10\n",
            "1/1 [==============================] - 0s 75ms/step - loss: 0.3088 - mse: 0.3088\n"
          ],
          "name": "stdout"
        },
        {
          "output_type": "stream",
          "text": [
            "\r 83%|████████▎ | 438/529 [07:10<01:34,  1.04s/it]"
          ],
          "name": "stderr"
        },
        {
          "output_type": "stream",
          "text": [
            "Epoch 1/10\n",
            "1/1 [==============================] - 0s 61ms/step - loss: 0.3044 - mse: 0.3044\n",
            "Epoch 2/10\n",
            "1/1 [==============================] - 0s 69ms/step - loss: 0.3043 - mse: 0.3043\n",
            "Epoch 3/10\n",
            "1/1 [==============================] - 0s 73ms/step - loss: 0.3043 - mse: 0.3043\n",
            "Epoch 4/10\n",
            "1/1 [==============================] - 0s 70ms/step - loss: 0.3043 - mse: 0.3043\n",
            "Epoch 5/10\n",
            "1/1 [==============================] - 0s 78ms/step - loss: 0.3043 - mse: 0.3043\n",
            "Epoch 6/10\n",
            "1/1 [==============================] - 0s 69ms/step - loss: 0.3043 - mse: 0.3043\n",
            "Epoch 7/10\n",
            "1/1 [==============================] - 0s 77ms/step - loss: 0.3043 - mse: 0.3043\n",
            "Epoch 8/10\n",
            "1/1 [==============================] - 0s 73ms/step - loss: 0.3043 - mse: 0.3043\n",
            "Epoch 9/10\n",
            "1/1 [==============================] - 0s 72ms/step - loss: 0.3043 - mse: 0.3043\n",
            "Epoch 10/10\n",
            "1/1 [==============================] - 0s 69ms/step - loss: 0.3043 - mse: 0.3043\n"
          ],
          "name": "stdout"
        },
        {
          "output_type": "stream",
          "text": [
            "\r 83%|████████▎ | 439/529 [07:11<01:31,  1.02s/it]"
          ],
          "name": "stderr"
        },
        {
          "output_type": "stream",
          "text": [
            "Epoch 1/10\n",
            "1/1 [==============================] - 0s 67ms/step - loss: 0.3031 - mse: 0.3031\n",
            "Epoch 2/10\n",
            "1/1 [==============================] - 0s 70ms/step - loss: 0.3031 - mse: 0.3031\n",
            "Epoch 3/10\n",
            "1/1 [==============================] - 0s 67ms/step - loss: 0.3031 - mse: 0.3031\n",
            "Epoch 4/10\n",
            "1/1 [==============================] - 0s 67ms/step - loss: 0.3031 - mse: 0.3031\n",
            "Epoch 5/10\n",
            "1/1 [==============================] - 0s 69ms/step - loss: 0.3031 - mse: 0.3031\n",
            "Epoch 6/10\n",
            "1/1 [==============================] - 0s 74ms/step - loss: 0.3031 - mse: 0.3031\n",
            "Epoch 7/10\n",
            "1/1 [==============================] - 0s 69ms/step - loss: 0.3031 - mse: 0.3031\n",
            "Epoch 8/10\n",
            "1/1 [==============================] - 0s 71ms/step - loss: 0.3031 - mse: 0.3031\n",
            "Epoch 9/10\n",
            "1/1 [==============================] - 0s 74ms/step - loss: 0.3031 - mse: 0.3031\n",
            "Epoch 10/10\n",
            "1/1 [==============================] - 0s 69ms/step - loss: 0.3031 - mse: 0.3031\n"
          ],
          "name": "stdout"
        },
        {
          "output_type": "stream",
          "text": [
            "\r 83%|████████▎ | 440/529 [07:12<01:29,  1.01s/it]"
          ],
          "name": "stderr"
        },
        {
          "output_type": "stream",
          "text": [
            "Epoch 1/10\n",
            "1/1 [==============================] - 0s 67ms/step - loss: 0.3095 - mse: 0.3095\n",
            "Epoch 2/10\n",
            "1/1 [==============================] - 0s 67ms/step - loss: 0.3094 - mse: 0.3094\n",
            "Epoch 3/10\n",
            "1/1 [==============================] - 0s 69ms/step - loss: 0.3095 - mse: 0.3095\n",
            "Epoch 4/10\n",
            "1/1 [==============================] - 0s 71ms/step - loss: 0.3095 - mse: 0.3095\n",
            "Epoch 5/10\n",
            "1/1 [==============================] - 0s 89ms/step - loss: 0.3094 - mse: 0.3094\n",
            "Epoch 6/10\n",
            "1/1 [==============================] - 0s 73ms/step - loss: 0.3094 - mse: 0.3094\n",
            "Epoch 7/10\n",
            "1/1 [==============================] - 0s 72ms/step - loss: 0.3095 - mse: 0.3095\n",
            "Epoch 8/10\n",
            "1/1 [==============================] - 0s 75ms/step - loss: 0.3095 - mse: 0.3095\n",
            "Epoch 9/10\n",
            "1/1 [==============================] - 0s 72ms/step - loss: 0.3094 - mse: 0.3094\n",
            "Epoch 10/10\n",
            "1/1 [==============================] - 0s 69ms/step - loss: 0.3094 - mse: 0.3094\n"
          ],
          "name": "stdout"
        },
        {
          "output_type": "stream",
          "text": [
            "\r 83%|████████▎ | 441/529 [07:13<01:28,  1.00s/it]"
          ],
          "name": "stderr"
        },
        {
          "output_type": "stream",
          "text": [
            "Epoch 1/10\n",
            "1/1 [==============================] - 0s 69ms/step - loss: 0.3081 - mse: 0.3081\n",
            "Epoch 2/10\n",
            "1/1 [==============================] - 0s 76ms/step - loss: 0.3080 - mse: 0.3080\n",
            "Epoch 3/10\n",
            "1/1 [==============================] - 0s 75ms/step - loss: 0.3080 - mse: 0.3080\n",
            "Epoch 4/10\n",
            "1/1 [==============================] - 0s 76ms/step - loss: 0.3080 - mse: 0.3080\n",
            "Epoch 5/10\n",
            "1/1 [==============================] - 0s 80ms/step - loss: 0.3080 - mse: 0.3080\n",
            "Epoch 6/10\n",
            "1/1 [==============================] - 0s 71ms/step - loss: 0.3080 - mse: 0.3080\n",
            "Epoch 7/10\n",
            "1/1 [==============================] - 0s 72ms/step - loss: 0.3080 - mse: 0.3080\n",
            "Epoch 8/10\n",
            "1/1 [==============================] - 0s 75ms/step - loss: 0.3080 - mse: 0.3080\n",
            "Epoch 9/10\n",
            "1/1 [==============================] - 0s 74ms/step - loss: 0.3080 - mse: 0.3080\n",
            "Epoch 10/10\n",
            "1/1 [==============================] - 0s 76ms/step - loss: 0.3080 - mse: 0.3080\n"
          ],
          "name": "stdout"
        },
        {
          "output_type": "stream",
          "text": [
            "\r 84%|████████▎ | 442/529 [07:14<01:27,  1.01s/it]"
          ],
          "name": "stderr"
        },
        {
          "output_type": "stream",
          "text": [
            "Epoch 1/10\n",
            "1/1 [==============================] - 0s 71ms/step - loss: 0.3110 - mse: 0.3110\n",
            "Epoch 2/10\n",
            "1/1 [==============================] - 0s 70ms/step - loss: 0.3110 - mse: 0.3110\n",
            "Epoch 3/10\n",
            "1/1 [==============================] - 0s 71ms/step - loss: 0.3110 - mse: 0.3110\n",
            "Epoch 4/10\n",
            "1/1 [==============================] - 0s 67ms/step - loss: 0.3110 - mse: 0.3110\n",
            "Epoch 5/10\n",
            "1/1 [==============================] - 0s 74ms/step - loss: 0.3110 - mse: 0.3110\n",
            "Epoch 6/10\n",
            "1/1 [==============================] - 0s 74ms/step - loss: 0.3110 - mse: 0.3110\n",
            "Epoch 7/10\n",
            "1/1 [==============================] - 0s 78ms/step - loss: 0.3110 - mse: 0.3110\n",
            "Epoch 8/10\n",
            "1/1 [==============================] - 0s 72ms/step - loss: 0.3110 - mse: 0.3110\n",
            "Epoch 9/10\n",
            "1/1 [==============================] - 0s 68ms/step - loss: 0.3110 - mse: 0.3110\n",
            "Epoch 10/10\n",
            "1/1 [==============================] - 0s 76ms/step - loss: 0.3110 - mse: 0.3110\n"
          ],
          "name": "stdout"
        },
        {
          "output_type": "stream",
          "text": [
            "\r 84%|████████▎ | 443/529 [07:15<01:26,  1.00s/it]"
          ],
          "name": "stderr"
        },
        {
          "output_type": "stream",
          "text": [
            "Epoch 1/10\n",
            "1/1 [==============================] - 0s 60ms/step - loss: 0.3374 - mse: 0.3374\n",
            "Epoch 2/10\n",
            "1/1 [==============================] - 0s 65ms/step - loss: 0.3364 - mse: 0.3364\n",
            "Epoch 3/10\n",
            "1/1 [==============================] - 0s 72ms/step - loss: 0.3366 - mse: 0.3366\n",
            "Epoch 4/10\n",
            "1/1 [==============================] - 0s 75ms/step - loss: 0.3369 - mse: 0.3369\n",
            "Epoch 5/10\n",
            "1/1 [==============================] - 0s 70ms/step - loss: 0.3363 - mse: 0.3363\n",
            "Epoch 6/10\n",
            "1/1 [==============================] - 0s 72ms/step - loss: 0.3362 - mse: 0.3362\n",
            "Epoch 7/10\n",
            "1/1 [==============================] - 0s 70ms/step - loss: 0.3368 - mse: 0.3368\n",
            "Epoch 8/10\n",
            "1/1 [==============================] - 0s 73ms/step - loss: 0.3366 - mse: 0.3366\n",
            "Epoch 9/10\n",
            "1/1 [==============================] - 0s 66ms/step - loss: 0.3362 - mse: 0.3362\n",
            "Epoch 10/10\n",
            "1/1 [==============================] - 0s 67ms/step - loss: 0.3364 - mse: 0.3364\n"
          ],
          "name": "stdout"
        },
        {
          "output_type": "stream",
          "text": [
            "\r 84%|████████▍ | 444/529 [07:16<01:24,  1.01it/s]"
          ],
          "name": "stderr"
        },
        {
          "output_type": "stream",
          "text": [
            "Epoch 1/10\n",
            "1/1 [==============================] - 0s 70ms/step - loss: 0.3146 - mse: 0.3146\n",
            "Epoch 2/10\n",
            "1/1 [==============================] - 0s 64ms/step - loss: 0.3120 - mse: 0.3120\n",
            "Epoch 3/10\n",
            "1/1 [==============================] - 0s 65ms/step - loss: 0.3121 - mse: 0.3121\n",
            "Epoch 4/10\n",
            "1/1 [==============================] - 0s 68ms/step - loss: 0.3135 - mse: 0.3135\n",
            "Epoch 5/10\n",
            "1/1 [==============================] - 0s 69ms/step - loss: 0.3128 - mse: 0.3128\n",
            "Epoch 6/10\n",
            "1/1 [==============================] - 0s 71ms/step - loss: 0.3117 - mse: 0.3117\n",
            "Epoch 7/10\n",
            "1/1 [==============================] - 0s 66ms/step - loss: 0.3125 - mse: 0.3125\n",
            "Epoch 8/10\n",
            "1/1 [==============================] - 0s 73ms/step - loss: 0.3131 - mse: 0.3131\n",
            "Epoch 9/10\n",
            "1/1 [==============================] - 0s 64ms/step - loss: 0.3120 - mse: 0.3120\n",
            "Epoch 10/10\n",
            "1/1 [==============================] - 0s 65ms/step - loss: 0.3117 - mse: 0.3117\n"
          ],
          "name": "stdout"
        },
        {
          "output_type": "stream",
          "text": [
            "\r 84%|████████▍ | 445/529 [07:17<01:22,  1.02it/s]"
          ],
          "name": "stderr"
        },
        {
          "output_type": "stream",
          "text": [
            "Epoch 1/10\n",
            "1/1 [==============================] - 0s 64ms/step - loss: 0.3037 - mse: 0.3037\n",
            "Epoch 2/10\n",
            "1/1 [==============================] - 0s 66ms/step - loss: 0.3039 - mse: 0.3039\n",
            "Epoch 3/10\n",
            "1/1 [==============================] - 0s 71ms/step - loss: 0.3035 - mse: 0.3035\n",
            "Epoch 4/10\n",
            "1/1 [==============================] - 0s 71ms/step - loss: 0.3033 - mse: 0.3033\n",
            "Epoch 5/10\n",
            "1/1 [==============================] - 0s 68ms/step - loss: 0.3036 - mse: 0.3036\n",
            "Epoch 6/10\n",
            "1/1 [==============================] - 0s 73ms/step - loss: 0.3036 - mse: 0.3036\n",
            "Epoch 7/10\n",
            "1/1 [==============================] - 0s 68ms/step - loss: 0.3033 - mse: 0.3033\n",
            "Epoch 8/10\n",
            "1/1 [==============================] - 0s 71ms/step - loss: 0.3033 - mse: 0.3033\n",
            "Epoch 9/10\n",
            "1/1 [==============================] - 0s 71ms/step - loss: 0.3035 - mse: 0.3035\n",
            "Epoch 10/10\n",
            "1/1 [==============================] - 0s 67ms/step - loss: 0.3034 - mse: 0.3034\n"
          ],
          "name": "stdout"
        },
        {
          "output_type": "stream",
          "text": [
            "\r 84%|████████▍ | 446/529 [07:18<01:20,  1.03it/s]"
          ],
          "name": "stderr"
        },
        {
          "output_type": "stream",
          "text": [
            "Epoch 1/10\n",
            "1/1 [==============================] - 0s 65ms/step - loss: 0.3149 - mse: 0.3149\n",
            "Epoch 2/10\n",
            "1/1 [==============================] - 0s 64ms/step - loss: 0.3145 - mse: 0.3145\n",
            "Epoch 3/10\n",
            "1/1 [==============================] - 0s 70ms/step - loss: 0.3147 - mse: 0.3147\n",
            "Epoch 4/10\n",
            "1/1 [==============================] - 0s 65ms/step - loss: 0.3147 - mse: 0.3147\n",
            "Epoch 5/10\n",
            "1/1 [==============================] - 0s 66ms/step - loss: 0.3143 - mse: 0.3143\n",
            "Epoch 6/10\n",
            "1/1 [==============================] - 0s 70ms/step - loss: 0.3144 - mse: 0.3144\n",
            "Epoch 7/10\n",
            "1/1 [==============================] - 0s 67ms/step - loss: 0.3147 - mse: 0.3147\n",
            "Epoch 8/10\n",
            "1/1 [==============================] - 0s 79ms/step - loss: 0.3146 - mse: 0.3146\n",
            "Epoch 9/10\n",
            "1/1 [==============================] - 0s 75ms/step - loss: 0.3144 - mse: 0.3144\n",
            "Epoch 10/10\n",
            "1/1 [==============================] - 0s 76ms/step - loss: 0.3145 - mse: 0.3145\n"
          ],
          "name": "stdout"
        },
        {
          "output_type": "stream",
          "text": [
            "\r 84%|████████▍ | 447/529 [07:18<01:18,  1.04it/s]"
          ],
          "name": "stderr"
        },
        {
          "output_type": "stream",
          "text": [
            "Epoch 1/10\n",
            "1/1 [==============================] - 0s 66ms/step - loss: 0.3097 - mse: 0.3097\n",
            "Epoch 2/10\n",
            "1/1 [==============================] - 0s 68ms/step - loss: 0.3093 - mse: 0.3093\n",
            "Epoch 3/10\n",
            "1/1 [==============================] - 0s 66ms/step - loss: 0.3092 - mse: 0.3092\n",
            "Epoch 4/10\n",
            "1/1 [==============================] - 0s 73ms/step - loss: 0.3095 - mse: 0.3095\n",
            "Epoch 5/10\n",
            "1/1 [==============================] - 0s 67ms/step - loss: 0.3094 - mse: 0.3094\n",
            "Epoch 6/10\n",
            "1/1 [==============================] - 0s 67ms/step - loss: 0.3092 - mse: 0.3092\n",
            "Epoch 7/10\n",
            "1/1 [==============================] - 0s 68ms/step - loss: 0.3093 - mse: 0.3093\n",
            "Epoch 8/10\n",
            "1/1 [==============================] - 0s 73ms/step - loss: 0.3094 - mse: 0.3094\n",
            "Epoch 9/10\n",
            "1/1 [==============================] - 0s 76ms/step - loss: 0.3093 - mse: 0.3093\n",
            "Epoch 10/10\n",
            "1/1 [==============================] - 0s 74ms/step - loss: 0.3092 - mse: 0.3092\n"
          ],
          "name": "stdout"
        },
        {
          "output_type": "stream",
          "text": [
            "\r 85%|████████▍ | 448/529 [07:19<01:17,  1.05it/s]"
          ],
          "name": "stderr"
        },
        {
          "output_type": "stream",
          "text": [
            "Epoch 1/10\n",
            "1/1 [==============================] - 0s 72ms/step - loss: 0.3063 - mse: 0.3063\n",
            "Epoch 2/10\n",
            "1/1 [==============================] - 0s 65ms/step - loss: 0.3064 - mse: 0.3064\n",
            "Epoch 3/10\n",
            "1/1 [==============================] - 0s 64ms/step - loss: 0.3064 - mse: 0.3064\n",
            "Epoch 4/10\n",
            "1/1 [==============================] - 0s 72ms/step - loss: 0.3063 - mse: 0.3063\n",
            "Epoch 5/10\n",
            "1/1 [==============================] - 0s 67ms/step - loss: 0.3063 - mse: 0.3063\n",
            "Epoch 6/10\n",
            "1/1 [==============================] - 0s 69ms/step - loss: 0.3064 - mse: 0.3064\n",
            "Epoch 7/10\n",
            "1/1 [==============================] - 0s 70ms/step - loss: 0.3063 - mse: 0.3063\n",
            "Epoch 8/10\n",
            "1/1 [==============================] - 0s 69ms/step - loss: 0.3063 - mse: 0.3063\n",
            "Epoch 9/10\n",
            "1/1 [==============================] - 0s 66ms/step - loss: 0.3063 - mse: 0.3063\n",
            "Epoch 10/10\n",
            "1/1 [==============================] - 0s 79ms/step - loss: 0.3063 - mse: 0.3063\n"
          ],
          "name": "stdout"
        },
        {
          "output_type": "stream",
          "text": [
            "\r 85%|████████▍ | 449/529 [07:20<01:15,  1.06it/s]"
          ],
          "name": "stderr"
        },
        {
          "output_type": "stream",
          "text": [
            "Epoch 1/10\n",
            "1/1 [==============================] - 0s 67ms/step - loss: 0.3086 - mse: 0.3086\n",
            "Epoch 2/10\n",
            "1/1 [==============================] - 0s 69ms/step - loss: 0.3085 - mse: 0.3085\n",
            "Epoch 3/10\n",
            "1/1 [==============================] - 0s 67ms/step - loss: 0.3086 - mse: 0.3086\n",
            "Epoch 4/10\n",
            "1/1 [==============================] - 0s 71ms/step - loss: 0.3086 - mse: 0.3086\n",
            "Epoch 5/10\n",
            "1/1 [==============================] - 0s 68ms/step - loss: 0.3085 - mse: 0.3085\n",
            "Epoch 6/10\n",
            "1/1 [==============================] - 0s 77ms/step - loss: 0.3085 - mse: 0.3085\n",
            "Epoch 7/10\n",
            "1/1 [==============================] - 0s 68ms/step - loss: 0.3086 - mse: 0.3086\n",
            "Epoch 8/10\n",
            "1/1 [==============================] - 0s 68ms/step - loss: 0.3085 - mse: 0.3085\n",
            "Epoch 9/10\n",
            "1/1 [==============================] - 0s 83ms/step - loss: 0.3085 - mse: 0.3085\n",
            "Epoch 10/10\n",
            "1/1 [==============================] - 0s 77ms/step - loss: 0.3085 - mse: 0.3085\n"
          ],
          "name": "stdout"
        },
        {
          "output_type": "stream",
          "text": [
            "\r 85%|████████▌ | 450/529 [07:21<01:15,  1.05it/s]"
          ],
          "name": "stderr"
        },
        {
          "output_type": "stream",
          "text": [
            "Epoch 1/10\n",
            "1/1 [==============================] - 0s 73ms/step - loss: 0.3086 - mse: 0.3086\n",
            "Epoch 2/10\n",
            "1/1 [==============================] - 0s 62ms/step - loss: 0.3085 - mse: 0.3085\n",
            "Epoch 3/10\n",
            "1/1 [==============================] - 0s 74ms/step - loss: 0.3085 - mse: 0.3085\n",
            "Epoch 4/10\n",
            "1/1 [==============================] - 0s 76ms/step - loss: 0.3085 - mse: 0.3085\n",
            "Epoch 5/10\n",
            "1/1 [==============================] - 0s 70ms/step - loss: 0.3085 - mse: 0.3085\n",
            "Epoch 6/10\n",
            "1/1 [==============================] - 0s 69ms/step - loss: 0.3085 - mse: 0.3085\n",
            "Epoch 7/10\n",
            "1/1 [==============================] - 0s 66ms/step - loss: 0.3085 - mse: 0.3085\n",
            "Epoch 8/10\n",
            "1/1 [==============================] - 0s 66ms/step - loss: 0.3085 - mse: 0.3085\n",
            "Epoch 9/10\n",
            "1/1 [==============================] - 0s 61ms/step - loss: 0.3085 - mse: 0.3085\n",
            "Epoch 10/10\n",
            "1/1 [==============================] - 0s 66ms/step - loss: 0.3085 - mse: 0.3085\n"
          ],
          "name": "stdout"
        },
        {
          "output_type": "stream",
          "text": [
            "\r 85%|████████▌ | 451/529 [07:22<01:14,  1.05it/s]"
          ],
          "name": "stderr"
        },
        {
          "output_type": "stream",
          "text": [
            "Epoch 1/10\n",
            "1/1 [==============================] - 0s 66ms/step - loss: 0.2946 - mse: 0.2946\n",
            "Epoch 2/10\n",
            "1/1 [==============================] - 0s 63ms/step - loss: 0.2942 - mse: 0.2942\n",
            "Epoch 3/10\n",
            "1/1 [==============================] - 0s 71ms/step - loss: 0.2942 - mse: 0.2942\n",
            "Epoch 4/10\n",
            "1/1 [==============================] - 0s 66ms/step - loss: 0.2943 - mse: 0.2943\n",
            "Epoch 5/10\n",
            "1/1 [==============================] - 0s 68ms/step - loss: 0.2941 - mse: 0.2941\n",
            "Epoch 6/10\n",
            "1/1 [==============================] - 0s 68ms/step - loss: 0.2939 - mse: 0.2939\n",
            "Epoch 7/10\n",
            "1/1 [==============================] - 0s 75ms/step - loss: 0.2941 - mse: 0.2941\n",
            "Epoch 8/10\n",
            "1/1 [==============================] - 0s 76ms/step - loss: 0.2942 - mse: 0.2942\n",
            "Epoch 9/10\n",
            "1/1 [==============================] - 0s 71ms/step - loss: 0.2941 - mse: 0.2941\n",
            "Epoch 10/10\n",
            "1/1 [==============================] - 0s 70ms/step - loss: 0.2940 - mse: 0.2940\n"
          ],
          "name": "stdout"
        },
        {
          "output_type": "stream",
          "text": [
            "\r 85%|████████▌ | 452/529 [07:23<01:13,  1.05it/s]"
          ],
          "name": "stderr"
        },
        {
          "output_type": "stream",
          "text": [
            "Epoch 1/10\n",
            "1/1 [==============================] - 0s 59ms/step - loss: 0.3050 - mse: 0.3050\n",
            "Epoch 2/10\n",
            "1/1 [==============================] - 0s 60ms/step - loss: 0.3044 - mse: 0.3044\n",
            "Epoch 3/10\n",
            "1/1 [==============================] - 0s 71ms/step - loss: 0.3038 - mse: 0.3038\n",
            "Epoch 4/10\n",
            "1/1 [==============================] - 0s 72ms/step - loss: 0.3039 - mse: 0.3039\n",
            "Epoch 5/10\n",
            "1/1 [==============================] - 0s 70ms/step - loss: 0.3040 - mse: 0.3040\n",
            "Epoch 6/10\n",
            "1/1 [==============================] - 0s 76ms/step - loss: 0.3038 - mse: 0.3038\n",
            "Epoch 7/10\n",
            "1/1 [==============================] - 0s 72ms/step - loss: 0.3039 - mse: 0.3039\n",
            "Epoch 8/10\n",
            "1/1 [==============================] - 0s 74ms/step - loss: 0.3042 - mse: 0.3042\n",
            "Epoch 9/10\n",
            "1/1 [==============================] - 0s 79ms/step - loss: 0.3041 - mse: 0.3041\n",
            "Epoch 10/10\n",
            "1/1 [==============================] - 0s 74ms/step - loss: 0.3039 - mse: 0.3039\n"
          ],
          "name": "stdout"
        },
        {
          "output_type": "stream",
          "text": [
            "\r 86%|████████▌ | 453/529 [07:24<01:13,  1.03it/s]"
          ],
          "name": "stderr"
        },
        {
          "output_type": "stream",
          "text": [
            "Epoch 1/10\n",
            "1/1 [==============================] - 0s 59ms/step - loss: 0.3090 - mse: 0.3090\n",
            "Epoch 2/10\n",
            "1/1 [==============================] - 0s 66ms/step - loss: 0.3090 - mse: 0.3090\n",
            "Epoch 3/10\n",
            "1/1 [==============================] - 0s 74ms/step - loss: 0.3090 - mse: 0.3090\n",
            "Epoch 4/10\n",
            "1/1 [==============================] - 0s 71ms/step - loss: 0.3088 - mse: 0.3088\n",
            "Epoch 5/10\n",
            "1/1 [==============================] - 0s 73ms/step - loss: 0.3089 - mse: 0.3089\n",
            "Epoch 6/10\n",
            "1/1 [==============================] - 0s 69ms/step - loss: 0.3090 - mse: 0.3090\n",
            "Epoch 7/10\n",
            "1/1 [==============================] - 0s 69ms/step - loss: 0.3090 - mse: 0.3090\n",
            "Epoch 8/10\n",
            "1/1 [==============================] - 0s 72ms/step - loss: 0.3089 - mse: 0.3089\n",
            "Epoch 9/10\n",
            "1/1 [==============================] - 0s 69ms/step - loss: 0.3089 - mse: 0.3089\n",
            "Epoch 10/10\n",
            "1/1 [==============================] - 0s 69ms/step - loss: 0.3089 - mse: 0.3089\n"
          ],
          "name": "stdout"
        },
        {
          "output_type": "stream",
          "text": [
            "\r 86%|████████▌ | 454/529 [07:25<01:12,  1.03it/s]"
          ],
          "name": "stderr"
        },
        {
          "output_type": "stream",
          "text": [
            "Epoch 1/10\n",
            "1/1 [==============================] - 0s 68ms/step - loss: 0.3087 - mse: 0.3087\n",
            "Epoch 2/10\n",
            "1/1 [==============================] - 0s 71ms/step - loss: 0.3086 - mse: 0.3086\n",
            "Epoch 3/10\n",
            "1/1 [==============================] - 0s 67ms/step - loss: 0.3086 - mse: 0.3086\n",
            "Epoch 4/10\n",
            "1/1 [==============================] - 0s 69ms/step - loss: 0.3087 - mse: 0.3087\n",
            "Epoch 5/10\n",
            "1/1 [==============================] - 0s 68ms/step - loss: 0.3086 - mse: 0.3086\n",
            "Epoch 6/10\n",
            "1/1 [==============================] - 0s 65ms/step - loss: 0.3086 - mse: 0.3086\n",
            "Epoch 7/10\n",
            "1/1 [==============================] - 0s 61ms/step - loss: 0.3087 - mse: 0.3087\n",
            "Epoch 8/10\n",
            "1/1 [==============================] - 0s 63ms/step - loss: 0.3087 - mse: 0.3087\n",
            "Epoch 9/10\n",
            "1/1 [==============================] - 0s 60ms/step - loss: 0.3086 - mse: 0.3086\n",
            "Epoch 10/10\n",
            "1/1 [==============================] - 0s 66ms/step - loss: 0.3086 - mse: 0.3086\n"
          ],
          "name": "stdout"
        },
        {
          "output_type": "stream",
          "text": [
            "\r 86%|████████▌ | 455/529 [07:26<01:10,  1.05it/s]"
          ],
          "name": "stderr"
        },
        {
          "output_type": "stream",
          "text": [
            "Epoch 1/10\n",
            "1/1 [==============================] - 0s 59ms/step - loss: 0.3091 - mse: 0.3091\n",
            "Epoch 2/10\n",
            "1/1 [==============================] - 0s 71ms/step - loss: 0.3091 - mse: 0.3091\n",
            "Epoch 3/10\n",
            "1/1 [==============================] - 0s 65ms/step - loss: 0.3091 - mse: 0.3091\n",
            "Epoch 4/10\n",
            "1/1 [==============================] - 0s 87ms/step - loss: 0.3091 - mse: 0.3091\n",
            "Epoch 5/10\n",
            "1/1 [==============================] - 0s 75ms/step - loss: 0.3091 - mse: 0.3091\n",
            "Epoch 6/10\n",
            "1/1 [==============================] - 0s 72ms/step - loss: 0.3091 - mse: 0.3091\n",
            "Epoch 7/10\n",
            "1/1 [==============================] - 0s 76ms/step - loss: 0.3091 - mse: 0.3091\n",
            "Epoch 8/10\n",
            "1/1 [==============================] - 0s 71ms/step - loss: 0.3091 - mse: 0.3091\n",
            "Epoch 9/10\n",
            "1/1 [==============================] - 0s 70ms/step - loss: 0.3091 - mse: 0.3091\n",
            "Epoch 10/10\n",
            "1/1 [==============================] - 0s 67ms/step - loss: 0.3091 - mse: 0.3091\n"
          ],
          "name": "stdout"
        },
        {
          "output_type": "stream",
          "text": [
            "\r 86%|████████▌ | 456/529 [07:27<01:09,  1.05it/s]"
          ],
          "name": "stderr"
        },
        {
          "output_type": "stream",
          "text": [
            "Epoch 1/10\n",
            "1/1 [==============================] - 0s 65ms/step - loss: 0.3082 - mse: 0.3082\n",
            "Epoch 2/10\n",
            "1/1 [==============================] - 0s 62ms/step - loss: 0.3082 - mse: 0.3082\n",
            "Epoch 3/10\n",
            "1/1 [==============================] - 0s 71ms/step - loss: 0.3082 - mse: 0.3082\n",
            "Epoch 4/10\n",
            "1/1 [==============================] - 0s 68ms/step - loss: 0.3082 - mse: 0.3082\n",
            "Epoch 5/10\n",
            "1/1 [==============================] - 0s 70ms/step - loss: 0.3082 - mse: 0.3082\n",
            "Epoch 6/10\n",
            "1/1 [==============================] - 0s 67ms/step - loss: 0.3082 - mse: 0.3082\n",
            "Epoch 7/10\n",
            "1/1 [==============================] - 0s 65ms/step - loss: 0.3082 - mse: 0.3082\n",
            "Epoch 8/10\n",
            "1/1 [==============================] - 0s 70ms/step - loss: 0.3082 - mse: 0.3082\n",
            "Epoch 9/10\n",
            "1/1 [==============================] - 0s 65ms/step - loss: 0.3082 - mse: 0.3082\n",
            "Epoch 10/10\n",
            "1/1 [==============================] - 0s 67ms/step - loss: 0.3082 - mse: 0.3082\n"
          ],
          "name": "stdout"
        },
        {
          "output_type": "stream",
          "text": [
            "\r 86%|████████▋ | 457/529 [07:28<01:07,  1.06it/s]"
          ],
          "name": "stderr"
        },
        {
          "output_type": "stream",
          "text": [
            "Epoch 1/10\n",
            "1/1 [==============================] - 0s 64ms/step - loss: 0.3087 - mse: 0.3087\n",
            "Epoch 2/10\n",
            "1/1 [==============================] - 0s 67ms/step - loss: 0.3087 - mse: 0.3087\n",
            "Epoch 3/10\n",
            "1/1 [==============================] - 0s 66ms/step - loss: 0.3086 - mse: 0.3086\n",
            "Epoch 4/10\n",
            "1/1 [==============================] - 0s 77ms/step - loss: 0.3086 - mse: 0.3086\n",
            "Epoch 5/10\n",
            "1/1 [==============================] - 0s 72ms/step - loss: 0.3086 - mse: 0.3086\n",
            "Epoch 6/10\n",
            "1/1 [==============================] - 0s 66ms/step - loss: 0.3086 - mse: 0.3086\n",
            "Epoch 7/10\n",
            "1/1 [==============================] - 0s 72ms/step - loss: 0.3086 - mse: 0.3086\n",
            "Epoch 8/10\n",
            "1/1 [==============================] - 0s 73ms/step - loss: 0.3086 - mse: 0.3086\n",
            "Epoch 9/10\n",
            "1/1 [==============================] - 0s 70ms/step - loss: 0.3086 - mse: 0.3086\n",
            "Epoch 10/10\n",
            "1/1 [==============================] - 0s 68ms/step - loss: 0.3086 - mse: 0.3086\n"
          ],
          "name": "stdout"
        },
        {
          "output_type": "stream",
          "text": [
            "\r 87%|████████▋ | 458/529 [07:29<01:07,  1.05it/s]"
          ],
          "name": "stderr"
        },
        {
          "output_type": "stream",
          "text": [
            "Epoch 1/10\n",
            "1/1 [==============================] - 0s 62ms/step - loss: 0.2967 - mse: 0.2967\n",
            "Epoch 2/10\n",
            "1/1 [==============================] - 0s 65ms/step - loss: 0.2964 - mse: 0.2964\n",
            "Epoch 3/10\n",
            "1/1 [==============================] - 0s 66ms/step - loss: 0.2963 - mse: 0.2963\n",
            "Epoch 4/10\n",
            "1/1 [==============================] - 0s 68ms/step - loss: 0.2963 - mse: 0.2963\n",
            "Epoch 5/10\n",
            "1/1 [==============================] - 0s 76ms/step - loss: 0.2962 - mse: 0.2962\n",
            "Epoch 6/10\n",
            "1/1 [==============================] - 0s 71ms/step - loss: 0.2961 - mse: 0.2961\n",
            "Epoch 7/10\n",
            "1/1 [==============================] - 0s 72ms/step - loss: 0.2962 - mse: 0.2962\n",
            "Epoch 8/10\n",
            "1/1 [==============================] - 0s 68ms/step - loss: 0.2963 - mse: 0.2963\n",
            "Epoch 9/10\n",
            "1/1 [==============================] - 0s 67ms/step - loss: 0.2963 - mse: 0.2963\n",
            "Epoch 10/10\n",
            "1/1 [==============================] - 0s 69ms/step - loss: 0.2962 - mse: 0.2962\n"
          ],
          "name": "stdout"
        },
        {
          "output_type": "stream",
          "text": [
            "\r 87%|████████▋ | 459/529 [07:30<01:06,  1.06it/s]"
          ],
          "name": "stderr"
        },
        {
          "output_type": "stream",
          "text": [
            "Epoch 1/10\n",
            "1/1 [==============================] - 0s 67ms/step - loss: 0.3032 - mse: 0.3032\n",
            "Epoch 2/10\n",
            "1/1 [==============================] - 0s 63ms/step - loss: 0.3028 - mse: 0.3028\n",
            "Epoch 3/10\n",
            "1/1 [==============================] - 0s 64ms/step - loss: 0.3023 - mse: 0.3023\n",
            "Epoch 4/10\n",
            "1/1 [==============================] - 0s 71ms/step - loss: 0.3022 - mse: 0.3022\n",
            "Epoch 5/10\n",
            "1/1 [==============================] - 0s 76ms/step - loss: 0.3022 - mse: 0.3022\n",
            "Epoch 6/10\n",
            "1/1 [==============================] - 0s 83ms/step - loss: 0.3023 - mse: 0.3023\n",
            "Epoch 7/10\n",
            "1/1 [==============================] - 0s 74ms/step - loss: 0.3024 - mse: 0.3024\n",
            "Epoch 8/10\n",
            "1/1 [==============================] - 0s 71ms/step - loss: 0.3025 - mse: 0.3025\n",
            "Epoch 9/10\n",
            "1/1 [==============================] - 0s 74ms/step - loss: 0.3025 - mse: 0.3025\n",
            "Epoch 10/10\n",
            "1/1 [==============================] - 0s 75ms/step - loss: 0.3024 - mse: 0.3024\n"
          ],
          "name": "stdout"
        },
        {
          "output_type": "stream",
          "text": [
            "\r 87%|████████▋ | 460/529 [07:31<01:06,  1.04it/s]"
          ],
          "name": "stderr"
        },
        {
          "output_type": "stream",
          "text": [
            "Epoch 1/10\n",
            "1/1 [==============================] - 0s 65ms/step - loss: 0.3019 - mse: 0.3019\n",
            "Epoch 2/10\n",
            "1/1 [==============================] - 0s 65ms/step - loss: 0.3019 - mse: 0.3019\n",
            "Epoch 3/10\n",
            "1/1 [==============================] - 0s 66ms/step - loss: 0.3018 - mse: 0.3018\n",
            "Epoch 4/10\n",
            "1/1 [==============================] - 0s 69ms/step - loss: 0.3018 - mse: 0.3018\n",
            "Epoch 5/10\n",
            "1/1 [==============================] - 0s 69ms/step - loss: 0.3019 - mse: 0.3019\n",
            "Epoch 6/10\n",
            "1/1 [==============================] - 0s 75ms/step - loss: 0.3019 - mse: 0.3019\n",
            "Epoch 7/10\n",
            "1/1 [==============================] - 0s 78ms/step - loss: 0.3019 - mse: 0.3019\n",
            "Epoch 8/10\n",
            "1/1 [==============================] - 0s 73ms/step - loss: 0.3019 - mse: 0.3019\n",
            "Epoch 9/10\n",
            "1/1 [==============================] - 0s 71ms/step - loss: 0.3019 - mse: 0.3019\n",
            "Epoch 10/10\n",
            "1/1 [==============================] - 0s 70ms/step - loss: 0.3018 - mse: 0.3018\n"
          ],
          "name": "stdout"
        },
        {
          "output_type": "stream",
          "text": [
            "\r 87%|████████▋ | 461/529 [07:32<01:04,  1.05it/s]"
          ],
          "name": "stderr"
        },
        {
          "output_type": "stream",
          "text": [
            "Epoch 1/10\n",
            "1/1 [==============================] - 0s 69ms/step - loss: 0.3137 - mse: 0.3137\n",
            "Epoch 2/10\n",
            "1/1 [==============================] - 0s 67ms/step - loss: 0.3135 - mse: 0.3135\n",
            "Epoch 3/10\n",
            "1/1 [==============================] - 0s 66ms/step - loss: 0.3135 - mse: 0.3135\n",
            "Epoch 4/10\n",
            "1/1 [==============================] - 0s 69ms/step - loss: 0.3136 - mse: 0.3136\n",
            "Epoch 5/10\n",
            "1/1 [==============================] - 0s 65ms/step - loss: 0.3135 - mse: 0.3135\n",
            "Epoch 6/10\n",
            "1/1 [==============================] - 0s 70ms/step - loss: 0.3134 - mse: 0.3134\n",
            "Epoch 7/10\n",
            "1/1 [==============================] - 0s 71ms/step - loss: 0.3135 - mse: 0.3135\n",
            "Epoch 8/10\n",
            "1/1 [==============================] - 0s 72ms/step - loss: 0.3135 - mse: 0.3135\n",
            "Epoch 9/10\n",
            "1/1 [==============================] - 0s 68ms/step - loss: 0.3135 - mse: 0.3135\n",
            "Epoch 10/10\n",
            "1/1 [==============================] - 0s 67ms/step - loss: 0.3134 - mse: 0.3134\n"
          ],
          "name": "stdout"
        },
        {
          "output_type": "stream",
          "text": [
            "\r 87%|████████▋ | 462/529 [07:33<01:03,  1.06it/s]"
          ],
          "name": "stderr"
        },
        {
          "output_type": "stream",
          "text": [
            "Epoch 1/10\n",
            "1/1 [==============================] - 0s 69ms/step - loss: 0.2982 - mse: 0.2982\n",
            "Epoch 2/10\n",
            "1/1 [==============================] - 0s 70ms/step - loss: 0.2976 - mse: 0.2976\n",
            "Epoch 3/10\n",
            "1/1 [==============================] - 0s 65ms/step - loss: 0.2974 - mse: 0.2974\n",
            "Epoch 4/10\n",
            "1/1 [==============================] - 0s 72ms/step - loss: 0.2978 - mse: 0.2978\n",
            "Epoch 5/10\n",
            "1/1 [==============================] - 0s 70ms/step - loss: 0.2978 - mse: 0.2978\n",
            "Epoch 6/10\n",
            "1/1 [==============================] - 0s 69ms/step - loss: 0.2974 - mse: 0.2974\n",
            "Epoch 7/10\n",
            "1/1 [==============================] - 0s 82ms/step - loss: 0.2975 - mse: 0.2975\n",
            "Epoch 8/10\n",
            "1/1 [==============================] - 0s 84ms/step - loss: 0.2977 - mse: 0.2977\n",
            "Epoch 9/10\n",
            "1/1 [==============================] - 0s 75ms/step - loss: 0.2976 - mse: 0.2976\n",
            "Epoch 10/10\n",
            "1/1 [==============================] - 0s 80ms/step - loss: 0.2974 - mse: 0.2974\n"
          ],
          "name": "stdout"
        },
        {
          "output_type": "stream",
          "text": [
            "\r 88%|████████▊ | 463/529 [07:34<01:02,  1.05it/s]"
          ],
          "name": "stderr"
        },
        {
          "output_type": "stream",
          "text": [
            "Epoch 1/10\n",
            "1/1 [==============================] - 0s 68ms/step - loss: 0.3108 - mse: 0.3108\n",
            "Epoch 2/10\n",
            "1/1 [==============================] - 0s 66ms/step - loss: 0.3105 - mse: 0.3105\n",
            "Epoch 3/10\n",
            "1/1 [==============================] - 0s 69ms/step - loss: 0.3100 - mse: 0.3100\n",
            "Epoch 4/10\n",
            "1/1 [==============================] - 0s 69ms/step - loss: 0.3103 - mse: 0.3103\n",
            "Epoch 5/10\n",
            "1/1 [==============================] - 0s 69ms/step - loss: 0.3105 - mse: 0.3105\n",
            "Epoch 6/10\n",
            "1/1 [==============================] - 0s 66ms/step - loss: 0.3101 - mse: 0.3101\n",
            "Epoch 7/10\n",
            "1/1 [==============================] - 0s 82ms/step - loss: 0.3100 - mse: 0.3100\n",
            "Epoch 8/10\n",
            "1/1 [==============================] - 0s 75ms/step - loss: 0.3103 - mse: 0.3103\n",
            "Epoch 9/10\n",
            "1/1 [==============================] - 0s 76ms/step - loss: 0.3103 - mse: 0.3103\n",
            "Epoch 10/10\n",
            "1/1 [==============================] - 0s 77ms/step - loss: 0.3100 - mse: 0.3100\n"
          ],
          "name": "stdout"
        },
        {
          "output_type": "stream",
          "text": [
            "\r 88%|████████▊ | 464/529 [07:35<01:02,  1.04it/s]"
          ],
          "name": "stderr"
        },
        {
          "output_type": "stream",
          "text": [
            "Epoch 1/10\n",
            "1/1 [==============================] - 0s 68ms/step - loss: 0.3078 - mse: 0.3078\n",
            "Epoch 2/10\n",
            "1/1 [==============================] - 0s 70ms/step - loss: 0.3080 - mse: 0.3080\n",
            "Epoch 3/10\n",
            "1/1 [==============================] - 0s 68ms/step - loss: 0.3078 - mse: 0.3078\n",
            "Epoch 4/10\n",
            "1/1 [==============================] - 0s 71ms/step - loss: 0.3077 - mse: 0.3077\n",
            "Epoch 5/10\n",
            "1/1 [==============================] - 0s 80ms/step - loss: 0.3078 - mse: 0.3078\n",
            "Epoch 6/10\n",
            "1/1 [==============================] - 0s 76ms/step - loss: 0.3078 - mse: 0.3078\n",
            "Epoch 7/10\n",
            "1/1 [==============================] - 0s 72ms/step - loss: 0.3077 - mse: 0.3077\n",
            "Epoch 8/10\n",
            "1/1 [==============================] - 0s 75ms/step - loss: 0.3077 - mse: 0.3077\n",
            "Epoch 9/10\n",
            "1/1 [==============================] - 0s 70ms/step - loss: 0.3078 - mse: 0.3078\n",
            "Epoch 10/10\n",
            "1/1 [==============================] - 0s 77ms/step - loss: 0.3078 - mse: 0.3078\n"
          ],
          "name": "stdout"
        },
        {
          "output_type": "stream",
          "text": [
            "\r 88%|████████▊ | 465/529 [07:36<01:02,  1.03it/s]"
          ],
          "name": "stderr"
        },
        {
          "output_type": "stream",
          "text": [
            "Epoch 1/10\n",
            "1/1 [==============================] - 0s 70ms/step - loss: 0.3074 - mse: 0.3074\n",
            "Epoch 2/10\n",
            "1/1 [==============================] - 0s 69ms/step - loss: 0.3074 - mse: 0.3074\n",
            "Epoch 3/10\n",
            "1/1 [==============================] - 0s 67ms/step - loss: 0.3074 - mse: 0.3074\n",
            "Epoch 4/10\n",
            "1/1 [==============================] - 0s 80ms/step - loss: 0.3074 - mse: 0.3074\n",
            "Epoch 5/10\n",
            "1/1 [==============================] - 0s 71ms/step - loss: 0.3074 - mse: 0.3074\n",
            "Epoch 6/10\n",
            "1/1 [==============================] - 0s 80ms/step - loss: 0.3074 - mse: 0.3074\n",
            "Epoch 7/10\n",
            "1/1 [==============================] - 0s 72ms/step - loss: 0.3074 - mse: 0.3074\n",
            "Epoch 8/10\n",
            "1/1 [==============================] - 0s 73ms/step - loss: 0.3074 - mse: 0.3074\n",
            "Epoch 9/10\n",
            "1/1 [==============================] - 0s 82ms/step - loss: 0.3074 - mse: 0.3074\n",
            "Epoch 10/10\n",
            "1/1 [==============================] - 0s 71ms/step - loss: 0.3074 - mse: 0.3074\n"
          ],
          "name": "stdout"
        },
        {
          "output_type": "stream",
          "text": [
            "\r 88%|████████▊ | 466/529 [07:37<01:02,  1.02it/s]"
          ],
          "name": "stderr"
        },
        {
          "output_type": "stream",
          "text": [
            "Epoch 1/10\n",
            "1/1 [==============================] - 0s 68ms/step - loss: 0.3074 - mse: 0.3074\n",
            "Epoch 2/10\n",
            "1/1 [==============================] - 0s 64ms/step - loss: 0.3073 - mse: 0.3073\n",
            "Epoch 3/10\n",
            "1/1 [==============================] - 0s 75ms/step - loss: 0.3074 - mse: 0.3074\n",
            "Epoch 4/10\n",
            "1/1 [==============================] - 0s 81ms/step - loss: 0.3074 - mse: 0.3074\n",
            "Epoch 5/10\n",
            "1/1 [==============================] - 0s 71ms/step - loss: 0.3073 - mse: 0.3073\n",
            "Epoch 6/10\n",
            "1/1 [==============================] - 0s 80ms/step - loss: 0.3073 - mse: 0.3073\n",
            "Epoch 7/10\n",
            "1/1 [==============================] - 0s 75ms/step - loss: 0.3074 - mse: 0.3074\n",
            "Epoch 8/10\n",
            "1/1 [==============================] - 0s 75ms/step - loss: 0.3074 - mse: 0.3074\n",
            "Epoch 9/10\n",
            "1/1 [==============================] - 0s 82ms/step - loss: 0.3073 - mse: 0.3073\n",
            "Epoch 10/10\n",
            "1/1 [==============================] - 0s 73ms/step - loss: 0.3073 - mse: 0.3073\n"
          ],
          "name": "stdout"
        },
        {
          "output_type": "stream",
          "text": [
            "\r 88%|████████▊ | 467/529 [07:38<01:02,  1.00s/it]"
          ],
          "name": "stderr"
        },
        {
          "output_type": "stream",
          "text": [
            "Epoch 1/10\n",
            "1/1 [==============================] - 0s 59ms/step - loss: 0.3100 - mse: 0.3100\n",
            "Epoch 2/10\n",
            "1/1 [==============================] - 0s 66ms/step - loss: 0.3100 - mse: 0.3100\n",
            "Epoch 3/10\n",
            "1/1 [==============================] - 0s 74ms/step - loss: 0.3100 - mse: 0.3100\n",
            "Epoch 4/10\n",
            "1/1 [==============================] - 0s 79ms/step - loss: 0.3100 - mse: 0.3100\n",
            "Epoch 5/10\n",
            "1/1 [==============================] - 0s 72ms/step - loss: 0.3100 - mse: 0.3100\n",
            "Epoch 6/10\n",
            "1/1 [==============================] - 0s 69ms/step - loss: 0.3100 - mse: 0.3100\n",
            "Epoch 7/10\n",
            "1/1 [==============================] - 0s 74ms/step - loss: 0.3100 - mse: 0.3100\n",
            "Epoch 8/10\n",
            "1/1 [==============================] - 0s 76ms/step - loss: 0.3100 - mse: 0.3100\n",
            "Epoch 9/10\n",
            "1/1 [==============================] - 0s 71ms/step - loss: 0.3100 - mse: 0.3100\n",
            "Epoch 10/10\n",
            "1/1 [==============================] - 0s 79ms/step - loss: 0.3100 - mse: 0.3100\n"
          ],
          "name": "stdout"
        },
        {
          "output_type": "stream",
          "text": [
            "\r 88%|████████▊ | 468/529 [07:39<01:01,  1.00s/it]"
          ],
          "name": "stderr"
        },
        {
          "output_type": "stream",
          "text": [
            "Epoch 1/10\n",
            "1/1 [==============================] - 0s 71ms/step - loss: 0.3091 - mse: 0.3091\n",
            "Epoch 2/10\n",
            "1/1 [==============================] - 0s 71ms/step - loss: 0.3091 - mse: 0.3091\n",
            "Epoch 3/10\n",
            "1/1 [==============================] - 0s 69ms/step - loss: 0.3091 - mse: 0.3091\n",
            "Epoch 4/10\n",
            "1/1 [==============================] - 0s 78ms/step - loss: 0.3091 - mse: 0.3091\n",
            "Epoch 5/10\n",
            "1/1 [==============================] - 0s 71ms/step - loss: 0.3091 - mse: 0.3091\n",
            "Epoch 6/10\n",
            "1/1 [==============================] - 0s 73ms/step - loss: 0.3091 - mse: 0.3091\n",
            "Epoch 7/10\n",
            "1/1 [==============================] - 0s 70ms/step - loss: 0.3091 - mse: 0.3091\n",
            "Epoch 8/10\n",
            "1/1 [==============================] - 0s 70ms/step - loss: 0.3091 - mse: 0.3091\n",
            "Epoch 9/10\n",
            "1/1 [==============================] - 0s 83ms/step - loss: 0.3091 - mse: 0.3091\n",
            "Epoch 10/10\n",
            "1/1 [==============================] - 0s 74ms/step - loss: 0.3091 - mse: 0.3091\n"
          ],
          "name": "stdout"
        },
        {
          "output_type": "stream",
          "text": [
            "\r 89%|████████▊ | 469/529 [07:40<01:00,  1.00s/it]"
          ],
          "name": "stderr"
        },
        {
          "output_type": "stream",
          "text": [
            "Epoch 1/10\n",
            "1/1 [==============================] - 0s 66ms/step - loss: 0.3130 - mse: 0.3130\n",
            "Epoch 2/10\n",
            "1/1 [==============================] - 0s 67ms/step - loss: 0.3130 - mse: 0.3130\n",
            "Epoch 3/10\n",
            "1/1 [==============================] - 0s 71ms/step - loss: 0.3130 - mse: 0.3130\n",
            "Epoch 4/10\n",
            "1/1 [==============================] - 0s 76ms/step - loss: 0.3130 - mse: 0.3130\n",
            "Epoch 5/10\n",
            "1/1 [==============================] - 0s 81ms/step - loss: 0.3130 - mse: 0.3130\n",
            "Epoch 6/10\n",
            "1/1 [==============================] - 0s 75ms/step - loss: 0.3130 - mse: 0.3130\n",
            "Epoch 7/10\n",
            "1/1 [==============================] - 0s 71ms/step - loss: 0.3130 - mse: 0.3130\n",
            "Epoch 8/10\n",
            "1/1 [==============================] - 0s 76ms/step - loss: 0.3130 - mse: 0.3130\n",
            "Epoch 9/10\n",
            "1/1 [==============================] - 0s 77ms/step - loss: 0.3130 - mse: 0.3130\n",
            "Epoch 10/10\n",
            "1/1 [==============================] - 0s 75ms/step - loss: 0.3130 - mse: 0.3130\n"
          ],
          "name": "stdout"
        },
        {
          "output_type": "stream",
          "text": [
            "\r 89%|████████▉ | 470/529 [07:41<00:59,  1.00s/it]"
          ],
          "name": "stderr"
        },
        {
          "output_type": "stream",
          "text": [
            "Epoch 1/10\n",
            "1/1 [==============================] - 0s 66ms/step - loss: 0.3084 - mse: 0.3084\n",
            "Epoch 2/10\n",
            "1/1 [==============================] - 0s 72ms/step - loss: 0.3083 - mse: 0.3083\n",
            "Epoch 3/10\n",
            "1/1 [==============================] - 0s 71ms/step - loss: 0.3083 - mse: 0.3083\n",
            "Epoch 4/10\n",
            "1/1 [==============================] - 0s 73ms/step - loss: 0.3084 - mse: 0.3084\n",
            "Epoch 5/10\n",
            "1/1 [==============================] - 0s 72ms/step - loss: 0.3084 - mse: 0.3084\n",
            "Epoch 6/10\n",
            "1/1 [==============================] - 0s 71ms/step - loss: 0.3083 - mse: 0.3083\n",
            "Epoch 7/10\n",
            "1/1 [==============================] - 0s 73ms/step - loss: 0.3083 - mse: 0.3083\n",
            "Epoch 8/10\n",
            "1/1 [==============================] - 0s 81ms/step - loss: 0.3084 - mse: 0.3084\n",
            "Epoch 9/10\n",
            "1/1 [==============================] - 0s 74ms/step - loss: 0.3083 - mse: 0.3083\n",
            "Epoch 10/10\n",
            "1/1 [==============================] - 0s 82ms/step - loss: 0.3083 - mse: 0.3083\n"
          ],
          "name": "stdout"
        },
        {
          "output_type": "stream",
          "text": [
            "\r 89%|████████▉ | 471/529 [07:42<00:57,  1.00it/s]"
          ],
          "name": "stderr"
        },
        {
          "output_type": "stream",
          "text": [
            "Epoch 1/10\n",
            "1/1 [==============================] - 0s 60ms/step - loss: 0.3085 - mse: 0.3085\n",
            "Epoch 2/10\n",
            "1/1 [==============================] - 0s 65ms/step - loss: 0.3085 - mse: 0.3085\n",
            "Epoch 3/10\n",
            "1/1 [==============================] - 0s 68ms/step - loss: 0.3085 - mse: 0.3085\n",
            "Epoch 4/10\n",
            "1/1 [==============================] - 0s 75ms/step - loss: 0.3085 - mse: 0.3085\n",
            "Epoch 5/10\n",
            "1/1 [==============================] - 0s 71ms/step - loss: 0.3085 - mse: 0.3085\n",
            "Epoch 6/10\n",
            "1/1 [==============================] - 0s 71ms/step - loss: 0.3085 - mse: 0.3085\n",
            "Epoch 7/10\n",
            "1/1 [==============================] - 0s 66ms/step - loss: 0.3085 - mse: 0.3085\n",
            "Epoch 8/10\n",
            "1/1 [==============================] - 0s 76ms/step - loss: 0.3085 - mse: 0.3085\n",
            "Epoch 9/10\n",
            "1/1 [==============================] - 0s 68ms/step - loss: 0.3085 - mse: 0.3085\n",
            "Epoch 10/10\n",
            "1/1 [==============================] - 0s 77ms/step - loss: 0.3085 - mse: 0.3085\n"
          ],
          "name": "stdout"
        },
        {
          "output_type": "stream",
          "text": [
            "\r 89%|████████▉ | 472/529 [07:43<00:56,  1.02it/s]"
          ],
          "name": "stderr"
        },
        {
          "output_type": "stream",
          "text": [
            "Epoch 1/10\n",
            "1/1 [==============================] - 0s 60ms/step - loss: 0.3027 - mse: 0.3027\n",
            "Epoch 2/10\n",
            "1/1 [==============================] - 0s 74ms/step - loss: 0.3027 - mse: 0.3027\n",
            "Epoch 3/10\n",
            "1/1 [==============================] - 0s 69ms/step - loss: 0.3026 - mse: 0.3026\n",
            "Epoch 4/10\n",
            "1/1 [==============================] - 0s 72ms/step - loss: 0.3027 - mse: 0.3027\n",
            "Epoch 5/10\n",
            "1/1 [==============================] - 0s 72ms/step - loss: 0.3027 - mse: 0.3027\n",
            "Epoch 6/10\n",
            "1/1 [==============================] - 0s 68ms/step - loss: 0.3026 - mse: 0.3026\n",
            "Epoch 7/10\n",
            "1/1 [==============================] - 0s 68ms/step - loss: 0.3026 - mse: 0.3026\n",
            "Epoch 8/10\n",
            "1/1 [==============================] - 0s 72ms/step - loss: 0.3027 - mse: 0.3027\n",
            "Epoch 9/10\n",
            "1/1 [==============================] - 0s 67ms/step - loss: 0.3026 - mse: 0.3026\n",
            "Epoch 10/10\n",
            "1/1 [==============================] - 0s 71ms/step - loss: 0.3026 - mse: 0.3026\n"
          ],
          "name": "stdout"
        },
        {
          "output_type": "stream",
          "text": [
            "\r 89%|████████▉ | 473/529 [07:44<00:54,  1.03it/s]"
          ],
          "name": "stderr"
        },
        {
          "output_type": "stream",
          "text": [
            "Epoch 1/10\n",
            "1/1 [==============================] - 0s 60ms/step - loss: 0.3069 - mse: 0.3069\n",
            "Epoch 2/10\n",
            "1/1 [==============================] - 0s 67ms/step - loss: 0.3069 - mse: 0.3069\n",
            "Epoch 3/10\n",
            "1/1 [==============================] - 0s 71ms/step - loss: 0.3068 - mse: 0.3068\n",
            "Epoch 4/10\n",
            "1/1 [==============================] - 0s 74ms/step - loss: 0.3069 - mse: 0.3069\n",
            "Epoch 5/10\n",
            "1/1 [==============================] - 0s 79ms/step - loss: 0.3069 - mse: 0.3069\n",
            "Epoch 6/10\n",
            "1/1 [==============================] - 0s 72ms/step - loss: 0.3068 - mse: 0.3068\n",
            "Epoch 7/10\n",
            "1/1 [==============================] - 0s 75ms/step - loss: 0.3068 - mse: 0.3068\n",
            "Epoch 8/10\n",
            "1/1 [==============================] - 0s 76ms/step - loss: 0.3069 - mse: 0.3069\n",
            "Epoch 9/10\n",
            "1/1 [==============================] - 0s 72ms/step - loss: 0.3069 - mse: 0.3069\n",
            "Epoch 10/10\n",
            "1/1 [==============================] - 0s 71ms/step - loss: 0.3068 - mse: 0.3068\n"
          ],
          "name": "stdout"
        },
        {
          "output_type": "stream",
          "text": [
            "\r 90%|████████▉ | 474/529 [07:45<00:53,  1.03it/s]"
          ],
          "name": "stderr"
        },
        {
          "output_type": "stream",
          "text": [
            "Epoch 1/10\n",
            "1/1 [==============================] - 0s 63ms/step - loss: 0.3096 - mse: 0.3096\n",
            "Epoch 2/10\n",
            "1/1 [==============================] - 0s 68ms/step - loss: 0.3096 - mse: 0.3096\n",
            "Epoch 3/10\n",
            "1/1 [==============================] - 0s 68ms/step - loss: 0.3096 - mse: 0.3096\n",
            "Epoch 4/10\n",
            "1/1 [==============================] - 0s 78ms/step - loss: 0.3096 - mse: 0.3096\n",
            "Epoch 5/10\n",
            "1/1 [==============================] - 0s 73ms/step - loss: 0.3096 - mse: 0.3096\n",
            "Epoch 6/10\n",
            "1/1 [==============================] - 0s 72ms/step - loss: 0.3096 - mse: 0.3096\n",
            "Epoch 7/10\n",
            "1/1 [==============================] - 0s 74ms/step - loss: 0.3096 - mse: 0.3096\n",
            "Epoch 8/10\n",
            "1/1 [==============================] - 0s 72ms/step - loss: 0.3096 - mse: 0.3096\n",
            "Epoch 9/10\n",
            "1/1 [==============================] - 0s 72ms/step - loss: 0.3096 - mse: 0.3096\n",
            "Epoch 10/10\n",
            "1/1 [==============================] - 0s 78ms/step - loss: 0.3096 - mse: 0.3096\n"
          ],
          "name": "stdout"
        },
        {
          "output_type": "stream",
          "text": [
            "\r 90%|████████▉ | 475/529 [07:46<00:53,  1.02it/s]"
          ],
          "name": "stderr"
        },
        {
          "output_type": "stream",
          "text": [
            "Epoch 1/10\n",
            "1/1 [==============================] - 0s 61ms/step - loss: 0.3037 - mse: 0.3037\n",
            "Epoch 2/10\n",
            "1/1 [==============================] - 0s 68ms/step - loss: 0.3036 - mse: 0.3036\n",
            "Epoch 3/10\n",
            "1/1 [==============================] - 0s 67ms/step - loss: 0.3036 - mse: 0.3036\n",
            "Epoch 4/10\n",
            "1/1 [==============================] - 0s 70ms/step - loss: 0.3036 - mse: 0.3036\n",
            "Epoch 5/10\n",
            "1/1 [==============================] - 0s 69ms/step - loss: 0.3035 - mse: 0.3035\n",
            "Epoch 6/10\n",
            "1/1 [==============================] - 0s 73ms/step - loss: 0.3035 - mse: 0.3035\n",
            "Epoch 7/10\n",
            "1/1 [==============================] - 0s 69ms/step - loss: 0.3036 - mse: 0.3036\n",
            "Epoch 8/10\n",
            "1/1 [==============================] - 0s 75ms/step - loss: 0.3036 - mse: 0.3036\n",
            "Epoch 9/10\n",
            "1/1 [==============================] - 0s 76ms/step - loss: 0.3035 - mse: 0.3035\n",
            "Epoch 10/10\n",
            "1/1 [==============================] - 0s 69ms/step - loss: 0.3035 - mse: 0.3035\n"
          ],
          "name": "stdout"
        },
        {
          "output_type": "stream",
          "text": [
            "\r 90%|████████▉ | 476/529 [07:47<00:51,  1.03it/s]"
          ],
          "name": "stderr"
        },
        {
          "output_type": "stream",
          "text": [
            "Epoch 1/10\n",
            "1/1 [==============================] - 0s 69ms/step - loss: 0.3081 - mse: 0.3081\n",
            "Epoch 2/10\n",
            "1/1 [==============================] - 0s 68ms/step - loss: 0.3079 - mse: 0.3079\n",
            "Epoch 3/10\n",
            "1/1 [==============================] - 0s 66ms/step - loss: 0.3078 - mse: 0.3078\n",
            "Epoch 4/10\n",
            "1/1 [==============================] - 0s 71ms/step - loss: 0.3079 - mse: 0.3079\n",
            "Epoch 5/10\n",
            "1/1 [==============================] - 0s 71ms/step - loss: 0.3079 - mse: 0.3079\n",
            "Epoch 6/10\n",
            "1/1 [==============================] - 0s 74ms/step - loss: 0.3078 - mse: 0.3078\n",
            "Epoch 7/10\n",
            "1/1 [==============================] - 0s 75ms/step - loss: 0.3079 - mse: 0.3079\n",
            "Epoch 8/10\n",
            "1/1 [==============================] - 0s 73ms/step - loss: 0.3079 - mse: 0.3079\n",
            "Epoch 9/10\n",
            "1/1 [==============================] - 0s 75ms/step - loss: 0.3079 - mse: 0.3079\n",
            "Epoch 10/10\n",
            "1/1 [==============================] - 0s 75ms/step - loss: 0.3078 - mse: 0.3078\n"
          ],
          "name": "stdout"
        },
        {
          "output_type": "stream",
          "text": [
            "\r 90%|█████████ | 477/529 [07:48<00:51,  1.02it/s]"
          ],
          "name": "stderr"
        },
        {
          "output_type": "stream",
          "text": [
            "Epoch 1/10\n",
            "1/1 [==============================] - 0s 59ms/step - loss: 0.3092 - mse: 0.3092\n",
            "Epoch 2/10\n",
            "1/1 [==============================] - 0s 70ms/step - loss: 0.3092 - mse: 0.3092\n",
            "Epoch 3/10\n",
            "1/1 [==============================] - 0s 65ms/step - loss: 0.3092 - mse: 0.3092\n",
            "Epoch 4/10\n",
            "1/1 [==============================] - 0s 73ms/step - loss: 0.3092 - mse: 0.3092\n",
            "Epoch 5/10\n",
            "1/1 [==============================] - 0s 73ms/step - loss: 0.3092 - mse: 0.3092\n",
            "Epoch 6/10\n",
            "1/1 [==============================] - 0s 74ms/step - loss: 0.3092 - mse: 0.3092\n",
            "Epoch 7/10\n",
            "1/1 [==============================] - 0s 71ms/step - loss: 0.3092 - mse: 0.3092\n",
            "Epoch 8/10\n",
            "1/1 [==============================] - 0s 77ms/step - loss: 0.3092 - mse: 0.3092\n",
            "Epoch 9/10\n",
            "1/1 [==============================] - 0s 72ms/step - loss: 0.3092 - mse: 0.3092\n",
            "Epoch 10/10\n",
            "1/1 [==============================] - 0s 72ms/step - loss: 0.3092 - mse: 0.3092\n"
          ],
          "name": "stdout"
        },
        {
          "output_type": "stream",
          "text": [
            "\r 90%|█████████ | 478/529 [07:49<00:50,  1.02it/s]"
          ],
          "name": "stderr"
        },
        {
          "output_type": "stream",
          "text": [
            "Epoch 1/10\n",
            "1/1 [==============================] - 0s 60ms/step - loss: 0.3073 - mse: 0.3073\n",
            "Epoch 2/10\n",
            "1/1 [==============================] - 0s 65ms/step - loss: 0.3073 - mse: 0.3073\n",
            "Epoch 3/10\n",
            "1/1 [==============================] - 0s 65ms/step - loss: 0.3074 - mse: 0.3074\n",
            "Epoch 4/10\n",
            "1/1 [==============================] - 0s 71ms/step - loss: 0.3073 - mse: 0.3073\n",
            "Epoch 5/10\n",
            "1/1 [==============================] - 0s 73ms/step - loss: 0.3073 - mse: 0.3073\n",
            "Epoch 6/10\n",
            "1/1 [==============================] - 0s 72ms/step - loss: 0.3073 - mse: 0.3073\n",
            "Epoch 7/10\n",
            "1/1 [==============================] - 0s 72ms/step - loss: 0.3073 - mse: 0.3073\n",
            "Epoch 8/10\n",
            "1/1 [==============================] - 0s 80ms/step - loss: 0.3073 - mse: 0.3073\n",
            "Epoch 9/10\n",
            "1/1 [==============================] - 0s 76ms/step - loss: 0.3073 - mse: 0.3073\n",
            "Epoch 10/10\n",
            "1/1 [==============================] - 0s 76ms/step - loss: 0.3073 - mse: 0.3073\n"
          ],
          "name": "stdout"
        },
        {
          "output_type": "stream",
          "text": [
            "\r 91%|█████████ | 479/529 [07:50<00:49,  1.01it/s]"
          ],
          "name": "stderr"
        },
        {
          "output_type": "stream",
          "text": [
            "Epoch 1/10\n",
            "1/1 [==============================] - 0s 61ms/step - loss: 0.3084 - mse: 0.3084\n",
            "Epoch 2/10\n",
            "1/1 [==============================] - 0s 72ms/step - loss: 0.3083 - mse: 0.3083\n",
            "Epoch 3/10\n",
            "1/1 [==============================] - 0s 67ms/step - loss: 0.3084 - mse: 0.3084\n",
            "Epoch 4/10\n",
            "1/1 [==============================] - 0s 72ms/step - loss: 0.3084 - mse: 0.3084\n",
            "Epoch 5/10\n",
            "1/1 [==============================] - 0s 70ms/step - loss: 0.3083 - mse: 0.3083\n",
            "Epoch 6/10\n",
            "1/1 [==============================] - 0s 74ms/step - loss: 0.3083 - mse: 0.3083\n",
            "Epoch 7/10\n",
            "1/1 [==============================] - 0s 73ms/step - loss: 0.3084 - mse: 0.3084\n",
            "Epoch 8/10\n",
            "1/1 [==============================] - 0s 74ms/step - loss: 0.3084 - mse: 0.3084\n",
            "Epoch 9/10\n",
            "1/1 [==============================] - 0s 74ms/step - loss: 0.3083 - mse: 0.3083\n",
            "Epoch 10/10\n",
            "1/1 [==============================] - 0s 74ms/step - loss: 0.3083 - mse: 0.3083\n"
          ],
          "name": "stdout"
        },
        {
          "output_type": "stream",
          "text": [
            "\r 91%|█████████ | 480/529 [07:51<00:48,  1.01it/s]"
          ],
          "name": "stderr"
        },
        {
          "output_type": "stream",
          "text": [
            "Epoch 1/10\n",
            "1/1 [==============================] - 0s 69ms/step - loss: 0.3083 - mse: 0.3083\n",
            "Epoch 2/10\n",
            "1/1 [==============================] - 0s 66ms/step - loss: 0.3082 - mse: 0.3082\n",
            "Epoch 3/10\n",
            "1/1 [==============================] - 0s 70ms/step - loss: 0.3082 - mse: 0.3082\n",
            "Epoch 4/10\n",
            "1/1 [==============================] - 0s 67ms/step - loss: 0.3082 - mse: 0.3082\n",
            "Epoch 5/10\n",
            "1/1 [==============================] - 0s 85ms/step - loss: 0.3082 - mse: 0.3082\n",
            "Epoch 6/10\n",
            "1/1 [==============================] - 0s 72ms/step - loss: 0.3082 - mse: 0.3082\n",
            "Epoch 7/10\n",
            "1/1 [==============================] - 0s 76ms/step - loss: 0.3082 - mse: 0.3082\n",
            "Epoch 8/10\n",
            "1/1 [==============================] - 0s 82ms/step - loss: 0.3082 - mse: 0.3082\n",
            "Epoch 9/10\n",
            "1/1 [==============================] - 0s 83ms/step - loss: 0.3082 - mse: 0.3082\n",
            "Epoch 10/10\n",
            "1/1 [==============================] - 0s 78ms/step - loss: 0.3082 - mse: 0.3082\n"
          ],
          "name": "stdout"
        },
        {
          "output_type": "stream",
          "text": [
            "\r 91%|█████████ | 481/529 [07:52<00:47,  1.01it/s]"
          ],
          "name": "stderr"
        },
        {
          "output_type": "stream",
          "text": [
            "Epoch 1/10\n",
            "1/1 [==============================] - 0s 64ms/step - loss: 0.3095 - mse: 0.3095\n",
            "Epoch 2/10\n",
            "1/1 [==============================] - 0s 77ms/step - loss: 0.3095 - mse: 0.3095\n",
            "Epoch 3/10\n",
            "1/1 [==============================] - 0s 90ms/step - loss: 0.3095 - mse: 0.3095\n",
            "Epoch 4/10\n",
            "1/1 [==============================] - 0s 73ms/step - loss: 0.3095 - mse: 0.3095\n",
            "Epoch 5/10\n",
            "1/1 [==============================] - 0s 75ms/step - loss: 0.3095 - mse: 0.3095\n",
            "Epoch 6/10\n",
            "1/1 [==============================] - 0s 80ms/step - loss: 0.3095 - mse: 0.3095\n",
            "Epoch 7/10\n",
            "1/1 [==============================] - 0s 80ms/step - loss: 0.3095 - mse: 0.3095\n",
            "Epoch 8/10\n",
            "1/1 [==============================] - 0s 74ms/step - loss: 0.3095 - mse: 0.3095\n",
            "Epoch 9/10\n",
            "1/1 [==============================] - 0s 77ms/step - loss: 0.3095 - mse: 0.3095\n",
            "Epoch 10/10\n",
            "1/1 [==============================] - 0s 76ms/step - loss: 0.3095 - mse: 0.3095\n"
          ],
          "name": "stdout"
        },
        {
          "output_type": "stream",
          "text": [
            "\r 91%|█████████ | 482/529 [07:53<00:47,  1.01s/it]"
          ],
          "name": "stderr"
        },
        {
          "output_type": "stream",
          "text": [
            "Epoch 1/10\n",
            "1/1 [==============================] - 0s 61ms/step - loss: 0.3044 - mse: 0.3044\n",
            "Epoch 2/10\n",
            "1/1 [==============================] - 0s 68ms/step - loss: 0.3043 - mse: 0.3043\n",
            "Epoch 3/10\n",
            "1/1 [==============================] - 0s 71ms/step - loss: 0.3043 - mse: 0.3043\n",
            "Epoch 4/10\n",
            "1/1 [==============================] - 0s 81ms/step - loss: 0.3044 - mse: 0.3044\n",
            "Epoch 5/10\n",
            "1/1 [==============================] - 0s 76ms/step - loss: 0.3043 - mse: 0.3043\n",
            "Epoch 6/10\n",
            "1/1 [==============================] - 0s 77ms/step - loss: 0.3043 - mse: 0.3043\n",
            "Epoch 7/10\n",
            "1/1 [==============================] - 0s 71ms/step - loss: 0.3043 - mse: 0.3043\n",
            "Epoch 8/10\n",
            "1/1 [==============================] - 0s 78ms/step - loss: 0.3044 - mse: 0.3044\n",
            "Epoch 9/10\n",
            "1/1 [==============================] - 0s 77ms/step - loss: 0.3043 - mse: 0.3043\n",
            "Epoch 10/10\n",
            "1/1 [==============================] - 0s 79ms/step - loss: 0.3043 - mse: 0.3043\n"
          ],
          "name": "stdout"
        },
        {
          "output_type": "stream",
          "text": [
            "\r 91%|█████████▏| 483/529 [07:54<00:46,  1.01s/it]"
          ],
          "name": "stderr"
        },
        {
          "output_type": "stream",
          "text": [
            "Epoch 1/10\n",
            "1/1 [==============================] - 0s 59ms/step - loss: 0.3005 - mse: 0.3005\n",
            "Epoch 2/10\n",
            "1/1 [==============================] - 0s 61ms/step - loss: 0.3005 - mse: 0.3005\n",
            "Epoch 3/10\n",
            "1/1 [==============================] - 0s 75ms/step - loss: 0.3005 - mse: 0.3005\n",
            "Epoch 4/10\n",
            "1/1 [==============================] - 0s 74ms/step - loss: 0.3005 - mse: 0.3005\n",
            "Epoch 5/10\n",
            "1/1 [==============================] - 0s 73ms/step - loss: 0.3005 - mse: 0.3005\n",
            "Epoch 6/10\n",
            "1/1 [==============================] - 0s 80ms/step - loss: 0.3005 - mse: 0.3005\n",
            "Epoch 7/10\n",
            "1/1 [==============================] - 0s 79ms/step - loss: 0.3005 - mse: 0.3005\n",
            "Epoch 8/10\n",
            "1/1 [==============================] - 0s 77ms/step - loss: 0.3005 - mse: 0.3005\n",
            "Epoch 9/10\n",
            "1/1 [==============================] - 0s 74ms/step - loss: 0.3005 - mse: 0.3005\n",
            "Epoch 10/10\n",
            "1/1 [==============================] - 0s 76ms/step - loss: 0.3005 - mse: 0.3005\n"
          ],
          "name": "stdout"
        },
        {
          "output_type": "stream",
          "text": [
            "\r 91%|█████████▏| 484/529 [07:55<00:45,  1.01s/it]"
          ],
          "name": "stderr"
        },
        {
          "output_type": "stream",
          "text": [
            "Epoch 1/10\n",
            "1/1 [==============================] - 0s 59ms/step - loss: 0.3079 - mse: 0.3079\n",
            "Epoch 2/10\n",
            "1/1 [==============================] - 0s 64ms/step - loss: 0.3077 - mse: 0.3077\n",
            "Epoch 3/10\n",
            "1/1 [==============================] - 0s 73ms/step - loss: 0.3077 - mse: 0.3077\n",
            "Epoch 4/10\n",
            "1/1 [==============================] - 0s 75ms/step - loss: 0.3077 - mse: 0.3077\n",
            "Epoch 5/10\n",
            "1/1 [==============================] - 0s 72ms/step - loss: 0.3077 - mse: 0.3077\n",
            "Epoch 6/10\n",
            "1/1 [==============================] - 0s 73ms/step - loss: 0.3077 - mse: 0.3077\n",
            "Epoch 7/10\n",
            "1/1 [==============================] - 0s 74ms/step - loss: 0.3077 - mse: 0.3077\n",
            "Epoch 8/10\n",
            "1/1 [==============================] - 0s 78ms/step - loss: 0.3077 - mse: 0.3077\n",
            "Epoch 9/10\n",
            "1/1 [==============================] - 0s 72ms/step - loss: 0.3077 - mse: 0.3077\n",
            "Epoch 10/10\n",
            "1/1 [==============================] - 0s 71ms/step - loss: 0.3077 - mse: 0.3077\n"
          ],
          "name": "stdout"
        },
        {
          "output_type": "stream",
          "text": [
            "\r 92%|█████████▏| 485/529 [07:56<00:44,  1.01s/it]"
          ],
          "name": "stderr"
        },
        {
          "output_type": "stream",
          "text": [
            "Epoch 1/10\n",
            "1/1 [==============================] - 0s 64ms/step - loss: 0.3098 - mse: 0.3098\n",
            "Epoch 2/10\n",
            "1/1 [==============================] - 0s 64ms/step - loss: 0.3098 - mse: 0.3098\n",
            "Epoch 3/10\n",
            "1/1 [==============================] - 0s 69ms/step - loss: 0.3098 - mse: 0.3098\n",
            "Epoch 4/10\n",
            "1/1 [==============================] - 0s 67ms/step - loss: 0.3098 - mse: 0.3098\n",
            "Epoch 5/10\n",
            "1/1 [==============================] - 0s 74ms/step - loss: 0.3098 - mse: 0.3098\n",
            "Epoch 6/10\n",
            "1/1 [==============================] - 0s 70ms/step - loss: 0.3098 - mse: 0.3098\n",
            "Epoch 7/10\n",
            "1/1 [==============================] - 0s 70ms/step - loss: 0.3098 - mse: 0.3098\n",
            "Epoch 8/10\n",
            "1/1 [==============================] - 0s 76ms/step - loss: 0.3098 - mse: 0.3098\n",
            "Epoch 9/10\n",
            "1/1 [==============================] - 0s 74ms/step - loss: 0.3098 - mse: 0.3098\n",
            "Epoch 10/10\n",
            "1/1 [==============================] - 0s 76ms/step - loss: 0.3098 - mse: 0.3098\n"
          ],
          "name": "stdout"
        },
        {
          "output_type": "stream",
          "text": [
            "\r 92%|█████████▏| 486/529 [07:57<00:43,  1.00s/it]"
          ],
          "name": "stderr"
        },
        {
          "output_type": "stream",
          "text": [
            "Epoch 1/10\n",
            "1/1 [==============================] - 0s 63ms/step - loss: 0.3089 - mse: 0.3089\n",
            "Epoch 2/10\n",
            "1/1 [==============================] - 0s 66ms/step - loss: 0.3089 - mse: 0.3089\n",
            "Epoch 3/10\n",
            "1/1 [==============================] - 0s 65ms/step - loss: 0.3089 - mse: 0.3089\n",
            "Epoch 4/10\n",
            "1/1 [==============================] - 0s 81ms/step - loss: 0.3089 - mse: 0.3089\n",
            "Epoch 5/10\n",
            "1/1 [==============================] - 0s 69ms/step - loss: 0.3089 - mse: 0.3089\n",
            "Epoch 6/10\n",
            "1/1 [==============================] - 0s 73ms/step - loss: 0.3089 - mse: 0.3089\n",
            "Epoch 7/10\n",
            "1/1 [==============================] - 0s 84ms/step - loss: 0.3089 - mse: 0.3089\n",
            "Epoch 8/10\n",
            "1/1 [==============================] - 0s 79ms/step - loss: 0.3089 - mse: 0.3089\n",
            "Epoch 9/10\n",
            "1/1 [==============================] - 0s 76ms/step - loss: 0.3089 - mse: 0.3089\n",
            "Epoch 10/10\n",
            "1/1 [==============================] - 0s 75ms/step - loss: 0.3089 - mse: 0.3089\n"
          ],
          "name": "stdout"
        },
        {
          "output_type": "stream",
          "text": [
            "\r 92%|█████████▏| 487/529 [07:58<00:42,  1.00s/it]"
          ],
          "name": "stderr"
        },
        {
          "output_type": "stream",
          "text": [
            "Epoch 1/10\n",
            "1/1 [==============================] - 0s 66ms/step - loss: 0.3165 - mse: 0.3165\n",
            "Epoch 2/10\n",
            "1/1 [==============================] - 0s 67ms/step - loss: 0.3164 - mse: 0.3164\n",
            "Epoch 3/10\n",
            "1/1 [==============================] - 0s 81ms/step - loss: 0.3164 - mse: 0.3164\n",
            "Epoch 4/10\n",
            "1/1 [==============================] - 0s 77ms/step - loss: 0.3164 - mse: 0.3164\n",
            "Epoch 5/10\n",
            "1/1 [==============================] - 0s 76ms/step - loss: 0.3164 - mse: 0.3164\n",
            "Epoch 6/10\n",
            "1/1 [==============================] - 0s 82ms/step - loss: 0.3163 - mse: 0.3163\n",
            "Epoch 7/10\n",
            "1/1 [==============================] - 0s 74ms/step - loss: 0.3164 - mse: 0.3164\n",
            "Epoch 8/10\n",
            "1/1 [==============================] - 0s 77ms/step - loss: 0.3164 - mse: 0.3164\n",
            "Epoch 9/10\n",
            "1/1 [==============================] - 0s 76ms/step - loss: 0.3163 - mse: 0.3163\n",
            "Epoch 10/10\n",
            "1/1 [==============================] - 0s 73ms/step - loss: 0.3164 - mse: 0.3164\n"
          ],
          "name": "stdout"
        },
        {
          "output_type": "stream",
          "text": [
            "\r 92%|█████████▏| 488/529 [07:59<00:41,  1.01s/it]"
          ],
          "name": "stderr"
        },
        {
          "output_type": "stream",
          "text": [
            "Epoch 1/10\n",
            "1/1 [==============================] - 0s 61ms/step - loss: 0.3133 - mse: 0.3133\n",
            "Epoch 2/10\n",
            "1/1 [==============================] - 0s 66ms/step - loss: 0.3132 - mse: 0.3132\n",
            "Epoch 3/10\n",
            "1/1 [==============================] - 0s 73ms/step - loss: 0.3132 - mse: 0.3132\n",
            "Epoch 4/10\n",
            "1/1 [==============================] - 0s 77ms/step - loss: 0.3132 - mse: 0.3132\n",
            "Epoch 5/10\n",
            "1/1 [==============================] - 0s 75ms/step - loss: 0.3132 - mse: 0.3132\n",
            "Epoch 6/10\n",
            "1/1 [==============================] - 0s 81ms/step - loss: 0.3131 - mse: 0.3131\n",
            "Epoch 7/10\n",
            "1/1 [==============================] - 0s 73ms/step - loss: 0.3132 - mse: 0.3132\n",
            "Epoch 8/10\n",
            "1/1 [==============================] - 0s 77ms/step - loss: 0.3132 - mse: 0.3132\n",
            "Epoch 9/10\n",
            "1/1 [==============================] - 0s 74ms/step - loss: 0.3132 - mse: 0.3132\n",
            "Epoch 10/10\n",
            "1/1 [==============================] - 0s 78ms/step - loss: 0.3132 - mse: 0.3132\n"
          ],
          "name": "stdout"
        },
        {
          "output_type": "stream",
          "text": [
            "\r 92%|█████████▏| 489/529 [08:00<00:40,  1.02s/it]"
          ],
          "name": "stderr"
        },
        {
          "output_type": "stream",
          "text": [
            "Epoch 1/10\n",
            "1/1 [==============================] - 0s 61ms/step - loss: 0.3170 - mse: 0.3170\n",
            "Epoch 2/10\n",
            "1/1 [==============================] - 0s 68ms/step - loss: 0.3168 - mse: 0.3168\n",
            "Epoch 3/10\n",
            "1/1 [==============================] - 0s 71ms/step - loss: 0.3168 - mse: 0.3168\n",
            "Epoch 4/10\n",
            "1/1 [==============================] - 0s 78ms/step - loss: 0.3168 - mse: 0.3168\n",
            "Epoch 5/10\n",
            "1/1 [==============================] - 0s 79ms/step - loss: 0.3168 - mse: 0.3168\n",
            "Epoch 6/10\n",
            "1/1 [==============================] - 0s 74ms/step - loss: 0.3168 - mse: 0.3168\n",
            "Epoch 7/10\n",
            "1/1 [==============================] - 0s 78ms/step - loss: 0.3168 - mse: 0.3168\n",
            "Epoch 8/10\n",
            "1/1 [==============================] - 0s 73ms/step - loss: 0.3168 - mse: 0.3168\n",
            "Epoch 9/10\n",
            "1/1 [==============================] - 0s 74ms/step - loss: 0.3168 - mse: 0.3168\n",
            "Epoch 10/10\n",
            "1/1 [==============================] - 0s 84ms/step - loss: 0.3168 - mse: 0.3168\n"
          ],
          "name": "stdout"
        },
        {
          "output_type": "stream",
          "text": [
            "\r 93%|█████████▎| 490/529 [08:01<00:39,  1.02s/it]"
          ],
          "name": "stderr"
        },
        {
          "output_type": "stream",
          "text": [
            "Epoch 1/10\n",
            "1/1 [==============================] - 0s 60ms/step - loss: 0.3057 - mse: 0.3057\n",
            "Epoch 2/10\n",
            "1/1 [==============================] - 0s 72ms/step - loss: 0.3053 - mse: 0.3053\n",
            "Epoch 3/10\n",
            "1/1 [==============================] - 0s 69ms/step - loss: 0.3053 - mse: 0.3053\n",
            "Epoch 4/10\n",
            "1/1 [==============================] - 0s 74ms/step - loss: 0.3055 - mse: 0.3055\n",
            "Epoch 5/10\n",
            "1/1 [==============================] - 0s 75ms/step - loss: 0.3054 - mse: 0.3054\n",
            "Epoch 6/10\n",
            "1/1 [==============================] - 0s 78ms/step - loss: 0.3053 - mse: 0.3053\n",
            "Epoch 7/10\n",
            "1/1 [==============================] - 0s 73ms/step - loss: 0.3054 - mse: 0.3054\n",
            "Epoch 8/10\n",
            "1/1 [==============================] - 0s 83ms/step - loss: 0.3055 - mse: 0.3055\n",
            "Epoch 9/10\n",
            "1/1 [==============================] - 0s 77ms/step - loss: 0.3053 - mse: 0.3053\n",
            "Epoch 10/10\n",
            "1/1 [==============================] - 0s 75ms/step - loss: 0.3053 - mse: 0.3053\n"
          ],
          "name": "stdout"
        },
        {
          "output_type": "stream",
          "text": [
            "\r 93%|█████████▎| 491/529 [08:02<00:38,  1.02s/it]"
          ],
          "name": "stderr"
        },
        {
          "output_type": "stream",
          "text": [
            "Epoch 1/10\n",
            "1/1 [==============================] - 0s 63ms/step - loss: 0.3085 - mse: 0.3085\n",
            "Epoch 2/10\n",
            "1/1 [==============================] - 0s 72ms/step - loss: 0.3084 - mse: 0.3084\n",
            "Epoch 3/10\n",
            "1/1 [==============================] - 0s 69ms/step - loss: 0.3083 - mse: 0.3083\n",
            "Epoch 4/10\n",
            "1/1 [==============================] - 0s 88ms/step - loss: 0.3084 - mse: 0.3084\n",
            "Epoch 5/10\n",
            "1/1 [==============================] - 0s 90ms/step - loss: 0.3084 - mse: 0.3084\n",
            "Epoch 6/10\n",
            "1/1 [==============================] - 0s 85ms/step - loss: 0.3083 - mse: 0.3083\n",
            "Epoch 7/10\n",
            "1/1 [==============================] - 0s 76ms/step - loss: 0.3083 - mse: 0.3083\n",
            "Epoch 8/10\n",
            "1/1 [==============================] - 0s 78ms/step - loss: 0.3084 - mse: 0.3084\n",
            "Epoch 9/10\n",
            "1/1 [==============================] - 0s 74ms/step - loss: 0.3083 - mse: 0.3083\n",
            "Epoch 10/10\n",
            "1/1 [==============================] - 0s 76ms/step - loss: 0.3083 - mse: 0.3083\n"
          ],
          "name": "stdout"
        },
        {
          "output_type": "stream",
          "text": [
            "\r 93%|█████████▎| 492/529 [08:03<00:38,  1.03s/it]"
          ],
          "name": "stderr"
        },
        {
          "output_type": "stream",
          "text": [
            "Epoch 1/10\n",
            "1/1 [==============================] - 0s 64ms/step - loss: 0.3179 - mse: 0.3179\n",
            "Epoch 2/10\n",
            "1/1 [==============================] - 0s 71ms/step - loss: 0.3179 - mse: 0.3179\n",
            "Epoch 3/10\n",
            "1/1 [==============================] - 0s 70ms/step - loss: 0.3179 - mse: 0.3179\n",
            "Epoch 4/10\n",
            "1/1 [==============================] - 0s 79ms/step - loss: 0.3178 - mse: 0.3178\n",
            "Epoch 5/10\n",
            "1/1 [==============================] - 0s 75ms/step - loss: 0.3178 - mse: 0.3178\n",
            "Epoch 6/10\n",
            "1/1 [==============================] - 0s 75ms/step - loss: 0.3178 - mse: 0.3178\n",
            "Epoch 7/10\n",
            "1/1 [==============================] - 0s 75ms/step - loss: 0.3178 - mse: 0.3178\n",
            "Epoch 8/10\n",
            "1/1 [==============================] - 0s 75ms/step - loss: 0.3178 - mse: 0.3178\n",
            "Epoch 9/10\n",
            "1/1 [==============================] - 0s 70ms/step - loss: 0.3178 - mse: 0.3178\n",
            "Epoch 10/10\n",
            "1/1 [==============================] - 0s 74ms/step - loss: 0.3178 - mse: 0.3178\n"
          ],
          "name": "stdout"
        },
        {
          "output_type": "stream",
          "text": [
            "\r 93%|█████████▎| 493/529 [08:04<00:37,  1.03s/it]"
          ],
          "name": "stderr"
        },
        {
          "output_type": "stream",
          "text": [
            "Epoch 1/10\n",
            "1/1 [==============================] - 0s 61ms/step - loss: 0.3124 - mse: 0.3124\n",
            "Epoch 2/10\n",
            "1/1 [==============================] - 0s 72ms/step - loss: 0.3123 - mse: 0.3123\n",
            "Epoch 3/10\n",
            "1/1 [==============================] - 0s 77ms/step - loss: 0.3123 - mse: 0.3123\n",
            "Epoch 4/10\n",
            "1/1 [==============================] - 0s 76ms/step - loss: 0.3124 - mse: 0.3124\n",
            "Epoch 5/10\n",
            "1/1 [==============================] - 0s 74ms/step - loss: 0.3123 - mse: 0.3123\n",
            "Epoch 6/10\n",
            "1/1 [==============================] - 0s 77ms/step - loss: 0.3123 - mse: 0.3123\n",
            "Epoch 7/10\n",
            "1/1 [==============================] - 0s 77ms/step - loss: 0.3124 - mse: 0.3124\n",
            "Epoch 8/10\n",
            "1/1 [==============================] - 0s 78ms/step - loss: 0.3123 - mse: 0.3123\n",
            "Epoch 9/10\n",
            "1/1 [==============================] - 0s 78ms/step - loss: 0.3123 - mse: 0.3123\n",
            "Epoch 10/10\n",
            "1/1 [==============================] - 0s 82ms/step - loss: 0.3123 - mse: 0.3123\n"
          ],
          "name": "stdout"
        },
        {
          "output_type": "stream",
          "text": [
            "\r 93%|█████████▎| 494/529 [08:05<00:36,  1.03s/it]"
          ],
          "name": "stderr"
        },
        {
          "output_type": "stream",
          "text": [
            "Epoch 1/10\n",
            "1/1 [==============================] - 0s 63ms/step - loss: 0.3087 - mse: 0.3087\n",
            "Epoch 2/10\n",
            "1/1 [==============================] - 0s 75ms/step - loss: 0.3087 - mse: 0.3087\n",
            "Epoch 3/10\n",
            "1/1 [==============================] - 0s 69ms/step - loss: 0.3087 - mse: 0.3087\n",
            "Epoch 4/10\n",
            "1/1 [==============================] - 0s 76ms/step - loss: 0.3087 - mse: 0.3087\n",
            "Epoch 5/10\n",
            "1/1 [==============================] - 0s 74ms/step - loss: 0.3087 - mse: 0.3087\n",
            "Epoch 6/10\n",
            "1/1 [==============================] - 0s 83ms/step - loss: 0.3087 - mse: 0.3087\n",
            "Epoch 7/10\n",
            "1/1 [==============================] - 0s 82ms/step - loss: 0.3087 - mse: 0.3087\n",
            "Epoch 8/10\n",
            "1/1 [==============================] - 0s 84ms/step - loss: 0.3087 - mse: 0.3087\n",
            "Epoch 9/10\n",
            "1/1 [==============================] - 0s 79ms/step - loss: 0.3087 - mse: 0.3087\n",
            "Epoch 10/10\n",
            "1/1 [==============================] - 0s 73ms/step - loss: 0.3087 - mse: 0.3087\n"
          ],
          "name": "stdout"
        },
        {
          "output_type": "stream",
          "text": [
            "\r 94%|█████████▎| 495/529 [08:06<00:35,  1.03s/it]"
          ],
          "name": "stderr"
        },
        {
          "output_type": "stream",
          "text": [
            "Epoch 1/10\n",
            "1/1 [==============================] - 0s 60ms/step - loss: 0.3064 - mse: 0.3064\n",
            "Epoch 2/10\n",
            "1/1 [==============================] - 0s 69ms/step - loss: 0.3064 - mse: 0.3064\n",
            "Epoch 3/10\n",
            "1/1 [==============================] - 0s 74ms/step - loss: 0.3064 - mse: 0.3064\n",
            "Epoch 4/10\n",
            "1/1 [==============================] - 0s 73ms/step - loss: 0.3064 - mse: 0.3064\n",
            "Epoch 5/10\n",
            "1/1 [==============================] - 0s 77ms/step - loss: 0.3064 - mse: 0.3064\n",
            "Epoch 6/10\n",
            "1/1 [==============================] - 0s 81ms/step - loss: 0.3064 - mse: 0.3064\n",
            "Epoch 7/10\n",
            "1/1 [==============================] - 0s 78ms/step - loss: 0.3064 - mse: 0.3064\n",
            "Epoch 8/10\n",
            "1/1 [==============================] - 0s 80ms/step - loss: 0.3064 - mse: 0.3064\n",
            "Epoch 9/10\n",
            "1/1 [==============================] - 0s 76ms/step - loss: 0.3064 - mse: 0.3064\n",
            "Epoch 10/10\n",
            "1/1 [==============================] - 0s 78ms/step - loss: 0.3064 - mse: 0.3064\n"
          ],
          "name": "stdout"
        },
        {
          "output_type": "stream",
          "text": [
            "\r 94%|█████████▍| 496/529 [08:07<00:33,  1.03s/it]"
          ],
          "name": "stderr"
        },
        {
          "output_type": "stream",
          "text": [
            "Epoch 1/10\n",
            "1/1 [==============================] - 0s 62ms/step - loss: 0.3092 - mse: 0.3092\n",
            "Epoch 2/10\n",
            "1/1 [==============================] - 0s 68ms/step - loss: 0.3092 - mse: 0.3092\n",
            "Epoch 3/10\n",
            "1/1 [==============================] - 0s 70ms/step - loss: 0.3091 - mse: 0.3091\n",
            "Epoch 4/10\n",
            "1/1 [==============================] - 0s 85ms/step - loss: 0.3092 - mse: 0.3092\n",
            "Epoch 5/10\n",
            "1/1 [==============================] - 0s 73ms/step - loss: 0.3092 - mse: 0.3092\n",
            "Epoch 6/10\n",
            "1/1 [==============================] - 0s 73ms/step - loss: 0.3091 - mse: 0.3091\n",
            "Epoch 7/10\n",
            "1/1 [==============================] - 0s 77ms/step - loss: 0.3092 - mse: 0.3092\n",
            "Epoch 8/10\n",
            "1/1 [==============================] - 0s 78ms/step - loss: 0.3092 - mse: 0.3092\n",
            "Epoch 9/10\n",
            "1/1 [==============================] - 0s 75ms/step - loss: 0.3091 - mse: 0.3091\n",
            "Epoch 10/10\n",
            "1/1 [==============================] - 0s 72ms/step - loss: 0.3091 - mse: 0.3091\n"
          ],
          "name": "stdout"
        },
        {
          "output_type": "stream",
          "text": [
            "\r 94%|█████████▍| 497/529 [08:08<00:32,  1.02s/it]"
          ],
          "name": "stderr"
        },
        {
          "output_type": "stream",
          "text": [
            "Epoch 1/10\n",
            "1/1 [==============================] - 0s 61ms/step - loss: 0.3122 - mse: 0.3122\n",
            "Epoch 2/10\n",
            "1/1 [==============================] - 0s 70ms/step - loss: 0.3121 - mse: 0.3121\n",
            "Epoch 3/10\n",
            "1/1 [==============================] - 0s 80ms/step - loss: 0.3121 - mse: 0.3121\n",
            "Epoch 4/10\n",
            "1/1 [==============================] - 0s 75ms/step - loss: 0.3121 - mse: 0.3121\n",
            "Epoch 5/10\n",
            "1/1 [==============================] - 0s 74ms/step - loss: 0.3121 - mse: 0.3121\n",
            "Epoch 6/10\n",
            "1/1 [==============================] - 0s 75ms/step - loss: 0.3121 - mse: 0.3121\n",
            "Epoch 7/10\n",
            "1/1 [==============================] - 0s 75ms/step - loss: 0.3103 - mse: 0.3103\n",
            "Epoch 8/10\n",
            "1/1 [==============================] - 0s 78ms/step - loss: 0.3082 - mse: 0.3082\n",
            "Epoch 9/10\n",
            "1/1 [==============================] - 0s 82ms/step - loss: 0.3062 - mse: 0.3062\n",
            "Epoch 10/10\n",
            "1/1 [==============================] - 0s 73ms/step - loss: 0.3049 - mse: 0.3049\n"
          ],
          "name": "stdout"
        },
        {
          "output_type": "stream",
          "text": [
            "\r 94%|█████████▍| 498/529 [08:09<00:31,  1.02s/it]"
          ],
          "name": "stderr"
        },
        {
          "output_type": "stream",
          "text": [
            "Epoch 1/10\n",
            "1/1 [==============================] - 0s 63ms/step - loss: 0.3023 - mse: 0.3023\n",
            "Epoch 2/10\n",
            "1/1 [==============================] - 0s 72ms/step - loss: 0.3021 - mse: 0.3021\n",
            "Epoch 3/10\n",
            "1/1 [==============================] - 0s 69ms/step - loss: 0.3022 - mse: 0.3022\n",
            "Epoch 4/10\n",
            "1/1 [==============================] - 0s 74ms/step - loss: 0.3026 - mse: 0.3026\n",
            "Epoch 5/10\n",
            "1/1 [==============================] - 0s 77ms/step - loss: 0.3031 - mse: 0.3031\n",
            "Epoch 6/10\n",
            "1/1 [==============================] - 0s 81ms/step - loss: 0.3035 - mse: 0.3035\n",
            "Epoch 7/10\n",
            "1/1 [==============================] - 0s 74ms/step - loss: 0.3037 - mse: 0.3037\n",
            "Epoch 8/10\n",
            "1/1 [==============================] - 0s 76ms/step - loss: 0.3035 - mse: 0.3035\n",
            "Epoch 9/10\n",
            "1/1 [==============================] - 0s 75ms/step - loss: 0.3032 - mse: 0.3032\n",
            "Epoch 10/10\n",
            "1/1 [==============================] - 0s 78ms/step - loss: 0.3028 - mse: 0.3028\n"
          ],
          "name": "stdout"
        },
        {
          "output_type": "stream",
          "text": [
            "\r 94%|█████████▍| 499/529 [08:10<00:30,  1.03s/it]"
          ],
          "name": "stderr"
        },
        {
          "output_type": "stream",
          "text": [
            "Epoch 1/10\n",
            "1/1 [==============================] - 0s 63ms/step - loss: 0.2997 - mse: 0.2997\n",
            "Epoch 2/10\n",
            "1/1 [==============================] - 0s 65ms/step - loss: 0.2994 - mse: 0.2994\n",
            "Epoch 3/10\n",
            "1/1 [==============================] - 0s 75ms/step - loss: 0.2992 - mse: 0.2992\n",
            "Epoch 4/10\n",
            "1/1 [==============================] - 0s 78ms/step - loss: 0.2991 - mse: 0.2991\n",
            "Epoch 5/10\n",
            "1/1 [==============================] - 0s 79ms/step - loss: 0.2991 - mse: 0.2991\n",
            "Epoch 6/10\n",
            "1/1 [==============================] - 0s 77ms/step - loss: 0.2992 - mse: 0.2992\n",
            "Epoch 7/10\n",
            "1/1 [==============================] - 0s 78ms/step - loss: 0.2993 - mse: 0.2993\n",
            "Epoch 8/10\n",
            "1/1 [==============================] - 0s 77ms/step - loss: 0.2994 - mse: 0.2994\n",
            "Epoch 9/10\n",
            "1/1 [==============================] - 0s 86ms/step - loss: 0.2994 - mse: 0.2994\n",
            "Epoch 10/10\n",
            "1/1 [==============================] - 0s 78ms/step - loss: 0.2995 - mse: 0.2995\n"
          ],
          "name": "stdout"
        },
        {
          "output_type": "stream",
          "text": [
            "\r 95%|█████████▍| 500/529 [08:11<00:30,  1.04s/it]"
          ],
          "name": "stderr"
        },
        {
          "output_type": "stream",
          "text": [
            "Epoch 1/10\n",
            "1/1 [==============================] - 0s 62ms/step - loss: 0.3008 - mse: 0.3008\n",
            "Epoch 2/10\n",
            "1/1 [==============================] - 0s 66ms/step - loss: 0.3007 - mse: 0.3007\n",
            "Epoch 3/10\n",
            "1/1 [==============================] - 0s 77ms/step - loss: 0.3007 - mse: 0.3007\n",
            "Epoch 4/10\n",
            "1/1 [==============================] - 0s 83ms/step - loss: 0.3006 - mse: 0.3006\n",
            "Epoch 5/10\n",
            "1/1 [==============================] - 0s 76ms/step - loss: 0.3005 - mse: 0.3005\n",
            "Epoch 6/10\n",
            "1/1 [==============================] - 0s 77ms/step - loss: 0.3004 - mse: 0.3004\n",
            "Epoch 7/10\n",
            "1/1 [==============================] - 0s 80ms/step - loss: 0.3004 - mse: 0.3004\n",
            "Epoch 8/10\n",
            "1/1 [==============================] - 0s 76ms/step - loss: 0.3004 - mse: 0.3004\n",
            "Epoch 9/10\n",
            "1/1 [==============================] - 0s 75ms/step - loss: 0.3004 - mse: 0.3004\n",
            "Epoch 10/10\n",
            "1/1 [==============================] - 0s 81ms/step - loss: 0.3004 - mse: 0.3004\n"
          ],
          "name": "stdout"
        },
        {
          "output_type": "stream",
          "text": [
            "\r 95%|█████████▍| 501/529 [08:12<00:29,  1.04s/it]"
          ],
          "name": "stderr"
        },
        {
          "output_type": "stream",
          "text": [
            "Epoch 1/10\n",
            "1/1 [==============================] - 0s 60ms/step - loss: 0.3009 - mse: 0.3009\n",
            "Epoch 2/10\n",
            "1/1 [==============================] - 0s 76ms/step - loss: 0.3009 - mse: 0.3009\n",
            "Epoch 3/10\n",
            "1/1 [==============================] - 0s 70ms/step - loss: 0.3009 - mse: 0.3009\n",
            "Epoch 4/10\n",
            "1/1 [==============================] - 0s 75ms/step - loss: 0.3009 - mse: 0.3009\n",
            "Epoch 5/10\n",
            "1/1 [==============================] - 0s 85ms/step - loss: 0.3009 - mse: 0.3009\n",
            "Epoch 6/10\n",
            "1/1 [==============================] - 0s 82ms/step - loss: 0.3009 - mse: 0.3009\n",
            "Epoch 7/10\n",
            "1/1 [==============================] - 0s 84ms/step - loss: 0.3009 - mse: 0.3009\n",
            "Epoch 8/10\n",
            "1/1 [==============================] - 0s 82ms/step - loss: 0.3009 - mse: 0.3009\n",
            "Epoch 9/10\n",
            "1/1 [==============================] - 0s 86ms/step - loss: 0.3008 - mse: 0.3008\n",
            "Epoch 10/10\n",
            "1/1 [==============================] - 0s 87ms/step - loss: 0.3008 - mse: 0.3008\n"
          ],
          "name": "stdout"
        },
        {
          "output_type": "stream",
          "text": [
            "\r 95%|█████████▍| 502/529 [08:13<00:28,  1.05s/it]"
          ],
          "name": "stderr"
        },
        {
          "output_type": "stream",
          "text": [
            "Epoch 1/10\n",
            "1/1 [==============================] - 0s 66ms/step - loss: 0.3068 - mse: 0.3068\n",
            "Epoch 2/10\n",
            "1/1 [==============================] - 0s 72ms/step - loss: 0.3067 - mse: 0.3067\n",
            "Epoch 3/10\n",
            "1/1 [==============================] - 0s 79ms/step - loss: 0.3067 - mse: 0.3067\n",
            "Epoch 4/10\n",
            "1/1 [==============================] - 0s 83ms/step - loss: 0.3067 - mse: 0.3067\n",
            "Epoch 5/10\n",
            "1/1 [==============================] - 0s 86ms/step - loss: 0.3067 - mse: 0.3067\n",
            "Epoch 6/10\n",
            "1/1 [==============================] - 0s 82ms/step - loss: 0.3067 - mse: 0.3067\n",
            "Epoch 7/10\n",
            "1/1 [==============================] - 0s 80ms/step - loss: 0.3067 - mse: 0.3067\n",
            "Epoch 8/10\n",
            "1/1 [==============================] - 0s 83ms/step - loss: 0.3067 - mse: 0.3067\n",
            "Epoch 9/10\n",
            "1/1 [==============================] - 0s 82ms/step - loss: 0.3067 - mse: 0.3067\n",
            "Epoch 10/10\n",
            "1/1 [==============================] - 0s 85ms/step - loss: 0.3067 - mse: 0.3067\n"
          ],
          "name": "stdout"
        },
        {
          "output_type": "stream",
          "text": [
            "\r 95%|█████████▌| 503/529 [08:14<00:27,  1.07s/it]"
          ],
          "name": "stderr"
        },
        {
          "output_type": "stream",
          "text": [
            "Epoch 1/10\n",
            "1/1 [==============================] - 0s 71ms/step - loss: 0.2994 - mse: 0.2994\n",
            "Epoch 2/10\n",
            "1/1 [==============================] - 0s 78ms/step - loss: 0.2991 - mse: 0.2991\n",
            "Epoch 3/10\n",
            "1/1 [==============================] - 0s 81ms/step - loss: 0.2992 - mse: 0.2992\n",
            "Epoch 4/10\n",
            "1/1 [==============================] - 0s 91ms/step - loss: 0.2992 - mse: 0.2992\n",
            "Epoch 5/10\n",
            "1/1 [==============================] - 0s 82ms/step - loss: 0.2991 - mse: 0.2991\n",
            "Epoch 6/10\n",
            "1/1 [==============================] - 0s 79ms/step - loss: 0.2991 - mse: 0.2991\n",
            "Epoch 7/10\n",
            "1/1 [==============================] - 0s 82ms/step - loss: 0.2992 - mse: 0.2992\n",
            "Epoch 8/10\n",
            "1/1 [==============================] - 0s 78ms/step - loss: 0.2992 - mse: 0.2992\n",
            "Epoch 9/10\n",
            "1/1 [==============================] - 0s 85ms/step - loss: 0.2991 - mse: 0.2991\n",
            "Epoch 10/10\n",
            "1/1 [==============================] - 0s 78ms/step - loss: 0.2991 - mse: 0.2991\n"
          ],
          "name": "stdout"
        },
        {
          "output_type": "stream",
          "text": [
            "\r 95%|█████████▌| 504/529 [08:15<00:26,  1.08s/it]"
          ],
          "name": "stderr"
        },
        {
          "output_type": "stream",
          "text": [
            "Epoch 1/10\n",
            "1/1 [==============================] - 0s 62ms/step - loss: 0.3040 - mse: 0.3040\n",
            "Epoch 2/10\n",
            "1/1 [==============================] - 0s 76ms/step - loss: 0.3037 - mse: 0.3037\n",
            "Epoch 3/10\n",
            "1/1 [==============================] - 0s 75ms/step - loss: 0.3038 - mse: 0.3038\n",
            "Epoch 4/10\n",
            "1/1 [==============================] - 0s 78ms/step - loss: 0.3039 - mse: 0.3039\n",
            "Epoch 5/10\n",
            "1/1 [==============================] - 0s 78ms/step - loss: 0.3037 - mse: 0.3037\n",
            "Epoch 6/10\n",
            "1/1 [==============================] - 0s 83ms/step - loss: 0.3037 - mse: 0.3037\n",
            "Epoch 7/10\n",
            "1/1 [==============================] - 0s 85ms/step - loss: 0.3038 - mse: 0.3038\n",
            "Epoch 8/10\n",
            "1/1 [==============================] - 0s 74ms/step - loss: 0.3038 - mse: 0.3038\n",
            "Epoch 9/10\n",
            "1/1 [==============================] - 0s 79ms/step - loss: 0.3037 - mse: 0.3037\n",
            "Epoch 10/10\n",
            "1/1 [==============================] - 0s 76ms/step - loss: 0.3037 - mse: 0.3037\n"
          ],
          "name": "stdout"
        },
        {
          "output_type": "stream",
          "text": [
            "\r 95%|█████████▌| 505/529 [08:16<00:25,  1.07s/it]"
          ],
          "name": "stderr"
        },
        {
          "output_type": "stream",
          "text": [
            "Epoch 1/10\n",
            "1/1 [==============================] - 0s 61ms/step - loss: 0.2999 - mse: 0.2999\n",
            "Epoch 2/10\n",
            "1/1 [==============================] - 0s 68ms/step - loss: 0.2997 - mse: 0.2997\n",
            "Epoch 3/10\n",
            "1/1 [==============================] - 0s 68ms/step - loss: 0.2997 - mse: 0.2997\n",
            "Epoch 4/10\n",
            "1/1 [==============================] - 0s 86ms/step - loss: 0.2998 - mse: 0.2998\n",
            "Epoch 5/10\n",
            "1/1 [==============================] - 0s 83ms/step - loss: 0.2997 - mse: 0.2997\n",
            "Epoch 6/10\n",
            "1/1 [==============================] - 0s 76ms/step - loss: 0.2997 - mse: 0.2997\n",
            "Epoch 7/10\n",
            "1/1 [==============================] - 0s 77ms/step - loss: 0.2998 - mse: 0.2998\n",
            "Epoch 8/10\n",
            "1/1 [==============================] - 0s 78ms/step - loss: 0.2997 - mse: 0.2997\n",
            "Epoch 9/10\n",
            "1/1 [==============================] - 0s 80ms/step - loss: 0.2997 - mse: 0.2997\n",
            "Epoch 10/10\n",
            "1/1 [==============================] - 0s 76ms/step - loss: 0.2997 - mse: 0.2997\n"
          ],
          "name": "stdout"
        },
        {
          "output_type": "stream",
          "text": [
            "\r 96%|█████████▌| 506/529 [08:17<00:24,  1.06s/it]"
          ],
          "name": "stderr"
        },
        {
          "output_type": "stream",
          "text": [
            "Epoch 1/10\n",
            "1/1 [==============================] - 0s 63ms/step - loss: 0.2997 - mse: 0.2997\n",
            "Epoch 2/10\n",
            "1/1 [==============================] - 0s 74ms/step - loss: 0.2997 - mse: 0.2997\n",
            "Epoch 3/10\n",
            "1/1 [==============================] - 0s 72ms/step - loss: 0.2997 - mse: 0.2997\n",
            "Epoch 4/10\n",
            "1/1 [==============================] - 0s 82ms/step - loss: 0.2997 - mse: 0.2997\n",
            "Epoch 5/10\n",
            "1/1 [==============================] - 0s 79ms/step - loss: 0.2997 - mse: 0.2997\n",
            "Epoch 6/10\n",
            "1/1 [==============================] - 0s 83ms/step - loss: 0.2997 - mse: 0.2997\n",
            "Epoch 7/10\n",
            "1/1 [==============================] - 0s 76ms/step - loss: 0.2997 - mse: 0.2997\n",
            "Epoch 8/10\n",
            "1/1 [==============================] - 0s 84ms/step - loss: 0.2997 - mse: 0.2997\n",
            "Epoch 9/10\n",
            "1/1 [==============================] - 0s 78ms/step - loss: 0.2997 - mse: 0.2997\n",
            "Epoch 10/10\n",
            "1/1 [==============================] - 0s 77ms/step - loss: 0.2997 - mse: 0.2997\n"
          ],
          "name": "stdout"
        },
        {
          "output_type": "stream",
          "text": [
            "\r 96%|█████████▌| 507/529 [08:19<00:23,  1.06s/it]"
          ],
          "name": "stderr"
        },
        {
          "output_type": "stream",
          "text": [
            "Epoch 1/10\n",
            "1/1 [==============================] - 0s 63ms/step - loss: 0.2997 - mse: 0.2997\n",
            "Epoch 2/10\n",
            "1/1 [==============================] - 0s 87ms/step - loss: 0.2997 - mse: 0.2997\n",
            "Epoch 3/10\n",
            "1/1 [==============================] - 0s 68ms/step - loss: 0.2997 - mse: 0.2997\n",
            "Epoch 4/10\n",
            "1/1 [==============================] - 0s 76ms/step - loss: 0.2997 - mse: 0.2997\n",
            "Epoch 5/10\n",
            "1/1 [==============================] - 0s 81ms/step - loss: 0.2997 - mse: 0.2997\n",
            "Epoch 6/10\n",
            "1/1 [==============================] - 0s 79ms/step - loss: 0.2997 - mse: 0.2997\n",
            "Epoch 7/10\n",
            "1/1 [==============================] - 0s 83ms/step - loss: 0.2997 - mse: 0.2997\n",
            "Epoch 8/10\n",
            "1/1 [==============================] - 0s 82ms/step - loss: 0.2997 - mse: 0.2997\n",
            "Epoch 9/10\n",
            "1/1 [==============================] - 0s 79ms/step - loss: 0.2997 - mse: 0.2997\n",
            "Epoch 10/10\n",
            "1/1 [==============================] - 0s 84ms/step - loss: 0.2997 - mse: 0.2997\n"
          ],
          "name": "stdout"
        },
        {
          "output_type": "stream",
          "text": [
            "\r 96%|█████████▌| 508/529 [08:20<00:22,  1.06s/it]"
          ],
          "name": "stderr"
        },
        {
          "output_type": "stream",
          "text": [
            "Epoch 1/10\n",
            "1/1 [==============================] - 0s 70ms/step - loss: 0.3043 - mse: 0.3043\n",
            "Epoch 2/10\n",
            "1/1 [==============================] - 0s 71ms/step - loss: 0.3041 - mse: 0.3041\n",
            "Epoch 3/10\n",
            "1/1 [==============================] - 0s 68ms/step - loss: 0.3040 - mse: 0.3040\n",
            "Epoch 4/10\n",
            "1/1 [==============================] - 0s 79ms/step - loss: 0.3040 - mse: 0.3040\n",
            "Epoch 5/10\n",
            "1/1 [==============================] - 0s 82ms/step - loss: 0.3040 - mse: 0.3040\n",
            "Epoch 6/10\n",
            "1/1 [==============================] - 0s 75ms/step - loss: 0.3040 - mse: 0.3040\n",
            "Epoch 7/10\n",
            "1/1 [==============================] - 0s 78ms/step - loss: 0.3041 - mse: 0.3041\n",
            "Epoch 8/10\n",
            "1/1 [==============================] - 0s 83ms/step - loss: 0.3041 - mse: 0.3041\n",
            "Epoch 9/10\n",
            "1/1 [==============================] - 0s 78ms/step - loss: 0.3040 - mse: 0.3040\n",
            "Epoch 10/10\n",
            "1/1 [==============================] - 0s 76ms/step - loss: 0.3040 - mse: 0.3040\n"
          ],
          "name": "stdout"
        },
        {
          "output_type": "stream",
          "text": [
            "\r 96%|█████████▌| 509/529 [08:21<00:21,  1.05s/it]"
          ],
          "name": "stderr"
        },
        {
          "output_type": "stream",
          "text": [
            "Epoch 1/10\n",
            "1/1 [==============================] - 0s 62ms/step - loss: 0.3006 - mse: 0.3006\n",
            "Epoch 2/10\n",
            "1/1 [==============================] - 0s 69ms/step - loss: 0.3003 - mse: 0.3003\n",
            "Epoch 3/10\n",
            "1/1 [==============================] - 0s 70ms/step - loss: 0.3002 - mse: 0.3002\n",
            "Epoch 4/10\n",
            "1/1 [==============================] - 0s 70ms/step - loss: 0.3002 - mse: 0.3002\n",
            "Epoch 5/10\n",
            "1/1 [==============================] - 0s 83ms/step - loss: 0.3002 - mse: 0.3002\n",
            "Epoch 6/10\n",
            "1/1 [==============================] - 0s 75ms/step - loss: 0.3003 - mse: 0.3003\n",
            "Epoch 7/10\n",
            "1/1 [==============================] - 0s 77ms/step - loss: 0.3004 - mse: 0.3004\n",
            "Epoch 8/10\n",
            "1/1 [==============================] - 0s 79ms/step - loss: 0.3003 - mse: 0.3003\n",
            "Epoch 9/10\n",
            "1/1 [==============================] - 0s 86ms/step - loss: 0.3003 - mse: 0.3003\n",
            "Epoch 10/10\n",
            "1/1 [==============================] - 0s 79ms/step - loss: 0.3002 - mse: 0.3002\n"
          ],
          "name": "stdout"
        },
        {
          "output_type": "stream",
          "text": [
            "\r 96%|█████████▋| 510/529 [08:22<00:19,  1.04s/it]"
          ],
          "name": "stderr"
        },
        {
          "output_type": "stream",
          "text": [
            "Epoch 1/10\n",
            "1/1 [==============================] - 0s 62ms/step - loss: 0.2874 - mse: 0.2874\n",
            "Epoch 2/10\n",
            "1/1 [==============================] - 0s 71ms/step - loss: 0.2872 - mse: 0.2872\n",
            "Epoch 3/10\n",
            "1/1 [==============================] - 0s 70ms/step - loss: 0.2872 - mse: 0.2872\n",
            "Epoch 4/10\n",
            "1/1 [==============================] - 0s 74ms/step - loss: 0.2873 - mse: 0.2873\n",
            "Epoch 5/10\n",
            "1/1 [==============================] - 0s 93ms/step - loss: 0.2872 - mse: 0.2872\n",
            "Epoch 6/10\n",
            "1/1 [==============================] - 0s 79ms/step - loss: 0.2872 - mse: 0.2872\n",
            "Epoch 7/10\n",
            "1/1 [==============================] - 0s 78ms/step - loss: 0.2873 - mse: 0.2873\n",
            "Epoch 8/10\n",
            "1/1 [==============================] - 0s 92ms/step - loss: 0.2872 - mse: 0.2872\n",
            "Epoch 9/10\n",
            "1/1 [==============================] - 0s 78ms/step - loss: 0.2872 - mse: 0.2872\n",
            "Epoch 10/10\n",
            "1/1 [==============================] - 0s 81ms/step - loss: 0.2872 - mse: 0.2872\n"
          ],
          "name": "stdout"
        },
        {
          "output_type": "stream",
          "text": [
            "\r 97%|█████████▋| 511/529 [08:23<00:18,  1.05s/it]"
          ],
          "name": "stderr"
        },
        {
          "output_type": "stream",
          "text": [
            "Epoch 1/10\n",
            "1/1 [==============================] - 0s 66ms/step - loss: 0.3016 - mse: 0.3016\n",
            "Epoch 2/10\n",
            "1/1 [==============================] - 0s 71ms/step - loss: 0.3008 - mse: 0.3008\n",
            "Epoch 3/10\n",
            "1/1 [==============================] - 0s 71ms/step - loss: 0.3009 - mse: 0.3009\n",
            "Epoch 4/10\n",
            "1/1 [==============================] - 0s 83ms/step - loss: 0.3013 - mse: 0.3013\n",
            "Epoch 5/10\n",
            "1/1 [==============================] - 0s 74ms/step - loss: 0.3008 - mse: 0.3008\n",
            "Epoch 6/10\n",
            "1/1 [==============================] - 0s 78ms/step - loss: 0.3007 - mse: 0.3007\n",
            "Epoch 7/10\n",
            "1/1 [==============================] - 0s 82ms/step - loss: 0.3011 - mse: 0.3011\n",
            "Epoch 8/10\n",
            "1/1 [==============================] - 0s 81ms/step - loss: 0.3010 - mse: 0.3010\n",
            "Epoch 9/10\n",
            "1/1 [==============================] - 0s 76ms/step - loss: 0.3007 - mse: 0.3007\n",
            "Epoch 10/10\n",
            "1/1 [==============================] - 0s 74ms/step - loss: 0.3009 - mse: 0.3009\n"
          ],
          "name": "stdout"
        },
        {
          "output_type": "stream",
          "text": [
            "\r 97%|█████████▋| 512/529 [08:24<00:17,  1.05s/it]"
          ],
          "name": "stderr"
        },
        {
          "output_type": "stream",
          "text": [
            "Epoch 1/10\n",
            "1/1 [==============================] - 0s 60ms/step - loss: 0.3015 - mse: 0.3015\n",
            "Epoch 2/10\n",
            "1/1 [==============================] - 0s 77ms/step - loss: 0.3012 - mse: 0.3012\n",
            "Epoch 3/10\n",
            "1/1 [==============================] - 0s 71ms/step - loss: 0.3013 - mse: 0.3013\n",
            "Epoch 4/10\n",
            "1/1 [==============================] - 0s 86ms/step - loss: 0.3014 - mse: 0.3014\n",
            "Epoch 5/10\n",
            "1/1 [==============================] - 0s 87ms/step - loss: 0.3013 - mse: 0.3013\n",
            "Epoch 6/10\n",
            "1/1 [==============================] - 0s 77ms/step - loss: 0.3012 - mse: 0.3012\n",
            "Epoch 7/10\n",
            "1/1 [==============================] - 0s 78ms/step - loss: 0.3013 - mse: 0.3013\n",
            "Epoch 8/10\n",
            "1/1 [==============================] - 0s 76ms/step - loss: 0.3013 - mse: 0.3013\n",
            "Epoch 9/10\n",
            "1/1 [==============================] - 0s 80ms/step - loss: 0.3012 - mse: 0.3012\n",
            "Epoch 10/10\n",
            "1/1 [==============================] - 0s 78ms/step - loss: 0.3012 - mse: 0.3012\n"
          ],
          "name": "stdout"
        },
        {
          "output_type": "stream",
          "text": [
            "\r 97%|█████████▋| 513/529 [08:25<00:16,  1.05s/it]"
          ],
          "name": "stderr"
        },
        {
          "output_type": "stream",
          "text": [
            "Epoch 1/10\n",
            "1/1 [==============================] - 0s 61ms/step - loss: 0.2864 - mse: 0.2864\n",
            "Epoch 2/10\n",
            "1/1 [==============================] - 0s 73ms/step - loss: 0.2862 - mse: 0.2862\n",
            "Epoch 3/10\n",
            "1/1 [==============================] - 0s 72ms/step - loss: 0.2861 - mse: 0.2861\n",
            "Epoch 4/10\n",
            "1/1 [==============================] - 0s 78ms/step - loss: 0.2861 - mse: 0.2861\n",
            "Epoch 5/10\n",
            "1/1 [==============================] - 0s 86ms/step - loss: 0.2860 - mse: 0.2860\n",
            "Epoch 6/10\n",
            "1/1 [==============================] - 0s 77ms/step - loss: 0.2860 - mse: 0.2860\n",
            "Epoch 7/10\n",
            "1/1 [==============================] - 0s 83ms/step - loss: 0.2861 - mse: 0.2861\n",
            "Epoch 8/10\n",
            "1/1 [==============================] - 0s 83ms/step - loss: 0.2861 - mse: 0.2861\n",
            "Epoch 9/10\n",
            "1/1 [==============================] - 0s 73ms/step - loss: 0.2860 - mse: 0.2860\n",
            "Epoch 10/10\n",
            "1/1 [==============================] - 0s 83ms/step - loss: 0.2861 - mse: 0.2861\n"
          ],
          "name": "stdout"
        },
        {
          "output_type": "stream",
          "text": [
            "\r 97%|█████████▋| 514/529 [08:26<00:15,  1.05s/it]"
          ],
          "name": "stderr"
        },
        {
          "output_type": "stream",
          "text": [
            "Epoch 1/10\n",
            "1/1 [==============================] - 0s 62ms/step - loss: 0.3098 - mse: 0.3098\n",
            "Epoch 2/10\n",
            "1/1 [==============================] - 0s 70ms/step - loss: 0.3081 - mse: 0.3081\n",
            "Epoch 3/10\n",
            "1/1 [==============================] - 0s 79ms/step - loss: 0.3080 - mse: 0.3080\n",
            "Epoch 4/10\n",
            "1/1 [==============================] - 0s 82ms/step - loss: 0.3085 - mse: 0.3085\n",
            "Epoch 5/10\n",
            "1/1 [==============================] - 0s 76ms/step - loss: 0.3076 - mse: 0.3076\n",
            "Epoch 6/10\n",
            "1/1 [==============================] - 0s 80ms/step - loss: 0.3075 - mse: 0.3075\n",
            "Epoch 7/10\n",
            "1/1 [==============================] - 0s 77ms/step - loss: 0.3083 - mse: 0.3083\n",
            "Epoch 8/10\n",
            "1/1 [==============================] - 0s 76ms/step - loss: 0.3082 - mse: 0.3082\n",
            "Epoch 9/10\n",
            "1/1 [==============================] - 0s 74ms/step - loss: 0.3077 - mse: 0.3077\n",
            "Epoch 10/10\n",
            "1/1 [==============================] - 0s 82ms/step - loss: 0.3079 - mse: 0.3079\n"
          ],
          "name": "stdout"
        },
        {
          "output_type": "stream",
          "text": [
            "\r 97%|█████████▋| 515/529 [08:27<00:14,  1.05s/it]"
          ],
          "name": "stderr"
        },
        {
          "output_type": "stream",
          "text": [
            "Epoch 1/10\n",
            "1/1 [==============================] - 0s 60ms/step - loss: 0.3025 - mse: 0.3025\n",
            "Epoch 2/10\n",
            "1/1 [==============================] - 0s 66ms/step - loss: 0.3015 - mse: 0.3015\n",
            "Epoch 3/10\n",
            "1/1 [==============================] - 0s 71ms/step - loss: 0.3015 - mse: 0.3015\n",
            "Epoch 4/10\n",
            "1/1 [==============================] - 0s 81ms/step - loss: 0.3020 - mse: 0.3020\n",
            "Epoch 5/10\n",
            "1/1 [==============================] - 0s 75ms/step - loss: 0.3016 - mse: 0.3016\n",
            "Epoch 6/10\n",
            "1/1 [==============================] - 0s 79ms/step - loss: 0.3013 - mse: 0.3013\n",
            "Epoch 7/10\n",
            "1/1 [==============================] - 0s 82ms/step - loss: 0.3018 - mse: 0.3018\n",
            "Epoch 8/10\n",
            "1/1 [==============================] - 0s 74ms/step - loss: 0.3018 - mse: 0.3018\n",
            "Epoch 9/10\n",
            "1/1 [==============================] - 0s 76ms/step - loss: 0.3014 - mse: 0.3014\n",
            "Epoch 10/10\n",
            "1/1 [==============================] - 0s 82ms/step - loss: 0.3015 - mse: 0.3015\n"
          ],
          "name": "stdout"
        },
        {
          "output_type": "stream",
          "text": [
            "\r 98%|█████████▊| 516/529 [08:28<00:13,  1.05s/it]"
          ],
          "name": "stderr"
        },
        {
          "output_type": "stream",
          "text": [
            "Epoch 1/10\n",
            "1/1 [==============================] - 0s 63ms/step - loss: 0.2971 - mse: 0.2971\n",
            "Epoch 2/10\n",
            "1/1 [==============================] - 0s 72ms/step - loss: 0.2970 - mse: 0.2970\n",
            "Epoch 3/10\n",
            "1/1 [==============================] - 0s 77ms/step - loss: 0.2969 - mse: 0.2969\n",
            "Epoch 4/10\n",
            "1/1 [==============================] - 0s 76ms/step - loss: 0.2969 - mse: 0.2969\n",
            "Epoch 5/10\n",
            "1/1 [==============================] - 0s 78ms/step - loss: 0.2970 - mse: 0.2970\n",
            "Epoch 6/10\n",
            "1/1 [==============================] - 0s 79ms/step - loss: 0.2969 - mse: 0.2969\n",
            "Epoch 7/10\n",
            "1/1 [==============================] - 0s 77ms/step - loss: 0.2969 - mse: 0.2969\n",
            "Epoch 8/10\n",
            "1/1 [==============================] - 0s 77ms/step - loss: 0.2970 - mse: 0.2970\n",
            "Epoch 9/10\n",
            "1/1 [==============================] - 0s 79ms/step - loss: 0.2969 - mse: 0.2969\n",
            "Epoch 10/10\n",
            "1/1 [==============================] - 0s 78ms/step - loss: 0.2968 - mse: 0.2968\n"
          ],
          "name": "stdout"
        },
        {
          "output_type": "stream",
          "text": [
            "\r 98%|█████████▊| 517/529 [08:29<00:12,  1.05s/it]"
          ],
          "name": "stderr"
        },
        {
          "output_type": "stream",
          "text": [
            "Epoch 1/10\n",
            "1/1 [==============================] - 0s 61ms/step - loss: 0.2981 - mse: 0.2981\n",
            "Epoch 2/10\n",
            "1/1 [==============================] - 0s 76ms/step - loss: 0.2981 - mse: 0.2981\n",
            "Epoch 3/10\n",
            "1/1 [==============================] - 0s 70ms/step - loss: 0.2981 - mse: 0.2981\n",
            "Epoch 4/10\n",
            "1/1 [==============================] - 0s 79ms/step - loss: 0.2981 - mse: 0.2981\n",
            "Epoch 5/10\n",
            "1/1 [==============================] - 0s 83ms/step - loss: 0.2981 - mse: 0.2981\n",
            "Epoch 6/10\n",
            "1/1 [==============================] - 0s 78ms/step - loss: 0.2981 - mse: 0.2981\n",
            "Epoch 7/10\n",
            "1/1 [==============================] - 0s 81ms/step - loss: 0.2981 - mse: 0.2981\n",
            "Epoch 8/10\n",
            "1/1 [==============================] - 0s 74ms/step - loss: 0.2981 - mse: 0.2981\n",
            "Epoch 9/10\n",
            "1/1 [==============================] - 0s 74ms/step - loss: 0.2981 - mse: 0.2981\n",
            "Epoch 10/10\n",
            "1/1 [==============================] - 0s 79ms/step - loss: 0.2980 - mse: 0.2980\n"
          ],
          "name": "stdout"
        },
        {
          "output_type": "stream",
          "text": [
            "\r 98%|█████████▊| 518/529 [08:30<00:11,  1.05s/it]"
          ],
          "name": "stderr"
        },
        {
          "output_type": "stream",
          "text": [
            "Epoch 1/10\n",
            "1/1 [==============================] - 0s 68ms/step - loss: 0.3024 - mse: 0.3024\n",
            "Epoch 2/10\n",
            "1/1 [==============================] - 0s 76ms/step - loss: 0.3023 - mse: 0.3023\n",
            "Epoch 3/10\n",
            "1/1 [==============================] - 0s 70ms/step - loss: 0.3023 - mse: 0.3023\n",
            "Epoch 4/10\n",
            "1/1 [==============================] - 0s 79ms/step - loss: 0.3023 - mse: 0.3023\n",
            "Epoch 5/10\n",
            "1/1 [==============================] - 0s 73ms/step - loss: 0.3023 - mse: 0.3023\n",
            "Epoch 6/10\n",
            "1/1 [==============================] - 0s 88ms/step - loss: 0.3023 - mse: 0.3023\n",
            "Epoch 7/10\n",
            "1/1 [==============================] - 0s 85ms/step - loss: 0.3023 - mse: 0.3023\n",
            "Epoch 8/10\n",
            "1/1 [==============================] - 0s 75ms/step - loss: 0.3023 - mse: 0.3023\n",
            "Epoch 9/10\n",
            "1/1 [==============================] - 0s 78ms/step - loss: 0.3023 - mse: 0.3023\n",
            "Epoch 10/10\n",
            "1/1 [==============================] - 0s 84ms/step - loss: 0.3023 - mse: 0.3023\n"
          ],
          "name": "stdout"
        },
        {
          "output_type": "stream",
          "text": [
            "\r 98%|█████████▊| 519/529 [08:31<00:10,  1.05s/it]"
          ],
          "name": "stderr"
        },
        {
          "output_type": "stream",
          "text": [
            "Epoch 1/10\n",
            "1/1 [==============================] - 0s 65ms/step - loss: 0.2991 - mse: 0.2991\n",
            "Epoch 2/10\n",
            "1/1 [==============================] - 0s 71ms/step - loss: 0.2991 - mse: 0.2991\n",
            "Epoch 3/10\n",
            "1/1 [==============================] - 0s 71ms/step - loss: 0.2991 - mse: 0.2991\n",
            "Epoch 4/10\n",
            "1/1 [==============================] - 0s 74ms/step - loss: 0.2991 - mse: 0.2991\n",
            "Epoch 5/10\n",
            "1/1 [==============================] - 0s 74ms/step - loss: 0.2991 - mse: 0.2991\n",
            "Epoch 6/10\n",
            "1/1 [==============================] - 0s 90ms/step - loss: 0.2991 - mse: 0.2991\n",
            "Epoch 7/10\n",
            "1/1 [==============================] - 0s 76ms/step - loss: 0.2991 - mse: 0.2991\n",
            "Epoch 8/10\n",
            "1/1 [==============================] - 0s 86ms/step - loss: 0.2991 - mse: 0.2991\n",
            "Epoch 9/10\n",
            "1/1 [==============================] - 0s 75ms/step - loss: 0.2991 - mse: 0.2991\n",
            "Epoch 10/10\n",
            "1/1 [==============================] - 0s 83ms/step - loss: 0.2991 - mse: 0.2991\n"
          ],
          "name": "stdout"
        },
        {
          "output_type": "stream",
          "text": [
            "\r 98%|█████████▊| 520/529 [08:32<00:09,  1.04s/it]"
          ],
          "name": "stderr"
        },
        {
          "output_type": "stream",
          "text": [
            "Epoch 1/10\n",
            "1/1 [==============================] - 0s 66ms/step - loss: 0.2991 - mse: 0.2991\n",
            "Epoch 2/10\n",
            "1/1 [==============================] - 0s 75ms/step - loss: 0.2991 - mse: 0.2991\n",
            "Epoch 3/10\n",
            "1/1 [==============================] - 0s 81ms/step - loss: 0.2990 - mse: 0.2990\n",
            "Epoch 4/10\n",
            "1/1 [==============================] - 0s 77ms/step - loss: 0.2990 - mse: 0.2990\n",
            "Epoch 5/10\n",
            "1/1 [==============================] - 0s 80ms/step - loss: 0.2990 - mse: 0.2990\n",
            "Epoch 6/10\n",
            "1/1 [==============================] - 0s 74ms/step - loss: 0.2990 - mse: 0.2990\n",
            "Epoch 7/10\n",
            "1/1 [==============================] - 0s 82ms/step - loss: 0.2990 - mse: 0.2990\n",
            "Epoch 8/10\n",
            "1/1 [==============================] - 0s 82ms/step - loss: 0.2990 - mse: 0.2990\n",
            "Epoch 9/10\n",
            "1/1 [==============================] - 0s 75ms/step - loss: 0.2990 - mse: 0.2990\n",
            "Epoch 10/10\n",
            "1/1 [==============================] - 0s 94ms/step - loss: 0.2990 - mse: 0.2990\n"
          ],
          "name": "stdout"
        },
        {
          "output_type": "stream",
          "text": [
            "\r 98%|█████████▊| 521/529 [08:33<00:08,  1.05s/it]"
          ],
          "name": "stderr"
        },
        {
          "output_type": "stream",
          "text": [
            "Epoch 1/10\n",
            "1/1 [==============================] - 0s 60ms/step - loss: 0.3012 - mse: 0.3012\n",
            "Epoch 2/10\n",
            "1/1 [==============================] - 0s 72ms/step - loss: 0.3012 - mse: 0.3012\n",
            "Epoch 3/10\n",
            "1/1 [==============================] - 0s 69ms/step - loss: 0.3012 - mse: 0.3012\n",
            "Epoch 4/10\n",
            "1/1 [==============================] - 0s 74ms/step - loss: 0.3012 - mse: 0.3012\n",
            "Epoch 5/10\n",
            "1/1 [==============================] - 0s 77ms/step - loss: 0.3012 - mse: 0.3012\n",
            "Epoch 6/10\n",
            "1/1 [==============================] - 0s 77ms/step - loss: 0.3012 - mse: 0.3012\n",
            "Epoch 7/10\n",
            "1/1 [==============================] - 0s 76ms/step - loss: 0.3012 - mse: 0.3012\n",
            "Epoch 8/10\n",
            "1/1 [==============================] - 0s 80ms/step - loss: 0.3012 - mse: 0.3012\n",
            "Epoch 9/10\n",
            "1/1 [==============================] - 0s 73ms/step - loss: 0.3012 - mse: 0.3012\n",
            "Epoch 10/10\n",
            "1/1 [==============================] - 0s 81ms/step - loss: 0.3012 - mse: 0.3012\n"
          ],
          "name": "stdout"
        },
        {
          "output_type": "stream",
          "text": [
            "\r 99%|█████████▊| 522/529 [08:34<00:07,  1.04s/it]"
          ],
          "name": "stderr"
        },
        {
          "output_type": "stream",
          "text": [
            "Epoch 1/10\n",
            "1/1 [==============================] - 0s 66ms/step - loss: 0.3015 - mse: 0.3015\n",
            "Epoch 2/10\n",
            "1/1 [==============================] - 0s 74ms/step - loss: 0.3015 - mse: 0.3015\n",
            "Epoch 3/10\n",
            "1/1 [==============================] - 0s 72ms/step - loss: 0.3015 - mse: 0.3015\n",
            "Epoch 4/10\n",
            "1/1 [==============================] - 0s 76ms/step - loss: 0.3015 - mse: 0.3015\n",
            "Epoch 5/10\n",
            "1/1 [==============================] - 0s 71ms/step - loss: 0.3015 - mse: 0.3015\n",
            "Epoch 6/10\n",
            "1/1 [==============================] - 0s 90ms/step - loss: 0.3015 - mse: 0.3015\n",
            "Epoch 7/10\n",
            "1/1 [==============================] - 0s 75ms/step - loss: 0.3015 - mse: 0.3015\n",
            "Epoch 8/10\n",
            "1/1 [==============================] - 0s 79ms/step - loss: 0.3015 - mse: 0.3015\n",
            "Epoch 9/10\n",
            "1/1 [==============================] - 0s 72ms/step - loss: 0.3015 - mse: 0.3015\n",
            "Epoch 10/10\n",
            "1/1 [==============================] - 0s 79ms/step - loss: 0.3015 - mse: 0.3015\n"
          ],
          "name": "stdout"
        },
        {
          "output_type": "stream",
          "text": [
            "\r 99%|█████████▉| 523/529 [08:35<00:06,  1.04s/it]"
          ],
          "name": "stderr"
        },
        {
          "output_type": "stream",
          "text": [
            "Epoch 1/10\n",
            "1/1 [==============================] - 0s 63ms/step - loss: 0.3029 - mse: 0.3029\n",
            "Epoch 2/10\n",
            "1/1 [==============================] - 0s 74ms/step - loss: 0.3029 - mse: 0.3029\n",
            "Epoch 3/10\n",
            "1/1 [==============================] - 0s 70ms/step - loss: 0.3029 - mse: 0.3029\n",
            "Epoch 4/10\n",
            "1/1 [==============================] - 0s 79ms/step - loss: 0.3029 - mse: 0.3029\n",
            "Epoch 5/10\n",
            "1/1 [==============================] - 0s 79ms/step - loss: 0.3029 - mse: 0.3029\n",
            "Epoch 6/10\n",
            "1/1 [==============================] - 0s 80ms/step - loss: 0.3029 - mse: 0.3029\n",
            "Epoch 7/10\n",
            "1/1 [==============================] - 0s 74ms/step - loss: 0.3029 - mse: 0.3029\n",
            "Epoch 8/10\n",
            "1/1 [==============================] - 0s 74ms/step - loss: 0.3029 - mse: 0.3029\n",
            "Epoch 9/10\n",
            "1/1 [==============================] - 0s 77ms/step - loss: 0.3029 - mse: 0.3029\n",
            "Epoch 10/10\n",
            "1/1 [==============================] - 0s 76ms/step - loss: 0.3029 - mse: 0.3029\n"
          ],
          "name": "stdout"
        },
        {
          "output_type": "stream",
          "text": [
            "\r 99%|█████████▉| 524/529 [08:36<00:05,  1.04s/it]"
          ],
          "name": "stderr"
        },
        {
          "output_type": "stream",
          "text": [
            "Epoch 1/10\n",
            "1/1 [==============================] - 0s 60ms/step - loss: 0.3045 - mse: 0.3045\n",
            "Epoch 2/10\n",
            "1/1 [==============================] - 0s 69ms/step - loss: 0.3045 - mse: 0.3045\n",
            "Epoch 3/10\n",
            "1/1 [==============================] - 0s 76ms/step - loss: 0.3044 - mse: 0.3044\n",
            "Epoch 4/10\n",
            "1/1 [==============================] - 0s 86ms/step - loss: 0.3044 - mse: 0.3044\n",
            "Epoch 5/10\n",
            "1/1 [==============================] - 0s 78ms/step - loss: 0.3044 - mse: 0.3044\n",
            "Epoch 6/10\n",
            "1/1 [==============================] - 0s 78ms/step - loss: 0.3044 - mse: 0.3044\n",
            "Epoch 7/10\n",
            "1/1 [==============================] - 0s 79ms/step - loss: 0.3044 - mse: 0.3044\n",
            "Epoch 8/10\n",
            "1/1 [==============================] - 0s 76ms/step - loss: 0.3044 - mse: 0.3044\n",
            "Epoch 9/10\n",
            "1/1 [==============================] - 0s 78ms/step - loss: 0.3044 - mse: 0.3044\n",
            "Epoch 10/10\n",
            "1/1 [==============================] - 0s 81ms/step - loss: 0.3044 - mse: 0.3044\n"
          ],
          "name": "stdout"
        },
        {
          "output_type": "stream",
          "text": [
            "\r 99%|█████████▉| 525/529 [08:37<00:04,  1.04s/it]"
          ],
          "name": "stderr"
        },
        {
          "output_type": "stream",
          "text": [
            "Epoch 1/10\n",
            "1/1 [==============================] - 0s 62ms/step - loss: 0.2995 - mse: 0.2995\n",
            "Epoch 2/10\n",
            "1/1 [==============================] - 0s 68ms/step - loss: 0.2993 - mse: 0.2993\n",
            "Epoch 3/10\n",
            "1/1 [==============================] - 0s 66ms/step - loss: 0.2993 - mse: 0.2993\n",
            "Epoch 4/10\n",
            "1/1 [==============================] - 0s 85ms/step - loss: 0.2992 - mse: 0.2992\n",
            "Epoch 5/10\n",
            "1/1 [==============================] - 0s 76ms/step - loss: 0.2992 - mse: 0.2992\n",
            "Epoch 6/10\n",
            "1/1 [==============================] - 0s 83ms/step - loss: 0.2992 - mse: 0.2992\n",
            "Epoch 7/10\n",
            "1/1 [==============================] - 0s 77ms/step - loss: 0.2993 - mse: 0.2993\n",
            "Epoch 8/10\n",
            "1/1 [==============================] - 0s 78ms/step - loss: 0.2993 - mse: 0.2993\n",
            "Epoch 9/10\n",
            "1/1 [==============================] - 0s 83ms/step - loss: 0.2993 - mse: 0.2993\n",
            "Epoch 10/10\n",
            "1/1 [==============================] - 0s 79ms/step - loss: 0.2993 - mse: 0.2993\n"
          ],
          "name": "stdout"
        },
        {
          "output_type": "stream",
          "text": [
            "\r 99%|█████████▉| 526/529 [08:38<00:03,  1.05s/it]"
          ],
          "name": "stderr"
        },
        {
          "output_type": "stream",
          "text": [
            "Epoch 1/10\n",
            "1/1 [==============================] - 0s 60ms/step - loss: 0.3016 - mse: 0.3016\n",
            "Epoch 2/10\n",
            "1/1 [==============================] - 0s 67ms/step - loss: 0.3015 - mse: 0.3015\n",
            "Epoch 3/10\n",
            "1/1 [==============================] - 0s 72ms/step - loss: 0.3015 - mse: 0.3015\n",
            "Epoch 4/10\n",
            "1/1 [==============================] - 0s 75ms/step - loss: 0.3016 - mse: 0.3016\n",
            "Epoch 5/10\n",
            "1/1 [==============================] - 0s 74ms/step - loss: 0.3015 - mse: 0.3015\n",
            "Epoch 6/10\n",
            "1/1 [==============================] - 0s 80ms/step - loss: 0.3015 - mse: 0.3015\n",
            "Epoch 7/10\n",
            "1/1 [==============================] - 0s 77ms/step - loss: 0.3016 - mse: 0.3016\n",
            "Epoch 8/10\n",
            "1/1 [==============================] - 0s 76ms/step - loss: 0.3016 - mse: 0.3016\n",
            "Epoch 9/10\n",
            "1/1 [==============================] - 0s 74ms/step - loss: 0.3015 - mse: 0.3015\n",
            "Epoch 10/10\n",
            "1/1 [==============================] - 0s 80ms/step - loss: 0.3015 - mse: 0.3015\n"
          ],
          "name": "stdout"
        },
        {
          "output_type": "stream",
          "text": [
            "\r100%|█████████▉| 527/529 [08:39<00:02,  1.04s/it]"
          ],
          "name": "stderr"
        },
        {
          "output_type": "stream",
          "text": [
            "Epoch 1/10\n",
            "1/1 [==============================] - 0s 61ms/step - loss: 0.2964 - mse: 0.2964\n",
            "Epoch 2/10\n",
            "1/1 [==============================] - 0s 77ms/step - loss: 0.2962 - mse: 0.2962\n",
            "Epoch 3/10\n",
            "1/1 [==============================] - 0s 68ms/step - loss: 0.2963 - mse: 0.2963\n",
            "Epoch 4/10\n",
            "1/1 [==============================] - 0s 82ms/step - loss: 0.2963 - mse: 0.2963\n",
            "Epoch 5/10\n",
            "1/1 [==============================] - 0s 77ms/step - loss: 0.2962 - mse: 0.2962\n",
            "Epoch 6/10\n",
            "1/1 [==============================] - 0s 79ms/step - loss: 0.2962 - mse: 0.2962\n",
            "Epoch 7/10\n",
            "1/1 [==============================] - 0s 76ms/step - loss: 0.2963 - mse: 0.2963\n",
            "Epoch 8/10\n",
            "1/1 [==============================] - 0s 73ms/step - loss: 0.2963 - mse: 0.2963\n",
            "Epoch 9/10\n",
            "1/1 [==============================] - 0s 85ms/step - loss: 0.2962 - mse: 0.2962\n",
            "Epoch 10/10\n",
            "1/1 [==============================] - 0s 85ms/step - loss: 0.2962 - mse: 0.2962\n"
          ],
          "name": "stdout"
        },
        {
          "output_type": "stream",
          "text": [
            "\r100%|█████████▉| 528/529 [08:40<00:01,  1.04s/it]"
          ],
          "name": "stderr"
        },
        {
          "output_type": "stream",
          "text": [
            "Epoch 1/10\n",
            "1/1 [==============================] - 0s 61ms/step - loss: 0.3016 - mse: 0.3016\n",
            "Epoch 2/10\n",
            "1/1 [==============================] - 0s 65ms/step - loss: 0.3014 - mse: 0.3014\n",
            "Epoch 3/10\n",
            "1/1 [==============================] - 0s 72ms/step - loss: 0.3014 - mse: 0.3014\n",
            "Epoch 4/10\n",
            "1/1 [==============================] - 0s 77ms/step - loss: 0.3015 - mse: 0.3015\n",
            "Epoch 5/10\n",
            "1/1 [==============================] - 0s 76ms/step - loss: 0.3014 - mse: 0.3014\n",
            "Epoch 6/10\n",
            "1/1 [==============================] - 0s 81ms/step - loss: 0.3014 - mse: 0.3014\n",
            "Epoch 7/10\n",
            "1/1 [==============================] - 0s 77ms/step - loss: 0.3015 - mse: 0.3015\n",
            "Epoch 8/10\n",
            "1/1 [==============================] - 0s 79ms/step - loss: 0.3015 - mse: 0.3015\n",
            "Epoch 9/10\n",
            "1/1 [==============================] - 0s 74ms/step - loss: 0.3014 - mse: 0.3014\n",
            "Epoch 10/10\n",
            "1/1 [==============================] - 0s 85ms/step - loss: 0.3014 - mse: 0.3014\n"
          ],
          "name": "stdout"
        },
        {
          "output_type": "stream",
          "text": [
            "100%|██████████| 529/529 [08:42<00:00,  1.01it/s]\n"
          ],
          "name": "stderr"
        }
      ]
    },
    {
      "cell_type": "code",
      "metadata": {
        "id": "northern-wrapping",
        "colab": {
          "base_uri": "https://localhost:8080/"
        },
        "outputId": "0016e5d4-d037-496c-c8c0-9a7772f162c1"
      },
      "source": [
        "test_pred_array.shape"
      ],
      "execution_count": null,
      "outputs": [
        {
          "output_type": "execute_result",
          "data": {
            "text/plain": [
              "(529, 120, 1)"
            ]
          },
          "metadata": {
            "tags": []
          },
          "execution_count": 13
        }
      ]
    },
    {
      "cell_type": "markdown",
      "metadata": {
        "id": "ozqMlMloio22"
      },
      "source": [
        "# 3. 모델 저장 및 로드"
      ]
    },
    {
      "cell_type": "code",
      "metadata": {
        "id": "herbal-negative"
      },
      "source": [
        "model.save('my_model.h5')"
      ],
      "execution_count": null,
      "outputs": []
    },
    {
      "cell_type": "code",
      "metadata": {
        "id": "fixed-simple"
      },
      "source": [
        "model = tf.keras.models.load_model('./my_model.h5')"
      ],
      "execution_count": null,
      "outputs": []
    },
    {
      "cell_type": "markdown",
      "metadata": {
        "id": "surrounded-think"
      },
      "source": [
        "# 4. 예측 기록을 바탕으로 투자 지침 표(submission)만들기"
      ]
    },
    {
      "cell_type": "code",
      "metadata": {
        "id": "grand-moses",
        "colab": {
          "base_uri": "https://localhost:8080/"
        },
        "outputId": "854fdc2c-2a83-4bed-9cdb-07d74bf91e9d"
      },
      "source": [
        "#train_pred_array 3차원에서 2차원으로 바꾸기\n",
        "\n",
        "new_pred_array = np.zeros([len(test_x_array), 120])\n",
        "\n",
        "for idx in tqdm(range(test_pred_array.shape[0])):\n",
        "    val_open = test_pred_array[idx, :, 0]\n",
        "    new_pred_array[idx, :] = val_open\n",
        "    new_pred_array"
      ],
      "execution_count": null,
      "outputs": [
        {
          "output_type": "stream",
          "text": [
            "100%|██████████| 529/529 [00:00<00:00, 290835.87it/s]\n"
          ],
          "name": "stderr"
        }
      ]
    },
    {
      "cell_type": "code",
      "metadata": {
        "id": "missing-trinidad",
        "colab": {
          "base_uri": "https://localhost:8080/"
        },
        "outputId": "33cdef1a-318b-4251-f17f-e8694f2c4141"
      },
      "source": [
        "new_pred_array.shape"
      ],
      "execution_count": null,
      "outputs": [
        {
          "output_type": "execute_result",
          "data": {
            "text/plain": [
              "(529, 120)"
            ]
          },
          "metadata": {
            "tags": []
          },
          "execution_count": 17
        }
      ]
    },
    {
      "cell_type": "code",
      "metadata": {
        "id": "north-martin"
      },
      "source": [
        "def array_to_submission(pred_array):\n",
        "\n",
        "    submission = pd.DataFrame(np.zeros([pred_array.shape[0],2], np.int64),\n",
        "                columns = ['buy_quantity', 'sell_time'])\n",
        "    submission = submission.reset_index()\n",
        "    submission.loc[:, 'buy_quantity'] = 0.1\n",
        "    \n",
        "    buy_price = []\n",
        "    for idx, sell_time in enumerate(np.argmax(pred_array, axis = 1)):\n",
        "        buy_price.append(pred_array[idx, sell_time])\n",
        "    buy_price = np.array(buy_price)\n",
        "    submission.loc[:, 'buy_quantity'] = (buy_price > 1.10) * 1\n",
        "    submission['sell_time'] = np.argmax(pred_array, axis = 1)\n",
        "    submission.columns = ['sample_id','buy_quantity', 'sell_time']\n",
        "    return submission"
      ],
      "execution_count": null,
      "outputs": []
    },
    {
      "cell_type": "code",
      "metadata": {
        "scrolled": true,
        "tags": [],
        "id": "classical-sacramento",
        "colab": {
          "base_uri": "https://localhost:8080/",
          "height": 402
        },
        "outputId": "4bb05b06-ce65-462f-ef34-a05d31b8ecba"
      },
      "source": [
        "valid_submission = array_to_submission(new_pred_array)\n",
        "valid_submission"
      ],
      "execution_count": null,
      "outputs": [
        {
          "output_type": "execute_result",
          "data": {
            "text/html": [
              "<div>\n",
              "<style scoped>\n",
              "    .dataframe tbody tr th:only-of-type {\n",
              "        vertical-align: middle;\n",
              "    }\n",
              "\n",
              "    .dataframe tbody tr th {\n",
              "        vertical-align: top;\n",
              "    }\n",
              "\n",
              "    .dataframe thead th {\n",
              "        text-align: right;\n",
              "    }\n",
              "</style>\n",
              "<table border=\"1\" class=\"dataframe\">\n",
              "  <thead>\n",
              "    <tr style=\"text-align: right;\">\n",
              "      <th></th>\n",
              "      <th>sample_id</th>\n",
              "      <th>buy_quantity</th>\n",
              "      <th>sell_time</th>\n",
              "    </tr>\n",
              "  </thead>\n",
              "  <tbody>\n",
              "    <tr>\n",
              "      <th>0</th>\n",
              "      <td>0</td>\n",
              "      <td>1</td>\n",
              "      <td>14</td>\n",
              "    </tr>\n",
              "    <tr>\n",
              "      <th>1</th>\n",
              "      <td>1</td>\n",
              "      <td>1</td>\n",
              "      <td>71</td>\n",
              "    </tr>\n",
              "    <tr>\n",
              "      <th>2</th>\n",
              "      <td>2</td>\n",
              "      <td>1</td>\n",
              "      <td>23</td>\n",
              "    </tr>\n",
              "    <tr>\n",
              "      <th>3</th>\n",
              "      <td>3</td>\n",
              "      <td>1</td>\n",
              "      <td>64</td>\n",
              "    </tr>\n",
              "    <tr>\n",
              "      <th>4</th>\n",
              "      <td>4</td>\n",
              "      <td>1</td>\n",
              "      <td>0</td>\n",
              "    </tr>\n",
              "    <tr>\n",
              "      <th>...</th>\n",
              "      <td>...</td>\n",
              "      <td>...</td>\n",
              "      <td>...</td>\n",
              "    </tr>\n",
              "    <tr>\n",
              "      <th>524</th>\n",
              "      <td>524</td>\n",
              "      <td>0</td>\n",
              "      <td>112</td>\n",
              "    </tr>\n",
              "    <tr>\n",
              "      <th>525</th>\n",
              "      <td>525</td>\n",
              "      <td>0</td>\n",
              "      <td>9</td>\n",
              "    </tr>\n",
              "    <tr>\n",
              "      <th>526</th>\n",
              "      <td>526</td>\n",
              "      <td>0</td>\n",
              "      <td>98</td>\n",
              "    </tr>\n",
              "    <tr>\n",
              "      <th>527</th>\n",
              "      <td>527</td>\n",
              "      <td>0</td>\n",
              "      <td>1</td>\n",
              "    </tr>\n",
              "    <tr>\n",
              "      <th>528</th>\n",
              "      <td>528</td>\n",
              "      <td>0</td>\n",
              "      <td>113</td>\n",
              "    </tr>\n",
              "  </tbody>\n",
              "</table>\n",
              "<p>529 rows × 3 columns</p>\n",
              "</div>"
            ],
            "text/plain": [
              "     sample_id  buy_quantity  sell_time\n",
              "0            0             1         14\n",
              "1            1             1         71\n",
              "2            2             1         23\n",
              "3            3             1         64\n",
              "4            4             1          0\n",
              "..         ...           ...        ...\n",
              "524        524             0        112\n",
              "525        525             0          9\n",
              "526        526             0         98\n",
              "527        527             0          1\n",
              "528        528             0        113\n",
              "\n",
              "[529 rows x 3 columns]"
            ]
          },
          "metadata": {
            "tags": []
          },
          "execution_count": 19
        }
      ]
    },
    {
      "cell_type": "code",
      "metadata": {
        "id": "remarkable-reducing"
      },
      "source": [
        "valid_submission.to_csv('submission1.csv', index = False)"
      ],
      "execution_count": null,
      "outputs": []
    },
    {
      "cell_type": "code",
      "metadata": {
        "id": "laden-consolidation",
        "colab": {
          "base_uri": "https://localhost:8080/"
        },
        "outputId": "190d8e8f-84ed-4345-c56e-e3742da1ed87"
      },
      "source": [
        "# 전체 300가지 sample에 대해\n",
        "# 9가지 case에서 115% 이상 상승한다고 추론함.\n",
        "valid_submission.buy_quantity.value_counts()"
      ],
      "execution_count": null,
      "outputs": [
        {
          "output_type": "execute_result",
          "data": {
            "text/plain": [
              "0    519\n",
              "1     10\n",
              "Name: buy_quantity, dtype: int64"
            ]
          },
          "metadata": {
            "tags": []
          },
          "execution_count": 20
        }
      ]
    },
    {
      "cell_type": "markdown",
      "metadata": {
        "id": "ZQnxIamzPCcn"
      },
      "source": [
        "---"
      ]
    },
    {
      "cell_type": "markdown",
      "metadata": {
        "id": "challenging-adobe"
      },
      "source": [
        "# 모델 평가: 샘플에서 실제값과 예측값 비교"
      ]
    },
    {
      "cell_type": "code",
      "metadata": {
        "id": "fZ0mgtAJYPNK"
      },
      "source": [
        "def plot_series(x_series, y_series):\n",
        "    #입력 series와 출력 series를 연속적으로 연결하여 시각적으로 보여주는 코드 입니다.\n",
        "    plt.plot(x_series, label = 'input_series')\n",
        "    plt.plot(np.arange(len(x_series), len(x_series)+len(y_series)),\n",
        "             y_series, label = 'output_series')\n",
        "    plt.axhline(1, c = 'red')\n",
        "    plt.legend()"
      ],
      "execution_count": null,
      "outputs": []
    },
    {
      "cell_type": "code",
      "metadata": {
        "id": "incorporated-posting",
        "colab": {
          "base_uri": "https://localhost:8080/"
        },
        "outputId": "22fc8629-10e4-4334-a683-c912e8c89795"
      },
      "source": [
        "len(test_pred_array[500])"
      ],
      "execution_count": null,
      "outputs": [
        {
          "output_type": "execute_result",
          "data": {
            "text/plain": [
              "120"
            ]
          },
          "metadata": {
            "tags": []
          },
          "execution_count": 35
        }
      ]
    },
    {
      "cell_type": "code",
      "metadata": {
        "colab": {
          "base_uri": "https://localhost:8080/",
          "height": 265
        },
        "id": "DPk9XuV8YPNO",
        "outputId": "859bec54-0ef5-490a-fc2c-b88b5e0103cb"
      },
      "source": [
        "idx = 300\n",
        "# train data 중 sample_id 1121에 해당하는 x_series로 모델을 학습한 후\n",
        "# y_sereis를 추론\n",
        "x_series = train_x_array[idx,:,1]\n",
        "y_series = train_y_array[idx,:,1]\n",
        "\n",
        "# pred_dim1 = np.zeros(120)\n",
        "# pred_dim1 = preds[0,,0]\n",
        "# pred_dim1.shape\n",
        "\n",
        "plot_series(x_series, y_series)\n",
        "plt.plot(np.arange(1380, 1380+120), test_pred_array[idx], label = 'prediction')\n",
        "plt.legend()\n",
        "plt.show()"
      ],
      "execution_count": null,
      "outputs": [
        {
          "output_type": "display_data",
          "data": {
            "image/png": "[encoded data removed]",
            "text/plain": [
              "<Figure size 432x288 with 1 Axes>"
            ]
          },
          "metadata": {
            "tags": [],
            "needs_background": "light"
          }
        }
      ]
    },
    {
      "cell_type": "markdown",
      "metadata": {
        "id": "yt4DRVhqYQyZ"
      },
      "source": [
        "---"
      ]
    },
    {
      "cell_type": "code",
      "metadata": {
        "id": "after-reasoning"
      },
      "source": [
        "def plot_series(x_series, y_series):\n",
        "    #입력 series와 출력 series를 연속적으로 연결하여 시각적으로 보여주는 코드 입니다.\n",
        "    plt.plot(x_series, label = 'input_series')\n",
        "    plt.plot(np.arange(len(x_series), len(x_series)+len(y_series)),\n",
        "             y_series, label = 'output_series')\n",
        "    plt.axhline(1, c = 'red')\n",
        "    plt.legend()"
      ],
      "execution_count": null,
      "outputs": []
    },
    {
      "cell_type": "code",
      "metadata": {
        "colab": {
          "base_uri": "https://localhost:8080/"
        },
        "id": "sjRxTpeQ6av-",
        "outputId": "dd391d95-b2d0-4aa8-fa9f-46a689c37e47"
      },
      "source": [
        "    #학습\n",
        "    x_series = np.reshape(valid_x_array[idx,:,1], (1, 1380,1))\n",
        "    y_series = np.reshape(valid_y_array[idx,:,1], (1, 120, 1))\n",
        "    test_x_series = np.reshape(test_x_array[idx,:,1], (1, 1380,1)) #각 open 값의 3차원형\n",
        "\n",
        "    preds = model.predict(test_x_series)\n",
        "    test_pred_array[idx,:] = preds\n",
        "\n",
        "    model.fit(x_series, y_series, epochs = 10, batch_size = 32)\n",
        "\n",
        "    #여기서 predict를 바로 해야 함\n",
        "    preds = model.predict(test_x_series)\n",
        "    test_pred_array[idx,:] = preds"
      ],
      "execution_count": null,
      "outputs": [
        {
          "output_type": "stream",
          "text": [
            "Epoch 1/10\n",
            "1/1 [==============================] - 1s 781ms/step - loss: 0.3014 - mse: 0.3014\n",
            "Epoch 2/10\n",
            "1/1 [==============================] - 0s 71ms/step - loss: 0.3013 - mse: 0.3013\n",
            "Epoch 3/10\n",
            "1/1 [==============================] - 0s 61ms/step - loss: 0.3013 - mse: 0.3013\n",
            "Epoch 4/10\n",
            "1/1 [==============================] - 0s 65ms/step - loss: 0.3014 - mse: 0.3014\n",
            "Epoch 5/10\n",
            "1/1 [==============================] - 0s 61ms/step - loss: 0.3014 - mse: 0.3014\n",
            "Epoch 6/10\n",
            "1/1 [==============================] - 0s 62ms/step - loss: 0.3013 - mse: 0.3013\n",
            "Epoch 7/10\n",
            "1/1 [==============================] - 0s 59ms/step - loss: 0.3014 - mse: 0.3014\n",
            "Epoch 8/10\n",
            "1/1 [==============================] - 0s 65ms/step - loss: 0.3014 - mse: 0.3014\n",
            "Epoch 9/10\n",
            "1/1 [==============================] - 0s 61ms/step - loss: 0.3013 - mse: 0.3013\n",
            "Epoch 10/10\n",
            "1/1 [==============================] - 0s 60ms/step - loss: 0.3013 - mse: 0.3013\n"
          ],
          "name": "stdout"
        }
      ]
    },
    {
      "cell_type": "code",
      "metadata": {
        "id": "least-theater",
        "colab": {
          "base_uri": "https://localhost:8080/"
        },
        "outputId": "f3de4d08-ca8e-445f-fabb-7a165cc6ad60"
      },
      "source": [
        "idx = 300  #529보다 작아야 함\n",
        "# train data 중 sample_id 300에 해당하는 x_series로 모델과 을 학습한 후\n",
        "# y_sereis를 추론\n",
        "sample_x = np.reshape(valid_x_array[idx,:,1], (1, 1380,1))\n",
        "sample_y = np.reshape(valid_y_array[idx,:,1], (1, 120, 1))\n",
        "sample_test_x = np.reshape(test_x_array[idx,:,1], (1, 1380,1))\n",
        "\n",
        "model.fit(sample_x, sample_y, epochs = 10, batch_size = 32)\n",
        "preds = model.predict(sample_test_x)\n",
        "\n",
        "#train_pred_array 3차원에서 2차원으로 바꾸기\n",
        "sample_x_conversion = np.zeros([1, 120])\n",
        "sample_x_conversion[0, :] = preds[0, :, 0]\n",
        "sample_x_conversion\n",
        "\n",
        "\n",
        "\n"
      ],
      "execution_count": null,
      "outputs": [
        {
          "output_type": "stream",
          "text": [
            "Epoch 1/10\n",
            "1/1 [==============================] - 0s 66ms/step - loss: 0.3081 - mse: 0.3081\n",
            "Epoch 2/10\n",
            "1/1 [==============================] - 0s 61ms/step - loss: 0.3081 - mse: 0.3081\n",
            "Epoch 3/10\n",
            "1/1 [==============================] - 0s 62ms/step - loss: 0.3081 - mse: 0.3081\n",
            "Epoch 4/10\n",
            "1/1 [==============================] - 0s 59ms/step - loss: 0.3081 - mse: 0.3081\n",
            "Epoch 5/10\n",
            "1/1 [==============================] - 0s 60ms/step - loss: 0.3081 - mse: 0.3081\n",
            "Epoch 6/10\n",
            "1/1 [==============================] - 0s 62ms/step - loss: 0.3081 - mse: 0.3081\n",
            "Epoch 7/10\n",
            "1/1 [==============================] - 0s 64ms/step - loss: 0.3081 - mse: 0.3081\n",
            "Epoch 8/10\n",
            "1/1 [==============================] - 0s 64ms/step - loss: 0.3081 - mse: 0.3081\n",
            "Epoch 9/10\n",
            "1/1 [==============================] - 0s 60ms/step - loss: 0.3081 - mse: 0.3081\n",
            "Epoch 10/10\n",
            "1/1 [==============================] - 0s 64ms/step - loss: 0.3081 - mse: 0.3081\n"
          ],
          "name": "stdout"
        },
        {
          "output_type": "execute_result",
          "data": {
            "text/plain": [
              "array([[1.00356948, 1.00306702, 1.00519633, 1.00551546, 1.00902522,\n",
              "        1.00974476, 0.        , 1.00883973, 0.        , 1.01203108,\n",
              "        1.0101856 , 1.01047814, 1.01020932, 0.        , 1.00863254,\n",
              "        0.        , 0.        , 1.01030636, 0.        , 1.01452637,\n",
              "        0.        , 1.01233077, 0.        , 1.01179194, 1.01193976,\n",
              "        1.01302612, 0.        , 1.01473641, 1.0136317 , 0.        ,\n",
              "        1.01622272, 1.01719332, 1.01751125, 0.        , 1.01644373,\n",
              "        1.01524377, 1.0164026 , 1.01492727, 0.        , 1.01785707,\n",
              "        0.        , 1.01621389, 1.01527977, 1.01646304, 1.01844096,\n",
              "        1.01736283, 1.01820385, 1.02110529, 1.02205575, 1.02041376,\n",
              "        1.02069306, 1.01901054, 0.        , 0.        , 0.        ,\n",
              "        1.02064741, 0.        , 1.01797199, 1.02009177, 0.        ,\n",
              "        1.01951885, 1.01905131, 0.        , 0.        , 1.02034199,\n",
              "        1.021106  , 1.01932454, 0.        , 1.02035964, 1.02088726,\n",
              "        1.01922083, 1.02033615, 1.02139759, 1.02081418, 1.01946759,\n",
              "        0.        , 1.02045524, 0.        , 1.01758122, 1.01715255,\n",
              "        1.01653576, 0.        , 1.01592207, 0.        , 1.01839232,\n",
              "        0.        , 1.01867092, 0.        , 1.01803434, 1.01750386,\n",
              "        0.        , 0.        , 1.01762927, 1.01754987, 0.        ,\n",
              "        1.0142709 , 1.01542354, 1.01462173, 1.01691222, 1.01864409,\n",
              "        1.01621115, 0.        , 1.01855111, 1.01967871, 1.01824498,\n",
              "        1.0181669 , 1.01887965, 1.01841092, 0.        , 0.        ,\n",
              "        1.01826036, 1.01810896, 1.01802099, 1.01967776, 1.01949286,\n",
              "        0.        , 0.        , 1.01781833, 1.01997876, 0.        ]])"
            ]
          },
          "metadata": {
            "tags": []
          },
          "execution_count": 26
        }
      ]
    },
    {
      "cell_type": "code",
      "metadata": {
        "colab": {
          "base_uri": "https://localhost:8080/"
        },
        "id": "g8iknR8oW8Sl",
        "outputId": "3b6fbf7b-a8e5-4ca1-a3f6-7c2bd9f2044a"
      },
      "source": [
        "np.arange(1380, 1380+120).shape"
      ],
      "execution_count": null,
      "outputs": [
        {
          "output_type": "execute_result",
          "data": {
            "text/plain": [
              "(120,)"
            ]
          },
          "metadata": {
            "tags": []
          },
          "execution_count": 29
        }
      ]
    },
    {
      "cell_type": "code",
      "metadata": {
        "colab": {
          "base_uri": "https://localhost:8080/"
        },
        "id": "PZsYqkl2Xgrw",
        "outputId": "c41b93de-19bf-494b-8474-56c084f9614f"
      },
      "source": [
        "len(sample_x_conversion[0])"
      ],
      "execution_count": null,
      "outputs": [
        {
          "output_type": "execute_result",
          "data": {
            "text/plain": [
              "120"
            ]
          },
          "metadata": {
            "tags": []
          },
          "execution_count": 32
        }
      ]
    },
    {
      "cell_type": "code",
      "metadata": {
        "colab": {
          "base_uri": "https://localhost:8080/",
          "height": 265
        },
        "id": "4AhKY7AeR0so",
        "outputId": "6d4acde8-4ea9-4c0a-fcc3-8fa5cf13e3e2"
      },
      "source": [
        "x = train_x_array[idx,:,1]\n",
        "y = train_y_array[idx,:,1]\n",
        "\n",
        "plot_series(x, y)\n",
        "plt.plot(np.arange(1380, 1380+120), sample_x_conversion[0], label = 'prediction')\n",
        "plt.legend()\n",
        "plt.show()"
      ],
      "execution_count": null,
      "outputs": [
        {
          "output_type": "display_data",
          "data": {
            "image/png": "[encoded data removed]",
            "text/plain": [
              "<Figure size 432x288 with 1 Axes>"
            ]
          },
          "metadata": {
            "tags": [],
            "needs_background": "light"
          }
        }
      ]
    },
    {
      "cell_type": "markdown",
      "metadata": {
        "id": "terminal-mortality"
      },
      "source": [
        "제대로 학습되지 않고 있다는 것을 알 수 있다."
      ]
    },
    {
      "cell_type": "code",
      "metadata": {
        "id": "TS9jktt9aYID"
      },
      "source": [
        "# 정확도 측정(수정필요)\n",
        "# # Test RMSE 측정하기\n",
        "# from sklearn.metrics import mean_squared_error, r2_score\n",
        "# from math import sqrt\n",
        "\n",
        "# rmse = sqrt(mean_squared_error(pred_y, test_y))\n",
        "# print(rmse)"
      ],
      "execution_count": null,
      "outputs": []
    }
  ]
}