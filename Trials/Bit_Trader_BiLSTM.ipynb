{
 "cells": [
  {
   "cell_type": "markdown",
   "id": "younger-constitution",
   "metadata": {},
   "source": [
    "10시간 걸쳐서 돌렸지만 Fail(115%이상의 수익이 날 것으로 예측되는 sample_id가 없었던 듯 하다)"
   ]
  },
  {
   "cell_type": "markdown",
   "id": "brown-beach",
   "metadata": {},
   "source": [
    "---"
   ]
  },
  {
   "cell_type": "code",
   "execution_count": 1,
   "id": "uniform-pavilion",
   "metadata": {},
   "outputs": [],
   "source": [
    "# 프로젝트 유형: Multi-Step LSTM Time Series Forecasting.\n",
    "# windows개념 이용해서 univariate time series forecasting의 방법으로 해결해보고자 함"
   ]
  },
  {
   "cell_type": "code",
   "execution_count": 2,
   "id": "massive-franklin",
   "metadata": {},
   "outputs": [],
   "source": [
    "# Runned_by_JupyterLab\n",
    "\n",
    "# 1. 시도해볼 내용\n",
    "# Dropout, many-to-one(60:1)로 예측\n",
    "# train 데이터 학습한 모델 앙상블\n",
    "# (input: 60, output: 1 정도로)many-to-one 모델로 다시 돌려보기\n",
    "# optimizer을 rmsprop으로 설정해보기\n",
    "# ReduceLROnPlateau\n",
    "# NLP 217p bidirectional layer추가 <- 시간 너무 오래 걸림\n",
    "# 시가에 임의의 상수 곱해서 증폭된 값으로 입력해보기\n",
    "\n",
    "\n",
    "# 2. 반영된 내용\n",
    "# dropout  = 0.2 추가\n",
    "# activation(활성화 함수) relu -> tanh(3개층 정도에서는 output상에서 유의미한 차이 보이지 않는 듯.)\n",
    "# 매수 기준가 : 1.15 -> 1.08 (추후 forcasted_max 보고 보완 가능)\n",
    "# 모델을 함수로 정의한 뒤 각 sample_id 학습할 때마다 호출하여 이전 sample의 학습과정에서 조정된 파라미터에 다음 sample의 학습이 영향받지 않도록 함\n",
    "\n",
    "\n",
    "# batch_size 줄여서 다시 학습\n",
    "# shuffle= True 효과 있을까?  stateful = False에서도 미약하게나마 효과 있음. https://machinelearningmastery.com/stateful-stateless-lstm-time-series-forecasting-python/\n",
    "# NLP 119페이지 Earlystopping 적용\n",
    "# 모델의 마지막 레이어였던 reshape는 필요 없는 것 같아 삭제했음"
   ]
  },
  {
   "cell_type": "code",
   "execution_count": 3,
   "id": "agreed-cleaners",
   "metadata": {},
   "outputs": [],
   "source": [
    "#Import Library\n",
    "import tensorflow as tf\n",
    "physical_devices = tf.config.list_physical_devices('GPU')\n",
    "tf.config.experimental.set_memory_growth(physical_devices[0], True)\n",
    "from tensorflow.keras.models import Sequential\n",
    "from tensorflow.keras.layers import Dense, LSTM, TimeDistributed, Dropout, Bidirectional#,Reshape, Flatten\n",
    "import numpy as np\n",
    "import pandas as pd\n",
    "import matplotlib.pyplot as plt\n",
    "from tqdm import tqdm\n",
    "import warnings\n",
    "warnings.filterwarnings(\"ignore\")"
   ]
  },
  {
   "cell_type": "code",
   "execution_count": 4,
   "id": "australian-contract",
   "metadata": {},
   "outputs": [],
   "source": [
    "# Read Data\n",
    "data_path = '../Big_Data/[DACON]Bit_Trader'\n",
    "train_x_df = pd.read_csv(data_path  + \"/train_x_df.csv\")\n",
    "train_y_df = pd.read_csv(data_path  + \"/train_y_df.csv\")\n",
    "test_x_df = pd.read_csv(data_path  + \"/test_x_df.csv\")\n",
    "\n",
    "# 시간 관계 상, train 데이터 상단의 300개 샘플를 구성하여 학습 및 추론\n",
    "# train_x_df = train_x_df[train_x_df.sample_id < 300]\n",
    "# train_y_df = train_y_df[train_y_df.sample_id < 300]\n",
    "#train_x_df와 train_y_df time열을 기준으로 concatenate하기(일단 생략하고 x_train만 가지고 학습 진행할 것. 1380 + 120 = 1500개 데이터로 학습하나 1380개만 가지고 학습하나 모델의 성능에 큰 차이를 미치지는 않을 것으로 추측하기 때문)"
   ]
  },
  {
   "cell_type": "code",
   "execution_count": 5,
   "id": "naked-fifth",
   "metadata": {},
   "outputs": [],
   "source": [
    "# 입력 받은 2차원 데이터 프레임을 3차원 numpy array로 변경하는 함수\n",
    "def df2d_to_array3d(df_2d):\n",
    "    feature_size = df_2d.iloc[:,2:].shape[1]\n",
    "    time_size = len(df_2d.time.value_counts())\n",
    "    sample_size = len(df_2d.sample_id.value_counts())\n",
    "    array_3d = df_2d.iloc[:,2:].values.reshape([sample_size, time_size, feature_size])\n",
    "    return array_3d\n",
    "\n",
    "# 2차원 DF LSTM으로 학습하기 위해 3차원으로 변환시키기\n",
    "train_x_array = df2d_to_array3d(train_x_df)   #(1380, 1380, 10)\n",
    "train_y_array = df2d_to_array3d(train_y_df)   #(1380, 120, 10)\n",
    "test_x_array = df2d_to_array3d(test_x_df)     #(529, 1380, 10)"
   ]
  },
  {
   "cell_type": "code",
   "execution_count": 6,
   "id": "apart-officer",
   "metadata": {},
   "outputs": [],
   "source": [
    "# 모델 구성(op1: many-to-one model, op2: many-to-many model(output 모양 바꾸기, return_sequences = True, Window이동 단위 1에서 output 크기로 변경))\n",
    "# LSTM에 return_sequence=True가 주어지고 Bidirectional이면서 TimeDistributed() 함수가 사용되면 양방향 many-to-many 유형이 된다.https://m.blog.naver.com/chunjein/221589656211\n",
    "# 모델 layer에 model.add(TimeDistributed(Dense(1, activation='sigmoid')))추가\n",
    "\n",
    "\n",
    "##    기존 result: 13363 모델 모양\n",
    "#     model.add(LSTM(50, activation='relu', return_sequences= True, input_shape = [seq_len, 1]))\n",
    "#     model.add(LSTM(50, activation= 'relu'))\n",
    "#     model.add(Dense(1))  #120개의 open값 입력되어 121번째 open값 '하나' 예측   \n",
    "\n",
    "def build_model():\n",
    "    seq_len = 120\n",
    "    model = Sequential()\n",
    "    #    기존 result: 13363 모델 모양\n",
    "    # 첫 번째 layer에서 LSTM()매서드 안의 stateful = True는 오히려 다운 퍼포먼스 될 수 있음\n",
    "    model.add(LSTM(50, activation='tanh', return_sequences= True, input_shape = [seq_len, 1], dropout = 0.2)) \n",
    "    model.add(Bidirectional(LSTM(50, activation='tanh', dropout=0.50, recurrent_dropout=0.25)))\n",
    "    model.add(Dense(1))  #120개의 open값 입력되어 121번째 open값 '하나' 예측   \n",
    "    \n",
    "    model.compile(optimizer = 'adam', loss = 'mse', metrics = ['mse'])\n",
    "    \n",
    "    return model"
   ]
  },
  {
   "cell_type": "code",
   "execution_count": 7,
   "id": "strange-birmingham",
   "metadata": {},
   "outputs": [
    {
     "name": "stdout",
     "output_type": "stream",
     "text": [
      "Model: \"sequential\"\n",
      "_________________________________________________________________\n",
      "Layer (type)                 Output Shape              Param #   \n",
      "=================================================================\n",
      "lstm (LSTM)                  (None, 120, 50)           10400     \n",
      "_________________________________________________________________\n",
      "lstm_1 (LSTM)                (None, 120, 50)           20200     \n",
      "_________________________________________________________________\n",
      "lstm_2 (LSTM)                (None, 50)                20200     \n",
      "_________________________________________________________________\n",
      "dense (Dense)                (None, 1)                 51        \n",
      "=================================================================\n",
      "Total params: 50,851\n",
      "Trainable params: 50,851\n",
      "Non-trainable params: 0\n",
      "_________________________________________________________________\n"
     ]
    }
   ],
   "source": [
    "build_model().summary()"
   ]
  },
  {
   "cell_type": "code",
   "execution_count": null,
   "id": "every-warehouse",
   "metadata": {
    "scrolled": true,
    "tags": []
   },
   "outputs": [
    {
     "name": "stderr",
     "output_type": "stream",
     "text": [
      "  0%|          | 0/529 [00:00<?, ?it/s]"
     ]
    },
    {
     "name": "stdout",
     "output_type": "stream",
     "text": [
      "sample_id :  0 번\n",
      "loss :  0.00027520135771838257\n"
     ]
    },
    {
     "name": "stderr",
     "output_type": "stream",
     "text": [
      "  0%|          | 1/529 [00:26<3:56:34, 26.88s/it]"
     ]
    },
    {
     "name": "stdout",
     "output_type": "stream",
     "text": [
      "sample_id :  1 번\n",
      "loss :  0.00035938580859895585\n"
     ]
    },
    {
     "name": "stderr",
     "output_type": "stream",
     "text": [
      "  0%|          | 2/529 [00:46<3:19:25, 22.71s/it]"
     ]
    },
    {
     "name": "stdout",
     "output_type": "stream",
     "text": [
      "sample_id :  2 번\n",
      "loss :  0.0032925091264436553\n"
     ]
    },
    {
     "name": "stderr",
     "output_type": "stream",
     "text": [
      "  1%|          | 3/529 [01:07<3:09:52, 21.66s/it]"
     ]
    },
    {
     "name": "stdout",
     "output_type": "stream",
     "text": [
      "sample_id :  3 번\n",
      "loss :  0.0018174360050191782\n"
     ]
    },
    {
     "name": "stderr",
     "output_type": "stream",
     "text": [
      "  1%|          | 4/529 [01:28<3:07:18, 21.41s/it]"
     ]
    },
    {
     "name": "stdout",
     "output_type": "stream",
     "text": [
      "sample_id :  4 번\n",
      "loss :  0.00025449069930226454\n"
     ]
    },
    {
     "name": "stderr",
     "output_type": "stream",
     "text": [
      "  1%|          | 5/529 [01:48<3:02:52, 20.94s/it]"
     ]
    },
    {
     "name": "stdout",
     "output_type": "stream",
     "text": [
      "sample_id :  5 번\n",
      "loss :  0.001070194649569264\n"
     ]
    },
    {
     "name": "stderr",
     "output_type": "stream",
     "text": [
      "  1%|          | 6/529 [02:08<2:59:10, 20.56s/it]"
     ]
    },
    {
     "name": "stdout",
     "output_type": "stream",
     "text": [
      "sample_id :  6 번\n",
      "loss :  0.0007281963494044119\n"
     ]
    },
    {
     "name": "stderr",
     "output_type": "stream",
     "text": [
      "  1%|▏         | 7/529 [02:28<2:58:20, 20.50s/it]"
     ]
    },
    {
     "name": "stdout",
     "output_type": "stream",
     "text": [
      "sample_id :  7 번\n",
      "loss :  0.0012895941539764451\n"
     ]
    },
    {
     "name": "stderr",
     "output_type": "stream",
     "text": [
      "  2%|▏         | 8/529 [02:48<2:55:37, 20.23s/it]"
     ]
    },
    {
     "name": "stdout",
     "output_type": "stream",
     "text": [
      "sample_id :  8 번\n",
      "loss :  0.0006629230699692783\n"
     ]
    },
    {
     "name": "stderr",
     "output_type": "stream",
     "text": [
      "  2%|▏         | 9/529 [03:07<2:54:02, 20.08s/it]"
     ]
    },
    {
     "name": "stdout",
     "output_type": "stream",
     "text": [
      "sample_id :  9 번\n",
      "loss :  0.0014998992493359862\n"
     ]
    },
    {
     "name": "stderr",
     "output_type": "stream",
     "text": [
      "  2%|▏         | 10/529 [03:27<2:53:12, 20.02s/it]"
     ]
    },
    {
     "name": "stdout",
     "output_type": "stream",
     "text": [
      "sample_id :  10 번\n",
      "loss :  0.0004156447958907244\n"
     ]
    },
    {
     "name": "stderr",
     "output_type": "stream",
     "text": [
      "  2%|▏         | 11/529 [03:47<2:52:26, 19.97s/it]"
     ]
    },
    {
     "name": "stdout",
     "output_type": "stream",
     "text": [
      "sample_id :  11 번\n",
      "loss :  0.0012017007782349602\n"
     ]
    },
    {
     "name": "stderr",
     "output_type": "stream",
     "text": [
      "  2%|▏         | 12/529 [04:08<2:54:01, 20.20s/it]"
     ]
    },
    {
     "name": "stdout",
     "output_type": "stream",
     "text": [
      "sample_id :  12 번\n",
      "loss :  0.00031197838803972955\n"
     ]
    },
    {
     "name": "stderr",
     "output_type": "stream",
     "text": [
      "  2%|▏         | 13/529 [04:28<2:53:03, 20.12s/it]"
     ]
    },
    {
     "name": "stdout",
     "output_type": "stream",
     "text": [
      "sample_id :  13 번\n",
      "loss :  0.0004187343379325804\n"
     ]
    },
    {
     "name": "stderr",
     "output_type": "stream",
     "text": [
      "  3%|▎         | 14/529 [04:48<2:52:30, 20.10s/it]"
     ]
    },
    {
     "name": "stdout",
     "output_type": "stream",
     "text": [
      "sample_id :  14 번\n",
      "loss :  0.0007625902270398164\n"
     ]
    },
    {
     "name": "stderr",
     "output_type": "stream",
     "text": [
      "  3%|▎         | 15/529 [05:08<2:51:25, 20.01s/it]"
     ]
    },
    {
     "name": "stdout",
     "output_type": "stream",
     "text": [
      "sample_id :  15 번\n",
      "loss :  0.0005615310544833079\n"
     ]
    },
    {
     "name": "stderr",
     "output_type": "stream",
     "text": [
      "  3%|▎         | 16/529 [05:28<2:51:40, 20.08s/it]"
     ]
    },
    {
     "name": "stdout",
     "output_type": "stream",
     "text": [
      "sample_id :  16 번\n",
      "loss :  0.0003550854017602974\n"
     ]
    },
    {
     "name": "stderr",
     "output_type": "stream",
     "text": [
      "  3%|▎         | 17/529 [05:48<2:52:14, 20.18s/it]"
     ]
    },
    {
     "name": "stdout",
     "output_type": "stream",
     "text": [
      "sample_id :  17 번\n",
      "loss :  0.002239880397452768\n"
     ]
    },
    {
     "name": "stderr",
     "output_type": "stream",
     "text": [
      "  3%|▎         | 18/529 [06:08<2:51:47, 20.17s/it]"
     ]
    },
    {
     "name": "stdout",
     "output_type": "stream",
     "text": [
      "sample_id :  18 번\n",
      "loss :  0.0006626701609189367\n"
     ]
    },
    {
     "name": "stderr",
     "output_type": "stream",
     "text": [
      "  4%|▎         | 19/529 [06:28<2:48:58, 19.88s/it]"
     ]
    },
    {
     "name": "stdout",
     "output_type": "stream",
     "text": [
      "sample_id :  19 번\n",
      "loss :  0.0015233412030470322\n"
     ]
    },
    {
     "name": "stderr",
     "output_type": "stream",
     "text": [
      "  4%|▍         | 20/529 [06:48<2:49:03, 19.93s/it]"
     ]
    },
    {
     "name": "stdout",
     "output_type": "stream",
     "text": [
      "sample_id :  20 번\n",
      "loss :  0.0011139155113647934\n"
     ]
    },
    {
     "name": "stderr",
     "output_type": "stream",
     "text": [
      "  4%|▍         | 21/529 [07:08<2:48:53, 19.95s/it]"
     ]
    },
    {
     "name": "stdout",
     "output_type": "stream",
     "text": [
      "sample_id :  21 번\n",
      "loss :  0.002387455999858624\n"
     ]
    },
    {
     "name": "stderr",
     "output_type": "stream",
     "text": [
      "  4%|▍         | 22/529 [07:28<2:49:45, 20.09s/it]"
     ]
    },
    {
     "name": "stdout",
     "output_type": "stream",
     "text": [
      "sample_id :  22 번\n",
      "loss :  0.0004655105959262693\n"
     ]
    },
    {
     "name": "stderr",
     "output_type": "stream",
     "text": [
      "  4%|▍         | 23/529 [07:48<2:50:04, 20.17s/it]"
     ]
    },
    {
     "name": "stdout",
     "output_type": "stream",
     "text": [
      "sample_id :  23 번\n",
      "loss :  0.002709591072171074\n"
     ]
    },
    {
     "name": "stderr",
     "output_type": "stream",
     "text": [
      "  5%|▍         | 24/529 [08:08<2:47:18, 19.88s/it]"
     ]
    },
    {
     "name": "stdout",
     "output_type": "stream",
     "text": [
      "sample_id :  24 번\n",
      "loss :  0.0005082668720811496\n"
     ]
    },
    {
     "name": "stderr",
     "output_type": "stream",
     "text": [
      "  5%|▍         | 25/529 [08:29<2:49:38, 20.20s/it]"
     ]
    },
    {
     "name": "stdout",
     "output_type": "stream",
     "text": [
      "sample_id :  25 번\n",
      "loss :  0.002873742978278669\n"
     ]
    },
    {
     "name": "stderr",
     "output_type": "stream",
     "text": [
      "  5%|▍         | 26/529 [08:48<2:48:29, 20.10s/it]"
     ]
    },
    {
     "name": "stdout",
     "output_type": "stream",
     "text": [
      "sample_id :  26 번\n",
      "loss :  0.0020807017821883687\n"
     ]
    },
    {
     "name": "stderr",
     "output_type": "stream",
     "text": [
      "  5%|▌         | 27/529 [09:07<2:43:32, 19.55s/it]"
     ]
    },
    {
     "name": "stdout",
     "output_type": "stream",
     "text": [
      "sample_id :  27 번\n",
      "loss :  0.0012786244744038455\n"
     ]
    },
    {
     "name": "stderr",
     "output_type": "stream",
     "text": [
      "  5%|▌         | 28/529 [09:27<2:44:14, 19.67s/it]"
     ]
    },
    {
     "name": "stdout",
     "output_type": "stream",
     "text": [
      "sample_id :  28 번\n",
      "loss :  0.002671937228345428\n"
     ]
    },
    {
     "name": "stderr",
     "output_type": "stream",
     "text": [
      "  5%|▌         | 29/529 [09:46<2:44:02, 19.68s/it]"
     ]
    },
    {
     "name": "stdout",
     "output_type": "stream",
     "text": [
      "sample_id :  29 번\n",
      "loss :  0.0003394209273313738\n"
     ]
    },
    {
     "name": "stderr",
     "output_type": "stream",
     "text": [
      "  6%|▌         | 30/529 [10:05<2:40:39, 19.32s/it]"
     ]
    },
    {
     "name": "stdout",
     "output_type": "stream",
     "text": [
      "sample_id :  30 번\n",
      "loss :  0.0003531319003471198\n"
     ]
    },
    {
     "name": "stderr",
     "output_type": "stream",
     "text": [
      "  6%|▌         | 31/529 [10:25<2:41:18, 19.44s/it]"
     ]
    },
    {
     "name": "stdout",
     "output_type": "stream",
     "text": [
      "sample_id :  31 번\n",
      "loss :  0.0003313485853534156\n"
     ]
    },
    {
     "name": "stderr",
     "output_type": "stream",
     "text": [
      "  6%|▌         | 32/529 [10:43<2:38:36, 19.15s/it]"
     ]
    },
    {
     "name": "stdout",
     "output_type": "stream",
     "text": [
      "sample_id :  32 번\n",
      "loss :  0.0010436863790660492\n"
     ]
    },
    {
     "name": "stderr",
     "output_type": "stream",
     "text": [
      "  6%|▌         | 33/529 [11:02<2:39:04, 19.24s/it]"
     ]
    },
    {
     "name": "stdout",
     "output_type": "stream",
     "text": [
      "sample_id :  33 번\n",
      "loss :  0.0009696697904558215\n"
     ]
    },
    {
     "name": "stderr",
     "output_type": "stream",
     "text": [
      "  6%|▋         | 34/529 [11:23<2:40:56, 19.51s/it]"
     ]
    },
    {
     "name": "stdout",
     "output_type": "stream",
     "text": [
      "sample_id :  34 번\n",
      "loss :  0.0005421079875072102\n"
     ]
    },
    {
     "name": "stderr",
     "output_type": "stream",
     "text": [
      "  7%|▋         | 35/529 [11:41<2:37:57, 19.19s/it]"
     ]
    },
    {
     "name": "stdout",
     "output_type": "stream",
     "text": [
      "sample_id :  35 번\n",
      "loss :  0.002276452231783837\n"
     ]
    },
    {
     "name": "stderr",
     "output_type": "stream",
     "text": [
      "  7%|▋         | 36/529 [12:01<2:39:14, 19.38s/it]"
     ]
    },
    {
     "name": "stdout",
     "output_type": "stream",
     "text": [
      "sample_id :  36 번\n",
      "loss :  0.0010223000275593982\n"
     ]
    },
    {
     "name": "stderr",
     "output_type": "stream",
     "text": [
      "  7%|▋         | 37/529 [12:19<2:37:01, 19.15s/it]"
     ]
    },
    {
     "name": "stdout",
     "output_type": "stream",
     "text": [
      "sample_id :  37 번\n",
      "loss :  0.0016601904747730995\n"
     ]
    },
    {
     "name": "stderr",
     "output_type": "stream",
     "text": [
      "  7%|▋         | 38/529 [12:40<2:39:12, 19.46s/it]"
     ]
    },
    {
     "name": "stdout",
     "output_type": "stream",
     "text": [
      "sample_id :  38 번\n",
      "loss :  0.0006430933328354294\n"
     ]
    },
    {
     "name": "stderr",
     "output_type": "stream",
     "text": [
      "  7%|▋         | 39/529 [12:58<2:35:51, 19.08s/it]"
     ]
    },
    {
     "name": "stdout",
     "output_type": "stream",
     "text": [
      "sample_id :  39 번\n",
      "loss :  0.0004463752772967162\n"
     ]
    },
    {
     "name": "stderr",
     "output_type": "stream",
     "text": [
      "  8%|▊         | 40/529 [13:18<2:37:54, 19.38s/it]"
     ]
    },
    {
     "name": "stdout",
     "output_type": "stream",
     "text": [
      "sample_id :  40 번\n",
      "loss :  0.0009538832995700306\n"
     ]
    },
    {
     "name": "stderr",
     "output_type": "stream",
     "text": [
      "  8%|▊         | 41/529 [13:36<2:35:19, 19.10s/it]"
     ]
    },
    {
     "name": "stdout",
     "output_type": "stream",
     "text": [
      "sample_id :  41 번\n",
      "loss :  0.0006002939975287135\n"
     ]
    },
    {
     "name": "stderr",
     "output_type": "stream",
     "text": [
      "  8%|▊         | 42/529 [13:57<2:38:01, 19.47s/it]"
     ]
    },
    {
     "name": "stdout",
     "output_type": "stream",
     "text": [
      "sample_id :  42 번\n",
      "loss :  0.0004220078121606302\n"
     ]
    },
    {
     "name": "stderr",
     "output_type": "stream",
     "text": [
      "  8%|▊         | 43/529 [14:15<2:35:13, 19.16s/it]"
     ]
    },
    {
     "name": "stdout",
     "output_type": "stream",
     "text": [
      "sample_id :  43 번\n",
      "loss :  0.00033025768333254493\n"
     ]
    },
    {
     "name": "stderr",
     "output_type": "stream",
     "text": [
      "  8%|▊         | 44/529 [14:35<2:37:15, 19.45s/it]"
     ]
    },
    {
     "name": "stdout",
     "output_type": "stream",
     "text": [
      "sample_id :  44 번\n",
      "loss :  0.004308513633099054\n"
     ]
    },
    {
     "name": "stderr",
     "output_type": "stream",
     "text": [
      "  9%|▊         | 45/529 [14:54<2:34:24, 19.14s/it]"
     ]
    },
    {
     "name": "stdout",
     "output_type": "stream",
     "text": [
      "sample_id :  45 번\n",
      "loss :  0.00032736326830341047\n"
     ]
    },
    {
     "name": "stderr",
     "output_type": "stream",
     "text": [
      "  9%|▊         | 46/529 [15:12<2:32:19, 18.92s/it]"
     ]
    },
    {
     "name": "stdout",
     "output_type": "stream",
     "text": [
      "sample_id :  46 번\n",
      "loss :  0.0005427791365397158\n"
     ]
    },
    {
     "name": "stderr",
     "output_type": "stream",
     "text": [
      "  9%|▉         | 47/529 [15:32<2:35:20, 19.34s/it]"
     ]
    },
    {
     "name": "stdout",
     "output_type": "stream",
     "text": [
      "sample_id :  47 번\n",
      "loss :  0.0002827541039255392\n"
     ]
    },
    {
     "name": "stderr",
     "output_type": "stream",
     "text": [
      "  9%|▉         | 48/529 [15:51<2:32:56, 19.08s/it]"
     ]
    },
    {
     "name": "stdout",
     "output_type": "stream",
     "text": [
      "sample_id :  48 번\n",
      "loss :  0.000627069435231432\n"
     ]
    },
    {
     "name": "stderr",
     "output_type": "stream",
     "text": [
      "  9%|▉         | 49/529 [16:11<2:35:26, 19.43s/it]"
     ]
    },
    {
     "name": "stdout",
     "output_type": "stream",
     "text": [
      "sample_id :  49 번\n",
      "loss :  0.0009545809269854629\n"
     ]
    },
    {
     "name": "stderr",
     "output_type": "stream",
     "text": [
      "  9%|▉         | 50/529 [16:30<2:32:38, 19.12s/it]"
     ]
    },
    {
     "name": "stdout",
     "output_type": "stream",
     "text": [
      "sample_id :  50 번\n",
      "loss :  0.001392318505602959\n"
     ]
    },
    {
     "name": "stderr",
     "output_type": "stream",
     "text": [
      " 10%|▉         | 51/529 [16:50<2:36:09, 19.60s/it]"
     ]
    },
    {
     "name": "stdout",
     "output_type": "stream",
     "text": [
      "sample_id :  51 번\n",
      "loss :  0.0007377003572549822\n"
     ]
    },
    {
     "name": "stderr",
     "output_type": "stream",
     "text": [
      " 10%|▉         | 52/529 [17:09<2:33:16, 19.28s/it]"
     ]
    },
    {
     "name": "stdout",
     "output_type": "stream",
     "text": [
      "sample_id :  52 번\n",
      "loss :  0.0002383927409797892\n"
     ]
    },
    {
     "name": "stderr",
     "output_type": "stream",
     "text": [
      " 10%|█         | 53/529 [17:28<2:32:52, 19.27s/it]"
     ]
    },
    {
     "name": "stdout",
     "output_type": "stream",
     "text": [
      "sample_id :  53 번\n",
      "loss :  0.00037252568958639343\n"
     ]
    },
    {
     "name": "stderr",
     "output_type": "stream",
     "text": [
      " 10%|█         | 54/529 [17:51<2:40:27, 20.27s/it]"
     ]
    },
    {
     "name": "stdout",
     "output_type": "stream",
     "text": [
      "sample_id :  54 번\n",
      "loss :  0.0008461787756510238\n"
     ]
    },
    {
     "name": "stderr",
     "output_type": "stream",
     "text": [
      " 10%|█         | 55/529 [18:10<2:37:42, 19.96s/it]"
     ]
    },
    {
     "name": "stdout",
     "output_type": "stream",
     "text": [
      "sample_id :  55 번\n",
      "loss :  0.0008940264391043387\n"
     ]
    },
    {
     "name": "stderr",
     "output_type": "stream",
     "text": [
      " 11%|█         | 56/529 [18:32<2:41:20, 20.47s/it]"
     ]
    },
    {
     "name": "stdout",
     "output_type": "stream",
     "text": [
      "sample_id :  56 번\n",
      "loss :  0.0011471793623463599\n"
     ]
    },
    {
     "name": "stderr",
     "output_type": "stream",
     "text": [
      " 11%|█         | 57/529 [18:50<2:36:04, 19.84s/it]"
     ]
    },
    {
     "name": "stdout",
     "output_type": "stream",
     "text": [
      "sample_id :  57 번\n",
      "loss :  0.000568575793283609\n"
     ]
    },
    {
     "name": "stderr",
     "output_type": "stream",
     "text": [
      " 11%|█         | 58/529 [19:09<2:33:49, 19.60s/it]"
     ]
    },
    {
     "name": "stdout",
     "output_type": "stream",
     "text": [
      "sample_id :  58 번\n",
      "loss :  0.0004638237192347643\n"
     ]
    },
    {
     "name": "stderr",
     "output_type": "stream",
     "text": [
      " 11%|█         | 59/529 [19:31<2:38:29, 20.23s/it]"
     ]
    },
    {
     "name": "stdout",
     "output_type": "stream",
     "text": [
      "sample_id :  59 번\n",
      "loss :  0.00041109890640233187\n"
     ]
    },
    {
     "name": "stderr",
     "output_type": "stream",
     "text": [
      " 11%|█▏        | 60/529 [19:50<2:35:04, 19.84s/it]"
     ]
    },
    {
     "name": "stdout",
     "output_type": "stream",
     "text": [
      "sample_id :  60 번\n",
      "loss :  0.004255675415954507\n"
     ]
    },
    {
     "name": "stderr",
     "output_type": "stream",
     "text": [
      " 12%|█▏        | 61/529 [20:08<2:32:20, 19.53s/it]"
     ]
    },
    {
     "name": "stdout",
     "output_type": "stream",
     "text": [
      "sample_id :  61 번\n",
      "loss :  0.0009220029451944248\n"
     ]
    },
    {
     "name": "stderr",
     "output_type": "stream",
     "text": [
      " 12%|█▏        | 62/529 [20:30<2:35:51, 20.02s/it]"
     ]
    },
    {
     "name": "stdout",
     "output_type": "stream",
     "text": [
      "sample_id :  62 번\n",
      "loss :  0.0012808652437307573\n"
     ]
    },
    {
     "name": "stderr",
     "output_type": "stream",
     "text": [
      " 12%|█▏        | 63/529 [20:48<2:32:49, 19.68s/it]"
     ]
    },
    {
     "name": "stdout",
     "output_type": "stream",
     "text": [
      "sample_id :  63 번\n",
      "loss :  0.003243322151130904\n"
     ]
    },
    {
     "name": "stderr",
     "output_type": "stream",
     "text": [
      " 12%|█▏        | 64/529 [21:08<2:32:36, 19.69s/it]"
     ]
    },
    {
     "name": "stdout",
     "output_type": "stream",
     "text": [
      "sample_id :  64 번\n",
      "loss :  0.001158540845867853\n"
     ]
    },
    {
     "name": "stderr",
     "output_type": "stream",
     "text": [
      " 12%|█▏        | 65/529 [21:30<2:36:52, 20.29s/it]"
     ]
    },
    {
     "name": "stdout",
     "output_type": "stream",
     "text": [
      "sample_id :  65 번\n",
      "loss :  0.004923956490893323\n"
     ]
    },
    {
     "name": "stderr",
     "output_type": "stream",
     "text": [
      " 12%|█▏        | 66/529 [21:49<2:32:53, 19.81s/it]"
     ]
    },
    {
     "name": "stdout",
     "output_type": "stream",
     "text": [
      "sample_id :  66 번\n",
      "loss :  0.0005831282920218158\n"
     ]
    },
    {
     "name": "stderr",
     "output_type": "stream",
     "text": [
      " 13%|█▎        | 67/529 [22:07<2:30:11, 19.50s/it]"
     ]
    },
    {
     "name": "stdout",
     "output_type": "stream",
     "text": [
      "sample_id :  67 번\n",
      "loss :  0.0008432262469300552\n"
     ]
    },
    {
     "name": "stderr",
     "output_type": "stream",
     "text": [
      " 13%|█▎        | 68/529 [22:29<2:35:04, 20.18s/it]"
     ]
    },
    {
     "name": "stdout",
     "output_type": "stream",
     "text": [
      "sample_id :  68 번\n",
      "loss :  0.0042249272276763524\n"
     ]
    },
    {
     "name": "stderr",
     "output_type": "stream",
     "text": [
      " 13%|█▎        | 69/529 [22:48<2:31:28, 19.76s/it]"
     ]
    },
    {
     "name": "stdout",
     "output_type": "stream",
     "text": [
      "sample_id :  69 번\n",
      "loss :  0.0005710527668943787\n"
     ]
    },
    {
     "name": "stderr",
     "output_type": "stream",
     "text": [
      " 13%|█▎        | 70/529 [23:07<2:29:28, 19.54s/it]"
     ]
    },
    {
     "name": "stdout",
     "output_type": "stream",
     "text": [
      "sample_id :  70 번\n",
      "loss :  0.0004162914737799398\n"
     ]
    },
    {
     "name": "stderr",
     "output_type": "stream",
     "text": [
      " 13%|█▎        | 71/529 [23:28<2:33:45, 20.14s/it]"
     ]
    },
    {
     "name": "stdout",
     "output_type": "stream",
     "text": [
      "sample_id :  71 번\n",
      "loss :  0.000946320452761775\n"
     ]
    },
    {
     "name": "stderr",
     "output_type": "stream",
     "text": [
      " 14%|█▎        | 72/529 [23:47<2:29:13, 19.59s/it]"
     ]
    },
    {
     "name": "stdout",
     "output_type": "stream",
     "text": [
      "sample_id :  72 번\n",
      "loss :  0.0009134912219714459\n"
     ]
    },
    {
     "name": "stderr",
     "output_type": "stream",
     "text": [
      " 14%|█▍        | 73/529 [24:05<2:26:06, 19.23s/it]"
     ]
    },
    {
     "name": "stdout",
     "output_type": "stream",
     "text": [
      "sample_id :  73 번\n",
      "loss :  0.0008325802155447099\n"
     ]
    },
    {
     "name": "stderr",
     "output_type": "stream",
     "text": [
      " 14%|█▍        | 74/529 [24:26<2:29:42, 19.74s/it]"
     ]
    },
    {
     "name": "stdout",
     "output_type": "stream",
     "text": [
      "sample_id :  74 번\n",
      "loss :  0.0006682737946352752\n"
     ]
    },
    {
     "name": "stderr",
     "output_type": "stream",
     "text": [
      " 14%|█▍        | 75/529 [24:44<2:26:13, 19.32s/it]"
     ]
    },
    {
     "name": "stdout",
     "output_type": "stream",
     "text": [
      "sample_id :  75 번\n",
      "loss :  0.0010563711403862434\n"
     ]
    },
    {
     "name": "stderr",
     "output_type": "stream",
     "text": [
      " 14%|█▍        | 76/529 [25:03<2:24:48, 19.18s/it]"
     ]
    },
    {
     "name": "stdout",
     "output_type": "stream",
     "text": [
      "sample_id :  76 번\n",
      "loss :  0.0015158952080487104\n"
     ]
    },
    {
     "name": "stderr",
     "output_type": "stream",
     "text": [
      " 15%|█▍        | 77/529 [25:26<2:32:18, 20.22s/it]"
     ]
    },
    {
     "name": "stdout",
     "output_type": "stream",
     "text": [
      "sample_id :  77 번\n",
      "loss :  0.00041582084202534584\n"
     ]
    },
    {
     "name": "stderr",
     "output_type": "stream",
     "text": [
      " 15%|█▍        | 78/529 [25:44<2:27:42, 19.65s/it]"
     ]
    },
    {
     "name": "stdout",
     "output_type": "stream",
     "text": [
      "sample_id :  78 번\n",
      "loss :  0.0011782305978306638\n"
     ]
    },
    {
     "name": "stderr",
     "output_type": "stream",
     "text": [
      " 15%|█▍        | 79/529 [26:02<2:24:21, 19.25s/it]"
     ]
    },
    {
     "name": "stdout",
     "output_type": "stream",
     "text": [
      "sample_id :  79 번\n",
      "loss :  0.0038695227368819845\n"
     ]
    },
    {
     "name": "stderr",
     "output_type": "stream",
     "text": [
      " 15%|█▌        | 80/529 [26:21<2:22:03, 18.98s/it]"
     ]
    },
    {
     "name": "stdout",
     "output_type": "stream",
     "text": [
      "sample_id :  80 번\n",
      "loss :  0.0005405544609606644\n"
     ]
    },
    {
     "name": "stderr",
     "output_type": "stream",
     "text": [
      " 15%|█▌        | 81/529 [26:42<2:27:15, 19.72s/it]"
     ]
    },
    {
     "name": "stdout",
     "output_type": "stream",
     "text": [
      "sample_id :  81 번\n",
      "loss :  0.0015794476434089853\n"
     ]
    },
    {
     "name": "stderr",
     "output_type": "stream",
     "text": [
      " 16%|█▌        | 82/529 [27:01<2:23:56, 19.32s/it]"
     ]
    },
    {
     "name": "stdout",
     "output_type": "stream",
     "text": [
      "sample_id :  82 번\n",
      "loss :  0.0008013809726346429\n"
     ]
    },
    {
     "name": "stderr",
     "output_type": "stream",
     "text": [
      " 16%|█▌        | 83/529 [27:20<2:23:01, 19.24s/it]"
     ]
    },
    {
     "name": "stdout",
     "output_type": "stream",
     "text": [
      "sample_id :  83 번\n",
      "loss :  0.00140339648674706\n"
     ]
    },
    {
     "name": "stderr",
     "output_type": "stream",
     "text": [
      " 16%|█▌        | 84/529 [27:42<2:29:38, 20.18s/it]"
     ]
    },
    {
     "name": "stdout",
     "output_type": "stream",
     "text": [
      "sample_id :  84 번\n",
      "loss :  0.000525533976165557\n"
     ]
    },
    {
     "name": "stderr",
     "output_type": "stream",
     "text": [
      " 16%|█▌        | 85/529 [28:01<2:27:19, 19.91s/it]"
     ]
    },
    {
     "name": "stdout",
     "output_type": "stream",
     "text": [
      "sample_id :  85 번\n",
      "loss :  0.003148628422262545\n"
     ]
    },
    {
     "name": "stderr",
     "output_type": "stream",
     "text": [
      " 16%|█▋        | 86/529 [28:21<2:26:39, 19.86s/it]"
     ]
    },
    {
     "name": "stdout",
     "output_type": "stream",
     "text": [
      "sample_id :  86 번\n",
      "loss :  0.001382825117113662\n"
     ]
    },
    {
     "name": "stderr",
     "output_type": "stream",
     "text": [
      " 16%|█▋        | 87/529 [28:40<2:24:06, 19.56s/it]"
     ]
    },
    {
     "name": "stdout",
     "output_type": "stream",
     "text": [
      "sample_id :  87 번\n",
      "loss :  0.0015065812679063869\n"
     ]
    },
    {
     "name": "stderr",
     "output_type": "stream",
     "text": [
      " 17%|█▋        | 88/529 [29:02<2:28:46, 20.24s/it]"
     ]
    },
    {
     "name": "stdout",
     "output_type": "stream",
     "text": [
      "sample_id :  88 번\n",
      "loss :  0.0007396263799826504\n"
     ]
    },
    {
     "name": "stderr",
     "output_type": "stream",
     "text": [
      " 17%|█▋        | 89/529 [29:21<2:25:10, 19.80s/it]"
     ]
    },
    {
     "name": "stdout",
     "output_type": "stream",
     "text": [
      "sample_id :  89 번\n",
      "loss :  0.0003231507872110728\n"
     ]
    },
    {
     "name": "stderr",
     "output_type": "stream",
     "text": [
      " 17%|█▋        | 90/529 [29:39<2:22:43, 19.51s/it]"
     ]
    },
    {
     "name": "stdout",
     "output_type": "stream",
     "text": [
      "sample_id :  90 번\n",
      "loss :  0.0006890674959886686\n"
     ]
    },
    {
     "name": "stderr",
     "output_type": "stream",
     "text": [
      " 17%|█▋        | 91/529 [29:59<2:21:44, 19.42s/it]"
     ]
    },
    {
     "name": "stdout",
     "output_type": "stream",
     "text": [
      "sample_id :  91 번\n",
      "loss :  0.0006638930506140254\n"
     ]
    },
    {
     "name": "stderr",
     "output_type": "stream",
     "text": [
      " 17%|█▋        | 92/529 [30:22<2:30:30, 20.66s/it]"
     ]
    },
    {
     "name": "stdout",
     "output_type": "stream",
     "text": [
      "sample_id :  92 번\n",
      "loss :  0.0007914678973861104\n"
     ]
    },
    {
     "name": "stderr",
     "output_type": "stream",
     "text": [
      " 18%|█▊        | 93/529 [30:42<2:27:36, 20.31s/it]"
     ]
    },
    {
     "name": "stdout",
     "output_type": "stream",
     "text": [
      "sample_id :  93 번\n",
      "loss :  0.00043734246399808406\n"
     ]
    },
    {
     "name": "stderr",
     "output_type": "stream",
     "text": [
      " 18%|█▊        | 94/529 [31:02<2:26:20, 20.18s/it]"
     ]
    },
    {
     "name": "stdout",
     "output_type": "stream",
     "text": [
      "sample_id :  94 번\n",
      "loss :  0.0042373822318468425\n"
     ]
    },
    {
     "name": "stderr",
     "output_type": "stream",
     "text": [
      " 18%|█▊        | 95/529 [31:21<2:24:35, 19.99s/it]"
     ]
    },
    {
     "name": "stdout",
     "output_type": "stream",
     "text": [
      "sample_id :  95 번\n",
      "loss :  0.0003650692697994284\n"
     ]
    },
    {
     "name": "stderr",
     "output_type": "stream",
     "text": [
      " 18%|█▊        | 96/529 [31:45<2:33:29, 21.27s/it]"
     ]
    },
    {
     "name": "stdout",
     "output_type": "stream",
     "text": [
      "sample_id :  96 번\n",
      "loss :  0.0004103243222870332\n"
     ]
    },
    {
     "name": "stderr",
     "output_type": "stream",
     "text": [
      " 18%|█▊        | 97/529 [32:05<2:29:19, 20.74s/it]"
     ]
    },
    {
     "name": "stdout",
     "output_type": "stream",
     "text": [
      "sample_id :  97 번\n",
      "loss :  0.008686140060537244\n"
     ]
    },
    {
     "name": "stderr",
     "output_type": "stream",
     "text": [
      " 19%|█▊        | 98/529 [32:23<2:23:46, 20.01s/it]"
     ]
    },
    {
     "name": "stdout",
     "output_type": "stream",
     "text": [
      "sample_id :  98 번\n",
      "loss :  0.000440564690171826\n"
     ]
    },
    {
     "name": "stderr",
     "output_type": "stream",
     "text": [
      " 19%|█▊        | 99/529 [32:41<2:19:28, 19.46s/it]"
     ]
    },
    {
     "name": "stdout",
     "output_type": "stream",
     "text": [
      "sample_id :  99 번\n",
      "loss :  0.0008159420380703188\n"
     ]
    },
    {
     "name": "stderr",
     "output_type": "stream",
     "text": [
      " 19%|█▉        | 100/529 [33:03<2:23:51, 20.12s/it]"
     ]
    },
    {
     "name": "stdout",
     "output_type": "stream",
     "text": [
      "sample_id :  100 번\n",
      "loss :  0.005635908966835195\n"
     ]
    },
    {
     "name": "stderr",
     "output_type": "stream",
     "text": [
      " 19%|█▉        | 101/529 [33:21<2:19:39, 19.58s/it]"
     ]
    },
    {
     "name": "stdout",
     "output_type": "stream",
     "text": [
      "sample_id :  101 번\n",
      "loss :  0.00041960541053872626\n"
     ]
    },
    {
     "name": "stderr",
     "output_type": "stream",
     "text": [
      " 19%|█▉        | 102/529 [33:40<2:16:44, 19.22s/it]"
     ]
    },
    {
     "name": "stdout",
     "output_type": "stream",
     "text": [
      "sample_id :  102 번\n",
      "loss :  0.002740863278823312\n"
     ]
    },
    {
     "name": "stderr",
     "output_type": "stream",
     "text": [
      " 19%|█▉        | 103/529 [33:58<2:15:17, 19.06s/it]"
     ]
    },
    {
     "name": "stdout",
     "output_type": "stream",
     "text": [
      "sample_id :  103 번\n",
      "loss :  0.00039782168298262166\n"
     ]
    },
    {
     "name": "stderr",
     "output_type": "stream",
     "text": [
      " 20%|█▉        | 104/529 [34:17<2:13:34, 18.86s/it]"
     ]
    },
    {
     "name": "stdout",
     "output_type": "stream",
     "text": [
      "sample_id :  104 번\n",
      "loss :  0.0005506998809414003\n"
     ]
    },
    {
     "name": "stderr",
     "output_type": "stream",
     "text": [
      " 20%|█▉        | 105/529 [34:38<2:19:13, 19.70s/it]"
     ]
    },
    {
     "name": "stdout",
     "output_type": "stream",
     "text": [
      "sample_id :  105 번\n",
      "loss :  0.0005928844902730999\n"
     ]
    },
    {
     "name": "stderr",
     "output_type": "stream",
     "text": [
      " 20%|██        | 106/529 [34:57<2:15:51, 19.27s/it]"
     ]
    },
    {
     "name": "stdout",
     "output_type": "stream",
     "text": [
      "sample_id :  106 번\n",
      "loss :  0.0004447281215777451\n"
     ]
    },
    {
     "name": "stderr",
     "output_type": "stream",
     "text": [
      " 20%|██        | 107/529 [35:15<2:13:21, 18.96s/it]"
     ]
    },
    {
     "name": "stdout",
     "output_type": "stream",
     "text": [
      "sample_id :  107 번\n",
      "loss :  0.0006761653645620981\n"
     ]
    },
    {
     "name": "stderr",
     "output_type": "stream",
     "text": [
      " 20%|██        | 108/529 [35:33<2:10:38, 18.62s/it]"
     ]
    },
    {
     "name": "stdout",
     "output_type": "stream",
     "text": [
      "sample_id :  108 번\n",
      "loss :  0.00026078234990537934\n"
     ]
    },
    {
     "name": "stderr",
     "output_type": "stream",
     "text": [
      " 21%|██        | 109/529 [35:55<2:18:12, 19.74s/it]"
     ]
    },
    {
     "name": "stdout",
     "output_type": "stream",
     "text": [
      "sample_id :  109 번\n",
      "loss :  0.0005413718294173648\n"
     ]
    },
    {
     "name": "stderr",
     "output_type": "stream",
     "text": [
      " 21%|██        | 110/529 [36:14<2:15:49, 19.45s/it]"
     ]
    },
    {
     "name": "stdout",
     "output_type": "stream",
     "text": [
      "sample_id :  110 번\n",
      "loss :  0.00014612995563332003\n"
     ]
    },
    {
     "name": "stderr",
     "output_type": "stream",
     "text": [
      " 21%|██        | 111/529 [36:33<2:14:49, 19.35s/it]"
     ]
    },
    {
     "name": "stdout",
     "output_type": "stream",
     "text": [
      "sample_id :  111 번\n",
      "loss :  0.00088032452919246\n"
     ]
    },
    {
     "name": "stderr",
     "output_type": "stream",
     "text": [
      " 21%|██        | 112/529 [36:52<2:14:16, 19.32s/it]"
     ]
    },
    {
     "name": "stdout",
     "output_type": "stream",
     "text": [
      "sample_id :  112 번\n",
      "loss :  0.0006042846972385393\n"
     ]
    },
    {
     "name": "stderr",
     "output_type": "stream",
     "text": [
      " 21%|██▏       | 113/529 [37:12<2:14:47, 19.44s/it]"
     ]
    },
    {
     "name": "stdout",
     "output_type": "stream",
     "text": [
      "sample_id :  113 번\n",
      "loss :  0.0006900609090774097\n"
     ]
    },
    {
     "name": "stderr",
     "output_type": "stream",
     "text": [
      " 22%|██▏       | 114/529 [37:35<2:21:01, 20.39s/it]"
     ]
    },
    {
     "name": "stdout",
     "output_type": "stream",
     "text": [
      "sample_id :  114 번\n",
      "loss :  0.0005559448648955764\n"
     ]
    },
    {
     "name": "stderr",
     "output_type": "stream",
     "text": [
      " 22%|██▏       | 115/529 [37:54<2:18:45, 20.11s/it]"
     ]
    },
    {
     "name": "stdout",
     "output_type": "stream",
     "text": [
      "sample_id :  115 번\n",
      "loss :  0.0006071804617931053\n"
     ]
    },
    {
     "name": "stderr",
     "output_type": "stream",
     "text": [
      " 22%|██▏       | 116/529 [38:13<2:15:54, 19.74s/it]"
     ]
    },
    {
     "name": "stdout",
     "output_type": "stream",
     "text": [
      "sample_id :  116 번\n",
      "loss :  0.000638282879934786\n"
     ]
    },
    {
     "name": "stderr",
     "output_type": "stream",
     "text": [
      " 22%|██▏       | 117/529 [38:32<2:13:32, 19.45s/it]"
     ]
    },
    {
     "name": "stdout",
     "output_type": "stream",
     "text": [
      "sample_id :  117 번\n",
      "loss :  0.0009157832969824108\n"
     ]
    },
    {
     "name": "stderr",
     "output_type": "stream",
     "text": [
      " 22%|██▏       | 118/529 [38:51<2:13:39, 19.51s/it]"
     ]
    },
    {
     "name": "stdout",
     "output_type": "stream",
     "text": [
      "sample_id :  118 번\n",
      "loss :  0.0005552126805303949\n"
     ]
    },
    {
     "name": "stderr",
     "output_type": "stream",
     "text": [
      " 22%|██▏       | 119/529 [39:17<2:26:50, 21.49s/it]"
     ]
    },
    {
     "name": "stdout",
     "output_type": "stream",
     "text": [
      "sample_id :  119 번\n",
      "loss :  0.00048314078666219476\n"
     ]
    },
    {
     "name": "stderr",
     "output_type": "stream",
     "text": [
      " 23%|██▎       | 120/529 [39:36<2:21:05, 20.70s/it]"
     ]
    },
    {
     "name": "stdout",
     "output_type": "stream",
     "text": [
      "sample_id :  120 번\n",
      "loss :  0.005546024851456604\n"
     ]
    },
    {
     "name": "stderr",
     "output_type": "stream",
     "text": [
      " 23%|██▎       | 121/529 [39:53<2:12:36, 19.50s/it]"
     ]
    },
    {
     "name": "stdout",
     "output_type": "stream",
     "text": [
      "sample_id :  121 번\n",
      "loss :  0.001915710923099939\n"
     ]
    },
    {
     "name": "stderr",
     "output_type": "stream",
     "text": [
      " 23%|██▎       | 122/529 [40:12<2:11:29, 19.38s/it]"
     ]
    },
    {
     "name": "stdout",
     "output_type": "stream",
     "text": [
      "sample_id :  122 번\n",
      "loss :  0.0021070318595773295\n"
     ]
    },
    {
     "name": "stderr",
     "output_type": "stream",
     "text": [
      " 23%|██▎       | 123/529 [40:32<2:11:21, 19.41s/it]"
     ]
    },
    {
     "name": "stdout",
     "output_type": "stream",
     "text": [
      "sample_id :  123 번\n",
      "loss :  0.00223273028267475\n"
     ]
    },
    {
     "name": "stderr",
     "output_type": "stream",
     "text": [
      " 23%|██▎       | 124/529 [40:55<2:18:24, 20.51s/it]"
     ]
    },
    {
     "name": "stdout",
     "output_type": "stream",
     "text": [
      "sample_id :  124 번\n",
      "loss :  0.00381610172041015\n"
     ]
    },
    {
     "name": "stderr",
     "output_type": "stream",
     "text": [
      " 24%|██▎       | 125/529 [41:15<2:17:24, 20.41s/it]"
     ]
    },
    {
     "name": "stdout",
     "output_type": "stream",
     "text": [
      "sample_id :  125 번\n",
      "loss :  0.00045569320202851703\n"
     ]
    },
    {
     "name": "stderr",
     "output_type": "stream",
     "text": [
      " 24%|██▍       | 126/529 [41:34<2:13:30, 19.88s/it]"
     ]
    },
    {
     "name": "stdout",
     "output_type": "stream",
     "text": [
      "sample_id :  126 번\n",
      "loss :  0.0005079430249291069\n"
     ]
    },
    {
     "name": "stderr",
     "output_type": "stream",
     "text": [
      " 24%|██▍       | 127/529 [41:52<2:10:29, 19.48s/it]"
     ]
    },
    {
     "name": "stdout",
     "output_type": "stream",
     "text": [
      "sample_id :  127 번\n",
      "loss :  0.00035266366967009685\n"
     ]
    },
    {
     "name": "stderr",
     "output_type": "stream",
     "text": [
      " 24%|██▍       | 128/529 [42:11<2:09:22, 19.36s/it]"
     ]
    },
    {
     "name": "stdout",
     "output_type": "stream",
     "text": [
      "sample_id :  128 번\n",
      "loss :  0.00047843143885039426\n"
     ]
    },
    {
     "name": "stderr",
     "output_type": "stream",
     "text": [
      " 24%|██▍       | 129/529 [42:30<2:07:05, 19.06s/it]"
     ]
    },
    {
     "name": "stdout",
     "output_type": "stream",
     "text": [
      "sample_id :  129 번\n",
      "loss :  0.0004045119867362363\n"
     ]
    },
    {
     "name": "stderr",
     "output_type": "stream",
     "text": [
      " 25%|██▍       | 130/529 [42:54<2:17:17, 20.65s/it]"
     ]
    },
    {
     "name": "stdout",
     "output_type": "stream",
     "text": [
      "sample_id :  130 번\n",
      "loss :  0.0006319624667719445\n"
     ]
    },
    {
     "name": "stderr",
     "output_type": "stream",
     "text": [
      " 25%|██▍       | 131/529 [43:13<2:14:08, 20.22s/it]"
     ]
    },
    {
     "name": "stdout",
     "output_type": "stream",
     "text": [
      "sample_id :  131 번\n",
      "loss :  0.0004693567774336596\n"
     ]
    },
    {
     "name": "stderr",
     "output_type": "stream",
     "text": [
      " 25%|██▍       | 132/529 [43:32<2:10:49, 19.77s/it]"
     ]
    },
    {
     "name": "stdout",
     "output_type": "stream",
     "text": [
      "sample_id :  132 번\n",
      "loss :  0.000812763807364178\n"
     ]
    },
    {
     "name": "stderr",
     "output_type": "stream",
     "text": [
      " 25%|██▌       | 133/529 [43:50<2:08:00, 19.39s/it]"
     ]
    },
    {
     "name": "stdout",
     "output_type": "stream",
     "text": [
      "sample_id :  133 번\n",
      "loss :  0.0035705797626127246\n"
     ]
    },
    {
     "name": "stderr",
     "output_type": "stream",
     "text": [
      " 25%|██▌       | 134/529 [44:09<2:06:19, 19.19s/it]"
     ]
    },
    {
     "name": "stdout",
     "output_type": "stream",
     "text": [
      "sample_id :  134 번\n",
      "loss :  0.0004165843920208916\n"
     ]
    },
    {
     "name": "stderr",
     "output_type": "stream",
     "text": [
      " 26%|██▌       | 135/529 [44:33<2:14:28, 20.48s/it]"
     ]
    },
    {
     "name": "stdout",
     "output_type": "stream",
     "text": [
      "sample_id :  135 번\n",
      "loss :  0.0007397716022018902\n"
     ]
    },
    {
     "name": "stderr",
     "output_type": "stream",
     "text": [
      " 26%|██▌       | 136/529 [44:51<2:10:35, 19.94s/it]"
     ]
    },
    {
     "name": "stdout",
     "output_type": "stream",
     "text": [
      "sample_id :  136 번\n",
      "loss :  0.0008210680921687031\n"
     ]
    },
    {
     "name": "stderr",
     "output_type": "stream",
     "text": [
      " 26%|██▌       | 137/529 [45:10<2:07:51, 19.57s/it]"
     ]
    },
    {
     "name": "stdout",
     "output_type": "stream",
     "text": [
      "sample_id :  137 번\n",
      "loss :  0.0016702482597221863\n"
     ]
    },
    {
     "name": "stderr",
     "output_type": "stream",
     "text": [
      " 26%|██▌       | 138/529 [45:29<2:05:56, 19.33s/it]"
     ]
    },
    {
     "name": "stdout",
     "output_type": "stream",
     "text": [
      "sample_id :  138 번\n",
      "loss :  0.0006165639919911625\n"
     ]
    },
    {
     "name": "stderr",
     "output_type": "stream",
     "text": [
      " 26%|██▋       | 139/529 [45:47<2:04:12, 19.11s/it]"
     ]
    },
    {
     "name": "stdout",
     "output_type": "stream",
     "text": [
      "sample_id :  139 번\n",
      "loss :  0.0023072878691435122\n"
     ]
    },
    {
     "name": "stderr",
     "output_type": "stream",
     "text": [
      " 26%|██▋       | 140/529 [46:06<2:03:30, 19.05s/it]"
     ]
    },
    {
     "name": "stdout",
     "output_type": "stream",
     "text": [
      "sample_id :  140 번\n",
      "loss :  0.0005406434424432339\n"
     ]
    },
    {
     "name": "stderr",
     "output_type": "stream",
     "text": [
      " 27%|██▋       | 141/529 [46:30<2:12:23, 20.47s/it]"
     ]
    },
    {
     "name": "stdout",
     "output_type": "stream",
     "text": [
      "sample_id :  141 번\n",
      "loss :  0.00082562657261217\n"
     ]
    },
    {
     "name": "stderr",
     "output_type": "stream",
     "text": [
      " 27%|██▋       | 142/529 [46:49<2:08:44, 19.96s/it]"
     ]
    },
    {
     "name": "stdout",
     "output_type": "stream",
     "text": [
      "sample_id :  142 번\n",
      "loss :  0.00018269658344169018\n"
     ]
    },
    {
     "name": "stderr",
     "output_type": "stream",
     "text": [
      " 27%|██▋       | 143/529 [47:07<2:05:53, 19.57s/it]"
     ]
    },
    {
     "name": "stdout",
     "output_type": "stream",
     "text": [
      "sample_id :  143 번\n",
      "loss :  0.0016028702381489365\n"
     ]
    },
    {
     "name": "stderr",
     "output_type": "stream",
     "text": [
      " 27%|██▋       | 144/529 [47:26<2:03:41, 19.28s/it]"
     ]
    },
    {
     "name": "stdout",
     "output_type": "stream",
     "text": [
      "sample_id :  144 번\n",
      "loss :  0.00494065605558165\n"
     ]
    },
    {
     "name": "stderr",
     "output_type": "stream",
     "text": [
      " 27%|██▋       | 145/529 [47:45<2:02:06, 19.08s/it]"
     ]
    },
    {
     "name": "stdout",
     "output_type": "stream",
     "text": [
      "sample_id :  145 번\n",
      "loss :  0.0007433246919549439\n"
     ]
    },
    {
     "name": "stderr",
     "output_type": "stream",
     "text": [
      " 28%|██▊       | 146/529 [48:04<2:01:55, 19.10s/it]"
     ]
    },
    {
     "name": "stdout",
     "output_type": "stream",
     "text": [
      "sample_id :  146 번\n",
      "loss :  0.00042642763680079396\n"
     ]
    },
    {
     "name": "stderr",
     "output_type": "stream",
     "text": [
      " 28%|██▊       | 147/529 [48:28<2:11:00, 20.58s/it]"
     ]
    },
    {
     "name": "stdout",
     "output_type": "stream",
     "text": [
      "sample_id :  147 번\n",
      "loss :  0.0005395277448141292\n"
     ]
    },
    {
     "name": "stderr",
     "output_type": "stream",
     "text": [
      " 28%|██▊       | 148/529 [48:47<2:07:20, 20.06s/it]"
     ]
    },
    {
     "name": "stdout",
     "output_type": "stream",
     "text": [
      "sample_id :  148 번\n",
      "loss :  0.00037990762018824236\n"
     ]
    },
    {
     "name": "stderr",
     "output_type": "stream",
     "text": [
      " 28%|██▊       | 149/529 [49:05<2:04:18, 19.63s/it]"
     ]
    },
    {
     "name": "stdout",
     "output_type": "stream",
     "text": [
      "sample_id :  149 번\n",
      "loss :  0.0011317503738059492\n"
     ]
    },
    {
     "name": "stderr",
     "output_type": "stream",
     "text": [
      " 28%|██▊       | 150/529 [49:24<2:02:14, 19.35s/it]"
     ]
    },
    {
     "name": "stdout",
     "output_type": "stream",
     "text": [
      "sample_id :  150 번\n",
      "loss :  0.004192314075928912\n"
     ]
    },
    {
     "name": "stderr",
     "output_type": "stream",
     "text": [
      " 29%|██▊       | 151/529 [49:42<1:59:56, 19.04s/it]"
     ]
    },
    {
     "name": "stdout",
     "output_type": "stream",
     "text": [
      "sample_id :  151 번\n",
      "loss :  0.004231065350441918\n"
     ]
    },
    {
     "name": "stderr",
     "output_type": "stream",
     "text": [
      " 29%|██▊       | 152/529 [50:01<1:59:47, 19.07s/it]"
     ]
    },
    {
     "name": "stdout",
     "output_type": "stream",
     "text": [
      "sample_id :  152 번\n",
      "loss :  0.00038108393566378164\n"
     ]
    },
    {
     "name": "stderr",
     "output_type": "stream",
     "text": [
      " 29%|██▉       | 153/529 [50:26<2:09:40, 20.69s/it]"
     ]
    },
    {
     "name": "stdout",
     "output_type": "stream",
     "text": [
      "sample_id :  153 번\n",
      "loss :  0.001522357843563292\n"
     ]
    },
    {
     "name": "stderr",
     "output_type": "stream",
     "text": [
      " 29%|██▉       | 154/529 [50:45<2:05:39, 20.11s/it]"
     ]
    },
    {
     "name": "stdout",
     "output_type": "stream",
     "text": [
      "sample_id :  154 번\n",
      "loss :  0.0013753759884257003\n"
     ]
    },
    {
     "name": "stderr",
     "output_type": "stream",
     "text": [
      " 29%|██▉       | 155/529 [51:03<2:02:46, 19.70s/it]"
     ]
    },
    {
     "name": "stdout",
     "output_type": "stream",
     "text": [
      "sample_id :  155 번\n",
      "loss :  0.002204383861397802\n"
     ]
    },
    {
     "name": "stderr",
     "output_type": "stream",
     "text": [
      " 29%|██▉       | 156/529 [51:23<2:01:38, 19.57s/it]"
     ]
    },
    {
     "name": "stdout",
     "output_type": "stream",
     "text": [
      "sample_id :  156 번\n",
      "loss :  0.0015728013781198937\n"
     ]
    },
    {
     "name": "stderr",
     "output_type": "stream",
     "text": [
      " 30%|██▉       | 157/529 [51:41<1:58:40, 19.14s/it]"
     ]
    },
    {
     "name": "stdout",
     "output_type": "stream",
     "text": [
      "sample_id :  157 번\n",
      "loss :  0.0005129804732131892\n"
     ]
    },
    {
     "name": "stderr",
     "output_type": "stream",
     "text": [
      " 30%|██▉       | 158/529 [51:59<1:57:32, 19.01s/it]"
     ]
    },
    {
     "name": "stdout",
     "output_type": "stream",
     "text": [
      "sample_id :  158 번\n",
      "loss :  0.001025194859589325\n"
     ]
    },
    {
     "name": "stderr",
     "output_type": "stream",
     "text": [
      " 30%|███       | 159/529 [52:18<1:56:48, 18.94s/it]"
     ]
    },
    {
     "name": "stdout",
     "output_type": "stream",
     "text": [
      "sample_id :  159 번\n",
      "loss :  0.0002666348741011438\n"
     ]
    },
    {
     "name": "stderr",
     "output_type": "stream",
     "text": [
      " 30%|███       | 160/529 [52:42<2:06:11, 20.52s/it]"
     ]
    },
    {
     "name": "stdout",
     "output_type": "stream",
     "text": [
      "sample_id :  160 번\n",
      "loss :  0.0017695479037467985\n"
     ]
    },
    {
     "name": "stderr",
     "output_type": "stream",
     "text": [
      " 30%|███       | 161/529 [53:01<2:02:18, 19.94s/it]"
     ]
    },
    {
     "name": "stdout",
     "output_type": "stream",
     "text": [
      "sample_id :  161 번\n",
      "loss :  0.00024298167366954639\n"
     ]
    },
    {
     "name": "stderr",
     "output_type": "stream",
     "text": [
      " 31%|███       | 162/529 [53:20<1:59:42, 19.57s/it]"
     ]
    },
    {
     "name": "stdout",
     "output_type": "stream",
     "text": [
      "sample_id :  162 번\n",
      "loss :  0.0006461039607772253\n"
     ]
    },
    {
     "name": "stderr",
     "output_type": "stream",
     "text": [
      " 31%|███       | 163/529 [53:38<1:57:19, 19.23s/it]"
     ]
    },
    {
     "name": "stdout",
     "output_type": "stream",
     "text": [
      "sample_id :  163 번\n",
      "loss :  0.00129194020417928\n"
     ]
    },
    {
     "name": "stderr",
     "output_type": "stream",
     "text": [
      " 31%|███       | 164/529 [53:57<1:55:30, 18.99s/it]"
     ]
    },
    {
     "name": "stdout",
     "output_type": "stream",
     "text": [
      "sample_id :  164 번\n",
      "loss :  0.001074045339974296\n"
     ]
    },
    {
     "name": "stderr",
     "output_type": "stream",
     "text": [
      " 31%|███       | 165/529 [54:16<1:55:18, 19.01s/it]"
     ]
    },
    {
     "name": "stdout",
     "output_type": "stream",
     "text": [
      "sample_id :  165 번\n",
      "loss :  0.00040317268220476976\n"
     ]
    },
    {
     "name": "stderr",
     "output_type": "stream",
     "text": [
      " 31%|███▏      | 166/529 [54:40<2:04:55, 20.65s/it]"
     ]
    },
    {
     "name": "stdout",
     "output_type": "stream",
     "text": [
      "sample_id :  166 번\n",
      "loss :  0.000881901744685067\n"
     ]
    },
    {
     "name": "stderr",
     "output_type": "stream",
     "text": [
      " 32%|███▏      | 167/529 [54:59<2:01:06, 20.07s/it]"
     ]
    },
    {
     "name": "stdout",
     "output_type": "stream",
     "text": [
      "sample_id :  167 번\n",
      "loss :  0.001528634537640897\n"
     ]
    },
    {
     "name": "stderr",
     "output_type": "stream",
     "text": [
      " 32%|███▏      | 168/529 [55:18<1:58:38, 19.72s/it]"
     ]
    },
    {
     "name": "stdout",
     "output_type": "stream",
     "text": [
      "sample_id :  168 번\n",
      "loss :  0.0004453114275520962\n"
     ]
    },
    {
     "name": "stderr",
     "output_type": "stream",
     "text": [
      " 32%|███▏      | 169/529 [55:36<1:56:19, 19.39s/it]"
     ]
    },
    {
     "name": "stdout",
     "output_type": "stream",
     "text": [
      "sample_id :  169 번\n",
      "loss :  0.0002718612427460407\n"
     ]
    },
    {
     "name": "stderr",
     "output_type": "stream",
     "text": [
      " 32%|███▏      | 170/529 [55:55<1:54:38, 19.16s/it]"
     ]
    },
    {
     "name": "stdout",
     "output_type": "stream",
     "text": [
      "sample_id :  170 번\n",
      "loss :  0.00047111947792548926\n"
     ]
    },
    {
     "name": "stderr",
     "output_type": "stream",
     "text": [
      " 32%|███▏      | 171/529 [56:14<1:53:19, 18.99s/it]"
     ]
    },
    {
     "name": "stdout",
     "output_type": "stream",
     "text": [
      "sample_id :  171 번\n",
      "loss :  0.0018702664222446958\n"
     ]
    },
    {
     "name": "stderr",
     "output_type": "stream",
     "text": [
      " 33%|███▎      | 172/529 [56:32<1:52:45, 18.95s/it]"
     ]
    },
    {
     "name": "stdout",
     "output_type": "stream",
     "text": [
      "sample_id :  172 번\n",
      "loss :  0.0006842261276076932\n"
     ]
    },
    {
     "name": "stderr",
     "output_type": "stream",
     "text": [
      " 33%|███▎      | 173/529 [56:57<2:02:56, 20.72s/it]"
     ]
    },
    {
     "name": "stdout",
     "output_type": "stream",
     "text": [
      "sample_id :  173 번\n",
      "loss :  0.0018087739695967237\n"
     ]
    },
    {
     "name": "stderr",
     "output_type": "stream",
     "text": [
      " 33%|███▎      | 174/529 [57:16<1:59:13, 20.15s/it]"
     ]
    },
    {
     "name": "stdout",
     "output_type": "stream",
     "text": [
      "sample_id :  174 번\n",
      "loss :  0.0006677498744606138\n"
     ]
    },
    {
     "name": "stderr",
     "output_type": "stream",
     "text": [
      " 33%|███▎      | 175/529 [57:35<1:56:31, 19.75s/it]"
     ]
    },
    {
     "name": "stdout",
     "output_type": "stream",
     "text": [
      "sample_id :  175 번\n",
      "loss :  0.00046253511359907\n"
     ]
    },
    {
     "name": "stderr",
     "output_type": "stream",
     "text": [
      " 33%|███▎      | 176/529 [57:54<1:54:51, 19.52s/it]"
     ]
    },
    {
     "name": "stdout",
     "output_type": "stream",
     "text": [
      "sample_id :  176 번\n",
      "loss :  0.0002703403690791037\n"
     ]
    },
    {
     "name": "stderr",
     "output_type": "stream",
     "text": [
      " 33%|███▎      | 177/529 [58:13<1:53:00, 19.26s/it]"
     ]
    },
    {
     "name": "stdout",
     "output_type": "stream",
     "text": [
      "sample_id :  177 번\n",
      "loss :  0.0021801710920667274\n"
     ]
    },
    {
     "name": "stderr",
     "output_type": "stream",
     "text": [
      " 34%|███▎      | 178/529 [58:31<1:52:02, 19.15s/it]"
     ]
    },
    {
     "name": "stdout",
     "output_type": "stream",
     "text": [
      "sample_id :  178 번\n",
      "loss :  0.0010993607461340046\n"
     ]
    },
    {
     "name": "stderr",
     "output_type": "stream",
     "text": [
      " 34%|███▍      | 179/529 [58:50<1:50:48, 19.00s/it]"
     ]
    },
    {
     "name": "stdout",
     "output_type": "stream",
     "text": [
      "sample_id :  179 번\n",
      "loss :  0.0006201049713144187\n"
     ]
    },
    {
     "name": "stderr",
     "output_type": "stream",
     "text": [
      " 34%|███▍      | 180/529 [59:10<1:52:33, 19.35s/it]"
     ]
    },
    {
     "name": "stdout",
     "output_type": "stream",
     "text": [
      "sample_id :  180 번\n",
      "loss :  0.002593192613459502\n"
     ]
    },
    {
     "name": "stderr",
     "output_type": "stream",
     "text": [
      " 34%|███▍      | 181/529 [59:36<2:03:44, 21.34s/it]"
     ]
    },
    {
     "name": "stdout",
     "output_type": "stream",
     "text": [
      "sample_id :  181 번\n",
      "loss :  0.00026522091080100264\n"
     ]
    },
    {
     "name": "stderr",
     "output_type": "stream",
     "text": [
      " 34%|███▍      | 182/529 [59:55<1:59:40, 20.69s/it]"
     ]
    },
    {
     "name": "stdout",
     "output_type": "stream",
     "text": [
      "sample_id :  182 번\n",
      "loss :  0.0005459952136450629\n"
     ]
    },
    {
     "name": "stderr",
     "output_type": "stream",
     "text": [
      " 35%|███▍      | 183/529 [1:00:15<1:56:30, 20.20s/it]"
     ]
    },
    {
     "name": "stdout",
     "output_type": "stream",
     "text": [
      "sample_id :  183 번\n",
      "loss :  0.0009954507241500476\n"
     ]
    },
    {
     "name": "stderr",
     "output_type": "stream",
     "text": [
      " 35%|███▍      | 184/529 [1:00:34<1:54:22, 19.89s/it]"
     ]
    },
    {
     "name": "stdout",
     "output_type": "stream",
     "text": [
      "sample_id :  184 번\n",
      "loss :  0.00029274658642108593\n"
     ]
    },
    {
     "name": "stderr",
     "output_type": "stream",
     "text": [
      " 35%|███▍      | 185/529 [1:00:53<1:52:26, 19.61s/it]"
     ]
    },
    {
     "name": "stdout",
     "output_type": "stream",
     "text": [
      "sample_id :  185 번\n",
      "loss :  0.001878809412043302\n"
     ]
    },
    {
     "name": "stderr",
     "output_type": "stream",
     "text": [
      " 35%|███▌      | 186/529 [1:01:12<1:51:01, 19.42s/it]"
     ]
    },
    {
     "name": "stdout",
     "output_type": "stream",
     "text": [
      "sample_id :  186 번\n",
      "loss :  0.0002241927662600243\n"
     ]
    },
    {
     "name": "stderr",
     "output_type": "stream",
     "text": [
      " 35%|███▌      | 187/529 [1:01:31<1:50:52, 19.45s/it]"
     ]
    },
    {
     "name": "stdout",
     "output_type": "stream",
     "text": [
      "sample_id :  187 번\n",
      "loss :  0.0006588510616007095\n"
     ]
    },
    {
     "name": "stderr",
     "output_type": "stream",
     "text": [
      " 36%|███▌      | 188/529 [1:02:02<2:10:08, 22.90s/it]"
     ]
    },
    {
     "name": "stdout",
     "output_type": "stream",
     "text": [
      "sample_id :  188 번\n",
      "loss :  0.0003743415024651938\n"
     ]
    },
    {
     "name": "stderr",
     "output_type": "stream",
     "text": [
      " 36%|███▌      | 189/529 [1:02:21<2:03:32, 21.80s/it]"
     ]
    },
    {
     "name": "stdout",
     "output_type": "stream",
     "text": [
      "sample_id :  189 번\n",
      "loss :  0.0012630501191884078\n"
     ]
    },
    {
     "name": "stderr",
     "output_type": "stream",
     "text": [
      " 36%|███▌      | 190/529 [1:02:41<1:58:45, 21.02s/it]"
     ]
    },
    {
     "name": "stdout",
     "output_type": "stream",
     "text": [
      "sample_id :  190 번\n",
      "loss :  0.00027232514730857345\n"
     ]
    },
    {
     "name": "stderr",
     "output_type": "stream",
     "text": [
      " 36%|███▌      | 191/529 [1:02:59<1:54:54, 20.40s/it]"
     ]
    },
    {
     "name": "stdout",
     "output_type": "stream",
     "text": [
      "sample_id :  191 번\n",
      "loss :  0.0005529036534512956\n"
     ]
    },
    {
     "name": "stderr",
     "output_type": "stream",
     "text": [
      " 36%|███▋      | 192/529 [1:03:19<1:52:28, 20.02s/it]"
     ]
    },
    {
     "name": "stdout",
     "output_type": "stream",
     "text": [
      "sample_id :  192 번\n",
      "loss :  0.00040310323591132496\n"
     ]
    },
    {
     "name": "stderr",
     "output_type": "stream",
     "text": [
      " 36%|███▋      | 193/529 [1:03:38<1:50:31, 19.74s/it]"
     ]
    },
    {
     "name": "stdout",
     "output_type": "stream",
     "text": [
      "sample_id :  193 번\n",
      "loss :  0.0003054338616510961\n"
     ]
    },
    {
     "name": "stderr",
     "output_type": "stream",
     "text": [
      " 37%|███▋      | 194/529 [1:03:58<1:51:49, 20.03s/it]"
     ]
    },
    {
     "name": "stdout",
     "output_type": "stream",
     "text": [
      "sample_id :  194 번\n",
      "loss :  0.0006835394435099121\n"
     ]
    },
    {
     "name": "stderr",
     "output_type": "stream",
     "text": [
      " 37%|███▋      | 195/529 [1:04:18<1:51:30, 20.03s/it]"
     ]
    },
    {
     "name": "stdout",
     "output_type": "stream",
     "text": [
      "sample_id :  195 번\n",
      "loss :  0.0005717306161418445\n"
     ]
    },
    {
     "name": "stderr",
     "output_type": "stream",
     "text": [
      " 37%|███▋      | 196/529 [1:04:57<2:21:50, 25.56s/it]"
     ]
    },
    {
     "name": "stdout",
     "output_type": "stream",
     "text": [
      "sample_id :  196 번\n",
      "loss :  0.0031115275342017412\n"
     ]
    },
    {
     "name": "stderr",
     "output_type": "stream",
     "text": [
      " 37%|███▋      | 197/529 [1:05:16<2:11:05, 23.69s/it]"
     ]
    },
    {
     "name": "stdout",
     "output_type": "stream",
     "text": [
      "sample_id :  197 번\n",
      "loss :  0.0005007170287672522\n"
     ]
    },
    {
     "name": "stderr",
     "output_type": "stream",
     "text": [
      " 37%|███▋      | 198/529 [1:05:35<2:03:06, 22.32s/it]"
     ]
    },
    {
     "name": "stdout",
     "output_type": "stream",
     "text": [
      "sample_id :  198 번\n",
      "loss :  0.0004269908150838136\n"
     ]
    },
    {
     "name": "stderr",
     "output_type": "stream",
     "text": [
      " 38%|███▊      | 199/529 [1:05:55<1:57:33, 21.37s/it]"
     ]
    },
    {
     "name": "stdout",
     "output_type": "stream",
     "text": [
      "sample_id :  199 번\n",
      "loss :  0.0013781688046642388\n"
     ]
    },
    {
     "name": "stderr",
     "output_type": "stream",
     "text": [
      " 38%|███▊      | 200/529 [1:06:14<1:54:42, 20.92s/it]"
     ]
    },
    {
     "name": "stdout",
     "output_type": "stream",
     "text": [
      "sample_id :  200 번\n",
      "loss :  0.0005331979076506761\n"
     ]
    },
    {
     "name": "stderr",
     "output_type": "stream",
     "text": [
      " 38%|███▊      | 201/529 [1:06:34<1:51:39, 20.42s/it]"
     ]
    },
    {
     "name": "stdout",
     "output_type": "stream",
     "text": [
      "sample_id :  201 번\n",
      "loss :  0.001212085869623388\n"
     ]
    },
    {
     "name": "stderr",
     "output_type": "stream",
     "text": [
      " 38%|███▊      | 202/529 [1:06:53<1:49:17, 20.05s/it]"
     ]
    },
    {
     "name": "stdout",
     "output_type": "stream",
     "text": [
      "sample_id :  202 번\n",
      "loss :  0.0006935133783123067\n"
     ]
    },
    {
     "name": "stderr",
     "output_type": "stream",
     "text": [
      " 38%|███▊      | 203/529 [1:07:15<1:52:56, 20.79s/it]"
     ]
    },
    {
     "name": "stdout",
     "output_type": "stream",
     "text": [
      "sample_id :  203 번\n",
      "loss :  0.0008315630971433371\n"
     ]
    },
    {
     "name": "stderr",
     "output_type": "stream",
     "text": [
      " 39%|███▊      | 204/529 [1:08:49<3:51:44, 42.78s/it]"
     ]
    },
    {
     "name": "stdout",
     "output_type": "stream",
     "text": [
      "sample_id :  204 번\n",
      "loss :  0.0024877789759870862\n"
     ]
    },
    {
     "name": "stderr",
     "output_type": "stream",
     "text": [
      " 39%|███▉      | 205/529 [1:09:09<3:13:56, 35.92s/it]"
     ]
    },
    {
     "name": "stdout",
     "output_type": "stream",
     "text": [
      "sample_id :  205 번\n",
      "loss :  0.0020503072566304703\n"
     ]
    },
    {
     "name": "stderr",
     "output_type": "stream",
     "text": [
      " 39%|███▉      | 206/529 [1:09:29<2:47:02, 31.03s/it]"
     ]
    },
    {
     "name": "stdout",
     "output_type": "stream",
     "text": [
      "sample_id :  206 번\n",
      "loss :  0.0004270030865440185\n"
     ]
    },
    {
     "name": "stderr",
     "output_type": "stream",
     "text": [
      " 39%|███▉      | 207/529 [1:09:48<2:27:09, 27.42s/it]"
     ]
    },
    {
     "name": "stdout",
     "output_type": "stream",
     "text": [
      "sample_id :  207 번\n",
      "loss :  0.0010418906229798925\n"
     ]
    },
    {
     "name": "stderr",
     "output_type": "stream",
     "text": [
      " 39%|███▉      | 208/529 [1:10:07<2:13:20, 24.92s/it]"
     ]
    },
    {
     "name": "stdout",
     "output_type": "stream",
     "text": [
      "sample_id :  208 번\n",
      "loss :  0.0006960132919367317\n"
     ]
    },
    {
     "name": "stderr",
     "output_type": "stream",
     "text": [
      " 40%|███▉      | 209/529 [1:10:26<2:03:51, 23.22s/it]"
     ]
    },
    {
     "name": "stdout",
     "output_type": "stream",
     "text": [
      "sample_id :  209 번\n",
      "loss :  0.0005861805238083414\n"
     ]
    },
    {
     "name": "stderr",
     "output_type": "stream",
     "text": [
      " 40%|███▉      | 210/529 [1:10:45<1:56:37, 21.94s/it]"
     ]
    },
    {
     "name": "stdout",
     "output_type": "stream",
     "text": [
      "sample_id :  210 번\n",
      "loss :  0.00015792790093195475\n"
     ]
    },
    {
     "name": "stderr",
     "output_type": "stream",
     "text": [
      " 40%|███▉      | 211/529 [1:11:05<1:52:18, 21.19s/it]"
     ]
    },
    {
     "name": "stdout",
     "output_type": "stream",
     "text": [
      "sample_id :  211 번\n",
      "loss :  0.0005208085743896072\n"
     ]
    },
    {
     "name": "stderr",
     "output_type": "stream",
     "text": [
      " 40%|████      | 212/529 [1:11:24<1:49:32, 20.73s/it]"
     ]
    },
    {
     "name": "stdout",
     "output_type": "stream",
     "text": [
      "sample_id :  212 번\n",
      "loss :  0.0017226197392693806\n"
     ]
    },
    {
     "name": "stderr",
     "output_type": "stream",
     "text": [
      " 40%|████      | 213/529 [1:13:15<4:11:01, 47.66s/it]"
     ]
    },
    {
     "name": "stdout",
     "output_type": "stream",
     "text": [
      "sample_id :  213 번\n",
      "loss :  0.0008504087911423879\n"
     ]
    },
    {
     "name": "stderr",
     "output_type": "stream",
     "text": [
      " 40%|████      | 214/529 [1:13:35<3:26:33, 39.34s/it]"
     ]
    },
    {
     "name": "stdout",
     "output_type": "stream",
     "text": [
      "sample_id :  214 번\n",
      "loss :  0.0018565844175959859\n"
     ]
    },
    {
     "name": "stderr",
     "output_type": "stream",
     "text": [
      " 41%|████      | 215/529 [1:13:54<2:54:37, 33.37s/it]"
     ]
    },
    {
     "name": "stdout",
     "output_type": "stream",
     "text": [
      "sample_id :  215 번\n",
      "loss :  0.0007632477733257025\n"
     ]
    },
    {
     "name": "stderr",
     "output_type": "stream",
     "text": [
      " 41%|████      | 216/529 [1:14:14<2:33:00, 29.33s/it]"
     ]
    },
    {
     "name": "stdout",
     "output_type": "stream",
     "text": [
      "sample_id :  216 번\n",
      "loss :  0.0003220625248544563\n"
     ]
    },
    {
     "name": "stderr",
     "output_type": "stream",
     "text": [
      " 41%|████      | 217/529 [1:14:33<2:16:43, 26.29s/it]"
     ]
    },
    {
     "name": "stdout",
     "output_type": "stream",
     "text": [
      "sample_id :  217 번\n",
      "loss :  0.0016551347134296055\n"
     ]
    },
    {
     "name": "stderr",
     "output_type": "stream",
     "text": [
      " 41%|████      | 218/529 [1:14:52<2:05:02, 24.12s/it]"
     ]
    },
    {
     "name": "stdout",
     "output_type": "stream",
     "text": [
      "sample_id :  218 번\n",
      "loss :  0.0006748155666780795\n"
     ]
    },
    {
     "name": "stderr",
     "output_type": "stream",
     "text": [
      " 41%|████▏     | 219/529 [1:15:12<1:56:55, 22.63s/it]"
     ]
    },
    {
     "name": "stdout",
     "output_type": "stream",
     "text": [
      "sample_id :  219 번\n",
      "loss :  0.0019641556694579916\n"
     ]
    },
    {
     "name": "stderr",
     "output_type": "stream",
     "text": [
      " 42%|████▏     | 220/529 [1:15:31<1:51:26, 21.64s/it]"
     ]
    },
    {
     "name": "stdout",
     "output_type": "stream",
     "text": [
      "sample_id :  220 번\n",
      "loss :  0.001317495905433214\n"
     ]
    },
    {
     "name": "stderr",
     "output_type": "stream",
     "text": [
      " 42%|████▏     | 221/529 [1:15:50<1:47:13, 20.89s/it]"
     ]
    },
    {
     "name": "stdout",
     "output_type": "stream",
     "text": [
      "sample_id :  221 번\n",
      "loss :  0.0015849865550608792\n"
     ]
    },
    {
     "name": "stderr",
     "output_type": "stream",
     "text": [
      " 42%|████▏     | 222/529 [1:18:06<4:43:47, 55.46s/it]"
     ]
    },
    {
     "name": "stdout",
     "output_type": "stream",
     "text": [
      "sample_id :  222 번\n",
      "loss :  0.0006303461168680379\n"
     ]
    },
    {
     "name": "stderr",
     "output_type": "stream",
     "text": [
      " 42%|████▏     | 223/529 [1:18:26<3:48:18, 44.77s/it]"
     ]
    },
    {
     "name": "stdout",
     "output_type": "stream",
     "text": [
      "sample_id :  223 번\n",
      "loss :  0.0015327667676369534\n"
     ]
    },
    {
     "name": "stderr",
     "output_type": "stream",
     "text": [
      " 42%|████▏     | 224/529 [1:18:45<3:08:34, 37.10s/it]"
     ]
    },
    {
     "name": "stdout",
     "output_type": "stream",
     "text": [
      "sample_id :  224 번\n",
      "loss :  0.0008938840919228254\n"
     ]
    },
    {
     "name": "stderr",
     "output_type": "stream",
     "text": [
      " 43%|████▎     | 225/529 [1:19:04<2:40:31, 31.68s/it]"
     ]
    },
    {
     "name": "stdout",
     "output_type": "stream",
     "text": [
      "sample_id :  225 번\n",
      "loss :  0.00025247645612598584\n"
     ]
    },
    {
     "name": "stderr",
     "output_type": "stream",
     "text": [
      " 43%|████▎     | 226/529 [1:19:23<2:20:32, 27.83s/it]"
     ]
    },
    {
     "name": "stdout",
     "output_type": "stream",
     "text": [
      "sample_id :  226 번\n",
      "loss :  0.0008318726541296926\n"
     ]
    },
    {
     "name": "stderr",
     "output_type": "stream",
     "text": [
      " 43%|████▎     | 227/529 [1:19:42<2:06:36, 25.16s/it]"
     ]
    },
    {
     "name": "stdout",
     "output_type": "stream",
     "text": [
      "sample_id :  227 번\n",
      "loss :  0.0003973007284397388\n"
     ]
    },
    {
     "name": "stderr",
     "output_type": "stream",
     "text": [
      " 43%|████▎     | 228/529 [1:20:01<1:56:49, 23.29s/it]"
     ]
    },
    {
     "name": "stdout",
     "output_type": "stream",
     "text": [
      "sample_id :  228 번\n",
      "loss :  0.001994962221572976\n"
     ]
    },
    {
     "name": "stderr",
     "output_type": "stream",
     "text": [
      " 43%|████▎     | 229/529 [1:20:20<1:50:29, 22.10s/it]"
     ]
    },
    {
     "name": "stdout",
     "output_type": "stream",
     "text": [
      "sample_id :  229 번\n",
      "loss :  0.001345746262432494\n"
     ]
    },
    {
     "name": "stderr",
     "output_type": "stream",
     "text": [
      " 43%|████▎     | 230/529 [1:20:39<1:45:44, 21.22s/it]"
     ]
    },
    {
     "name": "stdout",
     "output_type": "stream",
     "text": [
      "sample_id :  230 번\n",
      "loss :  0.0009781475304836752\n"
     ]
    },
    {
     "name": "stderr",
     "output_type": "stream",
     "text": [
      " 44%|████▎     | 231/529 [1:23:19<5:11:56, 62.81s/it]"
     ]
    },
    {
     "name": "stdout",
     "output_type": "stream",
     "text": [
      "sample_id :  231 번\n",
      "loss :  0.001673494674068616\n"
     ]
    },
    {
     "name": "stderr",
     "output_type": "stream",
     "text": [
      " 44%|████▍     | 232/529 [1:23:40<4:07:59, 50.10s/it]"
     ]
    },
    {
     "name": "stdout",
     "output_type": "stream",
     "text": [
      "sample_id :  232 번\n",
      "loss :  0.00025156900025271705\n"
     ]
    },
    {
     "name": "stderr",
     "output_type": "stream",
     "text": [
      " 44%|████▍     | 233/529 [1:23:59<3:21:31, 40.85s/it]"
     ]
    },
    {
     "name": "stdout",
     "output_type": "stream",
     "text": [
      "sample_id :  233 번\n",
      "loss :  0.001074241174494432\n"
     ]
    },
    {
     "name": "stderr",
     "output_type": "stream",
     "text": [
      " 44%|████▍     | 234/529 [1:24:19<2:49:30, 34.48s/it]"
     ]
    },
    {
     "name": "stdout",
     "output_type": "stream",
     "text": [
      "sample_id :  234 번\n",
      "loss :  0.00041877627865588135\n"
     ]
    },
    {
     "name": "stderr",
     "output_type": "stream",
     "text": [
      " 44%|████▍     | 235/529 [1:24:37<2:26:02, 29.80s/it]"
     ]
    },
    {
     "name": "stdout",
     "output_type": "stream",
     "text": [
      "sample_id :  235 번\n",
      "loss :  0.0002520678614052064\n"
     ]
    },
    {
     "name": "stderr",
     "output_type": "stream",
     "text": [
      " 45%|████▍     | 236/529 [1:24:56<2:09:30, 26.52s/it]"
     ]
    },
    {
     "name": "stdout",
     "output_type": "stream",
     "text": [
      "sample_id :  236 번\n",
      "loss :  0.0013445545756498483\n"
     ]
    },
    {
     "name": "stderr",
     "output_type": "stream",
     "text": [
      " 45%|████▍     | 237/529 [1:25:15<1:57:46, 24.20s/it]"
     ]
    },
    {
     "name": "stdout",
     "output_type": "stream",
     "text": [
      "sample_id :  237 번\n",
      "loss :  0.0006141302168792419\n"
     ]
    },
    {
     "name": "stderr",
     "output_type": "stream",
     "text": [
      " 45%|████▍     | 238/529 [1:25:34<1:49:28, 22.57s/it]"
     ]
    },
    {
     "name": "stdout",
     "output_type": "stream",
     "text": [
      "sample_id :  238 번\n",
      "loss :  0.0002403919542815079\n"
     ]
    },
    {
     "name": "stderr",
     "output_type": "stream",
     "text": [
      " 45%|████▌     | 239/529 [1:25:52<1:43:21, 21.38s/it]"
     ]
    },
    {
     "name": "stdout",
     "output_type": "stream",
     "text": [
      "sample_id :  239 번\n",
      "loss :  0.001519147775393361\n"
     ]
    },
    {
     "name": "stderr",
     "output_type": "stream",
     "text": [
      " 45%|████▌     | 240/529 [1:28:31<5:01:43, 62.64s/it]"
     ]
    },
    {
     "name": "stdout",
     "output_type": "stream",
     "text": [
      "sample_id :  240 번\n",
      "loss :  0.0005806173064126067\n"
     ]
    },
    {
     "name": "stderr",
     "output_type": "stream",
     "text": [
      " 46%|████▌     | 241/529 [1:28:52<4:00:29, 50.10s/it]"
     ]
    },
    {
     "name": "stdout",
     "output_type": "stream",
     "text": [
      "sample_id :  241 번\n",
      "loss :  0.0005842300255914575\n"
     ]
    },
    {
     "name": "stderr",
     "output_type": "stream",
     "text": [
      " 46%|████▌     | 242/529 [1:29:12<3:15:46, 40.93s/it]"
     ]
    },
    {
     "name": "stdout",
     "output_type": "stream",
     "text": [
      "sample_id :  242 번\n",
      "loss :  0.00041307862350111347\n"
     ]
    },
    {
     "name": "stderr",
     "output_type": "stream",
     "text": [
      " 46%|████▌     | 243/529 [1:29:31<2:44:08, 34.44s/it]"
     ]
    },
    {
     "name": "stdout",
     "output_type": "stream",
     "text": [
      "sample_id :  243 번\n",
      "loss :  0.0007425453684461392\n"
     ]
    },
    {
     "name": "stderr",
     "output_type": "stream",
     "text": [
      " 46%|████▌     | 244/529 [1:29:50<2:21:37, 29.81s/it]"
     ]
    },
    {
     "name": "stdout",
     "output_type": "stream",
     "text": [
      "sample_id :  244 번\n",
      "loss :  0.0015051462219671493\n"
     ]
    },
    {
     "name": "stderr",
     "output_type": "stream",
     "text": [
      " 46%|████▋     | 245/529 [1:30:09<2:05:55, 26.60s/it]"
     ]
    },
    {
     "name": "stdout",
     "output_type": "stream",
     "text": [
      "sample_id :  245 번\n",
      "loss :  0.003173812633532679\n"
     ]
    },
    {
     "name": "stderr",
     "output_type": "stream",
     "text": [
      " 47%|████▋     | 246/529 [1:30:28<1:54:32, 24.29s/it]"
     ]
    },
    {
     "name": "stdout",
     "output_type": "stream",
     "text": [
      "sample_id :  246 번\n",
      "loss :  0.0006485428270252127\n"
     ]
    },
    {
     "name": "stderr",
     "output_type": "stream",
     "text": [
      " 47%|████▋     | 247/529 [1:30:47<1:46:28, 22.65s/it]"
     ]
    },
    {
     "name": "stdout",
     "output_type": "stream",
     "text": [
      "sample_id :  247 번\n",
      "loss :  0.0034353822690521302\n"
     ]
    },
    {
     "name": "stderr",
     "output_type": "stream",
     "text": [
      " 47%|████▋     | 248/529 [1:31:07<1:41:50, 21.74s/it]"
     ]
    },
    {
     "name": "stdout",
     "output_type": "stream",
     "text": [
      "sample_id :  248 번\n",
      "loss :  0.0026221947252197076\n"
     ]
    },
    {
     "name": "stderr",
     "output_type": "stream",
     "text": [
      " 47%|████▋     | 249/529 [1:31:26<1:37:52, 20.97s/it]"
     ]
    },
    {
     "name": "stdout",
     "output_type": "stream",
     "text": [
      "sample_id :  249 번\n",
      "loss :  0.0014096245297613222\n"
     ]
    },
    {
     "name": "stderr",
     "output_type": "stream",
     "text": [
      " 47%|████▋     | 250/529 [1:34:36<5:33:10, 71.65s/it]"
     ]
    },
    {
     "name": "stdout",
     "output_type": "stream",
     "text": [
      "sample_id :  250 번\n",
      "loss :  0.0029273020618427264\n"
     ]
    },
    {
     "name": "stderr",
     "output_type": "stream",
     "text": [
      " 47%|████▋     | 251/529 [1:34:56<4:21:04, 56.35s/it]"
     ]
    },
    {
     "name": "stdout",
     "output_type": "stream",
     "text": [
      "sample_id :  251 번\n",
      "loss :  0.001506564255642562\n"
     ]
    },
    {
     "name": "stderr",
     "output_type": "stream",
     "text": [
      " 48%|████▊     | 252/529 [1:35:16<3:28:55, 45.25s/it]"
     ]
    },
    {
     "name": "stdout",
     "output_type": "stream",
     "text": [
      "sample_id :  252 번\n",
      "loss :  0.0021427126030450225\n"
     ]
    },
    {
     "name": "stderr",
     "output_type": "stream",
     "text": [
      " 48%|████▊     | 253/529 [1:35:35<2:52:14, 37.45s/it]"
     ]
    },
    {
     "name": "stdout",
     "output_type": "stream",
     "text": [
      "sample_id :  253 번\n",
      "loss :  0.002379665727304728\n"
     ]
    },
    {
     "name": "stderr",
     "output_type": "stream",
     "text": [
      " 48%|████▊     | 254/529 [1:35:54<2:26:25, 31.95s/it]"
     ]
    },
    {
     "name": "stdout",
     "output_type": "stream",
     "text": [
      "sample_id :  254 번\n",
      "loss :  0.00041304840461714925\n"
     ]
    },
    {
     "name": "stderr",
     "output_type": "stream",
     "text": [
      " 48%|████▊     | 255/529 [1:36:13<2:08:19, 28.10s/it]"
     ]
    },
    {
     "name": "stdout",
     "output_type": "stream",
     "text": [
      "sample_id :  255 번\n",
      "loss :  0.0020428390643094105\n"
     ]
    },
    {
     "name": "stderr",
     "output_type": "stream",
     "text": [
      " 48%|████▊     | 256/529 [1:36:32<1:55:12, 25.32s/it]"
     ]
    },
    {
     "name": "stdout",
     "output_type": "stream",
     "text": [
      "sample_id :  256 번\n",
      "loss :  0.0013520081696374974\n"
     ]
    },
    {
     "name": "stderr",
     "output_type": "stream",
     "text": [
      " 49%|████▊     | 257/529 [1:36:51<1:45:52, 23.35s/it]"
     ]
    },
    {
     "name": "stdout",
     "output_type": "stream",
     "text": [
      "sample_id :  257 번\n",
      "loss :  0.00035925550201191696\n"
     ]
    },
    {
     "name": "stderr",
     "output_type": "stream",
     "text": [
      " 49%|████▉     | 258/529 [1:37:10<1:40:16, 22.20s/it]"
     ]
    },
    {
     "name": "stdout",
     "output_type": "stream",
     "text": [
      "sample_id :  258 번\n",
      "loss :  0.0030550180353310086\n"
     ]
    },
    {
     "name": "stderr",
     "output_type": "stream",
     "text": [
      " 49%|████▉     | 259/529 [1:37:30<1:36:11, 21.38s/it]"
     ]
    },
    {
     "name": "stdout",
     "output_type": "stream",
     "text": [
      "sample_id :  259 번\n",
      "loss :  0.0032644386002327877\n"
     ]
    }
   ],
   "source": [
    "# test_x_array에 대한 Auto_Regressive한 Prediction 및 valid_pred_array에 예측 결과 기록\n",
    "\n",
    "# 1) test_pred_array{예측값 모아두는 3차원 배열(120*1 2차원 배열 529개)} 만들기\n",
    "test_pred_array = np.zeros([len(test_x_array), 120, 1])\n",
    "\n",
    "# 2) early_stoppage & reduceLR 정의: https://www.dacon.io/competitions/official/235709/codeshare/2453?page=1&dtype=recent 참고)\n",
    "early_stop = tf.keras.callbacks.EarlyStopping(monitor='loss', patience= 10, mode = 'auto')\n",
    "# reduceLR = tf.keras.callbacks.ReduceLROnPlateau(monitor='loss', factor=0.1, patience= 5, min_lr=0)\n",
    "\n",
    "# 3) test_x_array로 시계열 Windows 만들기 -> 데이터셋 구성 -> 모델 학습 ||| 예측 -> test_pred_array에 기록 -> window_3d의 첫번째 값 삭제 -> test_pred_array와 window_3d 병합 -> model.predict()에 넣어 예측 -> ***\n",
    "ep = 30\n",
    "bs = 120\n",
    "# idx에 해당하는 샘플 529개 학습: for loop 529번 돌아감\n",
    "for idx in tqdm(range(test_x_array.shape[0])):  # 529번\n",
    "    seq_len = 120\n",
    "    sequence_length = seq_len + 1\n",
    "\n",
    "    windows = []\n",
    "    for index in range(1380 - sequence_length):\n",
    "        windows.append(test_x_array[idx, :, 1][index: index + sequence_length])\n",
    "\n",
    "    # x_test, y_test 데이터셋 구성\n",
    "    windows = np.array(windows)  # 1329 * 121의 2차원 배열\n",
    "    x_test = windows[:, :-1]\n",
    "    x_test = np.reshape(x_test, (x_test.shape[0], x_test.shape[1], 1))\n",
    "    y_test = windows[:, -1]\n",
    "    \n",
    "    model = build_model()\n",
    "    history = model.fit(x_test, y_test, epochs= ep, batch_size= bs, verbose=0, shuffle = True, callbacks=[early_stop])\n",
    "    print('sample_id : ', idx, '번')\n",
    "    print('loss : ', history.history['loss'][-1])\n",
    "#     print('mse : ', history.history['mse'][-1])\n",
    "#     print('lr : ', round(model.optimizer.lr.numpy(), 5))\n",
    "\n",
    "    # test_x_array Windows 중 마지막 윈도우 추출해서 3차원 변환시켜 LSTM모델에 넣고 Predict\n",
    "    window = windows[-1, :-1]  # windows.shape (1259, 121), window.shape (120, )\n",
    "    window_3d = np.reshape(window, (1, window.shape[0], 1))  # (1, 120, 1)\n",
    "    for m in range(window.shape[0]):\n",
    "        # model.predict()에 window_3d 넣어 예측\n",
    "        pred = model.predict(window_3d)\n",
    "\n",
    "        # 120분 중 처음 1분 예측값 test_pred_array에 기록\n",
    "        test_pred_array[idx, m, :] = pred\n",
    "\n",
    "        # window_3d의 첫번째 분 값은 삭제한 window_3d_2nd 구성\n",
    "        window_3d_2nd = window_3d[0, 1:, :]  # 119개\n",
    "\n",
    "        # pred_target(prediction할 때마다 나오는 각각의 예측값들) 1차원 -> 2차원으로 구성\n",
    "        pred_target = test_pred_array[idx, m, :]\n",
    "        pred_target = np.reshape(pred_target, (pred_target.shape[0], 1))\n",
    "\n",
    "        # test_pred_array와 window_3d_2nd 병합하여 모델에 입력할 새로운 window_3d 재구성\n",
    "        window_3d = np.concatenate((window_3d_2nd, pred_target), axis=0)\n",
    "        window_3d = window_3d.T\n",
    "        window_3d = np.reshape(window_3d, (window_3d.shape[0], window_3d.shape[1], 1))"
   ]
  },
  {
   "cell_type": "code",
   "execution_count": null,
   "id": "physical-marking",
   "metadata": {
    "tags": []
   },
   "outputs": [],
   "source": [
    "# 손실값 시각화\n",
    "plt.plot(history.history['loss'], 'b-', label='loss')\n",
    "plt.xlabel('Epoch')\n",
    "plt.legend()\n",
    "plt.show()"
   ]
  },
  {
   "cell_type": "code",
   "execution_count": null,
   "id": "concrete-contract",
   "metadata": {},
   "outputs": [],
   "source": [
    "# test_x_array 각 샘플의 2시간 예측값이 기록되어 있는 test_pred_array shape 확인\n",
    "print(test_pred_array.shape)"
   ]
  },
  {
   "cell_type": "code",
   "execution_count": null,
   "id": "cooked-asbestos",
   "metadata": {},
   "outputs": [],
   "source": [
    "# 모델 저장 및 로드\n",
    "model.save('./my_model.h5')\n",
    "model = tf.keras.models.load_model('./my_model.h5')"
   ]
  },
  {
   "cell_type": "code",
   "execution_count": null,
   "id": "outside-specialist",
   "metadata": {},
   "outputs": [],
   "source": [
    "# 매수 시점, 매수 비율 표 만들기\n",
    "# 1) train_pred_array 3차원에서 2차원으로 바꾸기\n",
    "pred_array_2d = np.zeros([test_pred_array.shape[0], 120])\n",
    "\n",
    "for idx in tqdm(range(test_pred_array.shape[0])):\n",
    "    pred_array_2d[idx, :] = test_pred_array[idx, :, 0]\n",
    "\n",
    "# 2) 예측값을 재해석하여 submission 표를 작성하는 함수 정의\n",
    "def array_to_submission(pred_array):\n",
    "    submission = pd.DataFrame(np.zeros([pred_array.shape[0], 2], np.int64),\n",
    "                              columns=['buy_quantity', 'sell_time'])\n",
    "    submission = submission.reset_index()\n",
    "    buy_price = []\n",
    "    for idx, sell_time in enumerate(np.argmax(pred_array, axis=1)):\n",
    "        buy_price.append(pred_array[idx, sell_time])\n",
    "    buy_price = np.array(buy_price)\n",
    "    submission.loc[:, 'buy_quantity'] = ((1*1*(sell_price/1)*0.9995*0.9995) > 1.08) #-DACON-Bit_Trader폴더 주가 손실계산.png 참고\n",
    "    submission['sell_time'] = np.argmax(pred_array, axis=1)\n",
    "    submission.columns = ['sample_id', 'buy_quantity', 'sell_time']\n",
    "    return submission, buy_price\n",
    "\n",
    "final_submission, forcasted_max = array_to_submission(pred_array_2d)"
   ]
  },
  {
   "cell_type": "code",
   "execution_count": null,
   "id": "public-football",
   "metadata": {},
   "outputs": [],
   "source": [
    "# 각 샘플의 예측치 중 최고값 모아 보기\n",
    "forcasted_max"
   ]
  },
  {
   "cell_type": "code",
   "execution_count": null,
   "id": "strategic-realtor",
   "metadata": {},
   "outputs": [],
   "source": [
    "# 전체 300가지 sample에 대해 _가지 case에서 108% 이상 상승한다고 추론함.\n",
    "final_submission.buy_quantity.value_counts()"
   ]
  },
  {
   "cell_type": "code",
   "execution_count": null,
   "id": "otherwise-ground",
   "metadata": {},
   "outputs": [],
   "source": [
    "# final_submission csv파일로 저장\n",
    "final_submission.to_csv('./submission.csv', index = False)"
   ]
  },
  {
   "cell_type": "code",
   "execution_count": null,
   "id": "suited-updating",
   "metadata": {},
   "outputs": [],
   "source": [
    "# 모델 평가: test_x데이터로 예측하는 방식을 입력값(train_x)에 대한 예측값과 실제값(train_y_array) 비교를 통해 평가\n",
    "\n",
    "train_pred_array = np.zeros([1, 120, 1])\n",
    "\n",
    "sample = 100  #평가용 임의의 샘플 id\n",
    "\n",
    "early_stop = tf.keras.callbacks.EarlyStopping(monitor='val_loss', patience= 10, mode = 'auto')\n",
    "# reduceLR = tf.keras.callbacks.ReduceLROnPlateau(monitor='val_loss', factor=0.1, patience= 10)\n",
    "\n",
    "# train_x_array데이터로 시계열 Windows 만들기\n",
    "# idx에 해당하는 샘플 하나만 학습하므로 for loop는 한 번만 돌아감\n",
    "for idx in range(sample, sample+1):\n",
    "    seq_len = 120  # window_size와 같은 개념\n",
    "    sequence_length = seq_len + 1\n",
    "\n",
    "    windows = []\n",
    "    for index in range(1380 - sequence_length):\n",
    "        windows.append(train_x_array[idx, :, 1][index: index + sequence_length])\n",
    "\n",
    "    # x_train, y_train 데이터 구성\n",
    "    windows = np.array(windows) #1329 * 121의 2차원 배열\n",
    "    x_train = windows[:, :-1]\n",
    "    x_train = np.reshape(x_train, (x_train.shape[0], x_train.shape[1], 1))\n",
    "    y_train = windows[:, -1]\n",
    "\n",
    "    \n",
    "    # Fit(early_stoppage & reduceLR 적용)\n",
    "    model = build_model()\n",
    "    history = model.fit(x_train, y_train, validation_split=0.1, epochs = ep, batch_size = bs, verbose = 2, callbacks = [early_stop])\n",
    "\n",
    "    # train_x_array Windows 중 마지막 윈도우 추출해서 3차원 변환시켜 LSTM모델에 넣고 Predict\n",
    "    window = windows[-1, :-1]\n",
    "    window_3d = np.reshape(window, (1, window.shape[0], 1))\n",
    "    for m in range(window.shape[0]):\n",
    "        # model.predict()에 window_3d 넣어 예측\n",
    "        pred = model.predict(window_3d)\n",
    "\n",
    "        # 120분 중 처음 1분 예측값 train_pred_array에 기록\n",
    "        train_pred_array[:, m, :] = pred\n",
    "\n",
    "        # window_3d의 첫번째 분 값은 삭제한 window_3d_2nd 구성\n",
    "        window_3d_2nd = window_3d[0, 1:, :]  # 119개\n",
    "\n",
    "        # pred_target(prediction할 때마다 나오는 각각의 예측값들) 1차원 -> 2차원으로 구성\n",
    "        pred_target = train_pred_array[:, m, :]\n",
    "        pred_target = np.reshape(pred_target, (pred_target.shape[0], 1))\n",
    "\n",
    "        # train_pred_array와 window_3d_2nd 병합하여 모델에 입력할 새로운 window_3d 재구성\n",
    "        window_3d = np.concatenate((window_3d_2nd, pred_target), axis=0)\n",
    "        window_3d = window_3d.T\n",
    "        window_3d = np.reshape(window_3d, (window_3d.shape[0], window_3d.shape[1], 1))"
   ]
  },
  {
   "cell_type": "code",
   "execution_count": null,
   "id": "signed-citizen",
   "metadata": {},
   "outputs": [],
   "source": [
    "# train 샘플 훈련 성과 시각화해보기\n",
    "# 1) 입력 series와 출력 series를 연속적으로 연결하여 시각적으로 보여주는 코드 정의\n",
    "def plot_series(x_series, y_series):\n",
    "    plt.plot(x_series, label = 'input_series')\n",
    "    plt.plot(np.arange(len(x_series), len(x_series)+len(y_series)),\n",
    "             y_series, label = 'output_series')\n",
    "    plt.axhline(1, c = 'red')\n",
    "    plt.legend()\n",
    "\n",
    "# 2) train data 중 sample_id idx에 해당하는 x_series로 모델을 학습한 후 y_series를 추론\n",
    "x_series = train_x_array[sample,:,1]\n",
    "y_series = train_y_array[sample,:,1]\n",
    "plot_series(x_series, y_series)\n",
    "plt.plot(np.arange(1380, 1380+120), train_pred_array[0,:,0], label = 'prediction')\n",
    "plt.legend()\n",
    "plt.show()"
   ]
  },
  {
   "cell_type": "code",
   "execution_count": null,
   "id": "classical-monthly",
   "metadata": {},
   "outputs": [],
   "source": [
    "# 손실값 시각화\n",
    "plt.plot(history.history['loss'], 'b-', label='loss')\n",
    "plt.plot(history.history['val_loss'], 'r--', label='val_loss')\n",
    "plt.xlabel('Epoch')\n",
    "plt.legend()\n",
    "plt.show()"
   ]
  }
 ],
 "metadata": {
  "kernelspec": {
   "display_name": "Python 3",
   "language": "python",
   "name": "python3"
  },
  "language_info": {
   "codemirror_mode": {
    "name": "ipython",
    "version": 3
   },
   "file_extension": ".py",
   "mimetype": "text/x-python",
   "name": "python",
   "nbconvert_exporter": "python",
   "pygments_lexer": "ipython3",
   "version": "3.7.10"
  }
 },
 "nbformat": 4,
 "nbformat_minor": 5
}
