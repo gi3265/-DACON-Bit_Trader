{
 "cells": [
  {
   "cell_type": "markdown",
   "metadata": {
    "colab_type": "text",
    "id": "view-in-github"
   },
   "source": [
    "<a href=\"https://colab.research.google.com/github/gi3265/-DACON-Bit_Trader/blob/main/%5BDacon%5DBit_Trader_LSTM.ipynb\" target=\"_parent\"><img src=\"https://colab.research.google.com/assets/colab-badge.svg\" alt=\"Open In Colab\"/></a>"
   ]
  },
  {
   "cell_type": "markdown",
   "metadata": {
    "id": "swedish-characterization"
   },
   "source": [
    "# 1. Library Import"
   ]
  },
  {
   "cell_type": "code",
   "execution_count": null,
   "metadata": {
    "colab": {
     "base_uri": "https://localhost:8080/"
    },
    "id": "hBGfT53vZDlK",
    "outputId": "3564e8e6-8258-43b5-c563-58d91e9f9b60"
   },
   "outputs": [
    {
     "name": "stdout",
     "output_type": "stream",
     "text": [
      "Drive already mounted at /content/drive; to attempt to forcibly remount, call drive.mount(\"/content/drive\", force_remount=True).\n"
     ]
    }
   ],
   "source": [
    "from google.colab import drive\n",
    "drive.mount('/content/drive')"
   ]
  },
  {
   "cell_type": "code",
   "execution_count": null,
   "metadata": {
    "id": "republican-principle"
   },
   "outputs": [],
   "source": [
    "import tensorflow as tf\n",
    "physical_devices = tf.config.list_physical_devices('GPU') \n",
    "tf.config.experimental.set_memory_growth(physical_devices[0], True)\n",
    "from tensorflow.keras.models import Sequential\n",
    "from tensorflow.keras.layers import Dense, LSTM, Reshape, Flatten\n",
    "import numpy as np\n",
    "import pandas as pd\n",
    "import matplotlib.pyplot as plt\n",
    "from tqdm import tqdm\n",
    "import warnings\n",
    "warnings.filterwarnings(\"ignore\")"
   ]
  },
  {
   "cell_type": "markdown",
   "metadata": {
    "id": "iraqi-musical"
   },
   "source": [
    "# 2. 데이터 가공"
   ]
  },
  {
   "cell_type": "markdown",
   "metadata": {
    "id": "preliminary-monitoring"
   },
   "source": [
    "## 2.1 read_csv"
   ]
  },
  {
   "cell_type": "code",
   "execution_count": null,
   "metadata": {
    "id": "medieval-retention"
   },
   "outputs": [],
   "source": [
    "data_path = '/content/drive/MyDrive/Dacon_Data/[DACON]Bit_Trader/data'\n",
    "train_x_df = pd.read_csv(data_path  + \"/train_x_df.csv\")\n",
    "train_y_df = pd.read_csv(data_path  + \"/train_y_df.csv\")\n",
    "test_x_df = pd.read_csv(data_path  + \"/test_x_df.csv\")"
   ]
  },
  {
   "cell_type": "markdown",
   "metadata": {
    "id": "billion-regular"
   },
   "source": [
    "## 2.2 numpy array로 변환"
   ]
  },
  {
   "cell_type": "code",
   "execution_count": null,
   "metadata": {
    "id": "christian-mason"
   },
   "outputs": [],
   "source": [
    "def df2d_to_array3d(df_2d):\n",
    "    # 입력 받은 2차원 데이터 프레임을 3차원 numpy array로 변경하는 함수\n",
    "    feature_size = df_2d.iloc[:,2:].shape[1]\n",
    "    time_size = len(df_2d.time.value_counts())\n",
    "    sample_size = len(df_2d.sample_id.value_counts())\n",
    "    array_3d = df_2d.iloc[:,2:].values.reshape([sample_size, time_size, feature_size])\n",
    "    return array_3d"
   ]
  },
  {
   "cell_type": "code",
   "execution_count": null,
   "metadata": {
    "id": "palestinian-french"
   },
   "outputs": [],
   "source": [
    "train_x_array = df2d_to_array3d(train_x_df)   #(7362, 1380, 10)\n",
    "train_y_array = df2d_to_array3d(train_y_df)   #(7362, 120, 10)\n",
    "test_x_array = df2d_to_array3d(test_x_df)     #(529, 1380, 10)"
   ]
  },
  {
   "cell_type": "markdown",
   "metadata": {
    "id": "meaning-richmond"
   },
   "source": [
    "# 3. 모델 훈련하기"
   ]
  },
  {
   "cell_type": "markdown",
   "metadata": {
    "id": "interested-pickup"
   },
   "source": [
    "## 3.2 validation set 훈련(sample_id: 0~529)"
   ]
  },
  {
   "cell_type": "markdown",
   "metadata": {
    "id": "finished-yesterday"
   },
   "source": [
    "### 3.2.1 validation 데이터 생성하기"
   ]
  },
  {
   "cell_type": "code",
   "execution_count": null,
   "metadata": {
    "id": "legendary-england"
   },
   "outputs": [],
   "source": [
    "# train 데이터 상단의 300개 샘플로 validation set를 구성하여 학습 및 추론\n",
    "valid_x_df = train_x_df#[train_x_df.sample_id < 529]\n",
    "valid_y_df = train_y_df#[train_y_df.sample_id < 529]\n",
    "\n",
    "valid_x_array = df2d_to_array3d(valid_x_df)\n",
    "valid_y_array = df2d_to_array3d(valid_y_df)\n",
    "valid_pred_array = np.zeros([len(valid_x_array), 120, 1])"
   ]
  },
  {
   "cell_type": "markdown",
   "metadata": {
    "id": "quR0Ib9z_HZq"
   },
   "source": [
    "![image.png](data:image/png;base64,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)"
   ]
  },
  {
   "cell_type": "markdown",
   "metadata": {
    "id": "Nz3YTnsQ_K1F"
   },
   "source": [
    "100개의 데이터가 있을 때 배치 크기가 1이면 모델은 1 에폭당 100번 훈련합니다. 배치 크기가 10이면 10번의 훈련, 배치 크기가 100이면 1번 훈련합니다."
   ]
  },
  {
   "cell_type": "markdown",
   "metadata": {
    "id": "GKanhzH3_NVS"
   },
   "source": [
    "#### Window 만들기"
   ]
  },
  {
   "cell_type": "code",
   "execution_count": null,
   "metadata": {
    "id": "qcViAI8oC4Ws"
   },
   "outputs": [],
   "source": [
    "#(7362, 1380, 10)\n",
    "#(7362, 120, 10)\n",
    "#(529, 1380, 10)"
   ]
  },
  {
   "cell_type": "code",
   "execution_count": null,
   "metadata": {
    "colab": {
     "base_uri": "https://localhost:8080/",
     "height": 257
    },
    "id": "grave-lighter",
    "outputId": "5b6500a5-b0cf-4beb-b188-e08f310a11c9",
    "scrolled": true,
    "tags": []
   },
   "outputs": [
    {
     "name": "stderr",
     "output_type": "stream",
     "text": [
      "  0%|          | 0/7362 [00:00<?, ?it/s]\n"
     ]
    },
    {
     "ename": "TypeError",
     "evalue": "ignored",
     "output_type": "error",
     "traceback": [
      "\u001b[0;31m---------------------------------------------------------------------------\u001b[0m",
      "\u001b[0;31mTypeError\u001b[0m                                 Traceback (most recent call last)",
      "\u001b[0;32m<ipython-input-25-9ebff93dd454>\u001b[0m in \u001b[0;36m<module>\u001b[0;34m()\u001b[0m\n\u001b[1;32m     11\u001b[0m \u001b[0;34m\u001b[0m\u001b[0m\n\u001b[1;32m     12\u001b[0m     \u001b[0;31m#train, test데이터 구성\u001b[0m\u001b[0;34m\u001b[0m\u001b[0;34m\u001b[0m\u001b[0;34m\u001b[0m\u001b[0m\n\u001b[0;32m---> 13\u001b[0;31m     \u001b[0mx_train\u001b[0m \u001b[0;34m=\u001b[0m \u001b[0mwindows\u001b[0m\u001b[0;34m[\u001b[0m\u001b[0;34m:\u001b[0m\u001b[0;34m,\u001b[0m\u001b[0;34m:\u001b[0m\u001b[0;34m-\u001b[0m\u001b[0;36m1\u001b[0m\u001b[0;34m]\u001b[0m\u001b[0;34m\u001b[0m\u001b[0;34m\u001b[0m\u001b[0m\n\u001b[0m\u001b[1;32m     14\u001b[0m     \u001b[0mx_train\u001b[0m \u001b[0;34m=\u001b[0m \u001b[0mnp\u001b[0m\u001b[0;34m.\u001b[0m\u001b[0mreshape\u001b[0m\u001b[0;34m[\u001b[0m\u001b[0mx_train\u001b[0m\u001b[0;34m,\u001b[0m \u001b[0;34m(\u001b[0m\u001b[0mx_train\u001b[0m\u001b[0;34m.\u001b[0m\u001b[0mshape\u001b[0m\u001b[0;34m[\u001b[0m\u001b[0;36m0\u001b[0m\u001b[0;34m]\u001b[0m\u001b[0;34m,\u001b[0m \u001b[0mx_train\u001b[0m\u001b[0;34m.\u001b[0m\u001b[0mshape\u001b[0m\u001b[0;34m[\u001b[0m\u001b[0;36m1\u001b[0m\u001b[0;34m]\u001b[0m\u001b[0;34m,\u001b[0m \u001b[0;36m1\u001b[0m\u001b[0;34m)\u001b[0m\u001b[0;34m]\u001b[0m\u001b[0;34m\u001b[0m\u001b[0;34m\u001b[0m\u001b[0m\n\u001b[1;32m     15\u001b[0m     \u001b[0my_train\u001b[0m \u001b[0;34m=\u001b[0m \u001b[0mwindows\u001b[0m\u001b[0;34m[\u001b[0m\u001b[0;34m:\u001b[0m\u001b[0;34m,\u001b[0m \u001b[0;34m-\u001b[0m\u001b[0;36m1\u001b[0m\u001b[0;34m]\u001b[0m\u001b[0;34m\u001b[0m\u001b[0;34m\u001b[0m\u001b[0m\n",
      "\u001b[0;31mTypeError\u001b[0m: list indices must be integers or slices, not tuple"
     ]
    }
   ],
   "source": [
    "test_pred_array = np.zeros([529, 120, 1])\n",
    "\n",
    "for idx in tqdm(range(valid_x_array.shape[0])):\n",
    "    #window 만들기\n",
    "    seq_len = 120 #window_size와 같은 개념\n",
    "    sequence_length = seq_len + 1\n",
    "\n",
    "    windows = []\n",
    "    for index in range(1380- sequence_length):\n",
    "      windows.append(valid_x_array[idx,:,1][index: index+ sequence_length])  #출력값은 open자료값으로 구성된 window들\n",
    "    \n",
    "    #train, test데이터 구성\n",
    "    x_train = windows[:,:-1]\n",
    "    x_train = np.reshape(x_train, (x_train.shape[0], x_train.shape[1], 1))\n",
    "    y_train = windows[:, -1]"
   ]
  },
  {
   "cell_type": "markdown",
   "metadata": {
    "id": "extended-escape"
   },
   "source": [
    "## 3.1 훈련 층 쌓기(모델 구성)"
   ]
  },
  {
   "cell_type": "code",
   "execution_count": null,
   "metadata": {
    "id": "iKBzbC3Eu4N6"
   },
   "outputs": [],
   "source": [
    "model = Sequential()\n",
    "model.add(LSTM(64, activation='relu', return_sequences=True, input_shape = [seq_len, 1])) #input_shape=(n_steps, n_features)\n",
    "model.add(Dense(240))\n",
    "model.add(Dense(1))\n",
    "model.add(Reshape([window_size,1]))"
   ]
  },
  {
   "cell_type": "code",
   "execution_count": null,
   "metadata": {
    "id": "innocent-figure"
   },
   "outputs": [],
   "source": [
    "model.compile(optimizer = 'adam', loss = 'mse', metrics = ['accuracy'])\n",
    "# from keras.callbacks import EarlyStopping\n",
    "# early_stopping = EarlyStopping(patience = 5)"
   ]
  },
  {
   "cell_type": "code",
   "execution_count": null,
   "metadata": {
    "id": "freelance-texture"
   },
   "outputs": [],
   "source": [
    "model.summary()"
   ]
  },
  {
   "cell_type": "markdown",
   "metadata": {
    "id": "594D-72Ni5PI"
   },
   "source": [
    "---"
   ]
  },
  {
   "cell_type": "markdown",
   "metadata": {
    "id": "XHZJjPSmE_ve"
   },
   "source": [
    "### 3.2.2 학습 및 test_x 예측하고 해당 내용 test_pred_array에 기록"
   ]
  },
  {
   "cell_type": "code",
   "execution_count": null,
   "metadata": {
    "id": "R6lSiuXXE-FI"
   },
   "outputs": [],
   "source": [
    "history = model.fit(x_train, y_train, epochs = 3, batch_size = window_size, verbose = 2) #epochs = 30, batch_size = 138이 깊은 학습을 하기에는 적당했음. #callbacks = [earlystopping]"
   ]
  },
  {
   "cell_type": "code",
   "execution_count": null,
   "metadata": {
    "id": "9RDm-40fFtJU"
   },
   "outputs": [],
   "source": [
    "#여기서 predict를 바로 해야 함?\n",
    "preds = model.predict()\n",
    "test_pred_array[idx,:] = preds"
   ]
  },
  {
   "cell_type": "code",
   "execution_count": null,
   "metadata": {
    "id": "northern-wrapping"
   },
   "outputs": [],
   "source": [
    "test_pred_array.shape"
   ]
  },
  {
   "cell_type": "markdown",
   "metadata": {
    "id": "ozqMlMloio22"
   },
   "source": [
    "# 3. 모델 저장 및 로드"
   ]
  },
  {
   "cell_type": "code",
   "execution_count": null,
   "metadata": {
    "id": "herbal-negative"
   },
   "outputs": [],
   "source": [
    "model.save('./drive/MyDrive/Dacon_Data/[DACON]Bit_Trader/my_model.h5')"
   ]
  },
  {
   "cell_type": "code",
   "execution_count": null,
   "metadata": {
    "id": "fixed-simple"
   },
   "outputs": [],
   "source": [
    "model = tf.keras.models.load_model('./drive/MyDrive/Dacon_Data/[DACON]Bit_Trader/my_model.h5')"
   ]
  },
  {
   "cell_type": "markdown",
   "metadata": {
    "id": "surrounded-think"
   },
   "source": [
    "# 4. 예측 기록을 바탕으로 투자 지침 표(submission)만들기"
   ]
  },
  {
   "cell_type": "code",
   "execution_count": null,
   "metadata": {
    "id": "grand-moses"
   },
   "outputs": [],
   "source": [
    "#train_pred_array 3차원에서 2차원으로 바꾸기\n",
    "\n",
    "new_pred_array = np.zeros([len(test_x_array), 120])\n",
    "\n",
    "for idx in tqdm(range(test_pred_array.shape[0])):\n",
    "    val_open = test_pred_array[idx, :, 0]\n",
    "    new_pred_array[idx, :] = val_open\n",
    "    new_pred_array"
   ]
  },
  {
   "cell_type": "code",
   "execution_count": null,
   "metadata": {
    "id": "missing-trinidad"
   },
   "outputs": [],
   "source": [
    "new_pred_array.shape"
   ]
  },
  {
   "cell_type": "markdown",
   "metadata": {
    "id": "aCgEroQXAaY0"
   },
   "source": [
    "## 4.1 매수 시점, 매수 비율 표 작성"
   ]
  },
  {
   "cell_type": "code",
   "execution_count": null,
   "metadata": {
    "id": "north-martin"
   },
   "outputs": [],
   "source": [
    "def array_to_submission(pred_array):\n",
    "\n",
    "    submission = pd.DataFrame(np.zeros([pred_array.shape[0],2], np.int64),\n",
    "                columns = ['buy_quantity', 'sell_time'])\n",
    "    submission = submission.reset_index()\n",
    "    submission.loc[:, 'buy_quantity'] = 0.1\n",
    "    \n",
    "    buy_price = []\n",
    "    for idx, sell_time in enumerate(np.argmax(pred_array, axis = 1)):\n",
    "        buy_price.append(pred_array[idx, sell_time])\n",
    "    buy_price = np.array(buy_price)\n",
    "    submission.loc[:, 'buy_quantity'] = (buy_price > 1.15) * 1\n",
    "    submission['sell_time'] = np.argmax(pred_array, axis = 1)\n",
    "    submission.columns = ['sample_id','buy_quantity', 'sell_time']\n",
    "    return submission"
   ]
  },
  {
   "cell_type": "code",
   "execution_count": null,
   "metadata": {
    "id": "classical-sacramento",
    "scrolled": true,
    "tags": []
   },
   "outputs": [],
   "source": [
    "valid_submission = array_to_submission(new_pred_array)\n",
    "valid_submission"
   ]
  },
  {
   "cell_type": "code",
   "execution_count": null,
   "metadata": {
    "id": "remarkable-reducing"
   },
   "outputs": [],
   "source": [
    "valid_submission.to_csv('./drive/MyDrive/Dacon_Data/[DACON]Bit_Trader/submission.csv', index = False)"
   ]
  },
  {
   "cell_type": "code",
   "execution_count": null,
   "metadata": {
    "id": "laden-consolidation"
   },
   "outputs": [],
   "source": [
    "# 전체 300가지 sample에 대해\n",
    "# _가지 case에서 x% 이상 상승한다고 추론함.\n",
    "valid_submission.buy_quantity.value_counts()"
   ]
  },
  {
   "cell_type": "markdown",
   "metadata": {
    "id": "ZQnxIamzPCcn"
   },
   "source": [
    "---"
   ]
  },
  {
   "cell_type": "markdown",
   "metadata": {
    "id": "challenging-adobe"
   },
   "source": [
    "# 모델 평가: 샘플에서 실제값과 예측값 비교"
   ]
  },
  {
   "cell_type": "code",
   "execution_count": null,
   "metadata": {
    "id": "fZ0mgtAJYPNK"
   },
   "outputs": [],
   "source": [
    "def plot_series(x_series, y_series):\n",
    "    #입력 series와 출력 series를 연속적으로 연결하여 시각적으로 보여주는 코드 입니다.\n",
    "    plt.plot(x_series, label = 'input_series')\n",
    "    plt.plot(np.arange(len(x_series), len(x_series)+len(y_series)),\n",
    "             y_series, label = 'output_series')\n",
    "    plt.axhline(1, c = 'red')\n",
    "    plt.legend()"
   ]
  },
  {
   "cell_type": "code",
   "execution_count": null,
   "metadata": {
    "id": "DPk9XuV8YPNO"
   },
   "outputs": [],
   "source": [
    "idx = 500\n",
    "# train data 중 sample_id idx에 해당하는 x_series로 모델을 학습한 후\n",
    "# y_sereis를 추론\n",
    "x_series = train_x_array[idx,:,1]\n",
    "y_series = train_y_array[idx,:,1]\n",
    "\n",
    "plot_series(x_series, y_series)\n",
    "plt.plot(np.arange(1380, 1380+120), test_pred_array[idx], label = 'prediction')\n",
    "plt.legend()\n",
    "plt.show()"
   ]
  },
  {
   "cell_type": "code",
   "execution_count": null,
   "metadata": {
    "id": "cGuLpXTTNfjc"
   },
   "outputs": [],
   "source": [
    "#test_y 예측하기 위한 자료인 test_x값 시각화\n",
    "plt.plot(test_x_array[idx,:,1])\n",
    "plt.plot(np.arange(1380, 1380+120), test_pred_array[idx], label = 'prediction')\n",
    "plt.legend()\n",
    "plt.show()"
   ]
  },
  {
   "cell_type": "markdown",
   "metadata": {
    "id": "tfv13tloO6Qa"
   },
   "source": [
    "train_x와 test_x의 값이 엄연히 다름에도 idx값이 늘어나며 학습이 진행됨에 따라 test_y 예측값이 train_y의 값과 너무 똑같이 정해진다. 학습이 과적합되는 듯? \\\n",
    "-> Sol1) lstm 모델에 dropoutlayer 추가해서 다시 학습해보자\\\n",
    "   Sol2) Windows 개념 적용"
   ]
  },
  {
   "cell_type": "markdown",
   "metadata": {
    "id": "kvFbjPM0o2uC"
   },
   "source": [
    "# 투자 후 금액 계산하기"
   ]
  },
  {
   "cell_type": "code",
   "execution_count": null,
   "metadata": {
    "id": "AI8BbDptosxK"
   },
   "outputs": [],
   "source": [
    "def df2d_to_answer(df_2d):\n",
    "    # valid_y_df로부터\n",
    "    # open 가격 정보가 포함된\n",
    "    # [샘플 수, 120분] 크기의 \n",
    "    # 2차원 array를 반환하는 함수\n",
    "    feature_size = df_2d.iloc[:,2:].shape[1]\n",
    "    time_size = len(df_2d.time.value_counts())\n",
    "    sample_size = len(df_2d.sample_id.value_counts())\n",
    "    sample_index = df_2d.sample_id.value_counts().index\n",
    "    array_2d = df_2d.open.values.reshape([sample_size, time_size])\n",
    "    sample_index = list(sample_index)\n",
    "    return array_2d, sample_index\n",
    "\n",
    "\n",
    "def COIN(y_df, submission, df2d_to_answer = df2d_to_answer):\n",
    "    # 2차원 데이터프레임에서 open 시점 데이터만 추출하여 array로 복원\n",
    "    # sample_id정보를 index에 저장\n",
    "    y_array, index = df2d_to_answer(y_df)\n",
    "    \n",
    "    # index 기준으로 submission을 다시 선택\n",
    "    submission = submission.set_index(submission.columns[0])\n",
    "    submission = submission.iloc[index, :]    \n",
    "    \n",
    "    # 초기 투자 비용은 10000 달러\n",
    "    total_momey      = 10000 # dolors\n",
    "    total_momey_list = []\n",
    "    \n",
    "    # 가장 처음 sample_id값\n",
    "    start_index = submission.index[0]\n",
    "    for row_idx in submission.index:\n",
    "        sell_time  = submission.loc[row_idx, 'sell_time']\n",
    "        buy_price  = y_array[row_idx - start_index, 0]\n",
    "        sell_price = y_array[row_idx - start_index, sell_time]\n",
    "        buy_quantity = submission.loc[row_idx, 'buy_quantity'] * total_momey\n",
    "        residual = total_momey - buy_quantity\n",
    "        ratio = sell_price / buy_price\n",
    "        total_momey = buy_quantity * ratio * 0.9995 * 0.9995 + residual        \n",
    "        total_momey_list.append(total_momey)\n",
    "        \n",
    "    return total_momey, total_momey_list"
   ]
  },
  {
   "cell_type": "code",
   "execution_count": null,
   "metadata": {
    "id": "pmf4Gw1-rMq5"
   },
   "outputs": [],
   "source": [
    "total_momey, total_momey_list = COIN(valid_y_df,\n",
    "                                     valid_submission)"
   ]
  },
  {
   "cell_type": "code",
   "execution_count": null,
   "metadata": {
    "id": "oDYl6uOxsThj"
   },
   "outputs": [],
   "source": [
    "# 투자 후 금액\n",
    "print(total_momey)"
   ]
  },
  {
   "cell_type": "code",
   "execution_count": null,
   "metadata": {
    "id": "uescXxjesV26"
   },
   "outputs": [],
   "source": [
    "# 투자 히스토리\n",
    "plt.plot(total_momey_list)\n",
    "plt.title(\"history\")\n",
    "plt.show()"
   ]
  },
  {
   "cell_type": "markdown",
   "metadata": {
    "id": "yt4DRVhqYQyZ"
   },
   "source": [
    "---"
   ]
  }
 ],
 "metadata": {
  "accelerator": "GPU",
  "colab": {
   "authorship_tag": "ABX9TyN/nyqEwnwn0XjlK6WkRmAI",
   "collapsed_sections": [],
   "include_colab_link": true,
   "mount_file_id": "1EY41gQ32ER-SyZ_J_rIHYs06Mb58EzdW",
   "name": "[Dacon]Bit_Trader_LSTM.ipynb",
   "provenance": [],
   "toc_visible": true
  },
  "kernelspec": {
   "display_name": "Python 3",
   "language": "python",
   "name": "python3"
  },
  "language_info": {
   "codemirror_mode": {
    "name": "ipython",
    "version": 3
   },
   "file_extension": ".py",
   "mimetype": "text/x-python",
   "name": "python",
   "nbconvert_exporter": "python",
   "pygments_lexer": "ipython3",
   "version": "3.7.10"
  }
 },
 "nbformat": 4,
 "nbformat_minor": 4
}
